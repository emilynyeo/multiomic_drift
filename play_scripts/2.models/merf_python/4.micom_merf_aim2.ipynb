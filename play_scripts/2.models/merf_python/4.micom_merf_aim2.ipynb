{
 "cells": [
  {
   "cell_type": "code",
   "execution_count": 1,
   "metadata": {},
   "outputs": [],
   "source": [
    "import pandas as pd\n",
    "import os\n",
    "import re\n",
    "import numpy as np\n",
    "from merf import MERF\n",
    "import matplotlib.pyplot as plt\n",
    "import seaborn as sns\n",
    "import itertools \n",
    "sns.set_context(\"poster\")\n",
    "from sklearn.ensemble import RandomForestRegressor\n",
    "import matplotlib as mpl\n",
    "mpl.rcParams['figure.figsize'] = (11,8)\n",
    "from merf.merf import MERF\n",
    "from sklearn.model_selection import train_test_split, KFold\n",
    "from merf.viz import plot_merf_training_stats\n",
    "from em_utils import *\n",
    "# Create output directory if it doesn't exist\n",
    "output_dir = \"/Users/emily/projects/research/Stanislawski/comps/mutli-omic-predictions/play_scripts/2.models/merf_python/merf_plots/4.micom\"\n",
    "df_dir = \"/Users/emily/projects/research/Stanislawski/comps/mutli-omic-predictions/play_scripts/2.models/merf_python/merf_dfs/4.micom\"\n",
    "os.makedirs(output_dir, exist_ok=True)"
   ]
  },
  {
   "cell_type": "code",
   "execution_count": 2,
   "metadata": {},
   "outputs": [
    {
     "name": "stdout",
     "output_type": "stream",
     "text": [
      "---------- Read data ----------\n",
      "---------- Read metadata ----------\n"
     ]
    }
   ],
   "source": [
    "print(\"---------- Read data ----------\")\n",
    "func_dir = \"/Users/emily/projects/research/Stanislawski/comps/mutli-omic-predictions/data/micom/aim2\"\n",
    "test = read_data(func_dir, \"flux_all_clr_testing.csv\")\n",
    "train = read_data(func_dir, \"flux_all_clr_training.csv\")\n",
    "\n",
    "print(\"---------- Read metadata ----------\")\n",
    "m1_dir = \"/Users/emily/projects/research/Stanislawski/comps/mutli-omic-predictions/data/clinical/transformed/aim2\"\n",
    "met_test = read_data(m1_dir, \"a2_test_samples_standard_clinical.csv\")\n",
    "met_train = read_data(m1_dir, \"a2_train_samples_standard_clinical.csv\")\n",
    "met_full = read_data(m1_dir, \"a2_meta_Transformed_standard_clinical.csv\")\n",
    "met_full_raw = read_data(m1_dir, \"a2_meta_not_Transformed_standard_clinical.csv\")"
   ]
  },
  {
   "cell_type": "code",
   "execution_count": 3,
   "metadata": {},
   "outputs": [
    {
     "name": "stdout",
     "output_type": "stream",
     "text": [
      "['Unnamed: 0', 'sample_id', 'proton', 'Diacetyl', 'Butyrate', 'Formate', 'acetone', 'X2.methylbutyrate', 'Valeric.Acid', 'Methane', 'X1.4.Dihydroxy.2.naphthoate', 'X2.Oxoglutarate', 'Pyruvate', 'D.lactate', 'L.lactate', 'laurate', 'Phenol', 'L.Carnitine', 'Isopropanol', 'p.Cresol', 'O2', 'X1.Propanol', 'butanol', 'Propanal', 'X4.hydroxyphenylacetate', 'X.S..propane.1.2.diol', 'Propane.1.3.diol', 'R_R__2_3_Butanediol', 'Oxaloacetate', 'sulfate', 'octadecenoate..n.C18.1.', 'o.Succinylbenzoate', 'Thymidine', 'Reduced.riboflavin', 'Riboflavin', 'X2.Hydroxyphenylacetate', 'Sulfite', 'thiosulfate.2..', 'X.3.4.dihydroxyphenyl.acetate', 'Diphosphate', 'trimethylamine', 'glycine.betaine', 'Choline', 'Trimethylamine.N.oxide', 'Isochorismate', 'Inosine', 'xanthosine', 'Hypoxanthine', 'Xanthine', 'uracil', 'Uridine', 'Methanethiol', 'keto.phenylpyruvate', 'D.Arabinose', 'D.Galactose', 'Nicotinate', 'chorismate', 'tetradecanoate..n.C14.0.', 'oxalate.2..', 'X.R..3.hydroxybutyrate', 'Hydrogen.peroxide', 'Hydrogen.sulfide', 'X4.hydroxybenzoate', 'Hexadecanoate..n.C16.0.', 'octadecanoate..n.C18.0.', 'D.Fructose', 'D.ribose', 'myo.inositol', 'D.Mannitol', 'Citrate', 'Menaquinone.8', 'Glycerol', 'D.Mannose', 'X2.Oxobutanoate', 'Fumarate', 'L.malate', 'X.R..Acetoin', 'formaldehyde', 'Ethanol', 'Acetoacetate', 'methanol', 'Acetaldehyde', 'X3.methyl.2.oxopentanoate', 'Isovalerate..3.Methylbutanoate', 'phenylacetate', 'Succinate', 'Isobutyrate..2.Methylpropanoate', 'Isocaproate', 'Water', 'Hydrogen', 'Propionate', 'Acetate', 'Carbon.dioxide', 'all_samples']\n",
      "['Unnamed: 0', 'sample_id', 'proton', 'Diacetyl', 'Butyrate', 'Formate', 'acetone', 'X2.methylbutyrate', 'Valeric.Acid', 'Methane', 'X1.4.Dihydroxy.2.naphthoate', 'X2.Oxoglutarate', 'Pyruvate', 'D.lactate', 'L.lactate', 'laurate', 'Phenol', 'L.Carnitine', 'Isopropanol', 'p.Cresol', 'O2', 'X1.Propanol', 'butanol', 'Propanal', 'X4.hydroxyphenylacetate', 'X.S..propane.1.2.diol', 'Propane.1.3.diol', 'R_R__2_3_Butanediol', 'Oxaloacetate', 'sulfate', 'octadecenoate..n.C18.1.', 'o.Succinylbenzoate', 'Thymidine', 'Reduced.riboflavin', 'Riboflavin', 'X2.Hydroxyphenylacetate', 'Sulfite', 'thiosulfate.2..', 'X.3.4.dihydroxyphenyl.acetate', 'Diphosphate', 'trimethylamine', 'glycine.betaine', 'Choline', 'Trimethylamine.N.oxide', 'Isochorismate', 'Inosine', 'xanthosine', 'Hypoxanthine', 'Xanthine', 'uracil', 'Uridine', 'Methanethiol', 'keto.phenylpyruvate', 'D.Arabinose', 'D.Galactose', 'Nicotinate', 'chorismate', 'tetradecanoate..n.C14.0.', 'oxalate.2..', 'X.R..3.hydroxybutyrate', 'Hydrogen.peroxide', 'Hydrogen.sulfide', 'X4.hydroxybenzoate', 'Hexadecanoate..n.C16.0.', 'octadecanoate..n.C18.0.', 'D.Fructose', 'D.ribose', 'myo.inositol', 'D.Mannitol', 'Citrate', 'Menaquinone.8', 'Glycerol', 'D.Mannose', 'X2.Oxobutanoate', 'Fumarate', 'L.malate', 'X.R..Acetoin', 'formaldehyde', 'Ethanol', 'Acetoacetate', 'methanol', 'Acetaldehyde', 'X3.methyl.2.oxopentanoate', 'Isovalerate..3.Methylbutanoate', 'phenylacetate', 'Succinate', 'Isobutyrate..2.Methylpropanoate', 'Isocaproate', 'Water', 'Hydrogen', 'Propionate', 'Acetate', 'Carbon.dioxide', 'all_samples']\n",
      "---------- Do test and train data have the same columns? ----------\n",
      "True\n",
      "True\n"
     ]
    }
   ],
   "source": [
    "print(test.columns.to_list())\n",
    "print(train.columns.to_list())\n",
    "print(\"---------- Do test and train data have the same columns? ----------\")\n",
    "print(test.columns.to_list() == train.columns.to_list())\n",
    "print(train.columns.to_list() == test.columns.to_list())"
   ]
  },
  {
   "cell_type": "code",
   "execution_count": 4,
   "metadata": {},
   "outputs": [
    {
     "name": "stdout",
     "output_type": "stream",
     "text": [
      "---------- WTF is the unnammed ----------\n",
      "0        1\n",
      "1        2\n",
      "2        3\n",
      "3        4\n",
      "4        5\n",
      "      ... \n",
      "282    283\n",
      "283    284\n",
      "284    285\n",
      "285    286\n",
      "286    287\n",
      "Name: Unnamed: 0, Length: 287, dtype: int64\n",
      "0      1\n",
      "1      2\n",
      "2      3\n",
      "3      4\n",
      "4      5\n",
      "      ..\n",
      "65    66\n",
      "66    67\n",
      "67    68\n",
      "68    69\n",
      "69    70\n",
      "Name: Unnamed: 0, Length: 70, dtype: int64\n",
      "---------- Sample _ IDs ----------\n",
      "0       EBE-130.BL\n",
      "1       BSA-174.BL\n",
      "2       TDU-086.BL\n",
      "3       LVA-017.BL\n",
      "4       VCA-041.BL\n",
      "          ...     \n",
      "282    QNG-166.12m\n",
      "283    NDI-067.12m\n",
      "284    TRO-113.12m\n",
      "285    SCA-043.12m\n",
      "286    NPO-149.12m\n",
      "Name: sample_id, Length: 287, dtype: object\n",
      "0      JPO-022.BL\n",
      "1      BHO-014.BL\n",
      "2      JJO-093.BL\n",
      "3      COW-066.BL\n",
      "4      NMO-151.BL\n",
      "         ...     \n",
      "65    WPE-005.12m\n",
      "66    CWA-161.12m\n",
      "67    BHO-014.12m\n",
      "68    FWI-098.12m\n",
      "69    AAL-144.12m\n",
      "Name: sample_id, Length: 70, dtype: object\n",
      "---------- All Samples ----------\n",
      "0      130\n",
      "1      174\n",
      "2       86\n",
      "3       17\n",
      "4       41\n",
      "      ... \n",
      "282    166\n",
      "283     67\n",
      "284    113\n",
      "285     43\n",
      "286    149\n",
      "Name: all_samples, Length: 287, dtype: int64\n",
      "0      22\n",
      "1      14\n",
      "2      93\n",
      "3      66\n",
      "4     151\n",
      "     ... \n",
      "65      5\n",
      "66    161\n",
      "67     14\n",
      "68     98\n",
      "69    144\n",
      "Name: all_samples, Length: 70, dtype: int64\n"
     ]
    }
   ],
   "source": [
    "print(\"---------- WTF is the unnammed ----------\")\n",
    "print(train['Unnamed: 0'])\n",
    "print(test['Unnamed: 0'])\n",
    "print(\"---------- Sample _ IDs ----------\")\n",
    "print(train['sample_id'])\n",
    "print(test['sample_id'])\n",
    "print(\"---------- All Samples ----------\")\n",
    "print(train['all_samples'])\n",
    "print(test['all_samples'])"
   ]
  },
  {
   "cell_type": "code",
   "execution_count": 5,
   "metadata": {},
   "outputs": [
    {
     "name": "stdout",
     "output_type": "stream",
     "text": [
      "---------- Split SampleID column into character_id and timepoint ---------\n"
     ]
    }
   ],
   "source": [
    "# Split X column into character_id and timepoint\n",
    "print(\"---------- Split SampleID column into character_id and timepoint ---------\")\n",
    "train[['character_id', 'timepoint']] = train['sample_id'].str.split('.', expand=True)\n",
    "test[['character_id', 'timepoint']] = test['sample_id'].str.split('.', expand=True)\n",
    "\n",
    "test['time'] = test['timepoint'].replace(['BL', '12m', '6m'], ['0', '12', '6'])\n",
    "test = test[~test['time'].isin(['3m', '18m'])]\n",
    "test['x_t'] = test['character_id'].astype(str) + '.' + test['time'].astype(str)\n",
    "\n",
    "train['time'] = train['timepoint'].replace(['BL', '12m', '6m'], ['0', '12', '6'])\n",
    "train = train[~train['time'].isin(['3m', '18m'])]\n",
    "train['x_t'] = train['character_id'].astype(str) + '.' + train['time'].astype(str)"
   ]
  },
  {
   "cell_type": "code",
   "execution_count": 6,
   "metadata": {},
   "outputs": [
    {
     "name": "stdout",
     "output_type": "stream",
     "text": [
      "---------- Convert metadata to long format ----------\n"
     ]
    }
   ],
   "source": [
    "# Apply the function to each meta dataset\n",
    "print(\"---------- Convert metadata to long format ----------\")\n",
    "met_full_long = make_long(met_full_raw)\n",
    "met_full_long['x_t'] = met_full_long['subject_id'].astype(str) + '.' + met_full_long['time'].astype(str)\n",
    "\n",
    "met_train_long = make_long(met_train)\n",
    "met_train_long['x_t'] = met_train_long['subject_id'].astype(str) + '.' + met_train_long['time'].astype(str)\n",
    "\n",
    "met_test_long = make_long(met_test)\n",
    "met_test_long['x_t'] = met_test_long['subject_id'].astype(str) + '.' + met_test_long['time'].astype(str)"
   ]
  },
  {
   "cell_type": "code",
   "execution_count": 7,
   "metadata": {},
   "outputs": [
    {
     "name": "stdout",
     "output_type": "stream",
     "text": [
      "---------- Select and prepare metadata for merging ----------\n",
      "full_meta shape =  (361, 2)\n",
      "---------- Merge training data ----------\n",
      "train_micom shape =  (259, 96)\n",
      "full_train_micom shape =  (259, 99)\n",
      "---------- Merge testing data ----------\n",
      "test_micom shape =  (63, 96)\n",
      "full_test_micom shape =  (63, 99)\n"
     ]
    }
   ],
   "source": [
    "print(\"---------- Select and prepare metadata for merging ----------\")\n",
    "met_full_long = met_full_long[['x_t', 'outcome_BMI_fnl']]\n",
    "met_test_long = met_test_long[['x_t', 'outcome_BMI_fnl']]\n",
    "met_train_long = met_train_long[['x_t', 'outcome_BMI_fnl']]\n",
    "print(\"full_meta shape = \", met_full_long.shape)\n",
    "\n",
    "print(\"---------- Merge training data ----------\")\n",
    "full_train_micom = train.merge(met_full_long, on='x_t', how='inner')\n",
    "train_micom = train.merge(met_train_long, on='x_t')\n",
    "train_micom = train_micom.drop(['x_t', 'character_id', 'timepoint'], axis=1)\n",
    "print(\"train_micom shape = \", train_micom.shape)\n",
    "print(\"full_train_micom shape = \", full_train_micom.shape)\n",
    "\n",
    "print(\"---------- Merge testing data ----------\")\n",
    "full_test_micom = test.merge(met_full_long, on='x_t', how='inner')\n",
    "test_micom = test.merge(met_test_long, on='x_t')\n",
    "test_micom = test_micom.drop(['x_t', 'character_id', 'timepoint'], axis=1)\n",
    "print(\"test_micom shape = \", test_micom.shape)\n",
    "print(\"full_test_micom shape = \", full_test_micom.shape)"
   ]
  },
  {
   "cell_type": "code",
   "execution_count": 8,
   "metadata": {},
   "outputs": [],
   "source": [
    "test_micom_no_na = test_micom.dropna()\n",
    "train_micom_no_na = train_micom.dropna()\n",
    "full_train_micom = full_train_micom.dropna()\n",
    "full_test_micom = full_test_micom.dropna()"
   ]
  },
  {
   "cell_type": "code",
   "execution_count": 9,
   "metadata": {},
   "outputs": [],
   "source": [
    "data_dir = \"/Users/emily/projects/research/Stanislawski/comps/mutli-omic-predictions/data/micom/aim2/\"\n",
    "test_micom_no_na.to_csv(os.path.join(data_dir, 'test_micom_no_na.csv'), index=False)  # Save test_tax_no_na\n",
    "train_micom_no_na.to_csv(os.path.join(data_dir, 'train_micom_no_na.csv'), index=False)  # Save train_tax_no_na\n",
    "full_train_micom.to_csv(os.path.join(data_dir, 'full_train_micom.csv'), index=False)  # Save full_train_tax\n",
    "full_test_micom.to_csv(os.path.join(data_dir, 'full_test_micom.csv'), index=False) "
   ]
  },
  {
   "cell_type": "code",
   "execution_count": 10,
   "metadata": {},
   "outputs": [
    {
     "name": "stdout",
     "output_type": "stream",
     "text": [
      "Columns full : ['Unnamed: 0', 'sample_id', 'proton', 'Diacetyl', 'Butyrate', 'Formate', 'acetone', 'X2.methylbutyrate', 'Valeric.Acid', 'Methane', 'X1.4.Dihydroxy.2.naphthoate', 'X2.Oxoglutarate', 'Pyruvate', 'D.lactate', 'L.lactate', 'laurate', 'Phenol', 'L.Carnitine', 'Isopropanol', 'p.Cresol', 'O2', 'X1.Propanol', 'butanol', 'Propanal', 'X4.hydroxyphenylacetate', 'X.S..propane.1.2.diol', 'Propane.1.3.diol', 'R_R__2_3_Butanediol', 'Oxaloacetate', 'sulfate', 'octadecenoate..n.C18.1.', 'o.Succinylbenzoate', 'Thymidine', 'Reduced.riboflavin', 'Riboflavin', 'X2.Hydroxyphenylacetate', 'Sulfite', 'thiosulfate.2..', 'X.3.4.dihydroxyphenyl.acetate', 'Diphosphate', 'trimethylamine', 'glycine.betaine', 'Choline', 'Trimethylamine.N.oxide', 'Isochorismate', 'Inosine', 'xanthosine', 'Hypoxanthine', 'Xanthine', 'uracil', 'Uridine', 'Methanethiol', 'keto.phenylpyruvate', 'D.Arabinose', 'D.Galactose', 'Nicotinate', 'chorismate', 'tetradecanoate..n.C14.0.', 'oxalate.2..', 'X.R..3.hydroxybutyrate', 'Hydrogen.peroxide', 'Hydrogen.sulfide', 'X4.hydroxybenzoate', 'Hexadecanoate..n.C16.0.', 'octadecanoate..n.C18.0.', 'D.Fructose', 'D.ribose', 'myo.inositol', 'D.Mannitol', 'Citrate', 'Menaquinone.8', 'Glycerol', 'D.Mannose', 'X2.Oxobutanoate', 'Fumarate', 'L.malate', 'X.R..Acetoin', 'formaldehyde', 'Ethanol', 'Acetoacetate', 'methanol', 'Acetaldehyde', 'X3.methyl.2.oxopentanoate', 'Isovalerate..3.Methylbutanoate', 'phenylacetate', 'Succinate', 'Isobutyrate..2.Methylpropanoate', 'Isocaproate', 'Water', 'Hydrogen', 'Propionate', 'Acetate', 'Carbon.dioxide', 'all_samples', 'character_id', 'timepoint', 'time', 'x_t', 'outcome_BMI_fnl']\n"
     ]
    }
   ],
   "source": [
    "print(\"Columns full :\", full_train_micom.columns.to_list())"
   ]
  },
  {
   "cell_type": "code",
   "execution_count": 11,
   "metadata": {},
   "outputs": [
    {
     "name": "stdout",
     "output_type": "stream",
     "text": [
      "---------- Select predictors for training set ----------\n"
     ]
    }
   ],
   "source": [
    "print(\"---------- Select predictors for training set ----------\")\n",
    "train_set = full_train_micom\n",
    "X = train_set.drop(['Unnamed: 0', 'sample_id','all_samples', 'character_id', 'timepoint', 'time', 'x_t', 'outcome_BMI_fnl'], axis=1)\n",
    "#X = X.drop(columns=['Unnamed: 0_tax', 'x_t'], errors='ignore')\n",
    "Y = train_set[['outcome_BMI_fnl']]\n",
    "Y = Y['outcome_BMI_fnl'].to_numpy() # Convert Y to numeric array\n",
    "clusters_train = train_set['all_samples'].to_numpy() # Get ID variables\n",
    "Z = np.ones((train_set.shape[0], 1)) # Create random effects matrix with ones"
   ]
  },
  {
   "cell_type": "code",
   "execution_count": 12,
   "metadata": {},
   "outputs": [
    {
     "name": "stdout",
     "output_type": "stream",
     "text": [
      "---------- Select predictors for test set ----------\n"
     ]
    }
   ],
   "source": [
    "print(\"---------- Select predictors for test set ----------\")\n",
    "test_set = full_test_micom\n",
    "X_new = test_set.drop(['Unnamed: 0', 'sample_id','all_samples', 'character_id', 'timepoint', 'time', 'x_t', 'outcome_BMI_fnl'], axis=1)\n",
    "X_new = X_new[X.columns]  # Reorder and select columns to match training set\n",
    "X_new = X_new.astype(X.dtypes)  # Ensure data types match\n",
    "X_new = X_new.drop(columns=['Unnamed: 0_tax', 'x_t'], errors='ignore')\n",
    "X_new = X_new.drop(columns=['Unnamed: 0', 'character_id', 'timepoint'], errors='ignore')\n",
    "Y_new = test_set['outcome_BMI_fnl'].to_numpy()  # Convert Y to numeric array\n",
    "clusters_new = pd.Series(test_set['all_samples'])  # Convert to pandas Series\n",
    "# Create random effects matrix with ones\n",
    "Z_new = np.ones((len(X_new), 1))"
   ]
  },
  {
   "cell_type": "code",
   "execution_count": 13,
   "metadata": {},
   "outputs": [],
   "source": [
    "# Hyperparameters to tune\n",
    "param_grid = {\n",
    "    'n_estimators': [100, 500, 1000],\n",
    "    'max_depth': [None],\n",
    "    'min_samples_split': [0.05, 0.1, 0.15],\n",
    "    'max_iter': [2, 10],\n",
    "    'n_splits': [3, 5, 10]  # Added n_splits for cross-validation\n",
    "}"
   ]
  },
  {
   "cell_type": "markdown",
   "metadata": {},
   "source": [
    "# Run the tuning Loop "
   ]
  },
  {
   "cell_type": "code",
   "execution_count": 14,
   "metadata": {},
   "outputs": [
    {
     "name": "stdout",
     "output_type": "stream",
     "text": [
      "Combination: (100, None, 0.05, 2, 3)\n",
      "\n"
     ]
    },
    {
     "name": "stderr",
     "output_type": "stream",
     "text": [
      "INFO     [merf.py:307] Training GLL is 313.7721383614944 at iteration 1.\n",
      "INFO     [merf.py:307] Training GLL is 354.7796947554609 at iteration 2.\n"
     ]
    },
    {
     "name": "stdout",
     "output_type": "stream",
     "text": [
      "Combination, ptev: 0.4871, prev: 0.5129, OOB Score: 16.4000\n"
     ]
    },
    {
     "name": "stderr",
     "output_type": "stream",
     "text": [
      "INFO     [merf.py:307] Training GLL is 389.9058939932922 at iteration 1.\n",
      "INFO     [merf.py:307] Training GLL is 464.2335925448569 at iteration 2.\n"
     ]
    },
    {
     "name": "stdout",
     "output_type": "stream",
     "text": [
      "Combination, ptev: 0.5801, prev: 0.4199, OOB Score: 3.3000\n"
     ]
    },
    {
     "name": "stderr",
     "output_type": "stream",
     "text": [
      "INFO     [merf.py:307] Training GLL is 347.1804564107373 at iteration 1.\n",
      "INFO     [merf.py:307] Training GLL is 434.6290888363845 at iteration 2.\n"
     ]
    },
    {
     "name": "stdout",
     "output_type": "stream",
     "text": [
      "Combination, ptev: 0.5620, prev: 0.4380, OOB Score: 14.4000\n",
      "Combination: (100, None, 0.05, 2, 5)\n",
      "\n"
     ]
    },
    {
     "name": "stderr",
     "output_type": "stream",
     "text": [
      "INFO     [merf.py:307] Training GLL is 434.86767914069634 at iteration 1.\n",
      "INFO     [merf.py:307] Training GLL is 481.1951811318644 at iteration 2.\n"
     ]
    },
    {
     "name": "stdout",
     "output_type": "stream",
     "text": [
      "Combination, ptev: 0.4600, prev: 0.5400, OOB Score: 18.3000\n"
     ]
    },
    {
     "name": "stderr",
     "output_type": "stream",
     "text": [
      "INFO     [merf.py:307] Training GLL is 417.8917230470548 at iteration 1.\n",
      "INFO     [merf.py:307] Training GLL is 469.6481023352515 at iteration 2.\n"
     ]
    },
    {
     "name": "stdout",
     "output_type": "stream",
     "text": [
      "Combination, ptev: 0.4807, prev: 0.5193, OOB Score: 9.7000\n"
     ]
    },
    {
     "name": "stderr",
     "output_type": "stream",
     "text": [
      "INFO     [merf.py:307] Training GLL is 481.95696389140613 at iteration 1.\n",
      "INFO     [merf.py:307] Training GLL is 549.0918922697989 at iteration 2.\n"
     ]
    },
    {
     "name": "stdout",
     "output_type": "stream",
     "text": [
      "Combination, ptev: 0.5473, prev: 0.4527, OOB Score: 3.7000\n"
     ]
    },
    {
     "name": "stderr",
     "output_type": "stream",
     "text": [
      "INFO     [merf.py:307] Training GLL is 426.6884224128685 at iteration 1.\n",
      "INFO     [merf.py:307] Training GLL is 497.37197954681557 at iteration 2.\n"
     ]
    },
    {
     "name": "stdout",
     "output_type": "stream",
     "text": [
      "Combination, ptev: 0.5135, prev: 0.4865, OOB Score: 14.0000\n"
     ]
    },
    {
     "name": "stderr",
     "output_type": "stream",
     "text": [
      "INFO     [merf.py:307] Training GLL is 456.8422176174613 at iteration 1.\n",
      "INFO     [merf.py:307] Training GLL is 523.2740052708134 at iteration 2.\n"
     ]
    },
    {
     "name": "stdout",
     "output_type": "stream",
     "text": [
      "Combination, ptev: 0.5332, prev: 0.4668, OOB Score: 15.2000\n",
      "Combination: (100, None, 0.05, 2, 10)\n",
      "\n"
     ]
    },
    {
     "name": "stderr",
     "output_type": "stream",
     "text": [
      "INFO     [merf.py:307] Training GLL is 490.9727435852922 at iteration 1.\n",
      "INFO     [merf.py:307] Training GLL is 541.1174730448912 at iteration 2.\n"
     ]
    },
    {
     "name": "stdout",
     "output_type": "stream",
     "text": [
      "Combination, ptev: 0.3285, prev: 0.6715, OOB Score: 16.6000\n"
     ]
    },
    {
     "name": "stderr",
     "output_type": "stream",
     "text": [
      "INFO     [merf.py:307] Training GLL is 497.58586175832227 at iteration 1.\n",
      "INFO     [merf.py:307] Training GLL is 556.1318685258202 at iteration 2.\n"
     ]
    },
    {
     "name": "stdout",
     "output_type": "stream",
     "text": [
      "Combination, ptev: 0.4646, prev: 0.5354, OOB Score: 11.9000\n"
     ]
    },
    {
     "name": "stderr",
     "output_type": "stream",
     "text": [
      "INFO     [merf.py:307] Training GLL is 482.15579418397215 at iteration 1.\n",
      "INFO     [merf.py:307] Training GLL is 523.6596646789291 at iteration 2.\n"
     ]
    },
    {
     "name": "stdout",
     "output_type": "stream",
     "text": [
      "Combination, ptev: 0.5252, prev: 0.4748, OOB Score: 13.4000\n"
     ]
    },
    {
     "name": "stderr",
     "output_type": "stream",
     "text": [
      "INFO     [merf.py:307] Training GLL is 503.3388116480922 at iteration 1.\n",
      "INFO     [merf.py:307] Training GLL is 555.5507193479023 at iteration 2.\n"
     ]
    },
    {
     "name": "stdout",
     "output_type": "stream",
     "text": [
      "Combination, ptev: 0.5217, prev: 0.4783, OOB Score: 13.0000\n"
     ]
    },
    {
     "name": "stderr",
     "output_type": "stream",
     "text": [
      "INFO     [merf.py:307] Training GLL is 508.3283125625916 at iteration 1.\n",
      "INFO     [merf.py:307] Training GLL is 570.3403684442555 at iteration 2.\n"
     ]
    },
    {
     "name": "stdout",
     "output_type": "stream",
     "text": [
      "Combination, ptev: 0.5505, prev: 0.4495, OOB Score: 10.9000\n"
     ]
    },
    {
     "name": "stderr",
     "output_type": "stream",
     "text": [
      "INFO     [merf.py:307] Training GLL is 512.1818328787249 at iteration 1.\n",
      "INFO     [merf.py:307] Training GLL is 567.5138175608072 at iteration 2.\n"
     ]
    },
    {
     "name": "stdout",
     "output_type": "stream",
     "text": [
      "Combination, ptev: 0.5814, prev: 0.4186, OOB Score: 11.0000\n"
     ]
    },
    {
     "name": "stderr",
     "output_type": "stream",
     "text": [
      "INFO     [merf.py:307] Training GLL is 497.7601671619275 at iteration 1.\n",
      "INFO     [merf.py:307] Training GLL is 558.9320407711256 at iteration 2.\n"
     ]
    },
    {
     "name": "stdout",
     "output_type": "stream",
     "text": [
      "Combination, ptev: 0.5745, prev: 0.4255, OOB Score: 14.1000\n"
     ]
    },
    {
     "name": "stderr",
     "output_type": "stream",
     "text": [
      "INFO     [merf.py:307] Training GLL is 494.31832723954864 at iteration 1.\n",
      "INFO     [merf.py:307] Training GLL is 548.9069336249381 at iteration 2.\n"
     ]
    },
    {
     "name": "stdout",
     "output_type": "stream",
     "text": [
      "Combination, ptev: 0.5788, prev: 0.4212, OOB Score: 12.6000\n"
     ]
    },
    {
     "name": "stderr",
     "output_type": "stream",
     "text": [
      "INFO     [merf.py:307] Training GLL is 491.5220930761173 at iteration 1.\n",
      "INFO     [merf.py:307] Training GLL is 556.245330469787 at iteration 2.\n"
     ]
    },
    {
     "name": "stdout",
     "output_type": "stream",
     "text": [
      "Combination, ptev: 0.5755, prev: 0.4245, OOB Score: 13.9000\n"
     ]
    },
    {
     "name": "stderr",
     "output_type": "stream",
     "text": [
      "INFO     [merf.py:307] Training GLL is 510.25534698125205 at iteration 1.\n",
      "INFO     [merf.py:307] Training GLL is 563.6116186945696 at iteration 2.\n"
     ]
    },
    {
     "name": "stdout",
     "output_type": "stream",
     "text": [
      "Combination, ptev: 0.5843, prev: 0.4157, OOB Score: 14.1000\n",
      "Combination: (100, None, 0.05, 10, 3)\n",
      "\n"
     ]
    },
    {
     "name": "stderr",
     "output_type": "stream",
     "text": [
      "INFO     [merf.py:307] Training GLL is 308.7331651176444 at iteration 1.\n",
      "INFO     [merf.py:307] Training GLL is 351.94070733764835 at iteration 2.\n",
      "INFO     [merf.py:307] Training GLL is 337.0815171269485 at iteration 3.\n",
      "INFO     [merf.py:307] Training GLL is 312.7359317369456 at iteration 4.\n",
      "INFO     [merf.py:307] Training GLL is 297.9275002035166 at iteration 5.\n",
      "INFO     [merf.py:307] Training GLL is 276.4150786873499 at iteration 6.\n",
      "INFO     [merf.py:307] Training GLL is 253.47698928498392 at iteration 7.\n",
      "INFO     [merf.py:307] Training GLL is 257.06432857766 at iteration 8.\n",
      "INFO     [merf.py:307] Training GLL is 235.6667115368002 at iteration 9.\n",
      "INFO     [merf.py:307] Training GLL is 233.11557094537326 at iteration 10.\n"
     ]
    },
    {
     "name": "stdout",
     "output_type": "stream",
     "text": [
      "Combination, ptev: 0.6973, prev: 0.3027, OOB Score: 29.3000\n"
     ]
    },
    {
     "name": "stderr",
     "output_type": "stream",
     "text": [
      "INFO     [merf.py:307] Training GLL is 405.8119735825099 at iteration 1.\n",
      "INFO     [merf.py:307] Training GLL is 472.0406785734027 at iteration 2.\n",
      "INFO     [merf.py:307] Training GLL is 481.8097479403946 at iteration 3.\n",
      "INFO     [merf.py:307] Training GLL is 495.8760743039724 at iteration 4.\n",
      "INFO     [merf.py:307] Training GLL is 495.0148611216209 at iteration 5.\n",
      "INFO     [merf.py:307] Training GLL is 504.1570935193808 at iteration 6.\n",
      "INFO     [merf.py:307] Training GLL is 495.4186291104118 at iteration 7.\n",
      "INFO     [merf.py:307] Training GLL is 493.3584015092731 at iteration 8.\n",
      "INFO     [merf.py:307] Training GLL is 482.4700191455412 at iteration 9.\n",
      "INFO     [merf.py:307] Training GLL is 481.41674728589413 at iteration 10.\n"
     ]
    },
    {
     "name": "stdout",
     "output_type": "stream",
     "text": [
      "Combination, ptev: 0.7730, prev: 0.2270, OOB Score: 24.6000\n"
     ]
    },
    {
     "name": "stderr",
     "output_type": "stream",
     "text": [
      "INFO     [merf.py:307] Training GLL is 355.4828951556375 at iteration 1.\n",
      "INFO     [merf.py:307] Training GLL is 423.4480148855602 at iteration 2.\n",
      "INFO     [merf.py:307] Training GLL is 447.9418798738535 at iteration 3.\n",
      "INFO     [merf.py:307] Training GLL is 454.4176982502485 at iteration 4.\n",
      "INFO     [merf.py:307] Training GLL is 460.992586118673 at iteration 5.\n",
      "INFO     [merf.py:307] Training GLL is 456.8248034083653 at iteration 6.\n",
      "INFO     [merf.py:307] Training GLL is 461.3224132627666 at iteration 7.\n",
      "INFO     [merf.py:307] Training GLL is 467.89323191652056 at iteration 8.\n",
      "INFO     [merf.py:307] Training GLL is 469.14946874410515 at iteration 9.\n",
      "INFO     [merf.py:307] Training GLL is 468.9518189585901 at iteration 10.\n"
     ]
    },
    {
     "name": "stdout",
     "output_type": "stream",
     "text": [
      "Combination, ptev: 0.7707, prev: 0.2293, OOB Score: 24.6000\n",
      "Combination: (100, None, 0.05, 10, 5)\n",
      "\n"
     ]
    },
    {
     "name": "stderr",
     "output_type": "stream",
     "text": [
      "INFO     [merf.py:307] Training GLL is 431.9973733846918 at iteration 1.\n",
      "INFO     [merf.py:307] Training GLL is 484.1041551930486 at iteration 2.\n",
      "INFO     [merf.py:307] Training GLL is 481.8906807366096 at iteration 3.\n",
      "INFO     [merf.py:307] Training GLL is 461.212233199569 at iteration 4.\n",
      "INFO     [merf.py:307] Training GLL is 456.43810419847654 at iteration 5.\n",
      "INFO     [merf.py:307] Training GLL is 450.55362607291045 at iteration 6.\n",
      "INFO     [merf.py:307] Training GLL is 439.1358396842915 at iteration 7.\n",
      "INFO     [merf.py:307] Training GLL is 435.5252249204128 at iteration 8.\n",
      "INFO     [merf.py:307] Training GLL is 427.6753382533989 at iteration 9.\n",
      "INFO     [merf.py:307] Training GLL is 422.3945834348117 at iteration 10.\n"
     ]
    },
    {
     "name": "stdout",
     "output_type": "stream",
     "text": [
      "Combination, ptev: 0.6487, prev: 0.3513, OOB Score: 25.2000\n"
     ]
    },
    {
     "name": "stderr",
     "output_type": "stream",
     "text": [
      "INFO     [merf.py:307] Training GLL is 416.28303939705745 at iteration 1.\n",
      "INFO     [merf.py:307] Training GLL is 473.61242081087437 at iteration 2.\n",
      "INFO     [merf.py:307] Training GLL is 465.10734912382486 at iteration 3.\n",
      "INFO     [merf.py:307] Training GLL is 458.88852572698664 at iteration 4.\n",
      "INFO     [merf.py:307] Training GLL is 443.78480483926563 at iteration 5.\n",
      "INFO     [merf.py:307] Training GLL is 441.1519594139705 at iteration 6.\n",
      "INFO     [merf.py:307] Training GLL is 439.8810258676317 at iteration 7.\n",
      "INFO     [merf.py:307] Training GLL is 428.3770546285415 at iteration 8.\n",
      "INFO     [merf.py:307] Training GLL is 423.37078831889045 at iteration 9.\n",
      "INFO     [merf.py:307] Training GLL is 428.4161462737586 at iteration 10.\n"
     ]
    },
    {
     "name": "stdout",
     "output_type": "stream",
     "text": [
      "Combination, ptev: 0.6398, prev: 0.3602, OOB Score: 27.8000\n"
     ]
    },
    {
     "name": "stderr",
     "output_type": "stream",
     "text": [
      "INFO     [merf.py:307] Training GLL is 459.2332202756909 at iteration 1.\n",
      "INFO     [merf.py:307] Training GLL is 531.5707393615156 at iteration 2.\n",
      "INFO     [merf.py:307] Training GLL is 547.3566387142107 at iteration 3.\n",
      "INFO     [merf.py:307] Training GLL is 549.6250556152546 at iteration 4.\n",
      "INFO     [merf.py:307] Training GLL is 544.5449337637123 at iteration 5.\n",
      "INFO     [merf.py:307] Training GLL is 546.1423486996837 at iteration 6.\n",
      "INFO     [merf.py:307] Training GLL is 545.0353983610374 at iteration 7.\n",
      "INFO     [merf.py:307] Training GLL is 542.8232338678753 at iteration 8.\n",
      "INFO     [merf.py:307] Training GLL is 538.9778712979721 at iteration 9.\n",
      "INFO     [merf.py:307] Training GLL is 540.4624227462596 at iteration 10.\n"
     ]
    },
    {
     "name": "stdout",
     "output_type": "stream",
     "text": [
      "Combination, ptev: 0.7308, prev: 0.2692, OOB Score: 21.6000\n"
     ]
    },
    {
     "name": "stderr",
     "output_type": "stream",
     "text": [
      "INFO     [merf.py:307] Training GLL is 419.09468587064106 at iteration 1.\n",
      "INFO     [merf.py:307] Training GLL is 497.79527390579506 at iteration 2.\n",
      "INFO     [merf.py:307] Training GLL is 505.6697702789562 at iteration 3.\n",
      "INFO     [merf.py:307] Training GLL is 504.5677733188787 at iteration 4.\n",
      "INFO     [merf.py:307] Training GLL is 500.05488597166004 at iteration 5.\n",
      "INFO     [merf.py:307] Training GLL is 506.6366971570181 at iteration 6.\n",
      "INFO     [merf.py:307] Training GLL is 501.4860015370797 at iteration 7.\n",
      "INFO     [merf.py:307] Training GLL is 490.94912741458154 at iteration 8.\n",
      "INFO     [merf.py:307] Training GLL is 490.68349889110453 at iteration 9.\n",
      "INFO     [merf.py:307] Training GLL is 492.90328518733975 at iteration 10.\n"
     ]
    },
    {
     "name": "stdout",
     "output_type": "stream",
     "text": [
      "Combination, ptev: 0.7178, prev: 0.2822, OOB Score: 20.4000\n"
     ]
    },
    {
     "name": "stderr",
     "output_type": "stream",
     "text": [
      "INFO     [merf.py:307] Training GLL is 444.0864598534478 at iteration 1.\n",
      "INFO     [merf.py:307] Training GLL is 514.1277885772931 at iteration 2.\n",
      "INFO     [merf.py:307] Training GLL is 519.9425917433914 at iteration 3.\n",
      "INFO     [merf.py:307] Training GLL is 518.8805484326185 at iteration 4.\n",
      "INFO     [merf.py:307] Training GLL is 529.4440856970949 at iteration 5.\n",
      "INFO     [merf.py:307] Training GLL is 526.4838186211042 at iteration 6.\n",
      "INFO     [merf.py:307] Training GLL is 531.7603464547192 at iteration 7.\n",
      "INFO     [merf.py:307] Training GLL is 516.9003192283074 at iteration 8.\n",
      "INFO     [merf.py:307] Training GLL is 514.0986933371375 at iteration 9.\n",
      "INFO     [merf.py:307] Training GLL is 518.3310944409368 at iteration 10.\n"
     ]
    },
    {
     "name": "stdout",
     "output_type": "stream",
     "text": [
      "Combination, ptev: 0.7367, prev: 0.2633, OOB Score: 27.8000\n",
      "Combination: (100, None, 0.05, 10, 10)\n",
      "\n"
     ]
    },
    {
     "name": "stderr",
     "output_type": "stream",
     "text": [
      "INFO     [merf.py:307] Training GLL is 481.22569403253846 at iteration 1.\n",
      "INFO     [merf.py:307] Training GLL is 534.960418679338 at iteration 2.\n",
      "INFO     [merf.py:307] Training GLL is 525.7857246822168 at iteration 3.\n",
      "INFO     [merf.py:307] Training GLL is 521.4835032041385 at iteration 4.\n",
      "INFO     [merf.py:307] Training GLL is 518.3819791995586 at iteration 5.\n",
      "INFO     [merf.py:307] Training GLL is 511.01121798643777 at iteration 6.\n",
      "INFO     [merf.py:307] Training GLL is 499.41733473771654 at iteration 7.\n",
      "INFO     [merf.py:307] Training GLL is 509.3625302604813 at iteration 8.\n",
      "INFO     [merf.py:307] Training GLL is 509.31121293244 at iteration 9.\n",
      "INFO     [merf.py:307] Training GLL is 499.56998789587374 at iteration 10.\n"
     ]
    },
    {
     "name": "stdout",
     "output_type": "stream",
     "text": [
      "Combination, ptev: 0.6120, prev: 0.3880, OOB Score: 29.4000\n"
     ]
    },
    {
     "name": "stderr",
     "output_type": "stream",
     "text": [
      "INFO     [merf.py:307] Training GLL is 511.68391335759844 at iteration 1.\n",
      "INFO     [merf.py:307] Training GLL is 547.9200485458192 at iteration 2.\n",
      "INFO     [merf.py:307] Training GLL is 554.2172646231581 at iteration 3.\n",
      "INFO     [merf.py:307] Training GLL is 542.7673397236326 at iteration 4.\n",
      "INFO     [merf.py:307] Training GLL is 535.5799131621835 at iteration 5.\n",
      "INFO     [merf.py:307] Training GLL is 531.8436881650169 at iteration 6.\n",
      "INFO     [merf.py:307] Training GLL is 531.3210037955964 at iteration 7.\n",
      "INFO     [merf.py:307] Training GLL is 522.2444327014359 at iteration 8.\n",
      "INFO     [merf.py:307] Training GLL is 517.4703864141463 at iteration 9.\n",
      "INFO     [merf.py:307] Training GLL is 519.134428671551 at iteration 10.\n"
     ]
    },
    {
     "name": "stdout",
     "output_type": "stream",
     "text": [
      "Combination, ptev: 0.6586, prev: 0.3414, OOB Score: 6.5000\n"
     ]
    },
    {
     "name": "stderr",
     "output_type": "stream",
     "text": [
      "INFO     [merf.py:307] Training GLL is 482.73371504921204 at iteration 1.\n",
      "INFO     [merf.py:307] Training GLL is 534.0478812562258 at iteration 2.\n",
      "INFO     [merf.py:307] Training GLL is 523.4143524344963 at iteration 3.\n",
      "INFO     [merf.py:307] Training GLL is 500.080155856464 at iteration 4.\n",
      "INFO     [merf.py:307] Training GLL is 495.47369865519056 at iteration 5.\n",
      "INFO     [merf.py:307] Training GLL is 481.36207268289473 at iteration 6.\n",
      "INFO     [merf.py:307] Training GLL is 480.71461346860053 at iteration 7.\n",
      "INFO     [merf.py:307] Training GLL is 473.11769528475406 at iteration 8.\n",
      "INFO     [merf.py:307] Training GLL is 474.01200573750754 at iteration 9.\n",
      "INFO     [merf.py:307] Training GLL is 477.0790098093217 at iteration 10.\n"
     ]
    },
    {
     "name": "stdout",
     "output_type": "stream",
     "text": [
      "Combination, ptev: 0.6832, prev: 0.3168, OOB Score: 24.7000\n"
     ]
    },
    {
     "name": "stderr",
     "output_type": "stream",
     "text": [
      "INFO     [merf.py:307] Training GLL is 513.0099364463003 at iteration 1.\n",
      "INFO     [merf.py:307] Training GLL is 569.8558326696599 at iteration 2.\n",
      "INFO     [merf.py:307] Training GLL is 565.2475017023355 at iteration 3.\n",
      "INFO     [merf.py:307] Training GLL is 556.3107115731564 at iteration 4.\n",
      "INFO     [merf.py:307] Training GLL is 547.1040447301457 at iteration 5.\n",
      "INFO     [merf.py:307] Training GLL is 543.1762925006533 at iteration 6.\n",
      "INFO     [merf.py:307] Training GLL is 548.4881772118725 at iteration 7.\n",
      "INFO     [merf.py:307] Training GLL is 537.7075247553295 at iteration 8.\n",
      "INFO     [merf.py:307] Training GLL is 542.1408471272925 at iteration 9.\n",
      "INFO     [merf.py:307] Training GLL is 541.9566422132605 at iteration 10.\n"
     ]
    },
    {
     "name": "stdout",
     "output_type": "stream",
     "text": [
      "Combination, ptev: 0.6653, prev: 0.3347, OOB Score: 21.5000\n"
     ]
    },
    {
     "name": "stderr",
     "output_type": "stream",
     "text": [
      "INFO     [merf.py:307] Training GLL is 517.01108027167 at iteration 1.\n",
      "INFO     [merf.py:307] Training GLL is 573.0264626273095 at iteration 2.\n",
      "INFO     [merf.py:307] Training GLL is 575.3993423360213 at iteration 3.\n",
      "INFO     [merf.py:307] Training GLL is 570.9317443759642 at iteration 4.\n",
      "INFO     [merf.py:307] Training GLL is 576.5646971918748 at iteration 5.\n",
      "INFO     [merf.py:307] Training GLL is 575.0481028892551 at iteration 6.\n",
      "INFO     [merf.py:307] Training GLL is 566.9120975946223 at iteration 7.\n",
      "INFO     [merf.py:307] Training GLL is 560.1430439113497 at iteration 8.\n",
      "INFO     [merf.py:307] Training GLL is 563.8824371838947 at iteration 9.\n",
      "INFO     [merf.py:307] Training GLL is 558.8028528911841 at iteration 10.\n"
     ]
    },
    {
     "name": "stdout",
     "output_type": "stream",
     "text": [
      "Combination, ptev: 0.7108, prev: 0.2892, OOB Score: 19.0000\n"
     ]
    },
    {
     "name": "stderr",
     "output_type": "stream",
     "text": [
      "INFO     [merf.py:307] Training GLL is 515.1151746472741 at iteration 1.\n",
      "INFO     [merf.py:307] Training GLL is 566.957700036154 at iteration 2.\n",
      "INFO     [merf.py:307] Training GLL is 575.2327408301979 at iteration 3.\n",
      "INFO     [merf.py:307] Training GLL is 567.6566579542462 at iteration 4.\n",
      "INFO     [merf.py:307] Training GLL is 561.4511801521026 at iteration 5.\n",
      "INFO     [merf.py:307] Training GLL is 548.261378646403 at iteration 6.\n",
      "INFO     [merf.py:307] Training GLL is 552.2934272707712 at iteration 7.\n",
      "INFO     [merf.py:307] Training GLL is 548.027752436035 at iteration 8.\n",
      "INFO     [merf.py:307] Training GLL is 550.690629809999 at iteration 9.\n",
      "INFO     [merf.py:307] Training GLL is 543.3895770921882 at iteration 10.\n"
     ]
    },
    {
     "name": "stdout",
     "output_type": "stream",
     "text": [
      "Combination, ptev: 0.7439, prev: 0.2561, OOB Score: 31.7000\n"
     ]
    },
    {
     "name": "stderr",
     "output_type": "stream",
     "text": [
      "INFO     [merf.py:307] Training GLL is 507.07059109848996 at iteration 1.\n",
      "INFO     [merf.py:307] Training GLL is 563.4547602994027 at iteration 2.\n",
      "INFO     [merf.py:307] Training GLL is 568.0673353531821 at iteration 3.\n",
      "INFO     [merf.py:307] Training GLL is 555.207247232752 at iteration 4.\n",
      "INFO     [merf.py:307] Training GLL is 556.5316037574934 at iteration 5.\n",
      "INFO     [merf.py:307] Training GLL is 550.5262082073348 at iteration 6.\n",
      "INFO     [merf.py:307] Training GLL is 555.0114696346237 at iteration 7.\n",
      "INFO     [merf.py:307] Training GLL is 548.1419832168946 at iteration 8.\n",
      "INFO     [merf.py:307] Training GLL is 539.9226532499393 at iteration 9.\n",
      "INFO     [merf.py:307] Training GLL is 537.9462678262593 at iteration 10.\n"
     ]
    },
    {
     "name": "stdout",
     "output_type": "stream",
     "text": [
      "Combination, ptev: 0.7624, prev: 0.2376, OOB Score: 23.6000\n"
     ]
    },
    {
     "name": "stderr",
     "output_type": "stream",
     "text": [
      "INFO     [merf.py:307] Training GLL is 490.9485041303498 at iteration 1.\n",
      "INFO     [merf.py:307] Training GLL is 562.4474800047976 at iteration 2.\n",
      "INFO     [merf.py:307] Training GLL is 559.4841419203337 at iteration 3.\n",
      "INFO     [merf.py:307] Training GLL is 560.9884293383459 at iteration 4.\n",
      "INFO     [merf.py:307] Training GLL is 552.4905373817742 at iteration 5.\n",
      "INFO     [merf.py:307] Training GLL is 539.031327997663 at iteration 6.\n",
      "INFO     [merf.py:307] Training GLL is 538.7290709571942 at iteration 7.\n",
      "INFO     [merf.py:307] Training GLL is 545.0506001164138 at iteration 8.\n",
      "INFO     [merf.py:307] Training GLL is 544.4649720860775 at iteration 9.\n",
      "INFO     [merf.py:307] Training GLL is 530.6852670394743 at iteration 10.\n"
     ]
    },
    {
     "name": "stdout",
     "output_type": "stream",
     "text": [
      "Combination, ptev: 0.7660, prev: 0.2340, OOB Score: 22.8000\n"
     ]
    },
    {
     "name": "stderr",
     "output_type": "stream",
     "text": [
      "INFO     [merf.py:307] Training GLL is 505.2834342992867 at iteration 1.\n",
      "INFO     [merf.py:307] Training GLL is 557.9050519059005 at iteration 2.\n",
      "INFO     [merf.py:307] Training GLL is 553.8061380913585 at iteration 3.\n",
      "INFO     [merf.py:307] Training GLL is 554.4755603511569 at iteration 4.\n",
      "INFO     [merf.py:307] Training GLL is 542.4277625111301 at iteration 5.\n",
      "INFO     [merf.py:307] Training GLL is 531.9444171770297 at iteration 6.\n",
      "INFO     [merf.py:307] Training GLL is 543.3026747854335 at iteration 7.\n",
      "INFO     [merf.py:307] Training GLL is 537.3359231111873 at iteration 8.\n",
      "INFO     [merf.py:307] Training GLL is 535.7898648558024 at iteration 9.\n",
      "INFO     [merf.py:307] Training GLL is 533.0484516175575 at iteration 10.\n"
     ]
    },
    {
     "name": "stdout",
     "output_type": "stream",
     "text": [
      "Combination, ptev: 0.7567, prev: 0.2433, OOB Score: 34.3000\n"
     ]
    },
    {
     "name": "stderr",
     "output_type": "stream",
     "text": [
      "INFO     [merf.py:307] Training GLL is 513.5516951383494 at iteration 1.\n",
      "INFO     [merf.py:307] Training GLL is 570.1025738087234 at iteration 2.\n",
      "INFO     [merf.py:307] Training GLL is 572.3257721805468 at iteration 3.\n",
      "INFO     [merf.py:307] Training GLL is 566.556860160963 at iteration 4.\n",
      "INFO     [merf.py:307] Training GLL is 566.6280937272952 at iteration 5.\n",
      "INFO     [merf.py:307] Training GLL is 566.1295477429394 at iteration 6.\n",
      "INFO     [merf.py:307] Training GLL is 560.3223348720136 at iteration 7.\n",
      "INFO     [merf.py:307] Training GLL is 565.7306300099523 at iteration 8.\n",
      "INFO     [merf.py:307] Training GLL is 575.806325094006 at iteration 9.\n",
      "INFO     [merf.py:307] Training GLL is 565.2581987753139 at iteration 10.\n"
     ]
    },
    {
     "name": "stdout",
     "output_type": "stream",
     "text": [
      "Combination, ptev: 0.7683, prev: 0.2317, OOB Score: 22.4000\n",
      "Combination: (100, None, 0.1, 2, 3)\n",
      "\n"
     ]
    },
    {
     "name": "stderr",
     "output_type": "stream",
     "text": [
      "INFO     [merf.py:307] Training GLL is 416.8858760657022 at iteration 1.\n",
      "INFO     [merf.py:307] Training GLL is 432.6262025600771 at iteration 2.\n"
     ]
    },
    {
     "name": "stdout",
     "output_type": "stream",
     "text": [
      "Combination, ptev: 0.5580, prev: 0.4420, OOB Score: 17.0000\n"
     ]
    },
    {
     "name": "stderr",
     "output_type": "stream",
     "text": [
      "INFO     [merf.py:307] Training GLL is 507.56692234747425 at iteration 1.\n",
      "INFO     [merf.py:307] Training GLL is 576.5545319122311 at iteration 2.\n"
     ]
    },
    {
     "name": "stdout",
     "output_type": "stream",
     "text": [
      "Combination, ptev: 0.6459, prev: 0.3541, OOB Score: 8.8000\n"
     ]
    },
    {
     "name": "stderr",
     "output_type": "stream",
     "text": [
      "INFO     [merf.py:307] Training GLL is 464.8232219460409 at iteration 1.\n",
      "INFO     [merf.py:307] Training GLL is 532.0235552511721 at iteration 2.\n"
     ]
    },
    {
     "name": "stdout",
     "output_type": "stream",
     "text": [
      "Combination, ptev: 0.6302, prev: 0.3698, OOB Score: 17.1000\n",
      "Combination: (100, None, 0.1, 2, 5)\n",
      "\n"
     ]
    },
    {
     "name": "stderr",
     "output_type": "stream",
     "text": [
      "INFO     [merf.py:307] Training GLL is 544.26098212237 at iteration 1.\n",
      "INFO     [merf.py:307] Training GLL is 572.7571750378544 at iteration 2.\n"
     ]
    },
    {
     "name": "stdout",
     "output_type": "stream",
     "text": [
      "Combination, ptev: 0.5259, prev: 0.4741, OOB Score: 19.4000\n"
     ]
    },
    {
     "name": "stderr",
     "output_type": "stream",
     "text": [
      "INFO     [merf.py:307] Training GLL is 538.1169598007873 at iteration 1.\n",
      "INFO     [merf.py:307] Training GLL is 568.2949947144023 at iteration 2.\n"
     ]
    },
    {
     "name": "stdout",
     "output_type": "stream",
     "text": [
      "Combination, ptev: 0.5657, prev: 0.4343, OOB Score: 14.1000\n"
     ]
    },
    {
     "name": "stderr",
     "output_type": "stream",
     "text": [
      "INFO     [merf.py:307] Training GLL is 593.3383294529868 at iteration 1.\n",
      "INFO     [merf.py:307] Training GLL is 640.8439372434408 at iteration 2.\n"
     ]
    },
    {
     "name": "stdout",
     "output_type": "stream",
     "text": [
      "Combination, ptev: 0.6353, prev: 0.3647, OOB Score: 8.8000\n"
     ]
    },
    {
     "name": "stderr",
     "output_type": "stream",
     "text": [
      "INFO     [merf.py:307] Training GLL is 558.7644451636397 at iteration 1.\n",
      "INFO     [merf.py:307] Training GLL is 613.8432622132932 at iteration 2.\n"
     ]
    },
    {
     "name": "stdout",
     "output_type": "stream",
     "text": [
      "Combination, ptev: 0.6076, prev: 0.3924, OOB Score: 12.1000\n"
     ]
    },
    {
     "name": "stderr",
     "output_type": "stream",
     "text": [
      "INFO     [merf.py:307] Training GLL is 564.125303253907 at iteration 1.\n",
      "INFO     [merf.py:307] Training GLL is 621.9733130799677 at iteration 2.\n"
     ]
    },
    {
     "name": "stdout",
     "output_type": "stream",
     "text": [
      "Combination, ptev: 0.6200, prev: 0.3800, OOB Score: 16.6000\n",
      "Combination: (100, None, 0.1, 2, 10)\n",
      "\n"
     ]
    },
    {
     "name": "stderr",
     "output_type": "stream",
     "text": [
      "INFO     [merf.py:307] Training GLL is 623.6413902119251 at iteration 1.\n",
      "INFO     [merf.py:307] Training GLL is 651.0706960563588 at iteration 2.\n"
     ]
    },
    {
     "name": "stdout",
     "output_type": "stream",
     "text": [
      "Combination, ptev: 0.4228, prev: 0.5772, OOB Score: 21.3000\n"
     ]
    },
    {
     "name": "stderr",
     "output_type": "stream",
     "text": [
      "INFO     [merf.py:307] Training GLL is 640.4931673830622 at iteration 1.\n",
      "INFO     [merf.py:307] Training GLL is 668.4180852032641 at iteration 2.\n"
     ]
    },
    {
     "name": "stdout",
     "output_type": "stream",
     "text": [
      "Combination, ptev: 0.5291, prev: 0.4709, OOB Score: 12.2000\n"
     ]
    },
    {
     "name": "stderr",
     "output_type": "stream",
     "text": [
      "INFO     [merf.py:307] Training GLL is 611.2531092171047 at iteration 1.\n",
      "INFO     [merf.py:307] Training GLL is 637.7362005537815 at iteration 2.\n"
     ]
    },
    {
     "name": "stdout",
     "output_type": "stream",
     "text": [
      "Combination, ptev: 0.5843, prev: 0.4157, OOB Score: 16.2000\n"
     ]
    },
    {
     "name": "stderr",
     "output_type": "stream",
     "text": [
      "INFO     [merf.py:307] Training GLL is 635.7197874664344 at iteration 1.\n",
      "INFO     [merf.py:307] Training GLL is 676.0369590958779 at iteration 2.\n"
     ]
    },
    {
     "name": "stdout",
     "output_type": "stream",
     "text": [
      "Combination, ptev: 0.5848, prev: 0.4152, OOB Score: 13.9000\n"
     ]
    },
    {
     "name": "stderr",
     "output_type": "stream",
     "text": [
      "INFO     [merf.py:307] Training GLL is 642.6572795767253 at iteration 1.\n",
      "INFO     [merf.py:307] Training GLL is 688.7431583744358 at iteration 2.\n"
     ]
    },
    {
     "name": "stdout",
     "output_type": "stream",
     "text": [
      "Combination, ptev: 0.6169, prev: 0.3831, OOB Score: 13.8000\n"
     ]
    },
    {
     "name": "stderr",
     "output_type": "stream",
     "text": [
      "INFO     [merf.py:307] Training GLL is 655.0740456474601 at iteration 1.\n",
      "INFO     [merf.py:307] Training GLL is 689.9904649447786 at iteration 2.\n"
     ]
    },
    {
     "name": "stdout",
     "output_type": "stream",
     "text": [
      "Combination, ptev: 0.6501, prev: 0.3499, OOB Score: 10.6000\n"
     ]
    },
    {
     "name": "stderr",
     "output_type": "stream",
     "text": [
      "INFO     [merf.py:307] Training GLL is 641.0316376491888 at iteration 1.\n",
      "INFO     [merf.py:307] Training GLL is 680.9340464838989 at iteration 2.\n"
     ]
    },
    {
     "name": "stdout",
     "output_type": "stream",
     "text": [
      "Combination, ptev: 0.6545, prev: 0.3455, OOB Score: 19.1000\n"
     ]
    },
    {
     "name": "stderr",
     "output_type": "stream",
     "text": [
      "INFO     [merf.py:307] Training GLL is 631.4870670871481 at iteration 1.\n",
      "INFO     [merf.py:307] Training GLL is 668.8407641689147 at iteration 2.\n"
     ]
    },
    {
     "name": "stdout",
     "output_type": "stream",
     "text": [
      "Combination, ptev: 0.6549, prev: 0.3451, OOB Score: 11.6000\n"
     ]
    },
    {
     "name": "stderr",
     "output_type": "stream",
     "text": [
      "INFO     [merf.py:307] Training GLL is 631.7446432601192 at iteration 1.\n",
      "INFO     [merf.py:307] Training GLL is 671.338006702621 at iteration 2.\n"
     ]
    },
    {
     "name": "stdout",
     "output_type": "stream",
     "text": [
      "Combination, ptev: 0.6482, prev: 0.3518, OOB Score: 15.7000\n"
     ]
    },
    {
     "name": "stderr",
     "output_type": "stream",
     "text": [
      "INFO     [merf.py:307] Training GLL is 637.9413134904357 at iteration 1.\n",
      "INFO     [merf.py:307] Training GLL is 685.9245103306689 at iteration 2.\n"
     ]
    },
    {
     "name": "stdout",
     "output_type": "stream",
     "text": [
      "Combination, ptev: 0.6572, prev: 0.3428, OOB Score: 15.3000\n",
      "Combination: (100, None, 0.1, 10, 3)\n",
      "\n"
     ]
    },
    {
     "name": "stderr",
     "output_type": "stream",
     "text": [
      "INFO     [merf.py:307] Training GLL is 414.1280800279287 at iteration 1.\n",
      "INFO     [merf.py:307] Training GLL is 435.7509447966084 at iteration 2.\n",
      "INFO     [merf.py:307] Training GLL is 398.7348739451013 at iteration 3.\n",
      "INFO     [merf.py:307] Training GLL is 375.8162585766327 at iteration 4.\n",
      "INFO     [merf.py:307] Training GLL is 356.7971899403118 at iteration 5.\n",
      "INFO     [merf.py:307] Training GLL is 337.08383363540355 at iteration 6.\n",
      "INFO     [merf.py:307] Training GLL is 318.4677015270305 at iteration 7.\n",
      "INFO     [merf.py:307] Training GLL is 307.6080062330068 at iteration 8.\n",
      "INFO     [merf.py:307] Training GLL is 298.4845036565941 at iteration 9.\n",
      "INFO     [merf.py:307] Training GLL is 286.5531386723375 at iteration 10.\n"
     ]
    },
    {
     "name": "stdout",
     "output_type": "stream",
     "text": [
      "Combination, ptev: 0.6877, prev: 0.3123, OOB Score: 16.9000\n"
     ]
    },
    {
     "name": "stderr",
     "output_type": "stream",
     "text": [
      "INFO     [merf.py:307] Training GLL is 512.7353147352911 at iteration 1.\n",
      "INFO     [merf.py:307] Training GLL is 579.786894051558 at iteration 2.\n",
      "INFO     [merf.py:307] Training GLL is 586.3276003118498 at iteration 3.\n",
      "INFO     [merf.py:307] Training GLL is 593.3007214540631 at iteration 4.\n",
      "INFO     [merf.py:307] Training GLL is 582.6284962743858 at iteration 5.\n",
      "INFO     [merf.py:307] Training GLL is 585.866790092156 at iteration 6.\n",
      "INFO     [merf.py:307] Training GLL is 589.2890729621813 at iteration 7.\n",
      "INFO     [merf.py:307] Training GLL is 580.8601751305376 at iteration 8.\n",
      "INFO     [merf.py:307] Training GLL is 577.1160603746807 at iteration 9.\n",
      "INFO     [merf.py:307] Training GLL is 576.3228323042894 at iteration 10.\n"
     ]
    },
    {
     "name": "stdout",
     "output_type": "stream",
     "text": [
      "Combination, ptev: 0.7701, prev: 0.2299, OOB Score: 28.0000\n"
     ]
    },
    {
     "name": "stderr",
     "output_type": "stream",
     "text": [
      "INFO     [merf.py:307] Training GLL is 470.68924878988963 at iteration 1.\n",
      "INFO     [merf.py:307] Training GLL is 540.5513698960713 at iteration 2.\n",
      "INFO     [merf.py:307] Training GLL is 547.3849275148885 at iteration 3.\n",
      "INFO     [merf.py:307] Training GLL is 555.1602577114376 at iteration 4.\n",
      "INFO     [merf.py:307] Training GLL is 552.9416303870643 at iteration 5.\n",
      "INFO     [merf.py:307] Training GLL is 557.7549260799524 at iteration 6.\n",
      "INFO     [merf.py:307] Training GLL is 558.6082319383462 at iteration 7.\n",
      "INFO     [merf.py:307] Training GLL is 559.6406822308622 at iteration 8.\n",
      "INFO     [merf.py:307] Training GLL is 556.6596804655105 at iteration 9.\n",
      "INFO     [merf.py:307] Training GLL is 560.778201086815 at iteration 10.\n"
     ]
    },
    {
     "name": "stdout",
     "output_type": "stream",
     "text": [
      "Combination, ptev: 0.7698, prev: 0.2302, OOB Score: 24.1000\n",
      "Combination: (100, None, 0.1, 10, 5)\n",
      "\n"
     ]
    },
    {
     "name": "stderr",
     "output_type": "stream",
     "text": [
      "INFO     [merf.py:307] Training GLL is 535.8810659548324 at iteration 1.\n",
      "INFO     [merf.py:307] Training GLL is 571.3422595413907 at iteration 2.\n",
      "INFO     [merf.py:307] Training GLL is 560.8069264505049 at iteration 3.\n",
      "INFO     [merf.py:307] Training GLL is 549.3093598643244 at iteration 4.\n",
      "INFO     [merf.py:307] Training GLL is 538.707290069678 at iteration 5.\n",
      "INFO     [merf.py:307] Training GLL is 533.9590002220917 at iteration 6.\n",
      "INFO     [merf.py:307] Training GLL is 521.8831231370474 at iteration 7.\n",
      "INFO     [merf.py:307] Training GLL is 525.5167381914863 at iteration 8.\n",
      "INFO     [merf.py:307] Training GLL is 516.6722946188263 at iteration 9.\n",
      "INFO     [merf.py:307] Training GLL is 513.1889955351858 at iteration 10.\n"
     ]
    },
    {
     "name": "stdout",
     "output_type": "stream",
     "text": [
      "Combination, ptev: 0.6472, prev: 0.3528, OOB Score: 21.3000\n"
     ]
    },
    {
     "name": "stderr",
     "output_type": "stream",
     "text": [
      "INFO     [merf.py:307] Training GLL is 534.3646868808656 at iteration 1.\n",
      "INFO     [merf.py:307] Training GLL is 560.5610478103812 at iteration 2.\n",
      "INFO     [merf.py:307] Training GLL is 560.2872173605572 at iteration 3.\n",
      "INFO     [merf.py:307] Training GLL is 549.9075830000577 at iteration 4.\n",
      "INFO     [merf.py:307] Training GLL is 547.1286969421632 at iteration 5.\n",
      "INFO     [merf.py:307] Training GLL is 539.8089096122596 at iteration 6.\n",
      "INFO     [merf.py:307] Training GLL is 529.0931980834924 at iteration 7.\n",
      "INFO     [merf.py:307] Training GLL is 529.2377699476934 at iteration 8.\n",
      "INFO     [merf.py:307] Training GLL is 529.2110390453228 at iteration 9.\n",
      "INFO     [merf.py:307] Training GLL is 522.6779872472747 at iteration 10.\n"
     ]
    },
    {
     "name": "stdout",
     "output_type": "stream",
     "text": [
      "Combination, ptev: 0.6371, prev: 0.3629, OOB Score: 24.6000\n"
     ]
    },
    {
     "name": "stderr",
     "output_type": "stream",
     "text": [
      "INFO     [merf.py:307] Training GLL is 589.809766623006 at iteration 1.\n",
      "INFO     [merf.py:307] Training GLL is 640.8314324623926 at iteration 2.\n",
      "INFO     [merf.py:307] Training GLL is 646.6183039458506 at iteration 3.\n",
      "INFO     [merf.py:307] Training GLL is 639.6509505637268 at iteration 4.\n",
      "INFO     [merf.py:307] Training GLL is 644.0743221522067 at iteration 5.\n",
      "INFO     [merf.py:307] Training GLL is 636.2103409282014 at iteration 6.\n",
      "INFO     [merf.py:307] Training GLL is 638.7554956608194 at iteration 7.\n",
      "INFO     [merf.py:307] Training GLL is 628.9233512202019 at iteration 8.\n",
      "INFO     [merf.py:307] Training GLL is 640.2762835452629 at iteration 9.\n",
      "INFO     [merf.py:307] Training GLL is 639.0696757202498 at iteration 10.\n"
     ]
    },
    {
     "name": "stdout",
     "output_type": "stream",
     "text": [
      "Combination, ptev: 0.7277, prev: 0.2723, OOB Score: 20.7000\n"
     ]
    },
    {
     "name": "stderr",
     "output_type": "stream",
     "text": [
      "INFO     [merf.py:307] Training GLL is 556.0322134193766 at iteration 1.\n",
      "INFO     [merf.py:307] Training GLL is 604.2580306725268 at iteration 2.\n",
      "INFO     [merf.py:307] Training GLL is 602.346264243281 at iteration 3.\n",
      "INFO     [merf.py:307] Training GLL is 602.6485652634371 at iteration 4.\n",
      "INFO     [merf.py:307] Training GLL is 593.2638583738405 at iteration 5.\n",
      "INFO     [merf.py:307] Training GLL is 596.7711954052011 at iteration 6.\n",
      "INFO     [merf.py:307] Training GLL is 593.4627415371558 at iteration 7.\n",
      "INFO     [merf.py:307] Training GLL is 591.3960575184411 at iteration 8.\n",
      "INFO     [merf.py:307] Training GLL is 591.9771448025718 at iteration 9.\n",
      "INFO     [merf.py:307] Training GLL is 589.6456133123984 at iteration 10.\n"
     ]
    },
    {
     "name": "stdout",
     "output_type": "stream",
     "text": [
      "Combination, ptev: 0.7184, prev: 0.2816, OOB Score: 19.4000\n"
     ]
    },
    {
     "name": "stderr",
     "output_type": "stream",
     "text": [
      "INFO     [merf.py:307] Training GLL is 577.9309694253046 at iteration 1.\n",
      "INFO     [merf.py:307] Training GLL is 625.6673344671015 at iteration 2.\n",
      "INFO     [merf.py:307] Training GLL is 633.9099493868757 at iteration 3.\n",
      "INFO     [merf.py:307] Training GLL is 629.6479626152442 at iteration 4.\n",
      "INFO     [merf.py:307] Training GLL is 624.3544338797706 at iteration 5.\n",
      "INFO     [merf.py:307] Training GLL is 626.6804937545595 at iteration 6.\n",
      "INFO     [merf.py:307] Training GLL is 621.3256235355557 at iteration 7.\n",
      "INFO     [merf.py:307] Training GLL is 624.3001165061695 at iteration 8.\n",
      "INFO     [merf.py:307] Training GLL is 620.6220202979903 at iteration 9.\n",
      "INFO     [merf.py:307] Training GLL is 626.6290152296532 at iteration 10.\n"
     ]
    },
    {
     "name": "stdout",
     "output_type": "stream",
     "text": [
      "Combination, ptev: 0.7368, prev: 0.2632, OOB Score: 30.0000\n",
      "Combination: (100, None, 0.1, 10, 10)\n",
      "\n"
     ]
    },
    {
     "name": "stderr",
     "output_type": "stream",
     "text": [
      "INFO     [merf.py:307] Training GLL is 618.6943684867188 at iteration 1.\n",
      "INFO     [merf.py:307] Training GLL is 657.0062115886074 at iteration 2.\n",
      "INFO     [merf.py:307] Training GLL is 642.7641189378188 at iteration 3.\n",
      "INFO     [merf.py:307] Training GLL is 634.529235279028 at iteration 4.\n",
      "INFO     [merf.py:307] Training GLL is 626.1619407603181 at iteration 5.\n",
      "INFO     [merf.py:307] Training GLL is 618.217470588995 at iteration 6.\n",
      "INFO     [merf.py:307] Training GLL is 620.6671363918101 at iteration 7.\n",
      "INFO     [merf.py:307] Training GLL is 618.5127650879095 at iteration 8.\n",
      "INFO     [merf.py:307] Training GLL is 618.1772880314749 at iteration 9.\n",
      "INFO     [merf.py:307] Training GLL is 616.6732058828295 at iteration 10.\n"
     ]
    },
    {
     "name": "stdout",
     "output_type": "stream",
     "text": [
      "Combination, ptev: 0.6315, prev: 0.3685, OOB Score: 27.7000\n"
     ]
    },
    {
     "name": "stderr",
     "output_type": "stream",
     "text": [
      "INFO     [merf.py:307] Training GLL is 638.5862266411349 at iteration 1.\n",
      "INFO     [merf.py:307] Training GLL is 668.5025497144878 at iteration 2.\n",
      "INFO     [merf.py:307] Training GLL is 656.6908856956771 at iteration 3.\n",
      "INFO     [merf.py:307] Training GLL is 652.0953539799234 at iteration 4.\n",
      "INFO     [merf.py:307] Training GLL is 645.8015257171991 at iteration 5.\n",
      "INFO     [merf.py:307] Training GLL is 637.1710112257259 at iteration 6.\n",
      "INFO     [merf.py:307] Training GLL is 635.3083045675164 at iteration 7.\n",
      "INFO     [merf.py:307] Training GLL is 632.0818282414414 at iteration 8.\n",
      "INFO     [merf.py:307] Training GLL is 631.6057270136909 at iteration 9.\n",
      "INFO     [merf.py:307] Training GLL is 629.9011888280426 at iteration 10.\n"
     ]
    },
    {
     "name": "stdout",
     "output_type": "stream",
     "text": [
      "Combination, ptev: 0.6614, prev: 0.3386, OOB Score: 3.8000\n"
     ]
    },
    {
     "name": "stderr",
     "output_type": "stream",
     "text": [
      "INFO     [merf.py:307] Training GLL is 603.4361549038065 at iteration 1.\n",
      "INFO     [merf.py:307] Training GLL is 633.1711395150883 at iteration 2.\n",
      "INFO     [merf.py:307] Training GLL is 611.0401718623988 at iteration 3.\n",
      "INFO     [merf.py:307] Training GLL is 602.8245625461823 at iteration 4.\n",
      "INFO     [merf.py:307] Training GLL is 596.2973074163165 at iteration 5.\n",
      "INFO     [merf.py:307] Training GLL is 601.5112636259852 at iteration 6.\n",
      "INFO     [merf.py:307] Training GLL is 601.5222383761649 at iteration 7.\n",
      "INFO     [merf.py:307] Training GLL is 599.7678352142484 at iteration 8.\n",
      "INFO     [merf.py:307] Training GLL is 586.2473363482375 at iteration 9.\n",
      "INFO     [merf.py:307] Training GLL is 574.931183892595 at iteration 10.\n"
     ]
    },
    {
     "name": "stdout",
     "output_type": "stream",
     "text": [
      "Combination, ptev: 0.6858, prev: 0.3142, OOB Score: 19.9000\n"
     ]
    },
    {
     "name": "stderr",
     "output_type": "stream",
     "text": [
      "INFO     [merf.py:307] Training GLL is 632.0363081868895 at iteration 1.\n",
      "INFO     [merf.py:307] Training GLL is 669.373815639071 at iteration 2.\n",
      "INFO     [merf.py:307] Training GLL is 669.3079280233014 at iteration 3.\n",
      "INFO     [merf.py:307] Training GLL is 662.6922738227511 at iteration 4.\n",
      "INFO     [merf.py:307] Training GLL is 663.9680672071544 at iteration 5.\n",
      "INFO     [merf.py:307] Training GLL is 657.1971047130485 at iteration 6.\n",
      "INFO     [merf.py:307] Training GLL is 652.5569217835746 at iteration 7.\n",
      "INFO     [merf.py:307] Training GLL is 651.535542031012 at iteration 8.\n",
      "INFO     [merf.py:307] Training GLL is 654.5588475659031 at iteration 9.\n",
      "INFO     [merf.py:307] Training GLL is 651.5367541469304 at iteration 10.\n"
     ]
    },
    {
     "name": "stdout",
     "output_type": "stream",
     "text": [
      "Combination, ptev: 0.6681, prev: 0.3319, OOB Score: 19.0000\n"
     ]
    },
    {
     "name": "stderr",
     "output_type": "stream",
     "text": [
      "INFO     [merf.py:307] Training GLL is 649.2260120471226 at iteration 1.\n",
      "INFO     [merf.py:307] Training GLL is 694.6316284487427 at iteration 2.\n",
      "INFO     [merf.py:307] Training GLL is 692.5250688683486 at iteration 3.\n",
      "INFO     [merf.py:307] Training GLL is 687.036364581151 at iteration 4.\n",
      "INFO     [merf.py:307] Training GLL is 685.5633378789398 at iteration 5.\n",
      "INFO     [merf.py:307] Training GLL is 681.957355011037 at iteration 6.\n",
      "INFO     [merf.py:307] Training GLL is 674.1965409232985 at iteration 7.\n",
      "INFO     [merf.py:307] Training GLL is 674.7929606398772 at iteration 8.\n",
      "INFO     [merf.py:307] Training GLL is 671.668624295817 at iteration 9.\n",
      "INFO     [merf.py:307] Training GLL is 674.1360751712983 at iteration 10.\n"
     ]
    },
    {
     "name": "stdout",
     "output_type": "stream",
     "text": [
      "Combination, ptev: 0.7133, prev: 0.2867, OOB Score: 13.8000\n"
     ]
    },
    {
     "name": "stderr",
     "output_type": "stream",
     "text": [
      "INFO     [merf.py:307] Training GLL is 650.3382538646545 at iteration 1.\n",
      "INFO     [merf.py:307] Training GLL is 689.9924901315708 at iteration 2.\n",
      "INFO     [merf.py:307] Training GLL is 684.0608388502238 at iteration 3.\n",
      "INFO     [merf.py:307] Training GLL is 671.2167670278992 at iteration 4.\n",
      "INFO     [merf.py:307] Training GLL is 666.5387898454679 at iteration 5.\n",
      "INFO     [merf.py:307] Training GLL is 654.4465198505713 at iteration 6.\n",
      "INFO     [merf.py:307] Training GLL is 659.216357104656 at iteration 7.\n",
      "INFO     [merf.py:307] Training GLL is 660.2344412245194 at iteration 8.\n",
      "INFO     [merf.py:307] Training GLL is 665.8180550028759 at iteration 9.\n",
      "INFO     [merf.py:307] Training GLL is 664.4797579372653 at iteration 10.\n"
     ]
    },
    {
     "name": "stdout",
     "output_type": "stream",
     "text": [
      "Combination, ptev: 0.7463, prev: 0.2537, OOB Score: 31.6000\n"
     ]
    },
    {
     "name": "stderr",
     "output_type": "stream",
     "text": [
      "INFO     [merf.py:307] Training GLL is 643.7661569703132 at iteration 1.\n",
      "INFO     [merf.py:307] Training GLL is 689.2094179331614 at iteration 2.\n",
      "INFO     [merf.py:307] Training GLL is 674.3010608285384 at iteration 3.\n",
      "INFO     [merf.py:307] Training GLL is 670.437483881107 at iteration 4.\n",
      "INFO     [merf.py:307] Training GLL is 672.7129269866327 at iteration 5.\n",
      "INFO     [merf.py:307] Training GLL is 669.9775535732845 at iteration 6.\n",
      "INFO     [merf.py:307] Training GLL is 661.3930772667967 at iteration 7.\n",
      "INFO     [merf.py:307] Training GLL is 662.9070672778744 at iteration 8.\n",
      "INFO     [merf.py:307] Training GLL is 658.9867991454057 at iteration 9.\n",
      "INFO     [merf.py:307] Training GLL is 655.7778431260118 at iteration 10.\n"
     ]
    },
    {
     "name": "stdout",
     "output_type": "stream",
     "text": [
      "Combination, ptev: 0.7621, prev: 0.2379, OOB Score: 19.3000\n"
     ]
    },
    {
     "name": "stderr",
     "output_type": "stream",
     "text": [
      "INFO     [merf.py:307] Training GLL is 628.3187549682578 at iteration 1.\n",
      "INFO     [merf.py:307] Training GLL is 672.0865173921036 at iteration 2.\n",
      "INFO     [merf.py:307] Training GLL is 665.0804863907647 at iteration 3.\n",
      "INFO     [merf.py:307] Training GLL is 663.8513224969598 at iteration 4.\n",
      "INFO     [merf.py:307] Training GLL is 656.7402387809832 at iteration 5.\n",
      "INFO     [merf.py:307] Training GLL is 657.6037657154951 at iteration 6.\n",
      "INFO     [merf.py:307] Training GLL is 659.0844124206475 at iteration 7.\n",
      "INFO     [merf.py:307] Training GLL is 660.7986546486143 at iteration 8.\n",
      "INFO     [merf.py:307] Training GLL is 657.1235724252493 at iteration 9.\n",
      "INFO     [merf.py:307] Training GLL is 659.4749371718194 at iteration 10.\n"
     ]
    },
    {
     "name": "stdout",
     "output_type": "stream",
     "text": [
      "Combination, ptev: 0.7664, prev: 0.2336, OOB Score: 20.9000\n"
     ]
    },
    {
     "name": "stderr",
     "output_type": "stream",
     "text": [
      "INFO     [merf.py:307] Training GLL is 643.8902793175735 at iteration 1.\n",
      "INFO     [merf.py:307] Training GLL is 668.0918723348378 at iteration 2.\n",
      "INFO     [merf.py:307] Training GLL is 664.3233004319425 at iteration 3.\n",
      "INFO     [merf.py:307] Training GLL is 655.8679588863532 at iteration 4.\n",
      "INFO     [merf.py:307] Training GLL is 656.2298094411124 at iteration 5.\n",
      "INFO     [merf.py:307] Training GLL is 657.1894189601334 at iteration 6.\n",
      "INFO     [merf.py:307] Training GLL is 660.2586413214585 at iteration 7.\n",
      "INFO     [merf.py:307] Training GLL is 656.5237258188093 at iteration 8.\n",
      "INFO     [merf.py:307] Training GLL is 662.1790363590859 at iteration 9.\n",
      "INFO     [merf.py:307] Training GLL is 657.4248260260041 at iteration 10.\n"
     ]
    },
    {
     "name": "stdout",
     "output_type": "stream",
     "text": [
      "Combination, ptev: 0.7547, prev: 0.2453, OOB Score: 28.5000\n"
     ]
    },
    {
     "name": "stderr",
     "output_type": "stream",
     "text": [
      "INFO     [merf.py:307] Training GLL is 643.0066762643773 at iteration 1.\n",
      "INFO     [merf.py:307] Training GLL is 695.2289894046587 at iteration 2.\n",
      "INFO     [merf.py:307] Training GLL is 689.9766121637438 at iteration 3.\n",
      "INFO     [merf.py:307] Training GLL is 686.5762224085902 at iteration 4.\n",
      "INFO     [merf.py:307] Training GLL is 682.3401691583123 at iteration 5.\n",
      "INFO     [merf.py:307] Training GLL is 683.377686517145 at iteration 6.\n",
      "INFO     [merf.py:307] Training GLL is 684.0926603811334 at iteration 7.\n",
      "INFO     [merf.py:307] Training GLL is 683.7502201938318 at iteration 8.\n",
      "INFO     [merf.py:307] Training GLL is 682.5387743575742 at iteration 9.\n",
      "INFO     [merf.py:307] Training GLL is 680.9255692887302 at iteration 10.\n"
     ]
    },
    {
     "name": "stdout",
     "output_type": "stream",
     "text": [
      "Combination, ptev: 0.7702, prev: 0.2298, OOB Score: 18.4000\n",
      "Combination: (100, None, 0.15, 2, 3)\n",
      "\n"
     ]
    },
    {
     "name": "stderr",
     "output_type": "stream",
     "text": [
      "INFO     [merf.py:307] Training GLL is 466.34068483585094 at iteration 1.\n",
      "INFO     [merf.py:307] Training GLL is 476.82925509853595 at iteration 2.\n"
     ]
    },
    {
     "name": "stdout",
     "output_type": "stream",
     "text": [
      "Combination, ptev: 0.5943, prev: 0.4057, OOB Score: 16.2000\n"
     ]
    },
    {
     "name": "stderr",
     "output_type": "stream",
     "text": [
      "INFO     [merf.py:307] Training GLL is 569.7594201175814 at iteration 1.\n",
      "INFO     [merf.py:307] Training GLL is 625.411169036693 at iteration 2.\n"
     ]
    },
    {
     "name": "stdout",
     "output_type": "stream",
     "text": [
      "Combination, ptev: 0.6688, prev: 0.3312, OOB Score: 9.2000\n"
     ]
    },
    {
     "name": "stderr",
     "output_type": "stream",
     "text": [
      "INFO     [merf.py:307] Training GLL is 534.8091651535393 at iteration 1.\n",
      "INFO     [merf.py:307] Training GLL is 587.4873417610133 at iteration 2.\n"
     ]
    },
    {
     "name": "stdout",
     "output_type": "stream",
     "text": [
      "Combination, ptev: 0.6598, prev: 0.3402, OOB Score: 18.2000\n",
      "Combination: (100, None, 0.15, 2, 5)\n",
      "\n"
     ]
    },
    {
     "name": "stderr",
     "output_type": "stream",
     "text": [
      "INFO     [merf.py:307] Training GLL is 607.1955175746688 at iteration 1.\n",
      "INFO     [merf.py:307] Training GLL is 624.7803570143069 at iteration 2.\n"
     ]
    },
    {
     "name": "stdout",
     "output_type": "stream",
     "text": [
      "Combination, ptev: 0.5953, prev: 0.4047, OOB Score: 21.0000\n"
     ]
    },
    {
     "name": "stderr",
     "output_type": "stream",
     "text": [
      "INFO     [merf.py:307] Training GLL is 602.9040730348746 at iteration 1.\n",
      "INFO     [merf.py:307] Training GLL is 627.4165045997819 at iteration 2.\n"
     ]
    },
    {
     "name": "stdout",
     "output_type": "stream",
     "text": [
      "Combination, ptev: 0.6089, prev: 0.3911, OOB Score: 14.4000\n"
     ]
    },
    {
     "name": "stderr",
     "output_type": "stream",
     "text": [
      "INFO     [merf.py:307] Training GLL is 647.8210473632017 at iteration 1.\n",
      "INFO     [merf.py:307] Training GLL is 703.7808363745282 at iteration 2.\n"
     ]
    },
    {
     "name": "stdout",
     "output_type": "stream",
     "text": [
      "Combination, ptev: 0.6744, prev: 0.3256, OOB Score: 5.9000\n"
     ]
    },
    {
     "name": "stderr",
     "output_type": "stream",
     "text": [
      "INFO     [merf.py:307] Training GLL is 632.6935848900604 at iteration 1.\n",
      "INFO     [merf.py:307] Training GLL is 669.0897988829113 at iteration 2.\n"
     ]
    },
    {
     "name": "stdout",
     "output_type": "stream",
     "text": [
      "Combination, ptev: 0.6448, prev: 0.3552, OOB Score: 17.0000\n"
     ]
    },
    {
     "name": "stderr",
     "output_type": "stream",
     "text": [
      "INFO     [merf.py:307] Training GLL is 637.8554655925119 at iteration 1.\n",
      "INFO     [merf.py:307] Training GLL is 683.9013533878324 at iteration 2.\n"
     ]
    },
    {
     "name": "stdout",
     "output_type": "stream",
     "text": [
      "Combination, ptev: 0.6589, prev: 0.3411, OOB Score: 16.5000\n",
      "Combination: (100, None, 0.15, 2, 10)\n",
      "\n"
     ]
    },
    {
     "name": "stderr",
     "output_type": "stream",
     "text": [
      "INFO     [merf.py:307] Training GLL is 695.428566443189 at iteration 1.\n",
      "INFO     [merf.py:307] Training GLL is 700.0331196129595 at iteration 2.\n"
     ]
    },
    {
     "name": "stdout",
     "output_type": "stream",
     "text": [
      "Combination, ptev: 0.4750, prev: 0.5250, OOB Score: 23.2000\n"
     ]
    },
    {
     "name": "stderr",
     "output_type": "stream",
     "text": [
      "INFO     [merf.py:307] Training GLL is 692.8719832489885 at iteration 1.\n",
      "INFO     [merf.py:307] Training GLL is 719.6973038863994 at iteration 2.\n"
     ]
    },
    {
     "name": "stdout",
     "output_type": "stream",
     "text": [
      "Combination, ptev: 0.5831, prev: 0.4169, OOB Score: 13.6000\n"
     ]
    },
    {
     "name": "stderr",
     "output_type": "stream",
     "text": [
      "INFO     [merf.py:307] Training GLL is 665.4539409944622 at iteration 1.\n",
      "INFO     [merf.py:307] Training GLL is 685.1253796448253 at iteration 2.\n"
     ]
    },
    {
     "name": "stdout",
     "output_type": "stream",
     "text": [
      "Combination, ptev: 0.6171, prev: 0.3829, OOB Score: 15.1000\n"
     ]
    },
    {
     "name": "stderr",
     "output_type": "stream",
     "text": [
      "INFO     [merf.py:307] Training GLL is 710.4198796118822 at iteration 1.\n",
      "INFO     [merf.py:307] Training GLL is 728.25270015058 at iteration 2.\n"
     ]
    },
    {
     "name": "stdout",
     "output_type": "stream",
     "text": [
      "Combination, ptev: 0.6132, prev: 0.3868, OOB Score: 14.3000\n"
     ]
    },
    {
     "name": "stderr",
     "output_type": "stream",
     "text": [
      "INFO     [merf.py:307] Training GLL is 713.3889136955879 at iteration 1.\n",
      "INFO     [merf.py:307] Training GLL is 746.2169874436918 at iteration 2.\n"
     ]
    },
    {
     "name": "stdout",
     "output_type": "stream",
     "text": [
      "Combination, ptev: 0.6481, prev: 0.3519, OOB Score: 12.4000\n"
     ]
    },
    {
     "name": "stderr",
     "output_type": "stream",
     "text": [
      "INFO     [merf.py:307] Training GLL is 710.1970865837505 at iteration 1.\n",
      "INFO     [merf.py:307] Training GLL is 739.8208470817367 at iteration 2.\n"
     ]
    },
    {
     "name": "stdout",
     "output_type": "stream",
     "text": [
      "Combination, ptev: 0.6767, prev: 0.3233, OOB Score: 14.7000\n"
     ]
    },
    {
     "name": "stderr",
     "output_type": "stream",
     "text": [
      "INFO     [merf.py:307] Training GLL is 709.6878495775544 at iteration 1.\n",
      "INFO     [merf.py:307] Training GLL is 736.1457590182498 at iteration 2.\n"
     ]
    },
    {
     "name": "stdout",
     "output_type": "stream",
     "text": [
      "Combination, ptev: 0.6895, prev: 0.3105, OOB Score: 17.1000\n"
     ]
    },
    {
     "name": "stderr",
     "output_type": "stream",
     "text": [
      "INFO     [merf.py:307] Training GLL is 696.7165096647269 at iteration 1.\n",
      "INFO     [merf.py:307] Training GLL is 732.9055250527547 at iteration 2.\n"
     ]
    },
    {
     "name": "stdout",
     "output_type": "stream",
     "text": [
      "Combination, ptev: 0.6893, prev: 0.3107, OOB Score: 14.7000\n"
     ]
    },
    {
     "name": "stderr",
     "output_type": "stream",
     "text": [
      "INFO     [merf.py:307] Training GLL is 705.7304184294462 at iteration 1.\n",
      "INFO     [merf.py:307] Training GLL is 725.4082591438107 at iteration 2.\n"
     ]
    },
    {
     "name": "stdout",
     "output_type": "stream",
     "text": [
      "Combination, ptev: 0.6827, prev: 0.3173, OOB Score: 18.6000\n"
     ]
    },
    {
     "name": "stderr",
     "output_type": "stream",
     "text": [
      "INFO     [merf.py:307] Training GLL is 714.8977451176684 at iteration 1.\n",
      "INFO     [merf.py:307] Training GLL is 750.6380031947326 at iteration 2.\n"
     ]
    },
    {
     "name": "stdout",
     "output_type": "stream",
     "text": [
      "Combination, ptev: 0.6949, prev: 0.3051, OOB Score: 18.1000\n",
      "Combination: (100, None, 0.15, 10, 3)\n",
      "\n"
     ]
    },
    {
     "name": "stderr",
     "output_type": "stream",
     "text": [
      "INFO     [merf.py:307] Training GLL is 468.0905961022474 at iteration 1.\n",
      "INFO     [merf.py:307] Training GLL is 479.7346359154628 at iteration 2.\n",
      "INFO     [merf.py:307] Training GLL is 444.12558545823936 at iteration 3.\n",
      "INFO     [merf.py:307] Training GLL is 413.5946230137438 at iteration 4.\n",
      "INFO     [merf.py:307] Training GLL is 392.1798065129344 at iteration 5.\n",
      "INFO     [merf.py:307] Training GLL is 366.6174608810219 at iteration 6.\n",
      "INFO     [merf.py:307] Training GLL is 348.459646629185 at iteration 7.\n",
      "INFO     [merf.py:307] Training GLL is 328.3554899850422 at iteration 8.\n",
      "INFO     [merf.py:307] Training GLL is 319.128896487882 at iteration 9.\n",
      "INFO     [merf.py:307] Training GLL is 322.43793522260603 at iteration 10.\n"
     ]
    },
    {
     "name": "stdout",
     "output_type": "stream",
     "text": [
      "Combination, ptev: 0.6861, prev: 0.3139, OOB Score: 12.9000\n"
     ]
    },
    {
     "name": "stderr",
     "output_type": "stream",
     "text": [
      "INFO     [merf.py:307] Training GLL is 578.0997820576237 at iteration 1.\n",
      "INFO     [merf.py:307] Training GLL is 626.9872219581378 at iteration 2.\n",
      "INFO     [merf.py:307] Training GLL is 633.1104899849815 at iteration 3.\n",
      "INFO     [merf.py:307] Training GLL is 628.5036145690465 at iteration 4.\n",
      "INFO     [merf.py:307] Training GLL is 625.8608126826545 at iteration 5.\n",
      "INFO     [merf.py:307] Training GLL is 628.4706093082762 at iteration 6.\n",
      "INFO     [merf.py:307] Training GLL is 619.2823634081276 at iteration 7.\n",
      "INFO     [merf.py:307] Training GLL is 619.3570177306926 at iteration 8.\n",
      "INFO     [merf.py:307] Training GLL is 619.620781000294 at iteration 9.\n",
      "INFO     [merf.py:307] Training GLL is 616.7693316773399 at iteration 10.\n"
     ]
    },
    {
     "name": "stdout",
     "output_type": "stream",
     "text": [
      "Combination, ptev: 0.7624, prev: 0.2376, OOB Score: 30.3000\n"
     ]
    },
    {
     "name": "stderr",
     "output_type": "stream",
     "text": [
      "INFO     [merf.py:307] Training GLL is 536.2043532140327 at iteration 1.\n",
      "INFO     [merf.py:307] Training GLL is 585.6972566412875 at iteration 2.\n",
      "INFO     [merf.py:307] Training GLL is 594.0904517360594 at iteration 3.\n",
      "INFO     [merf.py:307] Training GLL is 601.956376675103 at iteration 4.\n",
      "INFO     [merf.py:307] Training GLL is 602.8703200138674 at iteration 5.\n",
      "INFO     [merf.py:307] Training GLL is 605.2708150107457 at iteration 6.\n",
      "INFO     [merf.py:307] Training GLL is 603.3303957256163 at iteration 7.\n",
      "INFO     [merf.py:307] Training GLL is 602.2058233432901 at iteration 8.\n",
      "INFO     [merf.py:307] Training GLL is 601.9883199799274 at iteration 9.\n",
      "INFO     [merf.py:307] Training GLL is 603.4308334334705 at iteration 10.\n"
     ]
    },
    {
     "name": "stdout",
     "output_type": "stream",
     "text": [
      "Combination, ptev: 0.7679, prev: 0.2321, OOB Score: 24.2000\n",
      "Combination: (100, None, 0.15, 10, 5)\n",
      "\n"
     ]
    },
    {
     "name": "stderr",
     "output_type": "stream",
     "text": [
      "INFO     [merf.py:307] Training GLL is 601.7324053370284 at iteration 1.\n",
      "INFO     [merf.py:307] Training GLL is 624.1860803891828 at iteration 2.\n",
      "INFO     [merf.py:307] Training GLL is 617.9134354213969 at iteration 3.\n",
      "INFO     [merf.py:307] Training GLL is 600.345327761028 at iteration 4.\n",
      "INFO     [merf.py:307] Training GLL is 591.3511721793108 at iteration 5.\n",
      "INFO     [merf.py:307] Training GLL is 583.6199298256627 at iteration 6.\n",
      "INFO     [merf.py:307] Training GLL is 578.7829368884505 at iteration 7.\n",
      "INFO     [merf.py:307] Training GLL is 579.0947372937954 at iteration 8.\n",
      "INFO     [merf.py:307] Training GLL is 567.3064748066547 at iteration 9.\n",
      "INFO     [merf.py:307] Training GLL is 569.2437071917642 at iteration 10.\n"
     ]
    },
    {
     "name": "stdout",
     "output_type": "stream",
     "text": [
      "Combination, ptev: 0.6527, prev: 0.3473, OOB Score: 19.8000\n"
     ]
    },
    {
     "name": "stderr",
     "output_type": "stream",
     "text": [
      "INFO     [merf.py:307] Training GLL is 591.4809077167729 at iteration 1.\n",
      "INFO     [merf.py:307] Training GLL is 622.6412072630101 at iteration 2.\n",
      "INFO     [merf.py:307] Training GLL is 613.5221439075236 at iteration 3.\n",
      "INFO     [merf.py:307] Training GLL is 602.5526246753125 at iteration 4.\n",
      "INFO     [merf.py:307] Training GLL is 590.2573060153172 at iteration 5.\n",
      "INFO     [merf.py:307] Training GLL is 584.5156065992263 at iteration 6.\n",
      "INFO     [merf.py:307] Training GLL is 582.6471152798766 at iteration 7.\n",
      "INFO     [merf.py:307] Training GLL is 574.5470686069216 at iteration 8.\n",
      "INFO     [merf.py:307] Training GLL is 574.1090767372086 at iteration 9.\n",
      "INFO     [merf.py:307] Training GLL is 570.9517252632138 at iteration 10.\n"
     ]
    },
    {
     "name": "stdout",
     "output_type": "stream",
     "text": [
      "Combination, ptev: 0.6400, prev: 0.3600, OOB Score: 23.7000\n"
     ]
    },
    {
     "name": "stderr",
     "output_type": "stream",
     "text": [
      "INFO     [merf.py:307] Training GLL is 659.4943471252545 at iteration 1.\n",
      "INFO     [merf.py:307] Training GLL is 697.7684542467708 at iteration 2.\n",
      "INFO     [merf.py:307] Training GLL is 698.9907503642568 at iteration 3.\n",
      "INFO     [merf.py:307] Training GLL is 694.1260321723613 at iteration 4.\n",
      "INFO     [merf.py:307] Training GLL is 698.1571188329847 at iteration 5.\n",
      "INFO     [merf.py:307] Training GLL is 692.5692924416147 at iteration 6.\n",
      "INFO     [merf.py:307] Training GLL is 688.839839332318 at iteration 7.\n",
      "INFO     [merf.py:307] Training GLL is 686.3767709440605 at iteration 8.\n",
      "INFO     [merf.py:307] Training GLL is 684.0648722941988 at iteration 9.\n",
      "INFO     [merf.py:307] Training GLL is 686.5162501305801 at iteration 10.\n"
     ]
    },
    {
     "name": "stdout",
     "output_type": "stream",
     "text": [
      "Combination, ptev: 0.7292, prev: 0.2708, OOB Score: 23.9000\n"
     ]
    },
    {
     "name": "stderr",
     "output_type": "stream",
     "text": [
      "INFO     [merf.py:307] Training GLL is 636.4365186573189 at iteration 1.\n",
      "INFO     [merf.py:307] Training GLL is 668.8334142012122 at iteration 2.\n",
      "INFO     [merf.py:307] Training GLL is 663.5556263647683 at iteration 3.\n",
      "INFO     [merf.py:307] Training GLL is 659.5104667737871 at iteration 4.\n",
      "INFO     [merf.py:307] Training GLL is 656.4525467188699 at iteration 5.\n",
      "INFO     [merf.py:307] Training GLL is 658.2937332407754 at iteration 6.\n",
      "INFO     [merf.py:307] Training GLL is 654.0312658665723 at iteration 7.\n",
      "INFO     [merf.py:307] Training GLL is 651.7302759770496 at iteration 8.\n",
      "INFO     [merf.py:307] Training GLL is 653.3883763233829 at iteration 9.\n",
      "INFO     [merf.py:307] Training GLL is 654.6695970638765 at iteration 10.\n"
     ]
    },
    {
     "name": "stdout",
     "output_type": "stream",
     "text": [
      "Combination, ptev: 0.7151, prev: 0.2849, OOB Score: 20.0000\n"
     ]
    },
    {
     "name": "stderr",
     "output_type": "stream",
     "text": [
      "INFO     [merf.py:307] Training GLL is 646.5662697095269 at iteration 1.\n",
      "INFO     [merf.py:307] Training GLL is 685.8858227693173 at iteration 2.\n",
      "INFO     [merf.py:307] Training GLL is 689.1874200607683 at iteration 3.\n",
      "INFO     [merf.py:307] Training GLL is 680.9115505559314 at iteration 4.\n",
      "INFO     [merf.py:307] Training GLL is 681.4402646946338 at iteration 5.\n",
      "INFO     [merf.py:307] Training GLL is 673.0481290965415 at iteration 6.\n",
      "INFO     [merf.py:307] Training GLL is 668.1026076931014 at iteration 7.\n",
      "INFO     [merf.py:307] Training GLL is 667.0850222540727 at iteration 8.\n",
      "INFO     [merf.py:307] Training GLL is 667.1785200198211 at iteration 9.\n",
      "INFO     [merf.py:307] Training GLL is 671.9465584901733 at iteration 10.\n"
     ]
    },
    {
     "name": "stdout",
     "output_type": "stream",
     "text": [
      "Combination, ptev: 0.7332, prev: 0.2668, OOB Score: 27.5000\n",
      "Combination: (100, None, 0.15, 10, 10)\n",
      "\n"
     ]
    },
    {
     "name": "stderr",
     "output_type": "stream",
     "text": [
      "INFO     [merf.py:307] Training GLL is 688.4293053677073 at iteration 1.\n",
      "INFO     [merf.py:307] Training GLL is 695.5183119222884 at iteration 2.\n",
      "INFO     [merf.py:307] Training GLL is 687.2966571410318 at iteration 3.\n",
      "INFO     [merf.py:307] Training GLL is 680.741623226228 at iteration 4.\n",
      "INFO     [merf.py:307] Training GLL is 676.3147766339453 at iteration 5.\n",
      "INFO     [merf.py:307] Training GLL is 670.1100499680414 at iteration 6.\n",
      "INFO     [merf.py:307] Training GLL is 669.7375391384377 at iteration 7.\n",
      "INFO     [merf.py:307] Training GLL is 665.6009599247855 at iteration 8.\n",
      "INFO     [merf.py:307] Training GLL is 665.4956090654492 at iteration 9.\n",
      "INFO     [merf.py:307] Training GLL is 659.7167651937725 at iteration 10.\n"
     ]
    },
    {
     "name": "stdout",
     "output_type": "stream",
     "text": [
      "Combination, ptev: 0.6217, prev: 0.3783, OOB Score: 25.6000\n"
     ]
    },
    {
     "name": "stderr",
     "output_type": "stream",
     "text": [
      "INFO     [merf.py:307] Training GLL is 700.9109854939659 at iteration 1.\n",
      "INFO     [merf.py:307] Training GLL is 721.2457044935054 at iteration 2.\n",
      "INFO     [merf.py:307] Training GLL is 708.1082110503634 at iteration 3.\n",
      "INFO     [merf.py:307] Training GLL is 699.5686769303543 at iteration 4.\n",
      "INFO     [merf.py:307] Training GLL is 698.9752166140098 at iteration 5.\n",
      "INFO     [merf.py:307] Training GLL is 694.2587737219669 at iteration 6.\n",
      "INFO     [merf.py:307] Training GLL is 690.2472493808444 at iteration 7.\n",
      "INFO     [merf.py:307] Training GLL is 680.3034983955403 at iteration 8.\n",
      "INFO     [merf.py:307] Training GLL is 676.4761139266151 at iteration 9.\n",
      "INFO     [merf.py:307] Training GLL is 677.0140733036924 at iteration 10.\n"
     ]
    },
    {
     "name": "stdout",
     "output_type": "stream",
     "text": [
      "Combination, ptev: 0.6607, prev: 0.3393, OOB Score: 2.8000\n"
     ]
    },
    {
     "name": "stderr",
     "output_type": "stream",
     "text": [
      "INFO     [merf.py:307] Training GLL is 663.0697952182513 at iteration 1.\n",
      "INFO     [merf.py:307] Training GLL is 680.7033984872787 at iteration 2.\n",
      "INFO     [merf.py:307] Training GLL is 661.2150261074188 at iteration 3.\n",
      "INFO     [merf.py:307] Training GLL is 660.4338841657242 at iteration 4.\n",
      "INFO     [merf.py:307] Training GLL is 653.5063362247882 at iteration 5.\n",
      "INFO     [merf.py:307] Training GLL is 647.7332063630164 at iteration 6.\n",
      "INFO     [merf.py:307] Training GLL is 644.8409787400182 at iteration 7.\n",
      "INFO     [merf.py:307] Training GLL is 637.242087531444 at iteration 8.\n",
      "INFO     [merf.py:307] Training GLL is 633.103146012683 at iteration 9.\n",
      "INFO     [merf.py:307] Training GLL is 624.3445098254662 at iteration 10.\n"
     ]
    },
    {
     "name": "stdout",
     "output_type": "stream",
     "text": [
      "Combination, ptev: 0.6886, prev: 0.3114, OOB Score: 15.8000\n"
     ]
    },
    {
     "name": "stderr",
     "output_type": "stream",
     "text": [
      "INFO     [merf.py:307] Training GLL is 695.7836866525652 at iteration 1.\n",
      "INFO     [merf.py:307] Training GLL is 717.6563269388275 at iteration 2.\n",
      "INFO     [merf.py:307] Training GLL is 719.0327773382481 at iteration 3.\n",
      "INFO     [merf.py:307] Training GLL is 712.6353044259116 at iteration 4.\n",
      "INFO     [merf.py:307] Training GLL is 706.9830196171046 at iteration 5.\n",
      "INFO     [merf.py:307] Training GLL is 712.7388266426079 at iteration 6.\n",
      "INFO     [merf.py:307] Training GLL is 708.4848451930515 at iteration 7.\n",
      "INFO     [merf.py:307] Training GLL is 711.7056068033073 at iteration 8.\n",
      "INFO     [merf.py:307] Training GLL is 710.4704363591907 at iteration 9.\n",
      "INFO     [merf.py:307] Training GLL is 713.7892509598082 at iteration 10.\n"
     ]
    },
    {
     "name": "stdout",
     "output_type": "stream",
     "text": [
      "Combination, ptev: 0.6732, prev: 0.3268, OOB Score: 18.4000\n"
     ]
    },
    {
     "name": "stderr",
     "output_type": "stream",
     "text": [
      "INFO     [merf.py:307] Training GLL is 711.0734165299907 at iteration 1.\n",
      "INFO     [merf.py:307] Training GLL is 743.053091556273 at iteration 2.\n",
      "INFO     [merf.py:307] Training GLL is 737.7511891554567 at iteration 3.\n",
      "INFO     [merf.py:307] Training GLL is 736.8216627085355 at iteration 4.\n",
      "INFO     [merf.py:307] Training GLL is 731.9289435047799 at iteration 5.\n",
      "INFO     [merf.py:307] Training GLL is 725.3060387772236 at iteration 6.\n",
      "INFO     [merf.py:307] Training GLL is 728.1512631233458 at iteration 7.\n",
      "INFO     [merf.py:307] Training GLL is 725.9735019211956 at iteration 8.\n",
      "INFO     [merf.py:307] Training GLL is 720.7404368997549 at iteration 9.\n",
      "INFO     [merf.py:307] Training GLL is 720.3715071231035 at iteration 10.\n"
     ]
    },
    {
     "name": "stdout",
     "output_type": "stream",
     "text": [
      "Combination, ptev: 0.7177, prev: 0.2823, OOB Score: 16.6000\n"
     ]
    },
    {
     "name": "stderr",
     "output_type": "stream",
     "text": [
      "INFO     [merf.py:307] Training GLL is 719.2390737720593 at iteration 1.\n",
      "INFO     [merf.py:307] Training GLL is 736.0414034702071 at iteration 2.\n",
      "INFO     [merf.py:307] Training GLL is 723.817411303191 at iteration 3.\n",
      "INFO     [merf.py:307] Training GLL is 716.5866906013202 at iteration 4.\n",
      "INFO     [merf.py:307] Training GLL is 711.2145543290419 at iteration 5.\n",
      "INFO     [merf.py:307] Training GLL is 707.9056167545262 at iteration 6.\n",
      "INFO     [merf.py:307] Training GLL is 708.2383872075889 at iteration 7.\n",
      "INFO     [merf.py:307] Training GLL is 709.1292066852291 at iteration 8.\n",
      "INFO     [merf.py:307] Training GLL is 706.0603180074655 at iteration 9.\n",
      "INFO     [merf.py:307] Training GLL is 708.900201387789 at iteration 10.\n"
     ]
    },
    {
     "name": "stdout",
     "output_type": "stream",
     "text": [
      "Combination, ptev: 0.7522, prev: 0.2478, OOB Score: 28.6000\n"
     ]
    },
    {
     "name": "stderr",
     "output_type": "stream",
     "text": [
      "INFO     [merf.py:307] Training GLL is 713.5698383462831 at iteration 1.\n",
      "INFO     [merf.py:307] Training GLL is 739.8523958169912 at iteration 2.\n",
      "INFO     [merf.py:307] Training GLL is 731.54593764197 at iteration 3.\n",
      "INFO     [merf.py:307] Training GLL is 726.3540691834032 at iteration 4.\n",
      "INFO     [merf.py:307] Training GLL is 723.3901760257559 at iteration 5.\n",
      "INFO     [merf.py:307] Training GLL is 715.3323095481745 at iteration 6.\n",
      "INFO     [merf.py:307] Training GLL is 714.8757011391692 at iteration 7.\n",
      "INFO     [merf.py:307] Training GLL is 714.5602888958401 at iteration 8.\n",
      "INFO     [merf.py:307] Training GLL is 708.3421546313975 at iteration 9.\n",
      "INFO     [merf.py:307] Training GLL is 709.7590925097364 at iteration 10.\n"
     ]
    },
    {
     "name": "stdout",
     "output_type": "stream",
     "text": [
      "Combination, ptev: 0.7664, prev: 0.2336, OOB Score: 22.0000\n"
     ]
    },
    {
     "name": "stderr",
     "output_type": "stream",
     "text": [
      "INFO     [merf.py:307] Training GLL is 700.2697198114673 at iteration 1.\n",
      "INFO     [merf.py:307] Training GLL is 726.5089286100964 at iteration 2.\n",
      "INFO     [merf.py:307] Training GLL is 724.5296869763682 at iteration 3.\n",
      "INFO     [merf.py:307] Training GLL is 721.4746278631728 at iteration 4.\n",
      "INFO     [merf.py:307] Training GLL is 715.9896163757785 at iteration 5.\n",
      "INFO     [merf.py:307] Training GLL is 710.7417087100926 at iteration 6.\n",
      "INFO     [merf.py:307] Training GLL is 708.9183586566006 at iteration 7.\n",
      "INFO     [merf.py:307] Training GLL is 712.1137381343585 at iteration 8.\n",
      "INFO     [merf.py:307] Training GLL is 710.8732504321484 at iteration 9.\n",
      "INFO     [merf.py:307] Training GLL is 709.8574347555369 at iteration 10.\n"
     ]
    },
    {
     "name": "stdout",
     "output_type": "stream",
     "text": [
      "Combination, ptev: 0.7691, prev: 0.2309, OOB Score: 20.5000\n"
     ]
    },
    {
     "name": "stderr",
     "output_type": "stream",
     "text": [
      "INFO     [merf.py:307] Training GLL is 695.0128970975722 at iteration 1.\n",
      "INFO     [merf.py:307] Training GLL is 719.7943295794464 at iteration 2.\n",
      "INFO     [merf.py:307] Training GLL is 712.9549904396375 at iteration 3.\n",
      "INFO     [merf.py:307] Training GLL is 710.7291989098215 at iteration 4.\n",
      "INFO     [merf.py:307] Training GLL is 710.07938745826 at iteration 5.\n",
      "INFO     [merf.py:307] Training GLL is 704.3314416743834 at iteration 6.\n",
      "INFO     [merf.py:307] Training GLL is 702.2392150453277 at iteration 7.\n",
      "INFO     [merf.py:307] Training GLL is 702.7492049216685 at iteration 8.\n",
      "INFO     [merf.py:307] Training GLL is 701.3682056246959 at iteration 9.\n",
      "INFO     [merf.py:307] Training GLL is 699.8674842352165 at iteration 10.\n"
     ]
    },
    {
     "name": "stdout",
     "output_type": "stream",
     "text": [
      "Combination, ptev: 0.7570, prev: 0.2430, OOB Score: 29.5000\n"
     ]
    },
    {
     "name": "stderr",
     "output_type": "stream",
     "text": [
      "INFO     [merf.py:307] Training GLL is 716.5592368571838 at iteration 1.\n",
      "INFO     [merf.py:307] Training GLL is 745.7565794770281 at iteration 2.\n",
      "INFO     [merf.py:307] Training GLL is 742.4563476832881 at iteration 3.\n",
      "INFO     [merf.py:307] Training GLL is 747.392170071148 at iteration 4.\n",
      "INFO     [merf.py:307] Training GLL is 740.5846504914599 at iteration 5.\n",
      "INFO     [merf.py:307] Training GLL is 742.0740580290151 at iteration 6.\n",
      "INFO     [merf.py:307] Training GLL is 739.5134466254262 at iteration 7.\n",
      "INFO     [merf.py:307] Training GLL is 737.1939154050841 at iteration 8.\n",
      "INFO     [merf.py:307] Training GLL is 737.9941998244144 at iteration 9.\n",
      "INFO     [merf.py:307] Training GLL is 728.3234934514159 at iteration 10.\n"
     ]
    },
    {
     "name": "stdout",
     "output_type": "stream",
     "text": [
      "Combination, ptev: 0.7725, prev: 0.2275, OOB Score: 15.6000\n",
      "Combination: (500, None, 0.05, 2, 3)\n",
      "\n"
     ]
    },
    {
     "name": "stderr",
     "output_type": "stream",
     "text": [
      "INFO     [merf.py:307] Training GLL is 296.7276996438383 at iteration 1.\n",
      "INFO     [merf.py:307] Training GLL is 348.7852443141434 at iteration 2.\n"
     ]
    },
    {
     "name": "stdout",
     "output_type": "stream",
     "text": [
      "Combination, ptev: 0.4883, prev: 0.5117, OOB Score: 15.6000\n"
     ]
    },
    {
     "name": "stderr",
     "output_type": "stream",
     "text": [
      "INFO     [merf.py:307] Training GLL is 375.3764502692303 at iteration 1.\n",
      "INFO     [merf.py:307] Training GLL is 467.3038058065196 at iteration 2.\n"
     ]
    },
    {
     "name": "stdout",
     "output_type": "stream",
     "text": [
      "Combination, ptev: 0.5772, prev: 0.4228, OOB Score: 4.7000\n"
     ]
    },
    {
     "name": "stderr",
     "output_type": "stream",
     "text": [
      "INFO     [merf.py:307] Training GLL is 343.196739623666 at iteration 1.\n",
      "INFO     [merf.py:307] Training GLL is 428.2919995301595 at iteration 2.\n"
     ]
    },
    {
     "name": "stdout",
     "output_type": "stream",
     "text": [
      "Combination, ptev: 0.5593, prev: 0.4407, OOB Score: 14.3000\n",
      "Combination: (500, None, 0.05, 2, 5)\n",
      "\n"
     ]
    },
    {
     "name": "stderr",
     "output_type": "stream",
     "text": [
      "INFO     [merf.py:307] Training GLL is 418.61167805051184 at iteration 1.\n",
      "INFO     [merf.py:307] Training GLL is 473.4776109983911 at iteration 2.\n"
     ]
    },
    {
     "name": "stdout",
     "output_type": "stream",
     "text": [
      "Combination, ptev: 0.4410, prev: 0.5590, OOB Score: 16.7000\n"
     ]
    },
    {
     "name": "stderr",
     "output_type": "stream",
     "text": [
      "INFO     [merf.py:307] Training GLL is 408.90250978723077 at iteration 1.\n",
      "INFO     [merf.py:307] Training GLL is 459.46665221053746 at iteration 2.\n"
     ]
    },
    {
     "name": "stdout",
     "output_type": "stream",
     "text": [
      "Combination, ptev: 0.4890, prev: 0.5110, OOB Score: 13.7000\n"
     ]
    },
    {
     "name": "stderr",
     "output_type": "stream",
     "text": [
      "INFO     [merf.py:307] Training GLL is 461.1020579227609 at iteration 1.\n",
      "INFO     [merf.py:307] Training GLL is 532.8030767212277 at iteration 2.\n"
     ]
    },
    {
     "name": "stdout",
     "output_type": "stream",
     "text": [
      "Combination, ptev: 0.5600, prev: 0.4400, OOB Score: 8.4000\n"
     ]
    },
    {
     "name": "stderr",
     "output_type": "stream",
     "text": [
      "INFO     [merf.py:307] Training GLL is 417.85251683909615 at iteration 1.\n",
      "INFO     [merf.py:307] Training GLL is 498.61641626853566 at iteration 2.\n"
     ]
    },
    {
     "name": "stdout",
     "output_type": "stream",
     "text": [
      "Combination, ptev: 0.5288, prev: 0.4712, OOB Score: 15.0000\n"
     ]
    },
    {
     "name": "stderr",
     "output_type": "stream",
     "text": [
      "INFO     [merf.py:307] Training GLL is 440.4786187534236 at iteration 1.\n",
      "INFO     [merf.py:307] Training GLL is 511.627935377891 at iteration 2.\n"
     ]
    },
    {
     "name": "stdout",
     "output_type": "stream",
     "text": [
      "Combination, ptev: 0.5411, prev: 0.4589, OOB Score: 15.4000\n",
      "Combination: (500, None, 0.05, 2, 10)\n",
      "\n"
     ]
    },
    {
     "name": "stderr",
     "output_type": "stream",
     "text": [
      "INFO     [merf.py:307] Training GLL is 471.43426058957874 at iteration 1.\n",
      "INFO     [merf.py:307] Training GLL is 529.2257571778229 at iteration 2.\n"
     ]
    },
    {
     "name": "stdout",
     "output_type": "stream",
     "text": [
      "Combination, ptev: 0.3617, prev: 0.6383, OOB Score: 17.1000\n"
     ]
    },
    {
     "name": "stderr",
     "output_type": "stream",
     "text": [
      "INFO     [merf.py:307] Training GLL is 494.1720557389409 at iteration 1.\n",
      "INFO     [merf.py:307] Training GLL is 555.643820681443 at iteration 2.\n"
     ]
    },
    {
     "name": "stdout",
     "output_type": "stream",
     "text": [
      "Combination, ptev: 0.4752, prev: 0.5248, OOB Score: 11.9000\n"
     ]
    },
    {
     "name": "stderr",
     "output_type": "stream",
     "text": [
      "INFO     [merf.py:307] Training GLL is 464.1453021939237 at iteration 1.\n",
      "INFO     [merf.py:307] Training GLL is 515.2335037377026 at iteration 2.\n"
     ]
    },
    {
     "name": "stdout",
     "output_type": "stream",
     "text": [
      "Combination, ptev: 0.5328, prev: 0.4672, OOB Score: 14.7000\n"
     ]
    },
    {
     "name": "stderr",
     "output_type": "stream",
     "text": [
      "INFO     [merf.py:307] Training GLL is 495.07554821980386 at iteration 1.\n",
      "INFO     [merf.py:307] Training GLL is 546.3130221506791 at iteration 2.\n"
     ]
    },
    {
     "name": "stdout",
     "output_type": "stream",
     "text": [
      "Combination, ptev: 0.5404, prev: 0.4596, OOB Score: 13.1000\n"
     ]
    },
    {
     "name": "stderr",
     "output_type": "stream",
     "text": [
      "INFO     [merf.py:307] Training GLL is 504.8479380384355 at iteration 1.\n",
      "INFO     [merf.py:307] Training GLL is 566.3726434658606 at iteration 2.\n"
     ]
    },
    {
     "name": "stdout",
     "output_type": "stream",
     "text": [
      "Combination, ptev: 0.5651, prev: 0.4349, OOB Score: 11.7000\n"
     ]
    },
    {
     "name": "stderr",
     "output_type": "stream",
     "text": [
      "INFO     [merf.py:307] Training GLL is 509.6620217466651 at iteration 1.\n",
      "INFO     [merf.py:307] Training GLL is 563.9027796684526 at iteration 2.\n"
     ]
    },
    {
     "name": "stdout",
     "output_type": "stream",
     "text": [
      "Combination, ptev: 0.5948, prev: 0.4052, OOB Score: 12.8000\n"
     ]
    },
    {
     "name": "stderr",
     "output_type": "stream",
     "text": [
      "INFO     [merf.py:307] Training GLL is 488.6992177742557 at iteration 1.\n",
      "INFO     [merf.py:307] Training GLL is 553.7430410693142 at iteration 2.\n"
     ]
    },
    {
     "name": "stdout",
     "output_type": "stream",
     "text": [
      "Combination, ptev: 0.5936, prev: 0.4064, OOB Score: 15.6000\n"
     ]
    },
    {
     "name": "stderr",
     "output_type": "stream",
     "text": [
      "INFO     [merf.py:307] Training GLL is 486.4726338762727 at iteration 1.\n",
      "INFO     [merf.py:307] Training GLL is 551.2626626719926 at iteration 2.\n"
     ]
    },
    {
     "name": "stdout",
     "output_type": "stream",
     "text": [
      "Combination, ptev: 0.5947, prev: 0.4053, OOB Score: 14.5000\n"
     ]
    },
    {
     "name": "stderr",
     "output_type": "stream",
     "text": [
      "INFO     [merf.py:307] Training GLL is 491.8695749920005 at iteration 1.\n",
      "INFO     [merf.py:307] Training GLL is 555.3759500133693 at iteration 2.\n"
     ]
    },
    {
     "name": "stdout",
     "output_type": "stream",
     "text": [
      "Combination, ptev: 0.5874, prev: 0.4126, OOB Score: 15.0000\n"
     ]
    },
    {
     "name": "stderr",
     "output_type": "stream",
     "text": [
      "INFO     [merf.py:307] Training GLL is 499.21911365298627 at iteration 1.\n",
      "INFO     [merf.py:307] Training GLL is 565.5532399869878 at iteration 2.\n"
     ]
    },
    {
     "name": "stdout",
     "output_type": "stream",
     "text": [
      "Combination, ptev: 0.5974, prev: 0.4026, OOB Score: 14.0000\n",
      "Combination: (500, None, 0.05, 10, 3)\n",
      "\n"
     ]
    },
    {
     "name": "stderr",
     "output_type": "stream",
     "text": [
      "INFO     [merf.py:307] Training GLL is 298.3494693704302 at iteration 1.\n",
      "INFO     [merf.py:307] Training GLL is 349.0582428491166 at iteration 2.\n",
      "INFO     [merf.py:307] Training GLL is 327.96582398698393 at iteration 3.\n",
      "INFO     [merf.py:307] Training GLL is 306.4247559470088 at iteration 4.\n",
      "INFO     [merf.py:307] Training GLL is 288.3195267543135 at iteration 5.\n",
      "INFO     [merf.py:307] Training GLL is 277.0476071555818 at iteration 6.\n",
      "INFO     [merf.py:307] Training GLL is 262.69996046103927 at iteration 7.\n",
      "INFO     [merf.py:307] Training GLL is 246.1483534053961 at iteration 8.\n",
      "INFO     [merf.py:307] Training GLL is 239.1222792766387 at iteration 9.\n",
      "INFO     [merf.py:307] Training GLL is 230.3719130021047 at iteration 10.\n"
     ]
    },
    {
     "name": "stdout",
     "output_type": "stream",
     "text": [
      "Combination, ptev: 0.6956, prev: 0.3044, OOB Score: 27.5000\n"
     ]
    },
    {
     "name": "stderr",
     "output_type": "stream",
     "text": [
      "INFO     [merf.py:307] Training GLL is 379.16604123263465 at iteration 1.\n",
      "INFO     [merf.py:307] Training GLL is 469.3453927063554 at iteration 2.\n",
      "INFO     [merf.py:307] Training GLL is 482.4890248618087 at iteration 3.\n",
      "INFO     [merf.py:307] Training GLL is 492.35199475532715 at iteration 4.\n",
      "INFO     [merf.py:307] Training GLL is 493.548879408913 at iteration 5.\n",
      "INFO     [merf.py:307] Training GLL is 497.3544644222452 at iteration 6.\n",
      "INFO     [merf.py:307] Training GLL is 494.8797427983322 at iteration 7.\n",
      "INFO     [merf.py:307] Training GLL is 491.3900945254046 at iteration 8.\n",
      "INFO     [merf.py:307] Training GLL is 489.3908609820016 at iteration 9.\n",
      "INFO     [merf.py:307] Training GLL is 486.4802463255586 at iteration 10.\n"
     ]
    },
    {
     "name": "stdout",
     "output_type": "stream",
     "text": [
      "Combination, ptev: 0.7771, prev: 0.2229, OOB Score: 25.3000\n"
     ]
    },
    {
     "name": "stderr",
     "output_type": "stream",
     "text": [
      "INFO     [merf.py:307] Training GLL is 348.40111018248 at iteration 1.\n",
      "INFO     [merf.py:307] Training GLL is 424.22782724986075 at iteration 2.\n",
      "INFO     [merf.py:307] Training GLL is 441.9664740864887 at iteration 3.\n",
      "INFO     [merf.py:307] Training GLL is 453.12693302174716 at iteration 4.\n",
      "INFO     [merf.py:307] Training GLL is 458.7181674025697 at iteration 5.\n",
      "INFO     [merf.py:307] Training GLL is 459.72192746989316 at iteration 6.\n",
      "INFO     [merf.py:307] Training GLL is 465.05746978786226 at iteration 7.\n",
      "INFO     [merf.py:307] Training GLL is 466.3771771642793 at iteration 8.\n",
      "INFO     [merf.py:307] Training GLL is 464.5831380672375 at iteration 9.\n",
      "INFO     [merf.py:307] Training GLL is 468.5790653949569 at iteration 10.\n"
     ]
    },
    {
     "name": "stdout",
     "output_type": "stream",
     "text": [
      "Combination, ptev: 0.7737, prev: 0.2263, OOB Score: 25.3000\n",
      "Combination: (500, None, 0.05, 10, 5)\n",
      "\n"
     ]
    },
    {
     "name": "stderr",
     "output_type": "stream",
     "text": [
      "INFO     [merf.py:307] Training GLL is 411.0970294916898 at iteration 1.\n",
      "INFO     [merf.py:307] Training GLL is 473.93476935197424 at iteration 2.\n",
      "INFO     [merf.py:307] Training GLL is 465.96432123608884 at iteration 3.\n",
      "INFO     [merf.py:307] Training GLL is 455.50439702031235 at iteration 4.\n",
      "INFO     [merf.py:307] Training GLL is 453.13765912019164 at iteration 5.\n",
      "INFO     [merf.py:307] Training GLL is 441.5640750837617 at iteration 6.\n",
      "INFO     [merf.py:307] Training GLL is 431.38335201762715 at iteration 7.\n",
      "INFO     [merf.py:307] Training GLL is 430.6911802033975 at iteration 8.\n",
      "INFO     [merf.py:307] Training GLL is 425.84111388744304 at iteration 9.\n",
      "INFO     [merf.py:307] Training GLL is 421.2310551295971 at iteration 10.\n"
     ]
    },
    {
     "name": "stdout",
     "output_type": "stream",
     "text": [
      "Combination, ptev: 0.6435, prev: 0.3565, OOB Score: 26.4000\n"
     ]
    },
    {
     "name": "stderr",
     "output_type": "stream",
     "text": [
      "INFO     [merf.py:307] Training GLL is 407.06125637028396 at iteration 1.\n",
      "INFO     [merf.py:307] Training GLL is 461.3960163755291 at iteration 2.\n",
      "INFO     [merf.py:307] Training GLL is 449.0517714799383 at iteration 3.\n",
      "INFO     [merf.py:307] Training GLL is 447.91167047971476 at iteration 4.\n",
      "INFO     [merf.py:307] Training GLL is 444.6042362285348 at iteration 5.\n",
      "INFO     [merf.py:307] Training GLL is 437.8940645769816 at iteration 6.\n",
      "INFO     [merf.py:307] Training GLL is 435.5732695362505 at iteration 7.\n",
      "INFO     [merf.py:307] Training GLL is 425.63049532087484 at iteration 8.\n",
      "INFO     [merf.py:307] Training GLL is 423.6872172964614 at iteration 9.\n",
      "INFO     [merf.py:307] Training GLL is 424.234447857531 at iteration 10.\n"
     ]
    },
    {
     "name": "stdout",
     "output_type": "stream",
     "text": [
      "Combination, ptev: 0.6357, prev: 0.3643, OOB Score: 28.6000\n"
     ]
    },
    {
     "name": "stderr",
     "output_type": "stream",
     "text": [
      "INFO     [merf.py:307] Training GLL is 465.4193712148144 at iteration 1.\n",
      "INFO     [merf.py:307] Training GLL is 539.6763490325493 at iteration 2.\n",
      "INFO     [merf.py:307] Training GLL is 544.4416033195515 at iteration 3.\n",
      "INFO     [merf.py:307] Training GLL is 544.7334790139572 at iteration 4.\n",
      "INFO     [merf.py:307] Training GLL is 544.2143244703674 at iteration 5.\n",
      "INFO     [merf.py:307] Training GLL is 543.3010530246274 at iteration 6.\n",
      "INFO     [merf.py:307] Training GLL is 543.1854329305885 at iteration 7.\n",
      "INFO     [merf.py:307] Training GLL is 539.9874752546766 at iteration 8.\n",
      "INFO     [merf.py:307] Training GLL is 539.5737802172308 at iteration 9.\n",
      "INFO     [merf.py:307] Training GLL is 536.8413939172691 at iteration 10.\n"
     ]
    },
    {
     "name": "stdout",
     "output_type": "stream",
     "text": [
      "Combination, ptev: 0.7284, prev: 0.2716, OOB Score: 22.7000\n"
     ]
    },
    {
     "name": "stderr",
     "output_type": "stream",
     "text": [
      "INFO     [merf.py:307] Training GLL is 418.5608304490706 at iteration 1.\n",
      "INFO     [merf.py:307] Training GLL is 493.6483004747968 at iteration 2.\n",
      "INFO     [merf.py:307] Training GLL is 496.8196732574708 at iteration 3.\n",
      "INFO     [merf.py:307] Training GLL is 499.37549472191535 at iteration 4.\n",
      "INFO     [merf.py:307] Training GLL is 499.9395259954522 at iteration 5.\n",
      "INFO     [merf.py:307] Training GLL is 495.94897772512115 at iteration 6.\n",
      "INFO     [merf.py:307] Training GLL is 494.0782340633312 at iteration 7.\n",
      "INFO     [merf.py:307] Training GLL is 493.98894509550297 at iteration 8.\n",
      "INFO     [merf.py:307] Training GLL is 493.88093813825776 at iteration 9.\n",
      "INFO     [merf.py:307] Training GLL is 493.19416537340226 at iteration 10.\n"
     ]
    },
    {
     "name": "stdout",
     "output_type": "stream",
     "text": [
      "Combination, ptev: 0.7161, prev: 0.2839, OOB Score: 20.7000\n"
     ]
    },
    {
     "name": "stderr",
     "output_type": "stream",
     "text": [
      "INFO     [merf.py:307] Training GLL is 443.6457463405928 at iteration 1.\n",
      "INFO     [merf.py:307] Training GLL is 513.1163197812342 at iteration 2.\n",
      "INFO     [merf.py:307] Training GLL is 520.9032571625219 at iteration 3.\n",
      "INFO     [merf.py:307] Training GLL is 519.1572944108228 at iteration 4.\n",
      "INFO     [merf.py:307] Training GLL is 522.7591129651493 at iteration 5.\n",
      "INFO     [merf.py:307] Training GLL is 522.3136181626692 at iteration 6.\n",
      "INFO     [merf.py:307] Training GLL is 523.8308711620751 at iteration 7.\n",
      "INFO     [merf.py:307] Training GLL is 517.3347193067484 at iteration 8.\n",
      "INFO     [merf.py:307] Training GLL is 522.6919744537412 at iteration 9.\n",
      "INFO     [merf.py:307] Training GLL is 514.0634636488785 at iteration 10.\n"
     ]
    },
    {
     "name": "stdout",
     "output_type": "stream",
     "text": [
      "Combination, ptev: 0.7357, prev: 0.2643, OOB Score: 32.1000\n",
      "Combination: (500, None, 0.05, 10, 10)\n",
      "\n"
     ]
    },
    {
     "name": "stderr",
     "output_type": "stream",
     "text": [
      "INFO     [merf.py:307] Training GLL is 476.1806845631999 at iteration 1.\n",
      "INFO     [merf.py:307] Training GLL is 529.590373754492 at iteration 2.\n",
      "INFO     [merf.py:307] Training GLL is 522.873168368418 at iteration 3.\n",
      "INFO     [merf.py:307] Training GLL is 521.7607499261504 at iteration 4.\n",
      "INFO     [merf.py:307] Training GLL is 518.0945033963725 at iteration 5.\n",
      "INFO     [merf.py:307] Training GLL is 511.6031837803727 at iteration 6.\n",
      "INFO     [merf.py:307] Training GLL is 504.28725180922254 at iteration 7.\n",
      "INFO     [merf.py:307] Training GLL is 501.96981649744004 at iteration 8.\n",
      "INFO     [merf.py:307] Training GLL is 499.0636589856817 at iteration 9.\n",
      "INFO     [merf.py:307] Training GLL is 502.4610044065627 at iteration 10.\n"
     ]
    },
    {
     "name": "stdout",
     "output_type": "stream",
     "text": [
      "Combination, ptev: 0.6091, prev: 0.3909, OOB Score: 29.5000\n"
     ]
    },
    {
     "name": "stderr",
     "output_type": "stream",
     "text": [
      "INFO     [merf.py:307] Training GLL is 491.7666599202919 at iteration 1.\n",
      "INFO     [merf.py:307] Training GLL is 550.7562700600457 at iteration 2.\n",
      "INFO     [merf.py:307] Training GLL is 551.9263304751544 at iteration 3.\n",
      "INFO     [merf.py:307] Training GLL is 540.9572847371978 at iteration 4.\n",
      "INFO     [merf.py:307] Training GLL is 537.8431949935681 at iteration 5.\n",
      "INFO     [merf.py:307] Training GLL is 533.4798458900276 at iteration 6.\n",
      "INFO     [merf.py:307] Training GLL is 527.6036337995522 at iteration 7.\n",
      "INFO     [merf.py:307] Training GLL is 521.2925674061117 at iteration 8.\n",
      "INFO     [merf.py:307] Training GLL is 518.500073735371 at iteration 9.\n",
      "INFO     [merf.py:307] Training GLL is 518.466566193608 at iteration 10.\n"
     ]
    },
    {
     "name": "stdout",
     "output_type": "stream",
     "text": [
      "Combination, ptev: 0.6513, prev: 0.3487, OOB Score: 8.4000\n"
     ]
    },
    {
     "name": "stderr",
     "output_type": "stream",
     "text": [
      "INFO     [merf.py:307] Training GLL is 464.9512499118119 at iteration 1.\n",
      "INFO     [merf.py:307] Training GLL is 517.637053526523 at iteration 2.\n",
      "INFO     [merf.py:307] Training GLL is 500.85486872361633 at iteration 3.\n",
      "INFO     [merf.py:307] Training GLL is 494.3495616652639 at iteration 4.\n",
      "INFO     [merf.py:307] Training GLL is 487.8082203228367 at iteration 5.\n",
      "INFO     [merf.py:307] Training GLL is 477.7422587155133 at iteration 6.\n",
      "INFO     [merf.py:307] Training GLL is 476.3976122435171 at iteration 7.\n",
      "INFO     [merf.py:307] Training GLL is 470.9256373147617 at iteration 8.\n",
      "INFO     [merf.py:307] Training GLL is 470.62703538115676 at iteration 9.\n",
      "INFO     [merf.py:307] Training GLL is 471.3077616117564 at iteration 10.\n"
     ]
    },
    {
     "name": "stdout",
     "output_type": "stream",
     "text": [
      "Combination, ptev: 0.6798, prev: 0.3202, OOB Score: 26.1000\n"
     ]
    },
    {
     "name": "stderr",
     "output_type": "stream",
     "text": [
      "INFO     [merf.py:307] Training GLL is 490.23605776746695 at iteration 1.\n",
      "INFO     [merf.py:307] Training GLL is 552.4232673477323 at iteration 2.\n",
      "INFO     [merf.py:307] Training GLL is 552.6400595557996 at iteration 3.\n",
      "INFO     [merf.py:307] Training GLL is 555.5343895746028 at iteration 4.\n",
      "INFO     [merf.py:307] Training GLL is 550.450426610892 at iteration 5.\n",
      "INFO     [merf.py:307] Training GLL is 547.7299945345313 at iteration 6.\n",
      "INFO     [merf.py:307] Training GLL is 544.7109998052582 at iteration 7.\n",
      "INFO     [merf.py:307] Training GLL is 541.5587127906227 at iteration 8.\n",
      "INFO     [merf.py:307] Training GLL is 539.6863861809029 at iteration 9.\n",
      "INFO     [merf.py:307] Training GLL is 540.386600808404 at iteration 10.\n"
     ]
    },
    {
     "name": "stdout",
     "output_type": "stream",
     "text": [
      "Combination, ptev: 0.6639, prev: 0.3361, OOB Score: 24.4000\n"
     ]
    },
    {
     "name": "stderr",
     "output_type": "stream",
     "text": [
      "INFO     [merf.py:307] Training GLL is 493.8833988862241 at iteration 1.\n",
      "INFO     [merf.py:307] Training GLL is 570.4630335063177 at iteration 2.\n",
      "INFO     [merf.py:307] Training GLL is 568.5605128659337 at iteration 3.\n",
      "INFO     [merf.py:307] Training GLL is 570.0297835983149 at iteration 4.\n",
      "INFO     [merf.py:307] Training GLL is 567.5486249840645 at iteration 5.\n",
      "INFO     [merf.py:307] Training GLL is 561.4429896030689 at iteration 6.\n",
      "INFO     [merf.py:307] Training GLL is 561.0889799901414 at iteration 7.\n",
      "INFO     [merf.py:307] Training GLL is 560.6371887894405 at iteration 8.\n",
      "INFO     [merf.py:307] Training GLL is 560.8480947146576 at iteration 9.\n",
      "INFO     [merf.py:307] Training GLL is 560.7480529617217 at iteration 10.\n"
     ]
    },
    {
     "name": "stdout",
     "output_type": "stream",
     "text": [
      "Combination, ptev: 0.7126, prev: 0.2874, OOB Score: 21.3000\n"
     ]
    },
    {
     "name": "stderr",
     "output_type": "stream",
     "text": [
      "INFO     [merf.py:307] Training GLL is 507.5484154335883 at iteration 1.\n",
      "INFO     [merf.py:307] Training GLL is 568.7710126467041 at iteration 2.\n",
      "INFO     [merf.py:307] Training GLL is 571.0269102206103 at iteration 3.\n",
      "INFO     [merf.py:307] Training GLL is 557.4554145792201 at iteration 4.\n",
      "INFO     [merf.py:307] Training GLL is 557.4274823228071 at iteration 5.\n",
      "INFO     [merf.py:307] Training GLL is 546.0354715677391 at iteration 6.\n",
      "INFO     [merf.py:307] Training GLL is 542.4116830006984 at iteration 7.\n",
      "INFO     [merf.py:307] Training GLL is 543.9137302765849 at iteration 8.\n",
      "INFO     [merf.py:307] Training GLL is 542.3694359497758 at iteration 9.\n",
      "INFO     [merf.py:307] Training GLL is 543.8863034941946 at iteration 10.\n"
     ]
    },
    {
     "name": "stdout",
     "output_type": "stream",
     "text": [
      "Combination, ptev: 0.7457, prev: 0.2543, OOB Score: 33.6000\n"
     ]
    },
    {
     "name": "stderr",
     "output_type": "stream",
     "text": [
      "INFO     [merf.py:307] Training GLL is 486.93219389434756 at iteration 1.\n",
      "INFO     [merf.py:307] Training GLL is 552.9970482101802 at iteration 2.\n",
      "INFO     [merf.py:307] Training GLL is 558.4264336181558 at iteration 3.\n",
      "INFO     [merf.py:307] Training GLL is 557.5159227702313 at iteration 4.\n",
      "INFO     [merf.py:307] Training GLL is 555.073896198885 at iteration 5.\n",
      "INFO     [merf.py:307] Training GLL is 547.6472153599583 at iteration 6.\n",
      "INFO     [merf.py:307] Training GLL is 546.5999049150408 at iteration 7.\n",
      "INFO     [merf.py:307] Training GLL is 543.6299394793715 at iteration 8.\n",
      "INFO     [merf.py:307] Training GLL is 541.4300759483107 at iteration 9.\n",
      "INFO     [merf.py:307] Training GLL is 542.0305803054652 at iteration 10.\n"
     ]
    },
    {
     "name": "stdout",
     "output_type": "stream",
     "text": [
      "Combination, ptev: 0.7624, prev: 0.2376, OOB Score: 21.9000\n"
     ]
    },
    {
     "name": "stderr",
     "output_type": "stream",
     "text": [
      "INFO     [merf.py:307] Training GLL is 490.33955484648413 at iteration 1.\n",
      "INFO     [merf.py:307] Training GLL is 546.4086390597803 at iteration 2.\n",
      "INFO     [merf.py:307] Training GLL is 549.4547790189713 at iteration 3.\n",
      "INFO     [merf.py:307] Training GLL is 549.5062226239006 at iteration 4.\n",
      "INFO     [merf.py:307] Training GLL is 541.7655531542538 at iteration 5.\n",
      "INFO     [merf.py:307] Training GLL is 539.6909303855566 at iteration 6.\n",
      "INFO     [merf.py:307] Training GLL is 539.0443882042825 at iteration 7.\n",
      "INFO     [merf.py:307] Training GLL is 535.4254862433692 at iteration 8.\n",
      "INFO     [merf.py:307] Training GLL is 534.4464073771334 at iteration 9.\n",
      "INFO     [merf.py:307] Training GLL is 535.3156810328707 at iteration 10.\n"
     ]
    },
    {
     "name": "stdout",
     "output_type": "stream",
     "text": [
      "Combination, ptev: 0.7663, prev: 0.2337, OOB Score: 26.5000\n"
     ]
    },
    {
     "name": "stderr",
     "output_type": "stream",
     "text": [
      "INFO     [merf.py:307] Training GLL is 488.2222424185492 at iteration 1.\n",
      "INFO     [merf.py:307] Training GLL is 552.3212310484586 at iteration 2.\n",
      "INFO     [merf.py:307] Training GLL is 546.2885018295506 at iteration 3.\n",
      "INFO     [merf.py:307] Training GLL is 543.2355446423406 at iteration 4.\n",
      "INFO     [merf.py:307] Training GLL is 538.6709069473072 at iteration 5.\n",
      "INFO     [merf.py:307] Training GLL is 536.8024443105282 at iteration 6.\n",
      "INFO     [merf.py:307] Training GLL is 531.3517813335453 at iteration 7.\n",
      "INFO     [merf.py:307] Training GLL is 533.0793607111165 at iteration 8.\n",
      "INFO     [merf.py:307] Training GLL is 530.4488271624689 at iteration 9.\n",
      "INFO     [merf.py:307] Training GLL is 531.1980208882428 at iteration 10.\n"
     ]
    },
    {
     "name": "stdout",
     "output_type": "stream",
     "text": [
      "Combination, ptev: 0.7589, prev: 0.2411, OOB Score: 33.6000\n"
     ]
    },
    {
     "name": "stderr",
     "output_type": "stream",
     "text": [
      "INFO     [merf.py:307] Training GLL is 506.32162858574355 at iteration 1.\n",
      "INFO     [merf.py:307] Training GLL is 567.2335347518515 at iteration 2.\n",
      "INFO     [merf.py:307] Training GLL is 567.9029670357052 at iteration 3.\n",
      "INFO     [merf.py:307] Training GLL is 567.6129282582813 at iteration 4.\n",
      "INFO     [merf.py:307] Training GLL is 565.3794801327853 at iteration 5.\n",
      "INFO     [merf.py:307] Training GLL is 565.2012378954876 at iteration 6.\n",
      "INFO     [merf.py:307] Training GLL is 565.4756111220787 at iteration 7.\n",
      "INFO     [merf.py:307] Training GLL is 562.7971556207406 at iteration 8.\n",
      "INFO     [merf.py:307] Training GLL is 562.444998639713 at iteration 9.\n",
      "INFO     [merf.py:307] Training GLL is 564.7627799126406 at iteration 10.\n"
     ]
    },
    {
     "name": "stdout",
     "output_type": "stream",
     "text": [
      "Combination, ptev: 0.7719, prev: 0.2281, OOB Score: 22.7000\n",
      "Combination: (500, None, 0.1, 2, 3)\n",
      "\n"
     ]
    },
    {
     "name": "stderr",
     "output_type": "stream",
     "text": [
      "INFO     [merf.py:307] Training GLL is 414.0843843280309 at iteration 1.\n",
      "INFO     [merf.py:307] Training GLL is 430.7621155990496 at iteration 2.\n"
     ]
    },
    {
     "name": "stdout",
     "output_type": "stream",
     "text": [
      "Combination, ptev: 0.5695, prev: 0.4305, OOB Score: 17.5000\n"
     ]
    },
    {
     "name": "stderr",
     "output_type": "stream",
     "text": [
      "INFO     [merf.py:307] Training GLL is 506.4763937692897 at iteration 1.\n",
      "INFO     [merf.py:307] Training GLL is 573.0186898557702 at iteration 2.\n"
     ]
    },
    {
     "name": "stdout",
     "output_type": "stream",
     "text": [
      "Combination, ptev: 0.6462, prev: 0.3538, OOB Score: 8.5000\n"
     ]
    },
    {
     "name": "stderr",
     "output_type": "stream",
     "text": [
      "INFO     [merf.py:307] Training GLL is 472.3913494700795 at iteration 1.\n",
      "INFO     [merf.py:307] Training GLL is 534.3204586081205 at iteration 2.\n"
     ]
    },
    {
     "name": "stdout",
     "output_type": "stream",
     "text": [
      "Combination, ptev: 0.6311, prev: 0.3689, OOB Score: 17.8000\n",
      "Combination: (500, None, 0.1, 2, 5)\n",
      "\n"
     ]
    },
    {
     "name": "stderr",
     "output_type": "stream",
     "text": [
      "INFO     [merf.py:307] Training GLL is 536.8505201296919 at iteration 1.\n",
      "INFO     [merf.py:307] Training GLL is 568.492430077763 at iteration 2.\n"
     ]
    },
    {
     "name": "stdout",
     "output_type": "stream",
     "text": [
      "Combination, ptev: 0.5293, prev: 0.4707, OOB Score: 19.6000\n"
     ]
    },
    {
     "name": "stderr",
     "output_type": "stream",
     "text": [
      "INFO     [merf.py:307] Training GLL is 525.8817283521455 at iteration 1.\n",
      "INFO     [merf.py:307] Training GLL is 561.6400358999405 at iteration 2.\n"
     ]
    },
    {
     "name": "stdout",
     "output_type": "stream",
     "text": [
      "Combination, ptev: 0.5603, prev: 0.4397, OOB Score: 15.7000\n"
     ]
    },
    {
     "name": "stderr",
     "output_type": "stream",
     "text": [
      "INFO     [merf.py:307] Training GLL is 583.64336698367 at iteration 1.\n",
      "INFO     [merf.py:307] Training GLL is 641.4473362205488 at iteration 2.\n"
     ]
    },
    {
     "name": "stdout",
     "output_type": "stream",
     "text": [
      "Combination, ptev: 0.6301, prev: 0.3699, OOB Score: 9.1000\n"
     ]
    },
    {
     "name": "stderr",
     "output_type": "stream",
     "text": [
      "INFO     [merf.py:307] Training GLL is 554.6393788980304 at iteration 1.\n",
      "INFO     [merf.py:307] Training GLL is 605.3456061933877 at iteration 2.\n"
     ]
    },
    {
     "name": "stdout",
     "output_type": "stream",
     "text": [
      "Combination, ptev: 0.6006, prev: 0.3994, OOB Score: 16.9000\n"
     ]
    },
    {
     "name": "stderr",
     "output_type": "stream",
     "text": [
      "INFO     [merf.py:307] Training GLL is 567.379305081254 at iteration 1.\n",
      "INFO     [merf.py:307] Training GLL is 621.7480471014416 at iteration 2.\n"
     ]
    },
    {
     "name": "stdout",
     "output_type": "stream",
     "text": [
      "Combination, ptev: 0.6142, prev: 0.3858, OOB Score: 17.6000\n",
      "Combination: (500, None, 0.1, 2, 10)\n",
      "\n"
     ]
    },
    {
     "name": "stderr",
     "output_type": "stream",
     "text": [
      "INFO     [merf.py:307] Training GLL is 616.5305477767479 at iteration 1.\n",
      "INFO     [merf.py:307] Training GLL is 646.5169442241181 at iteration 2.\n"
     ]
    },
    {
     "name": "stdout",
     "output_type": "stream",
     "text": [
      "Combination, ptev: 0.4470, prev: 0.5530, OOB Score: 19.7000\n"
     ]
    },
    {
     "name": "stderr",
     "output_type": "stream",
     "text": [
      "INFO     [merf.py:307] Training GLL is 631.6185126536961 at iteration 1.\n",
      "INFO     [merf.py:307] Training GLL is 663.9065623716206 at iteration 2.\n"
     ]
    },
    {
     "name": "stdout",
     "output_type": "stream",
     "text": [
      "Combination, ptev: 0.5532, prev: 0.4468, OOB Score: 13.6000\n"
     ]
    },
    {
     "name": "stderr",
     "output_type": "stream",
     "text": [
      "INFO     [merf.py:307] Training GLL is 603.0198920918733 at iteration 1.\n",
      "INFO     [merf.py:307] Training GLL is 627.2941207403031 at iteration 2.\n"
     ]
    },
    {
     "name": "stdout",
     "output_type": "stream",
     "text": [
      "Combination, ptev: 0.6003, prev: 0.3997, OOB Score: 15.6000\n"
     ]
    },
    {
     "name": "stderr",
     "output_type": "stream",
     "text": [
      "INFO     [merf.py:307] Training GLL is 635.1129498644214 at iteration 1.\n",
      "INFO     [merf.py:307] Training GLL is 674.0543699812392 at iteration 2.\n"
     ]
    },
    {
     "name": "stdout",
     "output_type": "stream",
     "text": [
      "Combination, ptev: 0.5995, prev: 0.4005, OOB Score: 14.5000\n"
     ]
    },
    {
     "name": "stderr",
     "output_type": "stream",
     "text": [
      "INFO     [merf.py:307] Training GLL is 645.8086663368224 at iteration 1.\n",
      "INFO     [merf.py:307] Training GLL is 688.8290554113622 at iteration 2.\n"
     ]
    },
    {
     "name": "stdout",
     "output_type": "stream",
     "text": [
      "Combination, ptev: 0.6310, prev: 0.3690, OOB Score: 13.1000\n"
     ]
    },
    {
     "name": "stderr",
     "output_type": "stream",
     "text": [
      "INFO     [merf.py:307] Training GLL is 644.1485008936254 at iteration 1.\n",
      "INFO     [merf.py:307] Training GLL is 683.1902738612324 at iteration 2.\n"
     ]
    },
    {
     "name": "stdout",
     "output_type": "stream",
     "text": [
      "Combination, ptev: 0.6614, prev: 0.3386, OOB Score: 13.1000\n"
     ]
    },
    {
     "name": "stderr",
     "output_type": "stream",
     "text": [
      "INFO     [merf.py:307] Training GLL is 636.2937782871807 at iteration 1.\n",
      "INFO     [merf.py:307] Training GLL is 675.235734846565 at iteration 2.\n"
     ]
    },
    {
     "name": "stdout",
     "output_type": "stream",
     "text": [
      "Combination, ptev: 0.6632, prev: 0.3368, OOB Score: 18.8000\n"
     ]
    },
    {
     "name": "stderr",
     "output_type": "stream",
     "text": [
      "INFO     [merf.py:307] Training GLL is 636.2332423390773 at iteration 1.\n",
      "INFO     [merf.py:307] Training GLL is 669.2109481074152 at iteration 2.\n"
     ]
    },
    {
     "name": "stdout",
     "output_type": "stream",
     "text": [
      "Combination, ptev: 0.6629, prev: 0.3371, OOB Score: 14.7000\n"
     ]
    },
    {
     "name": "stderr",
     "output_type": "stream",
     "text": [
      "INFO     [merf.py:307] Training GLL is 629.5802576976266 at iteration 1.\n",
      "INFO     [merf.py:307] Training GLL is 670.4853667082665 at iteration 2.\n"
     ]
    },
    {
     "name": "stdout",
     "output_type": "stream",
     "text": [
      "Combination, ptev: 0.6557, prev: 0.3443, OOB Score: 17.4000\n"
     ]
    },
    {
     "name": "stderr",
     "output_type": "stream",
     "text": [
      "INFO     [merf.py:307] Training GLL is 632.3711810415684 at iteration 1.\n",
      "INFO     [merf.py:307] Training GLL is 681.5327790014014 at iteration 2.\n"
     ]
    },
    {
     "name": "stdout",
     "output_type": "stream",
     "text": [
      "Combination, ptev: 0.6663, prev: 0.3337, OOB Score: 16.2000\n",
      "Combination: (500, None, 0.1, 10, 3)\n",
      "\n"
     ]
    },
    {
     "name": "stderr",
     "output_type": "stream",
     "text": [
      "INFO     [merf.py:307] Training GLL is 404.53714109151827 at iteration 1.\n",
      "INFO     [merf.py:307] Training GLL is 432.3666693788283 at iteration 2.\n",
      "INFO     [merf.py:307] Training GLL is 396.75885649231674 at iteration 3.\n",
      "INFO     [merf.py:307] Training GLL is 375.98222772836243 at iteration 4.\n",
      "INFO     [merf.py:307] Training GLL is 356.03340433452314 at iteration 5.\n",
      "INFO     [merf.py:307] Training GLL is 338.2630254216302 at iteration 6.\n",
      "INFO     [merf.py:307] Training GLL is 320.96777486641133 at iteration 7.\n",
      "INFO     [merf.py:307] Training GLL is 305.77191034658756 at iteration 8.\n",
      "INFO     [merf.py:307] Training GLL is 298.0750898270019 at iteration 9.\n",
      "INFO     [merf.py:307] Training GLL is 287.53706542032836 at iteration 10.\n"
     ]
    },
    {
     "name": "stdout",
     "output_type": "stream",
     "text": [
      "Combination, ptev: 0.6873, prev: 0.3127, OOB Score: 18.2000\n"
     ]
    },
    {
     "name": "stderr",
     "output_type": "stream",
     "text": [
      "INFO     [merf.py:307] Training GLL is 506.4223134052262 at iteration 1.\n",
      "INFO     [merf.py:307] Training GLL is 574.3628899415811 at iteration 2.\n",
      "INFO     [merf.py:307] Training GLL is 582.9810648827447 at iteration 3.\n",
      "INFO     [merf.py:307] Training GLL is 585.1292985449223 at iteration 4.\n",
      "INFO     [merf.py:307] Training GLL is 584.0778180879952 at iteration 5.\n",
      "INFO     [merf.py:307] Training GLL is 585.8577608465107 at iteration 6.\n",
      "INFO     [merf.py:307] Training GLL is 579.5945793545884 at iteration 7.\n",
      "INFO     [merf.py:307] Training GLL is 577.5954340939012 at iteration 8.\n",
      "INFO     [merf.py:307] Training GLL is 572.1765933605598 at iteration 9.\n",
      "INFO     [merf.py:307] Training GLL is 569.831400314426 at iteration 10.\n"
     ]
    },
    {
     "name": "stdout",
     "output_type": "stream",
     "text": [
      "Combination, ptev: 0.7664, prev: 0.2336, OOB Score: 32.1000\n"
     ]
    },
    {
     "name": "stderr",
     "output_type": "stream",
     "text": [
      "INFO     [merf.py:307] Training GLL is 468.426400209644 at iteration 1.\n",
      "INFO     [merf.py:307] Training GLL is 536.7261633593491 at iteration 2.\n",
      "INFO     [merf.py:307] Training GLL is 544.367346129774 at iteration 3.\n",
      "INFO     [merf.py:307] Training GLL is 551.1416527377004 at iteration 4.\n",
      "INFO     [merf.py:307] Training GLL is 551.6917616037196 at iteration 5.\n",
      "INFO     [merf.py:307] Training GLL is 555.5091050190524 at iteration 6.\n",
      "INFO     [merf.py:307] Training GLL is 557.5505021059973 at iteration 7.\n",
      "INFO     [merf.py:307] Training GLL is 557.3774013065538 at iteration 8.\n",
      "INFO     [merf.py:307] Training GLL is 559.5656638417653 at iteration 9.\n",
      "INFO     [merf.py:307] Training GLL is 560.3180909073759 at iteration 10.\n"
     ]
    },
    {
     "name": "stdout",
     "output_type": "stream",
     "text": [
      "Combination, ptev: 0.7687, prev: 0.2313, OOB Score: 26.8000\n",
      "Combination: (500, None, 0.1, 10, 5)\n",
      "\n"
     ]
    },
    {
     "name": "stderr",
     "output_type": "stream",
     "text": [
      "INFO     [merf.py:307] Training GLL is 538.4262093180715 at iteration 1.\n",
      "INFO     [merf.py:307] Training GLL is 570.6055534126127 at iteration 2.\n",
      "INFO     [merf.py:307] Training GLL is 558.2053363748878 at iteration 3.\n",
      "INFO     [merf.py:307] Training GLL is 545.7778432095781 at iteration 4.\n",
      "INFO     [merf.py:307] Training GLL is 537.5081794247945 at iteration 5.\n",
      "INFO     [merf.py:307] Training GLL is 529.5806068798929 at iteration 6.\n",
      "INFO     [merf.py:307] Training GLL is 520.0334301608169 at iteration 7.\n",
      "INFO     [merf.py:307] Training GLL is 516.7286481787231 at iteration 8.\n",
      "INFO     [merf.py:307] Training GLL is 517.6960714119575 at iteration 9.\n",
      "INFO     [merf.py:307] Training GLL is 510.1480750537562 at iteration 10.\n"
     ]
    },
    {
     "name": "stdout",
     "output_type": "stream",
     "text": [
      "Combination, ptev: 0.6431, prev: 0.3569, OOB Score: 25.6000\n"
     ]
    },
    {
     "name": "stderr",
     "output_type": "stream",
     "text": [
      "INFO     [merf.py:307] Training GLL is 524.4847228824008 at iteration 1.\n",
      "INFO     [merf.py:307] Training GLL is 565.6734867396011 at iteration 2.\n",
      "INFO     [merf.py:307] Training GLL is 555.3248166779214 at iteration 3.\n",
      "INFO     [merf.py:307] Training GLL is 547.8188231807078 at iteration 4.\n",
      "INFO     [merf.py:307] Training GLL is 541.8754390842892 at iteration 5.\n",
      "INFO     [merf.py:307] Training GLL is 537.2313331793899 at iteration 6.\n",
      "INFO     [merf.py:307] Training GLL is 532.1288152549198 at iteration 7.\n",
      "INFO     [merf.py:307] Training GLL is 526.6014975035547 at iteration 8.\n",
      "INFO     [merf.py:307] Training GLL is 520.269211082078 at iteration 9.\n",
      "INFO     [merf.py:307] Training GLL is 519.2689397728685 at iteration 10.\n"
     ]
    },
    {
     "name": "stdout",
     "output_type": "stream",
     "text": [
      "Combination, ptev: 0.6317, prev: 0.3683, OOB Score: 25.5000\n"
     ]
    },
    {
     "name": "stderr",
     "output_type": "stream",
     "text": [
      "INFO     [merf.py:307] Training GLL is 587.4629563822863 at iteration 1.\n",
      "INFO     [merf.py:307] Training GLL is 642.5835127045651 at iteration 2.\n",
      "INFO     [merf.py:307] Training GLL is 641.1128878319618 at iteration 3.\n",
      "INFO     [merf.py:307] Training GLL is 641.2975992946349 at iteration 4.\n",
      "INFO     [merf.py:307] Training GLL is 639.855395398223 at iteration 5.\n",
      "INFO     [merf.py:307] Training GLL is 640.8381559875618 at iteration 6.\n",
      "INFO     [merf.py:307] Training GLL is 636.8096304383388 at iteration 7.\n",
      "INFO     [merf.py:307] Training GLL is 639.9848067787116 at iteration 8.\n",
      "INFO     [merf.py:307] Training GLL is 639.6358583929695 at iteration 9.\n",
      "INFO     [merf.py:307] Training GLL is 638.0582837888452 at iteration 10.\n"
     ]
    },
    {
     "name": "stdout",
     "output_type": "stream",
     "text": [
      "Combination, ptev: 0.7252, prev: 0.2748, OOB Score: 23.1000\n"
     ]
    },
    {
     "name": "stderr",
     "output_type": "stream",
     "text": [
      "INFO     [merf.py:307] Training GLL is 556.006579922835 at iteration 1.\n",
      "INFO     [merf.py:307] Training GLL is 605.473039731857 at iteration 2.\n",
      "INFO     [merf.py:307] Training GLL is 604.5483270954937 at iteration 3.\n",
      "INFO     [merf.py:307] Training GLL is 598.7951643415876 at iteration 4.\n",
      "INFO     [merf.py:307] Training GLL is 597.9939203213326 at iteration 5.\n",
      "INFO     [merf.py:307] Training GLL is 593.8764455641658 at iteration 6.\n",
      "INFO     [merf.py:307] Training GLL is 591.8463501420864 at iteration 7.\n",
      "INFO     [merf.py:307] Training GLL is 591.1538872251534 at iteration 8.\n",
      "INFO     [merf.py:307] Training GLL is 590.4772940613067 at iteration 9.\n",
      "INFO     [merf.py:307] Training GLL is 588.6911370749881 at iteration 10.\n"
     ]
    },
    {
     "name": "stdout",
     "output_type": "stream",
     "text": [
      "Combination, ptev: 0.7137, prev: 0.2863, OOB Score: 20.3000\n"
     ]
    },
    {
     "name": "stderr",
     "output_type": "stream",
     "text": [
      "INFO     [merf.py:307] Training GLL is 567.2590321150407 at iteration 1.\n",
      "INFO     [merf.py:307] Training GLL is 621.8226795864979 at iteration 2.\n",
      "INFO     [merf.py:307] Training GLL is 624.1949181043209 at iteration 3.\n",
      "INFO     [merf.py:307] Training GLL is 625.7636955196095 at iteration 4.\n",
      "INFO     [merf.py:307] Training GLL is 626.9688741449635 at iteration 5.\n",
      "INFO     [merf.py:307] Training GLL is 627.8117703410956 at iteration 6.\n",
      "INFO     [merf.py:307] Training GLL is 624.6465619812114 at iteration 7.\n",
      "INFO     [merf.py:307] Training GLL is 625.0707626026134 at iteration 8.\n",
      "INFO     [merf.py:307] Training GLL is 625.6067066436694 at iteration 9.\n",
      "INFO     [merf.py:307] Training GLL is 625.611026137102 at iteration 10.\n"
     ]
    },
    {
     "name": "stdout",
     "output_type": "stream",
     "text": [
      "Combination, ptev: 0.7330, prev: 0.2670, OOB Score: 30.9000\n",
      "Combination: (500, None, 0.1, 10, 10)\n",
      "\n"
     ]
    },
    {
     "name": "stderr",
     "output_type": "stream",
     "text": [
      "INFO     [merf.py:307] Training GLL is 620.177093746609 at iteration 1.\n",
      "INFO     [merf.py:307] Training GLL is 649.4421098592819 at iteration 2.\n",
      "INFO     [merf.py:307] Training GLL is 642.650803579755 at iteration 3.\n",
      "INFO     [merf.py:307] Training GLL is 634.9143498705838 at iteration 4.\n",
      "INFO     [merf.py:307] Training GLL is 627.5665458348445 at iteration 5.\n",
      "INFO     [merf.py:307] Training GLL is 622.5483353899521 at iteration 6.\n",
      "INFO     [merf.py:307] Training GLL is 615.1099515732939 at iteration 7.\n",
      "INFO     [merf.py:307] Training GLL is 619.8755600356113 at iteration 8.\n",
      "INFO     [merf.py:307] Training GLL is 613.3698222835252 at iteration 9.\n",
      "INFO     [merf.py:307] Training GLL is 611.9066215679898 at iteration 10.\n"
     ]
    },
    {
     "name": "stdout",
     "output_type": "stream",
     "text": [
      "Combination, ptev: 0.6249, prev: 0.3751, OOB Score: 27.4000\n"
     ]
    },
    {
     "name": "stderr",
     "output_type": "stream",
     "text": [
      "INFO     [merf.py:307] Training GLL is 629.4406183785406 at iteration 1.\n",
      "INFO     [merf.py:307] Training GLL is 666.5966314938047 at iteration 2.\n",
      "INFO     [merf.py:307] Training GLL is 654.5079745512039 at iteration 3.\n",
      "INFO     [merf.py:307] Training GLL is 645.7755317762865 at iteration 4.\n",
      "INFO     [merf.py:307] Training GLL is 643.3710510887772 at iteration 5.\n",
      "INFO     [merf.py:307] Training GLL is 636.5700307627686 at iteration 6.\n",
      "INFO     [merf.py:307] Training GLL is 634.4939916088405 at iteration 7.\n",
      "INFO     [merf.py:307] Training GLL is 630.4470097436028 at iteration 8.\n",
      "INFO     [merf.py:307] Training GLL is 627.9837409027655 at iteration 9.\n",
      "INFO     [merf.py:307] Training GLL is 622.6994008871698 at iteration 10.\n"
     ]
    },
    {
     "name": "stdout",
     "output_type": "stream",
     "text": [
      "Combination, ptev: 0.6566, prev: 0.3434, OOB Score: 7.1000\n"
     ]
    },
    {
     "name": "stderr",
     "output_type": "stream",
     "text": [
      "INFO     [merf.py:307] Training GLL is 604.5110164704371 at iteration 1.\n",
      "INFO     [merf.py:307] Training GLL is 625.4828808358094 at iteration 2.\n",
      "INFO     [merf.py:307] Training GLL is 614.195191983933 at iteration 3.\n",
      "INFO     [merf.py:307] Training GLL is 603.7334488434167 at iteration 4.\n",
      "INFO     [merf.py:307] Training GLL is 599.8673328101879 at iteration 5.\n",
      "INFO     [merf.py:307] Training GLL is 594.5497058660945 at iteration 6.\n",
      "INFO     [merf.py:307] Training GLL is 590.7262088647286 at iteration 7.\n",
      "INFO     [merf.py:307] Training GLL is 589.6010767815939 at iteration 8.\n",
      "INFO     [merf.py:307] Training GLL is 586.2729593417376 at iteration 9.\n",
      "INFO     [merf.py:307] Training GLL is 579.8256697178914 at iteration 10.\n"
     ]
    },
    {
     "name": "stdout",
     "output_type": "stream",
     "text": [
      "Combination, ptev: 0.6848, prev: 0.3152, OOB Score: 21.8000\n"
     ]
    },
    {
     "name": "stderr",
     "output_type": "stream",
     "text": [
      "INFO     [merf.py:307] Training GLL is 631.5743814717501 at iteration 1.\n",
      "INFO     [merf.py:307] Training GLL is 670.9923976284472 at iteration 2.\n",
      "INFO     [merf.py:307] Training GLL is 666.9833924985802 at iteration 3.\n",
      "INFO     [merf.py:307] Training GLL is 663.9300713732314 at iteration 4.\n",
      "INFO     [merf.py:307] Training GLL is 660.510304074203 at iteration 5.\n",
      "INFO     [merf.py:307] Training GLL is 655.3740111253762 at iteration 6.\n",
      "INFO     [merf.py:307] Training GLL is 656.0150795374963 at iteration 7.\n",
      "INFO     [merf.py:307] Training GLL is 653.0671959091038 at iteration 8.\n",
      "INFO     [merf.py:307] Training GLL is 652.9795165707814 at iteration 9.\n",
      "INFO     [merf.py:307] Training GLL is 650.2812334926532 at iteration 10.\n"
     ]
    },
    {
     "name": "stdout",
     "output_type": "stream",
     "text": [
      "Combination, ptev: 0.6682, prev: 0.3318, OOB Score: 22.3000\n"
     ]
    },
    {
     "name": "stderr",
     "output_type": "stream",
     "text": [
      "INFO     [merf.py:307] Training GLL is 644.488343162546 at iteration 1.\n",
      "INFO     [merf.py:307] Training GLL is 686.8918110331521 at iteration 2.\n",
      "INFO     [merf.py:307] Training GLL is 686.123618652049 at iteration 3.\n",
      "INFO     [merf.py:307] Training GLL is 682.5193517385547 at iteration 4.\n",
      "INFO     [merf.py:307] Training GLL is 677.6010656536434 at iteration 5.\n",
      "INFO     [merf.py:307] Training GLL is 676.2807232961754 at iteration 6.\n",
      "INFO     [merf.py:307] Training GLL is 678.8776851452917 at iteration 7.\n",
      "INFO     [merf.py:307] Training GLL is 677.2290870721288 at iteration 8.\n",
      "INFO     [merf.py:307] Training GLL is 675.8061939804909 at iteration 9.\n",
      "INFO     [merf.py:307] Training GLL is 674.8042219378331 at iteration 10.\n"
     ]
    },
    {
     "name": "stdout",
     "output_type": "stream",
     "text": [
      "Combination, ptev: 0.7129, prev: 0.2871, OOB Score: 16.5000\n"
     ]
    },
    {
     "name": "stderr",
     "output_type": "stream",
     "text": [
      "INFO     [merf.py:307] Training GLL is 640.1277878201178 at iteration 1.\n",
      "INFO     [merf.py:307] Training GLL is 683.366442754643 at iteration 2.\n",
      "INFO     [merf.py:307] Training GLL is 677.4498340446506 at iteration 3.\n",
      "INFO     [merf.py:307] Training GLL is 669.9514330180112 at iteration 4.\n",
      "INFO     [merf.py:307] Training GLL is 663.0964383579885 at iteration 5.\n",
      "INFO     [merf.py:307] Training GLL is 663.1140851660019 at iteration 6.\n",
      "INFO     [merf.py:307] Training GLL is 661.6197206610624 at iteration 7.\n",
      "INFO     [merf.py:307] Training GLL is 663.4868079419468 at iteration 8.\n",
      "INFO     [merf.py:307] Training GLL is 663.5925458844033 at iteration 9.\n",
      "INFO     [merf.py:307] Training GLL is 661.7677877974062 at iteration 10.\n"
     ]
    },
    {
     "name": "stdout",
     "output_type": "stream",
     "text": [
      "Combination, ptev: 0.7469, prev: 0.2531, OOB Score: 31.0000\n"
     ]
    },
    {
     "name": "stderr",
     "output_type": "stream",
     "text": [
      "INFO     [merf.py:307] Training GLL is 641.0018767900057 at iteration 1.\n",
      "INFO     [merf.py:307] Training GLL is 677.7244973493976 at iteration 2.\n",
      "INFO     [merf.py:307] Training GLL is 675.8267753653532 at iteration 3.\n",
      "INFO     [merf.py:307] Training GLL is 673.4992328777004 at iteration 4.\n",
      "INFO     [merf.py:307] Training GLL is 666.9146441210692 at iteration 5.\n",
      "INFO     [merf.py:307] Training GLL is 662.0711439215727 at iteration 6.\n",
      "INFO     [merf.py:307] Training GLL is 658.9019094009974 at iteration 7.\n",
      "INFO     [merf.py:307] Training GLL is 656.3529919426402 at iteration 8.\n",
      "INFO     [merf.py:307] Training GLL is 658.4341867682189 at iteration 9.\n",
      "INFO     [merf.py:307] Training GLL is 654.2531175566319 at iteration 10.\n"
     ]
    },
    {
     "name": "stdout",
     "output_type": "stream",
     "text": [
      "Combination, ptev: 0.7631, prev: 0.2369, OOB Score: 23.5000\n"
     ]
    },
    {
     "name": "stderr",
     "output_type": "stream",
     "text": [
      "INFO     [merf.py:307] Training GLL is 627.6665784135885 at iteration 1.\n",
      "INFO     [merf.py:307] Training GLL is 668.3823134380813 at iteration 2.\n",
      "INFO     [merf.py:307] Training GLL is 664.2375338951184 at iteration 3.\n",
      "INFO     [merf.py:307] Training GLL is 660.7115293082857 at iteration 4.\n",
      "INFO     [merf.py:307] Training GLL is 656.0405707363101 at iteration 5.\n",
      "INFO     [merf.py:307] Training GLL is 656.65965177593 at iteration 6.\n",
      "INFO     [merf.py:307] Training GLL is 657.8734188975567 at iteration 7.\n",
      "INFO     [merf.py:307] Training GLL is 655.3869727329484 at iteration 8.\n",
      "INFO     [merf.py:307] Training GLL is 657.5483899351321 at iteration 9.\n",
      "INFO     [merf.py:307] Training GLL is 656.7898463543148 at iteration 10.\n"
     ]
    },
    {
     "name": "stdout",
     "output_type": "stream",
     "text": [
      "Combination, ptev: 0.7671, prev: 0.2329, OOB Score: 23.0000\n"
     ]
    },
    {
     "name": "stderr",
     "output_type": "stream",
     "text": [
      "INFO     [merf.py:307] Training GLL is 630.1939154136198 at iteration 1.\n",
      "INFO     [merf.py:307] Training GLL is 667.4153292228639 at iteration 2.\n",
      "INFO     [merf.py:307] Training GLL is 665.3559997596913 at iteration 3.\n",
      "INFO     [merf.py:307] Training GLL is 658.2162813157395 at iteration 4.\n",
      "INFO     [merf.py:307] Training GLL is 662.1001386898213 at iteration 5.\n",
      "INFO     [merf.py:307] Training GLL is 657.4353549764259 at iteration 6.\n",
      "INFO     [merf.py:307] Training GLL is 658.7592185641789 at iteration 7.\n",
      "INFO     [merf.py:307] Training GLL is 657.6434983983232 at iteration 8.\n",
      "INFO     [merf.py:307] Training GLL is 657.4507755098546 at iteration 9.\n",
      "INFO     [merf.py:307] Training GLL is 656.9600704305036 at iteration 10.\n"
     ]
    },
    {
     "name": "stdout",
     "output_type": "stream",
     "text": [
      "Combination, ptev: 0.7572, prev: 0.2428, OOB Score: 31.8000\n"
     ]
    },
    {
     "name": "stderr",
     "output_type": "stream",
     "text": [
      "INFO     [merf.py:307] Training GLL is 642.7968197640267 at iteration 1.\n",
      "INFO     [merf.py:307] Training GLL is 685.5311621168876 at iteration 2.\n",
      "INFO     [merf.py:307] Training GLL is 686.3057668084172 at iteration 3.\n",
      "INFO     [merf.py:307] Training GLL is 681.640173937104 at iteration 4.\n",
      "INFO     [merf.py:307] Training GLL is 683.5211431666634 at iteration 5.\n",
      "INFO     [merf.py:307] Training GLL is 680.2918373355309 at iteration 6.\n",
      "INFO     [merf.py:307] Training GLL is 684.6649705984537 at iteration 7.\n",
      "INFO     [merf.py:307] Training GLL is 681.0222843345717 at iteration 8.\n",
      "INFO     [merf.py:307] Training GLL is 681.0435846474879 at iteration 9.\n",
      "INFO     [merf.py:307] Training GLL is 681.0159393973709 at iteration 10.\n"
     ]
    },
    {
     "name": "stdout",
     "output_type": "stream",
     "text": [
      "Combination, ptev: 0.7719, prev: 0.2281, OOB Score: 19.7000\n",
      "Combination: (500, None, 0.15, 2, 3)\n",
      "\n"
     ]
    },
    {
     "name": "stderr",
     "output_type": "stream",
     "text": [
      "INFO     [merf.py:307] Training GLL is 463.69387982078206 at iteration 1.\n",
      "INFO     [merf.py:307] Training GLL is 471.22344004082134 at iteration 2.\n"
     ]
    },
    {
     "name": "stdout",
     "output_type": "stream",
     "text": [
      "Combination, ptev: 0.6187, prev: 0.3813, OOB Score: 17.8000\n"
     ]
    },
    {
     "name": "stderr",
     "output_type": "stream",
     "text": [
      "INFO     [merf.py:307] Training GLL is 570.2321280173958 at iteration 1.\n",
      "INFO     [merf.py:307] Training GLL is 621.8238544219835 at iteration 2.\n"
     ]
    },
    {
     "name": "stdout",
     "output_type": "stream",
     "text": [
      "Combination, ptev: 0.6831, prev: 0.3169, OOB Score: 10.1000\n"
     ]
    },
    {
     "name": "stderr",
     "output_type": "stream",
     "text": [
      "INFO     [merf.py:307] Training GLL is 537.9504612331676 at iteration 1.\n",
      "INFO     [merf.py:307] Training GLL is 590.2345302338881 at iteration 2.\n"
     ]
    },
    {
     "name": "stdout",
     "output_type": "stream",
     "text": [
      "Combination, ptev: 0.6677, prev: 0.3323, OOB Score: 17.7000\n",
      "Combination: (500, None, 0.15, 2, 5)\n",
      "\n"
     ]
    },
    {
     "name": "stderr",
     "output_type": "stream",
     "text": [
      "INFO     [merf.py:307] Training GLL is 605.493569314136 at iteration 1.\n",
      "INFO     [merf.py:307] Training GLL is 623.0052258542968 at iteration 2.\n"
     ]
    },
    {
     "name": "stdout",
     "output_type": "stream",
     "text": [
      "Combination, ptev: 0.5768, prev: 0.4232, OOB Score: 20.0000\n"
     ]
    },
    {
     "name": "stderr",
     "output_type": "stream",
     "text": [
      "INFO     [merf.py:307] Training GLL is 593.716513723608 at iteration 1.\n",
      "INFO     [merf.py:307] Training GLL is 621.7943603596261 at iteration 2.\n"
     ]
    },
    {
     "name": "stdout",
     "output_type": "stream",
     "text": [
      "Combination, ptev: 0.6015, prev: 0.3985, OOB Score: 14.9000\n"
     ]
    },
    {
     "name": "stderr",
     "output_type": "stream",
     "text": [
      "INFO     [merf.py:307] Training GLL is 656.2739265486534 at iteration 1.\n",
      "INFO     [merf.py:307] Training GLL is 697.7203438397979 at iteration 2.\n"
     ]
    },
    {
     "name": "stdout",
     "output_type": "stream",
     "text": [
      "Combination, ptev: 0.6682, prev: 0.3318, OOB Score: 9.6000\n"
     ]
    },
    {
     "name": "stderr",
     "output_type": "stream",
     "text": [
      "INFO     [merf.py:307] Training GLL is 630.4255554582409 at iteration 1.\n",
      "INFO     [merf.py:307] Training GLL is 667.684434601975 at iteration 2.\n"
     ]
    },
    {
     "name": "stdout",
     "output_type": "stream",
     "text": [
      "Combination, ptev: 0.6435, prev: 0.3565, OOB Score: 17.2000\n"
     ]
    },
    {
     "name": "stderr",
     "output_type": "stream",
     "text": [
      "INFO     [merf.py:307] Training GLL is 634.4885596766559 at iteration 1.\n",
      "INFO     [merf.py:307] Training GLL is 680.5101428155303 at iteration 2.\n"
     ]
    },
    {
     "name": "stdout",
     "output_type": "stream",
     "text": [
      "Combination, ptev: 0.6582, prev: 0.3418, OOB Score: 18.6000\n",
      "Combination: (500, None, 0.15, 2, 10)\n",
      "\n"
     ]
    },
    {
     "name": "stderr",
     "output_type": "stream",
     "text": [
      "INFO     [merf.py:307] Training GLL is 678.7656238150694 at iteration 1.\n",
      "INFO     [merf.py:307] Training GLL is 699.2074248895836 at iteration 2.\n"
     ]
    },
    {
     "name": "stdout",
     "output_type": "stream",
     "text": [
      "Combination, ptev: 0.4861, prev: 0.5139, OOB Score: 19.5000\n"
     ]
    },
    {
     "name": "stderr",
     "output_type": "stream",
     "text": [
      "INFO     [merf.py:307] Training GLL is 698.8820044773684 at iteration 1.\n",
      "INFO     [merf.py:307] Training GLL is 716.6188299441187 at iteration 2.\n"
     ]
    },
    {
     "name": "stdout",
     "output_type": "stream",
     "text": [
      "Combination, ptev: 0.5854, prev: 0.4146, OOB Score: 13.2000\n"
     ]
    },
    {
     "name": "stderr",
     "output_type": "stream",
     "text": [
      "INFO     [merf.py:307] Training GLL is 672.0818044521209 at iteration 1.\n",
      "INFO     [merf.py:307] Training GLL is 681.6167828313548 at iteration 2.\n"
     ]
    },
    {
     "name": "stdout",
     "output_type": "stream",
     "text": [
      "Combination, ptev: 0.6277, prev: 0.3723, OOB Score: 16.6000\n"
     ]
    },
    {
     "name": "stderr",
     "output_type": "stream",
     "text": [
      "INFO     [merf.py:307] Training GLL is 694.6134738123917 at iteration 1.\n",
      "INFO     [merf.py:307] Training GLL is 727.3154807018578 at iteration 2.\n"
     ]
    },
    {
     "name": "stdout",
     "output_type": "stream",
     "text": [
      "Combination, ptev: 0.6237, prev: 0.3763, OOB Score: 15.6000\n"
     ]
    },
    {
     "name": "stderr",
     "output_type": "stream",
     "text": [
      "INFO     [merf.py:307] Training GLL is 708.4072098261238 at iteration 1.\n",
      "INFO     [merf.py:307] Training GLL is 743.3739415216586 at iteration 2.\n"
     ]
    },
    {
     "name": "stdout",
     "output_type": "stream",
     "text": [
      "Combination, ptev: 0.6598, prev: 0.3402, OOB Score: 13.6000\n"
     ]
    },
    {
     "name": "stderr",
     "output_type": "stream",
     "text": [
      "INFO     [merf.py:307] Training GLL is 708.524622656332 at iteration 1.\n",
      "INFO     [merf.py:307] Training GLL is 733.1469272164929 at iteration 2.\n"
     ]
    },
    {
     "name": "stdout",
     "output_type": "stream",
     "text": [
      "Combination, ptev: 0.6895, prev: 0.3105, OOB Score: 15.8000\n"
     ]
    },
    {
     "name": "stderr",
     "output_type": "stream",
     "text": [
      "INFO     [merf.py:307] Training GLL is 708.8446418564104 at iteration 1.\n",
      "INFO     [merf.py:307] Training GLL is 733.3664922822751 at iteration 2.\n"
     ]
    },
    {
     "name": "stdout",
     "output_type": "stream",
     "text": [
      "Combination, ptev: 0.7001, prev: 0.2999, OOB Score: 18.5000\n"
     ]
    },
    {
     "name": "stderr",
     "output_type": "stream",
     "text": [
      "INFO     [merf.py:307] Training GLL is 697.7265455945626 at iteration 1.\n",
      "INFO     [merf.py:307] Training GLL is 727.0210621205689 at iteration 2.\n"
     ]
    },
    {
     "name": "stdout",
     "output_type": "stream",
     "text": [
      "Combination, ptev: 0.6979, prev: 0.3021, OOB Score: 15.8000\n"
     ]
    },
    {
     "name": "stderr",
     "output_type": "stream",
     "text": [
      "INFO     [merf.py:307] Training GLL is 699.9253151169152 at iteration 1.\n",
      "INFO     [merf.py:307] Training GLL is 728.1321871387835 at iteration 2.\n"
     ]
    },
    {
     "name": "stdout",
     "output_type": "stream",
     "text": [
      "Combination, ptev: 0.6908, prev: 0.3092, OOB Score: 17.4000\n"
     ]
    },
    {
     "name": "stderr",
     "output_type": "stream",
     "text": [
      "INFO     [merf.py:307] Training GLL is 708.2592351266524 at iteration 1.\n",
      "INFO     [merf.py:307] Training GLL is 744.6778608387792 at iteration 2.\n"
     ]
    },
    {
     "name": "stdout",
     "output_type": "stream",
     "text": [
      "Combination, ptev: 0.7020, prev: 0.2980, OOB Score: 17.1000\n",
      "Combination: (500, None, 0.15, 10, 3)\n",
      "\n"
     ]
    },
    {
     "name": "stderr",
     "output_type": "stream",
     "text": [
      "INFO     [merf.py:307] Training GLL is 462.67591729701945 at iteration 1.\n",
      "INFO     [merf.py:307] Training GLL is 469.9002416473303 at iteration 2.\n",
      "INFO     [merf.py:307] Training GLL is 436.2657252386156 at iteration 3.\n",
      "INFO     [merf.py:307] Training GLL is 413.1233547659121 at iteration 4.\n",
      "INFO     [merf.py:307] Training GLL is 390.2241557583271 at iteration 5.\n",
      "INFO     [merf.py:307] Training GLL is 363.0026324049219 at iteration 6.\n",
      "INFO     [merf.py:307] Training GLL is 346.86224312968835 at iteration 7.\n",
      "INFO     [merf.py:307] Training GLL is 331.7125687294366 at iteration 8.\n",
      "INFO     [merf.py:307] Training GLL is 321.48758085463123 at iteration 9.\n",
      "INFO     [merf.py:307] Training GLL is 314.9367576043557 at iteration 10.\n"
     ]
    },
    {
     "name": "stdout",
     "output_type": "stream",
     "text": [
      "Combination, ptev: 0.6864, prev: 0.3136, OOB Score: 17.6000\n"
     ]
    },
    {
     "name": "stderr",
     "output_type": "stream",
     "text": [
      "INFO     [merf.py:307] Training GLL is 569.4399392670692 at iteration 1.\n",
      "INFO     [merf.py:307] Training GLL is 623.2209881149557 at iteration 2.\n",
      "INFO     [merf.py:307] Training GLL is 630.622834572037 at iteration 3.\n",
      "INFO     [merf.py:307] Training GLL is 629.9058943067188 at iteration 4.\n",
      "INFO     [merf.py:307] Training GLL is 627.9664230417885 at iteration 5.\n",
      "INFO     [merf.py:307] Training GLL is 622.7704862460157 at iteration 6.\n",
      "INFO     [merf.py:307] Training GLL is 619.8021047630818 at iteration 7.\n",
      "INFO     [merf.py:307] Training GLL is 620.3303124506482 at iteration 8.\n",
      "INFO     [merf.py:307] Training GLL is 618.0670585192757 at iteration 9.\n",
      "INFO     [merf.py:307] Training GLL is 617.3696544360815 at iteration 10.\n"
     ]
    },
    {
     "name": "stdout",
     "output_type": "stream",
     "text": [
      "Combination, ptev: 0.7639, prev: 0.2361, OOB Score: 32.0000\n"
     ]
    },
    {
     "name": "stderr",
     "output_type": "stream",
     "text": [
      "INFO     [merf.py:307] Training GLL is 535.4187024477073 at iteration 1.\n",
      "INFO     [merf.py:307] Training GLL is 586.6313179255823 at iteration 2.\n",
      "INFO     [merf.py:307] Training GLL is 598.5787876904834 at iteration 3.\n",
      "INFO     [merf.py:307] Training GLL is 599.3282213468302 at iteration 4.\n",
      "INFO     [merf.py:307] Training GLL is 600.3713435790592 at iteration 5.\n",
      "INFO     [merf.py:307] Training GLL is 602.8850952000514 at iteration 6.\n",
      "INFO     [merf.py:307] Training GLL is 601.7797901447892 at iteration 7.\n",
      "INFO     [merf.py:307] Training GLL is 602.3558348295132 at iteration 8.\n",
      "INFO     [merf.py:307] Training GLL is 603.6351750020527 at iteration 9.\n",
      "INFO     [merf.py:307] Training GLL is 603.8698282380437 at iteration 10.\n"
     ]
    },
    {
     "name": "stdout",
     "output_type": "stream",
     "text": [
      "Combination, ptev: 0.7666, prev: 0.2334, OOB Score: 26.0000\n",
      "Combination: (500, None, 0.15, 10, 5)\n",
      "\n"
     ]
    },
    {
     "name": "stderr",
     "output_type": "stream",
     "text": [
      "INFO     [merf.py:307] Training GLL is 603.4486582846629 at iteration 1.\n",
      "INFO     [merf.py:307] Training GLL is 622.030801993329 at iteration 2.\n",
      "INFO     [merf.py:307] Training GLL is 609.7818099909223 at iteration 3.\n",
      "INFO     [merf.py:307] Training GLL is 599.5716122492754 at iteration 4.\n",
      "INFO     [merf.py:307] Training GLL is 588.7838505487683 at iteration 5.\n",
      "INFO     [merf.py:307] Training GLL is 584.2372530664617 at iteration 6.\n",
      "INFO     [merf.py:307] Training GLL is 576.2338752719947 at iteration 7.\n",
      "INFO     [merf.py:307] Training GLL is 575.6852024145758 at iteration 8.\n",
      "INFO     [merf.py:307] Training GLL is 573.9768406478112 at iteration 9.\n",
      "INFO     [merf.py:307] Training GLL is 569.9709432555477 at iteration 10.\n"
     ]
    },
    {
     "name": "stdout",
     "output_type": "stream",
     "text": [
      "Combination, ptev: 0.6485, prev: 0.3515, OOB Score: 18.0000\n"
     ]
    },
    {
     "name": "stderr",
     "output_type": "stream",
     "text": [
      "INFO     [merf.py:307] Training GLL is 596.8897476088439 at iteration 1.\n",
      "INFO     [merf.py:307] Training GLL is 623.7069899912766 at iteration 2.\n",
      "INFO     [merf.py:307] Training GLL is 614.7795918221626 at iteration 3.\n",
      "INFO     [merf.py:307] Training GLL is 605.4002144350893 at iteration 4.\n",
      "INFO     [merf.py:307] Training GLL is 593.5070028155724 at iteration 5.\n",
      "INFO     [merf.py:307] Training GLL is 584.6263381721268 at iteration 6.\n",
      "INFO     [merf.py:307] Training GLL is 577.679964796413 at iteration 7.\n",
      "INFO     [merf.py:307] Training GLL is 573.6156721632722 at iteration 8.\n",
      "INFO     [merf.py:307] Training GLL is 573.883223922267 at iteration 9.\n",
      "INFO     [merf.py:307] Training GLL is 574.7033147863386 at iteration 10.\n"
     ]
    },
    {
     "name": "stdout",
     "output_type": "stream",
     "text": [
      "Combination, ptev: 0.6345, prev: 0.3655, OOB Score: 21.2000\n"
     ]
    },
    {
     "name": "stderr",
     "output_type": "stream",
     "text": [
      "INFO     [merf.py:307] Training GLL is 658.5683575254162 at iteration 1.\n",
      "INFO     [merf.py:307] Training GLL is 697.2770938136481 at iteration 2.\n",
      "INFO     [merf.py:307] Training GLL is 698.2707185635622 at iteration 3.\n",
      "INFO     [merf.py:307] Training GLL is 694.2307505735174 at iteration 4.\n",
      "INFO     [merf.py:307] Training GLL is 689.8612699352274 at iteration 5.\n",
      "INFO     [merf.py:307] Training GLL is 685.391480632492 at iteration 6.\n",
      "INFO     [merf.py:307] Training GLL is 682.9032525468689 at iteration 7.\n",
      "INFO     [merf.py:307] Training GLL is 684.734064083653 at iteration 8.\n",
      "INFO     [merf.py:307] Training GLL is 683.9764123120813 at iteration 9.\n",
      "INFO     [merf.py:307] Training GLL is 682.9878056796608 at iteration 10.\n"
     ]
    },
    {
     "name": "stdout",
     "output_type": "stream",
     "text": [
      "Combination, ptev: 0.7261, prev: 0.2739, OOB Score: 21.4000\n"
     ]
    },
    {
     "name": "stderr",
     "output_type": "stream",
     "text": [
      "INFO     [merf.py:307] Training GLL is 639.4339021815996 at iteration 1.\n",
      "INFO     [merf.py:307] Training GLL is 669.279253186603 at iteration 2.\n",
      "INFO     [merf.py:307] Training GLL is 663.6947350678865 at iteration 3.\n",
      "INFO     [merf.py:307] Training GLL is 659.335600671275 at iteration 4.\n",
      "INFO     [merf.py:307] Training GLL is 656.0318677736415 at iteration 5.\n",
      "INFO     [merf.py:307] Training GLL is 653.3550328441942 at iteration 6.\n",
      "INFO     [merf.py:307] Training GLL is 651.5823004211778 at iteration 7.\n",
      "INFO     [merf.py:307] Training GLL is 653.5301396586258 at iteration 8.\n",
      "INFO     [merf.py:307] Training GLL is 653.6660396381229 at iteration 9.\n",
      "INFO     [merf.py:307] Training GLL is 654.5183759416657 at iteration 10.\n"
     ]
    },
    {
     "name": "stdout",
     "output_type": "stream",
     "text": [
      "Combination, ptev: 0.7143, prev: 0.2857, OOB Score: 20.2000\n"
     ]
    },
    {
     "name": "stderr",
     "output_type": "stream",
     "text": [
      "INFO     [merf.py:307] Training GLL is 639.5735247260135 at iteration 1.\n",
      "INFO     [merf.py:307] Training GLL is 683.8976301547791 at iteration 2.\n",
      "INFO     [merf.py:307] Training GLL is 686.4298201355815 at iteration 3.\n",
      "INFO     [merf.py:307] Training GLL is 683.3592599877273 at iteration 4.\n",
      "INFO     [merf.py:307] Training GLL is 676.9918896113777 at iteration 5.\n",
      "INFO     [merf.py:307] Training GLL is 677.4426400788758 at iteration 6.\n",
      "INFO     [merf.py:307] Training GLL is 675.7385071614193 at iteration 7.\n",
      "INFO     [merf.py:307] Training GLL is 674.6224483320693 at iteration 8.\n",
      "INFO     [merf.py:307] Training GLL is 674.2416292236325 at iteration 9.\n",
      "INFO     [merf.py:307] Training GLL is 674.5705505332103 at iteration 10.\n"
     ]
    },
    {
     "name": "stdout",
     "output_type": "stream",
     "text": [
      "Combination, ptev: 0.7325, prev: 0.2675, OOB Score: 27.6000\n",
      "Combination: (500, None, 0.15, 10, 10)\n",
      "\n"
     ]
    },
    {
     "name": "stderr",
     "output_type": "stream",
     "text": [
      "INFO     [merf.py:307] Training GLL is 681.8889721648467 at iteration 1.\n",
      "INFO     [merf.py:307] Training GLL is 701.4646730029107 at iteration 2.\n",
      "INFO     [merf.py:307] Training GLL is 690.6634814030158 at iteration 3.\n",
      "INFO     [merf.py:307] Training GLL is 681.8010419748811 at iteration 4.\n",
      "INFO     [merf.py:307] Training GLL is 672.1730290225914 at iteration 5.\n",
      "INFO     [merf.py:307] Training GLL is 669.4781402138773 at iteration 6.\n",
      "INFO     [merf.py:307] Training GLL is 665.4871459423297 at iteration 7.\n",
      "INFO     [merf.py:307] Training GLL is 665.6439277363525 at iteration 8.\n",
      "INFO     [merf.py:307] Training GLL is 663.059983195336 at iteration 9.\n",
      "INFO     [merf.py:307] Training GLL is 663.9636765400285 at iteration 10.\n"
     ]
    },
    {
     "name": "stdout",
     "output_type": "stream",
     "text": [
      "Combination, ptev: 0.6300, prev: 0.3700, OOB Score: 25.6000\n"
     ]
    },
    {
     "name": "stderr",
     "output_type": "stream",
     "text": [
      "INFO     [merf.py:307] Training GLL is 696.52935593708 at iteration 1.\n",
      "INFO     [merf.py:307] Training GLL is 714.368942003602 at iteration 2.\n",
      "INFO     [merf.py:307] Training GLL is 710.2504055433907 at iteration 3.\n",
      "INFO     [merf.py:307] Training GLL is 702.6181798837964 at iteration 4.\n",
      "INFO     [merf.py:307] Training GLL is 693.7545841478363 at iteration 5.\n",
      "INFO     [merf.py:307] Training GLL is 689.9133454732978 at iteration 6.\n",
      "INFO     [merf.py:307] Training GLL is 686.8646942202852 at iteration 7.\n",
      "INFO     [merf.py:307] Training GLL is 679.5340005536389 at iteration 8.\n",
      "INFO     [merf.py:307] Training GLL is 679.8684205728507 at iteration 9.\n",
      "INFO     [merf.py:307] Training GLL is 673.8374111176678 at iteration 10.\n"
     ]
    },
    {
     "name": "stdout",
     "output_type": "stream",
     "text": [
      "Combination, ptev: 0.6623, prev: 0.3377, OOB Score: 4.5000\n"
     ]
    },
    {
     "name": "stderr",
     "output_type": "stream",
     "text": [
      "INFO     [merf.py:307] Training GLL is 664.6932167302289 at iteration 1.\n",
      "INFO     [merf.py:307] Training GLL is 681.3771670690131 at iteration 2.\n",
      "INFO     [merf.py:307] Training GLL is 665.5942484694772 at iteration 3.\n",
      "INFO     [merf.py:307] Training GLL is 653.2579440787854 at iteration 4.\n",
      "INFO     [merf.py:307] Training GLL is 647.4229808552657 at iteration 5.\n",
      "INFO     [merf.py:307] Training GLL is 645.115764620567 at iteration 6.\n",
      "INFO     [merf.py:307] Training GLL is 640.0694264348372 at iteration 7.\n",
      "INFO     [merf.py:307] Training GLL is 638.8917927880348 at iteration 8.\n",
      "INFO     [merf.py:307] Training GLL is 634.7710136161112 at iteration 9.\n",
      "INFO     [merf.py:307] Training GLL is 631.6732517874515 at iteration 10.\n"
     ]
    },
    {
     "name": "stdout",
     "output_type": "stream",
     "text": [
      "Combination, ptev: 0.6894, prev: 0.3106, OOB Score: 16.9000\n"
     ]
    },
    {
     "name": "stderr",
     "output_type": "stream",
     "text": [
      "INFO     [merf.py:307] Training GLL is 696.9531296041722 at iteration 1.\n",
      "INFO     [merf.py:307] Training GLL is 724.7850088929519 at iteration 2.\n",
      "INFO     [merf.py:307] Training GLL is 722.2805926186019 at iteration 3.\n",
      "INFO     [merf.py:307] Training GLL is 715.1836831840606 at iteration 4.\n",
      "INFO     [merf.py:307] Training GLL is 713.026695044569 at iteration 5.\n",
      "INFO     [merf.py:307] Training GLL is 710.3464160125269 at iteration 6.\n",
      "INFO     [merf.py:307] Training GLL is 710.3523890429575 at iteration 7.\n",
      "INFO     [merf.py:307] Training GLL is 708.4428702042242 at iteration 8.\n",
      "INFO     [merf.py:307] Training GLL is 707.6148674326296 at iteration 9.\n",
      "INFO     [merf.py:307] Training GLL is 708.8783665962501 at iteration 10.\n"
     ]
    },
    {
     "name": "stdout",
     "output_type": "stream",
     "text": [
      "Combination, ptev: 0.6699, prev: 0.3301, OOB Score: 19.8000\n"
     ]
    },
    {
     "name": "stderr",
     "output_type": "stream",
     "text": [
      "INFO     [merf.py:307] Training GLL is 714.4195438295816 at iteration 1.\n",
      "INFO     [merf.py:307] Training GLL is 742.2614684776792 at iteration 2.\n",
      "INFO     [merf.py:307] Training GLL is 739.0994462935007 at iteration 3.\n",
      "INFO     [merf.py:307] Training GLL is 734.7735161277013 at iteration 4.\n",
      "INFO     [merf.py:307] Training GLL is 728.354175667933 at iteration 5.\n",
      "INFO     [merf.py:307] Training GLL is 728.1086628278572 at iteration 6.\n",
      "INFO     [merf.py:307] Training GLL is 726.4695360614353 at iteration 7.\n",
      "INFO     [merf.py:307] Training GLL is 725.2244054909027 at iteration 8.\n",
      "INFO     [merf.py:307] Training GLL is 725.0478429745641 at iteration 9.\n",
      "INFO     [merf.py:307] Training GLL is 723.0875494755796 at iteration 10.\n"
     ]
    },
    {
     "name": "stdout",
     "output_type": "stream",
     "text": [
      "Combination, ptev: 0.7144, prev: 0.2856, OOB Score: 12.9000\n"
     ]
    },
    {
     "name": "stderr",
     "output_type": "stream",
     "text": [
      "INFO     [merf.py:307] Training GLL is 706.9700819806576 at iteration 1.\n",
      "INFO     [merf.py:307] Training GLL is 734.5716511877406 at iteration 2.\n",
      "INFO     [merf.py:307] Training GLL is 726.2465984213667 at iteration 3.\n",
      "INFO     [merf.py:307] Training GLL is 716.6195857348407 at iteration 4.\n",
      "INFO     [merf.py:307] Training GLL is 710.4180695471317 at iteration 5.\n",
      "INFO     [merf.py:307] Training GLL is 706.7187802376473 at iteration 6.\n",
      "INFO     [merf.py:307] Training GLL is 710.1247999217096 at iteration 7.\n",
      "INFO     [merf.py:307] Training GLL is 708.6241323936437 at iteration 8.\n",
      "INFO     [merf.py:307] Training GLL is 707.7894856551238 at iteration 9.\n",
      "INFO     [merf.py:307] Training GLL is 708.2466975574662 at iteration 10.\n"
     ]
    },
    {
     "name": "stdout",
     "output_type": "stream",
     "text": [
      "Combination, ptev: 0.7487, prev: 0.2513, OOB Score: 28.9000\n"
     ]
    },
    {
     "name": "stderr",
     "output_type": "stream",
     "text": [
      "INFO     [merf.py:307] Training GLL is 710.8354165123607 at iteration 1.\n",
      "INFO     [merf.py:307] Training GLL is 736.2374753363259 at iteration 2.\n",
      "INFO     [merf.py:307] Training GLL is 731.6526035338021 at iteration 3.\n",
      "INFO     [merf.py:307] Training GLL is 725.4583728674831 at iteration 4.\n",
      "INFO     [merf.py:307] Training GLL is 718.7254978666782 at iteration 5.\n",
      "INFO     [merf.py:307] Training GLL is 715.1869390859728 at iteration 6.\n",
      "INFO     [merf.py:307] Training GLL is 711.2554101203202 at iteration 7.\n",
      "INFO     [merf.py:307] Training GLL is 708.9839351745287 at iteration 8.\n",
      "INFO     [merf.py:307] Training GLL is 710.2703008855322 at iteration 9.\n",
      "INFO     [merf.py:307] Training GLL is 707.6478780403551 at iteration 10.\n"
     ]
    },
    {
     "name": "stdout",
     "output_type": "stream",
     "text": [
      "Combination, ptev: 0.7635, prev: 0.2365, OOB Score: 20.1000\n"
     ]
    },
    {
     "name": "stderr",
     "output_type": "stream",
     "text": [
      "INFO     [merf.py:307] Training GLL is 696.3834266619203 at iteration 1.\n",
      "INFO     [merf.py:307] Training GLL is 723.3147529638602 at iteration 2.\n",
      "INFO     [merf.py:307] Training GLL is 721.8027695404369 at iteration 3.\n",
      "INFO     [merf.py:307] Training GLL is 714.9607287393937 at iteration 4.\n",
      "INFO     [merf.py:307] Training GLL is 712.1512538415683 at iteration 5.\n",
      "INFO     [merf.py:307] Training GLL is 712.3073358321841 at iteration 6.\n",
      "INFO     [merf.py:307] Training GLL is 712.8433360157676 at iteration 7.\n",
      "INFO     [merf.py:307] Training GLL is 712.245439524902 at iteration 8.\n",
      "INFO     [merf.py:307] Training GLL is 709.1425015649737 at iteration 9.\n",
      "INFO     [merf.py:307] Training GLL is 709.9787945777364 at iteration 10.\n"
     ]
    },
    {
     "name": "stdout",
     "output_type": "stream",
     "text": [
      "Combination, ptev: 0.7673, prev: 0.2327, OOB Score: 20.9000\n"
     ]
    },
    {
     "name": "stderr",
     "output_type": "stream",
     "text": [
      "INFO     [merf.py:307] Training GLL is 703.3569298507568 at iteration 1.\n",
      "INFO     [merf.py:307] Training GLL is 727.9130333784033 at iteration 2.\n",
      "INFO     [merf.py:307] Training GLL is 717.1103736929794 at iteration 3.\n",
      "INFO     [merf.py:307] Training GLL is 709.9915265270423 at iteration 4.\n",
      "INFO     [merf.py:307] Training GLL is 702.6641633102132 at iteration 5.\n",
      "INFO     [merf.py:307] Training GLL is 701.2739279399041 at iteration 6.\n",
      "INFO     [merf.py:307] Training GLL is 699.7717954161908 at iteration 7.\n",
      "INFO     [merf.py:307] Training GLL is 700.3951459070865 at iteration 8.\n",
      "INFO     [merf.py:307] Training GLL is 699.5086976013143 at iteration 9.\n",
      "INFO     [merf.py:307] Training GLL is 699.7403283960002 at iteration 10.\n"
     ]
    },
    {
     "name": "stdout",
     "output_type": "stream",
     "text": [
      "Combination, ptev: 0.7552, prev: 0.2448, OOB Score: 30.2000\n"
     ]
    },
    {
     "name": "stderr",
     "output_type": "stream",
     "text": [
      "INFO     [merf.py:307] Training GLL is 713.6091740112221 at iteration 1.\n",
      "INFO     [merf.py:307] Training GLL is 746.9327201624393 at iteration 2.\n",
      "INFO     [merf.py:307] Training GLL is 742.8598864134326 at iteration 3.\n",
      "INFO     [merf.py:307] Training GLL is 742.6579313111137 at iteration 4.\n",
      "INFO     [merf.py:307] Training GLL is 739.1731449309108 at iteration 5.\n",
      "INFO     [merf.py:307] Training GLL is 737.8949141706091 at iteration 6.\n",
      "INFO     [merf.py:307] Training GLL is 737.1412497596332 at iteration 7.\n",
      "INFO     [merf.py:307] Training GLL is 734.9040594624424 at iteration 8.\n",
      "INFO     [merf.py:307] Training GLL is 735.2505569384545 at iteration 9.\n",
      "INFO     [merf.py:307] Training GLL is 734.8530918571607 at iteration 10.\n"
     ]
    },
    {
     "name": "stdout",
     "output_type": "stream",
     "text": [
      "Combination, ptev: 0.7705, prev: 0.2295, OOB Score: 17.2000\n",
      "Combination: (1000, None, 0.05, 2, 3)\n",
      "\n"
     ]
    },
    {
     "name": "stderr",
     "output_type": "stream",
     "text": [
      "INFO     [merf.py:307] Training GLL is 295.6870678935663 at iteration 1.\n",
      "INFO     [merf.py:307] Training GLL is 347.5381993904895 at iteration 2.\n"
     ]
    },
    {
     "name": "stdout",
     "output_type": "stream",
     "text": [
      "Combination, ptev: 0.4891, prev: 0.5109, OOB Score: 16.1000\n"
     ]
    },
    {
     "name": "stderr",
     "output_type": "stream",
     "text": [
      "INFO     [merf.py:307] Training GLL is 378.71769451027006 at iteration 1.\n",
      "INFO     [merf.py:307] Training GLL is 466.3522113887928 at iteration 2.\n"
     ]
    },
    {
     "name": "stdout",
     "output_type": "stream",
     "text": [
      "Combination, ptev: 0.5746, prev: 0.4254, OOB Score: 5.0000\n"
     ]
    },
    {
     "name": "stderr",
     "output_type": "stream",
     "text": [
      "INFO     [merf.py:307] Training GLL is 344.787786553026 at iteration 1.\n",
      "INFO     [merf.py:307] Training GLL is 429.1372015496118 at iteration 2.\n"
     ]
    },
    {
     "name": "stdout",
     "output_type": "stream",
     "text": [
      "Combination, ptev: 0.5596, prev: 0.4404, OOB Score: 14.9000\n",
      "Combination: (1000, None, 0.05, 2, 5)\n",
      "\n"
     ]
    },
    {
     "name": "stderr",
     "output_type": "stream",
     "text": [
      "INFO     [merf.py:307] Training GLL is 410.77038889453115 at iteration 1.\n",
      "INFO     [merf.py:307] Training GLL is 473.38759872512003 at iteration 2.\n"
     ]
    },
    {
     "name": "stdout",
     "output_type": "stream",
     "text": [
      "Combination, ptev: 0.4594, prev: 0.5406, OOB Score: 16.7000\n"
     ]
    },
    {
     "name": "stderr",
     "output_type": "stream",
     "text": [
      "INFO     [merf.py:307] Training GLL is 405.9730935230352 at iteration 1.\n",
      "INFO     [merf.py:307] Training GLL is 459.56700229343477 at iteration 2.\n"
     ]
    },
    {
     "name": "stdout",
     "output_type": "stream",
     "text": [
      "Combination, ptev: 0.5028, prev: 0.4972, OOB Score: 12.9000\n"
     ]
    },
    {
     "name": "stderr",
     "output_type": "stream",
     "text": [
      "INFO     [merf.py:307] Training GLL is 458.1309184975686 at iteration 1.\n",
      "INFO     [merf.py:307] Training GLL is 535.9927175489769 at iteration 2.\n"
     ]
    },
    {
     "name": "stdout",
     "output_type": "stream",
     "text": [
      "Combination, ptev: 0.5687, prev: 0.4313, OOB Score: 8.0000\n"
     ]
    },
    {
     "name": "stderr",
     "output_type": "stream",
     "text": [
      "INFO     [merf.py:307] Training GLL is 418.5221701462079 at iteration 1.\n",
      "INFO     [merf.py:307] Training GLL is 493.8263479061695 at iteration 2.\n"
     ]
    },
    {
     "name": "stdout",
     "output_type": "stream",
     "text": [
      "Combination, ptev: 0.5330, prev: 0.4670, OOB Score: 15.9000\n"
     ]
    },
    {
     "name": "stderr",
     "output_type": "stream",
     "text": [
      "INFO     [merf.py:307] Training GLL is 445.28369454218466 at iteration 1.\n",
      "INFO     [merf.py:307] Training GLL is 516.1799326107557 at iteration 2.\n"
     ]
    },
    {
     "name": "stdout",
     "output_type": "stream",
     "text": [
      "Combination, ptev: 0.5466, prev: 0.4534, OOB Score: 14.6000\n",
      "Combination: (1000, None, 0.05, 2, 10)\n",
      "\n"
     ]
    },
    {
     "name": "stderr",
     "output_type": "stream",
     "text": [
      "INFO     [merf.py:307] Training GLL is 471.9882258694628 at iteration 1.\n",
      "INFO     [merf.py:307] Training GLL is 529.9050583682281 at iteration 2.\n"
     ]
    },
    {
     "name": "stdout",
     "output_type": "stream",
     "text": [
      "Combination, ptev: 0.3495, prev: 0.6505, OOB Score: 15.8000\n"
     ]
    },
    {
     "name": "stderr",
     "output_type": "stream",
     "text": [
      "INFO     [merf.py:307] Training GLL is 498.59016193457 at iteration 1.\n",
      "INFO     [merf.py:307] Training GLL is 552.869742654414 at iteration 2.\n"
     ]
    },
    {
     "name": "stdout",
     "output_type": "stream",
     "text": [
      "Combination, ptev: 0.4689, prev: 0.5311, OOB Score: 13.2000\n"
     ]
    },
    {
     "name": "stderr",
     "output_type": "stream",
     "text": [
      "INFO     [merf.py:307] Training GLL is 469.5664171510528 at iteration 1.\n",
      "INFO     [merf.py:307] Training GLL is 511.42073418506493 at iteration 2.\n"
     ]
    },
    {
     "name": "stdout",
     "output_type": "stream",
     "text": [
      "Combination, ptev: 0.5265, prev: 0.4735, OOB Score: 15.6000\n"
     ]
    },
    {
     "name": "stderr",
     "output_type": "stream",
     "text": [
      "INFO     [merf.py:307] Training GLL is 490.39394952335186 at iteration 1.\n",
      "INFO     [merf.py:307] Training GLL is 549.9971906759444 at iteration 2.\n"
     ]
    },
    {
     "name": "stdout",
     "output_type": "stream",
     "text": [
      "Combination, ptev: 0.5327, prev: 0.4673, OOB Score: 14.3000\n"
     ]
    },
    {
     "name": "stderr",
     "output_type": "stream",
     "text": [
      "INFO     [merf.py:307] Training GLL is 498.7831930061067 at iteration 1.\n",
      "INFO     [merf.py:307] Training GLL is 564.4637210217572 at iteration 2.\n"
     ]
    },
    {
     "name": "stdout",
     "output_type": "stream",
     "text": [
      "Combination, ptev: 0.5573, prev: 0.4427, OOB Score: 13.3000\n"
     ]
    },
    {
     "name": "stderr",
     "output_type": "stream",
     "text": [
      "INFO     [merf.py:307] Training GLL is 505.3365753889273 at iteration 1.\n",
      "INFO     [merf.py:307] Training GLL is 562.1310937340888 at iteration 2.\n"
     ]
    },
    {
     "name": "stdout",
     "output_type": "stream",
     "text": [
      "Combination, ptev: 0.5883, prev: 0.4117, OOB Score: 12.4000\n"
     ]
    },
    {
     "name": "stderr",
     "output_type": "stream",
     "text": [
      "INFO     [merf.py:307] Training GLL is 491.9526277674448 at iteration 1.\n",
      "INFO     [merf.py:307] Training GLL is 554.0015518946633 at iteration 2.\n"
     ]
    },
    {
     "name": "stdout",
     "output_type": "stream",
     "text": [
      "Combination, ptev: 0.5884, prev: 0.4116, OOB Score: 16.3000\n"
     ]
    },
    {
     "name": "stderr",
     "output_type": "stream",
     "text": [
      "INFO     [merf.py:307] Training GLL is 485.8345199796008 at iteration 1.\n",
      "INFO     [merf.py:307] Training GLL is 550.8666909398371 at iteration 2.\n"
     ]
    },
    {
     "name": "stdout",
     "output_type": "stream",
     "text": [
      "Combination, ptev: 0.5898, prev: 0.4102, OOB Score: 14.7000\n"
     ]
    },
    {
     "name": "stderr",
     "output_type": "stream",
     "text": [
      "INFO     [merf.py:307] Training GLL is 491.5710781041045 at iteration 1.\n",
      "INFO     [merf.py:307] Training GLL is 553.1730466349178 at iteration 2.\n"
     ]
    },
    {
     "name": "stdout",
     "output_type": "stream",
     "text": [
      "Combination, ptev: 0.5843, prev: 0.4157, OOB Score: 15.4000\n"
     ]
    },
    {
     "name": "stderr",
     "output_type": "stream",
     "text": [
      "INFO     [merf.py:307] Training GLL is 500.1491384819119 at iteration 1.\n",
      "INFO     [merf.py:307] Training GLL is 563.0735827919917 at iteration 2.\n"
     ]
    },
    {
     "name": "stdout",
     "output_type": "stream",
     "text": [
      "Combination, ptev: 0.5946, prev: 0.4054, OOB Score: 14.3000\n",
      "Combination: (1000, None, 0.05, 10, 3)\n",
      "\n"
     ]
    },
    {
     "name": "stderr",
     "output_type": "stream",
     "text": [
      "INFO     [merf.py:307] Training GLL is 297.3152399376072 at iteration 1.\n",
      "INFO     [merf.py:307] Training GLL is 350.62486131283515 at iteration 2.\n",
      "INFO     [merf.py:307] Training GLL is 324.45264556936337 at iteration 3.\n",
      "INFO     [merf.py:307] Training GLL is 299.328802183287 at iteration 4.\n",
      "INFO     [merf.py:307] Training GLL is 282.8985858612303 at iteration 5.\n",
      "INFO     [merf.py:307] Training GLL is 269.2417166910152 at iteration 6.\n",
      "INFO     [merf.py:307] Training GLL is 258.02638270371324 at iteration 7.\n",
      "INFO     [merf.py:307] Training GLL is 245.03362301553318 at iteration 8.\n",
      "INFO     [merf.py:307] Training GLL is 236.6475057418194 at iteration 9.\n",
      "INFO     [merf.py:307] Training GLL is 232.22796128686926 at iteration 10.\n"
     ]
    },
    {
     "name": "stdout",
     "output_type": "stream",
     "text": [
      "Combination, ptev: 0.6939, prev: 0.3061, OOB Score: 23.5000\n"
     ]
    },
    {
     "name": "stderr",
     "output_type": "stream",
     "text": [
      "INFO     [merf.py:307] Training GLL is 377.2708782469456 at iteration 1.\n",
      "INFO     [merf.py:307] Training GLL is 466.12264137290856 at iteration 2.\n",
      "INFO     [merf.py:307] Training GLL is 483.69371446329967 at iteration 3.\n",
      "INFO     [merf.py:307] Training GLL is 490.6142610491491 at iteration 4.\n",
      "INFO     [merf.py:307] Training GLL is 491.77219820331993 at iteration 5.\n",
      "INFO     [merf.py:307] Training GLL is 495.0543788532712 at iteration 6.\n",
      "INFO     [merf.py:307] Training GLL is 493.88922555470185 at iteration 7.\n",
      "INFO     [merf.py:307] Training GLL is 488.4089243074485 at iteration 8.\n",
      "INFO     [merf.py:307] Training GLL is 487.0869820663516 at iteration 9.\n",
      "INFO     [merf.py:307] Training GLL is 482.66185947731606 at iteration 10.\n"
     ]
    },
    {
     "name": "stdout",
     "output_type": "stream",
     "text": [
      "Combination, ptev: 0.7757, prev: 0.2243, OOB Score: 27.0000\n"
     ]
    },
    {
     "name": "stderr",
     "output_type": "stream",
     "text": [
      "INFO     [merf.py:307] Training GLL is 344.4494608804514 at iteration 1.\n",
      "INFO     [merf.py:307] Training GLL is 425.6811053940662 at iteration 2.\n",
      "INFO     [merf.py:307] Training GLL is 443.83047611730495 at iteration 3.\n",
      "INFO     [merf.py:307] Training GLL is 452.2624710555944 at iteration 4.\n",
      "INFO     [merf.py:307] Training GLL is 458.9056973435072 at iteration 5.\n",
      "INFO     [merf.py:307] Training GLL is 460.91230694686084 at iteration 6.\n",
      "INFO     [merf.py:307] Training GLL is 463.52282403116266 at iteration 7.\n",
      "INFO     [merf.py:307] Training GLL is 464.23744485941614 at iteration 8.\n",
      "INFO     [merf.py:307] Training GLL is 465.6739887635091 at iteration 9.\n",
      "INFO     [merf.py:307] Training GLL is 466.13654609933525 at iteration 10.\n"
     ]
    },
    {
     "name": "stdout",
     "output_type": "stream",
     "text": [
      "Combination, ptev: 0.7718, prev: 0.2282, OOB Score: 25.9000\n",
      "Combination: (1000, None, 0.05, 10, 5)\n",
      "\n"
     ]
    },
    {
     "name": "stderr",
     "output_type": "stream",
     "text": [
      "INFO     [merf.py:307] Training GLL is 414.40790157095677 at iteration 1.\n",
      "INFO     [merf.py:307] Training GLL is 470.21074950834446 at iteration 2.\n",
      "INFO     [merf.py:307] Training GLL is 465.38829246192296 at iteration 3.\n",
      "INFO     [merf.py:307] Training GLL is 456.3689706466168 at iteration 4.\n",
      "INFO     [merf.py:307] Training GLL is 448.7948285350309 at iteration 5.\n",
      "INFO     [merf.py:307] Training GLL is 439.75022771617927 at iteration 6.\n",
      "INFO     [merf.py:307] Training GLL is 435.86363872480104 at iteration 7.\n",
      "INFO     [merf.py:307] Training GLL is 432.03279278561826 at iteration 8.\n",
      "INFO     [merf.py:307] Training GLL is 429.09731876694616 at iteration 9.\n",
      "INFO     [merf.py:307] Training GLL is 426.94544139720114 at iteration 10.\n"
     ]
    },
    {
     "name": "stdout",
     "output_type": "stream",
     "text": [
      "Combination, ptev: 0.6488, prev: 0.3512, OOB Score: 27.0000\n"
     ]
    },
    {
     "name": "stderr",
     "output_type": "stream",
     "text": [
      "INFO     [merf.py:307] Training GLL is 403.229576303184 at iteration 1.\n",
      "INFO     [merf.py:307] Training GLL is 460.65243603956117 at iteration 2.\n",
      "INFO     [merf.py:307] Training GLL is 453.74799694351685 at iteration 3.\n",
      "INFO     [merf.py:307] Training GLL is 447.8298041537689 at iteration 4.\n",
      "INFO     [merf.py:307] Training GLL is 442.24571710439943 at iteration 5.\n",
      "INFO     [merf.py:307] Training GLL is 436.5803041071786 at iteration 6.\n",
      "INFO     [merf.py:307] Training GLL is 429.74915470846315 at iteration 7.\n",
      "INFO     [merf.py:307] Training GLL is 424.2448750790893 at iteration 8.\n",
      "INFO     [merf.py:307] Training GLL is 424.83384262642784 at iteration 9.\n",
      "INFO     [merf.py:307] Training GLL is 422.15384590118737 at iteration 10.\n"
     ]
    },
    {
     "name": "stdout",
     "output_type": "stream",
     "text": [
      "Combination, ptev: 0.6394, prev: 0.3606, OOB Score: 30.7000\n"
     ]
    },
    {
     "name": "stderr",
     "output_type": "stream",
     "text": [
      "INFO     [merf.py:307] Training GLL is 455.4509086316647 at iteration 1.\n",
      "INFO     [merf.py:307] Training GLL is 534.3109343949717 at iteration 2.\n",
      "INFO     [merf.py:307] Training GLL is 543.1506904108364 at iteration 3.\n",
      "INFO     [merf.py:307] Training GLL is 545.7461046014339 at iteration 4.\n",
      "INFO     [merf.py:307] Training GLL is 543.8079430960931 at iteration 5.\n",
      "INFO     [merf.py:307] Training GLL is 540.3368419651574 at iteration 6.\n",
      "INFO     [merf.py:307] Training GLL is 540.0809845559675 at iteration 7.\n",
      "INFO     [merf.py:307] Training GLL is 535.815466131864 at iteration 8.\n",
      "INFO     [merf.py:307] Training GLL is 537.8583620882387 at iteration 9.\n",
      "INFO     [merf.py:307] Training GLL is 538.1790011937671 at iteration 10.\n"
     ]
    },
    {
     "name": "stdout",
     "output_type": "stream",
     "text": [
      "Combination, ptev: 0.7318, prev: 0.2682, OOB Score: 21.4000\n"
     ]
    },
    {
     "name": "stderr",
     "output_type": "stream",
     "text": [
      "INFO     [merf.py:307] Training GLL is 417.73640772049527 at iteration 1.\n",
      "INFO     [merf.py:307] Training GLL is 490.60194606744824 at iteration 2.\n",
      "INFO     [merf.py:307] Training GLL is 496.96496877891195 at iteration 3.\n",
      "INFO     [merf.py:307] Training GLL is 498.1775337855011 at iteration 4.\n",
      "INFO     [merf.py:307] Training GLL is 498.283780218633 at iteration 5.\n",
      "INFO     [merf.py:307] Training GLL is 495.51026769396896 at iteration 6.\n",
      "INFO     [merf.py:307] Training GLL is 491.5831798596572 at iteration 7.\n",
      "INFO     [merf.py:307] Training GLL is 494.19675437720974 at iteration 8.\n",
      "INFO     [merf.py:307] Training GLL is 493.3796889709662 at iteration 9.\n",
      "INFO     [merf.py:307] Training GLL is 494.92684596264564 at iteration 10.\n"
     ]
    },
    {
     "name": "stdout",
     "output_type": "stream",
     "text": [
      "Combination, ptev: 0.7181, prev: 0.2819, OOB Score: 20.5000\n"
     ]
    },
    {
     "name": "stderr",
     "output_type": "stream",
     "text": [
      "INFO     [merf.py:307] Training GLL is 442.6572477873209 at iteration 1.\n",
      "INFO     [merf.py:307] Training GLL is 516.0732776373281 at iteration 2.\n",
      "INFO     [merf.py:307] Training GLL is 520.6260038987701 at iteration 3.\n",
      "INFO     [merf.py:307] Training GLL is 523.1581958834383 at iteration 4.\n",
      "INFO     [merf.py:307] Training GLL is 523.3461655819949 at iteration 5.\n",
      "INFO     [merf.py:307] Training GLL is 522.9304548050646 at iteration 6.\n",
      "INFO     [merf.py:307] Training GLL is 521.3495918952236 at iteration 7.\n",
      "INFO     [merf.py:307] Training GLL is 518.5004861099798 at iteration 8.\n",
      "INFO     [merf.py:307] Training GLL is 516.5829330364041 at iteration 9.\n",
      "INFO     [merf.py:307] Training GLL is 517.2441122760664 at iteration 10.\n"
     ]
    },
    {
     "name": "stdout",
     "output_type": "stream",
     "text": [
      "Combination, ptev: 0.7382, prev: 0.2618, OOB Score: 29.9000\n",
      "Combination: (1000, None, 0.05, 10, 10)\n",
      "\n"
     ]
    },
    {
     "name": "stderr",
     "output_type": "stream",
     "text": [
      "INFO     [merf.py:307] Training GLL is 471.9522730675069 at iteration 1.\n",
      "INFO     [merf.py:307] Training GLL is 527.6713177097198 at iteration 2.\n",
      "INFO     [merf.py:307] Training GLL is 525.4427720654274 at iteration 3.\n",
      "INFO     [merf.py:307] Training GLL is 519.1573652146967 at iteration 4.\n",
      "INFO     [merf.py:307] Training GLL is 514.3572805845597 at iteration 5.\n",
      "INFO     [merf.py:307] Training GLL is 508.82156672360094 at iteration 6.\n",
      "INFO     [merf.py:307] Training GLL is 504.49080303003296 at iteration 7.\n",
      "INFO     [merf.py:307] Training GLL is 501.54933167619106 at iteration 8.\n",
      "INFO     [merf.py:307] Training GLL is 502.4389847190411 at iteration 9.\n",
      "INFO     [merf.py:307] Training GLL is 499.416623496339 at iteration 10.\n"
     ]
    },
    {
     "name": "stdout",
     "output_type": "stream",
     "text": [
      "Combination, ptev: 0.6077, prev: 0.3923, OOB Score: 30.8000\n"
     ]
    },
    {
     "name": "stderr",
     "output_type": "stream",
     "text": [
      "INFO     [merf.py:307] Training GLL is 497.6946511807337 at iteration 1.\n",
      "INFO     [merf.py:307] Training GLL is 553.1812350929584 at iteration 2.\n",
      "INFO     [merf.py:307] Training GLL is 548.3682272553975 at iteration 3.\n",
      "INFO     [merf.py:307] Training GLL is 544.0645811947136 at iteration 4.\n",
      "INFO     [merf.py:307] Training GLL is 537.7349798133439 at iteration 5.\n",
      "INFO     [merf.py:307] Training GLL is 532.3109547947851 at iteration 6.\n",
      "INFO     [merf.py:307] Training GLL is 524.9930712344265 at iteration 7.\n",
      "INFO     [merf.py:307] Training GLL is 519.6879494567842 at iteration 8.\n",
      "INFO     [merf.py:307] Training GLL is 517.5816506804248 at iteration 9.\n",
      "INFO     [merf.py:307] Training GLL is 515.0499923588352 at iteration 10.\n"
     ]
    },
    {
     "name": "stdout",
     "output_type": "stream",
     "text": [
      "Combination, ptev: 0.6471, prev: 0.3529, OOB Score: 7.8000\n"
     ]
    },
    {
     "name": "stderr",
     "output_type": "stream",
     "text": [
      "INFO     [merf.py:307] Training GLL is 469.00649459373875 at iteration 1.\n",
      "INFO     [merf.py:307] Training GLL is 515.2527424032909 at iteration 2.\n",
      "INFO     [merf.py:307] Training GLL is 503.3470272208416 at iteration 3.\n",
      "INFO     [merf.py:307] Training GLL is 493.499657316669 at iteration 4.\n",
      "INFO     [merf.py:307] Training GLL is 488.5458773045717 at iteration 5.\n",
      "INFO     [merf.py:307] Training GLL is 484.297297402407 at iteration 6.\n",
      "INFO     [merf.py:307] Training GLL is 475.48877928312567 at iteration 7.\n",
      "INFO     [merf.py:307] Training GLL is 470.1785323811989 at iteration 8.\n",
      "INFO     [merf.py:307] Training GLL is 469.49922889730925 at iteration 9.\n",
      "INFO     [merf.py:307] Training GLL is 469.0973678220116 at iteration 10.\n"
     ]
    },
    {
     "name": "stdout",
     "output_type": "stream",
     "text": [
      "Combination, ptev: 0.6772, prev: 0.3228, OOB Score: 25.7000\n"
     ]
    },
    {
     "name": "stderr",
     "output_type": "stream",
     "text": [
      "INFO     [merf.py:307] Training GLL is 486.2852662932454 at iteration 1.\n",
      "INFO     [merf.py:307] Training GLL is 549.529760188038 at iteration 2.\n",
      "INFO     [merf.py:307] Training GLL is 551.2165529671422 at iteration 3.\n",
      "INFO     [merf.py:307] Training GLL is 549.0684361245693 at iteration 4.\n",
      "INFO     [merf.py:307] Training GLL is 545.9151489880916 at iteration 5.\n",
      "INFO     [merf.py:307] Training GLL is 545.0549748005906 at iteration 6.\n",
      "INFO     [merf.py:307] Training GLL is 541.5555535262076 at iteration 7.\n",
      "INFO     [merf.py:307] Training GLL is 544.2967958841908 at iteration 8.\n",
      "INFO     [merf.py:307] Training GLL is 543.9315530068889 at iteration 9.\n",
      "INFO     [merf.py:307] Training GLL is 543.0921708105425 at iteration 10.\n"
     ]
    },
    {
     "name": "stdout",
     "output_type": "stream",
     "text": [
      "Combination, ptev: 0.6587, prev: 0.3413, OOB Score: 23.1000\n"
     ]
    },
    {
     "name": "stderr",
     "output_type": "stream",
     "text": [
      "INFO     [merf.py:307] Training GLL is 499.1408854591798 at iteration 1.\n",
      "INFO     [merf.py:307] Training GLL is 565.5490828488912 at iteration 2.\n",
      "INFO     [merf.py:307] Training GLL is 569.3841142330224 at iteration 3.\n",
      "INFO     [merf.py:307] Training GLL is 565.6394547700255 at iteration 4.\n",
      "INFO     [merf.py:307] Training GLL is 564.2682708151339 at iteration 5.\n",
      "INFO     [merf.py:307] Training GLL is 560.3195162707923 at iteration 6.\n",
      "INFO     [merf.py:307] Training GLL is 559.9093264700075 at iteration 7.\n",
      "INFO     [merf.py:307] Training GLL is 557.1534108943788 at iteration 8.\n",
      "INFO     [merf.py:307] Training GLL is 557.4913886835359 at iteration 9.\n",
      "INFO     [merf.py:307] Training GLL is 558.1254663421198 at iteration 10.\n"
     ]
    },
    {
     "name": "stdout",
     "output_type": "stream",
     "text": [
      "Combination, ptev: 0.7074, prev: 0.2926, OOB Score: 18.9000\n"
     ]
    },
    {
     "name": "stderr",
     "output_type": "stream",
     "text": [
      "INFO     [merf.py:307] Training GLL is 505.7948019810005 at iteration 1.\n",
      "INFO     [merf.py:307] Training GLL is 567.2800544292891 at iteration 2.\n",
      "INFO     [merf.py:307] Training GLL is 564.2813431847682 at iteration 3.\n",
      "INFO     [merf.py:307] Training GLL is 558.355127209155 at iteration 4.\n",
      "INFO     [merf.py:307] Training GLL is 550.3276021453994 at iteration 5.\n",
      "INFO     [merf.py:307] Training GLL is 548.5748866364454 at iteration 6.\n",
      "INFO     [merf.py:307] Training GLL is 543.892011746124 at iteration 7.\n",
      "INFO     [merf.py:307] Training GLL is 543.4625431717217 at iteration 8.\n",
      "INFO     [merf.py:307] Training GLL is 538.1713488543708 at iteration 9.\n",
      "INFO     [merf.py:307] Training GLL is 539.7519143158715 at iteration 10.\n"
     ]
    },
    {
     "name": "stdout",
     "output_type": "stream",
     "text": [
      "Combination, ptev: 0.7417, prev: 0.2583, OOB Score: 34.3000\n"
     ]
    },
    {
     "name": "stderr",
     "output_type": "stream",
     "text": [
      "INFO     [merf.py:307] Training GLL is 489.28273445342376 at iteration 1.\n",
      "INFO     [merf.py:307] Training GLL is 554.2966683658262 at iteration 2.\n",
      "INFO     [merf.py:307] Training GLL is 557.032281151788 at iteration 3.\n",
      "INFO     [merf.py:307] Training GLL is 554.3383704787744 at iteration 4.\n",
      "INFO     [merf.py:307] Training GLL is 552.3136635197309 at iteration 5.\n",
      "INFO     [merf.py:307] Training GLL is 549.925842476317 at iteration 6.\n",
      "INFO     [merf.py:307] Training GLL is 544.872310371365 at iteration 7.\n",
      "INFO     [merf.py:307] Training GLL is 541.9159492808403 at iteration 8.\n",
      "INFO     [merf.py:307] Training GLL is 542.1805865097934 at iteration 9.\n",
      "INFO     [merf.py:307] Training GLL is 540.4192446728919 at iteration 10.\n"
     ]
    },
    {
     "name": "stdout",
     "output_type": "stream",
     "text": [
      "Combination, ptev: 0.7589, prev: 0.2411, OOB Score: 22.3000\n"
     ]
    },
    {
     "name": "stderr",
     "output_type": "stream",
     "text": [
      "INFO     [merf.py:307] Training GLL is 482.64227746576876 at iteration 1.\n",
      "INFO     [merf.py:307] Training GLL is 546.0987700343256 at iteration 2.\n",
      "INFO     [merf.py:307] Training GLL is 548.799474130991 at iteration 3.\n",
      "INFO     [merf.py:307] Training GLL is 546.6806773999486 at iteration 4.\n",
      "INFO     [merf.py:307] Training GLL is 542.9816229804492 at iteration 5.\n",
      "INFO     [merf.py:307] Training GLL is 540.3862315363497 at iteration 6.\n",
      "INFO     [merf.py:307] Training GLL is 539.2984924190562 at iteration 7.\n",
      "INFO     [merf.py:307] Training GLL is 536.6517058630477 at iteration 8.\n",
      "INFO     [merf.py:307] Training GLL is 536.2933720390239 at iteration 9.\n",
      "INFO     [merf.py:307] Training GLL is 537.383248962321 at iteration 10.\n"
     ]
    },
    {
     "name": "stdout",
     "output_type": "stream",
     "text": [
      "Combination, ptev: 0.7624, prev: 0.2376, OOB Score: 25.8000\n"
     ]
    },
    {
     "name": "stderr",
     "output_type": "stream",
     "text": [
      "INFO     [merf.py:307] Training GLL is 489.04526251870857 at iteration 1.\n",
      "INFO     [merf.py:307] Training GLL is 552.5131661280335 at iteration 2.\n",
      "INFO     [merf.py:307] Training GLL is 549.557327967185 at iteration 3.\n",
      "INFO     [merf.py:307] Training GLL is 545.9113850607466 at iteration 4.\n",
      "INFO     [merf.py:307] Training GLL is 538.1799249104109 at iteration 5.\n",
      "INFO     [merf.py:307] Training GLL is 534.5351746107333 at iteration 6.\n",
      "INFO     [merf.py:307] Training GLL is 531.7840489582333 at iteration 7.\n",
      "INFO     [merf.py:307] Training GLL is 531.1093611504233 at iteration 8.\n",
      "INFO     [merf.py:307] Training GLL is 528.9437143253152 at iteration 9.\n",
      "INFO     [merf.py:307] Training GLL is 526.2585512224476 at iteration 10.\n"
     ]
    },
    {
     "name": "stdout",
     "output_type": "stream",
     "text": [
      "Combination, ptev: 0.7545, prev: 0.2455, OOB Score: 34.5000\n"
     ]
    },
    {
     "name": "stderr",
     "output_type": "stream",
     "text": [
      "INFO     [merf.py:307] Training GLL is 498.5848040384761 at iteration 1.\n",
      "INFO     [merf.py:307] Training GLL is 561.2178261993662 at iteration 2.\n",
      "INFO     [merf.py:307] Training GLL is 566.203202448268 at iteration 3.\n",
      "INFO     [merf.py:307] Training GLL is 566.7361127146793 at iteration 4.\n",
      "INFO     [merf.py:307] Training GLL is 564.1083032730459 at iteration 5.\n",
      "INFO     [merf.py:307] Training GLL is 563.5676657241547 at iteration 6.\n",
      "INFO     [merf.py:307] Training GLL is 565.4565764563775 at iteration 7.\n",
      "INFO     [merf.py:307] Training GLL is 563.3096616074433 at iteration 8.\n",
      "INFO     [merf.py:307] Training GLL is 564.9385147451661 at iteration 9.\n",
      "INFO     [merf.py:307] Training GLL is 566.3088329318061 at iteration 10.\n"
     ]
    },
    {
     "name": "stdout",
     "output_type": "stream",
     "text": [
      "Combination, ptev: 0.7673, prev: 0.2327, OOB Score: 21.6000\n",
      "Combination: (1000, None, 0.1, 2, 3)\n",
      "\n"
     ]
    },
    {
     "name": "stderr",
     "output_type": "stream",
     "text": [
      "INFO     [merf.py:307] Training GLL is 408.9665240810598 at iteration 1.\n",
      "INFO     [merf.py:307] Training GLL is 429.46252562976383 at iteration 2.\n"
     ]
    },
    {
     "name": "stdout",
     "output_type": "stream",
     "text": [
      "Combination, ptev: 0.5658, prev: 0.4342, OOB Score: 16.7000\n"
     ]
    },
    {
     "name": "stderr",
     "output_type": "stream",
     "text": [
      "INFO     [merf.py:307] Training GLL is 505.4141609555474 at iteration 1.\n",
      "INFO     [merf.py:307] Training GLL is 572.5269313581407 at iteration 2.\n"
     ]
    },
    {
     "name": "stdout",
     "output_type": "stream",
     "text": [
      "Combination, ptev: 0.6426, prev: 0.3574, OOB Score: 8.7000\n"
     ]
    },
    {
     "name": "stderr",
     "output_type": "stream",
     "text": [
      "INFO     [merf.py:307] Training GLL is 468.64620060538067 at iteration 1.\n",
      "INFO     [merf.py:307] Training GLL is 531.2949199155584 at iteration 2.\n"
     ]
    },
    {
     "name": "stdout",
     "output_type": "stream",
     "text": [
      "Combination, ptev: 0.6264, prev: 0.3736, OOB Score: 18.5000\n",
      "Combination: (1000, None, 0.1, 2, 5)\n",
      "\n"
     ]
    },
    {
     "name": "stderr",
     "output_type": "stream",
     "text": [
      "INFO     [merf.py:307] Training GLL is 536.0024063834355 at iteration 1.\n",
      "INFO     [merf.py:307] Training GLL is 568.7907019358498 at iteration 2.\n"
     ]
    },
    {
     "name": "stdout",
     "output_type": "stream",
     "text": [
      "Combination, ptev: 0.5319, prev: 0.4681, OOB Score: 19.2000\n"
     ]
    },
    {
     "name": "stderr",
     "output_type": "stream",
     "text": [
      "INFO     [merf.py:307] Training GLL is 528.2749800266351 at iteration 1.\n",
      "INFO     [merf.py:307] Training GLL is 563.0214983366773 at iteration 2.\n"
     ]
    },
    {
     "name": "stdout",
     "output_type": "stream",
     "text": [
      "Combination, ptev: 0.5629, prev: 0.4371, OOB Score: 14.8000\n"
     ]
    },
    {
     "name": "stderr",
     "output_type": "stream",
     "text": [
      "INFO     [merf.py:307] Training GLL is 585.0508540108533 at iteration 1.\n",
      "INFO     [merf.py:307] Training GLL is 639.8484863498192 at iteration 2.\n"
     ]
    },
    {
     "name": "stdout",
     "output_type": "stream",
     "text": [
      "Combination, ptev: 0.6309, prev: 0.3691, OOB Score: 9.6000\n"
     ]
    },
    {
     "name": "stderr",
     "output_type": "stream",
     "text": [
      "INFO     [merf.py:307] Training GLL is 553.4702510111339 at iteration 1.\n",
      "INFO     [merf.py:307] Training GLL is 606.021595202962 at iteration 2.\n"
     ]
    },
    {
     "name": "stdout",
     "output_type": "stream",
     "text": [
      "Combination, ptev: 0.6010, prev: 0.3990, OOB Score: 17.7000\n"
     ]
    },
    {
     "name": "stderr",
     "output_type": "stream",
     "text": [
      "INFO     [merf.py:307] Training GLL is 566.7496345998967 at iteration 1.\n",
      "INFO     [merf.py:307] Training GLL is 620.7388418717925 at iteration 2.\n"
     ]
    },
    {
     "name": "stdout",
     "output_type": "stream",
     "text": [
      "Combination, ptev: 0.6160, prev: 0.3840, OOB Score: 17.7000\n",
      "Combination: (1000, None, 0.1, 2, 10)\n",
      "\n"
     ]
    },
    {
     "name": "stderr",
     "output_type": "stream",
     "text": [
      "INFO     [merf.py:307] Training GLL is 616.1769854615783 at iteration 1.\n",
      "INFO     [merf.py:307] Training GLL is 647.4083228718916 at iteration 2.\n"
     ]
    },
    {
     "name": "stdout",
     "output_type": "stream",
     "text": [
      "Combination, ptev: 0.4351, prev: 0.5649, OOB Score: 19.6000\n"
     ]
    },
    {
     "name": "stderr",
     "output_type": "stream",
     "text": [
      "INFO     [merf.py:307] Training GLL is 632.2809154889854 at iteration 1.\n",
      "INFO     [merf.py:307] Training GLL is 663.4414940570359 at iteration 2.\n"
     ]
    },
    {
     "name": "stdout",
     "output_type": "stream",
     "text": [
      "Combination, ptev: 0.5485, prev: 0.4515, OOB Score: 13.6000\n"
     ]
    },
    {
     "name": "stderr",
     "output_type": "stream",
     "text": [
      "INFO     [merf.py:307] Training GLL is 601.896186034756 at iteration 1.\n",
      "INFO     [merf.py:307] Training GLL is 625.6157485083322 at iteration 2.\n"
     ]
    },
    {
     "name": "stdout",
     "output_type": "stream",
     "text": [
      "Combination, ptev: 0.5985, prev: 0.4015, OOB Score: 15.0000\n"
     ]
    },
    {
     "name": "stderr",
     "output_type": "stream",
     "text": [
      "INFO     [merf.py:307] Training GLL is 631.6877858339298 at iteration 1.\n",
      "INFO     [merf.py:307] Training GLL is 672.7637851704637 at iteration 2.\n"
     ]
    },
    {
     "name": "stdout",
     "output_type": "stream",
     "text": [
      "Combination, ptev: 0.5984, prev: 0.4016, OOB Score: 14.9000\n"
     ]
    },
    {
     "name": "stderr",
     "output_type": "stream",
     "text": [
      "INFO     [merf.py:307] Training GLL is 646.1437024094499 at iteration 1.\n",
      "INFO     [merf.py:307] Training GLL is 689.1573511661113 at iteration 2.\n"
     ]
    },
    {
     "name": "stdout",
     "output_type": "stream",
     "text": [
      "Combination, ptev: 0.6293, prev: 0.3707, OOB Score: 13.4000\n"
     ]
    },
    {
     "name": "stderr",
     "output_type": "stream",
     "text": [
      "INFO     [merf.py:307] Training GLL is 642.9315790433976 at iteration 1.\n",
      "INFO     [merf.py:307] Training GLL is 683.9728122479523 at iteration 2.\n"
     ]
    },
    {
     "name": "stdout",
     "output_type": "stream",
     "text": [
      "Combination, ptev: 0.6599, prev: 0.3401, OOB Score: 13.4000\n"
     ]
    },
    {
     "name": "stderr",
     "output_type": "stream",
     "text": [
      "INFO     [merf.py:307] Training GLL is 634.8190932142608 at iteration 1.\n",
      "INFO     [merf.py:307] Training GLL is 679.107004933021 at iteration 2.\n"
     ]
    },
    {
     "name": "stdout",
     "output_type": "stream",
     "text": [
      "Combination, ptev: 0.6643, prev: 0.3357, OOB Score: 17.6000\n"
     ]
    },
    {
     "name": "stderr",
     "output_type": "stream",
     "text": [
      "INFO     [merf.py:307] Training GLL is 626.8989852473896 at iteration 1.\n",
      "INFO     [merf.py:307] Training GLL is 667.7940912730832 at iteration 2.\n"
     ]
    },
    {
     "name": "stdout",
     "output_type": "stream",
     "text": [
      "Combination, ptev: 0.6646, prev: 0.3354, OOB Score: 15.0000\n"
     ]
    },
    {
     "name": "stderr",
     "output_type": "stream",
     "text": [
      "INFO     [merf.py:307] Training GLL is 630.4402343638175 at iteration 1.\n",
      "INFO     [merf.py:307] Training GLL is 670.7867323516838 at iteration 2.\n"
     ]
    },
    {
     "name": "stdout",
     "output_type": "stream",
     "text": [
      "Combination, ptev: 0.6582, prev: 0.3418, OOB Score: 17.5000\n"
     ]
    },
    {
     "name": "stderr",
     "output_type": "stream",
     "text": [
      "INFO     [merf.py:307] Training GLL is 641.4783829959135 at iteration 1.\n",
      "INFO     [merf.py:307] Training GLL is 683.1941465223465 at iteration 2.\n"
     ]
    },
    {
     "name": "stdout",
     "output_type": "stream",
     "text": [
      "Combination, ptev: 0.6680, prev: 0.3320, OOB Score: 16.7000\n",
      "Combination: (1000, None, 0.1, 10, 3)\n",
      "\n"
     ]
    },
    {
     "name": "stderr",
     "output_type": "stream",
     "text": [
      "INFO     [merf.py:307] Training GLL is 410.14600260143015 at iteration 1.\n",
      "INFO     [merf.py:307] Training GLL is 431.15851761769767 at iteration 2.\n",
      "INFO     [merf.py:307] Training GLL is 401.1393366414223 at iteration 3.\n",
      "INFO     [merf.py:307] Training GLL is 377.5427308458204 at iteration 4.\n",
      "INFO     [merf.py:307] Training GLL is 359.06835843219955 at iteration 5.\n",
      "INFO     [merf.py:307] Training GLL is 336.7817189580946 at iteration 6.\n",
      "INFO     [merf.py:307] Training GLL is 317.8554352169345 at iteration 7.\n",
      "INFO     [merf.py:307] Training GLL is 304.87322881878003 at iteration 8.\n",
      "INFO     [merf.py:307] Training GLL is 297.53305391489107 at iteration 9.\n",
      "INFO     [merf.py:307] Training GLL is 292.486771773847 at iteration 10.\n"
     ]
    },
    {
     "name": "stdout",
     "output_type": "stream",
     "text": [
      "Combination, ptev: 0.6877, prev: 0.3123, OOB Score: 18.5000\n"
     ]
    },
    {
     "name": "stderr",
     "output_type": "stream",
     "text": [
      "INFO     [merf.py:307] Training GLL is 505.3284064648542 at iteration 1.\n",
      "INFO     [merf.py:307] Training GLL is 571.7009516507832 at iteration 2.\n",
      "INFO     [merf.py:307] Training GLL is 584.0440767923297 at iteration 3.\n",
      "INFO     [merf.py:307] Training GLL is 587.2364177465965 at iteration 4.\n",
      "INFO     [merf.py:307] Training GLL is 586.0315823968551 at iteration 5.\n",
      "INFO     [merf.py:307] Training GLL is 584.2365334928137 at iteration 6.\n",
      "INFO     [merf.py:307] Training GLL is 581.2135146283235 at iteration 7.\n",
      "INFO     [merf.py:307] Training GLL is 577.2375280445505 at iteration 8.\n",
      "INFO     [merf.py:307] Training GLL is 573.5612441279322 at iteration 9.\n",
      "INFO     [merf.py:307] Training GLL is 570.357938835369 at iteration 10.\n"
     ]
    },
    {
     "name": "stdout",
     "output_type": "stream",
     "text": [
      "Combination, ptev: 0.7683, prev: 0.2317, OOB Score: 30.1000\n"
     ]
    },
    {
     "name": "stderr",
     "output_type": "stream",
     "text": [
      "INFO     [merf.py:307] Training GLL is 469.06796514102416 at iteration 1.\n",
      "INFO     [merf.py:307] Training GLL is 536.1991509473153 at iteration 2.\n",
      "INFO     [merf.py:307] Training GLL is 545.9264532893284 at iteration 3.\n",
      "INFO     [merf.py:307] Training GLL is 549.4427029311637 at iteration 4.\n",
      "INFO     [merf.py:307] Training GLL is 551.5986955132033 at iteration 5.\n",
      "INFO     [merf.py:307] Training GLL is 554.6328047604063 at iteration 6.\n",
      "INFO     [merf.py:307] Training GLL is 556.141704387609 at iteration 7.\n",
      "INFO     [merf.py:307] Training GLL is 557.6461478022514 at iteration 8.\n",
      "INFO     [merf.py:307] Training GLL is 560.3008960403794 at iteration 9.\n",
      "INFO     [merf.py:307] Training GLL is 559.0767951581348 at iteration 10.\n"
     ]
    },
    {
     "name": "stdout",
     "output_type": "stream",
     "text": [
      "Combination, ptev: 0.7704, prev: 0.2296, OOB Score: 26.4000\n",
      "Combination: (1000, None, 0.1, 10, 5)\n",
      "\n"
     ]
    },
    {
     "name": "stderr",
     "output_type": "stream",
     "text": [
      "INFO     [merf.py:307] Training GLL is 538.9690167482592 at iteration 1.\n",
      "INFO     [merf.py:307] Training GLL is 570.4417347732226 at iteration 2.\n",
      "INFO     [merf.py:307] Training GLL is 560.3950764370678 at iteration 3.\n",
      "INFO     [merf.py:307] Training GLL is 547.9705793531987 at iteration 4.\n",
      "INFO     [merf.py:307] Training GLL is 538.6081531691577 at iteration 5.\n",
      "INFO     [merf.py:307] Training GLL is 529.8580240477218 at iteration 6.\n",
      "INFO     [merf.py:307] Training GLL is 523.860614393027 at iteration 7.\n",
      "INFO     [merf.py:307] Training GLL is 519.4971578551269 at iteration 8.\n",
      "INFO     [merf.py:307] Training GLL is 517.9890951582349 at iteration 9.\n",
      "INFO     [merf.py:307] Training GLL is 511.1278593220728 at iteration 10.\n"
     ]
    },
    {
     "name": "stdout",
     "output_type": "stream",
     "text": [
      "Combination, ptev: 0.6420, prev: 0.3580, OOB Score: 24.2000\n"
     ]
    },
    {
     "name": "stderr",
     "output_type": "stream",
     "text": [
      "INFO     [merf.py:307] Training GLL is 522.9558021843847 at iteration 1.\n",
      "INFO     [merf.py:307] Training GLL is 559.6082236230728 at iteration 2.\n",
      "INFO     [merf.py:307] Training GLL is 553.2036136991472 at iteration 3.\n",
      "INFO     [merf.py:307] Training GLL is 546.9256307131759 at iteration 4.\n",
      "INFO     [merf.py:307] Training GLL is 544.4778312885807 at iteration 5.\n",
      "INFO     [merf.py:307] Training GLL is 537.8376838410272 at iteration 6.\n",
      "INFO     [merf.py:307] Training GLL is 531.7515632954835 at iteration 7.\n",
      "INFO     [merf.py:307] Training GLL is 525.7936073588694 at iteration 8.\n",
      "INFO     [merf.py:307] Training GLL is 519.9812714094464 at iteration 9.\n",
      "INFO     [merf.py:307] Training GLL is 517.7731208927793 at iteration 10.\n"
     ]
    },
    {
     "name": "stdout",
     "output_type": "stream",
     "text": [
      "Combination, ptev: 0.6332, prev: 0.3668, OOB Score: 24.9000\n"
     ]
    },
    {
     "name": "stderr",
     "output_type": "stream",
     "text": [
      "INFO     [merf.py:307] Training GLL is 581.820551121766 at iteration 1.\n",
      "INFO     [merf.py:307] Training GLL is 640.6118345939699 at iteration 2.\n",
      "INFO     [merf.py:307] Training GLL is 642.5639421545508 at iteration 3.\n",
      "INFO     [merf.py:307] Training GLL is 642.1705725779098 at iteration 4.\n",
      "INFO     [merf.py:307] Training GLL is 640.6715162317176 at iteration 5.\n",
      "INFO     [merf.py:307] Training GLL is 639.2212390651836 at iteration 6.\n",
      "INFO     [merf.py:307] Training GLL is 638.8667351119036 at iteration 7.\n",
      "INFO     [merf.py:307] Training GLL is 637.6025962280272 at iteration 8.\n",
      "INFO     [merf.py:307] Training GLL is 636.6318836373466 at iteration 9.\n",
      "INFO     [merf.py:307] Training GLL is 638.4854337095852 at iteration 10.\n"
     ]
    },
    {
     "name": "stdout",
     "output_type": "stream",
     "text": [
      "Combination, ptev: 0.7265, prev: 0.2735, OOB Score: 22.4000\n"
     ]
    },
    {
     "name": "stderr",
     "output_type": "stream",
     "text": [
      "INFO     [merf.py:307] Training GLL is 550.4336972972426 at iteration 1.\n",
      "INFO     [merf.py:307] Training GLL is 605.998930663934 at iteration 2.\n",
      "INFO     [merf.py:307] Training GLL is 604.6629124354007 at iteration 3.\n",
      "INFO     [merf.py:307] Training GLL is 600.3393565389563 at iteration 4.\n",
      "INFO     [merf.py:307] Training GLL is 598.3568396069019 at iteration 5.\n",
      "INFO     [merf.py:307] Training GLL is 593.5639166802424 at iteration 6.\n",
      "INFO     [merf.py:307] Training GLL is 592.2818326709272 at iteration 7.\n",
      "INFO     [merf.py:307] Training GLL is 591.3384024931604 at iteration 8.\n",
      "INFO     [merf.py:307] Training GLL is 590.2223055332879 at iteration 9.\n",
      "INFO     [merf.py:307] Training GLL is 589.4180121488282 at iteration 10.\n"
     ]
    },
    {
     "name": "stdout",
     "output_type": "stream",
     "text": [
      "Combination, ptev: 0.7144, prev: 0.2856, OOB Score: 20.5000\n"
     ]
    },
    {
     "name": "stderr",
     "output_type": "stream",
     "text": [
      "INFO     [merf.py:307] Training GLL is 566.9906276075886 at iteration 1.\n",
      "INFO     [merf.py:307] Training GLL is 621.5536730540312 at iteration 2.\n",
      "INFO     [merf.py:307] Training GLL is 623.6569003129079 at iteration 3.\n",
      "INFO     [merf.py:307] Training GLL is 624.9854557270528 at iteration 4.\n",
      "INFO     [merf.py:307] Training GLL is 625.9608851842868 at iteration 5.\n",
      "INFO     [merf.py:307] Training GLL is 624.9546893469604 at iteration 6.\n",
      "INFO     [merf.py:307] Training GLL is 624.4407357303741 at iteration 7.\n",
      "INFO     [merf.py:307] Training GLL is 624.6878418429287 at iteration 8.\n",
      "INFO     [merf.py:307] Training GLL is 623.7589362538595 at iteration 9.\n",
      "INFO     [merf.py:307] Training GLL is 625.0254870183682 at iteration 10.\n"
     ]
    },
    {
     "name": "stdout",
     "output_type": "stream",
     "text": [
      "Combination, ptev: 0.7334, prev: 0.2666, OOB Score: 29.7000\n",
      "Combination: (1000, None, 0.1, 10, 10)\n",
      "\n"
     ]
    },
    {
     "name": "stderr",
     "output_type": "stream",
     "text": [
      "INFO     [merf.py:307] Training GLL is 617.5384053450864 at iteration 1.\n",
      "INFO     [merf.py:307] Training GLL is 647.4282575096952 at iteration 2.\n",
      "INFO     [merf.py:307] Training GLL is 640.8631816947005 at iteration 3.\n",
      "INFO     [merf.py:307] Training GLL is 631.8858608445129 at iteration 4.\n",
      "INFO     [merf.py:307] Training GLL is 626.5180795955051 at iteration 5.\n",
      "INFO     [merf.py:307] Training GLL is 621.5602372735727 at iteration 6.\n",
      "INFO     [merf.py:307] Training GLL is 618.1304834662878 at iteration 7.\n",
      "INFO     [merf.py:307] Training GLL is 617.751046729153 at iteration 8.\n",
      "INFO     [merf.py:307] Training GLL is 615.2160804282599 at iteration 9.\n",
      "INFO     [merf.py:307] Training GLL is 614.6565945104262 at iteration 10.\n"
     ]
    },
    {
     "name": "stdout",
     "output_type": "stream",
     "text": [
      "Combination, ptev: 0.6195, prev: 0.3805, OOB Score: 27.7000\n"
     ]
    },
    {
     "name": "stderr",
     "output_type": "stream",
     "text": [
      "INFO     [merf.py:307] Training GLL is 631.956981937621 at iteration 1.\n",
      "INFO     [merf.py:307] Training GLL is 664.354293871416 at iteration 2.\n",
      "INFO     [merf.py:307] Training GLL is 655.2859179888669 at iteration 3.\n",
      "INFO     [merf.py:307] Training GLL is 649.5792573760142 at iteration 4.\n",
      "INFO     [merf.py:307] Training GLL is 641.9103146940381 at iteration 5.\n",
      "INFO     [merf.py:307] Training GLL is 637.5585888766205 at iteration 6.\n",
      "INFO     [merf.py:307] Training GLL is 635.1047413115466 at iteration 7.\n",
      "INFO     [merf.py:307] Training GLL is 630.8156136406157 at iteration 8.\n",
      "INFO     [merf.py:307] Training GLL is 626.7218343892318 at iteration 9.\n",
      "INFO     [merf.py:307] Training GLL is 626.7433662492091 at iteration 10.\n"
     ]
    },
    {
     "name": "stdout",
     "output_type": "stream",
     "text": [
      "Combination, ptev: 0.6505, prev: 0.3495, OOB Score: 6.8000\n"
     ]
    },
    {
     "name": "stderr",
     "output_type": "stream",
     "text": [
      "INFO     [merf.py:307] Training GLL is 603.5387880616962 at iteration 1.\n",
      "INFO     [merf.py:307] Training GLL is 628.490721460229 at iteration 2.\n",
      "INFO     [merf.py:307] Training GLL is 612.4194786749831 at iteration 3.\n",
      "INFO     [merf.py:307] Training GLL is 602.2798708161508 at iteration 4.\n",
      "INFO     [merf.py:307] Training GLL is 598.0999513898323 at iteration 5.\n",
      "INFO     [merf.py:307] Training GLL is 596.3844057902786 at iteration 6.\n",
      "INFO     [merf.py:307] Training GLL is 592.514766095164 at iteration 7.\n",
      "INFO     [merf.py:307] Training GLL is 589.0575198712149 at iteration 8.\n",
      "INFO     [merf.py:307] Training GLL is 586.468363194471 at iteration 9.\n",
      "INFO     [merf.py:307] Training GLL is 580.6533670366755 at iteration 10.\n"
     ]
    },
    {
     "name": "stdout",
     "output_type": "stream",
     "text": [
      "Combination, ptev: 0.6810, prev: 0.3190, OOB Score: 20.3000\n"
     ]
    },
    {
     "name": "stderr",
     "output_type": "stream",
     "text": [
      "INFO     [merf.py:307] Training GLL is 630.6762500897689 at iteration 1.\n",
      "INFO     [merf.py:307] Training GLL is 668.8563182916599 at iteration 2.\n",
      "INFO     [merf.py:307] Training GLL is 668.2761812467271 at iteration 3.\n",
      "INFO     [merf.py:307] Training GLL is 662.5489892549135 at iteration 4.\n",
      "INFO     [merf.py:307] Training GLL is 658.9288827842072 at iteration 5.\n",
      "INFO     [merf.py:307] Training GLL is 656.6359427422246 at iteration 6.\n",
      "INFO     [merf.py:307] Training GLL is 657.0712268944477 at iteration 7.\n",
      "INFO     [merf.py:307] Training GLL is 653.9785358034757 at iteration 8.\n",
      "INFO     [merf.py:307] Training GLL is 651.5217132619867 at iteration 9.\n",
      "INFO     [merf.py:307] Training GLL is 652.7921841801098 at iteration 10.\n"
     ]
    },
    {
     "name": "stdout",
     "output_type": "stream",
     "text": [
      "Combination, ptev: 0.6639, prev: 0.3361, OOB Score: 21.6000\n"
     ]
    },
    {
     "name": "stderr",
     "output_type": "stream",
     "text": [
      "INFO     [merf.py:307] Training GLL is 644.5551563861228 at iteration 1.\n",
      "INFO     [merf.py:307] Training GLL is 687.0300254278857 at iteration 2.\n",
      "INFO     [merf.py:307] Training GLL is 685.6995857409659 at iteration 3.\n",
      "INFO     [merf.py:307] Training GLL is 682.1948964325476 at iteration 4.\n",
      "INFO     [merf.py:307] Training GLL is 682.342596100339 at iteration 5.\n",
      "INFO     [merf.py:307] Training GLL is 680.1443118319419 at iteration 6.\n",
      "INFO     [merf.py:307] Training GLL is 678.9462293113276 at iteration 7.\n",
      "INFO     [merf.py:307] Training GLL is 678.4638511681032 at iteration 8.\n",
      "INFO     [merf.py:307] Training GLL is 676.7156369047378 at iteration 9.\n",
      "INFO     [merf.py:307] Training GLL is 674.650803371968 at iteration 10.\n"
     ]
    },
    {
     "name": "stdout",
     "output_type": "stream",
     "text": [
      "Combination, ptev: 0.7103, prev: 0.2897, OOB Score: 16.9000\n"
     ]
    },
    {
     "name": "stderr",
     "output_type": "stream",
     "text": [
      "INFO     [merf.py:307] Training GLL is 645.4083559173706 at iteration 1.\n",
      "INFO     [merf.py:307] Training GLL is 685.0858749118472 at iteration 2.\n",
      "INFO     [merf.py:307] Training GLL is 677.9152074932771 at iteration 3.\n",
      "INFO     [merf.py:307] Training GLL is 669.7326751654871 at iteration 4.\n",
      "INFO     [merf.py:307] Training GLL is 664.118845996999 at iteration 5.\n",
      "INFO     [merf.py:307] Training GLL is 662.576694075707 at iteration 6.\n",
      "INFO     [merf.py:307] Training GLL is 660.7950612867514 at iteration 7.\n",
      "INFO     [merf.py:307] Training GLL is 662.7225272283105 at iteration 8.\n",
      "INFO     [merf.py:307] Training GLL is 661.4279804001193 at iteration 9.\n",
      "INFO     [merf.py:307] Training GLL is 663.0098352540919 at iteration 10.\n"
     ]
    },
    {
     "name": "stdout",
     "output_type": "stream",
     "text": [
      "Combination, ptev: 0.7450, prev: 0.2550, OOB Score: 31.5000\n"
     ]
    },
    {
     "name": "stderr",
     "output_type": "stream",
     "text": [
      "INFO     [merf.py:307] Training GLL is 632.5483501401635 at iteration 1.\n",
      "INFO     [merf.py:307] Training GLL is 680.1371893167342 at iteration 2.\n",
      "INFO     [merf.py:307] Training GLL is 674.7673729578637 at iteration 3.\n",
      "INFO     [merf.py:307] Training GLL is 673.3237945311292 at iteration 4.\n",
      "INFO     [merf.py:307] Training GLL is 669.7996095210572 at iteration 5.\n",
      "INFO     [merf.py:307] Training GLL is 664.7072011390933 at iteration 6.\n",
      "INFO     [merf.py:307] Training GLL is 659.2551200887777 at iteration 7.\n",
      "INFO     [merf.py:307] Training GLL is 659.2974513966163 at iteration 8.\n",
      "INFO     [merf.py:307] Training GLL is 657.0318114667768 at iteration 9.\n",
      "INFO     [merf.py:307] Training GLL is 655.589283353598 at iteration 10.\n"
     ]
    },
    {
     "name": "stdout",
     "output_type": "stream",
     "text": [
      "Combination, ptev: 0.7619, prev: 0.2381, OOB Score: 22.1000\n"
     ]
    },
    {
     "name": "stderr",
     "output_type": "stream",
     "text": [
      "INFO     [merf.py:307] Training GLL is 629.3499156010166 at iteration 1.\n",
      "INFO     [merf.py:307] Training GLL is 668.7441052731514 at iteration 2.\n",
      "INFO     [merf.py:307] Training GLL is 664.1415382592525 at iteration 3.\n",
      "INFO     [merf.py:307] Training GLL is 660.2223714685767 at iteration 4.\n",
      "INFO     [merf.py:307] Training GLL is 660.1311669753649 at iteration 5.\n",
      "INFO     [merf.py:307] Training GLL is 657.0659893762152 at iteration 6.\n",
      "INFO     [merf.py:307] Training GLL is 658.3669126789132 at iteration 7.\n",
      "INFO     [merf.py:307] Training GLL is 659.2993575949282 at iteration 8.\n",
      "INFO     [merf.py:307] Training GLL is 658.244807151547 at iteration 9.\n",
      "INFO     [merf.py:307] Training GLL is 658.0930449224805 at iteration 10.\n"
     ]
    },
    {
     "name": "stdout",
     "output_type": "stream",
     "text": [
      "Combination, ptev: 0.7655, prev: 0.2345, OOB Score: 23.5000\n"
     ]
    },
    {
     "name": "stderr",
     "output_type": "stream",
     "text": [
      "INFO     [merf.py:307] Training GLL is 633.5669114270715 at iteration 1.\n",
      "INFO     [merf.py:307] Training GLL is 672.7325440699974 at iteration 2.\n",
      "INFO     [merf.py:307] Training GLL is 666.4180943937081 at iteration 3.\n",
      "INFO     [merf.py:307] Training GLL is 662.7313968496159 at iteration 4.\n",
      "INFO     [merf.py:307] Training GLL is 660.1114811247625 at iteration 5.\n",
      "INFO     [merf.py:307] Training GLL is 657.6000636667222 at iteration 6.\n",
      "INFO     [merf.py:307] Training GLL is 658.6158316231711 at iteration 7.\n",
      "INFO     [merf.py:307] Training GLL is 658.2935520785685 at iteration 8.\n",
      "INFO     [merf.py:307] Training GLL is 656.9910035389429 at iteration 9.\n",
      "INFO     [merf.py:307] Training GLL is 659.4842622963098 at iteration 10.\n"
     ]
    },
    {
     "name": "stdout",
     "output_type": "stream",
     "text": [
      "Combination, ptev: 0.7544, prev: 0.2456, OOB Score: 31.6000\n"
     ]
    },
    {
     "name": "stderr",
     "output_type": "stream",
     "text": [
      "INFO     [merf.py:307] Training GLL is 639.3441454447765 at iteration 1.\n",
      "INFO     [merf.py:307] Training GLL is 683.6790819885284 at iteration 2.\n",
      "INFO     [merf.py:307] Training GLL is 682.2565507937036 at iteration 3.\n",
      "INFO     [merf.py:307] Training GLL is 683.5971925804578 at iteration 4.\n",
      "INFO     [merf.py:307] Training GLL is 681.7352117482521 at iteration 5.\n",
      "INFO     [merf.py:307] Training GLL is 683.5690308488423 at iteration 6.\n",
      "INFO     [merf.py:307] Training GLL is 683.8272987064287 at iteration 7.\n",
      "INFO     [merf.py:307] Training GLL is 683.1847331656672 at iteration 8.\n",
      "INFO     [merf.py:307] Training GLL is 682.0349808351577 at iteration 9.\n",
      "INFO     [merf.py:307] Training GLL is 680.4341874028167 at iteration 10.\n"
     ]
    },
    {
     "name": "stdout",
     "output_type": "stream",
     "text": [
      "Combination, ptev: 0.7693, prev: 0.2307, OOB Score: 20.2000\n",
      "Combination: (1000, None, 0.15, 2, 3)\n",
      "\n"
     ]
    },
    {
     "name": "stderr",
     "output_type": "stream",
     "text": [
      "INFO     [merf.py:307] Training GLL is 464.13360134754214 at iteration 1.\n",
      "INFO     [merf.py:307] Training GLL is 470.79377331940356 at iteration 2.\n"
     ]
    },
    {
     "name": "stdout",
     "output_type": "stream",
     "text": [
      "Combination, ptev: 0.6071, prev: 0.3929, OOB Score: 17.7000\n"
     ]
    },
    {
     "name": "stderr",
     "output_type": "stream",
     "text": [
      "INFO     [merf.py:307] Training GLL is 568.6056428029012 at iteration 1.\n",
      "INFO     [merf.py:307] Training GLL is 621.4698752454098 at iteration 2.\n"
     ]
    },
    {
     "name": "stdout",
     "output_type": "stream",
     "text": [
      "Combination, ptev: 0.6755, prev: 0.3245, OOB Score: 9.2000\n"
     ]
    },
    {
     "name": "stderr",
     "output_type": "stream",
     "text": [
      "INFO     [merf.py:307] Training GLL is 538.4093715001882 at iteration 1.\n",
      "INFO     [merf.py:307] Training GLL is 590.1357708355428 at iteration 2.\n"
     ]
    },
    {
     "name": "stdout",
     "output_type": "stream",
     "text": [
      "Combination, ptev: 0.6631, prev: 0.3369, OOB Score: 17.9000\n",
      "Combination: (1000, None, 0.15, 2, 5)\n",
      "\n"
     ]
    },
    {
     "name": "stderr",
     "output_type": "stream",
     "text": [
      "INFO     [merf.py:307] Training GLL is 607.2516532881567 at iteration 1.\n",
      "INFO     [merf.py:307] Training GLL is 624.1551844052575 at iteration 2.\n"
     ]
    },
    {
     "name": "stdout",
     "output_type": "stream",
     "text": [
      "Combination, ptev: 0.5781, prev: 0.4219, OOB Score: 21.0000\n"
     ]
    },
    {
     "name": "stderr",
     "output_type": "stream",
     "text": [
      "INFO     [merf.py:307] Training GLL is 594.4960950113992 at iteration 1.\n",
      "INFO     [merf.py:307] Training GLL is 619.8329122048722 at iteration 2.\n"
     ]
    },
    {
     "name": "stdout",
     "output_type": "stream",
     "text": [
      "Combination, ptev: 0.6011, prev: 0.3989, OOB Score: 15.4000\n"
     ]
    },
    {
     "name": "stderr",
     "output_type": "stream",
     "text": [
      "INFO     [merf.py:307] Training GLL is 656.2166718062588 at iteration 1.\n",
      "INFO     [merf.py:307] Training GLL is 695.8317648602764 at iteration 2.\n"
     ]
    },
    {
     "name": "stdout",
     "output_type": "stream",
     "text": [
      "Combination, ptev: 0.6683, prev: 0.3317, OOB Score: 10.1000\n"
     ]
    },
    {
     "name": "stderr",
     "output_type": "stream",
     "text": [
      "INFO     [merf.py:307] Training GLL is 632.3049409919926 at iteration 1.\n",
      "INFO     [merf.py:307] Training GLL is 666.7855135788542 at iteration 2.\n"
     ]
    },
    {
     "name": "stdout",
     "output_type": "stream",
     "text": [
      "Combination, ptev: 0.6436, prev: 0.3564, OOB Score: 17.4000\n"
     ]
    },
    {
     "name": "stderr",
     "output_type": "stream",
     "text": [
      "INFO     [merf.py:307] Training GLL is 637.4565795340069 at iteration 1.\n",
      "INFO     [merf.py:307] Training GLL is 684.6876987157892 at iteration 2.\n"
     ]
    },
    {
     "name": "stdout",
     "output_type": "stream",
     "text": [
      "Combination, ptev: 0.6575, prev: 0.3425, OOB Score: 18.0000\n",
      "Combination: (1000, None, 0.15, 2, 10)\n",
      "\n"
     ]
    },
    {
     "name": "stderr",
     "output_type": "stream",
     "text": [
      "INFO     [merf.py:307] Training GLL is 681.1268268181342 at iteration 1.\n",
      "INFO     [merf.py:307] Training GLL is 701.046262262601 at iteration 2.\n"
     ]
    },
    {
     "name": "stdout",
     "output_type": "stream",
     "text": [
      "Combination, ptev: 0.4886, prev: 0.5114, OOB Score: 19.8000\n"
     ]
    },
    {
     "name": "stderr",
     "output_type": "stream",
     "text": [
      "INFO     [merf.py:307] Training GLL is 697.571911009379 at iteration 1.\n",
      "INFO     [merf.py:307] Training GLL is 717.3263914215617 at iteration 2.\n"
     ]
    },
    {
     "name": "stdout",
     "output_type": "stream",
     "text": [
      "Combination, ptev: 0.5834, prev: 0.4166, OOB Score: 15.0000\n"
     ]
    },
    {
     "name": "stderr",
     "output_type": "stream",
     "text": [
      "INFO     [merf.py:307] Training GLL is 662.8168994989594 at iteration 1.\n",
      "INFO     [merf.py:307] Training GLL is 677.6005846814545 at iteration 2.\n"
     ]
    },
    {
     "name": "stdout",
     "output_type": "stream",
     "text": [
      "Combination, ptev: 0.6270, prev: 0.3730, OOB Score: 15.9000\n"
     ]
    },
    {
     "name": "stderr",
     "output_type": "stream",
     "text": [
      "INFO     [merf.py:307] Training GLL is 698.7668653101623 at iteration 1.\n",
      "INFO     [merf.py:307] Training GLL is 727.3220167241589 at iteration 2.\n"
     ]
    },
    {
     "name": "stdout",
     "output_type": "stream",
     "text": [
      "Combination, ptev: 0.6247, prev: 0.3753, OOB Score: 16.2000\n"
     ]
    },
    {
     "name": "stderr",
     "output_type": "stream",
     "text": [
      "INFO     [merf.py:307] Training GLL is 712.1162079096885 at iteration 1.\n",
      "INFO     [merf.py:307] Training GLL is 743.9176981979008 at iteration 2.\n"
     ]
    },
    {
     "name": "stdout",
     "output_type": "stream",
     "text": [
      "Combination, ptev: 0.6603, prev: 0.3397, OOB Score: 12.9000\n"
     ]
    },
    {
     "name": "stderr",
     "output_type": "stream",
     "text": [
      "INFO     [merf.py:307] Training GLL is 707.3074404765734 at iteration 1.\n",
      "INFO     [merf.py:307] Training GLL is 735.5991925243392 at iteration 2.\n"
     ]
    },
    {
     "name": "stdout",
     "output_type": "stream",
     "text": [
      "Combination, ptev: 0.6907, prev: 0.3093, OOB Score: 15.5000\n"
     ]
    },
    {
     "name": "stderr",
     "output_type": "stream",
     "text": [
      "INFO     [merf.py:307] Training GLL is 707.5548782559194 at iteration 1.\n",
      "INFO     [merf.py:307] Training GLL is 736.0668853657514 at iteration 2.\n"
     ]
    },
    {
     "name": "stdout",
     "output_type": "stream",
     "text": [
      "Combination, ptev: 0.7009, prev: 0.2991, OOB Score: 17.6000\n"
     ]
    },
    {
     "name": "stderr",
     "output_type": "stream",
     "text": [
      "INFO     [merf.py:307] Training GLL is 698.2970858277837 at iteration 1.\n",
      "INFO     [merf.py:307] Training GLL is 723.6832044161027 at iteration 2.\n"
     ]
    },
    {
     "name": "stdout",
     "output_type": "stream",
     "text": [
      "Combination, ptev: 0.6991, prev: 0.3009, OOB Score: 15.8000\n"
     ]
    },
    {
     "name": "stderr",
     "output_type": "stream",
     "text": [
      "INFO     [merf.py:307] Training GLL is 698.6518631316076 at iteration 1.\n",
      "INFO     [merf.py:307] Training GLL is 725.6661125936655 at iteration 2.\n"
     ]
    },
    {
     "name": "stdout",
     "output_type": "stream",
     "text": [
      "Combination, ptev: 0.6914, prev: 0.3086, OOB Score: 18.0000\n"
     ]
    },
    {
     "name": "stderr",
     "output_type": "stream",
     "text": [
      "INFO     [merf.py:307] Training GLL is 711.3845442936247 at iteration 1.\n",
      "INFO     [merf.py:307] Training GLL is 748.074018061682 at iteration 2.\n"
     ]
    },
    {
     "name": "stdout",
     "output_type": "stream",
     "text": [
      "Combination, ptev: 0.7022, prev: 0.2978, OOB Score: 17.1000\n",
      "Combination: (1000, None, 0.15, 10, 3)\n",
      "\n"
     ]
    },
    {
     "name": "stderr",
     "output_type": "stream",
     "text": [
      "INFO     [merf.py:307] Training GLL is 459.87378971419645 at iteration 1.\n",
      "INFO     [merf.py:307] Training GLL is 468.7282416844429 at iteration 2.\n",
      "INFO     [merf.py:307] Training GLL is 435.508618995331 at iteration 3.\n",
      "INFO     [merf.py:307] Training GLL is 413.6029910266951 at iteration 4.\n",
      "INFO     [merf.py:307] Training GLL is 387.9699237902604 at iteration 5.\n",
      "INFO     [merf.py:307] Training GLL is 364.8875966760854 at iteration 6.\n",
      "INFO     [merf.py:307] Training GLL is 345.6547614959567 at iteration 7.\n",
      "INFO     [merf.py:307] Training GLL is 330.079361817414 at iteration 8.\n",
      "INFO     [merf.py:307] Training GLL is 319.8237409525862 at iteration 9.\n",
      "INFO     [merf.py:307] Training GLL is 313.92790387368353 at iteration 10.\n"
     ]
    },
    {
     "name": "stdout",
     "output_type": "stream",
     "text": [
      "Combination, ptev: 0.6866, prev: 0.3134, OOB Score: 16.1000\n"
     ]
    },
    {
     "name": "stderr",
     "output_type": "stream",
     "text": [
      "INFO     [merf.py:307] Training GLL is 569.4833534801392 at iteration 1.\n",
      "INFO     [merf.py:307] Training GLL is 620.6676504043105 at iteration 2.\n",
      "INFO     [merf.py:307] Training GLL is 630.4811733394533 at iteration 3.\n",
      "INFO     [merf.py:307] Training GLL is 630.347630595957 at iteration 4.\n",
      "INFO     [merf.py:307] Training GLL is 628.0014094156126 at iteration 5.\n",
      "INFO     [merf.py:307] Training GLL is 624.3664051701202 at iteration 6.\n",
      "INFO     [merf.py:307] Training GLL is 621.7858012390913 at iteration 7.\n",
      "INFO     [merf.py:307] Training GLL is 618.144380251099 at iteration 8.\n",
      "INFO     [merf.py:307] Training GLL is 618.0443468211055 at iteration 9.\n",
      "INFO     [merf.py:307] Training GLL is 617.5697436091428 at iteration 10.\n"
     ]
    },
    {
     "name": "stdout",
     "output_type": "stream",
     "text": [
      "Combination, ptev: 0.7660, prev: 0.2340, OOB Score: 31.1000\n"
     ]
    },
    {
     "name": "stderr",
     "output_type": "stream",
     "text": [
      "INFO     [merf.py:307] Training GLL is 534.3738728210401 at iteration 1.\n",
      "INFO     [merf.py:307] Training GLL is 588.5955086962806 at iteration 2.\n",
      "INFO     [merf.py:307] Training GLL is 597.4222900081134 at iteration 3.\n",
      "INFO     [merf.py:307] Training GLL is 600.1833084916374 at iteration 4.\n",
      "INFO     [merf.py:307] Training GLL is 603.6479442649977 at iteration 5.\n",
      "INFO     [merf.py:307] Training GLL is 604.1001695474744 at iteration 6.\n",
      "INFO     [merf.py:307] Training GLL is 603.2326459993018 at iteration 7.\n",
      "INFO     [merf.py:307] Training GLL is 604.4168672483408 at iteration 8.\n",
      "INFO     [merf.py:307] Training GLL is 604.3997288247068 at iteration 9.\n",
      "INFO     [merf.py:307] Training GLL is 603.5960217062544 at iteration 10.\n"
     ]
    },
    {
     "name": "stdout",
     "output_type": "stream",
     "text": [
      "Combination, ptev: 0.7680, prev: 0.2320, OOB Score: 26.3000\n",
      "Combination: (1000, None, 0.15, 10, 5)\n",
      "\n"
     ]
    },
    {
     "name": "stderr",
     "output_type": "stream",
     "text": [
      "INFO     [merf.py:307] Training GLL is 603.3145726459103 at iteration 1.\n",
      "INFO     [merf.py:307] Training GLL is 623.5697438624672 at iteration 2.\n",
      "INFO     [merf.py:307] Training GLL is 609.958534904336 at iteration 3.\n",
      "INFO     [merf.py:307] Training GLL is 599.0291953527588 at iteration 4.\n",
      "INFO     [merf.py:307] Training GLL is 589.1417215064796 at iteration 5.\n",
      "INFO     [merf.py:307] Training GLL is 583.8379278056692 at iteration 6.\n",
      "INFO     [merf.py:307] Training GLL is 577.509540209805 at iteration 7.\n",
      "INFO     [merf.py:307] Training GLL is 574.0515195452624 at iteration 8.\n",
      "INFO     [merf.py:307] Training GLL is 569.3838759648945 at iteration 9.\n",
      "INFO     [merf.py:307] Training GLL is 566.1780930508885 at iteration 10.\n"
     ]
    },
    {
     "name": "stdout",
     "output_type": "stream",
     "text": [
      "Combination, ptev: 0.6403, prev: 0.3597, OOB Score: 19.7000\n"
     ]
    },
    {
     "name": "stderr",
     "output_type": "stream",
     "text": [
      "INFO     [merf.py:307] Training GLL is 594.8823304504566 at iteration 1.\n",
      "INFO     [merf.py:307] Training GLL is 620.0658597088482 at iteration 2.\n",
      "INFO     [merf.py:307] Training GLL is 612.788533449136 at iteration 3.\n",
      "INFO     [merf.py:307] Training GLL is 602.6391247173275 at iteration 4.\n",
      "INFO     [merf.py:307] Training GLL is 592.8052031810679 at iteration 5.\n",
      "INFO     [merf.py:307] Training GLL is 584.243906521931 at iteration 6.\n",
      "INFO     [merf.py:307] Training GLL is 577.5053616308251 at iteration 7.\n",
      "INFO     [merf.py:307] Training GLL is 574.5217973249693 at iteration 8.\n",
      "INFO     [merf.py:307] Training GLL is 574.0938614415859 at iteration 9.\n",
      "INFO     [merf.py:307] Training GLL is 573.9974498038968 at iteration 10.\n"
     ]
    },
    {
     "name": "stdout",
     "output_type": "stream",
     "text": [
      "Combination, ptev: 0.6291, prev: 0.3709, OOB Score: 21.2000\n"
     ]
    },
    {
     "name": "stderr",
     "output_type": "stream",
     "text": [
      "INFO     [merf.py:307] Training GLL is 658.3540446336248 at iteration 1.\n",
      "INFO     [merf.py:307] Training GLL is 698.4645470488258 at iteration 2.\n",
      "INFO     [merf.py:307] Training GLL is 697.1164779477856 at iteration 3.\n",
      "INFO     [merf.py:307] Training GLL is 693.8411420264285 at iteration 4.\n",
      "INFO     [merf.py:307] Training GLL is 689.8991100988651 at iteration 5.\n",
      "INFO     [merf.py:307] Training GLL is 688.273626914503 at iteration 6.\n",
      "INFO     [merf.py:307] Training GLL is 686.0499204543067 at iteration 7.\n",
      "INFO     [merf.py:307] Training GLL is 685.2793654874215 at iteration 8.\n",
      "INFO     [merf.py:307] Training GLL is 683.9882034339381 at iteration 9.\n",
      "INFO     [merf.py:307] Training GLL is 684.5171631383058 at iteration 10.\n"
     ]
    },
    {
     "name": "stdout",
     "output_type": "stream",
     "text": [
      "Combination, ptev: 0.7223, prev: 0.2777, OOB Score: 21.0000\n"
     ]
    },
    {
     "name": "stderr",
     "output_type": "stream",
     "text": [
      "INFO     [merf.py:307] Training GLL is 630.6308184945223 at iteration 1.\n",
      "INFO     [merf.py:307] Training GLL is 668.1200841512284 at iteration 2.\n",
      "INFO     [merf.py:307] Training GLL is 664.4016719480474 at iteration 3.\n",
      "INFO     [merf.py:307] Training GLL is 659.7690864315636 at iteration 4.\n",
      "INFO     [merf.py:307] Training GLL is 656.3321724906548 at iteration 5.\n",
      "INFO     [merf.py:307] Training GLL is 654.4599240429334 at iteration 6.\n",
      "INFO     [merf.py:307] Training GLL is 655.5718494331499 at iteration 7.\n",
      "INFO     [merf.py:307] Training GLL is 655.3814434341182 at iteration 8.\n",
      "INFO     [merf.py:307] Training GLL is 656.0875831097487 at iteration 9.\n",
      "INFO     [merf.py:307] Training GLL is 654.6648777189677 at iteration 10.\n"
     ]
    },
    {
     "name": "stdout",
     "output_type": "stream",
     "text": [
      "Combination, ptev: 0.7109, prev: 0.2891, OOB Score: 20.1000\n"
     ]
    },
    {
     "name": "stderr",
     "output_type": "stream",
     "text": [
      "INFO     [merf.py:307] Training GLL is 640.9722234309414 at iteration 1.\n",
      "INFO     [merf.py:307] Training GLL is 685.3425301205543 at iteration 2.\n",
      "INFO     [merf.py:307] Training GLL is 685.3456095382608 at iteration 3.\n",
      "INFO     [merf.py:307] Training GLL is 683.0136543943701 at iteration 4.\n",
      "INFO     [merf.py:307] Training GLL is 680.726037095174 at iteration 5.\n",
      "INFO     [merf.py:307] Training GLL is 677.6590583165064 at iteration 6.\n",
      "INFO     [merf.py:307] Training GLL is 675.6712831569911 at iteration 7.\n",
      "INFO     [merf.py:307] Training GLL is 674.1045004655086 at iteration 8.\n",
      "INFO     [merf.py:307] Training GLL is 673.6222427161016 at iteration 9.\n",
      "INFO     [merf.py:307] Training GLL is 675.0298520795421 at iteration 10.\n"
     ]
    },
    {
     "name": "stdout",
     "output_type": "stream",
     "text": [
      "Combination, ptev: 0.7302, prev: 0.2698, OOB Score: 27.1000\n",
      "Combination: (1000, None, 0.15, 10, 10)\n",
      "\n"
     ]
    },
    {
     "name": "stderr",
     "output_type": "stream",
     "text": [
      "INFO     [merf.py:307] Training GLL is 678.9239787840004 at iteration 1.\n",
      "INFO     [merf.py:307] Training GLL is 697.6668397228793 at iteration 2.\n",
      "INFO     [merf.py:307] Training GLL is 686.6028754211229 at iteration 3.\n",
      "INFO     [merf.py:307] Training GLL is 679.4267227454703 at iteration 4.\n",
      "INFO     [merf.py:307] Training GLL is 673.8013276438874 at iteration 5.\n",
      "INFO     [merf.py:307] Training GLL is 668.9251186167679 at iteration 6.\n",
      "INFO     [merf.py:307] Training GLL is 665.515007811413 at iteration 7.\n",
      "INFO     [merf.py:307] Training GLL is 665.0599013081978 at iteration 8.\n",
      "INFO     [merf.py:307] Training GLL is 663.0060380044487 at iteration 9.\n",
      "INFO     [merf.py:307] Training GLL is 662.6299102878789 at iteration 10.\n"
     ]
    },
    {
     "name": "stdout",
     "output_type": "stream",
     "text": [
      "Combination, ptev: 0.6311, prev: 0.3689, OOB Score: 25.9000\n"
     ]
    },
    {
     "name": "stderr",
     "output_type": "stream",
     "text": [
      "INFO     [merf.py:307] Training GLL is 696.0555051560135 at iteration 1.\n",
      "INFO     [merf.py:307] Training GLL is 715.4101997261122 at iteration 2.\n",
      "INFO     [merf.py:307] Training GLL is 705.5029706908356 at iteration 3.\n",
      "INFO     [merf.py:307] Training GLL is 701.1507648647669 at iteration 4.\n",
      "INFO     [merf.py:307] Training GLL is 692.9818360980347 at iteration 5.\n",
      "INFO     [merf.py:307] Training GLL is 689.0375078898784 at iteration 6.\n",
      "INFO     [merf.py:307] Training GLL is 685.3570705606567 at iteration 7.\n",
      "INFO     [merf.py:307] Training GLL is 680.7286573246743 at iteration 8.\n",
      "INFO     [merf.py:307] Training GLL is 676.846933365764 at iteration 9.\n",
      "INFO     [merf.py:307] Training GLL is 676.3371286306595 at iteration 10.\n"
     ]
    },
    {
     "name": "stdout",
     "output_type": "stream",
     "text": [
      "Combination, ptev: 0.6616, prev: 0.3384, OOB Score: 4.5000\n"
     ]
    },
    {
     "name": "stderr",
     "output_type": "stream",
     "text": [
      "INFO     [merf.py:307] Training GLL is 663.8069886238704 at iteration 1.\n",
      "INFO     [merf.py:307] Training GLL is 679.244622342256 at iteration 2.\n",
      "INFO     [merf.py:307] Training GLL is 663.4757441190732 at iteration 3.\n",
      "INFO     [merf.py:307] Training GLL is 652.1099387419499 at iteration 4.\n",
      "INFO     [merf.py:307] Training GLL is 647.7858406589264 at iteration 5.\n",
      "INFO     [merf.py:307] Training GLL is 642.7926143706004 at iteration 6.\n",
      "INFO     [merf.py:307] Training GLL is 641.6619728596288 at iteration 7.\n",
      "INFO     [merf.py:307] Training GLL is 639.786973017916 at iteration 8.\n",
      "INFO     [merf.py:307] Training GLL is 633.8418541180746 at iteration 9.\n",
      "INFO     [merf.py:307] Training GLL is 629.455612450741 at iteration 10.\n"
     ]
    },
    {
     "name": "stdout",
     "output_type": "stream",
     "text": [
      "Combination, ptev: 0.6898, prev: 0.3102, OOB Score: 16.5000\n"
     ]
    },
    {
     "name": "stderr",
     "output_type": "stream",
     "text": [
      "INFO     [merf.py:307] Training GLL is 698.628294708063 at iteration 1.\n",
      "INFO     [merf.py:307] Training GLL is 725.3921183185106 at iteration 2.\n",
      "INFO     [merf.py:307] Training GLL is 722.4274514889772 at iteration 3.\n",
      "INFO     [merf.py:307] Training GLL is 715.7415353359066 at iteration 4.\n",
      "INFO     [merf.py:307] Training GLL is 713.863670626971 at iteration 5.\n",
      "INFO     [merf.py:307] Training GLL is 711.3471244974663 at iteration 6.\n",
      "INFO     [merf.py:307] Training GLL is 708.8986001165989 at iteration 7.\n",
      "INFO     [merf.py:307] Training GLL is 706.9185863803424 at iteration 8.\n",
      "INFO     [merf.py:307] Training GLL is 708.3660007455165 at iteration 9.\n",
      "INFO     [merf.py:307] Training GLL is 704.1921272233529 at iteration 10.\n"
     ]
    },
    {
     "name": "stdout",
     "output_type": "stream",
     "text": [
      "Combination, ptev: 0.6689, prev: 0.3311, OOB Score: 20.5000\n"
     ]
    },
    {
     "name": "stderr",
     "output_type": "stream",
     "text": [
      "INFO     [merf.py:307] Training GLL is 710.7086249228914 at iteration 1.\n",
      "INFO     [merf.py:307] Training GLL is 743.0411217622043 at iteration 2.\n",
      "INFO     [merf.py:307] Training GLL is 738.3736555617461 at iteration 3.\n",
      "INFO     [merf.py:307] Training GLL is 733.1113974020692 at iteration 4.\n",
      "INFO     [merf.py:307] Training GLL is 729.3755690987905 at iteration 5.\n",
      "INFO     [merf.py:307] Training GLL is 727.411988991028 at iteration 6.\n",
      "INFO     [merf.py:307] Training GLL is 726.0212547775561 at iteration 7.\n",
      "INFO     [merf.py:307] Training GLL is 724.0901079152965 at iteration 8.\n",
      "INFO     [merf.py:307] Training GLL is 722.0954938796002 at iteration 9.\n",
      "INFO     [merf.py:307] Training GLL is 722.1314710293549 at iteration 10.\n"
     ]
    },
    {
     "name": "stdout",
     "output_type": "stream",
     "text": [
      "Combination, ptev: 0.7144, prev: 0.2856, OOB Score: 14.7000\n"
     ]
    },
    {
     "name": "stderr",
     "output_type": "stream",
     "text": [
      "INFO     [merf.py:307] Training GLL is 706.1961851705394 at iteration 1.\n",
      "INFO     [merf.py:307] Training GLL is 737.0960228460453 at iteration 2.\n",
      "INFO     [merf.py:307] Training GLL is 725.8312089238054 at iteration 3.\n",
      "INFO     [merf.py:307] Training GLL is 715.5987198929548 at iteration 4.\n",
      "INFO     [merf.py:307] Training GLL is 710.4922471430683 at iteration 5.\n",
      "INFO     [merf.py:307] Training GLL is 707.7244278940365 at iteration 6.\n",
      "INFO     [merf.py:307] Training GLL is 706.7388559092955 at iteration 7.\n",
      "INFO     [merf.py:307] Training GLL is 708.9682345544161 at iteration 8.\n",
      "INFO     [merf.py:307] Training GLL is 708.3267232628613 at iteration 9.\n",
      "INFO     [merf.py:307] Training GLL is 709.6431193586512 at iteration 10.\n"
     ]
    },
    {
     "name": "stdout",
     "output_type": "stream",
     "text": [
      "Combination, ptev: 0.7490, prev: 0.2510, OOB Score: 28.5000\n"
     ]
    },
    {
     "name": "stderr",
     "output_type": "stream",
     "text": [
      "INFO     [merf.py:307] Training GLL is 708.807069189869 at iteration 1.\n",
      "INFO     [merf.py:307] Training GLL is 733.2371371642837 at iteration 2.\n",
      "INFO     [merf.py:307] Training GLL is 730.0001249560345 at iteration 3.\n",
      "INFO     [merf.py:307] Training GLL is 724.8671707305274 at iteration 4.\n",
      "INFO     [merf.py:307] Training GLL is 719.2971896852955 at iteration 5.\n",
      "INFO     [merf.py:307] Training GLL is 715.5362595390387 at iteration 6.\n",
      "INFO     [merf.py:307] Training GLL is 712.1695154132051 at iteration 7.\n",
      "INFO     [merf.py:307] Training GLL is 710.541686933896 at iteration 8.\n",
      "INFO     [merf.py:307] Training GLL is 709.8029090926873 at iteration 9.\n",
      "INFO     [merf.py:307] Training GLL is 710.3025555214854 at iteration 10.\n"
     ]
    },
    {
     "name": "stdout",
     "output_type": "stream",
     "text": [
      "Combination, ptev: 0.7645, prev: 0.2355, OOB Score: 20.1000\n"
     ]
    },
    {
     "name": "stderr",
     "output_type": "stream",
     "text": [
      "INFO     [merf.py:307] Training GLL is 694.7717237721116 at iteration 1.\n",
      "INFO     [merf.py:307] Training GLL is 726.3845775253872 at iteration 2.\n",
      "INFO     [merf.py:307] Training GLL is 718.1986067137138 at iteration 3.\n",
      "INFO     [merf.py:307] Training GLL is 716.7289731866913 at iteration 4.\n",
      "INFO     [merf.py:307] Training GLL is 714.62900714033 at iteration 5.\n",
      "INFO     [merf.py:307] Training GLL is 713.1172177390838 at iteration 6.\n",
      "INFO     [merf.py:307] Training GLL is 711.331266290491 at iteration 7.\n",
      "INFO     [merf.py:307] Training GLL is 709.3412320027729 at iteration 8.\n",
      "INFO     [merf.py:307] Training GLL is 710.6963272400191 at iteration 9.\n",
      "INFO     [merf.py:307] Training GLL is 711.9669219930292 at iteration 10.\n"
     ]
    },
    {
     "name": "stdout",
     "output_type": "stream",
     "text": [
      "Combination, ptev: 0.7674, prev: 0.2326, OOB Score: 20.7000\n"
     ]
    },
    {
     "name": "stderr",
     "output_type": "stream",
     "text": [
      "INFO     [merf.py:307] Training GLL is 699.0798054317626 at iteration 1.\n",
      "INFO     [merf.py:307] Training GLL is 726.8298511322838 at iteration 2.\n",
      "INFO     [merf.py:307] Training GLL is 719.3208521245235 at iteration 3.\n",
      "INFO     [merf.py:307] Training GLL is 709.4093253264002 at iteration 4.\n",
      "INFO     [merf.py:307] Training GLL is 704.0650139421381 at iteration 5.\n",
      "INFO     [merf.py:307] Training GLL is 701.0017833406421 at iteration 6.\n",
      "INFO     [merf.py:307] Training GLL is 700.5684312768018 at iteration 7.\n",
      "INFO     [merf.py:307] Training GLL is 699.43116349092 at iteration 8.\n",
      "INFO     [merf.py:307] Training GLL is 699.6512670241167 at iteration 9.\n",
      "INFO     [merf.py:307] Training GLL is 698.1031861451119 at iteration 10.\n"
     ]
    },
    {
     "name": "stdout",
     "output_type": "stream",
     "text": [
      "Combination, ptev: 0.7549, prev: 0.2451, OOB Score: 31.2000\n"
     ]
    },
    {
     "name": "stderr",
     "output_type": "stream",
     "text": [
      "INFO     [merf.py:307] Training GLL is 710.7922438551321 at iteration 1.\n",
      "INFO     [merf.py:307] Training GLL is 744.4639356285031 at iteration 2.\n",
      "INFO     [merf.py:307] Training GLL is 744.956114625354 at iteration 3.\n",
      "INFO     [merf.py:307] Training GLL is 743.459104923247 at iteration 4.\n",
      "INFO     [merf.py:307] Training GLL is 739.7238756445106 at iteration 5.\n",
      "INFO     [merf.py:307] Training GLL is 736.8377405307244 at iteration 6.\n",
      "INFO     [merf.py:307] Training GLL is 736.6055916736789 at iteration 7.\n",
      "INFO     [merf.py:307] Training GLL is 735.3654800518544 at iteration 8.\n",
      "INFO     [merf.py:307] Training GLL is 736.0582975406846 at iteration 9.\n",
      "INFO     [merf.py:307] Training GLL is 735.0082738180681 at iteration 10.\n"
     ]
    },
    {
     "name": "stdout",
     "output_type": "stream",
     "text": [
      "Combination, ptev: 0.7702, prev: 0.2298, OOB Score: 17.1000\n",
      "Best parameters: (500, None, 0.05, 10, 10)\n",
      "Best score: 6.962660038865631\n"
     ]
    }
   ],
   "source": [
    "train_set = full_train_micom\n",
    "columns_to_drop = ['Unnamed: 0', 'sample_id','all_samples', 'character_id', 'timepoint', 'time', 'x_t', 'outcome_BMI_fnl']\n",
    "\n",
    "# Create training features\n",
    "X = train_set.drop(columns=columns_to_drop, errors='ignore')\n",
    "y = train_set[['outcome_BMI_fnl']]\n",
    "y = y['outcome_BMI_fnl'].to_numpy() # Convert Y to numeric array\n",
    "clusters = train_set['all_samples'].to_numpy() # Get ID variables\n",
    "z = np.ones((train_set.shape[0], 1)) # Create random effects matrix with ones\n",
    "\n",
    "best_score = float('inf')\n",
    "best_params = {}\n",
    "# Initialize a list to store the results of each iteration\n",
    "results = []\n",
    "\n",
    "# Loop through all possible combinations of parameters\n",
    "for params in itertools.product(*param_grid.values()):\n",
    "        n_estimators, max_depth, min_samples_split, max_iter, n_splits = params\n",
    "        print(f\"Combination: {params}\\n\")\n",
    "        scores = []\n",
    "        prev = []\n",
    "        ptev = []\n",
    "        oob_scores = []  # Initialize a list to store OOB scores\n",
    "\n",
    "        # K-fold cross-validation with variable n_splits\n",
    "        kf = KFold(n_splits=n_splits)\n",
    "        for train_index, test_index in kf.split(X):\n",
    "            X_train, X_test = X.iloc[train_index], X.iloc[test_index]  # Use .iloc for row selection\n",
    "            y_train, y_test = y[train_index], y[test_index]\n",
    "            clusters_train, clusters_test = clusters[train_index], pd.Series(clusters[test_index])\n",
    "            z_train, z_test = z[train_index], z[test_index]\n",
    "            model = MERF(\n",
    "                # Specify the fixed effects model as a Random Forest Regressor\n",
    "                fixed_effects_model=RandomForestRegressor(\n",
    "                    n_estimators=n_estimators,  # Number of trees in the forest\n",
    "                    max_depth=max_depth,  # Maximum depth of each tree\n",
    "                    min_samples_split=min_samples_split,  # Minimum samples required to split an internal node\n",
    "                    n_jobs=1,  # Number of jobs to run in parallel\n",
    "                    oob_score=True  # Whether to use out-of-bag samples to estimate the R^2 on unseen data\n",
    "                ),\n",
    "                # Generalized Linear Model (GLM) early stopping threshold\n",
    "                gll_early_stop_threshold=None,  # No early stopping threshold set\n",
    "                # Maximum number of iterations for the MERF algorithm\n",
    "                max_iterations=max_iter  # Maximum number of iterations to run the MERF algorithm\n",
    "            )\n",
    "            model.fit(X_train.select_dtypes(include=[np.number]), z_train, pd.Series(clusters_train), y_train)\n",
    "            y_pred = model.predict(X_test, z_test, clusters_test)\n",
    "            scores.append(np.mean((y_pred - y_test) ** 2)) # MSE\n",
    "            \n",
    "            # Calculate ptev and prev\n",
    "            total_variance = np.var(y_test) #calculates the total variance of the predicted values\n",
    "            random_effect_variance = np.var(y_test - y_pred)  # Variance of residuals\n",
    "            fixed_effect_variance = total_variance - random_effect_variance\n",
    "\n",
    "            ptev.append(np.mean(fixed_effect_variance / total_variance if total_variance > 0 else 0))\n",
    "            prev.append(np.mean(random_effect_variance / total_variance if total_variance > 0 else 0))\n",
    "\n",
    "            # Calculate OOB score\n",
    "            forest = model.trained_fe_model\n",
    "            oob_score = round(forest.oob_score_*100, 1)  # percent variation\n",
    "            oob_scores.append(oob_score)  # Append OOB score to the list\n",
    "\n",
    "            # Print ptev, prev, and OOB score for the current iteration\n",
    "            print(f\"Combination, ptev: {np.mean(ptev):.4f}, prev: {np.mean(prev):.4f}, OOB Score: {oob_score:.4f}\")\n",
    "\n",
    "        # Calculate the mean of the scores for the current combination of parameters\n",
    "        mean_score = np.mean(scores)\n",
    "        mean_prev = np.mean(prev)\n",
    "        mean_ptev = np.mean(ptev)\n",
    "        mean_oob_score = np.mean(oob_scores)  # Calculate the mean of OOB scores\n",
    "        if mean_score < best_score:\n",
    "            best_score = mean_score\n",
    "            best_params = params\n",
    "\n",
    "        # Append the results of the current iteration to the results list\n",
    "        # Create a result dictionary with individual scores and mean scores\n",
    "        result_dict = {\n",
    "            'n_estimators': n_estimators,\n",
    "            'max_depth': max_depth,\n",
    "            'min_samples_split': min_samples_split,\n",
    "            'max_iter': max_iter,\n",
    "            'n_splits': n_splits,  # Added n_splits to the result dictionary\n",
    "            'mse_score_1': scores[0] if len(scores) > 0 else None,\n",
    "            'mse_score_2': scores[1] if len(scores) > 1 else None,\n",
    "            'mse_score_3': scores[2] if len(scores) > 2 else None,\n",
    "            'mse_score_4': scores[3] if len(scores) > 3 else None,\n",
    "            'mse_score_5': scores[4] if len(scores) > 4 else None,\n",
    "            'mse_score_6': scores[5] if len(scores) > 5 else None,\n",
    "            'mse_score_7': scores[6] if len(scores) > 6 else None,\n",
    "            'mse_score_8': scores[7] if len(scores) > 7 else None,\n",
    "            'mse_score_9': scores[8] if len(scores) > 8 else None,\n",
    "            'mse_score_10': scores[9] if len(scores) > 9 else None,\n",
    "            'mean_mse_score': mean_score,\n",
    "            'prev_1': prev[0] if len(prev) > 0 else None,\n",
    "            'prev_2': prev[1] if len(prev) > 1 else None,\n",
    "            'prev_3': prev[2] if len(prev) > 2 else None,\n",
    "            'prev_4': prev[3] if len(prev) > 3 else None,\n",
    "            'prev_5': prev[4] if len(prev) > 4 else None,\n",
    "            'prev_6': prev[5] if len(prev) > 5 else None,\n",
    "            'prev_7': prev[6] if len(prev) > 6 else None,\n",
    "            'prev_8': prev[7] if len(prev) > 7 else None,\n",
    "            'prev_9': prev[8] if len(prev) > 8 else None,\n",
    "            'prev_10': prev[9] if len(prev) > 9 else None,\n",
    "            'mean_prev': mean_prev,\n",
    "            'ptev_1': ptev[0] if len(ptev) > 0 else None,\n",
    "            'ptev_2': ptev[1] if len(ptev) > 1 else None,\n",
    "            'ptev_3': ptev[2] if len(ptev) > 2 else None,\n",
    "            'ptev_4': ptev[3] if len(ptev) > 3 else None,\n",
    "            'ptev_5': ptev[4] if len(ptev) > 4 else None,\n",
    "            'ptev_6': ptev[5] if len(ptev) > 5 else None,\n",
    "            'ptev_7': ptev[6] if len(ptev) > 6 else None,\n",
    "            'ptev_8': ptev[7] if len(ptev) > 7 else None,\n",
    "            'ptev_9': ptev[8] if len(ptev) > 8 else None,\n",
    "            'ptev_10': ptev[9] if len(ptev) > 9 else None,\n",
    "            'mean_ptev': mean_ptev,\n",
    "            'oob_1': oob_scores[0] if len(oob_scores) > 0 else None,\n",
    "            'oob_2': oob_scores[1] if len(oob_scores) > 1 else None,\n",
    "            'oob_3': oob_scores[2] if len(oob_scores) > 2 else None,\n",
    "            'oob_4': oob_scores[3] if len(oob_scores) > 3 else None,\n",
    "            'oob_5': oob_scores[4] if len(oob_scores) > 4 else None,\n",
    "            'oob_6': oob_scores[5] if len(oob_scores) > 5 else None,\n",
    "            'oob_7': oob_scores[6] if len(oob_scores) > 6 else None,\n",
    "            'oob_8': oob_scores[7] if len(oob_scores) > 7 else None,\n",
    "            'oob_9': oob_scores[8] if len(oob_scores) > 8 else None,\n",
    "            'oob_10': oob_scores[9] if len(oob_scores) > 9 else None,\n",
    "            'oob_score': mean_oob_score\n",
    "        }\n",
    "        # Append the result dictionary to the results list\n",
    "        results.append(result_dict)\n",
    "\n",
    "print(\"Best parameters:\", best_params)\n",
    "print(\"Best score:\", best_score)\n",
    "\n",
    "# Convert the results list to a DataFrame and save it to a CSV file\n",
    "df_dir = \"/Users/emily/projects/research/Stanislawski/comps/mutli-omic-predictions/play_scripts/2.models/merf_python/merf_dfs/4.micom\"\n",
    "results_df = pd.DataFrame(results)\n",
    "results_df.to_csv(f'{df_dir}/dec6_maggie_params_fine_tuning_results_raw_micom.csv', index=False)\n",
    "\n"
   ]
  }
 ],
 "metadata": {
  "kernelspec": {
   "display_name": "researchVenv",
   "language": "python",
   "name": "python3"
  },
  "language_info": {
   "codemirror_mode": {
    "name": "ipython",
    "version": 3
   },
   "file_extension": ".py",
   "mimetype": "text/x-python",
   "name": "python",
   "nbconvert_exporter": "python",
   "pygments_lexer": "ipython3",
   "version": "3.13.0"
  }
 },
 "nbformat": 4,
 "nbformat_minor": 2
}
