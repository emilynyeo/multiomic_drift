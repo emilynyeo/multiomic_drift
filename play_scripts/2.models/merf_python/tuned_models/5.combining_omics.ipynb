{
 "cells": [
  {
   "cell_type": "code",
   "execution_count": 1,
   "metadata": {},
   "outputs": [],
   "source": [
    "import pandas as pd\n",
    "import os\n",
    "import re\n",
    "import sys\n",
    "import numpy as np\n",
    "from merf import MERF\n",
    "import matplotlib.pyplot as plt\n",
    "import seaborn as sns\n",
    "import itertools \n",
    "sns.set_context(\"poster\")\n",
    "from sklearn.ensemble import RandomForestRegressor\n",
    "import matplotlib as mpl\n",
    "mpl.rcParams['figure.figsize'] = (11,8)\n",
    "from merf.merf import MERF\n",
    "from sklearn.model_selection import train_test_split, KFold\n",
    "from merf.viz import plot_merf_training_stats\n",
    "\n",
    "current_dir = os.getcwd() # Get the current working directory\n",
    "parent_dir = os.path.abspath(os.path.join(current_dir, '..'))\n",
    "sys.path.append(parent_dir)\n",
    "from em_utils import *\n",
    "\n",
    "# Create output directory if it doesn't exist\n",
    "output_dir = \"/Users/emily/projects/research/Stanislawski/comps/mutli-omic-predictions/play_scripts/2.models/merf_python/merf_plots/5.combined\"\n",
    "df_dir = \"/Users/emily/projects/research/Stanislawski/comps/mutli-omic-predictions/play_scripts/2.models/merf_python/merf_dfs/5.combined\"\n",
    "os.makedirs(output_dir, exist_ok=True)"
   ]
  },
  {
   "cell_type": "markdown",
   "metadata": {},
   "source": [
    "# Read in prior DFs"
   ]
  },
  {
   "cell_type": "code",
   "execution_count": 2,
   "metadata": {},
   "outputs": [],
   "source": [
    "# Meta / clinical\n",
    "clin_dir = \"/Users/emily/projects/research/Stanislawski/comps/mutli-omic-predictions/data/clinical/transformed/aim2/merf_ready/\"\n",
    "test_long = pd.read_csv(os.path.join(clin_dir, 'test_clinical_no_na.csv'))  \n",
    "train_long = pd.read_csv(os.path.join(clin_dir, 'train_clinical_no_na.csv'))  \n",
    "full_long = pd.read_csv(os.path.join(clin_dir, 'full_train_clinical.csv'))  \n",
    "raw_train = pd.read_csv(os.path.join(clin_dir, 'raw__train_clinical.csv'))  \n",
    "raw_test = pd.read_csv(os.path.join(clin_dir, 'raw_test_clinical.csv'))\n",
    "\n",
    "# Genetic \n",
    "gen_dir = \"/Users/emily/projects/research/Stanislawski/comps/mutli-omic-predictions/data/genetic/\"\n",
    "gen_test = pd.read_csv(os.path.join(gen_dir, 'genetic_risk_testing.csv'))  \n",
    "gen_train = pd.read_csv(os.path.join(gen_dir, 'genetic_risk_training.csv')) \n",
    "\n",
    "# Taxa\n",
    "tax_dir = \"/Users/emily/projects/research/Stanislawski/comps/mutli-omic-predictions/data/taxa/aim2_transformed/genus/merf_ready_sets/\"\n",
    "test_tax_no_na = pd.read_csv(os.path.join(tax_dir, 'test_tax_no_na.csv'))\n",
    "train_tax_no_na = pd.read_csv(os.path.join(tax_dir, 'train_tax_no_na.csv'))\n",
    "full_train_tax = pd.read_csv(os.path.join(tax_dir, 'full_train_tax.csv'))\n",
    "full_test_tax = pd.read_csv(os.path.join(tax_dir, 'full_test_tax.csv'))\n",
    "\n",
    "# Functional\n",
    "func_dir = \"/Users/emily/projects/research/Stanislawski/comps/mutli-omic-predictions/data/functional/aim2/\"\n",
    "test_func_no_na = pd.read_csv(os.path.join(func_dir, 'test_functional_no_na.csv'))  # Read test_tax_no_na\n",
    "train_func_no_na = pd.read_csv(os.path.join(func_dir, 'train_functional_no_na.csv'))  # Read train_tax_no_na\n",
    "full_train_func = pd.read_csv(os.path.join(func_dir, 'full_train_functional.csv'))  # Read full_train_tax\n",
    "full_test_func = pd.read_csv(os.path.join(func_dir, 'full_test_functional.csv'))\n",
    "\n",
    "# Micom fluxes\n",
    "micom_dir = \"/Users/emily/projects/research/Stanislawski/comps/mutli-omic-predictions/data/micom/aim2/\"\n",
    "test_micom_no_na = pd.read_csv(os.path.join(micom_dir, 'test_micom_no_na.csv'))  # Read in test_micom_no_na\n",
    "train_micom_no_na = pd.read_csv(os.path.join(micom_dir, 'train_micom_no_na.csv'))  # Read in train_micom_no_na\n",
    "full_train_micom = pd.read_csv(os.path.join(micom_dir, 'full_train_micom.csv'))  # Read in full_train_micom\n",
    "full_test_micom = pd.read_csv(os.path.join(micom_dir, 'full_test_micom.csv')) "
   ]
  },
  {
   "cell_type": "code",
   "execution_count": null,
   "metadata": {},
   "outputs": [],
   "source": [
    "print(\"meta shape = \", train_long.shape)\n",
    "print(\"Meta df columns\", train_long.columns.to_list())\n",
    "print(\"genetic df shape = \", gen_train.shape)\n",
    "print(\"Genetic df columns\", gen_train.columns.to_list())\n",
    "print(\"Taxa df shape = \", train_tax_no_na.shape)\n",
    "print(\"Taxa df columns\", train_tax_no_na.columns.to_list())\n",
    "print(\"Functional df shape = \", train_func_no_na.shape)\n",
    "print(\"Functional df columns\", train_func_no_na.columns.to_list())\n",
    "print(\"Micom df shape = \", train_micom_no_na.shape)\n",
    "print(\"Micom df columns\", train_micom_no_na.columns.to_list())"
   ]
  },
  {
   "cell_type": "code",
   "execution_count": null,
   "metadata": {},
   "outputs": [],
   "source": [
    "print(\"meta subject_id values:\", train_long['subject_id'])\n",
    "print(\"meta time values:\", train_long['time'])"
   ]
  },
  {
   "cell_type": "code",
   "execution_count": null,
   "metadata": {},
   "outputs": [],
   "source": [
    "print(\"genetic subject_id values:\", gen_train['subject_id'])"
   ]
  },
  {
   "cell_type": "code",
   "execution_count": null,
   "metadata": {},
   "outputs": [],
   "source": [
    "print(\"taxa all_samples values:\", train_tax_no_na['all_samples'])\n",
    "print(\"taxa t values:\", train_tax_no_na['t'])"
   ]
  },
  {
   "cell_type": "code",
   "execution_count": null,
   "metadata": {},
   "outputs": [],
   "source": [
    "print(\"functional all_samples values:\", train_func_no_na['all_samples'])\n",
    "print(\"functional time values:\", train_func_no_na['time'])\n",
    "print(\"functional SampleID values:\", train_func_no_na['SampleID'])"
   ]
  },
  {
   "cell_type": "code",
   "execution_count": null,
   "metadata": {},
   "outputs": [],
   "source": [
    "print(\"functional all_samples values:\", train_micom_no_na['all_samples'])\n",
    "print(\"functional time values:\", train_micom_no_na['time'])\n",
    "print(\"functional sample_id values:\", train_micom_no_na['sample_id'])"
   ]
  }
 ],
 "metadata": {
  "kernelspec": {
   "display_name": "researchVenv",
   "language": "python",
   "name": "python3"
  },
  "language_info": {
   "codemirror_mode": {
    "name": "ipython",
    "version": 3
   },
   "file_extension": ".py",
   "mimetype": "text/x-python",
   "name": "python",
   "nbconvert_exporter": "python",
   "pygments_lexer": "ipython3",
   "version": "3.13.0"
  }
 },
 "nbformat": 4,
 "nbformat_minor": 2
}
