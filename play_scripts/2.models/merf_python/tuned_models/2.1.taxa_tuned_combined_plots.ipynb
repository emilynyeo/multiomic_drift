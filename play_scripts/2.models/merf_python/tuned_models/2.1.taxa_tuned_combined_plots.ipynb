{
 "cells": [
  {
   "cell_type": "markdown",
   "metadata": {},
   "source": [
    "## Outline\n",
    "This code is going to look at the Rsquared vaules & feature importances for:\n",
    "1 - Longitudinal timepoints BL, 6m, and 12m\n",
    "2 - Delta variables BL-6m and 6m-12m"
   ]
  },
  {
   "cell_type": "code",
   "execution_count": null,
   "metadata": {},
   "outputs": [],
   "source": []
  }
 ],
 "metadata": {
  "language_info": {
   "name": "python"
  }
 },
 "nbformat": 4,
 "nbformat_minor": 2
}
