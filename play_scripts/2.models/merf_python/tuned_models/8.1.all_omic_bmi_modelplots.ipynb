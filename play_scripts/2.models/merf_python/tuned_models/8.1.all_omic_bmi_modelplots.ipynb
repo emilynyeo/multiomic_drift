{
 "cells": [
  {
   "cell_type": "markdown",
   "metadata": {},
   "source": [
    "## Description:\n",
    "Run many models looking at:\n",
    "1 - BMI and omic variables longitudinally \n",
    "2 - BMI and variable changes from BL-6m and 6m-12m"
   ]
  },
  {
   "cell_type": "code",
   "execution_count": 1,
   "metadata": {},
   "outputs": [],
   "source": [
    "import pandas as pd\n",
    "import os\n",
    "import re\n",
    "import sys\n",
    "import numpy as np\n",
    "import matplotlib.pyplot as plt\n",
    "import seaborn as sns\n",
    "import itertools \n",
    "from sklearn.ensemble import RandomForestRegressor\n",
    "from sklearn.metrics import r2_score\n",
    "import matplotlib as mpl\n",
    "from merf.merf import MERF\n",
    "from sklearn.model_selection import train_test_split, KFold\n",
    "from merf.viz import plot_merf_training_stats\n",
    "from joblib import dump\n",
    "sns.set_context(\"poster\")\n",
    "mpl.rcParams['figure.figsize'] = (11,8)\n",
    "\n",
    "current_dir = os.getcwd() # Get the current working directory\n",
    "parent_dir = os.path.abspath(os.path.join(current_dir, '..'))\n",
    "sys.path.append(parent_dir)\n",
    "from em_utils import *\n",
    "\n",
    "# test and train set directories for input data\n",
    "longitudinal_dir = \"/Users/emily/projects/research/Stanislawski/comps/mutli-omic-predictions/play_scripts/2.models/merf_python/merf_dfs/5.combined/\"\n",
    "delta_dir = \"/Users/emily/projects/research/Stanislawski/comps/mutli-omic-predictions/zachs_rerun/drift_fs/csv/all_omic_processed_data/deltas/\"\n",
    "clin_dir = \"/Users/emily/projects/research/Stanislawski/comps/mutli-omic-predictions/data/clinical/transformed/aim2/merf_ready\"\n",
    "# Where hyperparameter training results are\n",
    "delta_df_dir = \"/Users/emily/projects/research/Stanislawski/comps/mutli-omic-predictions/play_scripts/2.models/merf_python/merf_dfs/6.two_timepoints_deltas\"\n",
    "long_df_dir = \"/Users/emily/projects/research/Stanislawski/comps/mutli-omic-predictions/play_scripts/2.models/merf_python/merf_dfs/5.combined\"\n",
    "func_df_dir = \"/Users/emily/projects/research/Stanislawski/comps/mutli-omic-predictions/play_scripts/2.models/merf_python/merf_dfs/3.functional\"\n",
    "taxa_long_df_dir = \"/Users/emily/projects/research/Stanislawski/comps/mutli-omic-predictions/play_scripts/2.models/merf_python/merf_dfs/2.taxa\"\n",
    "clinical_df_dir = \"/Users/emily/projects/research/Stanislawski/comps/mutli-omic-predictions/play_scripts/2.models/merf_python/merf_dfs/1.clinical\"\n",
    "micom_df_dir = \"/Users/emily/projects/research/Stanislawski/comps/mutli-omic-predictions/play_scripts/2.models/merf_python/merf_dfs/4.micom\""
   ]
  },
  {
   "cell_type": "code",
   "execution_count": 2,
   "metadata": {},
   "outputs": [
    {
     "name": "stdout",
     "output_type": "stream",
     "text": [
      "test long shape =  (66, 635)\n",
      "train long shape =  (268, 635)\n",
      "test longitudinal:  Index(['Unnamed: 0_test_long', 'record_id', 'subject_id', 'randomized_group',\n",
      "       'cohort_number', 'sex', 'race', 'age', 'time', 'Glucose',\n",
      "       ...\n",
      "       'outcome_BMI_fnl_merged_data', 'Unnamed: 0_merged_data', 'bmi_prs',\n",
      "       'old_or_new', 'predicted_BL_BMI', 'differences_BL_BMI',\n",
      "       'diff_BMI_quartile', 'diff_BMI_std', 'methyl_bmi_rs',\n",
      "       'methyl_bmi_rs_standardized'],\n",
      "      dtype='object', length=635)\n",
      "train longitudinal:  Index(['Unnamed: 0_train_long', 'record_id', 'subject_id', 'randomized_group',\n",
      "       'cohort_number', 'sex', 'race', 'age', 'time', 'Glucose',\n",
      "       ...\n",
      "       'outcome_BMI_fnl_merged_data', 'Unnamed: 0_merged_data', 'bmi_prs',\n",
      "       'old_or_new', 'predicted_BL_BMI', 'differences_BL_BMI',\n",
      "       'diff_BMI_quartile', 'diff_BMI_std', 'methyl_bmi_rs',\n",
      "       'methyl_bmi_rs_standardized'],\n",
      "      dtype='object', length=635)\n",
      "test delta shape =  (62, 920)\n",
      "train delta shape =  (234, 920)\n",
      "test delta:  Index(['subject_id', 'randomized_group', 'age', 'sex', 'race', 'BMI', 'Weight',\n",
      "       'CRP', 'cholesterol', 'ghrelin',\n",
      "       ...\n",
      "       'phenylacetate', 'Succinate', 'Isobutyrate..2.Methylpropanoate',\n",
      "       'Isocaproate', 'Water', 'Hydrogen', 'Propionate', 'Acetate',\n",
      "       'Carbon.dioxide', 'range'],\n",
      "      dtype='object', length=920)\n",
      "train delta:  Index(['subject_id', 'randomized_group', 'age', 'sex', 'race', 'BMI', 'Weight',\n",
      "       'CRP', 'cholesterol', 'ghrelin',\n",
      "       ...\n",
      "       'phenylacetate', 'Succinate', 'Isobutyrate..2.Methylpropanoate',\n",
      "       'Isocaproate', 'Water', 'Hydrogen', 'Propionate', 'Acetate',\n",
      "       'Carbon.dioxide', 'range'],\n",
      "      dtype='object', length=920)\n"
     ]
    }
   ],
   "source": [
    "# test and train longitudinal files \n",
    "test_all = pd.read_csv(os.path.join(longitudinal_dir, 'test_merged_all_omics_raw_meta.csv'))  \n",
    "train_all = pd.read_csv(os.path.join(longitudinal_dir, 'training_merged_all_omics_raw_meta.csv'))  \n",
    "print(\"test long shape = \", test_all.shape)\n",
    "print(\"train long shape = \", train_all.shape)\n",
    "print(\"test longitudinal: \", test_all.columns)\n",
    "print(\"train longitudinal: \", train_all.columns)\n",
    "\n",
    "# test and train delta files \n",
    "test_delta = read_data(delta_dir, \"jan30_all_delta_test_imp_varcheck.csv\")\n",
    "train_delta = read_data(delta_dir, \"jan30_all_delta_train_imp_varcheck.csv\")\n",
    "print(\"test delta shape = \", test_delta.shape)\n",
    "print(\"train delta shape = \", train_delta.shape)\n",
    "print(\"test delta: \", test_delta.columns)\n",
    "print(\"train delta: \", train_delta.columns)\n",
    "\n",
    "# hyperparameter training files \n",
    "delta_df = pd.read_csv(os.path.join(delta_df_dir, 'jan30_2times_all_omic_deltas_BMI_remove_time_var_imputed_swapped.csv'))\n",
    "long_df = pd.read_csv(os.path.join(long_df_dir, 'jan13_params_fine_tuning_results_all_omics.csv'))\n",
    "func_df = pd.read_csv(os.path.join(func_df_dir, 'dec6_magggie_params_fine_tuning_results_raw_functional.csv'))\n",
    "taxa_df = pd.read_csv(os.path.join(taxa_long_df_dir, 'dec6_maggie_params_tuning_raw_taxa_oob.csv'))\n",
    "micom_df = pd.read_csv(os.path.join(micom_df_dir, 'dec6_maggie_params_fine_tuning_results_raw_micom.csv'))\n",
    "meta_df = pd.read_csv('/Users/emily/projects/research/Stanislawski/comps/mutli-omic-predictions/play_scripts/2.models/merf_python/merf_dfs/1.clinical/fine_tuning_results_raw_clinical.csv')"
   ]
  },
  {
   "cell_type": "markdown",
   "metadata": {},
   "source": [
    "### Longitudinal BMI first "
   ]
  },
  {
   "cell_type": "code",
   "execution_count": 3,
   "metadata": {},
   "outputs": [
    {
     "name": "stdout",
     "output_type": "stream",
     "text": [
      "test long shape =  (66, 610)\n",
      "train long shape =  (268, 610)\n",
      "test longitudinal:  ['randomized_group', 'cohort_number', 'sex', 'race', 'age', 'Glucose', 'HDL_Total_Direct_lipid', 'HOMA_IR', 'Insulin_endo', 'LDL_Calculated', 'Triglyceride_lipid', 'outcome_BMI_fnl_test_long', 'proton', 'Diacetyl', 'Butyrate', 'Formate', 'acetone', 'X2.methylbutyrate', 'Valeric.Acid', 'Methane', 'X1.4.Dihydroxy.2.naphthoate', 'X2.Oxoglutarate', 'Pyruvate', 'D.lactate', 'L.lactate', 'laurate', 'Phenol', 'L.Carnitine', 'Isopropanol', 'p.Cresol', 'O2', 'X1.Propanol', 'butanol', 'Propanal', 'X4.hydroxyphenylacetate', 'X.S..propane.1.2.diol', 'Propane.1.3.diol', 'R_R__2_3_Butanediol', 'Oxaloacetate', 'sulfate', 'octadecenoate..n.C18.1.', 'o.Succinylbenzoate', 'Thymidine', 'Reduced.riboflavin', 'Riboflavin', 'X2.Hydroxyphenylacetate', 'Sulfite', 'thiosulfate.2..', 'X.3.4.dihydroxyphenyl.acetate', 'Diphosphate', 'trimethylamine', 'glycine.betaine', 'Choline', 'Trimethylamine.N.oxide', 'Isochorismate', 'Inosine', 'xanthosine', 'Hypoxanthine', 'Xanthine', 'uracil', 'Uridine', 'Methanethiol', 'keto.phenylpyruvate', 'D.Arabinose', 'D.Galactose', 'Nicotinate', 'chorismate', 'tetradecanoate..n.C14.0.', 'oxalate.2..', 'X.R..3.hydroxybutyrate', 'Hydrogen.peroxide', 'Hydrogen.sulfide', 'X4.hydroxybenzoate', 'Hexadecanoate..n.C16.0.', 'octadecanoate..n.C18.0.', 'D.Fructose', 'D.ribose', 'myo.inositol', 'D.Mannitol', 'Citrate', 'Menaquinone.8', 'Glycerol', 'D.Mannose', 'X2.Oxobutanoate', 'Fumarate', 'L.malate', 'X.R..Acetoin', 'formaldehyde', 'Ethanol', 'Acetoacetate', 'methanol', 'Acetaldehyde', 'X3.methyl.2.oxopentanoate', 'Isovalerate..3.Methylbutanoate', 'phenylacetate', 'Succinate', 'Isobutyrate..2.Methylpropanoate', 'Isocaproate', 'Water', 'Hydrogen', 'Propionate', 'Acetate', 'Carbon.dioxide', 'N10.formyl.tetrahydrofolate.biosynthesis', 'X4.hydroxyphenylacetate.degradation', 'aerobactin.biosynthesis', 'superpathway.of.chorismate.metabolism', 'homolactic.fermentation', 'glycolysis.III..from.glucose.', 'superpathway.of.arginine.and.polyamine.biosynthesis', 'arginine..ornithine.and.proline.interconversion', 'L.arginine.biosynthesis.I..via.L.ornithine.', 'L.arginine.biosynthesis.II..acetyl.cycle.', 'chorismate.biosynthesis.I', 'superpathway.of.L.aspartate.and.L.asparagine.biosynthesis', 'L.arginine.degradation.II..AST.pathway.', 'biotin.biosynthesis.I', 'superpathway.of.branched.amino.acid.biosynthesis', 'Calvin.Benson.Bassham.cycle', 'pyruvate.fermentation.to.butanoate', 'coenzyme.A.biosynthesis.I', 'adenosylcobalamin.salvage.from.cobinamide.I', 'reductive.acetyl.coenzyme.A.pathway', 'colanic.acid.building.blocks.biosynthesis', 'superpathway.of.aromatic.amino.acid.biosynthesis', 'L.lysine.biosynthesis.I', 'nitrate.reduction.I..denitrification.', 'superpathway.of.purine.nucleotides.de.novo.biosynthesis.II', 'dTDP.L.rhamnose.biosynthesis.I', 'enterobacterial.common.antigen.biosynthesis', 'enterobactin.biosynthesis', 'fatty.acid..beta..oxidation.I', 'fatty.acid.elongation....saturated', 'superpathway.of.fatty.acid.biosynthesis.initiation..E..coli.', 'mixed.acid.fermentation', 'superpathway.of.tetrahydrofolate.biosynthesis.and.salvage', 'superpathway.of.fucose.and.rhamnose.degradation', 'fucose.degradation', 'superpathway.of.hexuronide.and.hexuronate.degradation', 'D.galactarate.degradation.I', 'D.galacturonate.degradation.I', 'superpathway.of.N.acetylglucosamine..N.acetylmannosamine.and.N.acetylneuraminate.degradation', 'D.glucarate.degradation.I', 'superpathway.of.D.glucarate.and.D.galactarate.degradation', 'gluconeogenesis.I', 'glucose.and.glucose.1.phosphate.degradation', 'superpathway.of..beta..D.glucuronide.and.D.glucuronate.degradation', 'L.ornithine.biosynthesis', 'glycogen.degradation.I..bacterial.', 'glycogen.biosynthesis.I..from.ADP.D.Glucose.', 'superpathway.of.glycol.metabolism.and.degradation', 'glycolysis.I..from.glucose.6.phosphate.', 'superpathway.of.glycolysis.and.Entner.Doudoroff', 'superpathway.of.glycolysis..pyruvate.dehydrogenase..TCA..and.glyoxylate.bypass', 'glyoxylate.cycle', 'superpathway.of.glycerol.degradation.to.1.3.propanediol', 'heme.biosynthesis.I..aerobic.', 'heme.biosynthesis.II..anaerobic.', 'superpathway.of.hexitol.degradation..bacteria.', 'L.histidine.degradation.I', 'L.histidine.biosynthesis', 'L.methionine.biosynthesis.I', 'L.methionine.biosynthesis.III', 'L.isoleucine.biosynthesis.I..from.threonine.', 'superpathway.of..Kdo.2.lipid.A.biosynthesis', 'ketogluconate.metabolism', 'lactose.and.galactose.degradation.I', 'L.leucine.degradation.I', 'superpathway.of.lipopolysaccharide.biosynthesis', 'superpathway.of.S.adenosyl.L.methionine.biosynthesis', 'methanogenesis.from.acetate', 'methanogenesis.from.H2.and.CO2', 'superpathway.of.methylglyoxal.degradation', 'NAD.salvage.pathway.II', 'lipid.IVA.biosynthesis', 'methylerythritol.phosphate.pathway.I', 'pentose.phosphate.pathway..non.oxidative.branch.', 'O.antigen.building.blocks.biosynthesis..E..coli.', 'TCA.cycle.IV..2.oxoglutarate.decarboxylase.', 'pyruvate.fermentation.to.propanoate.I', 'heterolactic.fermentation', 'Bifidobacterium.shunt', 'superpathway.of..R.R..butanediol.biosynthesis', 'acetylene.degradation', 'L.glutamate.degradation.V..via.hydroxyglutarate.', 'L.lysine.fermentation.to.acetate.and.butanoate', 'purine.nucleobases.degradation.I..anaerobic.', 'octane.oxidation', 'reductive.TCA.cycle.I', 'coenzyme.B.biosynthesis', 'coenzyme.M.biosynthesis.I', 'X3.phenylpropanoate.degradation', 'glycolysis.V..Pyrococcus.', 'superpathway.of.L.lysine..L.threonine.and.L.methionine.biosynthesis.I', 'incomplete.reductive.TCA.cycle', 'superpathway.of.N.acetylneuraminate.degradation', 'hexitol.fermentation.to.lactate..formate..ethanol.and.acetate', 'myo.inositol.degradation.I', 'phosphopantothenate.biosynthesis.I', 'pantothenate.and.coenzyme.A.biosynthesis.I', 'pentose.phosphate.pathway', 'peptidoglycan.biosynthesis.I..meso.diaminopimelate.containing.', 'superpathway.of.phospholipid.biosynthesis.I..bacteria.', 'superpathway.of.polyamine.biosynthesis.II', 'superpathway.of.polyamine.biosynthesis.I', 'polyisoprenoid.biosynthesis..E..coli.', 'ppGpp.biosynthesis', 'superpathway.of.histidine..purine..and.pyrimidine.biosynthesis', 'CMP.3.deoxy.D.manno.octulosonate.biosynthesis.I', 'formaldehyde.assimilation.I..serine.pathway.', 'photorespiration', 'formaldehyde.assimilation.II..RuMP.Cycle.', 'L.lysine.biosynthesis.II', 'L.lysine.biosynthesis.III', 'superpathway.of.L.isoleucine.biosynthesis.I', 'aerobic.respiration.I..cytochrome.c.', 'creatinine.degradation.II', 'urea.cycle', 'biotin.biosynthesis.II', 'X4.aminobutanoate.degradation.V', 'L.histidine.degradation.II', 'L.lysine.biosynthesis.VI', 'pyruvate.fermentation.to.acetate.and.lactate.II', 'L.isoleucine.biosynthesis.II', 'L.isoleucine.biosynthesis.III', 'L.isoleucine.biosynthesis.IV', 'superpathway.of.geranylgeranyl.diphosphate.biosynthesis.II..via.MEP.', 'L.arginine.biosynthesis.III..via.N.acetyl.L.citrulline.', 'glutaryl.CoA.degradation', 'tetrapyrrole.biosynthesis.I..from.glutamate.', 'tetrapyrrole.biosynthesis.II..from.glycine.', 'factor.420.biosynthesis', 'peptidoglycan.biosynthesis.II..staphylococci.', 'superpathway.of.sulfur.oxidation..Acidianus.ambivalens.', 'superpathway.of.L.methionine.biosynthesis..by.sulfhydrylation.', 'superpathway.of.L.methionine.biosynthesis..transsulfuration.', 'sucrose.degradation.IV..sucrose.phosphorylase.', 'glycolysis.II..from.fructose.6.phosphate.', 'L.glutamate.and.L.glutamine.biosynthesis', 'adenosylcobalamin.biosynthesis.I..early.cobalt.insertion.', 'adenosylcobalamin.biosynthesis.from.cobyrinate.a.c.diamide.I', 'adenosine.nucleotides.degradation.IV', 'GDP.mannose.biosynthesis', 'CDP.diacylglycerol.biosynthesis.I', 'acetyl.CoA.fermentation.to.butanoate.II', 'succinate.fermentation.to.butanoate', 'UMP.biosynthesis', 'urate.biosynthesis.inosine.5..phosphate.degradation', 'allantoin.degradation.to.glyoxylate.III', 'ethylmalonyl.CoA.pathway', 'X2.methylcitrate.cycle.II', 'X1.4.dihydroxy.2.naphthoate.biosynthesis.I', 'superpathway.of.menaquinol.8.biosynthesis.I', 'superpathway.of.menaquinol.7.biosynthesis', 'superpathway.of.menaquinol.9.biosynthesis', 'superpathway.of.menaquinol.6.biosynthesis.I', 'ubiquinol.7.biosynthesis..prokaryotic.', 'ubiquinol.9.biosynthesis..prokaryotic.', 'ubiquinol.10.biosynthesis..prokaryotic.', 'superpathway.of.demethylmenaquinol.6.biosynthesis.I', 'superpathway.of.demethylmenaquinol.8.biosynthesis', 'superpathway.of.demethylmenaquinol.9.biosynthesis', 'superpathway.of.phylloquinol.biosynthesis', 'superpathway.of.menaquinol.10.biosynthesis', 'superpathway.of.menaquinol.11.biosynthesis', 'superpathway.of.menaquinol.12.biosynthesis', 'superpathway.of.menaquinol.13.biosynthesis', 'superpathway.of.geranylgeranyldiphosphate.biosynthesis.I..via.mevalonate.', 'TCA.cycle.VI..obligate.autotrophs.', 'superpathay.of.heme.biosynthesis.from.glutamate', 'superpathway.of.heme.biosynthesis.from.glycine', 'palmitate.biosynthesis.II..bacteria.and.plants.', 'cis.vaccenate.biosynthesis', 'stearate.biosynthesis.II..bacteria.and.plants.', 'superpathway.of.phenylethylamine.degradation', 'X5.aminoimidazole.ribonucleotide.biosynthesis.I', 'X5.aminoimidazole.ribonucleotide.biosynthesis.II', 'inosine.5..phosphate.biosynthesis.I', 'superpathway.of.guanosine.nucleotides.de.novo.biosynthesis.II', 'superpathway.of.adenosine.nucleotides.de.novo.biosynthesis.II', 'archaetidylserine.and.archaetidylethanolamine.biosynthesis', 'X6.hydroxymethyl.dihydropterin.diphosphate.biosynthesis.I', 'tetrahydromethanopterin.biosynthesis', 'S.adenosyl.L.methionine.cycle.I', 'chorismate.biosynthesis.from.3.dehydroquinate', 'chorismate.biosynthesis.II..archaea.', 'flavin.biosynthesis.II..archaea.', 'mevalonate.pathway.II..archaea.', 'sucrose.degradation.III..sucrose.invertase.', 'superpathway.of.menaquinol.8.biosynthesis.II', 'adenosylcobalamin.salvage.from.cobinamide.II', 'superpathway.of.5.aminoimidazole.ribonucleotide.biosynthesis', 'palmitoleate.biosynthesis.I..from..5Z..dodec.5.enoate.', 'galactose.degradation.I..Leloir.pathway.', 'CDP.archaeol.biosynthesis', 'archaetidylinositol.biosynthesis', 'purine.nucleotides.degradation.II..aerobic.', 'mono.trans..poly.cis.decaprenyl.phosphate.biosynthesis', 'peptidoglycan.biosynthesis.III..mycobacteria.', 'UDP.N.acetylmuramoyl.pentapeptide.biosynthesis.II..lysine.containing.', 'UDP.N.acetylmuramoyl.pentapeptide.biosynthesis.I..meso.diaminopimelate.containing.', 'superpathway.of.2.3.butanediol.biosynthesis', 'Kdo.transfer.to.lipid.IVA.III..Chlamydia.', 'peptidoglycan.biosynthesis.V...beta..lactam.resistance.', 'peptidoglycan.biosynthesis.IV..Enterococcus.faecium.', 'GDP.D.glycero..alpha..D.manno.heptose.biosynthesis', 'X4.deoxy.L.threo.hex.4.enopyranuronate.degradation', 'X8.amino.7.oxononanoate.biosynthesis.I', 'pyrimidine.deoxyribonucleotides.de.novo.biosynthesis.III', 'norspermidine.biosynthesis', 'chondroitin.sulfate.degradation.I..bacterial.', 'pyruvate.fermentation.to.acetone', 'superpathway.of.Clostridium.acetobutylicum.acidogenic.fermentation', 'guanosine.nucleotides.degradation.III', 'adenine.and.adenosine.salvage.III', 'superpathway.of.tetrahydrofolate.biosynthesis', 'superpathway.of.L.phenylalanine.biosynthesis', 'superpathway.of.L.tryptophan.biosynthesis', 'superpathway.of.L.tyrosine.biosynthesis', 'superpathway.of.sulfolactate.degradation', 'phosphopantothenate.biosynthesis.III', 'queuosine.biosynthesis', 'preQ0.biosynthesis', 'ubiquinol.8.biosynthesis..prokaryotic.', 'methylaspartate.cycle', 'starch.degradation.V', 'CMP.legionaminate.biosynthesis.I', 'isopropanol.biosynthesis', 'thiazole.biosynthesis.II..Bacillus.', 'thiazole.biosynthesis.I..E..coli.', 'superpathway.of.thiamin.diphosphate.biosynthesis.II', 'thiamin.salvage.II', 'superpathway.of.glucose.and.xylose.degradation', 'chitin.derivatives.degradation', 'TCA.cycle.V..2.oxoglutarate.ferredoxin.oxidoreductase.', 'glycerol.degradation.to.butanol', 'L.1.2.propanediol.degradation', 'UDP.2.3.diacetamido.2.3.dideoxy..alpha..D.mannuronate.biosynthesis', 'fatty.acid.salvage', 'pyruvate.fermentation.to.isobutanol..engineered.', 'pyrimidine.deoxyribonucleotides.de.novo.biosynthesis.I', 'pyrimidine.deoxyribonucleotides.de.novo.biosynthesis.II', 'superpathway.of.pyrimidine.ribonucleosides.salvage', 'pyrimidine.deoxyribonucleotide.phosphorylation', 'pyrimidine.deoxyribonucleotides.de.novo.biosynthesis.IV', 'pyrimidine.deoxyribonucleosides.salvage', 'superpathway.of.pyrimidine.deoxyribonucleoside.salvage', 'superpathway.of.pyrimidine.nucleobases.salvage', 'pyrimidine.deoxyribonucleotides.biosynthesis.from.CTP', 'superpathway.of.pyrimidine.deoxyribonucleotides.de.novo.biosynthesis', 'adenosine.ribonucleotides.de.novo.biosynthesis', 'adenosine.deoxyribonucleotides.de.novo.biosynthesis.II', 'guanosine.ribonucleotides.de.novo.biosynthesis', 'guanosine.deoxyribonucleotides.de.novo.biosynthesis.II', 'superpathway.of.guanosine.nucleotides.de.novo.biosynthesis.I', 'superpathway.of.adenosine.nucleotides.de.novo.biosynthesis.I', 'inosine.5..phosphate.biosynthesis.III', 'myo...chiro..and.scillo.inositol.degradation', 'D.fructuronate.degradation', 'TCA.cycle.VII..acetate.producers.', 'X7..3.amino.3.carboxypropyl..wyosine.biosynthesis', 'dTDP.N.acetylthomosamine.biosynthesis', 'superpathway.of.GDP.mannose.derived.O.antigen.building.blocks.biosynthesis', 'superpathway.of.UDP.glucose.derived.O.antigen.building.blocks.biosynthesis', 'superpathway.of.UDP.N.acetylglucosamine.derived.O.antigen.building.blocks.biosynthesis', 'X1.4.dihydroxy.6.naphthoate.biosynthesis.II', 'X1.4.dihydroxy.6.naphthoate.biosynthesis.I', 'cob.II.yrinate.a.c.diamide.biosynthesis.I..early.cobalt.insertion.', 'isoprene.biosynthesis.II..engineered.', 'taxadiene.biosynthesis..engineered.', 'L.arginine.biosynthesis.IV..archaebacteria.', 'aromatic.biogenic.amine.degradation..bacteria.', 'sulfoglycolysis', 'mannan.degradation', 'X6.hydroxymethyl.dihydropterin.diphosphate.biosynthesis.III..Chlamydia.', 'methylerythritol.phosphate.pathway.II', 'gondoate.biosynthesis..anaerobic.', 'oleate.biosynthesis.IV..anaerobic.', 'superpathway.of.purine.nucleotides.de.novo.biosynthesis.I', 'mevalonate.pathway.I', 'superpathway.of.L.alanine.biosynthesis', 'ADP.L.glycero..beta..D.manno.heptose.biosynthesis', 'anhydromuropeptides.recycling', 'purine.ribonucleosides.degradation', 'superpathway.of.purine.deoxyribonucleosides.degradation', 'superpathway.of.pyrimidine.deoxyribonucleosides.degradation', 'CDP.diacylglycerol.biosynthesis.II', 'polymyxin.resistance', 'superpathway.of.heme.biosynthesis.from.uroporphyrinogen.III', 'tRNA.processing', 'methylphosphonate.degradation.I', 'peptidoglycan.maturation..meso.diaminopimelate.containing.', 'superpathway.of.pyrimidine.ribonucleotides.de.novo.biosynthesis', 'superpathway.of.pyrimidine.deoxyribonucleotides.de.novo.biosynthesis..E..coli.', 'phenylacetate.degradation.I..aerobic.', 'allantoin.degradation.IV..anaerobic.', 'X2.methylcitrate.cycle.I', 'aspartate.superpathway', 'superpathway.of.pyridoxal.5..phosphate.biosynthesis.and.salvage', 'X.5Z..dodec.5.enoate.biosynthesis', 'mycothiol.biosynthesis', 'nitrate.reduction.VI..assimilatory.', 'phosphatidylglycerol.biosynthesis.I..plastidic.', 'phosphatidylglycerol.biosynthesis.II..non.plastidic.', 'mycolate.biosynthesis', 'NAD.salvage.pathway.I', 'NAD.biosynthesis.I..from.aspartate.', 'pyridoxal.5..phosphate.biosynthesis.I', 'TCA.cycle.VIII..helicobacter.', 'L.rhamnose.degradation.I', 'flavin.biosynthesis.I..bacteria.and.plants.', 'formaldehyde.oxidation.I', 'adenosine.nucleotides.degradation.II', 'superpathway.of.L.serine.and.glycine.biosynthesis.I', 'sulfate.reduction.I..assimilatory.', 'superpathway.of.sulfate.assimilation.and.cysteine.biosynthesis', 'TCA.cycle.I..prokaryotic.', 'superpathway.of.glyoxylate.bypass.and.TCA', 'teichoic.acid..poly.glycerol..biosynthesis', 'superpathway.of.thiamin.diphosphate.biosynthesis.I', 'superpathway.of.L.threonine.metabolism', 'superpathway.of.L.threonine.biosynthesis', 'tRNA.charging', 'L.tryptophan.biosynthesis', 'L.tyrosine.degradation.I', 'superpathway.of.ubiquinol.8.biosynthesis..prokaryotic.', 'UDP.N.acetyl.D.glucosamine.biosynthesis.I', 'L.valine.degradation.I', 'L.valine.biosynthesis', 'g__Parabacteroides_B_862066', 'g__Coprenecus', 'g__Butyricimonas', 'g__Odoribacter_865974', 'g__Alistipes_A_871404', 'g__Paramuribaculum', 'g__Alistipes_A_871400', 'g__Barnesiella', 'g__Coprobacter', 'g__Phocaeicola_A_858004', 'g__Bacteroides_H', 'g__Prevotella', 'g__Paraprevotella', 'g__Methanobrevibacter_A', 'g__DTU012', 'g__Escherichia_710834', 'g__Parasutterella', 'g__Sutterella', 'g__Haemophilus_D_735815', 'g__Enterobacter_B_713587', 'g__Akkermansia', 'g__Eubacterium_O_258270', 'g__Anaerofustis', 'g__Peptococcus', 'g__QAMH01', 'g__Senegalimassilia', 'g__Adlercreutzia_404257', 'g__Slackia_A', 'g__Eggerthella', 'g__CAG.1427', 'g__Gordonibacter', 'g__Collinsella', 'g__Holdemania', 'g__Longibaculum', 'g__Catenibacterium', 'g__Erysipelatoclostridium', 'g__Faecalibacillus', 'g___2', 'g__Holdemanella', 'g__Merdibacter', 'g__Clostridium_AQ', 'g__Amedibacillus', 'g__Longicatena', 'g__Dielma', 'g__Pauljensenia', 'g__Bifidobacterium_388775', 'g__Acidaminococcus', 'g__Phascolarctobacterium_A', 'g__Veillonella_A', 'g__Dialister', 'g__Streptococcus', 'g__Lactococcus_A_346120', 'g__Lacticaseibacillus', 'g__Turicibacter', 'g__Gemella', 'g__Limiplasma', 'g__SFMI01', 'g___3', 'g__Onthenecus', 'g__Copromorpha', 'g__BX12', 'g___4', 'g__Romboutsia_B', 'g__CCUG.7971', 'g__Intestinibacter', 'g__Terrisporobacter', 'g___5', 'g__PeH17', 'g__Clostridium_T', 'g__CAG.269', 'g___6', 'g__CAG.273', 'g__Merdicola', 'g__CAG.41', 'g__Monoglobus', 'g__ER4', 'g___7', 'g__Dysosmobacter', 'g__Vescimonas', 'g__CAG.83', 'g__Limivicinus', 'g__Faecousia', 'g__Agathobaculum', 'g__Lawsonibacter', 'g__Intestinimonas', 'g__Pseudobutyricicoccus', 'g__Evtepia', 'g__Onthomonas', 'g___8', 'g__RUG13077', 'g__Avispirillum', 'g__SFLA01', 'g__WQUU01', 'g__UMGS1071', 'g__Clostridium_A', 'g__Acutalibacter', 'g__UBA1417', 'g__Anaeromassilibacillus', 'g__Hydrogeniiclostridium', 'g__Ruminococcus_E', 'g__UBA5905', 'g__Bittarella', 'g__Fimenecus', 'g__Faecalibacterium', 'g__Gemmiger_A_73129', 'g__Ruthenibacterium', 'g__Ruminiclostridium_E', 'g___9', 'g__CAG.177', 'g__CAG.217', 'g__Angelakisella', 'g__Massilioclostridium', 'g__Phocea', 'g__Anaerotruncus', 'g__Negativibacillus', 'g__UBA1394', 'g__Ruminococcus_C_58660', 'g__Ruminococcus_D', 'g___10', 'g___11', 'g__Anaerotignum_189125', 'g__CAG.274', 'g__Anaerobutyricum', 'g__Eubacterium_I', 'g__Roseburia', 'g__Agathobacter_164117', 'g__Butyribacter', 'g__RUG115', 'g__CAG.45', 'g__Eubacterium_J', 'g__Eubacterium_G', 'g__Howardella', 'g___1', 'g__Anaerostipes', 'g__Coprococcus_A_121497', 'g__CAG.127', 'g__Lachnospira', 'g__Eubacterium_F', 'g__Coprococcus_A_187866', 'g__Catenibacillus', 'g__Frisingicoccus', 'g__Merdisoma', 'g__Marvinbryantia', 'g__Blautia_A_141780', 'g__Blautia_A_141781', 'g__UMGS1375', 'g__Limivivens', 'g__UBA9414', 'g__Oliverpabstia', 'g__Mediterraneibacter_A_155507', 'g__COE1', 'g__Acetatifactor', 'g__CAG.95', 'g__Hungatella_A_128155', 'g__Hungatella_A_127239', 'g__Sellimonas', 'g__Eisenbergiella', 'g__UBA3402', 'g__Scatomonas', 'g__Clostridium_Q_134516', 'g__Faecalimonas', 'g__Ruminococcus_B', 'g__Clostridium_AP', 'g__CAG.317_146760', 'g__Bariatricus', 'g__Muricomes_149725', 'g__Lachnoclostridium_B', 'g__Schaedlerella', 'g__Mediterraneibacter_A_155590', 'g__Lactonifactor', 'g__Enterocloster', 'g__Ventrisoma', 'g__Clostridium_Q_135853', 'g__Clostridium_Q_135822', 'g__Porcincola', 'g__Copromonas', 'g__Ventrimonas', 'g__Dorea_A', 'g__Massilistercora', 'all_samples', 'bmi_prs']\n",
      "train longitudinal:  ['randomized_group', 'cohort_number', 'sex', 'race', 'age', 'Glucose', 'HDL_Total_Direct_lipid', 'HOMA_IR', 'Insulin_endo', 'LDL_Calculated', 'Triglyceride_lipid', 'outcome_BMI_fnl_train_long', 'proton', 'Diacetyl', 'Butyrate', 'Formate', 'acetone', 'X2.methylbutyrate', 'Valeric.Acid', 'Methane', 'X1.4.Dihydroxy.2.naphthoate', 'X2.Oxoglutarate', 'Pyruvate', 'D.lactate', 'L.lactate', 'laurate', 'Phenol', 'L.Carnitine', 'Isopropanol', 'p.Cresol', 'O2', 'X1.Propanol', 'butanol', 'Propanal', 'X4.hydroxyphenylacetate', 'X.S..propane.1.2.diol', 'Propane.1.3.diol', 'R_R__2_3_Butanediol', 'Oxaloacetate', 'sulfate', 'octadecenoate..n.C18.1.', 'o.Succinylbenzoate', 'Thymidine', 'Reduced.riboflavin', 'Riboflavin', 'X2.Hydroxyphenylacetate', 'Sulfite', 'thiosulfate.2..', 'X.3.4.dihydroxyphenyl.acetate', 'Diphosphate', 'trimethylamine', 'glycine.betaine', 'Choline', 'Trimethylamine.N.oxide', 'Isochorismate', 'Inosine', 'xanthosine', 'Hypoxanthine', 'Xanthine', 'uracil', 'Uridine', 'Methanethiol', 'keto.phenylpyruvate', 'D.Arabinose', 'D.Galactose', 'Nicotinate', 'chorismate', 'tetradecanoate..n.C14.0.', 'oxalate.2..', 'X.R..3.hydroxybutyrate', 'Hydrogen.peroxide', 'Hydrogen.sulfide', 'X4.hydroxybenzoate', 'Hexadecanoate..n.C16.0.', 'octadecanoate..n.C18.0.', 'D.Fructose', 'D.ribose', 'myo.inositol', 'D.Mannitol', 'Citrate', 'Menaquinone.8', 'Glycerol', 'D.Mannose', 'X2.Oxobutanoate', 'Fumarate', 'L.malate', 'X.R..Acetoin', 'formaldehyde', 'Ethanol', 'Acetoacetate', 'methanol', 'Acetaldehyde', 'X3.methyl.2.oxopentanoate', 'Isovalerate..3.Methylbutanoate', 'phenylacetate', 'Succinate', 'Isobutyrate..2.Methylpropanoate', 'Isocaproate', 'Water', 'Hydrogen', 'Propionate', 'Acetate', 'Carbon.dioxide', 'N10.formyl.tetrahydrofolate.biosynthesis', 'X4.hydroxyphenylacetate.degradation', 'aerobactin.biosynthesis', 'superpathway.of.chorismate.metabolism', 'homolactic.fermentation', 'glycolysis.III..from.glucose.', 'superpathway.of.arginine.and.polyamine.biosynthesis', 'arginine..ornithine.and.proline.interconversion', 'L.arginine.biosynthesis.I..via.L.ornithine.', 'L.arginine.biosynthesis.II..acetyl.cycle.', 'chorismate.biosynthesis.I', 'superpathway.of.L.aspartate.and.L.asparagine.biosynthesis', 'L.arginine.degradation.II..AST.pathway.', 'biotin.biosynthesis.I', 'superpathway.of.branched.amino.acid.biosynthesis', 'Calvin.Benson.Bassham.cycle', 'pyruvate.fermentation.to.butanoate', 'coenzyme.A.biosynthesis.I', 'adenosylcobalamin.salvage.from.cobinamide.I', 'reductive.acetyl.coenzyme.A.pathway', 'colanic.acid.building.blocks.biosynthesis', 'superpathway.of.aromatic.amino.acid.biosynthesis', 'L.lysine.biosynthesis.I', 'nitrate.reduction.I..denitrification.', 'superpathway.of.purine.nucleotides.de.novo.biosynthesis.II', 'dTDP.L.rhamnose.biosynthesis.I', 'enterobacterial.common.antigen.biosynthesis', 'enterobactin.biosynthesis', 'fatty.acid..beta..oxidation.I', 'fatty.acid.elongation....saturated', 'superpathway.of.fatty.acid.biosynthesis.initiation..E..coli.', 'mixed.acid.fermentation', 'superpathway.of.tetrahydrofolate.biosynthesis.and.salvage', 'superpathway.of.fucose.and.rhamnose.degradation', 'fucose.degradation', 'superpathway.of.hexuronide.and.hexuronate.degradation', 'D.galactarate.degradation.I', 'D.galacturonate.degradation.I', 'superpathway.of.N.acetylglucosamine..N.acetylmannosamine.and.N.acetylneuraminate.degradation', 'D.glucarate.degradation.I', 'superpathway.of.D.glucarate.and.D.galactarate.degradation', 'gluconeogenesis.I', 'glucose.and.glucose.1.phosphate.degradation', 'superpathway.of..beta..D.glucuronide.and.D.glucuronate.degradation', 'L.ornithine.biosynthesis', 'glycogen.degradation.I..bacterial.', 'glycogen.biosynthesis.I..from.ADP.D.Glucose.', 'superpathway.of.glycol.metabolism.and.degradation', 'glycolysis.I..from.glucose.6.phosphate.', 'superpathway.of.glycolysis.and.Entner.Doudoroff', 'superpathway.of.glycolysis..pyruvate.dehydrogenase..TCA..and.glyoxylate.bypass', 'glyoxylate.cycle', 'superpathway.of.glycerol.degradation.to.1.3.propanediol', 'heme.biosynthesis.I..aerobic.', 'heme.biosynthesis.II..anaerobic.', 'superpathway.of.hexitol.degradation..bacteria.', 'L.histidine.degradation.I', 'L.histidine.biosynthesis', 'L.methionine.biosynthesis.I', 'L.methionine.biosynthesis.III', 'L.isoleucine.biosynthesis.I..from.threonine.', 'superpathway.of..Kdo.2.lipid.A.biosynthesis', 'ketogluconate.metabolism', 'lactose.and.galactose.degradation.I', 'L.leucine.degradation.I', 'superpathway.of.lipopolysaccharide.biosynthesis', 'superpathway.of.S.adenosyl.L.methionine.biosynthesis', 'methanogenesis.from.acetate', 'methanogenesis.from.H2.and.CO2', 'superpathway.of.methylglyoxal.degradation', 'NAD.salvage.pathway.II', 'lipid.IVA.biosynthesis', 'methylerythritol.phosphate.pathway.I', 'pentose.phosphate.pathway..non.oxidative.branch.', 'O.antigen.building.blocks.biosynthesis..E..coli.', 'TCA.cycle.IV..2.oxoglutarate.decarboxylase.', 'pyruvate.fermentation.to.propanoate.I', 'heterolactic.fermentation', 'Bifidobacterium.shunt', 'superpathway.of..R.R..butanediol.biosynthesis', 'acetylene.degradation', 'L.glutamate.degradation.V..via.hydroxyglutarate.', 'L.lysine.fermentation.to.acetate.and.butanoate', 'purine.nucleobases.degradation.I..anaerobic.', 'octane.oxidation', 'reductive.TCA.cycle.I', 'coenzyme.B.biosynthesis', 'coenzyme.M.biosynthesis.I', 'X3.phenylpropanoate.degradation', 'glycolysis.V..Pyrococcus.', 'superpathway.of.L.lysine..L.threonine.and.L.methionine.biosynthesis.I', 'incomplete.reductive.TCA.cycle', 'superpathway.of.N.acetylneuraminate.degradation', 'hexitol.fermentation.to.lactate..formate..ethanol.and.acetate', 'myo.inositol.degradation.I', 'phosphopantothenate.biosynthesis.I', 'pantothenate.and.coenzyme.A.biosynthesis.I', 'pentose.phosphate.pathway', 'peptidoglycan.biosynthesis.I..meso.diaminopimelate.containing.', 'superpathway.of.phospholipid.biosynthesis.I..bacteria.', 'superpathway.of.polyamine.biosynthesis.II', 'superpathway.of.polyamine.biosynthesis.I', 'polyisoprenoid.biosynthesis..E..coli.', 'ppGpp.biosynthesis', 'superpathway.of.histidine..purine..and.pyrimidine.biosynthesis', 'CMP.3.deoxy.D.manno.octulosonate.biosynthesis.I', 'formaldehyde.assimilation.I..serine.pathway.', 'photorespiration', 'formaldehyde.assimilation.II..RuMP.Cycle.', 'L.lysine.biosynthesis.II', 'L.lysine.biosynthesis.III', 'superpathway.of.L.isoleucine.biosynthesis.I', 'aerobic.respiration.I..cytochrome.c.', 'creatinine.degradation.II', 'urea.cycle', 'biotin.biosynthesis.II', 'X4.aminobutanoate.degradation.V', 'L.histidine.degradation.II', 'L.lysine.biosynthesis.VI', 'pyruvate.fermentation.to.acetate.and.lactate.II', 'L.isoleucine.biosynthesis.II', 'L.isoleucine.biosynthesis.III', 'L.isoleucine.biosynthesis.IV', 'superpathway.of.geranylgeranyl.diphosphate.biosynthesis.II..via.MEP.', 'L.arginine.biosynthesis.III..via.N.acetyl.L.citrulline.', 'glutaryl.CoA.degradation', 'tetrapyrrole.biosynthesis.I..from.glutamate.', 'tetrapyrrole.biosynthesis.II..from.glycine.', 'factor.420.biosynthesis', 'peptidoglycan.biosynthesis.II..staphylococci.', 'superpathway.of.sulfur.oxidation..Acidianus.ambivalens.', 'superpathway.of.L.methionine.biosynthesis..by.sulfhydrylation.', 'superpathway.of.L.methionine.biosynthesis..transsulfuration.', 'sucrose.degradation.IV..sucrose.phosphorylase.', 'glycolysis.II..from.fructose.6.phosphate.', 'L.glutamate.and.L.glutamine.biosynthesis', 'adenosylcobalamin.biosynthesis.I..early.cobalt.insertion.', 'adenosylcobalamin.biosynthesis.from.cobyrinate.a.c.diamide.I', 'adenosine.nucleotides.degradation.IV', 'GDP.mannose.biosynthesis', 'CDP.diacylglycerol.biosynthesis.I', 'acetyl.CoA.fermentation.to.butanoate.II', 'succinate.fermentation.to.butanoate', 'UMP.biosynthesis', 'urate.biosynthesis.inosine.5..phosphate.degradation', 'allantoin.degradation.to.glyoxylate.III', 'ethylmalonyl.CoA.pathway', 'X2.methylcitrate.cycle.II', 'X1.4.dihydroxy.2.naphthoate.biosynthesis.I', 'superpathway.of.menaquinol.8.biosynthesis.I', 'superpathway.of.menaquinol.7.biosynthesis', 'superpathway.of.menaquinol.9.biosynthesis', 'superpathway.of.menaquinol.6.biosynthesis.I', 'ubiquinol.7.biosynthesis..prokaryotic.', 'ubiquinol.9.biosynthesis..prokaryotic.', 'ubiquinol.10.biosynthesis..prokaryotic.', 'superpathway.of.demethylmenaquinol.6.biosynthesis.I', 'superpathway.of.demethylmenaquinol.8.biosynthesis', 'superpathway.of.demethylmenaquinol.9.biosynthesis', 'superpathway.of.phylloquinol.biosynthesis', 'superpathway.of.menaquinol.10.biosynthesis', 'superpathway.of.menaquinol.11.biosynthesis', 'superpathway.of.menaquinol.12.biosynthesis', 'superpathway.of.menaquinol.13.biosynthesis', 'superpathway.of.geranylgeranyldiphosphate.biosynthesis.I..via.mevalonate.', 'TCA.cycle.VI..obligate.autotrophs.', 'superpathay.of.heme.biosynthesis.from.glutamate', 'superpathway.of.heme.biosynthesis.from.glycine', 'palmitate.biosynthesis.II..bacteria.and.plants.', 'cis.vaccenate.biosynthesis', 'stearate.biosynthesis.II..bacteria.and.plants.', 'superpathway.of.phenylethylamine.degradation', 'X5.aminoimidazole.ribonucleotide.biosynthesis.I', 'X5.aminoimidazole.ribonucleotide.biosynthesis.II', 'inosine.5..phosphate.biosynthesis.I', 'superpathway.of.guanosine.nucleotides.de.novo.biosynthesis.II', 'superpathway.of.adenosine.nucleotides.de.novo.biosynthesis.II', 'archaetidylserine.and.archaetidylethanolamine.biosynthesis', 'X6.hydroxymethyl.dihydropterin.diphosphate.biosynthesis.I', 'tetrahydromethanopterin.biosynthesis', 'S.adenosyl.L.methionine.cycle.I', 'chorismate.biosynthesis.from.3.dehydroquinate', 'chorismate.biosynthesis.II..archaea.', 'flavin.biosynthesis.II..archaea.', 'mevalonate.pathway.II..archaea.', 'sucrose.degradation.III..sucrose.invertase.', 'superpathway.of.menaquinol.8.biosynthesis.II', 'adenosylcobalamin.salvage.from.cobinamide.II', 'superpathway.of.5.aminoimidazole.ribonucleotide.biosynthesis', 'palmitoleate.biosynthesis.I..from..5Z..dodec.5.enoate.', 'galactose.degradation.I..Leloir.pathway.', 'CDP.archaeol.biosynthesis', 'archaetidylinositol.biosynthesis', 'purine.nucleotides.degradation.II..aerobic.', 'mono.trans..poly.cis.decaprenyl.phosphate.biosynthesis', 'peptidoglycan.biosynthesis.III..mycobacteria.', 'UDP.N.acetylmuramoyl.pentapeptide.biosynthesis.II..lysine.containing.', 'UDP.N.acetylmuramoyl.pentapeptide.biosynthesis.I..meso.diaminopimelate.containing.', 'superpathway.of.2.3.butanediol.biosynthesis', 'Kdo.transfer.to.lipid.IVA.III..Chlamydia.', 'peptidoglycan.biosynthesis.V...beta..lactam.resistance.', 'peptidoglycan.biosynthesis.IV..Enterococcus.faecium.', 'GDP.D.glycero..alpha..D.manno.heptose.biosynthesis', 'X4.deoxy.L.threo.hex.4.enopyranuronate.degradation', 'X8.amino.7.oxononanoate.biosynthesis.I', 'pyrimidine.deoxyribonucleotides.de.novo.biosynthesis.III', 'norspermidine.biosynthesis', 'chondroitin.sulfate.degradation.I..bacterial.', 'pyruvate.fermentation.to.acetone', 'superpathway.of.Clostridium.acetobutylicum.acidogenic.fermentation', 'guanosine.nucleotides.degradation.III', 'adenine.and.adenosine.salvage.III', 'superpathway.of.tetrahydrofolate.biosynthesis', 'superpathway.of.L.phenylalanine.biosynthesis', 'superpathway.of.L.tryptophan.biosynthesis', 'superpathway.of.L.tyrosine.biosynthesis', 'superpathway.of.sulfolactate.degradation', 'phosphopantothenate.biosynthesis.III', 'queuosine.biosynthesis', 'preQ0.biosynthesis', 'ubiquinol.8.biosynthesis..prokaryotic.', 'methylaspartate.cycle', 'starch.degradation.V', 'CMP.legionaminate.biosynthesis.I', 'isopropanol.biosynthesis', 'thiazole.biosynthesis.II..Bacillus.', 'thiazole.biosynthesis.I..E..coli.', 'superpathway.of.thiamin.diphosphate.biosynthesis.II', 'thiamin.salvage.II', 'superpathway.of.glucose.and.xylose.degradation', 'chitin.derivatives.degradation', 'TCA.cycle.V..2.oxoglutarate.ferredoxin.oxidoreductase.', 'glycerol.degradation.to.butanol', 'L.1.2.propanediol.degradation', 'UDP.2.3.diacetamido.2.3.dideoxy..alpha..D.mannuronate.biosynthesis', 'fatty.acid.salvage', 'pyruvate.fermentation.to.isobutanol..engineered.', 'pyrimidine.deoxyribonucleotides.de.novo.biosynthesis.I', 'pyrimidine.deoxyribonucleotides.de.novo.biosynthesis.II', 'superpathway.of.pyrimidine.ribonucleosides.salvage', 'pyrimidine.deoxyribonucleotide.phosphorylation', 'pyrimidine.deoxyribonucleotides.de.novo.biosynthesis.IV', 'pyrimidine.deoxyribonucleosides.salvage', 'superpathway.of.pyrimidine.deoxyribonucleoside.salvage', 'superpathway.of.pyrimidine.nucleobases.salvage', 'pyrimidine.deoxyribonucleotides.biosynthesis.from.CTP', 'superpathway.of.pyrimidine.deoxyribonucleotides.de.novo.biosynthesis', 'adenosine.ribonucleotides.de.novo.biosynthesis', 'adenosine.deoxyribonucleotides.de.novo.biosynthesis.II', 'guanosine.ribonucleotides.de.novo.biosynthesis', 'guanosine.deoxyribonucleotides.de.novo.biosynthesis.II', 'superpathway.of.guanosine.nucleotides.de.novo.biosynthesis.I', 'superpathway.of.adenosine.nucleotides.de.novo.biosynthesis.I', 'inosine.5..phosphate.biosynthesis.III', 'myo...chiro..and.scillo.inositol.degradation', 'D.fructuronate.degradation', 'TCA.cycle.VII..acetate.producers.', 'X7..3.amino.3.carboxypropyl..wyosine.biosynthesis', 'dTDP.N.acetylthomosamine.biosynthesis', 'superpathway.of.GDP.mannose.derived.O.antigen.building.blocks.biosynthesis', 'superpathway.of.UDP.glucose.derived.O.antigen.building.blocks.biosynthesis', 'superpathway.of.UDP.N.acetylglucosamine.derived.O.antigen.building.blocks.biosynthesis', 'X1.4.dihydroxy.6.naphthoate.biosynthesis.II', 'X1.4.dihydroxy.6.naphthoate.biosynthesis.I', 'cob.II.yrinate.a.c.diamide.biosynthesis.I..early.cobalt.insertion.', 'isoprene.biosynthesis.II..engineered.', 'taxadiene.biosynthesis..engineered.', 'L.arginine.biosynthesis.IV..archaebacteria.', 'aromatic.biogenic.amine.degradation..bacteria.', 'sulfoglycolysis', 'mannan.degradation', 'X6.hydroxymethyl.dihydropterin.diphosphate.biosynthesis.III..Chlamydia.', 'methylerythritol.phosphate.pathway.II', 'gondoate.biosynthesis..anaerobic.', 'oleate.biosynthesis.IV..anaerobic.', 'superpathway.of.purine.nucleotides.de.novo.biosynthesis.I', 'mevalonate.pathway.I', 'superpathway.of.L.alanine.biosynthesis', 'ADP.L.glycero..beta..D.manno.heptose.biosynthesis', 'anhydromuropeptides.recycling', 'purine.ribonucleosides.degradation', 'superpathway.of.purine.deoxyribonucleosides.degradation', 'superpathway.of.pyrimidine.deoxyribonucleosides.degradation', 'CDP.diacylglycerol.biosynthesis.II', 'polymyxin.resistance', 'superpathway.of.heme.biosynthesis.from.uroporphyrinogen.III', 'tRNA.processing', 'methylphosphonate.degradation.I', 'peptidoglycan.maturation..meso.diaminopimelate.containing.', 'superpathway.of.pyrimidine.ribonucleotides.de.novo.biosynthesis', 'superpathway.of.pyrimidine.deoxyribonucleotides.de.novo.biosynthesis..E..coli.', 'phenylacetate.degradation.I..aerobic.', 'allantoin.degradation.IV..anaerobic.', 'X2.methylcitrate.cycle.I', 'aspartate.superpathway', 'superpathway.of.pyridoxal.5..phosphate.biosynthesis.and.salvage', 'X.5Z..dodec.5.enoate.biosynthesis', 'mycothiol.biosynthesis', 'nitrate.reduction.VI..assimilatory.', 'phosphatidylglycerol.biosynthesis.I..plastidic.', 'phosphatidylglycerol.biosynthesis.II..non.plastidic.', 'mycolate.biosynthesis', 'NAD.salvage.pathway.I', 'NAD.biosynthesis.I..from.aspartate.', 'pyridoxal.5..phosphate.biosynthesis.I', 'TCA.cycle.VIII..helicobacter.', 'L.rhamnose.degradation.I', 'flavin.biosynthesis.I..bacteria.and.plants.', 'formaldehyde.oxidation.I', 'adenosine.nucleotides.degradation.II', 'superpathway.of.L.serine.and.glycine.biosynthesis.I', 'sulfate.reduction.I..assimilatory.', 'superpathway.of.sulfate.assimilation.and.cysteine.biosynthesis', 'TCA.cycle.I..prokaryotic.', 'superpathway.of.glyoxylate.bypass.and.TCA', 'teichoic.acid..poly.glycerol..biosynthesis', 'superpathway.of.thiamin.diphosphate.biosynthesis.I', 'superpathway.of.L.threonine.metabolism', 'superpathway.of.L.threonine.biosynthesis', 'tRNA.charging', 'L.tryptophan.biosynthesis', 'L.tyrosine.degradation.I', 'superpathway.of.ubiquinol.8.biosynthesis..prokaryotic.', 'UDP.N.acetyl.D.glucosamine.biosynthesis.I', 'L.valine.degradation.I', 'L.valine.biosynthesis', 'g__Parabacteroides_B_862066', 'g__Coprenecus', 'g__Butyricimonas', 'g__Odoribacter_865974', 'g__Alistipes_A_871404', 'g__Paramuribaculum', 'g__Alistipes_A_871400', 'g__Barnesiella', 'g__Coprobacter', 'g__Phocaeicola_A_858004', 'g__Bacteroides_H', 'g__Prevotella', 'g__Paraprevotella', 'g__Methanobrevibacter_A', 'g__DTU012', 'g__Escherichia_710834', 'g__Parasutterella', 'g__Sutterella', 'g__Haemophilus_D_735815', 'g__Enterobacter_B_713587', 'g__Akkermansia', 'g__Eubacterium_O_258270', 'g__Anaerofustis', 'g__Peptococcus', 'g__QAMH01', 'g__Senegalimassilia', 'g__Adlercreutzia_404257', 'g__Slackia_A', 'g__Eggerthella', 'g__CAG.1427', 'g__Gordonibacter', 'g__Collinsella', 'g__Holdemania', 'g__Longibaculum', 'g__Catenibacterium', 'g__Erysipelatoclostridium', 'g__Faecalibacillus', 'g___2', 'g__Holdemanella', 'g__Merdibacter', 'g__Clostridium_AQ', 'g__Amedibacillus', 'g__Longicatena', 'g__Dielma', 'g__Pauljensenia', 'g__Bifidobacterium_388775', 'g__Acidaminococcus', 'g__Phascolarctobacterium_A', 'g__Veillonella_A', 'g__Dialister', 'g__Streptococcus', 'g__Lactococcus_A_346120', 'g__Lacticaseibacillus', 'g__Turicibacter', 'g__Gemella', 'g__Limiplasma', 'g__SFMI01', 'g___3', 'g__Onthenecus', 'g__Copromorpha', 'g__BX12', 'g___4', 'g__Romboutsia_B', 'g__CCUG.7971', 'g__Intestinibacter', 'g__Terrisporobacter', 'g___5', 'g__PeH17', 'g__Clostridium_T', 'g__CAG.269', 'g___6', 'g__CAG.273', 'g__Merdicola', 'g__CAG.41', 'g__Monoglobus', 'g__ER4', 'g___7', 'g__Dysosmobacter', 'g__Vescimonas', 'g__CAG.83', 'g__Limivicinus', 'g__Faecousia', 'g__Agathobaculum', 'g__Lawsonibacter', 'g__Intestinimonas', 'g__Pseudobutyricicoccus', 'g__Evtepia', 'g__Onthomonas', 'g___8', 'g__RUG13077', 'g__Avispirillum', 'g__SFLA01', 'g__WQUU01', 'g__UMGS1071', 'g__Clostridium_A', 'g__Acutalibacter', 'g__UBA1417', 'g__Anaeromassilibacillus', 'g__Hydrogeniiclostridium', 'g__Ruminococcus_E', 'g__UBA5905', 'g__Bittarella', 'g__Fimenecus', 'g__Faecalibacterium', 'g__Gemmiger_A_73129', 'g__Ruthenibacterium', 'g__Ruminiclostridium_E', 'g___9', 'g__CAG.177', 'g__CAG.217', 'g__Angelakisella', 'g__Massilioclostridium', 'g__Phocea', 'g__Anaerotruncus', 'g__Negativibacillus', 'g__UBA1394', 'g__Ruminococcus_C_58660', 'g__Ruminococcus_D', 'g___10', 'g___11', 'g__Anaerotignum_189125', 'g__CAG.274', 'g__Anaerobutyricum', 'g__Eubacterium_I', 'g__Roseburia', 'g__Agathobacter_164117', 'g__Butyribacter', 'g__RUG115', 'g__CAG.45', 'g__Eubacterium_J', 'g__Eubacterium_G', 'g__Howardella', 'g___1', 'g__Anaerostipes', 'g__Coprococcus_A_121497', 'g__CAG.127', 'g__Lachnospira', 'g__Eubacterium_F', 'g__Coprococcus_A_187866', 'g__Catenibacillus', 'g__Frisingicoccus', 'g__Merdisoma', 'g__Marvinbryantia', 'g__Blautia_A_141780', 'g__Blautia_A_141781', 'g__UMGS1375', 'g__Limivivens', 'g__UBA9414', 'g__Oliverpabstia', 'g__Mediterraneibacter_A_155507', 'g__COE1', 'g__Acetatifactor', 'g__CAG.95', 'g__Hungatella_A_128155', 'g__Hungatella_A_127239', 'g__Sellimonas', 'g__Eisenbergiella', 'g__UBA3402', 'g__Scatomonas', 'g__Clostridium_Q_134516', 'g__Faecalimonas', 'g__Ruminococcus_B', 'g__Clostridium_AP', 'g__CAG.317_146760', 'g__Bariatricus', 'g__Muricomes_149725', 'g__Lachnoclostridium_B', 'g__Schaedlerella', 'g__Mediterraneibacter_A_155590', 'g__Lactonifactor', 'g__Enterocloster', 'g__Ventrisoma', 'g__Clostridium_Q_135853', 'g__Clostridium_Q_135822', 'g__Porcincola', 'g__Copromonas', 'g__Ventrimonas', 'g__Dorea_A', 'g__Massilistercora', 'all_samples', 'bmi_prs']\n"
     ]
    }
   ],
   "source": [
    "# Drop some columns \n",
    "train_set = train_all.drop(['Unnamed: 0_y','Unnamed: 0_x', 'Unnamed: 0_train_long', 'Unnamed: 0_merged_data',\n",
    "                    'sample_id','subject_id', 'all_samples_x', 'all_samples_y', 'record_id','SampleID',\n",
    "                    'time_x', 'time_y', 'x_t', 't', 'time', 'outcome_BMI_fnl_x', 'outcome_BMI_fnl_y', \n",
    "                    'outcome_BMI_fnl_merged_data', 'old_or_new', 'predicted_BL_BMI', \n",
    "                    'differences_BL_BMI', 'diff_BMI_quartile', 'diff_BMI_std', 'methyl_bmi_rs', 'methyl_bmi_rs_standardized'], \n",
    "                    axis=1)\n",
    "\n",
    "test_set = test_all.drop(['Unnamed: 0_y','Unnamed: 0_x', 'Unnamed: 0_test_long', 'Unnamed: 0_merged_data',\n",
    "                    'sample_id','subject_id', 'all_samples_x', 'all_samples_y', 'record_id', 'SampleID',\n",
    "                    'time_x', 'time_y', 'x_t', 't', 'time', 'outcome_BMI_fnl_x', 'outcome_BMI_fnl_y', \n",
    "                    'outcome_BMI_fnl_merged_data', 'old_or_new', 'predicted_BL_BMI', \n",
    "                    'differences_BL_BMI', 'diff_BMI_quartile', 'diff_BMI_std', 'methyl_bmi_rs', 'methyl_bmi_rs_standardized'], \n",
    "                    axis=1)\n",
    "print(\"test long shape = \", test_set.shape)\n",
    "print(\"train long shape = \", train_set.shape)\n",
    "print(\"test longitudinal: \", list(test_set.columns))\n",
    "print(\"train longitudinal: \", list(train_set.columns))"
   ]
  },
  {
   "cell_type": "code",
   "execution_count": 4,
   "metadata": {},
   "outputs": [
    {
     "name": "stdout",
     "output_type": "stream",
     "text": [
      "Column number for 'proton':  12\n",
      "Column number for 'Carbon.dioxide':  102\n"
     ]
    }
   ],
   "source": [
    "# Find the column numbers for \"proton\" and \"Carbon.dioxide\" in train_set\n",
    "proton_column = train_set.columns.get_loc(\"proton\")\n",
    "carbon_dioxide_column = train_set.columns.get_loc(\"Carbon.dioxide\")\n",
    "print(\"Column number for 'proton': \", proton_column)\n",
    "print(\"Column number for 'Carbon.dioxide': \", carbon_dioxide_column)\n"
   ]
  },
  {
   "cell_type": "code",
   "execution_count": 5,
   "metadata": {},
   "outputs": [],
   "source": [
    "# Columns to KEEP for only meta \n",
    "meta_keep = ['all_samples','outcome_BMI_fnl_train_long', 'randomized_group', 'cohort_number', 'sex', 'race', 'age', 'Glucose', 'HDL_Total_Direct_lipid', 'HOMA_IR', 'Insulin_endo', 'LDL_Calculated', 'Triglyceride_lipid']\n",
    "# Columns to KEEP for only meta + GRS\n",
    "meta_grs = ['all_samples','outcome_BMI_fnl_train_long', 'randomized_group', 'cohort_number', 'sex', 'race', 'age', 'Glucose', 'HDL_Total_Direct_lipid', 'HOMA_IR', 'Insulin_endo', 'LDL_Calculated', 'Triglyceride_lipid', 'bmi_prs']\n",
    "# Columns to KEEP for only meta + GRS + taxa\n",
    "meta_grs_taxa = meta_grs + [col for col in train_set.columns if col.startswith(\"g__\")]\n",
    "# Columns to KEEP for only meta + GRS + taxa + pathway/functional \n",
    "meta_grs_taxa_functional = meta_grs_taxa + [col for col in train_set.columns if col not in train_set.columns[proton_column:carbon_dioxide_column+1]]\n",
    "# Columns to DROP for only GRS + taxa + pathway/functional + micom (no meta)\n",
    "all_but_meta = ['randomized_group', 'cohort_number', 'sex', 'race', 'age', 'Glucose', 'HDL_Total_Direct_lipid', 'HOMA_IR', 'Insulin_endo', 'LDL_Calculated', 'Triglyceride_lipid']"
   ]
  },
  {
   "cell_type": "markdown",
   "metadata": {},
   "source": [
    "1.1 Merf for just meta longitudinal"
   ]
  },
  {
   "cell_type": "code",
   "execution_count": 6,
   "metadata": {},
   "outputs": [
    {
     "name": "stdout",
     "output_type": "stream",
     "text": [
      "test longitudinal:  ['subject_id', 'randomized_group', 'sex', 'race', 'age', 'time', 'Glucose', 'HDL_Total_Direct_lipid', 'HOMA_IR', 'Insulin_endo', 'LDL_Calculated', 'Triglyceride_lipid', 'outcome_BMI_fnl', 'x_t']\n",
      "train longitudinal:  ['subject_id', 'randomized_group', 'sex', 'race', 'age', 'time', 'Glucose', 'HDL_Total_Direct_lipid', 'HOMA_IR', 'Insulin_endo', 'LDL_Calculated', 'Triglyceride_lipid', 'outcome_BMI_fnl', 'x_t']\n",
      "test shape =  (67, 14)\n",
      "train shape =  (275, 14)\n",
      "---------- Select predictors for training set ----------\n",
      "---------- Select predictors for test set ----------\n",
      "---------- Run MERF models ----------\n",
      "First 5 columns for the lowest mean_mse_score:\n",
      "n_estimators          5.0\n",
      "max_depth            50.0\n",
      "min_samples_split     2.0\n",
      "max_iter             20.0\n",
      "n_splits             10.0\n",
      "Name: 155, dtype: float64\n",
      "First 5 columns for the lowest mean_prev_score:\n",
      "n_estimators         100.0\n",
      "max_depth            100.0\n",
      "min_samples_split      2.0\n",
      "max_iter              10.0\n",
      "n_splits               5.0\n",
      "Name: 271, dtype: float64\n",
      "First 5 columns for the lowest mean_ptev_score:\n",
      "n_estimators           1.0\n",
      "max_depth            100.0\n",
      "min_samples_split      2.0\n",
      "max_iter               2.0\n",
      "n_splits              10.0\n",
      "Name: 74, dtype: float64\n",
      "\n",
      "First 5 columns for the highest oob_score:\n",
      "n_estimators         300.0\n",
      "max_depth              NaN\n",
      "min_samples_split      5.0\n",
      "max_iter              20.0\n",
      "n_splits               3.0\n",
      "Name: 309, dtype: float64\n",
      "---------- RUN MERF RAW WITH TUNING PARAMETERS 🌱 ----------\n"
     ]
    },
    {
     "ename": "InvalidParameterError",
     "evalue": "The 'min_samples_split' parameter of RandomForestRegressor must be an int in the range [2, inf) or a float in the range (0.0, 1.0]. Got 2.0 instead.",
     "output_type": "error",
     "traceback": [
      "\u001b[0;31m---------------------------------------------------------------------------\u001b[0m",
      "\u001b[0;31mInvalidParameterError\u001b[0m                     Traceback (most recent call last)",
      "Cell \u001b[0;32mIn[6], line 30\u001b[0m\n\u001b[1;32m     27\u001b[0m Z_new \u001b[38;5;241m=\u001b[39m np\u001b[38;5;241m.\u001b[39mones((\u001b[38;5;28mlen\u001b[39m(X_new), \u001b[38;5;241m1\u001b[39m))\n\u001b[1;32m     29\u001b[0m \u001b[38;5;28mprint\u001b[39m(\u001b[38;5;124m\"\u001b[39m\u001b[38;5;124m---------- Run MERF models ----------\u001b[39m\u001b[38;5;124m\"\u001b[39m)\n\u001b[0;32m---> 30\u001b[0m \u001b[43mrun_merf_analysis\u001b[49m\u001b[43m(\u001b[49m\u001b[43mX\u001b[49m\u001b[43m,\u001b[49m\u001b[43m \u001b[49m\u001b[43mY\u001b[49m\u001b[43m,\u001b[49m\u001b[43m \u001b[49m\u001b[43mZ\u001b[49m\u001b[43m,\u001b[49m\u001b[43m \u001b[49m\u001b[43mclusters_train\u001b[49m\u001b[43m,\u001b[49m\u001b[43m \u001b[49m\n\u001b[1;32m     31\u001b[0m \u001b[43m                  \u001b[49m\u001b[43mX_new\u001b[49m\u001b[43m,\u001b[49m\u001b[43m \u001b[49m\u001b[43mY_new\u001b[49m\u001b[43m,\u001b[49m\u001b[43m \u001b[49m\u001b[43mZ_new\u001b[49m\u001b[43m,\u001b[49m\u001b[43m \u001b[49m\u001b[43mclusters_new\u001b[49m\u001b[43m,\u001b[49m\u001b[43m \u001b[49m\n\u001b[1;32m     32\u001b[0m \u001b[43m                  \u001b[49m\u001b[43mmeta_df\u001b[49m\u001b[43m,\u001b[49m\n\u001b[1;32m     33\u001b[0m \u001b[43m                  \u001b[49m\u001b[43moutput_dir\u001b[49m\u001b[43m,\u001b[49m\u001b[43m \u001b[49m\u001b[43mr2_out\u001b[49m\u001b[43m,\u001b[49m\u001b[43m \u001b[49m\u001b[43mfeature_imp_out\u001b[49m\u001b[43m)\u001b[49m\n",
      "File \u001b[0;32m~/projects/research/Stanislawski/comps/mutli-omic-predictions/play_scripts/2.models/merf_python/em_utils.py:545\u001b[0m, in \u001b[0;36mrun_merf_analysis\u001b[0;34m(X, Y, Z, clusters_train, X_new, Y_new, Z_new, clusters_new, df, output_dir, r2_out, feature_imp_out)\u001b[0m\n\u001b[1;32m    535\u001b[0m oob_merf \u001b[38;5;241m=\u001b[39m MERF(fixed_effects_model\u001b[38;5;241m=\u001b[39mRandomForestRegressor(\n\u001b[1;32m    536\u001b[0m     n_estimators\u001b[38;5;241m=\u001b[39mhighest_oob_param_grid[\u001b[38;5;124m'\u001b[39m\u001b[38;5;124mn_estimators\u001b[39m\u001b[38;5;124m'\u001b[39m][\u001b[38;5;241m0\u001b[39m],\n\u001b[1;32m    537\u001b[0m     max_depth\u001b[38;5;241m=\u001b[39mhighest_oob_param_grid[\u001b[38;5;124m'\u001b[39m\u001b[38;5;124mmax_depth\u001b[39m\u001b[38;5;124m'\u001b[39m][\u001b[38;5;241m0\u001b[39m],\n\u001b[0;32m   (...)\u001b[0m\n\u001b[1;32m    541\u001b[0m     gll_early_stop_threshold\u001b[38;5;241m=\u001b[39m\u001b[38;5;28;01mNone\u001b[39;00m,\n\u001b[1;32m    542\u001b[0m     max_iterations\u001b[38;5;241m=\u001b[39mhighest_oob_param_grid[\u001b[38;5;124m'\u001b[39m\u001b[38;5;124mmax_iter\u001b[39m\u001b[38;5;124m'\u001b[39m][\u001b[38;5;241m0\u001b[39m])\n\u001b[1;32m    544\u001b[0m \u001b[38;5;28mprint\u001b[39m(\u001b[38;5;124m\"\u001b[39m\u001b[38;5;124m---------- RUN MERF RAW WITH TUNING PARAMETERS 🌱 ----------\u001b[39m\u001b[38;5;124m\"\u001b[39m)\n\u001b[0;32m--> 545\u001b[0m mrf_mse \u001b[38;5;241m=\u001b[39m \u001b[43mmse_merf\u001b[49m\u001b[38;5;241;43m.\u001b[39;49m\u001b[43mfit\u001b[49m\u001b[43m(\u001b[49m\u001b[43mX\u001b[49m\u001b[38;5;241;43m.\u001b[39;49m\u001b[43mselect_dtypes\u001b[49m\u001b[43m(\u001b[49m\u001b[43minclude\u001b[49m\u001b[38;5;241;43m=\u001b[39;49m\u001b[43m[\u001b[49m\u001b[43mnp\u001b[49m\u001b[38;5;241;43m.\u001b[39;49m\u001b[43mnumber\u001b[49m\u001b[43m]\u001b[49m\u001b[43m)\u001b[49m\u001b[43m,\u001b[49m\u001b[43m \u001b[49m\u001b[43mZ\u001b[49m\u001b[43m,\u001b[49m\u001b[43m \u001b[49m\u001b[43mpd\u001b[49m\u001b[38;5;241;43m.\u001b[39;49m\u001b[43mSeries\u001b[49m\u001b[43m(\u001b[49m\u001b[43mclusters_train\u001b[49m\u001b[43m)\u001b[49m\u001b[43m,\u001b[49m\u001b[43m \u001b[49m\u001b[43mY\u001b[49m\u001b[43m)\u001b[49m\n\u001b[1;32m    546\u001b[0m mrf_prev \u001b[38;5;241m=\u001b[39m prev_merf\u001b[38;5;241m.\u001b[39mfit(X\u001b[38;5;241m.\u001b[39mselect_dtypes(include\u001b[38;5;241m=\u001b[39m[np\u001b[38;5;241m.\u001b[39mnumber]), Z, pd\u001b[38;5;241m.\u001b[39mSeries(clusters_train), Y)\n\u001b[1;32m    547\u001b[0m mrf_ptev \u001b[38;5;241m=\u001b[39m ptev_merf\u001b[38;5;241m.\u001b[39mfit(X\u001b[38;5;241m.\u001b[39mselect_dtypes(include\u001b[38;5;241m=\u001b[39m[np\u001b[38;5;241m.\u001b[39mnumber]), Z, pd\u001b[38;5;241m.\u001b[39mSeries(clusters_train), Y)\n",
      "File \u001b[0;32m~/projects/research/Stanislawski/comps/mutli-omic-predictions/play_scripts/2.models/merf_python/researchVenv/lib/python3.13/site-packages/merf/merf.py:219\u001b[0m, in \u001b[0;36mMERF.fit\u001b[0;34m(self, X, Z, clusters, y, X_val, Z_val, clusters_val, y_val)\u001b[0m\n\u001b[1;32m    216\u001b[0m \u001b[38;5;28;01massert\u001b[39;00m \u001b[38;5;28mlen\u001b[39m(y_star\u001b[38;5;241m.\u001b[39mshape) \u001b[38;5;241m==\u001b[39m \u001b[38;5;241m1\u001b[39m\n\u001b[1;32m    218\u001b[0m \u001b[38;5;66;03m# Do the fixed effects regression with all the fixed effects features\u001b[39;00m\n\u001b[0;32m--> 219\u001b[0m \u001b[38;5;28;43mself\u001b[39;49m\u001b[38;5;241;43m.\u001b[39;49m\u001b[43mfe_model\u001b[49m\u001b[38;5;241;43m.\u001b[39;49m\u001b[43mfit\u001b[49m\u001b[43m(\u001b[49m\u001b[43mX\u001b[49m\u001b[43m,\u001b[49m\u001b[43m \u001b[49m\u001b[43my_star\u001b[49m\u001b[43m)\u001b[49m\n\u001b[1;32m    220\u001b[0m f_hat \u001b[38;5;241m=\u001b[39m \u001b[38;5;28mself\u001b[39m\u001b[38;5;241m.\u001b[39mfe_model\u001b[38;5;241m.\u001b[39mpredict(X)\n\u001b[1;32m    222\u001b[0m \u001b[38;5;66;03m# ~~~~~~~~~~~~~~~~~~~~~~~~~~~~~~ M-step ~~~~~~~~~~~~~~~~~~~~~~~~~~~~~~\u001b[39;00m\n",
      "File \u001b[0;32m~/projects/research/Stanislawski/comps/mutli-omic-predictions/play_scripts/2.models/merf_python/researchVenv/lib/python3.13/site-packages/sklearn/base.py:1466\u001b[0m, in \u001b[0;36m_fit_context.<locals>.decorator.<locals>.wrapper\u001b[0;34m(estimator, *args, **kwargs)\u001b[0m\n\u001b[1;32m   1461\u001b[0m partial_fit_and_fitted \u001b[38;5;241m=\u001b[39m (\n\u001b[1;32m   1462\u001b[0m     fit_method\u001b[38;5;241m.\u001b[39m\u001b[38;5;18m__name__\u001b[39m \u001b[38;5;241m==\u001b[39m \u001b[38;5;124m\"\u001b[39m\u001b[38;5;124mpartial_fit\u001b[39m\u001b[38;5;124m\"\u001b[39m \u001b[38;5;129;01mand\u001b[39;00m _is_fitted(estimator)\n\u001b[1;32m   1463\u001b[0m )\n\u001b[1;32m   1465\u001b[0m \u001b[38;5;28;01mif\u001b[39;00m \u001b[38;5;129;01mnot\u001b[39;00m global_skip_validation \u001b[38;5;129;01mand\u001b[39;00m \u001b[38;5;129;01mnot\u001b[39;00m partial_fit_and_fitted:\n\u001b[0;32m-> 1466\u001b[0m     \u001b[43mestimator\u001b[49m\u001b[38;5;241;43m.\u001b[39;49m\u001b[43m_validate_params\u001b[49m\u001b[43m(\u001b[49m\u001b[43m)\u001b[49m\n\u001b[1;32m   1468\u001b[0m \u001b[38;5;28;01mwith\u001b[39;00m config_context(\n\u001b[1;32m   1469\u001b[0m     skip_parameter_validation\u001b[38;5;241m=\u001b[39m(\n\u001b[1;32m   1470\u001b[0m         prefer_skip_nested_validation \u001b[38;5;129;01mor\u001b[39;00m global_skip_validation\n\u001b[1;32m   1471\u001b[0m     )\n\u001b[1;32m   1472\u001b[0m ):\n\u001b[1;32m   1473\u001b[0m     \u001b[38;5;28;01mreturn\u001b[39;00m fit_method(estimator, \u001b[38;5;241m*\u001b[39margs, \u001b[38;5;241m*\u001b[39m\u001b[38;5;241m*\u001b[39mkwargs)\n",
      "File \u001b[0;32m~/projects/research/Stanislawski/comps/mutli-omic-predictions/play_scripts/2.models/merf_python/researchVenv/lib/python3.13/site-packages/sklearn/base.py:666\u001b[0m, in \u001b[0;36mBaseEstimator._validate_params\u001b[0;34m(self)\u001b[0m\n\u001b[1;32m    658\u001b[0m \u001b[38;5;28;01mdef\u001b[39;00m \u001b[38;5;21m_validate_params\u001b[39m(\u001b[38;5;28mself\u001b[39m):\n\u001b[1;32m    659\u001b[0m \u001b[38;5;250m    \u001b[39m\u001b[38;5;124;03m\"\"\"Validate types and values of constructor parameters\u001b[39;00m\n\u001b[1;32m    660\u001b[0m \n\u001b[1;32m    661\u001b[0m \u001b[38;5;124;03m    The expected type and values must be defined in the `_parameter_constraints`\u001b[39;00m\n\u001b[0;32m   (...)\u001b[0m\n\u001b[1;32m    664\u001b[0m \u001b[38;5;124;03m    accepted constraints.\u001b[39;00m\n\u001b[1;32m    665\u001b[0m \u001b[38;5;124;03m    \"\"\"\u001b[39;00m\n\u001b[0;32m--> 666\u001b[0m     \u001b[43mvalidate_parameter_constraints\u001b[49m\u001b[43m(\u001b[49m\n\u001b[1;32m    667\u001b[0m \u001b[43m        \u001b[49m\u001b[38;5;28;43mself\u001b[39;49m\u001b[38;5;241;43m.\u001b[39;49m\u001b[43m_parameter_constraints\u001b[49m\u001b[43m,\u001b[49m\n\u001b[1;32m    668\u001b[0m \u001b[43m        \u001b[49m\u001b[38;5;28;43mself\u001b[39;49m\u001b[38;5;241;43m.\u001b[39;49m\u001b[43mget_params\u001b[49m\u001b[43m(\u001b[49m\u001b[43mdeep\u001b[49m\u001b[38;5;241;43m=\u001b[39;49m\u001b[38;5;28;43;01mFalse\u001b[39;49;00m\u001b[43m)\u001b[49m\u001b[43m,\u001b[49m\n\u001b[1;32m    669\u001b[0m \u001b[43m        \u001b[49m\u001b[43mcaller_name\u001b[49m\u001b[38;5;241;43m=\u001b[39;49m\u001b[38;5;28;43mself\u001b[39;49m\u001b[38;5;241;43m.\u001b[39;49m\u001b[38;5;18;43m__class__\u001b[39;49m\u001b[38;5;241;43m.\u001b[39;49m\u001b[38;5;18;43m__name__\u001b[39;49m\u001b[43m,\u001b[49m\n\u001b[1;32m    670\u001b[0m \u001b[43m    \u001b[49m\u001b[43m)\u001b[49m\n",
      "File \u001b[0;32m~/projects/research/Stanislawski/comps/mutli-omic-predictions/play_scripts/2.models/merf_python/researchVenv/lib/python3.13/site-packages/sklearn/utils/_param_validation.py:95\u001b[0m, in \u001b[0;36mvalidate_parameter_constraints\u001b[0;34m(parameter_constraints, params, caller_name)\u001b[0m\n\u001b[1;32m     89\u001b[0m \u001b[38;5;28;01melse\u001b[39;00m:\n\u001b[1;32m     90\u001b[0m     constraints_str \u001b[38;5;241m=\u001b[39m (\n\u001b[1;32m     91\u001b[0m         \u001b[38;5;124mf\u001b[39m\u001b[38;5;124m\"\u001b[39m\u001b[38;5;132;01m{\u001b[39;00m\u001b[38;5;124m'\u001b[39m\u001b[38;5;124m, \u001b[39m\u001b[38;5;124m'\u001b[39m\u001b[38;5;241m.\u001b[39mjoin([\u001b[38;5;28mstr\u001b[39m(c)\u001b[38;5;250m \u001b[39m\u001b[38;5;28;01mfor\u001b[39;00m\u001b[38;5;250m \u001b[39mc\u001b[38;5;250m \u001b[39m\u001b[38;5;129;01min\u001b[39;00m\u001b[38;5;250m \u001b[39mconstraints[:\u001b[38;5;241m-\u001b[39m\u001b[38;5;241m1\u001b[39m]])\u001b[38;5;132;01m}\u001b[39;00m\u001b[38;5;124m or\u001b[39m\u001b[38;5;124m\"\u001b[39m\n\u001b[1;32m     92\u001b[0m         \u001b[38;5;124mf\u001b[39m\u001b[38;5;124m\"\u001b[39m\u001b[38;5;124m \u001b[39m\u001b[38;5;132;01m{\u001b[39;00mconstraints[\u001b[38;5;241m-\u001b[39m\u001b[38;5;241m1\u001b[39m]\u001b[38;5;132;01m}\u001b[39;00m\u001b[38;5;124m\"\u001b[39m\n\u001b[1;32m     93\u001b[0m     )\n\u001b[0;32m---> 95\u001b[0m \u001b[38;5;28;01mraise\u001b[39;00m InvalidParameterError(\n\u001b[1;32m     96\u001b[0m     \u001b[38;5;124mf\u001b[39m\u001b[38;5;124m\"\u001b[39m\u001b[38;5;124mThe \u001b[39m\u001b[38;5;132;01m{\u001b[39;00mparam_name\u001b[38;5;132;01m!r}\u001b[39;00m\u001b[38;5;124m parameter of \u001b[39m\u001b[38;5;132;01m{\u001b[39;00mcaller_name\u001b[38;5;132;01m}\u001b[39;00m\u001b[38;5;124m must be\u001b[39m\u001b[38;5;124m\"\u001b[39m\n\u001b[1;32m     97\u001b[0m     \u001b[38;5;124mf\u001b[39m\u001b[38;5;124m\"\u001b[39m\u001b[38;5;124m \u001b[39m\u001b[38;5;132;01m{\u001b[39;00mconstraints_str\u001b[38;5;132;01m}\u001b[39;00m\u001b[38;5;124m. Got \u001b[39m\u001b[38;5;132;01m{\u001b[39;00mparam_val\u001b[38;5;132;01m!r}\u001b[39;00m\u001b[38;5;124m instead.\u001b[39m\u001b[38;5;124m\"\u001b[39m\n\u001b[1;32m     98\u001b[0m )\n",
      "\u001b[0;31mInvalidParameterError\u001b[0m: The 'min_samples_split' parameter of RandomForestRegressor must be an int in the range [2, inf) or a float in the range (0.0, 1.0]. Got 2.0 instead."
     ]
    }
   ],
   "source": [
    "train = pd.read_csv(os.path.join(clin_dir, 'raw__train_clinical.csv'))  \n",
    "test = pd.read_csv(os.path.join(clin_dir, 'raw_test_clinical.csv'))\n",
    "print(\"test longitudinal: \", list(test.columns))\n",
    "print(\"train longitudinal: \", list(train.columns))\n",
    "\n",
    "output_dir = \"/Users/emily/projects/research/Stanislawski/comps/mutli-omic-predictions/play_scripts/2.models/merf_python/merf_plots/long_combined\"\n",
    "r2_out = 'r2_only_meta_merf_bmi_long_feb5.png'\n",
    "feature_imp_out = 'fi_only_meta_merf_bmi_long_feb5.png'\n",
    "\n",
    "test = test.dropna()\n",
    "train = train.dropna()\n",
    "print(\"test shape = \", test.shape)\n",
    "print(\"train shape = \", train.shape)\n",
    "\n",
    "print(\"---------- Select predictors for training set ----------\")\n",
    "train_set = train\n",
    "X = train_set.drop(['outcome_BMI_fnl', 'subject_id', 'x_t'], axis=1)\n",
    "Y = train_set['outcome_BMI_fnl'].to_numpy()\n",
    "clusters_train = train_set['subject_id'].to_numpy() \n",
    "Z = np.ones((train_set.shape[0], 1)) \n",
    "\n",
    "print(\"---------- Select predictors for test set ----------\")\n",
    "test_set = test\n",
    "X_new = test_set.drop(['outcome_BMI_fnl', 'subject_id', 'x_t'], axis=1)[X.columns].astype(X.dtypes)\n",
    "Y_new = test_set['outcome_BMI_fnl'].to_numpy()  \n",
    "clusters_new = pd.Series(test_set['subject_id'])  \n",
    "Z_new = np.ones((len(X_new), 1))\n",
    "\n",
    "print(\"---------- Run MERF models ----------\")\n",
    "run_merf_analysis(X, Y, Z, clusters_train, \n",
    "                  X_new, Y_new, Z_new, clusters_new, \n",
    "                  meta_df,\n",
    "                  output_dir, r2_out, feature_imp_out)"
   ]
  }
 ],
 "metadata": {
  "kernelspec": {
   "display_name": "researchVenv",
   "language": "python",
   "name": "python3"
  },
  "language_info": {
   "codemirror_mode": {
    "name": "ipython",
    "version": 3
   },
   "file_extension": ".py",
   "mimetype": "text/x-python",
   "name": "python",
   "nbconvert_exporter": "python",
   "pygments_lexer": "ipython3",
   "version": "3.13.0"
  }
 },
 "nbformat": 4,
 "nbformat_minor": 2
}
