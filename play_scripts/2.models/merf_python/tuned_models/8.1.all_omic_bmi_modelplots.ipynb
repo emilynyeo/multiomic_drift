{
 "cells": [
  {
   "cell_type": "markdown",
   "metadata": {},
   "source": [
    "## Description:\n",
    "Run many models looking at:\n",
    "1 - BMI and omic variables longitudinally \n",
    "2 - BMI and variable changes from BL-6m and 6m-12m"
   ]
  },
  {
   "cell_type": "code",
   "execution_count": 1,
   "metadata": {},
   "outputs": [],
   "source": [
    "import pandas as pd\n",
    "import os\n",
    "import re\n",
    "import sys\n",
    "import numpy as np\n",
    "import matplotlib.pyplot as plt\n",
    "import seaborn as sns\n",
    "import itertools \n",
    "import glob\n",
    "from sklearn.ensemble import RandomForestRegressor\n",
    "from sklearn.metrics import r2_score\n",
    "import matplotlib as mpl\n",
    "from merf.merf import MERF\n",
    "from sklearn.model_selection import train_test_split, KFold\n",
    "from merf.viz import plot_merf_training_stats\n",
    "from joblib import dump\n",
    "sns.set_context(\"poster\")\n",
    "mpl.rcParams['figure.figsize'] = (11,8)\n",
    "\n",
    "current_dir = os.getcwd() # Get the current working directory\n",
    "parent_dir = os.path.abspath(os.path.join(current_dir, '..'))\n",
    "sys.path.append(parent_dir)\n",
    "from em_utils import *\n",
    "\n",
    "# test and train set directories for input data\n",
    "longitudinal_dir = \"/Users/emily/projects/research/Stanislawski/comps/mutli-omic-predictions/play_scripts/2.models/merf_python/merf_dfs/5.combined/\"\n",
    "delta_dir = \"/Users/emily/projects/research/Stanislawski/comps/mutli-omic-predictions/zachs_rerun/drift_fs/csv/all_omic_processed_data/deltas/\"\n",
    "clin_dir = \"/Users/emily/projects/research/Stanislawski/comps/mutli-omic-predictions/data/clinical/transformed/aim2/merf_ready\"\n",
    "# Where hyperparameter training results are\n",
    "delta_df_dir = \"/Users/emily/projects/research/Stanislawski/comps/mutli-omic-predictions/play_scripts/2.models/merf_python/merf_dfs/6.two_timepoints_deltas\"\n",
    "long_df_dir = \"/Users/emily/projects/research/Stanislawski/comps/mutli-omic-predictions/play_scripts/2.models/merf_python/merf_dfs/5.combined\"\n",
    "func_df_dir = \"/Users/emily/projects/research/Stanislawski/comps/mutli-omic-predictions/play_scripts/2.models/merf_python/merf_dfs/3.functional\"\n",
    "taxa_long_df_dir = \"/Users/emily/projects/research/Stanislawski/comps/mutli-omic-predictions/play_scripts/2.models/merf_python/merf_dfs/2.taxa\"\n",
    "clinical_df_dir = \"/Users/emily/projects/research/Stanislawski/comps/mutli-omic-predictions/play_scripts/2.models/merf_python/merf_dfs/1.clinical\"\n",
    "micom_df_dir = \"/Users/emily/projects/research/Stanislawski/comps/mutli-omic-predictions/play_scripts/2.models/merf_python/merf_dfs/4.micom\""
   ]
  },
  {
   "cell_type": "code",
   "execution_count": null,
   "metadata": {},
   "outputs": [],
   "source": [
    "# test and train longitudinal files \n",
    "test_all = pd.read_csv(os.path.join(longitudinal_dir, 'feb20_test_merged_all_omics_raw_meta.csv'))  \n",
    "train_all = pd.read_csv(os.path.join(longitudinal_dir, 'feb20_training_merged_all_omics_raw_meta.csv'))  \n",
    "print(\"test long shape = \", test_all.shape)\n",
    "print(\"train long shape = \", train_all.shape)\n",
    "print(\"test longitudinal: \", test_all.columns)\n",
    "print(\"train longitudinal: \", train_all.columns)\n",
    "\n",
    "# test and train delta files \n",
    "test_delta = read_data(delta_dir, \"feb20_all_delta_test.csv\")\n",
    "train_delta = read_data(delta_dir, \"feb20_all_delta_train.csv\")\n",
    "print(\"test delta shape = \", test_delta.shape)\n",
    "print(\"train delta shape = \", train_delta.shape)\n",
    "print(\"test delta: \", test_delta.columns)\n",
    "print(\"train delta: \", train_delta.columns)\n",
    "\n",
    "# hyperparameter training files \n",
    "delta_df = pd.read_csv(os.path.join(delta_df_dir, 'jan30_2times_all_omic_deltas_BMI_remove_time_var_imputed_swapped.csv'))\n",
    "long_df = pd.read_csv(os.path.join(long_df_dir, 'jan13_params_fine_tuning_results_all_omics.csv'))\n",
    "func_df = pd.read_csv(os.path.join(func_df_dir, 'dec6_magggie_params_fine_tuning_results_raw_functional.csv'))\n",
    "taxa_df = pd.read_csv(os.path.join(taxa_long_df_dir, 'dec6_maggie_params_tuning_raw_taxa_oob.csv'))\n",
    "micom_df = pd.read_csv(os.path.join(micom_df_dir, 'dec6_maggie_params_fine_tuning_results_raw_micom.csv'))\n",
    "meta_df = pd.read_csv(os.path.join(clinical_df_dir, 'dec5_maggie_params_tuning_raw_clinical_oob.csv'))\n",
    "#meta_df = pd.read_csv('/Users/emily/projects/research/Stanislawski/comps/mutli-omic-predictions/play_scripts/2.models/merf_python/merf_dfs/1.clinical/fine_tuning_results_raw_clinical.csv')"
   ]
  },
  {
   "cell_type": "markdown",
   "metadata": {},
   "source": [
    "### Longitudinal BMI first "
   ]
  },
  {
   "cell_type": "code",
   "execution_count": null,
   "metadata": {},
   "outputs": [],
   "source": [
    "# Drop some columns \n",
    "train_long = train_all.drop(['Unnamed: 0_merged_data',\n",
    "                    'sample_id','subject_id', 'all_samples_x', 'all_samples_y', 'record_id','SampleID',\n",
    "                    'time_x', 'time_y', 'x_t', 't', 'outcome_BMI_fnl_x',], \n",
    "                    axis=1)\n",
    "\n",
    "test_long = test_all.drop(['Unnamed: 0_merged_data',\n",
    "                    'sample_id','subject_id', 'all_samples_x', 'all_samples_y', 'record_id', 'SampleID',\n",
    "                    'time_x', 'time_y', 'x_t', 't', 'outcome_BMI_fnl_x'], \n",
    "                    axis=1)\n",
    "print(\"test long shape = \", test_long.shape)\n",
    "print(\"train long shape = \", train_long.shape)\n",
    "\n",
    "test_long.rename(columns={'outcome_BMI_fnl_test_long': 'outcome_bmi_fnl'}, inplace=True)\n",
    "train_long.rename(columns={'outcome_BMI_fnl_train_long': 'outcome_bmi_fnl'}, inplace=True)\n",
    "\n",
    "print(\"test longitudinal: \", list(test_long.columns))\n",
    "print(\"train longitudinal: \", list(train_long.columns))"
   ]
  },
  {
   "cell_type": "code",
   "execution_count": 4,
   "metadata": {},
   "outputs": [],
   "source": [
    "# Find the column numbers for \"proton\" and \"Carbon.dioxide\" in train_set\n",
    "proton_column = train_long.columns.get_loc(\"proton\")\n",
    "carbon_dioxide_column = train_long.columns.get_loc(\"Carbon.dioxide\")\n",
    "proton_column_test = test_long.columns.get_loc(\"proton\")\n",
    "carbon_dioxide_column_test = test_long.columns.get_loc(\"Carbon.dioxide\")\n",
    "\n",
    "# Columns to KEEP for only meta \n",
    "meta_keep = ['all_samples','outcome_bmi_fnl', 'time', 'randomized_group', 'cohort_number', 'sex', 'race', 'age', 'Glucose', 'HDL_Total_Direct_lipid', 'HOMA_IR', 'Insulin_endo', 'LDL_Calculated', 'Triglyceride_lipid']\n",
    "only_grs = ['all_samples','outcome_bmi_fnl', 'bmi_prs', 'time']\n",
    "only_taxa = ['all_samples','outcome_bmi_fnl', 'time'] + [col for col in train_long.columns if col.startswith(\"g__\")]\n",
    "only_micom = ['all_samples','outcome_bmi_fnl', 'time'] + [col for col in train_long.columns if col in train_long.columns[proton_column:carbon_dioxide_column+1]]\n",
    "# Create a set of all columns to exclude\n",
    "exclude_columns = set(meta_keep + only_grs + only_taxa + only_micom)\n",
    "only_pathway = ['all_samples', 'outcome_bmi_fnl', 'time'] + [col for col in train_long.columns if col not in exclude_columns]\n",
    "\n",
    "# Columns to KEEP for only meta + GRS\n",
    "meta_grs = ['all_samples','outcome_bmi_fnl', 'time','randomized_group', 'cohort_number', 'sex', 'race', 'age', 'Glucose', 'HDL_Total_Direct_lipid', 'HOMA_IR', 'Insulin_endo', 'LDL_Calculated', 'Triglyceride_lipid', 'bmi_prs']\n",
    "# Columns to KEEP for only meta + GRS + taxa\n",
    "meta_grs_taxa = meta_grs + [col for col in train_long.columns if col.startswith(\"g__\")]\n",
    "meta_grs_taxa_test = meta_grs + [col for col in test_long.columns if col.startswith(\"g__\")]\n",
    "# Columns to KEEP for only meta + GRS + taxa + pathway/functional \n",
    "meta_grs_taxa_functional = meta_grs_taxa + [col for col in train_long.columns if col not in train_long.columns[proton_column:carbon_dioxide_column+1]]\n",
    "meta_grs_taxa_functional_test = meta_grs_taxa + [col for col in test_long.columns if col not in test_long.columns[proton_column_test:carbon_dioxide_column_test+1]]\n",
    "# Columns to DROP for only GRS + taxa + pathway/functional + micom (no meta)\n",
    "all_but_meta = ['randomized_group', 'cohort_number', 'time', 'sex', 'race', 'age', 'Glucose', 'HDL_Total_Direct_lipid', 'HOMA_IR', 'Insulin_endo', 'LDL_Calculated', 'Triglyceride_lipid']"
   ]
  },
  {
   "cell_type": "markdown",
   "metadata": {},
   "source": [
    "## 1.1 Trying Meta from omic DF\n",
    "\n",
    "PTEV is the best one \n",
    "First 5 columns for the lowest mean_ptev_score:\n",
    "n_estimators         500.00\n",
    "max_depth               NaN\n",
    "min_samples_split      0.05\n",
    "max_iter               2.00\n",
    "n_splits              10.00\n",
    "Name: 20, dtype: float64"
   ]
  },
  {
   "cell_type": "code",
   "execution_count": null,
   "metadata": {},
   "outputs": [],
   "source": [
    "train_l = train_long[meta_keep]\n",
    "test_l = test_long[meta_keep]\n",
    "output_dir = \"/Users/emily/projects/research/Stanislawski/comps/mutli-omic-predictions/play_scripts/2.models/merf_python/for_score_long\"\n",
    "r2_out = 'r2_only_meta_merf_bmi_long_feb12_all.png'\n",
    "feature_imp_out = 'fi_only_meta_merf_bmi_long_feb12_all.png'\n",
    "results_filename = 'merf_results_long_only_meta_feb12.csv'\n",
    "\n",
    "print(\"---------- Select predictors for training set ----------\")\n",
    "train_set = train_l\n",
    "X = train_set.drop(['outcome_bmi_fnl', 'all_samples', 'time'], axis=1)\n",
    "Y = train_set['outcome_bmi_fnl'].to_numpy()\n",
    "clusters_train = train_set['all_samples'].to_numpy() \n",
    "Z = np.ones((train_set.shape[0], 1)) \n",
    "\n",
    "print(\"---------- Select predictors for test set ----------\")\n",
    "test_set = test_l\n",
    "X_new = test_set.drop(['outcome_bmi_fnl', 'all_samples', 'time'], axis=1)[X.columns].astype(X.dtypes)\n",
    "Y_new = test_set['outcome_bmi_fnl'].to_numpy()  \n",
    "clusters_new = pd.Series(test_set['all_samples'])  \n",
    "Z_new = np.ones((len(X_new), 1))\n",
    "time_new = pd.Series(test_set['time'])\n",
    "\n",
    "print(\"---------- Run MERF models ----------\")\n",
    "#r2_run1, fi_run1 = run_merf_analysis2(X, Y, Z, clusters_train,\n",
    "#                             X_new, Y_new, Z_new, clusters_new, \n",
    "#                             long_df, output_dir, r2_out, feature_imp_out)\n",
    "\n",
    "r2_values, results_df = run_merf_analysis2(\n",
    "    X, Y, Z, clusters_train,\n",
    "    X_new, Y_new, Z_new, clusters_new,\n",
    "    long_df,\n",
    "    output_dir, r2_out, feature_imp_out, results_filename, time_new\n",
    ")\n",
    "\n",
    "# Print the R-squared values and the results DataFrame\n",
    "print(\"R-squared values:\", r2_values)\n",
    "print(\"Results DataFrame:\\n\", results_df)\n",
    "\n",
    "#print(\"---------- Run best MERF 🧮 ----------\")# Define the parameter grid list\n",
    "# param_grid_list = [\n",
    "#     {'n_estimators': 500, 'max_depth': None, \n",
    "#      'min_samples_split': 0.05, 'max_iter': 2}\n",
    "# ]\n",
    "# # Call the run_merf function with the required parameters\n",
    "# only_meta = run_merf(X, Y, Z, clusters_train,\n",
    "#                      X_new, Y_new, Z_new, clusters_new, \n",
    "#                      param_grid_list, results_name=\"only_meta_results\")\n",
    "# # View the \"only_meta\" output\n",
    "# print(\"Viewing the 'only_meta' output:\")\n",
    "# for result in only_meta:\n",
    "#     print(f\"Model Parameters: {result['params']}\")\n",
    "#     print(f\"R-squared: {result['r2']:.4f}\")\n",
    "#     print(\"Feature Importances:\")\n",
    "#     for feature, importance in zip(X.columns, result['feature_importances']):\n",
    "#         print(f\"{feature}: {importance:.4f}\")\n",
    "#     print(\"\\n\")\n",
    "# # End of Selection\n"
   ]
  },
  {
   "cell_type": "markdown",
   "metadata": {},
   "source": [
    "## Only PRS"
   ]
  },
  {
   "cell_type": "code",
   "execution_count": null,
   "metadata": {},
   "outputs": [],
   "source": [
    "train_l = train_long[only_grs]\n",
    "test_l = test_long[only_grs]\n",
    "output_dir = \"/Users/emily/projects/research/Stanislawski/comps/mutli-omic-predictions/play_scripts/2.models/merf_python/for_score_long\"\n",
    "r2_out = 'r2_only_grs_merf_bmi_long_feb12_all.png'\n",
    "feature_imp_out = 'fi_only_grs_merf_bmi_long_feb12_all.png'\n",
    "results_filename = 'merf_results_long_meta_grs_feb12.csv'\n",
    "\n",
    "print(\"---------- Select predictors for training set ----------\")\n",
    "train_set = train_l\n",
    "X = train_set.drop(['outcome_bmi_fnl', 'all_samples', 'time'], axis=1)\n",
    "Y = train_set['outcome_bmi_fnl'].to_numpy()\n",
    "clusters_train = train_set['all_samples'].to_numpy() \n",
    "Z = np.ones((train_set.shape[0], 1)) \n",
    "\n",
    "print(\"---------- Select predictors for test set ----------\")\n",
    "test_set = test_l\n",
    "X_new = test_set.drop(['outcome_bmi_fnl', 'all_samples', 'time'], axis=1)[X.columns].astype(X.dtypes)\n",
    "Y_new = test_set['outcome_bmi_fnl'].to_numpy()  \n",
    "clusters_new = pd.Series(test_set['all_samples'])  \n",
    "Z_new = np.ones((len(X_new), 1))\n",
    "time_new = pd.Series(test_set['time'])\n",
    "print(\"---------- Run MERF models ----------\")\n",
    "#r2_run2, fi_run2 = run_merf_analysis2(X, Y, Z, clusters_train,\n",
    "#                             X_new, Y_new, Z_new, clusters_new, \n",
    "#                             long_df, output_dir, r2_out, feature_imp_out)\n",
    "# Call the function\n",
    "r2_values, results_df = run_merf_analysis2(\n",
    "    X, Y, Z, clusters_train,\n",
    "    X_new, Y_new, Z_new, clusters_new,\n",
    "    long_df,\n",
    "    output_dir, r2_out, feature_imp_out, results_filename, time_new\n",
    ")\n",
    "\n",
    "# Print the R-squared values and the results DataFrame\n",
    "print(\"R-squared values:\", r2_values)\n",
    "print(\"Results DataFrame:\\n\", results_df)"
   ]
  },
  {
   "cell_type": "markdown",
   "metadata": {},
   "source": [
    "## Only Taxa"
   ]
  },
  {
   "cell_type": "code",
   "execution_count": null,
   "metadata": {},
   "outputs": [],
   "source": [
    "train_l = train_long[only_taxa]\n",
    "test_l = test_long[only_taxa]\n",
    "output_dir = \"/Users/emily/projects/research/Stanislawski/comps/mutli-omic-predictions/play_scripts/2.models/merf_python/for_score_long\"\n",
    "r2_out = 'r2_only_taxa_merf_bmi_long_feb12.png'\n",
    "feature_imp_out = 'fi_only_taxa_merf_bmi_long_feb12.png'\n",
    "results_filename = 'merf_results_long_only_taxa_feb12.csv'\n",
    "\n",
    "print(\"---------- Select predictors for training set ----------\")\n",
    "train_set = train_l\n",
    "X = train_set.drop(['outcome_bmi_fnl', 'all_samples', 'time'], axis=1)\n",
    "Y = train_set['outcome_bmi_fnl'].to_numpy()\n",
    "clusters_train = train_set['all_samples'].to_numpy() \n",
    "Z = np.ones((train_set.shape[0], 1)) \n",
    "\n",
    "print(\"---------- Select predictors for test set ----------\")\n",
    "test_set = test_l\n",
    "X_new = test_set.drop(['outcome_bmi_fnl', 'all_samples', 'time'], axis=1)[X.columns].astype(X.dtypes)\n",
    "Y_new = test_set['outcome_bmi_fnl'].to_numpy()  \n",
    "clusters_new = pd.Series(test_set['all_samples'])  \n",
    "Z_new = np.ones((len(X_new), 1))\n",
    "time_new = pd.Series(test_set['time'])\n",
    "print(\"---------- Run MERF models ----------\")\n",
    "#r2_run2, fi_run2 = run_merf_analysis2(X, Y, Z, clusters_train,\n",
    "#                             X_new, Y_new, Z_new, clusters_new, \n",
    "#                             long_df, output_dir, r2_out, feature_imp_out)\n",
    "# Call the function\n",
    "r2_values, results_df = run_merf_analysis2(\n",
    "    X, Y, Z, clusters_train,\n",
    "    X_new, Y_new, Z_new, clusters_new,\n",
    "    long_df,\n",
    "    output_dir, r2_out, feature_imp_out, results_filename, time_new\n",
    ")\n",
    "\n",
    "# Print the R-squared values and the results DataFrame\n",
    "print(\"R-squared values:\", r2_values)\n",
    "print(\"Results DataFrame:\\n\", results_df)"
   ]
  },
  {
   "cell_type": "markdown",
   "metadata": {},
   "source": [
    "## Only Micom"
   ]
  },
  {
   "cell_type": "code",
   "execution_count": null,
   "metadata": {},
   "outputs": [],
   "source": [
    "train_l = train_long[only_micom]\n",
    "test_l = test_long[only_micom]\n",
    "output_dir = \"/Users/emily/projects/research/Stanislawski/comps/mutli-omic-predictions/play_scripts/2.models/merf_python/for_score_long\"\n",
    "r2_out = 'r2_only_micom_merf_bmi_long_feb12.png'\n",
    "feature_imp_out = 'fi_only_micom_merf_bmi_long_feb12.png'\n",
    "results_filename = 'merf_results_long_only_micom_feb12.csv'\n",
    "\n",
    "print(\"---------- Select predictors for training set ----------\")\n",
    "train_set = train_l\n",
    "X = train_set.drop(['outcome_bmi_fnl', 'all_samples', 'time'], axis=1)\n",
    "Y = train_set['outcome_bmi_fnl'].to_numpy()\n",
    "clusters_train = train_set['all_samples'].to_numpy() \n",
    "Z = np.ones((train_set.shape[0], 1)) \n",
    "\n",
    "print(\"---------- Select predictors for test set ----------\")\n",
    "test_set = test_l\n",
    "X_new = test_set.drop(['outcome_bmi_fnl', 'all_samples', 'time'], axis=1)[X.columns].astype(X.dtypes)\n",
    "Y_new = test_set['outcome_bmi_fnl'].to_numpy()  \n",
    "clusters_new = pd.Series(test_set['all_samples'])  \n",
    "Z_new = np.ones((len(X_new), 1))\n",
    "time_new = pd.Series(test_set['time'])\n",
    "print(\"---------- Run MERF models ----------\")\n",
    "#r2_run2, fi_run2 = run_merf_analysis2(X, Y, Z, clusters_train,\n",
    "#                             X_new, Y_new, Z_new, clusters_new, \n",
    "#                             long_df, output_dir, r2_out, feature_imp_out)\n",
    "# Call the function\n",
    "r2_values, results_df = run_merf_analysis2(\n",
    "    X, Y, Z, clusters_train,\n",
    "    X_new, Y_new, Z_new, clusters_new,\n",
    "    long_df,\n",
    "    output_dir, r2_out, feature_imp_out, results_filename, time_new\n",
    ")\n",
    "\n",
    "# Print the R-squared values and the results DataFrame\n",
    "print(\"R-squared values:\", r2_values)\n",
    "print(\"Results DataFrame:\\n\", results_df)"
   ]
  },
  {
   "cell_type": "markdown",
   "metadata": {},
   "source": [
    "## Only pathway data"
   ]
  },
  {
   "cell_type": "code",
   "execution_count": null,
   "metadata": {},
   "outputs": [],
   "source": [
    "train_l = train_long[only_pathway]\n",
    "test_l = test_long[only_pathway]\n",
    "output_dir = \"/Users/emily/projects/research/Stanislawski/comps/mutli-omic-predictions/play_scripts/2.models/merf_python/for_score_long\"\n",
    "r2_out = 'r2_only_pathway_merf_bmi_long_feb12.png'\n",
    "feature_imp_out = 'fi_only_pathway_merf_bmi_long_feb12.png'\n",
    "results_filename = 'merf_results_long_only_pathway_feb12.csv'\n",
    "\n",
    "print(\"---------- Select predictors for training set ----------\")\n",
    "train_set = train_l\n",
    "X = train_set.drop(['outcome_bmi_fnl', 'all_samples', 'time'], axis=1)\n",
    "Y = train_set['outcome_bmi_fnl'].to_numpy()\n",
    "clusters_train = train_set['all_samples'].to_numpy() \n",
    "Z = np.ones((train_set.shape[0], 1)) \n",
    "\n",
    "print(\"---------- Select predictors for test set ----------\")\n",
    "test_set = test_l\n",
    "X_new = test_set.drop(['outcome_bmi_fnl', 'all_samples', 'time'], axis=1)[X.columns].astype(X.dtypes)\n",
    "Y_new = test_set['outcome_bmi_fnl'].to_numpy()  \n",
    "clusters_new = pd.Series(test_set['all_samples'])  \n",
    "Z_new = np.ones((len(X_new), 1))\n",
    "time_new = pd.Series(test_set['time'])\n",
    "\n",
    "print(\"---------- Run MERF models ----------\")\n",
    "#r2_run2, fi_run2 = run_merf_analysis2(X, Y, Z, clusters_train,\n",
    "#                             X_new, Y_new, Z_new, clusters_new, \n",
    "#                             long_df, output_dir, r2_out, feature_imp_out)\n",
    "# Call the function\n",
    "r2_values, results_df = run_merf_analysis2(\n",
    "    X, Y, Z, clusters_train,\n",
    "    X_new, Y_new, Z_new, clusters_new,\n",
    "    long_df,\n",
    "    output_dir, r2_out, feature_imp_out, results_filename, time_new\n",
    ")\n",
    "\n",
    "# Print the R-squared values and the results DataFrame\n",
    "print(\"R-squared values:\", r2_values)\n",
    "print(\"Results DataFrame:\\n\", results_df)"
   ]
  },
  {
   "cell_type": "markdown",
   "metadata": {},
   "source": [
    "## 1.2 trying Meta + Genetic info from omic DF\n",
    "PTEV model\n",
    "First 5 columns for the lowest mean_ptev_score:\n",
    "n_estimators         500.00\n",
    "max_depth               NaN\n",
    "min_samples_split      0.05\n",
    "max_iter               2.00\n",
    "n_splits              10.00\n",
    "Name: 20, dtype: float64"
   ]
  },
  {
   "cell_type": "code",
   "execution_count": null,
   "metadata": {},
   "outputs": [],
   "source": [
    "train_l = train_long[meta_grs]\n",
    "test_l = test_long[meta_grs]\n",
    "output_dir = \"/Users/emily/projects/research/Stanislawski/comps/mutli-omic-predictions/play_scripts/2.models/merf_python/for_score_long\"\n",
    "r2_out = 'r2_meta_grs_merf_bmi_long_feb10_all.png'\n",
    "feature_imp_out = 'fi_meta_grs_merf_bmi_long_feb10_all.png'\n",
    "results_filename = 'merf_results_long_meta_grs.csv'\n",
    "\n",
    "print(\"---------- Select predictors for training set ----------\")\n",
    "train_set = train_l\n",
    "X = train_set.drop(['outcome_bmi_fnl', 'all_samples'], axis=1)\n",
    "Y = train_set['outcome_bmi_fnl'].to_numpy()\n",
    "clusters_train = train_set['all_samples'].to_numpy() \n",
    "Z = np.ones((train_set.shape[0], 1)) \n",
    "\n",
    "print(\"---------- Select predictors for test set ----------\")\n",
    "test_set = test_l\n",
    "X_new = test_set.drop(['outcome_bmi_fnl', 'all_samples'], axis=1)[X.columns].astype(X.dtypes)\n",
    "Y_new = test_set['outcome_bmi_fnl'].to_numpy()  \n",
    "clusters_new = pd.Series(test_set['all_samples'])  \n",
    "Z_new = np.ones((len(X_new), 1))\n",
    "\n",
    "print(\"---------- Run MERF models ----------\")\n",
    "#r2_run2, fi_run2 = run_merf_analysis2(X, Y, Z, clusters_train,\n",
    "#                             X_new, Y_new, Z_new, clusters_new, \n",
    "#                             long_df, output_dir, r2_out, feature_imp_out)\n",
    "# Call the function\n",
    "r2_values, results_df = run_merf_analysis2(\n",
    "    X, Y, Z, clusters_train,\n",
    "    X_new, Y_new, Z_new, clusters_new,\n",
    "    long_df,\n",
    "    output_dir, r2_out, feature_imp_out, results_filename\n",
    ")\n",
    "\n",
    "# Print the R-squared values and the results DataFrame\n",
    "print(\"R-squared values:\", r2_values)\n",
    "print(\"Results DataFrame:\\n\", results_df)\n",
    "\n",
    "print(\"---------- Run best MERF 🧮 ----------\")# Define the parameter grid list\n",
    "# param_grid_list = [\n",
    "#     {'n_estimators': 500, 'max_depth': None, \n",
    "#      'min_samples_split': 0.05, 'max_iter': 2}\n",
    "# ]\n",
    "# # Call the run_merf function with the required parameters\n",
    "# only_meta_grs = run_merf(X, Y, Z, clusters_train,\n",
    "#                      X_new, Y_new, Z_new, clusters_new, \n",
    "#                      param_grid_list, results_name=\"only_meta_grs_results\")\n",
    "# # View the \"only_meta\" output\n",
    "# print(\"Viewing the 'only_meta' output:\")\n",
    "# for result in only_meta_grs:\n",
    "#     print(f\"Model Parameters: {result['params']}\")\n",
    "#     print(f\"R-squared: {result['r2']:.4f}\")\n",
    "#     print(\"Feature Importances:\")\n",
    "#     for feature, importance in zip(X.columns, result['feature_importances']):\n",
    "#         print(f\"{feature}: {importance:.4f}\")\n",
    "#     print(\"\\n\")"
   ]
  },
  {
   "cell_type": "markdown",
   "metadata": {},
   "source": [
    "## 1.3 trying Meta + Genetic + Taxa info from omic DF\n",
    "\n",
    "First 5 columns for the lowest mean_ptev_score:\n",
    "n_estimators         500.00\n",
    "max_depth               NaN\n",
    "min_samples_split      0.05\n",
    "max_iter               2.00\n",
    "n_splits              10.00\n",
    "Name: 20, dtype: float64\n",
    "\n",
    "First 5 columns for the lowest mean_ptev_score:\n",
    "n_estimators         100.00\n",
    "max_depth               NaN\n",
    "min_samples_split      0.05\n",
    "max_iter               2.00\n",
    "n_splits              10.00\n",
    "Name: 2, dtype: float64"
   ]
  },
  {
   "cell_type": "code",
   "execution_count": null,
   "metadata": {},
   "outputs": [],
   "source": [
    "train_l = train_long[meta_grs_taxa]\n",
    "test_l = test_long[meta_grs_taxa_test]\n",
    "output_dir = \"/Users/emily/projects/research/Stanislawski/comps/mutli-omic-predictions/play_scripts/2.models/merf_python/merf_plots/long_combined\"\n",
    "r2_out = 'r2_meta_grs_taxa_merf_bmi_long_feb6.png'\n",
    "feature_imp_out = 'fi_meta_grs_taxa_merf_bmi_long_feb6.png'\n",
    "\n",
    "print(\"---------- Select predictors for training set ----------\")\n",
    "train_set = train_l\n",
    "X = train_set.drop(['outcome_bmi_fnl', 'all_samples'], axis=1)\n",
    "Y = train_set['outcome_bmi_fnl'].to_numpy()\n",
    "clusters_train = train_set['all_samples'].to_numpy() \n",
    "Z = np.ones((train_set.shape[0], 1)) \n",
    "\n",
    "print(\"---------- Select predictors for test set ----------\")\n",
    "test_set = test_l\n",
    "X_new = test_set.drop(['outcome_bmi_fnl', 'all_samples'], axis=1)[X.columns].astype(X.dtypes)\n",
    "Y_new = test_set['outcome_bmi_fnl'].to_numpy()  \n",
    "clusters_new = pd.Series(test_set['all_samples'])  \n",
    "Z_new = np.ones((len(X_new), 1))\n",
    "\n",
    "print(\"---------- Run MERF models ----------\")\n",
    "#run_merf_analysis(X, Y, Z, clusters_train, \n",
    "#                  X_new, Y_new, Z_new, clusters_new, \n",
    "#                  long_df, output_dir, r2_out, feature_imp_out)\n",
    "\n",
    "r2_run3, fi_run3 = run_merf_analysis2(X, Y, Z, clusters_train,\n",
    "                             X_new, Y_new, Z_new, clusters_new, \n",
    "                             long_df, output_dir, r2_out, feature_imp_out)\n",
    "\n",
    "print(\"---------- Run best MERF 🧮 ----------\")\n",
    "# param_grid_list = [\n",
    "#     {'n_estimators': 500, 'max_depth': None, \n",
    "#      'min_samples_split': 0.05, 'max_iter': 2}\n",
    "# ]\n",
    "# # Call the run_merf function with the required parameters\n",
    "# meta_grs_tax = run_merf(X, Y, Z, clusters_train,\n",
    "#                      X_new, Y_new, Z_new, clusters_new, \n",
    "#                      param_grid_list, results_name=\"meta_grs_tax_results\")\n",
    "# # View the \"only_meta\" output\n",
    "# print(\"Viewing the 'only_meta' output:\")\n",
    "# for result in meta_grs_tax:\n",
    "#     print(f\"Model Parameters: {result['params']}\")\n",
    "#     print(f\"R-squared: {result['r2']:.4f}\")\n",
    "#     print(\"Feature Importances:\")\n",
    "#     for feature, importance in zip(X.columns, result['feature_importances']):\n",
    "#         print(f\"{feature}: {importance:.4f}\")\n",
    "#     print(\"\\n\")\n",
    "# # End of Selection"
   ]
  },
  {
   "cell_type": "markdown",
   "metadata": {},
   "source": [
    "## 1.4 trying Meta + Genetic + Taxa + Functional info from omic DF\n",
    "\n",
    "lowest mean_ptev_score:\n",
    "n_estimators         500.00\n",
    "max_depth               NaN\n",
    "min_samples_split      0.05\n",
    "max_iter               2.00\n",
    "n_splits              10.00\n",
    "Name: 20, dtype: float64\n",
    "\n",
    "First 5 columns for the lowest mean_prev_score:\n",
    "n_estimators         500.00\n",
    "max_depth               NaN\n",
    "min_samples_split      0.15\n",
    "max_iter               2.00\n",
    "n_splits               5.00\n",
    "Name: 31, dtype: float64"
   ]
  },
  {
   "cell_type": "code",
   "execution_count": null,
   "metadata": {},
   "outputs": [],
   "source": [
    "train_l = train_long[meta_grs_taxa_functional]\n",
    "test_l = test_long[meta_grs_taxa_functional_test]\n",
    "# Check for duplicate column names in test_l\n",
    "duplicates_test = test_l.columns[test_l.columns.duplicated()].unique()\n",
    "duplicates_train = train_l.columns[train_l.columns.duplicated()].unique()\n",
    "# Remove duplicate columns\n",
    "test_l = test_l.loc[:, ~test_l.columns.duplicated()]\n",
    "train_l = train_l.loc[:, ~train_l.columns.duplicated()]\n",
    "output_dir = \"/Users/emily/projects/research/Stanislawski/comps/mutli-omic-predictions/play_scripts/2.models/merf_python/merf_plots/long_combined\"\n",
    "r2_out = 'r2_meta_grs_taxa_functional_merf_bmi_long_feb6.png'\n",
    "feature_imp_out = 'fi_meta_grs_taxa_functional_merf_bmi_long_feb6.png'\n",
    "\n",
    "print(\"---------- Select predictors for training set ----------\")\n",
    "train_set = train_l\n",
    "X = train_set.drop(['outcome_bmi_fnl', 'all_samples'], axis=1)\n",
    "Y = train_set['outcome_bmi_fnl'].to_numpy()\n",
    "clusters_train = train_set['all_samples'].to_numpy() \n",
    "Z = np.ones((train_set.shape[0], 1)) \n",
    "\n",
    "print(\"---------- Select predictors for test set ----------\")\n",
    "test_set = test_l\n",
    "X_new = test_set.drop(['outcome_bmi_fnl', 'all_samples'], axis=1)[X.columns].astype(X.dtypes)\n",
    "Y_new = test_set['outcome_bmi_fnl'].to_numpy()  \n",
    "clusters_new = pd.Series(test_set['all_samples'])  \n",
    "Z_new = np.ones((len(X_new), 1))\n",
    "\n",
    "print(\"---------- Run MERF models ----------\")\n",
    "#run_merf_analysis(X, Y, Z, clusters_train, \n",
    "#                  X_new, Y_new, Z_new, clusters_new, \n",
    "#                  long_df, output_dir, r2_out, feature_imp_out)\n",
    "# Run the analysis multiple times\n",
    "r2_run4, fi_run4 = run_merf_analysis2(X, Y, Z, clusters_train,\n",
    "                             X_new, Y_new, Z_new, clusters_new, \n",
    "                             long_df, output_dir, r2_out, feature_imp_out)\n",
    "\n",
    "print(\"---------- Run best MERF 🧮 ----------\")\n",
    "param_grid_list = [\n",
    "    {'n_estimators': 500, 'max_depth': None, \n",
    "     'min_samples_split': 0.05, 'max_iter': 2}\n",
    "]\n",
    "# Call the run_merf function with the required parameters\n",
    "#meta_grs_tax_func = run_merf(X, Y, Z, clusters_train,\n",
    "#                     X_new, Y_new, Z_new, clusters_new, \n",
    "#                     param_grid_list, results_name=\"meta_grs_tax_func_results\")\n",
    "# View the \"only_meta\" output\n",
    "#print(\"Viewing the 'only_meta' output:\")\n",
    "#for result in meta_grs_tax_func:\n",
    "#    print(f\"Model Parameters: {result['params']}\")\n",
    "#    print(f\"R-squared: {result['r2']:.4f}\")\n",
    "#    print(\"Feature Importances:\")\n",
    "#    for feature, importance in zip(X.columns, result['feature_importances']):\n",
    "#        print(f\"{feature}: {importance:.4f}\")\n",
    "#    print(\"\\n\")"
   ]
  },
  {
   "cell_type": "markdown",
   "metadata": {},
   "source": [
    "## 1.5 all but meta omic df \n",
    "\n",
    "First 5 columns for the lowest mean_mse_score:\n",
    "n_estimators         500.0\n",
    "max_depth              NaN\n",
    "min_samples_split      0.1\n",
    "max_iter              10.0\n",
    "n_splits              10.0\n",
    "Name: 29, dtype: float64\n",
    "\n",
    "First 5 columns for the highest oob_score:\n",
    "n_estimators         1000.00\n",
    "max_depth                NaN\n",
    "min_samples_split       0.05\n",
    "max_iter               10.00\n",
    "n_splits               10.00\n",
    "Name: 41, dtype: float64"
   ]
  },
  {
   "cell_type": "code",
   "execution_count": null,
   "metadata": {},
   "outputs": [],
   "source": [
    "train_l = train_long.drop(all_but_meta, axis = 1)\n",
    "test_l = test_long.drop(all_but_meta, axis = 1)\n",
    "output_dir = \"/Users/emily/projects/research/Stanislawski/comps/mutli-omic-predictions/play_scripts/2.models/merf_python/merf_plots/long_combined\"\n",
    "r2_out = 'r2_all_but_meta_merf_bmi_long_feb6.png'\n",
    "feature_imp_out = 'fi_all_but_meta_merf_bmi_long_feb6.png'\n",
    "\n",
    "print(\"---------- Select predictors for training set ----------\")\n",
    "train_set = train_l\n",
    "X = train_set.drop(['outcome_bmi_fnl', 'all_samples'], axis=1)\n",
    "Y = train_set['outcome_bmi_fnl'].to_numpy()\n",
    "clusters_train = train_set['all_samples'].to_numpy() \n",
    "Z = np.ones((train_set.shape[0], 1)) \n",
    "\n",
    "print(\"---------- Select predictors for test set ----------\")\n",
    "test_set = test_l\n",
    "X_new = test_set.drop(['outcome_bmi_fnl', 'all_samples'], axis=1)[X.columns].astype(X.dtypes)\n",
    "Y_new = test_set['outcome_bmi_fnl'].to_numpy()  \n",
    "clusters_new = pd.Series(test_set['all_samples'])  \n",
    "Z_new = np.ones((len(X_new), 1))\n",
    "\n",
    "print(\"---------- Run MERF models ----------\")\n",
    "#run_merf_analysis(X, Y, Z, clusters_train, \n",
    "#                  X_new, Y_new, Z_new, clusters_new, \n",
    "#                  long_df, output_dir, r2_out, feature_imp_out)\n",
    "r2_run5, fi_run5 = run_merf_analysis2(X, Y, Z, clusters_train,\n",
    "                             X_new, Y_new, Z_new, clusters_new, \n",
    "                             long_df, output_dir, r2_out, feature_imp_out)\n",
    "\n",
    "print(\"---------- Run best MERF 🧮 ----------\")\n",
    "# param_grid_list = [\n",
    "#     {'n_estimators': 500, 'max_depth': None, \n",
    "#      'min_samples_split': 0.05, 'max_iter': 2}\n",
    "# ]\n",
    "# # Call the run_merf function with the required parameters\n",
    "# grs_tax_func_micom = run_merf(X, Y, Z, clusters_train,\n",
    "#                      X_new, Y_new, Z_new, clusters_new, \n",
    "#                      param_grid_list, results_name=\"grs_tax_func_micom\")\n",
    "# # View the \"only_meta\" output\n",
    "# print(\"Viewing the 'only_meta' output:\")\n",
    "# for result in grs_tax_func_micom:\n",
    "#     print(f\"Model Parameters: {result['params']}\")\n",
    "#     print(f\"R-squared: {result['r2']:.4f}\")\n",
    "#     print(\"Feature Importances:\")\n",
    "#     for feature, importance in zip(X.columns, result['feature_importances']):\n",
    "#         print(f\"{feature}: {importance:.4f}\")\n",
    "#     print(\"\\n\")\n",
    "# # End of Selection"
   ]
  },
  {
   "cell_type": "markdown",
   "metadata": {},
   "source": [
    "## 1.6 All omics \n",
    "\n",
    "First 5 columns for the lowest mean_ptev_score:\n",
    "n_estimators         500.00\n",
    "max_depth               NaN\n",
    "min_samples_split      0.05\n",
    "max_iter               2.00\n",
    "n_splits              10.00\n",
    "Name: 20, dtype: float64\n",
    "\n",
    "First 5 columns for the lowest mean_ptev_score:\n",
    "n_estimators         100.00\n",
    "max_depth               NaN\n",
    "min_samples_split      0.05\n",
    "max_iter               2.00\n",
    "n_splits              10.00\n",
    "Name: 2, dtype: float64"
   ]
  },
  {
   "cell_type": "code",
   "execution_count": null,
   "metadata": {},
   "outputs": [],
   "source": [
    "output_dir = \"/Users/emily/projects/research/Stanislawski/comps/mutli-omic-predictions/play_scripts/2.models/merf_python/merf_plots/long_combined\"\n",
    "r2_out = 'r2_all_omics_merf_bmi_long_feb6.png'\n",
    "feature_imp_out = 'fi_all_omics_merf_bmi_long_feb6.png'\n",
    "\n",
    "print(\"---------- Select predictors for training set ----------\")\n",
    "train_set = train_long\n",
    "X = train_set.drop(['outcome_bmi_fnl', 'all_samples'], axis=1)\n",
    "Y = train_set['outcome_bmi_fnl'].to_numpy()\n",
    "clusters_train = train_set['all_samples'].to_numpy() \n",
    "Z = np.ones((train_set.shape[0], 1)) \n",
    "\n",
    "print(\"---------- Select predictors for test set ----------\")\n",
    "test_set = test_long\n",
    "X_new = test_set.drop(['outcome_bmi_fnl', 'all_samples'], axis=1)[X.columns].astype(X.dtypes)\n",
    "Y_new = test_set['outcome_bmi_fnl'].to_numpy()  \n",
    "clusters_new = pd.Series(test_set['all_samples'])  \n",
    "Z_new = np.ones((len(X_new), 1))\n",
    "\n",
    "print(\"---------- Run MERF models ----------\")\n",
    "#run_merf_analysis(X, Y, Z, clusters_train, \n",
    "#                  X_new, Y_new, Z_new, clusters_new, \n",
    "#                  long_df, output_dir, r2_out, feature_imp_out)\n",
    "\n",
    "r2_run6, fi_run6 = run_merf_analysis2(X, Y, Z, clusters_train,\n",
    "                             X_new, Y_new, Z_new, clusters_new, \n",
    "                             long_df, output_dir, r2_out, feature_imp_out)\n",
    "\n",
    "print(\"---------- Run best MERF 🧮 ----------\")\n",
    "param_grid_list = [\n",
    "    {'n_estimators': 100, 'max_depth': None, \n",
    "     'min_samples_split': 0.05, 'max_iter': 2}\n",
    "]\n",
    "# Call the run_merf function with the required parameters\n",
    "# all_omic = run_merf(X, Y, Z, clusters_train,\n",
    "#                      X_new, Y_new, Z_new, clusters_new, \n",
    "#                      param_grid_list, results_name=\"grs_tax_func_micom\")\n",
    "# # View the \"only_meta\" output\n",
    "# print(\"Viewing the 'only_meta' output:\")\n",
    "# for result in all_omic:\n",
    "#     print(f\"Model Parameters: {result['params']}\")\n",
    "#     print(f\"R-squared: {result['r2']:.4f}\")\n",
    "#     print(\"Feature Importances:\")\n",
    "#     for feature, importance in zip(X.columns, result['feature_importances']):\n",
    "#         print(f\"{feature}: {importance:.4f}\")\n",
    "#     print(\"\\n\")"
   ]
  },
  {
   "cell_type": "markdown",
   "metadata": {},
   "source": [
    "# Now looking at Delta models "
   ]
  },
  {
   "cell_type": "code",
   "execution_count": 27,
   "metadata": {},
   "outputs": [
    {
     "name": "stdout",
     "output_type": "stream",
     "text": [
      "test delta:  [62, 920]\n",
      "train delta:  [234, 920]\n",
      "test delta:  ['subject_id', 'randomized_group', 'age', 'sex', 'race', 'BMI', 'Weight', 'CRP', 'cholesterol', 'ghrelin', 'HDL', 'LDL', 'HbA1C', 'insulin', 'leptin', 'peptide_yy', 'tgcyd', 'homo_ir', 'DENOVOPURINE2-PWY', 'DHGLUCONATE-PYR-CAT-PWY', 'DTDPRHAMSYN-PWY', 'ECASYN-PWY', 'ENTBACSYN-PWY', 'FAO-PWY', 'FASYN-ELONG-PWY', 'FASYN-INITIAL-PWY', 'FERMENTATION-PWY', 'FOLSYN-PWY', 'FUC-RHAMCAT-PWY', 'FUCCAT-PWY', 'GALACT-GLUCUROCAT-PWY', 'GALACTARDEG-PWY', 'GALACTUROCAT-PWY', 'GALLATE-DEGRADATION-I-PWY', 'GALLATE-DEGRADATION-II-PWY', 'GLCMANNANAUT-PWY', 'GLUCARDEG-PWY', 'GLUCARGALACTSUPER-PWY', 'GLUCONEO-PWY', 'GLUCOSE1PMETAB-PWY', 'GLUCUROCAT-PWY', 'GLUTORN-PWY', 'GLYCOCAT-PWY', 'GLYCOGENSYNTH-PWY', 'GLYCOL-GLYOXDEG-PWY', 'GLYCOLYSIS', 'GLYCOLYSIS-E-D', 'GLYCOLYSIS-TCA-GLYOX-BYPASS', 'GLYOXYLATE-BYPASS', 'GOLPDLCAT-PWY', 'HCAMHPDEG-PWY', 'HEME-BIOSYNTHESIS-II', 'HEMESYN2-PWY', 'HEXITOLDEGSUPER-PWY', 'HISDEG-PWY', 'HISTSYN-PWY', 'HOMOSER-METSYN-PWY', 'HSERMETANA-PWY', 'ILEUSYN-PWY', 'KDO-NAGLIPASYN-PWY', 'KETOGLUCONMET-PWY', 'LACTOSECAT-PWY', 'LEU-DEG2-PWY', 'LPSSYN-PWY', 'MET-SAM-PWY', 'METH-ACETATE-PWY', 'METHANOGENESIS-PWY', 'METHGLYUT-PWY', 'METHYLGALLATE-DEGRADATION-PWY', 'NAD-BIOSYNTHESIS-II', 'NADSYN-PWY', 'NAGLIPASYN-PWY', 'NONMEVIPP-PWY', 'NONOXIPENT-PWY', 'OANTIGEN-PWY', 'ORNARGDEG-PWY', 'ORNDEG-PWY', 'P101-PWY', 'P105-PWY', 'P108-PWY', 'P122-PWY', 'P124-PWY', 'P125-PWY', 'P161-PWY', 'P162-PWY', 'P163-PWY', 'P164-PWY', 'P184-PWY', 'P221-PWY', 'P23-PWY', 'P241-PWY', 'P261-PWY', 'P281-PWY', 'P341-PWY', 'P381-PWY', 'P4-PWY', 'P42-PWY', 'P441-PWY', 'P461-PWY', 'P562-PWY', 'PANTO-PWY', 'PANTOSYN-PWY', 'PENTOSE-P-PWY', 'PEPTIDOGLYCANSYN-PWY', 'PHOSLIPSYN-PWY', 'POLYAMINSYN3-PWY', 'POLYAMSYN-PWY', 'POLYISOPRENSYN-PWY', 'PPGPPMET-PWY', 'PROTOCATECHUATE-ORTHO-CLEAVAGE-PWY', 'PRPP-PWY', 'PWY-1269', 'PWY-1541', 'PWY-1622', 'PWY-181', 'PWY-1861', 'PWY-2941', 'PWY-2942', 'PWY-3001', 'PWY-3661', 'PWY-3781', 'PWY-4361', 'PWY-4722', 'PWY-4984', 'PWY-5005', 'PWY-5022', 'PWY-5028', 'PWY-5088', 'PWY-5097', 'PWY-5100', 'PWY-5101', 'PWY-5103', 'PWY-5104', 'PWY-5121', 'PWY-5154', 'PWY-5177', 'PWY-5178', 'PWY-5180', 'PWY-5181', 'PWY-5182', 'PWY-5188', 'PWY-5189', 'PWY-5198', 'PWY-5265', 'PWY-5304', 'PWY-5345', 'PWY-5347', 'PWY-5384', 'PWY-5415', 'PWY-5417', 'PWY-5419', 'PWY-5420', 'PWY-5430', 'PWY-5431', 'PWY-5484', 'PWY-5505', 'PWY-5507', 'PWY-5509', 'PWY-5529', 'PWY-5531', 'PWY-5532', 'PWY-5647', 'PWY-5651', 'PWY-5654', 'PWY-5655', 'PWY-5659', 'PWY-5667', 'PWY-5676', 'PWY-5677', 'PWY-5686', 'PWY-5695', 'PWY-5705', 'PWY-5741', 'PWY-5747', 'PWY-5823', 'PWY-5837', 'PWY-5838', 'PWY-5840', 'PWY-5845', 'PWY-5850', 'PWY-5855', 'PWY-5856', 'PWY-5857', 'PWY-5860', 'PWY-5861', 'PWY-5862', 'PWY-5863', 'PWY-5896', 'PWY-5897', 'PWY-5898', 'PWY-5899', 'PWY-5910', 'PWY-5913', 'PWY-5918', 'PWY-5920', 'PWY-5971', 'PWY-5973', 'PWY-5989', 'PWY-6071', 'PWY-6121', 'PWY-6122', 'PWY-6123', 'PWY-6125', 'PWY-6126', 'PWY-6141', 'PWY-6147', 'PWY-6148', 'PWY-6151', 'PWY-6163', 'PWY-6165', 'PWY-6167', 'PWY-6174', 'PWY-6182', 'PWY-6185', 'PWY-621', 'PWY-6210', 'PWY-6263', 'PWY-6269', 'PWY-6277', 'PWY-6282', 'PWY-6317', 'PWY-6338', 'PWY-6339', 'PWY-6349', 'PWY-6350', 'PWY-6353', 'PWY-6383', 'PWY-6385', 'PWY-6386', 'PWY-6387', 'PWY-6396', 'PWY-6397', 'PWY-6467', 'PWY-6470', 'PWY-6471', 'PWY-6478', 'PWY-6505', 'PWY-6507', 'PWY-6519', 'PWY-6545', 'PWY-6562', 'PWY-6572', 'PWY-6588', 'PWY-6590', 'PWY-6608', 'PWY-6609', 'PWY-6612', 'PWY-6628', 'PWY-6629', 'PWY-6630', 'PWY-6641', 'PWY-6654', 'PWY-6690', 'PWY-6700', 'PWY-6703', 'PWY-6708', 'PWY-6728', 'PWY-6731', 'PWY-6737', 'PWY-6749', 'PWY-6876', 'PWY-6891', 'PWY-6892', 'PWY-6895', 'PWY-6897', 'PWY-6901', 'PWY-6906', 'PWY-6969', 'PWY-7003', 'PWY-7007', 'PWY-7013', 'PWY-7031', 'PWY-7090', 'PWY-7094', 'PWY-7097', 'PWY-7098', 'PWY-7111', 'PWY-7159', 'PWY-7184', 'PWY-7187', 'PWY-7196', 'PWY-7197', 'PWY-7198', 'PWY-7199', 'PWY-7200', 'PWY-7208', 'PWY-7210', 'PWY-7211', 'PWY-7219', 'PWY-7220', 'PWY-7221', 'PWY-7222', 'PWY-7228', 'PWY-7229', 'PWY-7234', 'PWY-7237', 'PWY-7242', 'PWY-7254', 'PWY-7255', 'PWY-7286', 'PWY-7295', 'PWY-7315', 'PWY-7316', 'PWY-7323', 'PWY-7328', 'PWY-7332', 'PWY-7371', 'PWY-7373', 'PWY-7374', 'PWY-7376', 'PWY-7377', 'PWY-7391', 'PWY-7392', 'PWY-7400', 'PWY-7431', 'PWY-7446', 'PWY-7456', 'PWY-7527', 'PWY-7539', 'PWY-7560', 'PWY-7616', 'PWY-7663', 'PWY-7664', 'PWY-841', 'PWY-922', 'PWY0-1061', 'PWY0-1241', 'PWY0-1261', 'PWY0-1277', 'PWY0-1296', 'PWY0-1297', 'PWY0-1298', 'PWY0-1319', 'PWY0-1338', 'PWY0-1415', 'PWY0-1479', 'PWY0-1533', 'PWY0-1586', 'PWY0-162', 'PWY0-166', 'PWY0-321', 'PWY0-41', 'PWY0-42', 'PWY0-781', 'PWY0-845', 'PWY0-862', 'PWY1G-0', 'PWY490-3', 'PWY4FS-7', 'PWY4FS-8', 'PWYG-321', 'PYRIDNUCSAL-PWY', 'PYRIDNUCSYN-PWY', 'PYRIDOXSYN-PWY', 'REDCITCYC', 'RHAMCAT-PWY', 'RIBOSYN2-PWY', 'RUMP-PWY', 'SALVADEHYPOX-PWY', 'SER-GLYSYN-PWY', 'SO4ASSIM-PWY', 'SULFATE-CYS-PWY', 'TCA', 'TCA-GLYOX-BYPASS', 'TEICHOICACID-PWY', 'THISYN-PWY', 'THREOCAT-PWY', 'THRESYN-PWY', 'TRNA-CHARGING-PWY', 'TRPSYN-PWY', 'TYRFUMCAT-PWY', 'UBISYN-PWY', 'UDPNAGSYN-PWY', 'VALDEG-PWY', 'VALSYN-PWY', 'g__Methanobrevibacter_A', 'g__Methanosphaera', 'g__UBA71', 'g__Actinomyces', 'g__Actinotignum', 'g__Pauljensenia', 'g__Peptidiphaga', 'g__Varibaculum', 'g__Winkia', 'g__Alloscardovia', 'g__Bifidobacterium_388775', 'g__Scardovia', 'g__Rothia', 'g__Specibacter', 'g__Corynebacterium', 'g__Lawsonella', 'g__Atopobium', 'g__Lancefieldella', 'g__Olegusella', 'g__Parolsenella', 'g__Thermophilibacter', 'g__UBA1367', 'g__Collinsella', 'g__Adlercreutzia_404199', 'g__Adlercreutzia_404218', 'g__Adlercreutzia_404257', 'g__CAG-1427', 'g__Cryptobacterium', 'g__Eggerthella', 'g__Ellagibacter', 'g__Gordonibacter', 'g__Paraeggerthella', 'g__Raoultibacter', 'g__Senegalimassilia', 'g__Slackia_A', 'g__QAMH01', 'g__Alloprevotella', 'g__Bacteroides_H', 'g__Paraprevotella', 'g__Phocaeicola_A_858004', 'g__Prevotella', 'g__Barnesiella', 'g__CABJAA01', 'g__Coprobacter', 'g__Dysgonomonas', 'g__Seramator', 'g__Butyricimonas', 'g__Gabonibacter', 'g__Odoribacter_865974', 'g__CAG-485', 'g__Limisoma', 'g__Muribaculum', 'g__Paramuribaculum', 'g__UBA3263', 'g__Porphyromonas_A_859424', 'g__Porphyromonas_A_859426', 'g__Alistipes_A_871400', 'g__Alistipes_A_871404', 'g__Tidjanibacter', 'g__Parabacteroides_B_862066', 'g__UBA11471', 'g__Coprenecus', 'g__Cryptobacteroides', 'g__Campylobacter_B', 'g__Helicobacter_D', 'g__SIO2C1', 'f__Gastranaerophilaceae', 'g__CAG-196', 'g__Limenecus', 'g__Stercorousia', 'g__UBA2813', 'g__UBA6984', 'g__Zag111', 'g__Desulfovibrio_R_446353', 'g__Mailhella', 'g__Nitratidesulfovibrio', 'g__UBA1436', 'c__Clostridia_258483', 'f__DSM-8532', 'o__Christensenellales', 'g__Borkfalkia', 'g__UBA1259', 'f__CAG-138', 'g__Aphodomorpha', 'g__CAG-1024', 'g__PeH17', 'g__CAG-314', 'f__CAG-552', 'f__CAG-74', 'g__Limiplasma', 'g__Onthenecus', 'g__SFMI01', 'g__CAG-349', 'g__CAG-475', 'f__Christensenellaceae', 'g__Christensenella', 'g__GCA-900066905', 'g__MARSEILLE-P3954', 'g__Clostridium_P', 'g__Clostridium_T', 'f__Anaerofustaceae', 'g__Anaerofustis', 'g__Eubacterium_O_258270', 'g__Ructibacterium', 'o__Lachnospirales', 'f__Anaerotignaceae', 'g__Anaerotignum_189125', 'g__Anaerotignum_189163', 'g__CAG-274', 'f__Cellulosilyticaceae', 'f__Lachnospiraceae', 'g__Acetatifactor', 'g__AF33-28', 'g__Agathobacter_164117', 'g__AM51-8', 'g__Anaerobutyricum', 'g__Anaerostipes', 'g__Bacteroides_F', 'g__Bariatricus', 'g__Blautia_A_141780', 'g__Blautia_A_141781', 'g__Butyribacter', 'g__Butyrivibrio_A_180067', 'g__CAG-127', 'g__CAG-194', 'g__CAG-317_146760', 'g__CAG-45', 'g__CAG-632', 'g__CAG-95', 'g__Catenibacillus', 'g__Choladousia', 'g__Clostridium_AP', 'g__Clostridium_N_143832', 'g__Clostridium_Q_134516', 'g__Clostridium_Q_135822', 'g__Clostridium_Q_135853', 'g__COE1', 'g__Coprococcus_A_121497', 'g__Coprococcus_A_187866', 'g__Copromonas', 'g__Cuneatibacter', 'g__Dorea_A', 'g__Eisenbergiella', 'g__Enterocloster', 'g__Eubacterium_F', 'g__Eubacterium_G', 'g__Eubacterium_I', 'g__Eubacterium_J', 'g__Extibacter', 'g__Faecalimonas', 'g__Fimimorpha', 'g__Frisingicoccus', 'g__Fusicatenibacter', 'g__G11', 'g__Howardella', 'g__Hungatella_A_127239', 'g__Hungatella_A_128155', 'g__Johnsonella', 'g__Kineothrix', 'g__Lachnoanaerobaculum', 'g__Lachnoclostridium_A_130679', 'g__Lachnoclostridium_B', 'g__Lachnospira', 'g__Lactonifactor', 'g__Limivivens', 'g__Marvinbryantia', 'g__Massilistercora', 'g__Mediterraneibacter_A_155507', 'g__Mediterraneibacter_A_155590', 'g__Merdimonas', 'g__Merdisoma', 'g__Muricomes_149725', 'g__Oliverpabstia', 'g__Oribacterium', 'g__Paralachnospira', 'g__Porcincola', 'g__Roseburia', 'g__RUG115', 'g__Ruminococcus_B', 'g__Ruminococcus_G', 'g__Scatomonas', 'g__Schaedlerella', 'g__Sellimonas', 'g__UBA3282', 'g__UBA3402', 'g__UBA9414', 'g__UMGS1375', 'g__Velocimicrobium', 'g__Ventrimonas', 'g__Ventrisoma', 'g__VUNI01', 'g__Monoglobus', 'o__Oscillospirales', 'f__Acutalibacteraceae', 'g__Acutalibacter', 'g__Anaeromassilibacillus', 'g__Caccousia', 'g__CAG-177', 'g__CAG-217', 'g__CAG-488', 'g__CAG-964', 'g__Caproicibacterium', 'g__Caproiciproducens', 'g__Clostridium_A', 'g__Clostridium_E', 'g__Eubacterium_R', 'g__Fimenecus', 'g__Hydrogeniiclostridium', 'g__Limousia', 'g__Pseudoruminococcus_A', 'g__RUG762', 'g__Ruminococcus_E', 'g__Solibaculum', 'g__UBA1417', 'g__UBA5905', 'g__UBA737', 'g__UMGS1071', 'f__Butyricicoccaceae', 'g__Agathobaculum', 'g__Butyricicoccus_A_77030', 'g__Butyricicoccus_A_77419', 'g__Pseudobutyricicoccus', 'g__Avispirillum', 'g__QALR01', 'g__RUG13077', 'g__SFLA01', 'f__Ethanoligenenaceae', 'f__Oscillospiraceae_88309', 'g__CAG-83', 'g__Dysosmobacter', 'g__Enterenecus', 'g__ER4', 'g__Evtepia', 'g__Faecousia', 'g__Intestinimonas', 'g__Lawsonibacter', 'g__Limivicinus', 'g__Marseille-P3106', 'g__Onthomonas', 'g__Pseudoflavonifractor_80958', 'g__UBA2658', 'g__Vescimonas', 'g__WQUU01', 'g__WRMH01', 'f__QAKW01', 'g__QAKW01', 'f__Ruminococcaceae', 'g__Acetanaerobacterium', 'g__Anaerofilum_74150', 'g__Anaerotruncus', 'g__Angelakisella', 'g__Bittarella', 'g__CAG-353', 'g__Faecalibacterium', 'g__Fimivivens', 'g__Gemmiger_A_73129', 'g__Harryflintia', 'g__Hydrogenoanaerobacterium', 'g__Marseille-P2935', 'g__Massiliimalia_59888', 'g__Massiliimalia_59910', 'g__Massilioclostridium', 'g__Negativibacillus', 'g__Neobittarella', 'g__Paludicola', 'g__Phocea', 'g__Pygmaiobacter', 'g__QAMM01', 'g__Ruminiclostridium_E', 'g__Ruminococcus_C_58660', 'g__Ruminococcus_C_59129', 'g__Ruminococcus_D', 'g__Ruthenibacterium', 'g__Soleaferrea', 'g__UBA1394', 'g__UBA644', 'g__WRAI01', 'o__Peptostreptococcales', 'f__Anaerovoracaceae', 'g__Alterileibacterium', 'g__BX12', 'g__Copromorpha', 'g__Emergencia', 'g__Eubacterium_M', 'g__Eubacterium_N', 'g__Hornefia', 'g__Mogibacterium', 'g__S5-A14a', 'g__VUNA01', 'f__Peptostreptococcaceae_256921', 'g__CCUG-7971', 'g__GCA-900066495', 'g__Intestinibacter', 'g__Paraclostridium', 'g__Peptacetobacter', 'g__Peptostreptococcus', 'g__Romboutsia_B', 'g__Romboutsia_D', 'g__Terrisporobacter', 'g__SFGY01', 'g__Fastidiosipila', 'f__CAG-508', 'g__CAG-269', 'g__CAG-273', 'g__CAG-793', 'g__Merdicola', 'g__Anaerococcus', 'g__Ezakiella', 'g__Fenollaria', 'g__Finegoldia', 'g__Murdochiella_225299', 'g__Parvimonas', 'g__Peptoniphilus_A', 'g__Peptoniphilus_B_226777', 'g__Peptoniphilus_C', 'g__Urinicoccus', 'g__CAG-41', 'f__Dehalobacteriaceae', 'g__BICA1-8', 'g__Peptococcus', 'g__Acidaminococcus', 'g__Phascolarctobacterium_A', 'g__Massilibacillus', 'g__Anaerovibrio', 'g__Mitsuokella', 'g__Allisonella', 'g__Dialister', 'g__UBA5809', 'g__Caecibacter', 'g__Megasphaera_A_38685', 'g__Negativicoccus', 'g__Veillonella_A', 'f__Anoxybacillaceae', 'g__Bacillus_P_294101', 'g__Bacillus_A', 'g__Sporolactobacillus', 'f__Coprobacillaceae', 'g__Beduini', 'g__Catenibacterium', 'g__Coprobacillus', 'g__Erysipelatoclostridium', 'g__Faecalibacillus', 'g__Fimiplasma', 'g__Longibaculum', 'g__Stoquefichus', 'g__Absicoccus', 'g__Allobaculum', 'g__Amedibacillus', 'g__Amedibacterium', 'g__Bulleidia', 'g__Clostridium_AQ', 'g__Dielma', 'g__Dubosiella', 'g__Faecalicoccus', 'g__Faecalitalea', 'g__Holdemanella', 'g__Holdemania', 'g__Longicatena', 'g__Massilicoli', 'g__Merdibacter', 'g__NSJ-61', 'g__Traorella', 'g__Turicibacter', 'g__Abiotrophia', 'g__Facklamia_A_322620', 'g__Facklamia_A_322655', 'g__Granulicatella', 'g__Enterococcus_A', 'g__Enterococcus_E', 'g__Enterococcus_H_360604', 'g__Companilactobacillus', 'g__Dellaglioa', 'g__Fructilactobacillus', 'g__Lacticaseibacillus', 'g__Lactiplantibacillus', 'g__Lactobacillus', 'g__Latilactobacillus', 'g__Leuconostoc_B', 'g__Ligilactobacillus', 'g__Limosilactobacillus', 'g__Pediococcus', 'g__Weissella_A_338544', 'g__Weissella_A_338546', 'g__Lactococcus_A_343473', 'g__Lactococcus_A_346120', 'g__Streptococcus', 'g__CAG-313', 'f__UBA660', 'g__CAG-302', 'g__CAG-417', 'g__Coprosoma', 'g__Onthocola_B', 'g__RUG13038', 'g__Scybalousia', 'g__UBA3789', 'g__UBA6985', 'g__UMGS1449', 'g__UMGS872', 'g__CAG-345', 'g__Scatoplasma', 'g__Gemella', 'g__Staphylococcus', 'g__DTU012', 'g__DTU014', 'g__Cetobacterium_A', 'g__Fusobacterium_A', 'g__Fusobacterium_B', 'g__Fusobacterium_C', 'g__GWA2-37-10', 'g__Nanogingivalis', 'g__Nanosynbacter', 'g__Saccharimonas', 'f__CAG-239', 'g__51-20', 'g__CAG-267', 'g__CAJLXD01', 'g__Scatocola', 'g__CAG-977', 'g__UBA2903', 'g__Methylobacterium', 'g__Blastomonas', 'g__Comamonas_F_589250', 'g__Oxalobacter_566322', 'g__Duodenibacillus', 'g__Mesosutterella', 'g__Parasutterella', 'g__Sutterella', 'g__Neisseria_563205', 'g__Citrobacter_A_692098', 'g__Enterobacter_B_713587', 'g__Escherichia_710834', 'g__Hafnia', 'g__Klebsiella_724518', 'g__Kluyvera_724999', 'g__Kosakonia_683478', 'g__Pantoea_A_680430', 'g__Providencia_A_732258', 'g__Yersinia', 'g__Haemophilus_D_735815', 'g__Mesocricetibacter', 'g__Rodentibacter_A_734545', 'g__Succinivibrio', 'g__Pseudomonas_E_647464', 'g__Pseudomonas_E_650326', 'g__Pseudomonas_F', 'g__Pseudoxanthomonas_A_615336', 'g__Cloacibacillus', 'g__UBA11452', 'g__UBA1732', 'g__Victivallis', 'g__Merdousia', 'g__QALA01', 'g__Akkermansia', 'proton', 'Diacetyl', 'Butyrate', 'Formate', 'acetone', 'X2.methylbutyrate', 'Valeric.Acid', 'Methane', 'X1.4.Dihydroxy.2.naphthoate', 'X2.Oxoglutarate', 'Pyruvate', 'D.lactate', 'L.lactate', 'laurate', 'Phenol', 'L.Carnitine', 'Isopropanol', 'p.Cresol', 'O2', 'X1.Propanol', 'butanol', 'Propanal', 'X4.hydroxyphenylacetate', 'X.S..propane.1.2.diol', 'Propane.1.3.diol', 'R_R__2_3_Butanediol', 'Oxaloacetate', 'sulfate', 'octadecenoate..n.C18.1.', 'o.Succinylbenzoate', 'Thymidine', 'Reduced.riboflavin', 'Riboflavin', 'X2.Hydroxyphenylacetate', 'Sulfite', 'thiosulfate.2..', 'X.3.4.dihydroxyphenyl.acetate', 'Diphosphate', 'trimethylamine', 'glycine.betaine', 'Choline', 'Trimethylamine.N.oxide', 'Isochorismate', 'Inosine', 'xanthosine', 'Hypoxanthine', 'Xanthine', 'uracil', 'Uridine', 'Methanethiol', 'keto.phenylpyruvate', 'D.Arabinose', 'D.Galactose', 'Nicotinate', 'chorismate', 'tetradecanoate..n.C14.0.', 'oxalate.2..', 'X.R..3.hydroxybutyrate', 'Hydrogen.peroxide', 'Hydrogen.sulfide', 'X4.hydroxybenzoate', 'Hexadecanoate..n.C16.0.', 'octadecanoate..n.C18.0.', 'D.Fructose', 'D.ribose', 'myo.inositol', 'D.Mannitol', 'Citrate', 'Menaquinone.8', 'Glycerol', 'D.Mannose', 'X2.Oxobutanoate', 'Fumarate', 'L.malate', 'X.R..Acetoin', 'formaldehyde', 'Ethanol', 'Acetoacetate', 'methanol', 'Acetaldehyde', 'X3.methyl.2.oxopentanoate', 'Isovalerate..3.Methylbutanoate', 'phenylacetate', 'Succinate', 'Isobutyrate..2.Methylpropanoate', 'Isocaproate', 'Water', 'Hydrogen', 'Propionate', 'Acetate', 'Carbon.dioxide', 'range']\n",
      "train delta:  ['subject_id', 'randomized_group', 'age', 'sex', 'race', 'BMI', 'Weight', 'CRP', 'cholesterol', 'ghrelin', 'HDL', 'LDL', 'HbA1C', 'insulin', 'leptin', 'peptide_yy', 'tgcyd', 'homo_ir', 'DENOVOPURINE2-PWY', 'DHGLUCONATE-PYR-CAT-PWY', 'DTDPRHAMSYN-PWY', 'ECASYN-PWY', 'ENTBACSYN-PWY', 'FAO-PWY', 'FASYN-ELONG-PWY', 'FASYN-INITIAL-PWY', 'FERMENTATION-PWY', 'FOLSYN-PWY', 'FUC-RHAMCAT-PWY', 'FUCCAT-PWY', 'GALACT-GLUCUROCAT-PWY', 'GALACTARDEG-PWY', 'GALACTUROCAT-PWY', 'GALLATE-DEGRADATION-I-PWY', 'GALLATE-DEGRADATION-II-PWY', 'GLCMANNANAUT-PWY', 'GLUCARDEG-PWY', 'GLUCARGALACTSUPER-PWY', 'GLUCONEO-PWY', 'GLUCOSE1PMETAB-PWY', 'GLUCUROCAT-PWY', 'GLUTORN-PWY', 'GLYCOCAT-PWY', 'GLYCOGENSYNTH-PWY', 'GLYCOL-GLYOXDEG-PWY', 'GLYCOLYSIS', 'GLYCOLYSIS-E-D', 'GLYCOLYSIS-TCA-GLYOX-BYPASS', 'GLYOXYLATE-BYPASS', 'GOLPDLCAT-PWY', 'HCAMHPDEG-PWY', 'HEME-BIOSYNTHESIS-II', 'HEMESYN2-PWY', 'HEXITOLDEGSUPER-PWY', 'HISDEG-PWY', 'HISTSYN-PWY', 'HOMOSER-METSYN-PWY', 'HSERMETANA-PWY', 'ILEUSYN-PWY', 'KDO-NAGLIPASYN-PWY', 'KETOGLUCONMET-PWY', 'LACTOSECAT-PWY', 'LEU-DEG2-PWY', 'LPSSYN-PWY', 'MET-SAM-PWY', 'METH-ACETATE-PWY', 'METHANOGENESIS-PWY', 'METHGLYUT-PWY', 'METHYLGALLATE-DEGRADATION-PWY', 'NAD-BIOSYNTHESIS-II', 'NADSYN-PWY', 'NAGLIPASYN-PWY', 'NONMEVIPP-PWY', 'NONOXIPENT-PWY', 'OANTIGEN-PWY', 'ORNARGDEG-PWY', 'ORNDEG-PWY', 'P101-PWY', 'P105-PWY', 'P108-PWY', 'P122-PWY', 'P124-PWY', 'P125-PWY', 'P161-PWY', 'P162-PWY', 'P163-PWY', 'P164-PWY', 'P184-PWY', 'P221-PWY', 'P23-PWY', 'P241-PWY', 'P261-PWY', 'P281-PWY', 'P341-PWY', 'P381-PWY', 'P4-PWY', 'P42-PWY', 'P441-PWY', 'P461-PWY', 'P562-PWY', 'PANTO-PWY', 'PANTOSYN-PWY', 'PENTOSE-P-PWY', 'PEPTIDOGLYCANSYN-PWY', 'PHOSLIPSYN-PWY', 'POLYAMINSYN3-PWY', 'POLYAMSYN-PWY', 'POLYISOPRENSYN-PWY', 'PPGPPMET-PWY', 'PROTOCATECHUATE-ORTHO-CLEAVAGE-PWY', 'PRPP-PWY', 'PWY-1269', 'PWY-1541', 'PWY-1622', 'PWY-181', 'PWY-1861', 'PWY-2941', 'PWY-2942', 'PWY-3001', 'PWY-3661', 'PWY-3781', 'PWY-4361', 'PWY-4722', 'PWY-4984', 'PWY-5005', 'PWY-5022', 'PWY-5028', 'PWY-5088', 'PWY-5097', 'PWY-5100', 'PWY-5101', 'PWY-5103', 'PWY-5104', 'PWY-5121', 'PWY-5154', 'PWY-5177', 'PWY-5178', 'PWY-5180', 'PWY-5181', 'PWY-5182', 'PWY-5188', 'PWY-5189', 'PWY-5198', 'PWY-5265', 'PWY-5304', 'PWY-5345', 'PWY-5347', 'PWY-5384', 'PWY-5415', 'PWY-5417', 'PWY-5419', 'PWY-5420', 'PWY-5430', 'PWY-5431', 'PWY-5484', 'PWY-5505', 'PWY-5507', 'PWY-5509', 'PWY-5529', 'PWY-5531', 'PWY-5532', 'PWY-5647', 'PWY-5651', 'PWY-5654', 'PWY-5655', 'PWY-5659', 'PWY-5667', 'PWY-5676', 'PWY-5677', 'PWY-5686', 'PWY-5695', 'PWY-5705', 'PWY-5741', 'PWY-5747', 'PWY-5823', 'PWY-5837', 'PWY-5838', 'PWY-5840', 'PWY-5845', 'PWY-5850', 'PWY-5855', 'PWY-5856', 'PWY-5857', 'PWY-5860', 'PWY-5861', 'PWY-5862', 'PWY-5863', 'PWY-5896', 'PWY-5897', 'PWY-5898', 'PWY-5899', 'PWY-5910', 'PWY-5913', 'PWY-5918', 'PWY-5920', 'PWY-5971', 'PWY-5973', 'PWY-5989', 'PWY-6071', 'PWY-6121', 'PWY-6122', 'PWY-6123', 'PWY-6125', 'PWY-6126', 'PWY-6141', 'PWY-6147', 'PWY-6148', 'PWY-6151', 'PWY-6163', 'PWY-6165', 'PWY-6167', 'PWY-6174', 'PWY-6182', 'PWY-6185', 'PWY-621', 'PWY-6210', 'PWY-6263', 'PWY-6269', 'PWY-6277', 'PWY-6282', 'PWY-6317', 'PWY-6338', 'PWY-6339', 'PWY-6349', 'PWY-6350', 'PWY-6353', 'PWY-6383', 'PWY-6385', 'PWY-6386', 'PWY-6387', 'PWY-6396', 'PWY-6397', 'PWY-6467', 'PWY-6470', 'PWY-6471', 'PWY-6478', 'PWY-6505', 'PWY-6507', 'PWY-6519', 'PWY-6545', 'PWY-6562', 'PWY-6572', 'PWY-6588', 'PWY-6590', 'PWY-6608', 'PWY-6609', 'PWY-6612', 'PWY-6628', 'PWY-6629', 'PWY-6630', 'PWY-6641', 'PWY-6654', 'PWY-6690', 'PWY-6700', 'PWY-6703', 'PWY-6708', 'PWY-6728', 'PWY-6731', 'PWY-6737', 'PWY-6749', 'PWY-6876', 'PWY-6891', 'PWY-6892', 'PWY-6895', 'PWY-6897', 'PWY-6901', 'PWY-6906', 'PWY-6969', 'PWY-7003', 'PWY-7007', 'PWY-7013', 'PWY-7031', 'PWY-7090', 'PWY-7094', 'PWY-7097', 'PWY-7098', 'PWY-7111', 'PWY-7159', 'PWY-7184', 'PWY-7187', 'PWY-7196', 'PWY-7197', 'PWY-7198', 'PWY-7199', 'PWY-7200', 'PWY-7208', 'PWY-7210', 'PWY-7211', 'PWY-7219', 'PWY-7220', 'PWY-7221', 'PWY-7222', 'PWY-7228', 'PWY-7229', 'PWY-7234', 'PWY-7237', 'PWY-7242', 'PWY-7254', 'PWY-7255', 'PWY-7286', 'PWY-7295', 'PWY-7315', 'PWY-7316', 'PWY-7323', 'PWY-7328', 'PWY-7332', 'PWY-7371', 'PWY-7373', 'PWY-7374', 'PWY-7376', 'PWY-7377', 'PWY-7391', 'PWY-7392', 'PWY-7400', 'PWY-7431', 'PWY-7446', 'PWY-7456', 'PWY-7527', 'PWY-7539', 'PWY-7560', 'PWY-7616', 'PWY-7663', 'PWY-7664', 'PWY-841', 'PWY-922', 'PWY0-1061', 'PWY0-1241', 'PWY0-1261', 'PWY0-1277', 'PWY0-1296', 'PWY0-1297', 'PWY0-1298', 'PWY0-1319', 'PWY0-1338', 'PWY0-1415', 'PWY0-1479', 'PWY0-1533', 'PWY0-1586', 'PWY0-162', 'PWY0-166', 'PWY0-321', 'PWY0-41', 'PWY0-42', 'PWY0-781', 'PWY0-845', 'PWY0-862', 'PWY1G-0', 'PWY490-3', 'PWY4FS-7', 'PWY4FS-8', 'PWYG-321', 'PYRIDNUCSAL-PWY', 'PYRIDNUCSYN-PWY', 'PYRIDOXSYN-PWY', 'REDCITCYC', 'RHAMCAT-PWY', 'RIBOSYN2-PWY', 'RUMP-PWY', 'SALVADEHYPOX-PWY', 'SER-GLYSYN-PWY', 'SO4ASSIM-PWY', 'SULFATE-CYS-PWY', 'TCA', 'TCA-GLYOX-BYPASS', 'TEICHOICACID-PWY', 'THISYN-PWY', 'THREOCAT-PWY', 'THRESYN-PWY', 'TRNA-CHARGING-PWY', 'TRPSYN-PWY', 'TYRFUMCAT-PWY', 'UBISYN-PWY', 'UDPNAGSYN-PWY', 'VALDEG-PWY', 'VALSYN-PWY', 'g__Methanobrevibacter_A', 'g__Methanosphaera', 'g__UBA71', 'g__Actinomyces', 'g__Actinotignum', 'g__Pauljensenia', 'g__Peptidiphaga', 'g__Varibaculum', 'g__Winkia', 'g__Alloscardovia', 'g__Bifidobacterium_388775', 'g__Scardovia', 'g__Rothia', 'g__Specibacter', 'g__Corynebacterium', 'g__Lawsonella', 'g__Atopobium', 'g__Lancefieldella', 'g__Olegusella', 'g__Parolsenella', 'g__Thermophilibacter', 'g__UBA1367', 'g__Collinsella', 'g__Adlercreutzia_404199', 'g__Adlercreutzia_404218', 'g__Adlercreutzia_404257', 'g__CAG-1427', 'g__Cryptobacterium', 'g__Eggerthella', 'g__Ellagibacter', 'g__Gordonibacter', 'g__Paraeggerthella', 'g__Raoultibacter', 'g__Senegalimassilia', 'g__Slackia_A', 'g__QAMH01', 'g__Alloprevotella', 'g__Bacteroides_H', 'g__Paraprevotella', 'g__Phocaeicola_A_858004', 'g__Prevotella', 'g__Barnesiella', 'g__CABJAA01', 'g__Coprobacter', 'g__Dysgonomonas', 'g__Seramator', 'g__Butyricimonas', 'g__Gabonibacter', 'g__Odoribacter_865974', 'g__CAG-485', 'g__Limisoma', 'g__Muribaculum', 'g__Paramuribaculum', 'g__UBA3263', 'g__Porphyromonas_A_859424', 'g__Porphyromonas_A_859426', 'g__Alistipes_A_871400', 'g__Alistipes_A_871404', 'g__Tidjanibacter', 'g__Parabacteroides_B_862066', 'g__UBA11471', 'g__Coprenecus', 'g__Cryptobacteroides', 'g__Campylobacter_B', 'g__Helicobacter_D', 'g__SIO2C1', 'f__Gastranaerophilaceae', 'g__CAG-196', 'g__Limenecus', 'g__Stercorousia', 'g__UBA2813', 'g__UBA6984', 'g__Zag111', 'g__Desulfovibrio_R_446353', 'g__Mailhella', 'g__Nitratidesulfovibrio', 'g__UBA1436', 'c__Clostridia_258483', 'f__DSM-8532', 'o__Christensenellales', 'g__Borkfalkia', 'g__UBA1259', 'f__CAG-138', 'g__Aphodomorpha', 'g__CAG-1024', 'g__PeH17', 'g__CAG-314', 'f__CAG-552', 'f__CAG-74', 'g__Limiplasma', 'g__Onthenecus', 'g__SFMI01', 'g__CAG-349', 'g__CAG-475', 'f__Christensenellaceae', 'g__Christensenella', 'g__GCA-900066905', 'g__MARSEILLE-P3954', 'g__Clostridium_P', 'g__Clostridium_T', 'f__Anaerofustaceae', 'g__Anaerofustis', 'g__Eubacterium_O_258270', 'g__Ructibacterium', 'o__Lachnospirales', 'f__Anaerotignaceae', 'g__Anaerotignum_189125', 'g__Anaerotignum_189163', 'g__CAG-274', 'f__Cellulosilyticaceae', 'f__Lachnospiraceae', 'g__Acetatifactor', 'g__AF33-28', 'g__Agathobacter_164117', 'g__AM51-8', 'g__Anaerobutyricum', 'g__Anaerostipes', 'g__Bacteroides_F', 'g__Bariatricus', 'g__Blautia_A_141780', 'g__Blautia_A_141781', 'g__Butyribacter', 'g__Butyrivibrio_A_180067', 'g__CAG-127', 'g__CAG-194', 'g__CAG-317_146760', 'g__CAG-45', 'g__CAG-632', 'g__CAG-95', 'g__Catenibacillus', 'g__Choladousia', 'g__Clostridium_AP', 'g__Clostridium_N_143832', 'g__Clostridium_Q_134516', 'g__Clostridium_Q_135822', 'g__Clostridium_Q_135853', 'g__COE1', 'g__Coprococcus_A_121497', 'g__Coprococcus_A_187866', 'g__Copromonas', 'g__Cuneatibacter', 'g__Dorea_A', 'g__Eisenbergiella', 'g__Enterocloster', 'g__Eubacterium_F', 'g__Eubacterium_G', 'g__Eubacterium_I', 'g__Eubacterium_J', 'g__Extibacter', 'g__Faecalimonas', 'g__Fimimorpha', 'g__Frisingicoccus', 'g__Fusicatenibacter', 'g__G11', 'g__Howardella', 'g__Hungatella_A_127239', 'g__Hungatella_A_128155', 'g__Johnsonella', 'g__Kineothrix', 'g__Lachnoanaerobaculum', 'g__Lachnoclostridium_A_130679', 'g__Lachnoclostridium_B', 'g__Lachnospira', 'g__Lactonifactor', 'g__Limivivens', 'g__Marvinbryantia', 'g__Massilistercora', 'g__Mediterraneibacter_A_155507', 'g__Mediterraneibacter_A_155590', 'g__Merdimonas', 'g__Merdisoma', 'g__Muricomes_149725', 'g__Oliverpabstia', 'g__Oribacterium', 'g__Paralachnospira', 'g__Porcincola', 'g__Roseburia', 'g__RUG115', 'g__Ruminococcus_B', 'g__Ruminococcus_G', 'g__Scatomonas', 'g__Schaedlerella', 'g__Sellimonas', 'g__UBA3282', 'g__UBA3402', 'g__UBA9414', 'g__UMGS1375', 'g__Velocimicrobium', 'g__Ventrimonas', 'g__Ventrisoma', 'g__VUNI01', 'g__Monoglobus', 'o__Oscillospirales', 'f__Acutalibacteraceae', 'g__Acutalibacter', 'g__Anaeromassilibacillus', 'g__Caccousia', 'g__CAG-177', 'g__CAG-217', 'g__CAG-488', 'g__CAG-964', 'g__Caproicibacterium', 'g__Caproiciproducens', 'g__Clostridium_A', 'g__Clostridium_E', 'g__Eubacterium_R', 'g__Fimenecus', 'g__Hydrogeniiclostridium', 'g__Limousia', 'g__Pseudoruminococcus_A', 'g__RUG762', 'g__Ruminococcus_E', 'g__Solibaculum', 'g__UBA1417', 'g__UBA5905', 'g__UBA737', 'g__UMGS1071', 'f__Butyricicoccaceae', 'g__Agathobaculum', 'g__Butyricicoccus_A_77030', 'g__Butyricicoccus_A_77419', 'g__Pseudobutyricicoccus', 'g__Avispirillum', 'g__QALR01', 'g__RUG13077', 'g__SFLA01', 'f__Ethanoligenenaceae', 'f__Oscillospiraceae_88309', 'g__CAG-83', 'g__Dysosmobacter', 'g__Enterenecus', 'g__ER4', 'g__Evtepia', 'g__Faecousia', 'g__Intestinimonas', 'g__Lawsonibacter', 'g__Limivicinus', 'g__Marseille-P3106', 'g__Onthomonas', 'g__Pseudoflavonifractor_80958', 'g__UBA2658', 'g__Vescimonas', 'g__WQUU01', 'g__WRMH01', 'f__QAKW01', 'g__QAKW01', 'f__Ruminococcaceae', 'g__Acetanaerobacterium', 'g__Anaerofilum_74150', 'g__Anaerotruncus', 'g__Angelakisella', 'g__Bittarella', 'g__CAG-353', 'g__Faecalibacterium', 'g__Fimivivens', 'g__Gemmiger_A_73129', 'g__Harryflintia', 'g__Hydrogenoanaerobacterium', 'g__Marseille-P2935', 'g__Massiliimalia_59888', 'g__Massiliimalia_59910', 'g__Massilioclostridium', 'g__Negativibacillus', 'g__Neobittarella', 'g__Paludicola', 'g__Phocea', 'g__Pygmaiobacter', 'g__QAMM01', 'g__Ruminiclostridium_E', 'g__Ruminococcus_C_58660', 'g__Ruminococcus_C_59129', 'g__Ruminococcus_D', 'g__Ruthenibacterium', 'g__Soleaferrea', 'g__UBA1394', 'g__UBA644', 'g__WRAI01', 'o__Peptostreptococcales', 'f__Anaerovoracaceae', 'g__Alterileibacterium', 'g__BX12', 'g__Copromorpha', 'g__Emergencia', 'g__Eubacterium_M', 'g__Eubacterium_N', 'g__Hornefia', 'g__Mogibacterium', 'g__S5-A14a', 'g__VUNA01', 'f__Peptostreptococcaceae_256921', 'g__CCUG-7971', 'g__GCA-900066495', 'g__Intestinibacter', 'g__Paraclostridium', 'g__Peptacetobacter', 'g__Peptostreptococcus', 'g__Romboutsia_B', 'g__Romboutsia_D', 'g__Terrisporobacter', 'g__SFGY01', 'g__Fastidiosipila', 'f__CAG-508', 'g__CAG-269', 'g__CAG-273', 'g__CAG-793', 'g__Merdicola', 'g__Anaerococcus', 'g__Ezakiella', 'g__Fenollaria', 'g__Finegoldia', 'g__Murdochiella_225299', 'g__Parvimonas', 'g__Peptoniphilus_A', 'g__Peptoniphilus_B_226777', 'g__Peptoniphilus_C', 'g__Urinicoccus', 'g__CAG-41', 'f__Dehalobacteriaceae', 'g__BICA1-8', 'g__Peptococcus', 'g__Acidaminococcus', 'g__Phascolarctobacterium_A', 'g__Massilibacillus', 'g__Anaerovibrio', 'g__Mitsuokella', 'g__Allisonella', 'g__Dialister', 'g__UBA5809', 'g__Caecibacter', 'g__Megasphaera_A_38685', 'g__Negativicoccus', 'g__Veillonella_A', 'f__Anoxybacillaceae', 'g__Bacillus_P_294101', 'g__Bacillus_A', 'g__Sporolactobacillus', 'f__Coprobacillaceae', 'g__Beduini', 'g__Catenibacterium', 'g__Coprobacillus', 'g__Erysipelatoclostridium', 'g__Faecalibacillus', 'g__Fimiplasma', 'g__Longibaculum', 'g__Stoquefichus', 'g__Absicoccus', 'g__Allobaculum', 'g__Amedibacillus', 'g__Amedibacterium', 'g__Bulleidia', 'g__Clostridium_AQ', 'g__Dielma', 'g__Dubosiella', 'g__Faecalicoccus', 'g__Faecalitalea', 'g__Holdemanella', 'g__Holdemania', 'g__Longicatena', 'g__Massilicoli', 'g__Merdibacter', 'g__NSJ-61', 'g__Traorella', 'g__Turicibacter', 'g__Abiotrophia', 'g__Facklamia_A_322620', 'g__Facklamia_A_322655', 'g__Granulicatella', 'g__Enterococcus_A', 'g__Enterococcus_E', 'g__Enterococcus_H_360604', 'g__Companilactobacillus', 'g__Dellaglioa', 'g__Fructilactobacillus', 'g__Lacticaseibacillus', 'g__Lactiplantibacillus', 'g__Lactobacillus', 'g__Latilactobacillus', 'g__Leuconostoc_B', 'g__Ligilactobacillus', 'g__Limosilactobacillus', 'g__Pediococcus', 'g__Weissella_A_338544', 'g__Weissella_A_338546', 'g__Lactococcus_A_343473', 'g__Lactococcus_A_346120', 'g__Streptococcus', 'g__CAG-313', 'f__UBA660', 'g__CAG-302', 'g__CAG-417', 'g__Coprosoma', 'g__Onthocola_B', 'g__RUG13038', 'g__Scybalousia', 'g__UBA3789', 'g__UBA6985', 'g__UMGS1449', 'g__UMGS872', 'g__CAG-345', 'g__Scatoplasma', 'g__Gemella', 'g__Staphylococcus', 'g__DTU012', 'g__DTU014', 'g__Cetobacterium_A', 'g__Fusobacterium_A', 'g__Fusobacterium_B', 'g__Fusobacterium_C', 'g__GWA2-37-10', 'g__Nanogingivalis', 'g__Nanosynbacter', 'g__Saccharimonas', 'f__CAG-239', 'g__51-20', 'g__CAG-267', 'g__CAJLXD01', 'g__Scatocola', 'g__CAG-977', 'g__UBA2903', 'g__Methylobacterium', 'g__Blastomonas', 'g__Comamonas_F_589250', 'g__Oxalobacter_566322', 'g__Duodenibacillus', 'g__Mesosutterella', 'g__Parasutterella', 'g__Sutterella', 'g__Neisseria_563205', 'g__Citrobacter_A_692098', 'g__Enterobacter_B_713587', 'g__Escherichia_710834', 'g__Hafnia', 'g__Klebsiella_724518', 'g__Kluyvera_724999', 'g__Kosakonia_683478', 'g__Pantoea_A_680430', 'g__Providencia_A_732258', 'g__Yersinia', 'g__Haemophilus_D_735815', 'g__Mesocricetibacter', 'g__Rodentibacter_A_734545', 'g__Succinivibrio', 'g__Pseudomonas_E_647464', 'g__Pseudomonas_E_650326', 'g__Pseudomonas_F', 'g__Pseudoxanthomonas_A_615336', 'g__Cloacibacillus', 'g__UBA11452', 'g__UBA1732', 'g__Victivallis', 'g__Merdousia', 'g__QALA01', 'g__Akkermansia', 'proton', 'Diacetyl', 'Butyrate', 'Formate', 'acetone', 'X2.methylbutyrate', 'Valeric.Acid', 'Methane', 'X1.4.Dihydroxy.2.naphthoate', 'X2.Oxoglutarate', 'Pyruvate', 'D.lactate', 'L.lactate', 'laurate', 'Phenol', 'L.Carnitine', 'Isopropanol', 'p.Cresol', 'O2', 'X1.Propanol', 'butanol', 'Propanal', 'X4.hydroxyphenylacetate', 'X.S..propane.1.2.diol', 'Propane.1.3.diol', 'R_R__2_3_Butanediol', 'Oxaloacetate', 'sulfate', 'octadecenoate..n.C18.1.', 'o.Succinylbenzoate', 'Thymidine', 'Reduced.riboflavin', 'Riboflavin', 'X2.Hydroxyphenylacetate', 'Sulfite', 'thiosulfate.2..', 'X.3.4.dihydroxyphenyl.acetate', 'Diphosphate', 'trimethylamine', 'glycine.betaine', 'Choline', 'Trimethylamine.N.oxide', 'Isochorismate', 'Inosine', 'xanthosine', 'Hypoxanthine', 'Xanthine', 'uracil', 'Uridine', 'Methanethiol', 'keto.phenylpyruvate', 'D.Arabinose', 'D.Galactose', 'Nicotinate', 'chorismate', 'tetradecanoate..n.C14.0.', 'oxalate.2..', 'X.R..3.hydroxybutyrate', 'Hydrogen.peroxide', 'Hydrogen.sulfide', 'X4.hydroxybenzoate', 'Hexadecanoate..n.C16.0.', 'octadecanoate..n.C18.0.', 'D.Fructose', 'D.ribose', 'myo.inositol', 'D.Mannitol', 'Citrate', 'Menaquinone.8', 'Glycerol', 'D.Mannose', 'X2.Oxobutanoate', 'Fumarate', 'L.malate', 'X.R..Acetoin', 'formaldehyde', 'Ethanol', 'Acetoacetate', 'methanol', 'Acetaldehyde', 'X3.methyl.2.oxopentanoate', 'Isovalerate..3.Methylbutanoate', 'phenylacetate', 'Succinate', 'Isobutyrate..2.Methylpropanoate', 'Isocaproate', 'Water', 'Hydrogen', 'Propionate', 'Acetate', 'Carbon.dioxide', 'range']\n"
     ]
    }
   ],
   "source": [
    "print(\"test delta: \", list(test_delta.shape))\n",
    "print(\"train delta: \", list(train_delta.shape))\n",
    "print(\"test delta: \", list(test_delta.columns))\n",
    "print(\"train delta: \", list(train_delta.columns))"
   ]
  },
  {
   "cell_type": "code",
   "execution_count": 30,
   "metadata": {},
   "outputs": [
    {
     "name": "stdout",
     "output_type": "stream",
     "text": [
      "Column number for 'proton':  828\n",
      "Column number for 'Carbon.dioxide':  918\n"
     ]
    }
   ],
   "source": [
    "# Find the column numbers for \"proton\" and \"Carbon.dioxide\" in train_set\n",
    "proton_column = train_delta.columns.get_loc(\"proton\")\n",
    "carbon_dioxide_column = train_delta.columns.get_loc(\"Carbon.dioxide\")\n",
    "proton_column_test = test_delta.columns.get_loc(\"proton\")\n",
    "carbon_dioxide_column_test = test_delta.columns.get_loc(\"Carbon.dioxide\")\n",
    "print(\"Column number for 'proton': \", proton_column)\n",
    "print(\"Column number for 'Carbon.dioxide': \", carbon_dioxide_column)\n",
    "\n",
    "# Columns to KEEP for only meta \n",
    "meta_keep = ['subject_id','BMI', 'range', 'randomized_group', 'sex', 'race', 'age', 'HDL', 'homo_ir', 'insulin', 'LDL', 'tgcyd']\n",
    "only_grs = ['subject_id','BMI', 'bmi_prs', 'range']\n",
    "only_taxa = ['subject_id','BMI', 'range'] + [col for col in train_delta.columns if col.startswith(\"g__\")]\n",
    "only_micom = ['subject_id','BMI', 'range'] + [col for col in train_delta.columns if col in train_delta.columns[proton_column:carbon_dioxide_column+1]]\n",
    "# Create a set of all columns to exclude\n",
    "exclude_columns = set(meta_keep + only_grs + only_taxa + only_micom)\n",
    "only_pathway = ['subject_id', 'BMI', 'range'] + [col for col in train_delta.columns if col not in exclude_columns]\n",
    "\n",
    "\n",
    "# Columns to KEEP for only meta + GRS + taxa\n",
    "meta_grs_taxa = meta_keep + [col for col in train_delta.columns if col.startswith(\"g__\")]\n",
    "meta_grs_taxa_test = meta_keep + [col for col in test_delta.columns if col.startswith(\"g__\")]\n",
    "\n",
    "# Columns to KEEP for only meta + GRS + taxa + pathway/functional \n",
    "meta_grs_taxa_functional = meta_grs_taxa + [col for col in train_delta.columns if col not in train_delta.columns[proton_column:carbon_dioxide_column+1]]\n",
    "meta_grs_taxa_functional_test = meta_grs_taxa_test + [col for col in test_delta.columns if col not in test_delta.columns[proton_column_test:carbon_dioxide_column_test+1]]\n",
    "\n",
    "# Columns to DROP for only GRS + taxa + pathway/functional + micom (no meta)\n",
    "all_but_meta = ['randomized_group', 'sex', 'race', 'age', 'HDL', 'homo_ir', 'insulin', 'LDL', 'tgcyd', 'Weight', 'CRP', 'cholesterol', 'ghrelin', 'HbA1C', 'leptin', 'peptide_yy']"
   ]
  },
  {
   "cell_type": "markdown",
   "metadata": {},
   "source": [
    "## 2.1 Only Meta Delta "
   ]
  },
  {
   "cell_type": "code",
   "execution_count": null,
   "metadata": {},
   "outputs": [],
   "source": [
    "# Check for missing columns in train_delta\n",
    "missing_columns = [col for col in meta_keep if col not in train_delta.columns]\n",
    "\n",
    "if missing_columns:\n",
    "    print(\"Missing columns in train_delta:\", missing_columns)\n",
    "else:\n",
    "    print(\"All columns in meta_keep are present in train_delta.\")"
   ]
  },
  {
   "cell_type": "code",
   "execution_count": null,
   "metadata": {},
   "outputs": [],
   "source": [
    "train_l = train_delta[meta_keep]\n",
    "test_l = test_delta[meta_keep]\n",
    "output_dir = \"/Users/emily/projects/research/Stanislawski/comps/mutli-omic-predictions/play_scripts/2.models/merf_python/merf_plots/delta_combined\"\n",
    "r2_out = 'r2_only_meta_merf_bmi_delta_feb12.png'\n",
    "feature_imp_out = 'fi_only_meta_merf_bmi_delta_feb12.png'\n",
    "results_filename = 'merf_results_delta_only_meta_feb12.csv'\n",
    "\n",
    "print(\"---------- Select predictors for training set ----------\")\n",
    "train_set = train_l\n",
    "X = train_set.drop(['BMI','subject_id', 'range'], axis=1)\n",
    "Y = train_set['BMI'].to_numpy()\n",
    "clusters_train = train_set['subject_id'].to_numpy() \n",
    "Z = np.ones((train_set.shape[0], 1)) \n",
    "\n",
    "print(\"---------- Select predictors for test set ----------\")\n",
    "test_set = test_l\n",
    "X_new = test_set.drop(['BMI', 'subject_id', 'range'], axis=1)[X.columns].astype(X.dtypes)\n",
    "Y_new = test_set['BMI'].to_numpy()  \n",
    "clusters_new = pd.Series(test_set['subject_id'])  \n",
    "Z_new = np.ones((len(X_new), 1))\n",
    "time_new = pd.Series(test_set['range'])\n",
    "print(\"---------- Run MERF models ----------\")\n",
    "#run_merf_analysis(X, Y, Z, clusters_train, \n",
    "#                  X_new, Y_new, Z_new, clusters_new, \n",
    "#                  meta_df, output_dir, r2_out, feature_imp_out)\n",
    "\n",
    "r2_values, results_df = run_merf_analysis2(\n",
    "    X, Y, Z, clusters_train,\n",
    "    X_new, Y_new, Z_new, clusters_new,\n",
    "    long_df,\n",
    "    output_dir, r2_out, feature_imp_out, results_filename, time_new\n",
    ")"
   ]
  },
  {
   "cell_type": "markdown",
   "metadata": {},
   "source": [
    "#### Only delta taxa"
   ]
  },
  {
   "cell_type": "code",
   "execution_count": 29,
   "metadata": {},
   "outputs": [
    {
     "name": "stdout",
     "output_type": "stream",
     "text": [
      "Missing columns in train_delta: ['g__CAG.1427', 'g___2', 'g___3', 'g___4', 'g__CCUG.7971', 'g___5', 'g__CAG.269', 'g___6', 'g__CAG.273', 'g__CAG.41', 'g___7', 'g__CAG.83', 'g___8', 'g___9', 'g__CAG.177', 'g__CAG.217', 'g___10', 'g___11', 'g__CAG.274', 'g__CAG.45', 'g___1', 'g__CAG.127', 'g__CAG.95', 'g__CAG.317_146760']\n",
      "taxa_cols: ['subject_id', 'BMI', 'range', 'g__Parabacteroides_B_862066', 'g__Coprenecus', 'g__Butyricimonas', 'g__Odoribacter_865974', 'g__Alistipes_A_871404', 'g__Paramuribaculum', 'g__Alistipes_A_871400', 'g__Barnesiella', 'g__Coprobacter', 'g__Phocaeicola_A_858004', 'g__Bacteroides_H', 'g__Prevotella', 'g__Paraprevotella', 'g__Methanobrevibacter_A', 'g__DTU012', 'g__Escherichia_710834', 'g__Parasutterella', 'g__Sutterella', 'g__Haemophilus_D_735815', 'g__Enterobacter_B_713587', 'g__Akkermansia', 'g__Eubacterium_O_258270', 'g__Anaerofustis', 'g__Peptococcus', 'g__QAMH01', 'g__Senegalimassilia', 'g__Adlercreutzia_404257', 'g__Slackia_A', 'g__Eggerthella', 'g__CAG.1427', 'g__Gordonibacter', 'g__Collinsella', 'g__Holdemania', 'g__Longibaculum', 'g__Catenibacterium', 'g__Erysipelatoclostridium', 'g__Faecalibacillus', 'g___2', 'g__Holdemanella', 'g__Merdibacter', 'g__Clostridium_AQ', 'g__Amedibacillus', 'g__Longicatena', 'g__Dielma', 'g__Pauljensenia', 'g__Bifidobacterium_388775', 'g__Acidaminococcus', 'g__Phascolarctobacterium_A', 'g__Veillonella_A', 'g__Dialister', 'g__Streptococcus', 'g__Lactococcus_A_346120', 'g__Lacticaseibacillus', 'g__Turicibacter', 'g__Gemella', 'g__Limiplasma', 'g__SFMI01', 'g___3', 'g__Onthenecus', 'g__Copromorpha', 'g__BX12', 'g___4', 'g__Romboutsia_B', 'g__CCUG.7971', 'g__Intestinibacter', 'g__Terrisporobacter', 'g___5', 'g__PeH17', 'g__Clostridium_T', 'g__CAG.269', 'g___6', 'g__CAG.273', 'g__Merdicola', 'g__CAG.41', 'g__Monoglobus', 'g__ER4', 'g___7', 'g__Dysosmobacter', 'g__Vescimonas', 'g__CAG.83', 'g__Limivicinus', 'g__Faecousia', 'g__Agathobaculum', 'g__Lawsonibacter', 'g__Intestinimonas', 'g__Pseudobutyricicoccus', 'g__Evtepia', 'g__Onthomonas', 'g___8', 'g__RUG13077', 'g__Avispirillum', 'g__SFLA01', 'g__WQUU01', 'g__UMGS1071', 'g__Clostridium_A', 'g__Acutalibacter', 'g__UBA1417', 'g__Anaeromassilibacillus', 'g__Hydrogeniiclostridium', 'g__Ruminococcus_E', 'g__UBA5905', 'g__Bittarella', 'g__Fimenecus', 'g__Faecalibacterium', 'g__Gemmiger_A_73129', 'g__Ruthenibacterium', 'g__Ruminiclostridium_E', 'g___9', 'g__CAG.177', 'g__CAG.217', 'g__Angelakisella', 'g__Massilioclostridium', 'g__Phocea', 'g__Anaerotruncus', 'g__Negativibacillus', 'g__UBA1394', 'g__Ruminococcus_C_58660', 'g__Ruminococcus_D', 'g___10', 'g___11', 'g__Anaerotignum_189125', 'g__CAG.274', 'g__Anaerobutyricum', 'g__Eubacterium_I', 'g__Roseburia', 'g__Agathobacter_164117', 'g__Butyribacter', 'g__RUG115', 'g__CAG.45', 'g__Eubacterium_J', 'g__Eubacterium_G', 'g__Howardella', 'g___1', 'g__Anaerostipes', 'g__Coprococcus_A_121497', 'g__CAG.127', 'g__Lachnospira', 'g__Eubacterium_F', 'g__Coprococcus_A_187866', 'g__Catenibacillus', 'g__Frisingicoccus', 'g__Merdisoma', 'g__Marvinbryantia', 'g__Blautia_A_141780', 'g__Blautia_A_141781', 'g__UMGS1375', 'g__Limivivens', 'g__UBA9414', 'g__Oliverpabstia', 'g__Mediterraneibacter_A_155507', 'g__COE1', 'g__Acetatifactor', 'g__CAG.95', 'g__Hungatella_A_128155', 'g__Hungatella_A_127239', 'g__Sellimonas', 'g__Eisenbergiella', 'g__UBA3402', 'g__Scatomonas', 'g__Clostridium_Q_134516', 'g__Faecalimonas', 'g__Ruminococcus_B', 'g__Clostridium_AP', 'g__CAG.317_146760', 'g__Bariatricus', 'g__Muricomes_149725', 'g__Lachnoclostridium_B', 'g__Schaedlerella', 'g__Mediterraneibacter_A_155590', 'g__Lactonifactor', 'g__Enterocloster', 'g__Ventrisoma', 'g__Clostridium_Q_135853', 'g__Clostridium_Q_135822', 'g__Porcincola', 'g__Copromonas', 'g__Ventrimonas', 'g__Dorea_A', 'g__Massilistercora']\n"
     ]
    }
   ],
   "source": [
    "# Check for missing columns in train_delta\n",
    "missing_columns = [col for col in only_taxa if col not in train_delta.columns]\n",
    "\n",
    "if missing_columns:\n",
    "    print(\"Missing columns in train_delta:\", missing_columns)\n",
    "    print(\"taxa_cols:\" , only_taxa)\n",
    "else:\n",
    "    print(\"All columns in only_taxa are present in train_delta.\")"
   ]
  },
  {
   "cell_type": "code",
   "execution_count": 31,
   "metadata": {},
   "outputs": [
    {
     "name": "stdout",
     "output_type": "stream",
     "text": [
      "---------- Select predictors for training set ----------\n",
      "---------- Select predictors for test set ----------\n",
      "---------- Run MERF models ----------\n",
      "First 5 columns for the lowest mean_mse_score:\n",
      "n_estimators         500.00\n",
      "max_depth               NaN\n",
      "min_samples_split      0.15\n",
      "max_iter               2.00\n",
      "n_splits               5.00\n",
      "Name: 31, dtype: float64\n",
      "First 5 columns for the lowest mean_prev_score:\n",
      "n_estimators         500.00\n",
      "max_depth               NaN\n",
      "min_samples_split      0.15\n",
      "max_iter               2.00\n",
      "n_splits               5.00\n",
      "Name: 31, dtype: float64\n",
      "First 5 columns for the lowest mean_ptev_score:\n",
      "n_estimators         100.00\n",
      "max_depth               NaN\n",
      "min_samples_split      0.05\n",
      "max_iter               2.00\n",
      "n_splits              10.00\n",
      "Name: 2, dtype: float64\n",
      "\n",
      "First 5 columns for the highest oob_score:\n",
      "n_estimators         1000.00\n",
      "max_depth                NaN\n",
      "min_samples_split       0.05\n",
      "max_iter               10.00\n",
      "n_splits               10.00\n",
      "Name: 41, dtype: float64\n",
      "---------- RUN MSE Model WITH TUNING PARAMETERS 🌱 ----------\n"
     ]
    },
    {
     "name": "stderr",
     "output_type": "stream",
     "text": [
      "INFO     [merf.py:307] Training GLL is 319.60143282393034 at iteration 1.\n",
      "INFO     [merf.py:307] Training GLL is 321.87021708652566 at iteration 2.\n",
      "/Users/emily/projects/research/Stanislawski/comps/mutli-omic-predictions/play_scripts/2.models/merf_python/em_utils.py:773: FutureWarning: The behavior of DataFrame concatenation with empty or all-NA entries is deprecated. In a future version, this will no longer exclude empty or all-NA columns when determining the result dtypes. To retain the old behavior, exclude the relevant entries before the concat operation.\n",
      "  results_df = pd.concat([results_df, new_row], ignore_index=True)\n"
     ]
    },
    {
     "name": "stdout",
     "output_type": "stream",
     "text": [
      "---------- RUN Prev Model WITH TUNING PARAMETERS 🌱 ----------\n"
     ]
    },
    {
     "name": "stderr",
     "output_type": "stream",
     "text": [
      "INFO     [merf.py:307] Training GLL is 322.29901121764505 at iteration 1.\n",
      "INFO     [merf.py:307] Training GLL is 326.94851956807497 at iteration 2.\n"
     ]
    },
    {
     "name": "stdout",
     "output_type": "stream",
     "text": [
      "---------- RUN PTEV Model WITH TUNING PARAMETERS 🌱 ----------\n"
     ]
    },
    {
     "name": "stderr",
     "output_type": "stream",
     "text": [
      "INFO     [merf.py:307] Training GLL is 214.901641295122 at iteration 1.\n",
      "INFO     [merf.py:307] Training GLL is 216.5066553827554 at iteration 2.\n"
     ]
    },
    {
     "name": "stdout",
     "output_type": "stream",
     "text": [
      "---------- RUN OOB Model WITH TUNING PARAMETERS 🌱 ----------\n"
     ]
    },
    {
     "name": "stderr",
     "output_type": "stream",
     "text": [
      "INFO     [merf.py:307] Training GLL is 216.1101802603639 at iteration 1.\n",
      "INFO     [merf.py:307] Training GLL is 224.04504807770678 at iteration 2.\n",
      "INFO     [merf.py:307] Training GLL is 220.59466165604167 at iteration 3.\n",
      "INFO     [merf.py:307] Training GLL is 214.14742669604956 at iteration 4.\n",
      "INFO     [merf.py:307] Training GLL is 205.83211509440181 at iteration 5.\n",
      "INFO     [merf.py:307] Training GLL is 196.73605488231084 at iteration 6.\n",
      "INFO     [merf.py:307] Training GLL is 188.80924751210938 at iteration 7.\n",
      "INFO     [merf.py:307] Training GLL is 186.21827650043969 at iteration 8.\n",
      "INFO     [merf.py:307] Training GLL is 180.8219242082825 at iteration 9.\n",
      "INFO     [merf.py:307] Training GLL is 176.85062153170122 at iteration 10.\n"
     ]
    },
    {
     "data": {
      "image/png": "[encoded data removed]",
      "text/plain": [
       "<Figure size 800x500 with 1 Axes>"
      ]
     },
     "metadata": {},
     "output_type": "display_data"
    },
    {
     "name": "stdout",
     "output_type": "stream",
     "text": [
      "Best model: Prev Model with R-squared: 0.0632\n"
     ]
    }
   ],
   "source": [
    "train_l = train_delta[only_taxa]\n",
    "test_l = test_delta[only_taxa]\n",
    "output_dir = \"/Users/emily/projects/research/Stanislawski/comps/mutli-omic-predictions/play_scripts/2.models/merf_python/merf_plots/delta_combined\"\n",
    "r2_out = 'r2_meta_taxa_merf_bmi_delta_feb12.png'\n",
    "feature_imp_out = 'fi_meta_taxa_merf_bmi_delta_feb12.png'\n",
    "results_filename = 'merf_results_delta_only_meta_taxa_feb12.csv'\n",
    "\n",
    "print(\"---------- Select predictors for training set ----------\")\n",
    "train_set = train_l\n",
    "X = train_set.drop(['BMI','subject_id', 'range'], axis=1)\n",
    "Y = train_set['BMI'].to_numpy()\n",
    "clusters_train = train_set['subject_id'].to_numpy() \n",
    "Z = np.ones((train_set.shape[0], 1)) \n",
    "\n",
    "print(\"---------- Select predictors for test set ----------\")\n",
    "test_set = test_l\n",
    "X_new = test_set.drop(['BMI', 'subject_id', 'range'], axis=1)[X.columns].astype(X.dtypes)\n",
    "Y_new = test_set['BMI'].to_numpy()  \n",
    "clusters_new = pd.Series(test_set['subject_id'])  \n",
    "Z_new = np.ones((len(X_new), 1))\n",
    "time_new = pd.Series(test_set['range'])\n",
    "print(\"---------- Run MERF models ----------\")\n",
    "#run_merf_analysis(X, Y, Z, clusters_train, \n",
    "#                  X_new, Y_new, Z_new, clusters_new, \n",
    "#                  meta_df, output_dir, r2_out, feature_imp_out)\n",
    "\n",
    "r2_values, results_df = run_merf_analysis2(\n",
    "    X, Y, Z, clusters_train,\n",
    "    X_new, Y_new, Z_new, clusters_new,\n",
    "    long_df,\n",
    "    output_dir, r2_out, feature_imp_out, results_filename, time_new\n",
    ")"
   ]
  },
  {
   "cell_type": "markdown",
   "metadata": {},
   "source": [
    "#### Only micom delta"
   ]
  },
  {
   "cell_type": "code",
   "execution_count": 32,
   "metadata": {},
   "outputs": [
    {
     "name": "stdout",
     "output_type": "stream",
     "text": [
      "---------- Select predictors for training set ----------\n",
      "---------- Select predictors for test set ----------\n",
      "---------- Run MERF models ----------\n",
      "First 5 columns for the lowest mean_mse_score:\n",
      "n_estimators         500.00\n",
      "max_depth               NaN\n",
      "min_samples_split      0.15\n",
      "max_iter               2.00\n",
      "n_splits               5.00\n",
      "Name: 31, dtype: float64\n",
      "First 5 columns for the lowest mean_prev_score:\n",
      "n_estimators         500.00\n",
      "max_depth               NaN\n",
      "min_samples_split      0.15\n",
      "max_iter               2.00\n",
      "n_splits               5.00\n",
      "Name: 31, dtype: float64\n",
      "First 5 columns for the lowest mean_ptev_score:\n",
      "n_estimators         100.00\n",
      "max_depth               NaN\n",
      "min_samples_split      0.05\n",
      "max_iter               2.00\n",
      "n_splits              10.00\n",
      "Name: 2, dtype: float64\n",
      "\n",
      "First 5 columns for the highest oob_score:\n",
      "n_estimators         1000.00\n",
      "max_depth                NaN\n",
      "min_samples_split       0.05\n",
      "max_iter               10.00\n",
      "n_splits               10.00\n",
      "Name: 41, dtype: float64\n",
      "---------- RUN MSE Model WITH TUNING PARAMETERS 🌱 ----------\n"
     ]
    },
    {
     "name": "stderr",
     "output_type": "stream",
     "text": [
      "INFO     [merf.py:307] Training GLL is 363.4831539994173 at iteration 1.\n",
      "INFO     [merf.py:307] Training GLL is 370.394489331707 at iteration 2.\n",
      "/Users/emily/projects/research/Stanislawski/comps/mutli-omic-predictions/play_scripts/2.models/merf_python/em_utils.py:773: FutureWarning: The behavior of DataFrame concatenation with empty or all-NA entries is deprecated. In a future version, this will no longer exclude empty or all-NA columns when determining the result dtypes. To retain the old behavior, exclude the relevant entries before the concat operation.\n",
      "  results_df = pd.concat([results_df, new_row], ignore_index=True)\n"
     ]
    },
    {
     "name": "stdout",
     "output_type": "stream",
     "text": [
      "---------- RUN Prev Model WITH TUNING PARAMETERS 🌱 ----------\n"
     ]
    },
    {
     "name": "stderr",
     "output_type": "stream",
     "text": [
      "INFO     [merf.py:307] Training GLL is 361.8602094103708 at iteration 1.\n",
      "INFO     [merf.py:307] Training GLL is 369.65377920332725 at iteration 2.\n"
     ]
    },
    {
     "name": "stdout",
     "output_type": "stream",
     "text": [
      "---------- RUN PTEV Model WITH TUNING PARAMETERS 🌱 ----------\n"
     ]
    },
    {
     "name": "stderr",
     "output_type": "stream",
     "text": [
      "INFO     [merf.py:307] Training GLL is 244.65215186568005 at iteration 1.\n",
      "INFO     [merf.py:307] Training GLL is 253.9600886656807 at iteration 2.\n"
     ]
    },
    {
     "name": "stdout",
     "output_type": "stream",
     "text": [
      "---------- RUN OOB Model WITH TUNING PARAMETERS 🌱 ----------\n"
     ]
    },
    {
     "name": "stderr",
     "output_type": "stream",
     "text": [
      "INFO     [merf.py:307] Training GLL is 248.68143638549375 at iteration 1.\n",
      "INFO     [merf.py:307] Training GLL is 250.05840342073452 at iteration 2.\n",
      "INFO     [merf.py:307] Training GLL is 242.6050176589454 at iteration 3.\n",
      "INFO     [merf.py:307] Training GLL is 237.7428719464437 at iteration 4.\n",
      "INFO     [merf.py:307] Training GLL is 228.99501290541147 at iteration 5.\n",
      "INFO     [merf.py:307] Training GLL is 223.29593371109488 at iteration 6.\n",
      "INFO     [merf.py:307] Training GLL is 217.8742408901731 at iteration 7.\n",
      "INFO     [merf.py:307] Training GLL is 211.9205864509648 at iteration 8.\n",
      "INFO     [merf.py:307] Training GLL is 208.2796648050587 at iteration 9.\n",
      "INFO     [merf.py:307] Training GLL is 202.86492619427267 at iteration 10.\n"
     ]
    },
    {
     "data": {
      "image/png": "[encoded data removed]",
      "text/plain": [
       "<Figure size 800x500 with 1 Axes>"
      ]
     },
     "metadata": {},
     "output_type": "display_data"
    },
    {
     "name": "stdout",
     "output_type": "stream",
     "text": [
      "Best model: MSE Model with R-squared: -0.0127\n"
     ]
    }
   ],
   "source": [
    "train_l = train_delta[only_micom]\n",
    "test_l = test_delta[only_micom]\n",
    "output_dir = \"/Users/emily/projects/research/Stanislawski/comps/mutli-omic-predictions/play_scripts/2.models/merf_python/merf_plots/delta_combined\"\n",
    "r2_out = 'r2_micom_merf_bmi_delta_feb12.png'\n",
    "feature_imp_out = 'fi_micom_merf_bmi_delta_feb12.png'\n",
    "results_filename = 'merf_results_delta_only_micom_feb12.csv'\n",
    "\n",
    "print(\"---------- Select predictors for training set ----------\")\n",
    "train_set = train_l\n",
    "X = train_set.drop(['BMI','subject_id', 'range'], axis=1)\n",
    "Y = train_set['BMI'].to_numpy()\n",
    "clusters_train = train_set['subject_id'].to_numpy() \n",
    "Z = np.ones((train_set.shape[0], 1)) \n",
    "\n",
    "print(\"---------- Select predictors for test set ----------\")\n",
    "test_set = test_l\n",
    "X_new = test_set.drop(['BMI', 'subject_id', 'range'], axis=1)[X.columns].astype(X.dtypes)\n",
    "Y_new = test_set['BMI'].to_numpy()  \n",
    "clusters_new = pd.Series(test_set['subject_id'])  \n",
    "Z_new = np.ones((len(X_new), 1))\n",
    "time_new = pd.Series(test_set['range'])\n",
    "print(\"---------- Run MERF models ----------\")\n",
    "#run_merf_analysis(X, Y, Z, clusters_train, \n",
    "#                  X_new, Y_new, Z_new, clusters_new, \n",
    "#                  meta_df, output_dir, r2_out, feature_imp_out)\n",
    "\n",
    "r2_values, results_df = run_merf_analysis2(\n",
    "    X, Y, Z, clusters_train,\n",
    "    X_new, Y_new, Z_new, clusters_new,\n",
    "    long_df,\n",
    "    output_dir, r2_out, feature_imp_out, results_filename, time_new\n",
    ")"
   ]
  },
  {
   "cell_type": "markdown",
   "metadata": {},
   "source": [
    "#### Only pathway delta"
   ]
  },
  {
   "cell_type": "code",
   "execution_count": 36,
   "metadata": {},
   "outputs": [
    {
     "name": "stdout",
     "output_type": "stream",
     "text": [
      "---------- Select predictors for training set ----------\n",
      "---------- Select predictors for test set ----------\n",
      "---------- Run MERF models ----------\n",
      "First 5 columns for the lowest mean_mse_score:\n",
      "n_estimators         500.00\n",
      "max_depth               NaN\n",
      "min_samples_split      0.15\n",
      "max_iter               2.00\n",
      "n_splits               5.00\n",
      "Name: 31, dtype: float64\n",
      "First 5 columns for the lowest mean_prev_score:\n",
      "n_estimators         500.00\n",
      "max_depth               NaN\n",
      "min_samples_split      0.15\n",
      "max_iter               2.00\n",
      "n_splits               5.00\n",
      "Name: 31, dtype: float64\n",
      "First 5 columns for the lowest mean_ptev_score:\n",
      "n_estimators         100.00\n",
      "max_depth               NaN\n",
      "min_samples_split      0.05\n",
      "max_iter               2.00\n",
      "n_splits              10.00\n",
      "Name: 2, dtype: float64\n",
      "\n",
      "First 5 columns for the highest oob_score:\n",
      "n_estimators         1000.00\n",
      "max_depth                NaN\n",
      "min_samples_split       0.05\n",
      "max_iter               10.00\n",
      "n_splits               10.00\n",
      "Name: 41, dtype: float64\n",
      "---------- RUN MSE Model WITH TUNING PARAMETERS 🌱 ----------\n"
     ]
    },
    {
     "name": "stderr",
     "output_type": "stream",
     "text": [
      "INFO     [merf.py:307] Training GLL is 331.6949153028858 at iteration 1.\n",
      "INFO     [merf.py:307] Training GLL is 352.08434754219803 at iteration 2.\n",
      "/Users/emily/projects/research/Stanislawski/comps/mutli-omic-predictions/play_scripts/2.models/merf_python/em_utils.py:773: FutureWarning: The behavior of DataFrame concatenation with empty or all-NA entries is deprecated. In a future version, this will no longer exclude empty or all-NA columns when determining the result dtypes. To retain the old behavior, exclude the relevant entries before the concat operation.\n",
      "  results_df = pd.concat([results_df, new_row], ignore_index=True)\n"
     ]
    },
    {
     "name": "stdout",
     "output_type": "stream",
     "text": [
      "---------- RUN Prev Model WITH TUNING PARAMETERS 🌱 ----------\n"
     ]
    },
    {
     "name": "stderr",
     "output_type": "stream",
     "text": [
      "INFO     [merf.py:307] Training GLL is 332.17334423367356 at iteration 1.\n",
      "INFO     [merf.py:307] Training GLL is 351.34890850214754 at iteration 2.\n"
     ]
    },
    {
     "name": "stdout",
     "output_type": "stream",
     "text": [
      "---------- RUN PTEV Model WITH TUNING PARAMETERS 🌱 ----------\n"
     ]
    },
    {
     "name": "stderr",
     "output_type": "stream",
     "text": [
      "INFO     [merf.py:307] Training GLL is 233.3777846158318 at iteration 1.\n",
      "INFO     [merf.py:307] Training GLL is 231.45460342379866 at iteration 2.\n"
     ]
    },
    {
     "name": "stdout",
     "output_type": "stream",
     "text": [
      "---------- RUN OOB Model WITH TUNING PARAMETERS 🌱 ----------\n"
     ]
    },
    {
     "name": "stderr",
     "output_type": "stream",
     "text": [
      "INFO     [merf.py:307] Training GLL is 219.55911910966782 at iteration 1.\n",
      "INFO     [merf.py:307] Training GLL is 230.48761730694872 at iteration 2.\n",
      "INFO     [merf.py:307] Training GLL is 230.46801514490494 at iteration 3.\n",
      "INFO     [merf.py:307] Training GLL is 223.67310284420898 at iteration 4.\n",
      "INFO     [merf.py:307] Training GLL is 220.5105852333944 at iteration 5.\n",
      "INFO     [merf.py:307] Training GLL is 217.20282887245216 at iteration 6.\n",
      "INFO     [merf.py:307] Training GLL is 211.0976677358132 at iteration 7.\n",
      "INFO     [merf.py:307] Training GLL is 204.63723641909837 at iteration 8.\n",
      "INFO     [merf.py:307] Training GLL is 202.97734190820103 at iteration 9.\n",
      "INFO     [merf.py:307] Training GLL is 198.2326136153693 at iteration 10.\n"
     ]
    },
    {
     "data": {
      "image/png": "[encoded data removed]",
      "text/plain": [
       "<Figure size 800x500 with 1 Axes>"
      ]
     },
     "metadata": {},
     "output_type": "display_data"
    },
    {
     "name": "stdout",
     "output_type": "stream",
     "text": [
      "Best model: OOB Model with R-squared: 0.0281\n"
     ]
    }
   ],
   "source": [
    "train_l = train_delta[only_pathway]\n",
    "test_l = test_delta[only_pathway]\n",
    "output_dir = \"/Users/emily/projects/research/Stanislawski/comps/mutli-omic-predictions/play_scripts/2.models/merf_python/merf_plots/delta_combined\"\n",
    "r2_out = 'r2_pathway_merf_bmi_delta_feb12.png'\n",
    "feature_imp_out = 'fi_pathway_merf_bmi_delta_feb12.png'\n",
    "results_filename = 'merf_results_delta_only_pathway_feb12.csv'\n",
    "\n",
    "print(\"---------- Select predictors for training set ----------\")\n",
    "train_set = train_l\n",
    "X = train_set.drop(['BMI','subject_id', 'range', 'Weight', 'CRP', 'cholesterol', 'ghrelin', 'HbA1C', 'leptin', 'peptide_yy'], axis=1)\n",
    "Y = train_set['BMI'].to_numpy()\n",
    "clusters_train = train_set['subject_id'].to_numpy() \n",
    "Z = np.ones((train_set.shape[0], 1)) \n",
    "\n",
    "print(\"---------- Select predictors for test set ----------\")\n",
    "test_set = test_l\n",
    "X_new = test_set.drop(['BMI', 'subject_id', 'range', 'Weight', 'CRP', 'cholesterol', 'ghrelin', 'HbA1C', 'leptin', 'peptide_yy'], axis=1)[X.columns].astype(X.dtypes)\n",
    "Y_new = test_set['BMI'].to_numpy()  \n",
    "clusters_new = pd.Series(test_set['subject_id'])  \n",
    "Z_new = np.ones((len(X_new), 1))\n",
    "time_new = pd.Series(test_set['range'])\n",
    "print(\"---------- Run MERF models ----------\")\n",
    "#run_merf_analysis(X, Y, Z, clusters_train, \n",
    "#                  X_new, Y_new, Z_new, clusters_new, \n",
    "#                  meta_df, output_dir, r2_out, feature_imp_out)\n",
    "\n",
    "r2_values, results_df = run_merf_analysis2(\n",
    "    X, Y, Z, clusters_train,\n",
    "    X_new, Y_new, Z_new, clusters_new,\n",
    "    long_df,\n",
    "    output_dir, r2_out, feature_imp_out, results_filename, time_new\n",
    ")"
   ]
  },
  {
   "cell_type": "code",
   "execution_count": null,
   "metadata": {},
   "outputs": [],
   "source": []
  },
  {
   "cell_type": "markdown",
   "metadata": {},
   "source": [
    "## 2.2 Ok now include meta and taxa deltas \n",
    "\n",
    "There is no change in bmi_prs so that is not included in the delta models "
   ]
  },
  {
   "cell_type": "code",
   "execution_count": null,
   "metadata": {},
   "outputs": [],
   "source": [
    "train_l = train_delta[meta_grs_taxa]\n",
    "test_l = test_delta[meta_grs_taxa_test]\n",
    "output_dir = \"/Users/emily/projects/research/Stanislawski/comps/mutli-omic-predictions/play_scripts/2.models/merf_python/merf_plots/delta_combined\"\n",
    "r2_out = 'r2_meta_taxa_merf_bmi_delta_feb12.png'\n",
    "feature_imp_out = 'fi_meta_taxa_merf_bmi_delta_feb12.png'\n",
    "results_filename = 'merf_results_delta_only_meta_taxa_feb12.csv'\n",
    "\n",
    "print(\"---------- Select predictors for training set ----------\")\n",
    "train_set = train_l\n",
    "X = train_set.drop(['BMI','subject_id', 'range'], axis=1)\n",
    "Y = train_set['BMI'].to_numpy()\n",
    "clusters_train = train_set['subject_id'].to_numpy() \n",
    "Z = np.ones((train_set.shape[0], 1)) \n",
    "\n",
    "print(\"---------- Select predictors for test set ----------\")\n",
    "test_set = test_l\n",
    "X_new = test_set.drop(['BMI', 'subject_id', 'range'], axis=1)[X.columns].astype(X.dtypes)\n",
    "Y_new = test_set['BMI'].to_numpy()  \n",
    "clusters_new = pd.Series(test_set['subject_id'])  \n",
    "Z_new = np.ones((len(X_new), 1))\n",
    "time_new = pd.Series(test_set['range'])\n",
    "\n",
    "print(\"---------- Run MERF models ----------\")\n",
    "#run_merf_analysis(X, Y, Z, clusters_train, \n",
    "#                  X_new, Y_new, Z_new, clusters_new, \n",
    "#                  meta_df, output_dir, r2_out, feature_imp_out)\n",
    "r2_values, results_df = run_merf_analysis2(\n",
    "    X, Y, Z, clusters_train,\n",
    "    X_new, Y_new, Z_new, clusters_new,\n",
    "    delta_df,\n",
    "    output_dir, r2_out, feature_imp_out, results_filename, time_new\n",
    ")"
   ]
  },
  {
   "cell_type": "markdown",
   "metadata": {},
   "source": [
    "## 2.3 Delta variables Meta + Taxa + Functional"
   ]
  },
  {
   "cell_type": "code",
   "execution_count": 18,
   "metadata": {},
   "outputs": [],
   "source": [
    "train_l = train_delta[meta_grs_taxa]\n",
    "test_l = test_delta[meta_grs_taxa_test]\n",
    "\n",
    "# Check for duplicate column names in train_l and test_l\n",
    "duplicates_train = train_l.columns[train_l.columns.duplicated()].unique()\n",
    "duplicates_test = test_l.columns[test_l.columns.duplicated()].unique()\n",
    "\n",
    "# Count of duplicate columns\n",
    "num_duplicates_train = len(duplicates_train)\n",
    "num_duplicates_test = len(duplicates_test)\n",
    "\n",
    "# Remove duplicate columns from train_l\n",
    "train_l = train_l.loc[:, ~train_l.columns.duplicated()]\n",
    "test_l = test_l.loc[:, ~test_l.columns.duplicated()]"
   ]
  },
  {
   "cell_type": "code",
   "execution_count": null,
   "metadata": {},
   "outputs": [],
   "source": [
    "train_l = train_delta[meta_grs_taxa_functional]\n",
    "test_l = test_delta[meta_grs_taxa_functional_test]\n",
    "\n",
    "# Check for duplicate column names in train_l and test_l\n",
    "duplicates_train = train_l.columns[train_l.columns.duplicated()].unique()\n",
    "duplicates_test = test_l.columns[test_l.columns.duplicated()].unique()\n",
    "\n",
    "# Count of duplicate columns\n",
    "num_duplicates_train = len(duplicates_train)\n",
    "num_duplicates_test = len(duplicates_test)\n",
    "\n",
    "# Remove duplicate columns from train_l\n",
    "train_l = train_l.loc[:, ~train_l.columns.duplicated()]\n",
    "test_l = test_l.loc[:, ~test_l.columns.duplicated()]\n",
    "\n",
    "print(\"Columns in train_l DataFrame:\")\n",
    "print(list(train_l.columns))  # Convert to list for better readability"
   ]
  },
  {
   "cell_type": "code",
   "execution_count": null,
   "metadata": {},
   "outputs": [],
   "source": [
    "train_l = train_delta[meta_grs_taxa_functional]\n",
    "test_l = test_delta[meta_grs_taxa_functional_test]\n",
    "\n",
    "# Check for duplicate column names in train_l and test_l\n",
    "duplicates_train = train_l.columns[train_l.columns.duplicated()].unique()\n",
    "duplicates_test = test_l.columns[test_l.columns.duplicated()].unique()\n",
    "\n",
    "# Count of duplicate columns\n",
    "num_duplicates_train = len(duplicates_train)\n",
    "num_duplicates_test = len(duplicates_test)\n",
    "\n",
    "# Remove duplicate columns from train_l\n",
    "train_l = train_l.loc[:, ~train_l.columns.duplicated()]\n",
    "test_l = test_l.loc[:, ~test_l.columns.duplicated()]\n",
    "\n",
    "output_dir = \"/Users/emily/projects/research/Stanislawski/comps/mutli-omic-predictions/play_scripts/2.models/merf_python/merf_plots/delta_combined\"\n",
    "r2_out = 'r2_meta_taxa_functional_merf_bmi_delta_feb12.png'\n",
    "feature_imp_out = 'fi_meta_taxa_functional_merf_bmi_delta_feb12.png'\n",
    "results_filename = 'merf_results_delta_meta_taxa_functional_feb12.csv'\n",
    "\n",
    "print(\"---------- Select predictors for training set ----------\")\n",
    "train_set = train_l\n",
    "X = train_set.drop(['BMI','Weight','subject_id', 'CRP', 'cholesterol', 'ghrelin', 'HbA1C', 'leptin', 'peptide_yy', 'range'], axis=1)\n",
    "Y = train_set['BMI'].to_numpy()\n",
    "clusters_train = train_set['subject_id'].to_numpy() \n",
    "Z = np.ones((train_set.shape[0], 1)) \n",
    "\n",
    "print(\"---------- Select predictors for test set ----------\")\n",
    "test_set = test_l\n",
    "X_new = test_set.drop(['BMI', 'Weight','subject_id', 'CRP', 'cholesterol', 'ghrelin', 'HbA1C', 'leptin', 'peptide_yy', 'range'], axis=1)[X.columns].astype(X.dtypes)\n",
    "Y_new = test_set['BMI'].to_numpy()  \n",
    "clusters_new = pd.Series(test_set['subject_id'])  \n",
    "Z_new = np.ones((len(X_new), 1))\n",
    "time_new = pd.Series(test_set['range'])\n",
    "print(\"---------- Run MERF models ----------\")\n",
    "#run_merf_analysis(X, Y, Z, clusters_train, \n",
    "#                  X_new, Y_new, Z_new, clusters_new, \n",
    "#                  meta_df, output_dir, r2_out, feature_imp_out)\n",
    "r2_values, results_df = run_merf_analysis2(\n",
    "    X, Y, Z, clusters_train,\n",
    "    X_new, Y_new, Z_new, clusters_new,\n",
    "    delta_df,\n",
    "    output_dir, r2_out, feature_imp_out, results_filename, time_new\n",
    ")"
   ]
  },
  {
   "cell_type": "markdown",
   "metadata": {},
   "source": [
    "## 2.4 all delta omics except meta "
   ]
  },
  {
   "cell_type": "code",
   "execution_count": null,
   "metadata": {},
   "outputs": [],
   "source": [
    "\n",
    "\n",
    "print(\"test longitudinal: \", list(test_l.columns))\n",
    "print(\"train longitudinal: \", list(train_l.columns))\n",
    "\n",
    "# Print duplicated column names in test_l\n",
    "duplicates_test = test_l.columns[test_l.columns.duplicated()].unique()\n",
    "print(\"Duplicated columns in test_l: \", duplicates_test)\n",
    "\n",
    "# Print duplicated column names in train_l\n",
    "duplicates_train = train_l.columns[train_l.columns.duplicated()].unique()\n",
    "print(\"Duplicated columns in train_l: \", duplicates_train)\n"
   ]
  },
  {
   "cell_type": "code",
   "execution_count": null,
   "metadata": {},
   "outputs": [],
   "source": [
    "train_l = train_delta.drop(all_but_meta, axis = 1)\n",
    "test_l = test_delta.drop(all_but_meta, axis = 1)\n",
    "\n",
    "output_dir = \"/Users/emily/projects/research/Stanislawski/comps/mutli-omic-predictions/play_scripts/2.models/merf_python/merf_plots/delta_combined\"\n",
    "r2_out = 'r2_taxa_functional_micom_merf_bmi_delta_feb12.png'\n",
    "feature_imp_out = 'fi_taxa_functional_micom_merf_bmi_delta_feb12.png'\n",
    "results_filename = 'merf_results_delta_taxa_functional_micom_feb12.csv'\n",
    "\n",
    "print(\"---------- Select predictors for training set ----------\")\n",
    "train_set = train_l\n",
    "X = train_set.drop(['BMI','subject_id', 'range'], axis=1)\n",
    "Y = train_set['BMI'].to_numpy()\n",
    "clusters_train = train_set['subject_id'].to_numpy() \n",
    "Z = np.ones((train_set.shape[0], 1)) \n",
    "\n",
    "print(\"---------- Select predictors for test set ----------\")\n",
    "test_set = test_l\n",
    "X_new = test_set.drop(['BMI','subject_id', 'range'], axis=1)[X.columns].astype(X.dtypes)\n",
    "Y_new = test_set['BMI'].to_numpy()  \n",
    "clusters_new = pd.Series(test_set['subject_id'])  \n",
    "Z_new = np.ones((len(X_new), 1))\n",
    "time_new = pd.Series(test_set['range'])\n",
    "\n",
    "print(\"---------- Run MERF models ----------\")\n",
    "#run_merf_analysis(X, Y, Z, clusters_train, \n",
    "#                  X_new, Y_new, Z_new, clusters_new, \n",
    "#                  meta_df, output_dir, r2_out, feature_imp_out)\n",
    "\n",
    "r2_values, results_df = run_merf_analysis2(\n",
    "    X, Y, Z, clusters_train,\n",
    "    X_new, Y_new, Z_new, clusters_new,\n",
    "    delta_df,\n",
    "    output_dir, r2_out, feature_imp_out, results_filename, time_new\n",
    ")"
   ]
  },
  {
   "cell_type": "markdown",
   "metadata": {},
   "source": [
    "## 2.5 all delta varibles "
   ]
  },
  {
   "cell_type": "code",
   "execution_count": null,
   "metadata": {},
   "outputs": [],
   "source": [
    "output_dir = \"/Users/emily/projects/research/Stanislawski/comps/mutli-omic-predictions/play_scripts/2.models/merf_python/merf_plots/delta_combined\"\n",
    "r2_out = 'r2_all_omic_merf_bmi_delta_feb12.png'\n",
    "feature_imp_out = 'fi_all_omic_merf_bmi_delta_feb12.png'\n",
    "results_filename = 'merf_results_delta_all_omic_feb12.csv'\n",
    "\n",
    "print(\"---------- Select predictors for training set ----------\")\n",
    "train_set = train_delta\n",
    "X = train_set.drop(['BMI','Weight','subject_id', 'CRP', 'cholesterol', 'ghrelin', 'HbA1C', 'leptin', 'peptide_yy', 'range'], axis=1)\n",
    "Y = train_set['BMI'].to_numpy()\n",
    "clusters_train = train_set['subject_id'].to_numpy() \n",
    "Z = np.ones((train_set.shape[0], 1)) \n",
    "\n",
    "print(\"---------- Select predictors for test set ----------\")\n",
    "test_set = test_delta\n",
    "X_new = test_set.drop(['BMI','Weight','subject_id', 'CRP', 'cholesterol', 'ghrelin', 'HbA1C', 'leptin', 'peptide_yy', 'range'], axis=1)[X.columns].astype(X.dtypes)\n",
    "Y_new = test_set['BMI'].to_numpy()  \n",
    "clusters_new = pd.Series(test_set['subject_id'])  \n",
    "Z_new = np.ones((len(X_new), 1))\n",
    "time_new = pd.Series(test_set['range'])\n",
    "print(\"---------- Run MERF models ----------\")\n",
    "#run_merf_analysis(X, Y, Z, clusters_train, \n",
    "#                  X_new, Y_new, Z_new, clusters_new, \n",
    "#                  meta_df, output_dir, r2_out, feature_imp_out)\n",
    "\n",
    "#r2_delta_run5 = run_merf_analysis2(X, Y, Z, clusters_train,\n",
    "#                             X_new, Y_new, Z_new, clusters_new, \n",
    "#                             delta_df, output_dir, r2_out, feature_imp_out)\n",
    "\n",
    "r2_values, results_df = run_merf_analysis2(\n",
    "    X, Y, Z, clusters_train,\n",
    "    X_new, Y_new, Z_new, clusters_new,\n",
    "    delta_df,\n",
    "    output_dir, r2_out, feature_imp_out, results_filename, time_new\n",
    ")\n",
    "\n",
    "# Now you can use `top_features` for plotting or further analysis"
   ]
  },
  {
   "cell_type": "markdown",
   "metadata": {},
   "source": [
    "# Comparing all models above "
   ]
  },
  {
   "cell_type": "code",
   "execution_count": 21,
   "metadata": {},
   "outputs": [],
   "source": [
    "def compare_r2_values1(model_names, *r2_dicts):\n",
    "    # Create a DataFrame to hold the R-squared values\n",
    "    r2_comparison_df = pd.DataFrame(r2_dicts).T\n",
    "    r2_comparison_df.columns = model_names \n",
    "    print(r2_comparison_df.head(10).columns[:10])\n",
    "    print(r2_comparison_df.head(10))\n",
    "\n",
    "    # Sort the DataFrame by R-squared values in descending order\n",
    "    r2_comparison_df = r2_comparison_df.sort_values(by=model_names, ascending=False)\n",
    "\n",
    "    # Set up the bar positions\n",
    "    num_runs = len(r2_comparison_df.columns)\n",
    "    bar_width = 0.15  # Width of each bar\n",
    "    x = np.arange(len(r2_comparison_df))  # The label locations\n",
    "\n",
    "    # Create a color map for the models\n",
    "    colors = plt.cm.viridis(np.linspace(0, 1, num_runs))\n",
    "\n",
    "    # Create bars for each model in each run\n",
    "    for i in range(num_runs):\n",
    "        plt.bar(x + i * bar_width, r2_comparison_df.iloc[:, i],  # Use plt.bar for vertical bars\n",
    "                 width=bar_width, label=model_names[i], color=colors[i])  # Use model names for labels\n",
    "\n",
    "    # Add labels, title, and custom x-axis tick labels\n",
    "    plt.ylabel('R-squared Value')  # Change to y-label\n",
    "    plt.title('R-squared Comparison of Different Runs')\n",
    "    plt.ylim(0, 0.55)  # Assuming R-squared values are between 0 and 1\n",
    "    plt.xticks(x + bar_width * (num_runs - 1) / 2, r2_comparison_df.index)  # Center the x-ticks\n",
    "    plt.legend(title='Models', loc='upper right', fontsize=10, \n",
    "               title_fontsize=10, ncol = 2, frameon=False)\n",
    "    plt.tight_layout()\n",
    "    plt.show()"
   ]
  },
  {
   "cell_type": "code",
   "execution_count": null,
   "metadata": {},
   "outputs": [],
   "source": [
    "model_names = ['Only Meta', 'Meta GRS', \n",
    "               'Meta GRS Tax', 'Meta GRS Tax Func', \n",
    "               'All But Meta', 'All Omic']\n",
    "compare_r2_values1(model_names, r2_run1, r2_run2, r2_run3, r2_run4, r2_run5, r2_run6)"
   ]
  },
  {
   "cell_type": "code",
   "execution_count": null,
   "metadata": {},
   "outputs": [],
   "source": [
    "model_names_delta = ['Only Meta Delta',  \n",
    "               'Meta Tax Delta', 'Meta Tax Func Delta', \n",
    "               'All But Meta Delta', 'All Omic Delta']\n",
    "compare_r2_values1(model_names_delta, r2_delta_run1, r2_delta_run2, \n",
    "                   r2_delta_run3, r2_delta_run4, r2_delta_run5)"
   ]
  },
  {
   "cell_type": "code",
   "execution_count": 38,
   "metadata": {},
   "outputs": [],
   "source": [
    "import seaborn as sns\n",
    "import matplotlib.pyplot as plt\n",
    "\n",
    "def compare_r2_values2(model_names, *r2_dicts):\n",
    "    # Create a DataFrame to hold the R-squared values\n",
    "    r2_comparison_df = pd.DataFrame(r2_dicts).T\n",
    "    r2_comparison_df.columns = model_names \n",
    "\n",
    "    # Reset index to use row names as a column\n",
    "    r2_comparison_df.reset_index(inplace=True)\n",
    "    r2_comparison_df = r2_comparison_df.melt(id_vars='index', var_name='Model', value_name='R-squared')\n",
    "\n",
    "    # Rename the 'index' column to 'Metric' for clarity\n",
    "    r2_comparison_df.rename(columns={'index': 'Metric'}, inplace=True)\n",
    "\n",
    "    # Create the bar plot\n",
    "    plt.figure(figsize=(12, 8))\n",
    "    sns.barplot(data=r2_comparison_df, x='Model', y='R-squared', hue='Metric', palette='viridis')\n",
    "\n",
    "    # Add labels and title\n",
    "    plt.ylabel('R-squared Value')\n",
    "    plt.title('R-squared Comparison of Different Models')\n",
    "    plt.ylim(0.0, 0.35)  # Adjust y-limits based on your data range\n",
    "    plt.xticks(rotation=45, ha='right')\n",
    "    plt.legend(title='hyperparameter optimization settings', loc='upper right', fontsize=9, \n",
    "               title_fontsize=8, ncol = 4, frameon=False)\n",
    "    plt.tight_layout()\n",
    "    plt.show()"
   ]
  },
  {
   "cell_type": "code",
   "execution_count": null,
   "metadata": {},
   "outputs": [],
   "source": [
    "model_names = ['Only Meta', 'Meta GRS', \n",
    "               'Meta GRS Tax', 'Meta GRS Tax Func', \n",
    "               'All But Meta', 'All Omic']\n",
    "compare_r2_values2(model_names, r2_run1, r2_run2, r2_run3, r2_run4, r2_run5, r2_run6)"
   ]
  },
  {
   "cell_type": "code",
   "execution_count": null,
   "metadata": {},
   "outputs": [],
   "source": [
    "compare_r2_values2(model_names_delta, r2_delta_run1, r2_delta_run2, \n",
    "                   r2_delta_run3, r2_delta_run4, r2_delta_run5)"
   ]
  },
  {
   "cell_type": "code",
   "execution_count": null,
   "metadata": {},
   "outputs": [],
   "source": [
    "model_names_both = ['Only Meta Long', 'Meta GRS Long', \n",
    "               'Meta GRS Tax Long', 'Meta GRS Tax Func Long', \n",
    "               'All But Meta Long', 'All Omic Long', \n",
    "               'Only Meta Delta', 'Meta Tax Delta', 'Meta Tax Func Delta', \n",
    "               'All But Meta Delta', 'All Omic Delta']\n",
    "\n",
    "compare_r2_values2(model_names_both, \n",
    "                   r2_run1, r2_run2, r2_run3, r2_run4, r2_run5, r2_run6,\n",
    "                   r2_delta_run1, r2_delta_run2, \n",
    "                   r2_delta_run3, r2_delta_run4, r2_delta_run5)"
   ]
  },
  {
   "cell_type": "code",
   "execution_count": 28,
   "metadata": {},
   "outputs": [],
   "source": [
    "import seaborn as sns\n",
    "import matplotlib.pyplot as plt\n",
    "\n",
    "def compare_r2_values3(model_names, *r2_dicts):\n",
    "    # Create a DataFrame to hold the R-squared values\n",
    "    r2_comparison_df = pd.DataFrame(r2_dicts).T\n",
    "    r2_comparison_df.columns = model_names \n",
    "\n",
    "    # Reset index to use row names as a column\n",
    "    r2_comparison_df.reset_index(inplace=True)\n",
    "    r2_comparison_df = r2_comparison_df.melt(id_vars='index', var_name='Model', value_name='R-squared')\n",
    "\n",
    "    # Rename the 'index' column to 'Metric' for clarity\n",
    "    r2_comparison_df.rename(columns={'index': 'Metric'}, inplace=True)\n",
    "\n",
    "    # Sort the DataFrame by 'Model' and then by 'R-squared' in descending order\n",
    "    r2_comparison_df = r2_comparison_df.sort_values(by=['Metric', 'R-squared'], ascending=[True, False])\n",
    "\n",
    "    # Create the bar plot\n",
    "    plt.figure(figsize=(12, 8))\n",
    "    sns.barplot(data=r2_comparison_df, x='Model', y='R-squared', hue='Metric', palette='viridis')\n",
    "\n",
    "    # Add labels and title\n",
    "    plt.ylabel('R-squared Value')\n",
    "    plt.title('R-squared Comparison of Different Models')\n",
    "    plt.ylim(-0.2, 0.2)  # Adjust y-limits based on your data range\n",
    "    plt.xticks(rotation=45, ha='right')\n",
    "    plt.legend(title='hyperparameter optimization settings', loc='upper right', fontsize=10, \n",
    "               title_fontsize=10, ncol = 2, frameon=False)\n",
    "    plt.tight_layout()\n",
    "    plt.show()"
   ]
  },
  {
   "cell_type": "code",
   "execution_count": null,
   "metadata": {},
   "outputs": [],
   "source": [
    "model_names = ['Only Meta', 'Meta GRS', \n",
    "               'Meta GRS Tax', 'Meta GRS Tax Func', \n",
    "               'All But Meta', 'All Omic']\n",
    "compare_r2_values3(model_names, r2_run1, r2_run2, r2_run3, r2_run4, r2_run5, r2_run6)"
   ]
  },
  {
   "cell_type": "code",
   "execution_count": null,
   "metadata": {},
   "outputs": [],
   "source": [
    "import pandas as pd\n",
    "import matplotlib.pyplot as plt\n",
    "\n",
    "def plot_feature_importance(dataframes):\n",
    "    # Combine all DataFrames into a single DataFrame\n",
    "    combined_df = pd.concat(dataframes)\n",
    "    \n",
    "    # Create a plot\n",
    "    plt.figure(figsize=(12, 8))\n",
    "    bar_width = 0.08\n",
    "    # Plot each model's feature importance\n",
    "    for model in combined_df['Model'].unique():\n",
    "        model_data = combined_df[combined_df['Model'] == model]\n",
    "        plt.bar(model_data['Feature'], model_data['Importance'], label=model)\n",
    "    \n",
    "    # Add labels and title\n",
    "    plt.xlabel('Features', fontsize=10)\n",
    "    plt.ylabel('Importance', fontsize=10)\n",
    "    plt.title('Feature Importance by Model')\n",
    "    plt.xticks(rotation=45, fontsize=9)\n",
    "    plt.legend(title='Model', fontsize=9, ncol=2)\n",
    "    plt.tight_layout()\n",
    "    \n",
    "    # Show the plot\n",
    "    plt.show()\n",
    "\n",
    "# Example usage\n",
    "feature_importance_dfs = [fi_run1, fi_run2, fi_run3, fi_run4, fi_run5, fi_run6, fi_delta_run1, fi_delta_run2]\n",
    "plot_feature_importance(feature_importance_dfs)"
   ]
  },
  {
   "cell_type": "code",
   "execution_count": 78,
   "metadata": {},
   "outputs": [],
   "source": [
    "def plot_feature_importance(dataframes):\n",
    "    combined_df = pd.concat(dataframes) # Combine all DataFrames \n",
    "    # Filter features with importance < 0.02 & negative importance in all models\n",
    "    combined_df = combined_df[(combined_df['Importance'] >= 0.02) & \n",
    "                          (combined_df.groupby('Feature')['Importance'].transform('min') >= 0)]\n",
    "    plt.figure(figsize=(12, 8))\n",
    "    bar_width = 0.15 \n",
    "    num_models = len(combined_df['Model'].unique())\n",
    "    \n",
    "    # Get unique features\n",
    "    features = combined_df['Feature'].unique()\n",
    "    x = np.arange(len(features))  # The label locations\n",
    "\n",
    "    # Plot each model's feature importance\n",
    "    for i, model in enumerate(combined_df['Model'].unique()):\n",
    "        model_data = combined_df[combined_df['Model'] == model]\n",
    "        \n",
    "        # Ensure heights only includes matching features\n",
    "        heights = model_data[model_data['Feature'].isin(features)]['Importance'] \n",
    "        model_x = x[:len(heights)] + i * bar_width  # Adjust x-coordinates for the current model\n",
    "        plt.bar(model_x, heights, width=bar_width, label=model)\n",
    "    \n",
    "    # Add labels and title\n",
    "    plt.xlabel('Features', fontsize=10)\n",
    "    plt.ylabel('Importance', fontsize=10)\n",
    "    plt.title('Feature Importance by Model')\n",
    "    plt.xticks(x + bar_width * (num_models - 1) / 2, features, rotation=45, fontsize=9)  # Center x-ticks\n",
    "    plt.legend(title='Model', fontsize=9, ncol=2)\n",
    "    plt.tight_layout()\n",
    "    plt.ylim(0, 0.6)\n",
    "    plt.show()"
   ]
  },
  {
   "cell_type": "code",
   "execution_count": 81,
   "metadata": {},
   "outputs": [],
   "source": [
    "def plot_feature_importance(dataframes, model_labels):\n",
    "    combined_df = pd.concat(dataframes)  # Combine all DataFrames \n",
    "    # Filter features with importance < 0.02 & negative importance in all models\n",
    "    combined_df = combined_df[(combined_df['Importance'] >= 0.02) & \n",
    "                              (combined_df.groupby('Feature')['Importance'].transform('min') >= 0)]\n",
    "    plt.figure(figsize=(12, 8))\n",
    "    bar_width = 0.15 \n",
    "    num_models = len(combined_df['Model'].unique())\n",
    "    \n",
    "    # Get unique features\n",
    "    features = combined_df['Feature'].unique()\n",
    "    x = np.arange(len(features))  # The label locations\n",
    "\n",
    "    # Plot each model's feature importance\n",
    "    for i, model in enumerate(combined_df['Model'].unique()):\n",
    "        model_data = combined_df[combined_df['Model'] == model]\n",
    "        \n",
    "        # Ensure heights only includes matching features\n",
    "        heights = model_data[model_data['Feature'].isin(features)]['Importance'] \n",
    "        model_x = x[:len(heights)] + i * bar_width  # Adjust x-coordinates for the current model\n",
    "        plt.bar(model_x, heights, width=bar_width, label=model_labels[i])  # Use custom labels\n",
    "    \n",
    "    # Add labels and title\n",
    "    plt.xlabel('Features', fontsize=10)\n",
    "    plt.ylabel('Importance', fontsize=10)\n",
    "    plt.title('Feature Importance by Model')\n",
    "    plt.xticks(x + bar_width * (num_models - 1) / 2, features, rotation=45, fontsize=9)  # Center x-ticks\n",
    "    plt.legend(title='Model', fontsize=9, ncol=2)\n",
    "    plt.tight_layout()\n",
    "    plt.ylim(0, 0.6)\n",
    "    plt.show()"
   ]
  },
  {
   "cell_type": "code",
   "execution_count": 83,
   "metadata": {},
   "outputs": [],
   "source": [
    "model_labels_long = ['Only Meta', 'Meta GRS', 'Meta GRS Tax', 'Meta GRS Tax Func', 'All But Meta', 'All Omic']\n",
    "model_labels_delta = ['Only Meta Delta', 'Meta Tax Delta', 'Meta Tax Func Delta', 'All But Meta Delta', 'All Omic Delta']\n",
    "fi_long = [fi_run1, fi_run2, fi_run3, fi_run3, fi_run4, fi_run5, fi_run6]\n",
    "fi_delta = [fi_delta_run1, fi_delta_run2, fi_delta_run3, fi_delta_run4, fi_delta_run5]"
   ]
  },
  {
   "cell_type": "code",
   "execution_count": null,
   "metadata": {},
   "outputs": [],
   "source": [
    "plot_feature_importance(fi_long, model_labels_long)"
   ]
  },
  {
   "cell_type": "code",
   "execution_count": null,
   "metadata": {},
   "outputs": [],
   "source": [
    "plot_feature_importance(fi_delta, model_labels_delta)"
   ]
  }
 ],
 "metadata": {
  "kernelspec": {
   "display_name": "researchVenv",
   "language": "python",
   "name": "python3"
  },
  "language_info": {
   "codemirror_mode": {
    "name": "ipython",
    "version": 3
   },
   "file_extension": ".py",
   "mimetype": "text/x-python",
   "name": "python",
   "nbconvert_exporter": "python",
   "pygments_lexer": "ipython3",
   "version": "3.13.0"
  }
 },
 "nbformat": 4,
 "nbformat_minor": 2
}
