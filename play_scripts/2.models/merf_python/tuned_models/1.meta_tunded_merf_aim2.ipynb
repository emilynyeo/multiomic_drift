{
 "cells": [
  {
   "cell_type": "code",
   "execution_count": 1,
   "metadata": {},
   "outputs": [],
   "source": [
    "import pandas as pd\n",
    "import os\n",
    "import re\n",
    "import sys\n",
    "import numpy as np\n",
    "from merf import MERF\n",
    "import matplotlib.pyplot as plt\n",
    "import seaborn as sns\n",
    "import itertools \n",
    "sns.set_context(\"poster\")\n",
    "from sklearn.ensemble import RandomForestRegressor\n",
    "import matplotlib as mpl\n",
    "mpl.rcParams['figure.figsize'] = (11,8)\n",
    "from merf.merf import MERF\n",
    "from sklearn.model_selection import train_test_split, KFold\n",
    "from merf.viz import plot_merf_training_stats\n",
    "\n",
    "current_dir = os.getcwd() # Get the current working directory\n",
    "parent_dir = os.path.abspath(os.path.join(current_dir, '..'))\n",
    "sys.path.append(parent_dir)\n",
    "from em_utils import *"
   ]
  },
  {
   "cell_type": "markdown",
   "metadata": {},
   "source": [
    "This code is using MERF, with parameters selected from fine tunining in a seperate script. "
   ]
  },
  {
   "cell_type": "code",
   "execution_count": null,
   "metadata": {},
   "outputs": [],
   "source": [
    "# Create output directory if it doesn't exist\n",
    "output_dir = \"/Users/emily/projects/research/Stanislawski/comps/mutli-omic-predictions/play_scripts/2.models/merf_python/merf_plots/1.clinical\"\n",
    "df_dir = \"/Users/emily/projects/research/Stanislawski/comps/mutli-omic-predictions/play_scripts/2.models/merf_python/merf_dfs/\"\n",
    "os.makedirs(output_dir, exist_ok=True)\n",
    "\n",
    "print(\"---------- Read metadata ----------\")\n",
    "m1_dir = \"/Users/emily/projects/research/Stanislawski/comps/mutli-omic-predictions/data/clinical/transformed/aim2\"\n",
    "test = read_data(m1_dir, \"a2_test_samples_standard_clinical.csv\")\n",
    "train = read_data(m1_dir, \"a2_train_samples_standard_clinical.csv\")\n",
    "full = read_data(m1_dir, \"a2_meta_Transformed_standard_clinical.csv\")\n",
    "full_raw = read_data(m1_dir, \"a2_meta_not_Transformed_standard_clinical.csv\")\n",
    "\n",
    "# Apply the function to each meta dataset\n",
    "print(\"---------- Convert metadata to long format ----------\")\n",
    "full_long = make_long(full_raw)\n",
    "full_long['x_t'] = full_long['subject_id'].astype(str) + '.' + full_long['time'].astype(str)\n",
    "\n",
    "train_long = make_long(train)\n",
    "train_long['x_t'] = train_long['subject_id'].astype(str) + '.' + train_long['time'].astype(str)\n",
    "\n",
    "test_long = make_long(test)\n",
    "test_long['x_t'] = test_long['subject_id'].astype(str) + '.' + test_long['time'].astype(str)\n",
    "\n",
    "# Drop cols\n",
    "columns_to_drop = ['Unnamed: 0', 'cohort_number', 'record_id', 'x_t']\n",
    "full_long = full_long.drop([col for col in columns_to_drop if col in full.columns], axis=1)\n",
    "train_long = train_long.drop([col for col in columns_to_drop if col in train_long.columns], axis=1)\n",
    "test_long = test_long.drop([col for col in columns_to_drop if col in test_long.columns], axis=1)\n",
    "\n",
    "# Drop NA \n",
    "test_long = test_long.dropna()\n",
    "train_long = train_long.dropna()\n",
    "full_long = full_long.dropna()\n",
    "raw_train = full_long[full_long['subject_id'].isin(train_long['subject_id'])]\n",
    "raw_test = full_long[full_long['subject_id'].isin(test_long['subject_id'])]"
   ]
  },
  {
   "cell_type": "code",
   "execution_count": 3,
   "metadata": {},
   "outputs": [],
   "source": [
    "#clin_dir = \"/Users/emily/projects/research/Stanislawski/comps/mutli-omic-predictions/data/clinical/transformed/aim2/merf_ready\"\n",
    "#test_long.to_csv(os.path.join(clin_dir, 'test_clinical_no_na.csv'), index=False)  \n",
    "#train_long.to_csv(os.path.join(clin_dir, 'train_clinical_no_na.csv'), index=False)  \n",
    "#full_long.to_csv(os.path.join(clin_dir, 'full_train_clinical.csv'), index=False)  \n",
    "#raw_train.to_csv(os.path.join(clin_dir, 'raw__train_clinical.csv'), index=False)  \n",
    "#raw_test.to_csv(os.path.join(clin_dir, 'raw_test_clinical.csv'), index=False)"
   ]
  },
  {
   "cell_type": "markdown",
   "metadata": {},
   "source": [
    "### Create test and training sets "
   ]
  },
  {
   "cell_type": "code",
   "execution_count": null,
   "metadata": {},
   "outputs": [],
   "source": [
    "print(\"---------- Select predictors for Basic Raw training set ----------\")\n",
    "train_set = raw_train\n",
    "X = train_set.drop(['outcome_BMI_fnl', 'subject_id'], axis=1)\n",
    "#X = X.drop(columns=['Unnamed: 0_tax', 'x_t'], errors='ignore')\n",
    "Y = train_set[['outcome_BMI_fnl']]\n",
    "Y = Y['outcome_BMI_fnl'].to_numpy() # Convert Y to numeric array\n",
    "clusters_train = train_set['subject_id'].to_numpy() # Get ID variables\n",
    "Z = np.ones((train_set.shape[0], 1)) # Create random effects matrix with ones\n",
    "time = train_set['time'].astype(float).to_numpy() # Get time values as numeric array \n",
    "\n",
    "# Check the final columns\n",
    "print(\"Final columns after drop:\", X.columns.to_list())\n",
    "print(\"X train values:\", train_set['outcome_BMI_fnl'])\n",
    "\n",
    "print(\"---------- Select predictors for Basic Raw test set ----------\")\n",
    "test_set = raw_test\n",
    "X_new = test_set.drop(['outcome_BMI_fnl', 'subject_id'], axis=1)\n",
    "X_new = X_new[X.columns]  # Reorder and select columns to match training set\n",
    "X_new = X_new.astype(X.dtypes)  # Ensure data types match\n",
    "Y_new = test_set['outcome_BMI_fnl'].to_numpy()  # Convert Y to numeric array\n",
    "clusters_new = pd.Series(test_set['subject_id'])  # Convert to pandas Series\n",
    "# Create random effects matrix with ones\n",
    "Z_new = np.ones((len(X_new), 1))\n",
    "time_new = test_set['time'].astype(float).to_numpy()  # Convert time values to numeric array"
   ]
  },
  {
   "cell_type": "markdown",
   "metadata": {},
   "source": [
    "# Read in hyperparameter file "
   ]
  },
  {
   "cell_type": "code",
   "execution_count": null,
   "metadata": {},
   "outputs": [],
   "source": [
    "# Read the CSV file\n",
    "df = pd.read_csv('/Users/emily/projects/research/Stanislawski/comps/mutli-omic-predictions/play_scripts/2.models/merf_python/merf_dfs/1.clinical/dec5_maggie_params_tuning_raw_clinical_oob.csv')\n",
    "\n",
    "# Find the row with the lowest mean_mse_score\n",
    "lowest_mse_row = df.loc[df['mean_mse_score'].idxmin()]\n",
    "print(\"First 5 columns for the lowest mean_mse_score:\")\n",
    "print(lowest_mse_row.iloc[:5])\n",
    "\n",
    "# Find the row with the lowest mean_prev_score\n",
    "lowest_prev_row = df.loc[df['mean_prev'].idxmin()]\n",
    "print(\"First 5 columns for the lowest mean_prev_score:\")\n",
    "print(lowest_prev_row.iloc[:5])\n",
    "\n",
    "# Find the row with the lowest mean_prev_score\n",
    "lowest_ptev_row = df.loc[df['mean_ptev'].idxmin()]\n",
    "print(\"First 5 columns for the lowest mean_ptev_score:\")\n",
    "print(lowest_ptev_row.iloc[:5])\n",
    "\n",
    "# Find the row with the highest oob_score\n",
    "highest_oob_row = df.loc[df['oob_score'].idxmax()]\n",
    "print(\"\\nFirst 5 columns for the highest oob_score:\")\n",
    "print(highest_oob_row.iloc[:5])"
   ]
  },
  {
   "cell_type": "code",
   "execution_count": null,
   "metadata": {},
   "outputs": [],
   "source": [
    "# Read the CSV file\n",
    "df = pd.read_csv('/Users/emily/projects/research/Stanislawski/comps/mutli-omic-predictions/play_scripts/2.models/merf_python/merf_dfs/1.clinical/fine_tuning_results_raw_clinical.csv')\n",
    "\n",
    "# Extract the rows for the parameter grids\n",
    "lowest_mse_row = df.loc[df['mean_mse_score'].idxmin()]\n",
    "lowest_prev_row = df.loc[df['mean_prev'].idxmin()]\n",
    "lowest_ptev_row = df.loc[df['mean_ptev'].idxmin()]\n",
    "highest_oob_row = df.loc[df['oob_score'].idxmax()]\n",
    "\n",
    "# Create parameter grids from the extracted rows\n",
    "best_mse_param_grid = {\n",
    "    'n_estimators': [int(lowest_mse_row['n_estimators'])],\n",
    "    'max_depth': [int(lowest_mse_row['max_depth'])],\n",
    "    'min_samples_split': [int(lowest_mse_row['min_samples_split'])],\n",
    "    'max_iter': [int(lowest_mse_row['max_iter'])],\n",
    "    'n_splits': [int(lowest_mse_row['n_splits'])]\n",
    "}\n",
    "print(\"Best MSE Parameter Grid:\")\n",
    "print(\"n_estimators:\", best_mse_param_grid['n_estimators'][0])\n",
    "print(\"max_depth:\", best_mse_param_grid['max_depth'][0])\n",
    "print(\"min_samples_split:\", best_mse_param_grid['min_samples_split'][0])\n",
    "print(\"max_iter:\", best_mse_param_grid['max_iter'][0])\n",
    "print(\"n_splits:\", best_mse_param_grid['n_splits'][0])\n",
    "\n",
    "lowest_prev_param_grid = {\n",
    "    'n_estimators': [int(lowest_prev_row['n_estimators'])],\n",
    "    'max_depth': [int(lowest_prev_row['max_depth'])],\n",
    "    'min_samples_split': [int(lowest_prev_row['min_samples_split'])],\n",
    "    'max_iter': [int(lowest_prev_row['max_iter'])],\n",
    "    'n_splits': [int(lowest_prev_row['n_splits'])]\n",
    "}\n",
    "print(\"\\nLowest Prev Parameter Grid:\")\n",
    "print(\"n_estimators:\", lowest_prev_param_grid['n_estimators'][0])\n",
    "print(\"max_depth:\", lowest_prev_param_grid['max_depth'][0])\n",
    "print(\"min_samples_split:\", lowest_prev_param_grid['min_samples_split'][0])\n",
    "print(\"max_iter:\", lowest_prev_param_grid['max_iter'][0])\n",
    "print(\"n_splits:\", lowest_prev_param_grid['n_splits'][0])\n",
    "\n",
    "lowest_ptev_param_grid = {\n",
    "    'n_estimators': [int(lowest_ptev_row['n_estimators'])],\n",
    "    'max_depth': [int(lowest_ptev_row['max_depth'])],\n",
    "    'min_samples_split': [int(lowest_ptev_row['min_samples_split'])],\n",
    "    'max_iter': [int(lowest_ptev_row['max_iter'])],\n",
    "    'n_splits': [int(lowest_ptev_row['n_splits'])]\n",
    "}\n",
    "print(\"\\nLowest PTEV Parameter Grid:\")\n",
    "print(\"n_estimators:\", lowest_ptev_param_grid['n_estimators'][0])\n",
    "print(\"max_depth:\", lowest_ptev_param_grid['max_depth'][0])\n",
    "print(\"min_samples_split:\", lowest_ptev_param_grid['min_samples_split'][0])\n",
    "print(\"max_iter:\", lowest_ptev_param_grid['max_iter'][0])\n",
    "print(\"n_splits:\", lowest_ptev_param_grid['n_splits'][0])\n",
    "\n",
    "highest_oob_param_grid = {\n",
    "    'n_estimators': [int(highest_oob_row['n_estimators'])],\n",
    "    'max_depth': [None if pd.isna(highest_oob_row['max_depth']) else int(highest_oob_row['max_depth'])],\n",
    "    'min_samples_split': [int(highest_oob_row['min_samples_split'])],\n",
    "    'max_iter': [int(highest_oob_row['max_iter'])],\n",
    "    'n_splits': [int(highest_oob_row['n_splits'])]\n",
    "}\n",
    "print(\"\\Highest OOB Parameter Grid:\")\n",
    "print(\"n_estimators:\", highest_oob_row['n_estimators'])\n",
    "print(\"max_depth:\", highest_oob_row['max_depth'])\n",
    "print(\"min_samples_split:\", highest_oob_row['min_samples_split'])\n",
    "print(\"max_iter:\", highest_oob_row['max_iter'])\n",
    "print(\"n_splits:\", highest_oob_row['n_splits'])\n"
   ]
  },
  {
   "cell_type": "code",
   "execution_count": 8,
   "metadata": {},
   "outputs": [],
   "source": [
    "# Create MERF models for each parameter grid\n",
    "mse_merf = MERF(fixed_effects_model =\n",
    "           RandomForestRegressor(n_estimators = best_mse_param_grid['n_estimators'][0], \n",
    "                                max_depth = best_mse_param_grid['max_depth'][0], \n",
    "                                min_samples_split = best_mse_param_grid['min_samples_split'][0], \n",
    "                                n_jobs = 1, \n",
    "                                oob_score= True),\n",
    "            gll_early_stop_threshold=None,\n",
    "            max_iterations = best_mse_param_grid['max_iter'][0])\n",
    "\n",
    "prev_merf = MERF(fixed_effects_model =\n",
    "           RandomForestRegressor(n_estimators = lowest_prev_param_grid['n_estimators'][0], \n",
    "                                max_depth = lowest_prev_param_grid['max_depth'][0], \n",
    "                                min_samples_split = lowest_prev_param_grid['min_samples_split'][0], \n",
    "                                n_jobs = 1, \n",
    "                                oob_score= True),\n",
    "            gll_early_stop_threshold=None,\n",
    "            max_iterations = lowest_prev_param_grid['max_iter'][0])\n",
    "\n",
    "ptev_merf = MERF(fixed_effects_model =\n",
    "           RandomForestRegressor(n_estimators = lowest_ptev_param_grid['n_estimators'][0], \n",
    "                                max_depth = lowest_ptev_param_grid['max_depth'][0], \n",
    "                                min_samples_split = lowest_ptev_param_grid['min_samples_split'][0], \n",
    "                                n_jobs = 1, \n",
    "                                oob_score= True),\n",
    "            gll_early_stop_threshold=None,\n",
    "            max_iterations = lowest_ptev_param_grid['max_iter'][0])\n",
    "\n",
    "oob_merf = MERF(fixed_effects_model =\n",
    "           RandomForestRegressor(n_estimators = highest_oob_param_grid['n_estimators'][0], \n",
    "                                max_depth = highest_oob_param_grid['max_depth'][0], \n",
    "                                min_samples_split = highest_oob_param_grid['min_samples_split'][0], \n",
    "                                n_jobs = 1, \n",
    "                                oob_score= True),\n",
    "            gll_early_stop_threshold=None,\n",
    "            max_iterations = highest_oob_param_grid['max_iter'][0])"
   ]
  },
  {
   "cell_type": "code",
   "execution_count": null,
   "metadata": {},
   "outputs": [],
   "source": [
    "print(\"---------- RUN MERF RAW WITH TUNING PARAMETERS 🌱 ----------\")\n",
    "mrf_mse = mse_merf.fit(X.select_dtypes(include=[np.number]), \n",
    "        Z, \n",
    "        pd.Series(clusters_train), \n",
    "        Y)\n",
    "\n",
    "mrf_prev = prev_merf.fit(X.select_dtypes(include=[np.number]), \n",
    "        Z, \n",
    "        pd.Series(clusters_train), \n",
    "        Y)\n",
    "\n",
    "mrf_ptev = ptev_merf.fit(X.select_dtypes(include=[np.number]), \n",
    "        Z, \n",
    "        pd.Series(clusters_train), \n",
    "        Y)\n",
    "\n",
    "mrf_oob = oob_merf.fit(X.select_dtypes(include=[np.number]), \n",
    "                Z, \n",
    "                pd.Series(clusters_train), \n",
    "                Y)"
   ]
  },
  {
   "cell_type": "code",
   "execution_count": null,
   "metadata": {},
   "outputs": [],
   "source": [
    "plot_merf_training_stats(mrf_mse)\n",
    "plt.savefig(os.path.join(output_dir, 'dec5_cv_tuned_mse_merf_raw_metrics_clinical.png'), dpi=300, bbox_inches='tight')\n",
    "\n",
    "plot_merf_training_stats(mrf_prev)\n",
    "plt.savefig(os.path.join(output_dir, 'dec5_cv_tuned_prev_merf_raw_metrics_clinical.png'), dpi=300, bbox_inches='tight')\n",
    "\n",
    "plot_merf_training_stats(mrf_ptev)\n",
    "plt.savefig(os.path.join(output_dir, 'dec5_cv_tuned_ptev_merf_raw_metrics_clinical.png'), dpi=300, bbox_inches='tight')\n",
    "\n",
    "plot_merf_training_stats(mrf_oob)\n",
    "plt.savefig(os.path.join(output_dir, 'dec5_cv_tuned_oob_merf_raw_metrics_clinical.png'), dpi=300, bbox_inches='tight')"
   ]
  },
  {
   "cell_type": "markdown",
   "metadata": {},
   "source": [
    "## Now use tuned parameters for predictions on seperate test sets "
   ]
  },
  {
   "cell_type": "code",
   "execution_count": 11,
   "metadata": {},
   "outputs": [],
   "source": [
    "# Predict using the fitted model\n",
    "X_new = X_new.drop(columns=['x_t'], errors='ignore')\n",
    "y_hat_new_mse = mrf_mse.predict(X_new, Z_new, clusters_new)\n",
    "forest_mse = mrf_mse.trained_fe_model\n",
    "oob_score_mse = round(forest_mse.oob_score_*100, 1)\n",
    "\n",
    "y_hat_new_prev = mrf_prev.predict(X_new, Z_new, clusters_new)\n",
    "forest_prev = mrf_prev.trained_fe_model\n",
    "oob_score_prev = round(forest_prev.oob_score_*100, 1)\n",
    "\n",
    "y_hat_new_ptev = mrf_ptev.predict(X_new, Z_new, clusters_new)\n",
    "forest_ptev = mrf_ptev.trained_fe_model\n",
    "oob_score_ptev = round(forest_ptev.oob_score_*100, 1)\n",
    "\n",
    "y_hat_new_oob = mrf_oob.predict(X_new, Z_new, clusters_new)\n",
    "forest_oob = mrf_oob.trained_fe_model\n",
    "oob_score_tuned = round(forest_oob.oob_score_*100, 1)"
   ]
  },
  {
   "cell_type": "markdown",
   "metadata": {},
   "source": [
    "# Plot predictions vs actual - predicted value should go first"
   ]
  },
  {
   "cell_type": "code",
   "execution_count": null,
   "metadata": {},
   "outputs": [],
   "source": [
    "plot_predicted_vs_actual(y_hat_new_mse, Y_new,\n",
    "                         output_dir, 'dec5_cv_clinical_predicted_vs_actual_mse_tuned.png', \n",
    "                         best_mse_param_grid, oob_score_mse, '#F88F79', 'optimal mse predicted vs actual BMI')"
   ]
  },
  {
   "cell_type": "code",
   "execution_count": null,
   "metadata": {},
   "outputs": [],
   "source": [
    "calculate_metrics(Y_new, y_hat_new_prev) #(Y_true, Y_pred)\n",
    "plot_predicted_vs_actual(y_hat_new_prev, Y_new,\n",
    "                         output_dir, 'dec5_cv_clinical_predicted_vs_actual_prev_tuned.png', \n",
    "                         lowest_prev_param_grid, oob_score_prev, '#F0F879', 'optimal prev predicted vs actual BMI')"
   ]
  },
  {
   "cell_type": "code",
   "execution_count": null,
   "metadata": {},
   "outputs": [],
   "source": [
    "calculate_metrics(Y_new, y_hat_new_ptev) #(Y_true, Y_pred)\n",
    "plot_predicted_vs_actual(y_hat_new_ptev, Y_new,\n",
    "                         output_dir, 'dec5_cv_clinical_predicted_vs_actual_ptev_tuned.png', \n",
    "                         lowest_ptev_param_grid, oob_score_ptev, '#ACF0F8', 'optimal ptev predicted vs actual BMI')"
   ]
  },
  {
   "cell_type": "code",
   "execution_count": null,
   "metadata": {},
   "outputs": [],
   "source": [
    "calculate_metrics(Y_new, y_hat_new_oob) #(Y_true, Y_pred)\n",
    "plot_predicted_vs_actual(y_hat_new_oob, Y_new,\n",
    "                         output_dir, 'dec5_cv_clinical_predicted_vs_actual_oob_tuned.png', \n",
    "                         highest_oob_param_grid, oob_score_tuned, '#86B874', 'optimal OOB predicted vs actual BMI')"
   ]
  },
  {
   "cell_type": "markdown",
   "metadata": {},
   "source": [
    "# Look at feature importances "
   ]
  },
  {
   "cell_type": "code",
   "execution_count": null,
   "metadata": {},
   "outputs": [],
   "source": [
    "# mse\n",
    "mse_forest = mrf_mse.trained_fe_model\n",
    "mse_feature_names = mse_forest.feature_names_in_\n",
    "mse_feature_importances = mse_forest.feature_importances_\n",
    "plot_top_20_feature_importances(mse_feature_names, mse_feature_importances, \n",
    "                         output_dir, 'dec5_mse_feature_importances_clinical', '#F88F79')"
   ]
  },
  {
   "cell_type": "code",
   "execution_count": null,
   "metadata": {},
   "outputs": [],
   "source": [
    "prev_forest = prev_merf.trained_fe_model\n",
    "prev_feature_names = prev_forest.feature_names_in_\n",
    "prev_feature_importances = prev_forest.feature_importances_\n",
    "plot_top_20_feature_importances(prev_feature_names, prev_feature_importances, \n",
    "                         output_dir, 'dec5_prev_clinical_feature_importances', '#F0F879')"
   ]
  },
  {
   "cell_type": "code",
   "execution_count": null,
   "metadata": {},
   "outputs": [],
   "source": [
    "ptev_forest = ptev_merf.trained_fe_model\n",
    "ptev_feature_names = ptev_forest.feature_names_in_\n",
    "ptev_feature_importances = ptev_forest.feature_importances_\n",
    "plot_top_20_feature_importances(ptev_feature_names, ptev_feature_importances, \n",
    "                         output_dir, 'dec5_ptev_clinical_feature_importances', '#ACF0F8')"
   ]
  },
  {
   "cell_type": "code",
   "execution_count": null,
   "metadata": {},
   "outputs": [],
   "source": [
    "oob_forest = oob_merf.trained_fe_model\n",
    "oob_feature_names = oob_forest.feature_names_in_\n",
    "oob_feature_importances = oob_forest.feature_importances_\n",
    "plot_top_20_feature_importances(oob_feature_names, oob_feature_importances, \n",
    "                         output_dir, 'dec5_oob_clinical_feature_importances', '#86B874')"
   ]
  }
 ],
 "metadata": {
  "kernelspec": {
   "display_name": "researchVenv",
   "language": "python",
   "name": "python3"
  },
  "language_info": {
   "codemirror_mode": {
    "name": "ipython",
    "version": 3
   },
   "file_extension": ".py",
   "mimetype": "text/x-python",
   "name": "python",
   "nbconvert_exporter": "python",
   "pygments_lexer": "ipython3",
   "version": "3.13.0"
  }
 },
 "nbformat": 4,
 "nbformat_minor": 2
}
