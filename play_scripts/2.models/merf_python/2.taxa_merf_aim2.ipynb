{
 "cells": [
  {
   "cell_type": "code",
   "execution_count": 1,
   "id": "ecdb6f91",
   "metadata": {},
   "outputs": [
    {
     "name": "stdout",
     "output_type": "stream",
     "text": [
      "---------- Read taxonomy data ---------- \n",
      "---------- Read metadata ----------\n"
     ]
    }
   ],
   "source": [
    "import pandas as pd\n",
    "import os\n",
    "import numpy as np\n",
    "from merf import MERF\n",
    "import matplotlib.pyplot as plt\n",
    "from merf.viz import plot_merf_training_stats\n",
    "# Create output directory if it doesn't exist\n",
    "output_dir = \"/Users/emily/projects/research/Stanislawski/comps/mutli-omic-predictions/play_scripts/2.models/merf_python/merf_plots\"\n",
    "os.makedirs(output_dir, exist_ok=True)\n",
    "\n",
    "\n",
    "def read_data(directory, filename):\n",
    "    \"\"\"Read CSV data from specified directory and filename\"\"\"\n",
    "    filepath = os.path.join(directory, filename)\n",
    "    return pd.read_csv(filepath)\n",
    "\n",
    "print(\"---------- Read taxonomy data ---------- \")\n",
    "t_dir = \"/Users/emily/projects/research/Stanislawski/comps/mutli-omic-predictions/data/taxa/aim2_transformed/\"\n",
    "tax_test = read_data(t_dir, \"genus/aim2_clr_testing.csv\")\n",
    "tax_train = read_data(t_dir, \"genus/aim2_clr_training.csv\") \n",
    "tax_full = read_data(t_dir, \"genus/clr_taxa_all.csv\")\n",
    "\n",
    "print(\"---------- Read metadata ----------\")\n",
    "m1_dir = \"/Users/emily/projects/research/Stanislawski/comps/mutli-omic-predictions/data/clinical/transformed/aim2\"\n",
    "test = read_data(m1_dir, \"a2_test_samples_standard_clinical.csv\")\n",
    "train = read_data(m1_dir, \"a2_train_samples_standard_clinical.csv\")\n",
    "full = read_data(m1_dir, \"a2_meta_Transformed_standard_clinical.csv\")\n",
    "full_raw = read_data(m1_dir, \"a2_meta_not_Transformed_standard_clinical.csv\")"
   ]
  },
  {
   "cell_type": "code",
   "execution_count": 2,
   "id": "6aba46de",
   "metadata": {},
   "outputs": [
    {
     "name": "stdout",
     "output_type": "stream",
     "text": [
      "---------- Split X column into character_id and timepoint ----------\n",
      "0      AAL-144.12m\n",
      "1       AAL-144.3m\n",
      "2       AAL-144.6m\n",
      "3       AAL-144.BL\n",
      "4       ABR-079.3m\n",
      "          ...     \n",
      "590     YSU-097.6m\n",
      "591     YSU-097.BL\n",
      "592     ZVU-096.3m\n",
      "593     ZVU-096.6m\n",
      "594     ZVU-096.BL\n",
      "Name: Unnamed: 0, Length: 595, dtype: object\n"
     ]
    }
   ],
   "source": [
    "# Process Taxa Input data\n",
    "# FULL dataset\n",
    "# Split X column into character_id and timepoint\n",
    "print(\"---------- Split X column into character_id and timepoint ----------\")\n",
    "tax_full_t = tax_full.copy()\n",
    "X_LABEL = 'Unnamed: 0'\n",
    "print(tax_full_t[X_LABEL])"
   ]
  },
  {
   "cell_type": "code",
   "execution_count": 3,
   "id": "de4fba8b",
   "metadata": {},
   "outputs": [],
   "source": [
    "tax_full_t[['character_id', 'timepoint']] = tax_full_t[X_LABEL].str.split('.', expand=True)"
   ]
  },
  {
   "cell_type": "code",
   "execution_count": 4,
   "id": "cd0c51ad",
   "metadata": {},
   "outputs": [
    {
     "name": "stdout",
     "output_type": "stream",
     "text": [
      "---------- Create time column ----------\n",
      "---------- Create x_t column combining character_id and t ----------\n"
     ]
    }
   ],
   "source": [
    "# Create time column (assuming create_t_column functionality maps timepoints to numeric values)\n",
    "def create_t_column(df):\n",
    "    # Map timepoints to numeric values\n",
    "    time_map = {'BL': '0', '3m': '3', '6m': '6', '12m': '12', '18m': '18'}\n",
    "    \n",
    "    # Check for missing timepoints and raise exception if found\n",
    "    missing_timepoints = df['timepoint'][~df['timepoint'].isin(time_map.keys())]\n",
    "    if not missing_timepoints.empty:\n",
    "        print(f\"Error: Found unmapped timepoint(s): {missing_timepoints.unique().tolist()}\")\n",
    "        raise KeyError(f\"Timepoint(s) not found in mapping: {missing_timepoints.unique().tolist()}\")\n",
    "        \n",
    "    return df['timepoint'].map(time_map)\n",
    "\n",
    "print(\"---------- Create time column ----------\")\n",
    "tax_full_t['t'] = create_t_column(tax_full_t)\n",
    "\n",
    "print(\"---------- Create x_t column combining character_id and t ----------\")\n",
    "tax_full_t['x_t'] = tax_full_t['character_id'] + '.' + tax_full_t['t']"
   ]
  },
  {
   "cell_type": "code",
   "execution_count": 5,
   "id": "ffd4ca71",
   "metadata": {},
   "outputs": [
    {
     "name": "stdout",
     "output_type": "stream",
     "text": [
      "---------- Filter and select columns ----------\n"
     ]
    }
   ],
   "source": [
    "print(\"---------- Filter and select columns ----------\")\n",
    "tax = tax_full_t[~tax_full_t['t'].isin(['3', '18'])]\n",
    "tax = tax.drop(['t', 'timepoint', 'character_id', X_LABEL], axis=1)"
   ]
  },
  {
   "cell_type": "code",
   "execution_count": 6,
   "id": "7acb63f2",
   "metadata": {},
   "outputs": [
    {
     "name": "stdout",
     "output_type": "stream",
     "text": [
      "---------- Build training dataset ----------\n"
     ]
    }
   ],
   "source": [
    "print(\"---------- Build training dataset ----------\")\n",
    "train_t = tax_train.copy()\n",
    "train_t[['character_id', 'timepoint']] = train_t[X_LABEL].str.split('.', expand=True)\n",
    "train_t['t'] = create_t_column(train_t)\n",
    "train_t['x_t'] = train_t['character_id'] + '.' + train_t['t']\n",
    "train_t = train_t[~train_t['t'].isin(['3', '18'])]\n"
   ]
  },
  {
   "cell_type": "code",
   "execution_count": 7,
   "id": "fbf42cc4",
   "metadata": {},
   "outputs": [
    {
     "name": "stdout",
     "output_type": "stream",
     "text": [
      "---------- Build testing dataset ----------\n"
     ]
    }
   ],
   "source": [
    "print(\"---------- Build testing dataset ----------\")\n",
    "test_t = tax_test.copy()\n",
    "test_t[['character_id', 'timepoint']] = test_t[X_LABEL].str.split('.', expand=True)\n",
    "test_t['t'] = create_t_column(test_t)\n",
    "test_t['x_t'] = test_t['character_id'] + '.' + test_t['t']\n",
    "test_t = test_t[~test_t['t'].isin(['3', '18'])]"
   ]
  },
  {
   "cell_type": "code",
   "execution_count": 8,
   "id": "5494f59c",
   "metadata": {},
   "outputs": [
    {
     "name": "stdout",
     "output_type": "stream",
     "text": [
      "---------- Clean up ----------\n"
     ]
    }
   ],
   "source": [
    "print(\"---------- Clean up ----------\")\n",
    "del tax_test, tax_train, tax, tax_full"
   ]
  },
  {
   "cell_type": "code",
   "execution_count": 9,
   "id": "5e846965",
   "metadata": {},
   "outputs": [
    {
     "name": "stdout",
     "output_type": "stream",
     "text": [
      "['Unnamed: 0', 'record_id', 'subject_id', 'randomized_group', 'cohort_number', 'sex', 'race', 'age', 'outcome_BMI_fnl_BL', 'Glucose_BL', 'HOMA_IR_BL', 'Insulin_endo_BL', 'HDL_Total_Direct_lipid_BL', 'LDL_Calculated_BL', 'Triglyceride_lipid_BL', 'outcome_BMI_fnl_6m', 'Glucose_6m', 'HOMA_IR_6m', 'Insulin_endo_6m', 'HDL_Total_Direct_lipid_6m', 'LDL_Calculated_6m', 'Triglyceride_lipid_6m', 'outcome_BMI_fnl_12m', 'Glucose_12m', 'HOMA_IR_12m', 'Insulin_endo_12m', 'HDL_Total_Direct_lipid_12m', 'LDL_Calculated_12m', 'Triglyceride_lipid_12m']\n",
      "---\n",
      "['Unnamed: 0', 'record_id', 'subject_id', 'randomized_group', 'cohort_number', 'sex', 'race', 'age', 'outcome_BMI_fnl_BL', 'Glucose_BL', 'HOMA_IR_BL', 'Insulin_endo_BL', 'HDL_Total_Direct_lipid_BL', 'LDL_Calculated_BL', 'Triglyceride_lipid_BL', 'outcome_BMI_fnl_6m', 'Glucose_6m', 'HOMA_IR_6m', 'Insulin_endo_6m', 'HDL_Total_Direct_lipid_6m', 'LDL_Calculated_6m', 'Triglyceride_lipid_6m', 'outcome_BMI_fnl_12m', 'Glucose_12m', 'HOMA_IR_12m', 'Insulin_endo_12m', 'HDL_Total_Direct_lipid_12m', 'LDL_Calculated_12m', 'Triglyceride_lipid_12m']\n",
      "---\n",
      "['Unnamed: 0', 'record_id', 'subject_id', 'randomized_group', 'cohort_number', 'sex', 'race', 'age', 'outcome_BMI_fnl_BL', 'Glucose_BL', 'HOMA_IR_BL', 'Insulin_endo_BL', 'HDL_Total_Direct_lipid_BL', 'LDL_Calculated_BL', 'Triglyceride_lipid_BL', 'outcome_BMI_fnl_6m', 'Glucose_6m', 'HOMA_IR_6m', 'Insulin_endo_6m', 'HDL_Total_Direct_lipid_6m', 'LDL_Calculated_6m', 'Triglyceride_lipid_6m', 'outcome_BMI_fnl_12m', 'Glucose_12m', 'HOMA_IR_12m', 'Insulin_endo_12m', 'HDL_Total_Direct_lipid_12m', 'LDL_Calculated_12m', 'Triglyceride_lipid_12m']\n"
     ]
    }
   ],
   "source": [
    "print(full_raw.columns.to_list())\n",
    "print(\"---\")\n",
    "print(train.columns.to_list())\n",
    "print(\"---\")\n",
    "print(test.columns.to_list())"
   ]
  },
  {
   "cell_type": "code",
   "execution_count": 10,
   "id": "7c6586df",
   "metadata": {},
   "outputs": [
    {
     "name": "stdout",
     "output_type": "stream",
     "text": [
      "True\n",
      "True\n"
     ]
    }
   ],
   "source": [
    "print(full_raw.columns.to_list() == train.columns.to_list())\n",
    "print(train.columns.to_list() == test.columns.to_list())"
   ]
  },
  {
   "cell_type": "code",
   "execution_count": 11,
   "id": "ba2e607c",
   "metadata": {},
   "outputs": [
    {
     "name": "stdout",
     "output_type": "stream",
     "text": [
      "---------- Convert metadata to long format ----------\n"
     ]
    }
   ],
   "source": [
    "import pandas as pd\n",
    "import re\n",
    "\n",
    "# Process metadata to long format\n",
    "def make_long(wide_data):\n",
    "    \"\"\"\n",
    "    Converts a wide-format DataFrame into a long-format DataFrame,\n",
    "    aligning with the structure produced by the R transformation.\n",
    "    \n",
    "    Args:\n",
    "        wide_data (pd.DataFrame): Input DataFrame in wide format.\n",
    "    \n",
    "    Returns:\n",
    "        pd.DataFrame: Transformed DataFrame in long format.\n",
    "    \"\"\"\n",
    "    # Extract measurement columns and id columns\n",
    "    id_vars = [col for col in wide_data.columns if not re.search(r'_(BL|6m|12m)$', col)]\n",
    "    value_vars = [col for col in wide_data.columns if re.search(r'_(BL|6m|12m)$', col)]\n",
    "\n",
    "    # Melt the DataFrame to long format\n",
    "    long_data = wide_data.melt(\n",
    "        id_vars=id_vars,\n",
    "        value_vars=value_vars,\n",
    "        var_name=\"measurement_time\",\n",
    "        value_name=\"value\"\n",
    "    )\n",
    "\n",
    "    # Extract measurement type and time from the variable name\n",
    "    long_data[['measurement_type', 'time']] = long_data['measurement_time'].str.extract(r'(.+)_(BL|6m|12m)')\n",
    "\n",
    "    # Map time values\n",
    "    time_mapping = {'BL': 0, '6m': 6, '12m': 12}\n",
    "    long_data['time'] = long_data['time'].map(time_mapping)\n",
    "\n",
    "    # Drop the original melted column\n",
    "    long_data = long_data.drop(columns=['measurement_time'])\n",
    "\n",
    "    # Pivot the data back to wide format for measurements\n",
    "    long_data = long_data.pivot_table(\n",
    "        index=id_vars + ['time'], \n",
    "        columns='measurement_type', \n",
    "        values='value'\n",
    "    ).reset_index()\n",
    "\n",
    "    # Flatten the column MultiIndex from pivot_table\n",
    "    long_data.columns.name = None\n",
    "    long_data.columns = [str(col) for col in long_data.columns]\n",
    "\n",
    "    return long_data\n",
    "\n",
    "\n",
    "# Apply the function to each meta dataset\n",
    "print(\"---------- Convert metadata to long format ----------\")\n",
    "full_long = make_long(full_raw)\n",
    "full_long['x_t'] = full_long['subject_id'].astype(str) + '.' + full_long['time'].astype(str)\n",
    "\n",
    "train_long = make_long(train)\n",
    "train_long['x_t'] = train_long['subject_id'].astype(str) + '.' + train_long['time'].astype(str)\n",
    "\n",
    "test_long = make_long(test)\n",
    "test_long['x_t'] = test_long['subject_id'].astype(str) + '.' + test_long['time'].astype(str)"
   ]
  },
  {
   "cell_type": "code",
   "execution_count": 12,
   "id": "bf3299f7",
   "metadata": {},
   "outputs": [
    {
     "name": "stdout",
     "output_type": "stream",
     "text": [
      "outcome_BMI_fnl values: 0      0.034462\n",
      "1     -1.834935\n",
      "2     -2.100432\n",
      "3      0.242276\n",
      "4      0.197886\n",
      "         ...   \n",
      "286    0.649937\n",
      "287    0.846129\n",
      "288   -0.095905\n",
      "289   -0.669300\n",
      "290   -1.201747\n",
      "Name: outcome_BMI_fnl, Length: 291, dtype: float64\n"
     ]
    }
   ],
   "source": [
    "# Inspect the final column names for test_long\n",
    "print(\"outcome_BMI_fnl values:\", train_long['outcome_BMI_fnl'])"
   ]
  },
  {
   "cell_type": "code",
   "execution_count": 13,
   "id": "6e90eb41",
   "metadata": {},
   "outputs": [
    {
     "name": "stdout",
     "output_type": "stream",
     "text": [
      "Columns after transformation: ['Unnamed: 0', 'record_id', 'subject_id', 'randomized_group', 'cohort_number', 'sex', 'race', 'age', 'time', 'Glucose', 'HDL_Total_Direct_lipid', 'HOMA_IR', 'Insulin_endo', 'LDL_Calculated', 'Triglyceride_lipid', 'outcome_BMI_fnl', 'x_t']\n",
      "Columns after transformation: ['Unnamed: 0', 'record_id', 'subject_id', 'randomized_group', 'cohort_number', 'sex', 'race', 'age', 'time', 'Glucose', 'HDL_Total_Direct_lipid', 'HOMA_IR', 'Insulin_endo', 'LDL_Calculated', 'Triglyceride_lipid', 'outcome_BMI_fnl', 'x_t']\n"
     ]
    }
   ],
   "source": [
    "print(\"Columns after transformation:\", full_long.columns.to_list())\n",
    "print(\"Columns after transformation:\", test_long.columns.to_list())"
   ]
  },
  {
   "cell_type": "code",
   "execution_count": 14,
   "id": "6f861665",
   "metadata": {},
   "outputs": [
    {
     "name": "stdout",
     "output_type": "stream",
     "text": [
      "---------- Clean up ----------\n",
      "---------- Select and prepare metadata for merging ----------\n",
      "full_meta shape =  (361, 2)\n",
      "---------- Merge training data ----------\n",
      "train_tax shape =  (259, 182)\n",
      "full_train_tax shape =  (259, 186)\n",
      "---------- Merge testing data ----------\n",
      "test_tax shape =  (63, 182)\n",
      "full_test_tax shape =  (63, 186)\n"
     ]
    }
   ],
   "source": [
    "print(\"---------- Clean up ----------\")\n",
    "#del test, train, full_raw, full\n",
    "\n",
    "print(\"---------- Select and prepare metadata for merging ----------\")\n",
    "full_meta = full_long[['x_t', 'outcome_BMI_fnl']]\n",
    "test_meta = test_long[['x_t', 'outcome_BMI_fnl']]\n",
    "train_meta = train_long[['x_t', 'outcome_BMI_fnl']]\n",
    "print(\"full_meta shape = \", full_meta.shape)\n",
    "\n",
    "print(\"---------- Merge training data ----------\")\n",
    "full_train_tax = train_t.merge(full_meta, on='x_t', how='inner')\n",
    "train_tax = train_t.merge(train_meta, on='x_t')\n",
    "train_tax = train_tax.drop(['x_t', X_LABEL, 'character_id', 'timepoint'], axis=1)\n",
    "print(\"train_tax shape = \", train_tax.shape)\n",
    "print(\"full_train_tax shape = \", full_train_tax.shape)\n",
    "\n",
    "print(\"---------- Merge testing data ----------\")\n",
    "full_test_tax = test_t.merge(full_meta, on='x_t', how='inner')\n",
    "test_tax = test_t.merge(test_meta, on='x_t')\n",
    "test_tax = test_tax.drop(['x_t', X_LABEL, 'character_id', 'timepoint'], axis=1)\n",
    "print(\"test_tax shape = \", test_tax.shape)\n",
    "print(\"full_test_tax shape = \", full_test_tax.shape)\n"
   ]
  },
  {
   "cell_type": "code",
   "execution_count": 15,
   "id": "1bcbede7",
   "metadata": {},
   "outputs": [
    {
     "name": "stdout",
     "output_type": "stream",
     "text": [
      "['Unnamed: 0', 'g__Parabacteroides_B_862066', 'g__Coprenecus', 'g__Butyricimonas', 'g__Odoribacter_865974', 'g__Alistipes_A_871404', 'g__Paramuribaculum', 'g__Alistipes_A_871400', 'g__Barnesiella', 'g__Coprobacter', 'g__Phocaeicola_A_858004', 'g__Bacteroides_H', 'g__Prevotella', 'g__Paraprevotella', 'g__Methanobrevibacter_A', 'g__DTU012', 'g__Escherichia_710834', 'g__Parasutterella', 'g__Sutterella', 'g__Haemophilus_D_735815', 'g__Enterobacter_B_713587', 'g__Akkermansia', 'g__Eubacterium_O_258270', 'g__Anaerofustis', 'g__Peptococcus', 'g__QAMH01', 'g__Senegalimassilia', 'g__Adlercreutzia_404257', 'g__Slackia_A', 'g__Eggerthella', 'g__CAG.1427', 'g__Gordonibacter', 'g__Collinsella', 'g__Holdemania', 'g__Longibaculum', 'g__Catenibacterium', 'g__Erysipelatoclostridium', 'g__Faecalibacillus', 'g___2', 'g__Holdemanella', 'g__Merdibacter', 'g__Clostridium_AQ', 'g__Amedibacillus', 'g__Longicatena', 'g__Dielma', 'g__Pauljensenia', 'g__Bifidobacterium_388775', 'g__Acidaminococcus', 'g__Phascolarctobacterium_A', 'g__Veillonella_A', 'g__Dialister', 'g__Streptococcus', 'g__Lactococcus_A_346120', 'g__Lacticaseibacillus', 'g__Turicibacter', 'g__Gemella', 'g__Limiplasma', 'g__SFMI01', 'g___3', 'g__Onthenecus', 'g__Copromorpha', 'g__BX12', 'g___4', 'g__Romboutsia_B', 'g__CCUG.7971', 'g__Intestinibacter', 'g__Terrisporobacter', 'g___5', 'g__PeH17', 'g__Clostridium_T', 'g__CAG.269', 'g___6', 'g__CAG.273', 'g__Merdicola', 'g__CAG.41', 'g__Monoglobus', 'g__ER4', 'g___7', 'g__Dysosmobacter', 'g__Vescimonas', 'g__CAG.83', 'g__Limivicinus', 'g__Faecousia', 'g__Agathobaculum', 'g__Lawsonibacter', 'g__Intestinimonas', 'g__Pseudobutyricicoccus', 'g__Evtepia', 'g__Onthomonas', 'g___8', 'g__RUG13077', 'g__Avispirillum', 'g__SFLA01', 'g__WQUU01', 'g__UMGS1071', 'g__Clostridium_A', 'g__Acutalibacter', 'g__UBA1417', 'g__Anaeromassilibacillus', 'g__Hydrogeniiclostridium', 'g__Ruminococcus_E', 'g__UBA5905', 'g__Bittarella', 'g__Fimenecus', 'g__Faecalibacterium', 'g__Gemmiger_A_73129', 'g__Ruthenibacterium', 'g__Ruminiclostridium_E', 'g___9', 'g__CAG.177', 'g__CAG.217', 'g__Angelakisella', 'g__Massilioclostridium', 'g__Phocea', 'g__Anaerotruncus', 'g__Negativibacillus', 'g__UBA1394', 'g__Ruminococcus_C_58660', 'g__Ruminococcus_D', 'g___10', 'g___11', 'g__Anaerotignum_189125', 'g__CAG.274', 'g__Anaerobutyricum', 'g__Eubacterium_I', 'g__Roseburia', 'g__Agathobacter_164117', 'g__Butyribacter', 'g__RUG115', 'g__CAG.45', 'g__Eubacterium_J', 'g__Eubacterium_G', 'g__Howardella', 'g___1', 'g__Anaerostipes', 'g__Coprococcus_A_121497', 'g__CAG.127', 'g__Lachnospira', 'g__Eubacterium_F', 'g__Coprococcus_A_187866', 'g__Catenibacillus', 'g__Frisingicoccus', 'g__Merdisoma', 'g__Marvinbryantia', 'g__Blautia_A_141780', 'g__Blautia_A_141781', 'g__UMGS1375', 'g__Limivivens', 'g__UBA9414', 'g__Oliverpabstia', 'g__Mediterraneibacter_A_155507', 'g__COE1', 'g__Acetatifactor', 'g__CAG.95', 'g__Hungatella_A_128155', 'g__Hungatella_A_127239', 'g__Sellimonas', 'g__Eisenbergiella', 'g__UBA3402', 'g__Scatomonas', 'g__Clostridium_Q_134516', 'g__Faecalimonas', 'g__Ruminococcus_B', 'g__Clostridium_AP', 'g__CAG.317_146760', 'g__Bariatricus', 'g__Muricomes_149725', 'g__Lachnoclostridium_B', 'g__Schaedlerella', 'g__Mediterraneibacter_A_155590', 'g__Lactonifactor', 'g__Enterocloster', 'g__Ventrisoma', 'g__Clostridium_Q_135853', 'g__Clostridium_Q_135822', 'g__Porcincola', 'g__Copromonas', 'g__Ventrimonas', 'g__Dorea_A', 'g__Massilistercora', 'all_samples', 'character_id', 'timepoint', 't', 'x_t']\n",
      "---------- Merge full dataset ----------\n",
      "Columns after merge: ['Unnamed: 0_tax', 'g__Parabacteroides_B_862066', 'g__Coprenecus', 'g__Butyricimonas', 'g__Odoribacter_865974', 'g__Alistipes_A_871404', 'g__Paramuribaculum', 'g__Alistipes_A_871400', 'g__Barnesiella', 'g__Coprobacter', 'g__Phocaeicola_A_858004', 'g__Bacteroides_H', 'g__Prevotella', 'g__Paraprevotella', 'g__Methanobrevibacter_A', 'g__DTU012', 'g__Escherichia_710834', 'g__Parasutterella', 'g__Sutterella', 'g__Haemophilus_D_735815', 'g__Enterobacter_B_713587', 'g__Akkermansia', 'g__Eubacterium_O_258270', 'g__Anaerofustis', 'g__Peptococcus', 'g__QAMH01', 'g__Senegalimassilia', 'g__Adlercreutzia_404257', 'g__Slackia_A', 'g__Eggerthella', 'g__CAG.1427', 'g__Gordonibacter', 'g__Collinsella', 'g__Holdemania', 'g__Longibaculum', 'g__Catenibacterium', 'g__Erysipelatoclostridium', 'g__Faecalibacillus', 'g___2', 'g__Holdemanella', 'g__Merdibacter', 'g__Clostridium_AQ', 'g__Amedibacillus', 'g__Longicatena', 'g__Dielma', 'g__Pauljensenia', 'g__Bifidobacterium_388775', 'g__Acidaminococcus', 'g__Phascolarctobacterium_A', 'g__Veillonella_A', 'g__Dialister', 'g__Streptococcus', 'g__Lactococcus_A_346120', 'g__Lacticaseibacillus', 'g__Turicibacter', 'g__Gemella', 'g__Limiplasma', 'g__SFMI01', 'g___3', 'g__Onthenecus', 'g__Copromorpha', 'g__BX12', 'g___4', 'g__Romboutsia_B', 'g__CCUG.7971', 'g__Intestinibacter', 'g__Terrisporobacter', 'g___5', 'g__PeH17', 'g__Clostridium_T', 'g__CAG.269', 'g___6', 'g__CAG.273', 'g__Merdicola', 'g__CAG.41', 'g__Monoglobus', 'g__ER4', 'g___7', 'g__Dysosmobacter', 'g__Vescimonas', 'g__CAG.83', 'g__Limivicinus', 'g__Faecousia', 'g__Agathobaculum', 'g__Lawsonibacter', 'g__Intestinimonas', 'g__Pseudobutyricicoccus', 'g__Evtepia', 'g__Onthomonas', 'g___8', 'g__RUG13077', 'g__Avispirillum', 'g__SFLA01', 'g__WQUU01', 'g__UMGS1071', 'g__Clostridium_A', 'g__Acutalibacter', 'g__UBA1417', 'g__Anaeromassilibacillus', 'g__Hydrogeniiclostridium', 'g__Ruminococcus_E', 'g__UBA5905', 'g__Bittarella', 'g__Fimenecus', 'g__Faecalibacterium', 'g__Gemmiger_A_73129', 'g__Ruthenibacterium', 'g__Ruminiclostridium_E', 'g___9', 'g__CAG.177', 'g__CAG.217', 'g__Angelakisella', 'g__Massilioclostridium', 'g__Phocea', 'g__Anaerotruncus', 'g__Negativibacillus', 'g__UBA1394', 'g__Ruminococcus_C_58660', 'g__Ruminococcus_D', 'g___10', 'g___11', 'g__Anaerotignum_189125', 'g__CAG.274', 'g__Anaerobutyricum', 'g__Eubacterium_I', 'g__Roseburia', 'g__Agathobacter_164117', 'g__Butyribacter', 'g__RUG115', 'g__CAG.45', 'g__Eubacterium_J', 'g__Eubacterium_G', 'g__Howardella', 'g___1', 'g__Anaerostipes', 'g__Coprococcus_A_121497', 'g__CAG.127', 'g__Lachnospira', 'g__Eubacterium_F', 'g__Coprococcus_A_187866', 'g__Catenibacillus', 'g__Frisingicoccus', 'g__Merdisoma', 'g__Marvinbryantia', 'g__Blautia_A_141780', 'g__Blautia_A_141781', 'g__UMGS1375', 'g__Limivivens', 'g__UBA9414', 'g__Oliverpabstia', 'g__Mediterraneibacter_A_155507', 'g__COE1', 'g__Acetatifactor', 'g__CAG.95', 'g__Hungatella_A_128155', 'g__Hungatella_A_127239', 'g__Sellimonas', 'g__Eisenbergiella', 'g__UBA3402', 'g__Scatomonas', 'g__Clostridium_Q_134516', 'g__Faecalimonas', 'g__Ruminococcus_B', 'g__Clostridium_AP', 'g__CAG.317_146760', 'g__Bariatricus', 'g__Muricomes_149725', 'g__Lachnoclostridium_B', 'g__Schaedlerella', 'g__Mediterraneibacter_A_155590', 'g__Lactonifactor', 'g__Enterocloster', 'g__Ventrisoma', 'g__Clostridium_Q_135853', 'g__Clostridium_Q_135822', 'g__Porcincola', 'g__Copromonas', 'g__Ventrimonas', 'g__Dorea_A', 'g__Massilistercora', 'all_samples', 'character_id', 'timepoint', 't', 'x_t', 'Unnamed: 0_long', 'record_id', 'subject_id', 'randomized_group', 'cohort_number', 'sex', 'race', 'age', 'time', 'Glucose', 'HDL_Total_Direct_lipid', 'HOMA_IR', 'Insulin_endo', 'LDL_Calculated', 'Triglyceride_lipid', 'outcome_BMI_fnl']\n",
      "Final columns after drop: ['Unnamed: 0_tax', 'g__Parabacteroides_B_862066', 'g__Coprenecus', 'g__Butyricimonas', 'g__Odoribacter_865974', 'g__Alistipes_A_871404', 'g__Paramuribaculum', 'g__Alistipes_A_871400', 'g__Barnesiella', 'g__Coprobacter', 'g__Phocaeicola_A_858004', 'g__Bacteroides_H', 'g__Prevotella', 'g__Paraprevotella', 'g__Methanobrevibacter_A', 'g__DTU012', 'g__Escherichia_710834', 'g__Parasutterella', 'g__Sutterella', 'g__Haemophilus_D_735815', 'g__Enterobacter_B_713587', 'g__Akkermansia', 'g__Eubacterium_O_258270', 'g__Anaerofustis', 'g__Peptococcus', 'g__QAMH01', 'g__Senegalimassilia', 'g__Adlercreutzia_404257', 'g__Slackia_A', 'g__Eggerthella', 'g__CAG.1427', 'g__Gordonibacter', 'g__Collinsella', 'g__Holdemania', 'g__Longibaculum', 'g__Catenibacterium', 'g__Erysipelatoclostridium', 'g__Faecalibacillus', 'g___2', 'g__Holdemanella', 'g__Merdibacter', 'g__Clostridium_AQ', 'g__Amedibacillus', 'g__Longicatena', 'g__Dielma', 'g__Pauljensenia', 'g__Bifidobacterium_388775', 'g__Acidaminococcus', 'g__Phascolarctobacterium_A', 'g__Veillonella_A', 'g__Dialister', 'g__Streptococcus', 'g__Lactococcus_A_346120', 'g__Lacticaseibacillus', 'g__Turicibacter', 'g__Gemella', 'g__Limiplasma', 'g__SFMI01', 'g___3', 'g__Onthenecus', 'g__Copromorpha', 'g__BX12', 'g___4', 'g__Romboutsia_B', 'g__CCUG.7971', 'g__Intestinibacter', 'g__Terrisporobacter', 'g___5', 'g__PeH17', 'g__Clostridium_T', 'g__CAG.269', 'g___6', 'g__CAG.273', 'g__Merdicola', 'g__CAG.41', 'g__Monoglobus', 'g__ER4', 'g___7', 'g__Dysosmobacter', 'g__Vescimonas', 'g__CAG.83', 'g__Limivicinus', 'g__Faecousia', 'g__Agathobaculum', 'g__Lawsonibacter', 'g__Intestinimonas', 'g__Pseudobutyricicoccus', 'g__Evtepia', 'g__Onthomonas', 'g___8', 'g__RUG13077', 'g__Avispirillum', 'g__SFLA01', 'g__WQUU01', 'g__UMGS1071', 'g__Clostridium_A', 'g__Acutalibacter', 'g__UBA1417', 'g__Anaeromassilibacillus', 'g__Hydrogeniiclostridium', 'g__Ruminococcus_E', 'g__UBA5905', 'g__Bittarella', 'g__Fimenecus', 'g__Faecalibacterium', 'g__Gemmiger_A_73129', 'g__Ruthenibacterium', 'g__Ruminiclostridium_E', 'g___9', 'g__CAG.177', 'g__CAG.217', 'g__Angelakisella', 'g__Massilioclostridium', 'g__Phocea', 'g__Anaerotruncus', 'g__Negativibacillus', 'g__UBA1394', 'g__Ruminococcus_C_58660', 'g__Ruminococcus_D', 'g___10', 'g___11', 'g__Anaerotignum_189125', 'g__CAG.274', 'g__Anaerobutyricum', 'g__Eubacterium_I', 'g__Roseburia', 'g__Agathobacter_164117', 'g__Butyribacter', 'g__RUG115', 'g__CAG.45', 'g__Eubacterium_J', 'g__Eubacterium_G', 'g__Howardella', 'g___1', 'g__Anaerostipes', 'g__Coprococcus_A_121497', 'g__CAG.127', 'g__Lachnospira', 'g__Eubacterium_F', 'g__Coprococcus_A_187866', 'g__Catenibacillus', 'g__Frisingicoccus', 'g__Merdisoma', 'g__Marvinbryantia', 'g__Blautia_A_141780', 'g__Blautia_A_141781', 'g__UMGS1375', 'g__Limivivens', 'g__UBA9414', 'g__Oliverpabstia', 'g__Mediterraneibacter_A_155507', 'g__COE1', 'g__Acetatifactor', 'g__CAG.95', 'g__Hungatella_A_128155', 'g__Hungatella_A_127239', 'g__Sellimonas', 'g__Eisenbergiella', 'g__UBA3402', 'g__Scatomonas', 'g__Clostridium_Q_134516', 'g__Faecalimonas', 'g__Ruminococcus_B', 'g__Clostridium_AP', 'g__CAG.317_146760', 'g__Bariatricus', 'g__Muricomes_149725', 'g__Lachnoclostridium_B', 'g__Schaedlerella', 'g__Mediterraneibacter_A_155590', 'g__Lactonifactor', 'g__Enterocloster', 'g__Ventrisoma', 'g__Clostridium_Q_135853', 'g__Clostridium_Q_135822', 'g__Porcincola', 'g__Copromonas', 'g__Ventrimonas', 'g__Dorea_A', 'g__Massilistercora', 'all_samples', 't', 'x_t', 'Unnamed: 0_long', 'outcome_BMI_fnl']\n",
      "---------- Clean up ----------\n"
     ]
    }
   ],
   "source": [
    "# Inspect the columns of the tax_full_t DataFrame\n",
    "print(tax_full_t.columns.to_list())\n",
    "\n",
    "# Perform the merge with custom suffixes to prevent 'X.x' and 'X.y'\n",
    "print(\"---------- Merge full dataset ----------\")\n",
    "full = tax_full_t.merge(full_long, on='x_t', how='left', suffixes=('_tax', '_long'))\n",
    "\n",
    "# Check the columns of the merged DataFrame\n",
    "print(\"Columns after merge:\", full.columns.to_list())\n",
    "\n",
    "# Define columns to drop after merge (including Unnamed: 0 if present)\n",
    "columns_to_drop = ['Unnamed: 0', 'X.y', 'X.x', 'randomized_group', 'cohort_number', 'record_id',\n",
    "                  'subject_id', 'character_id', 'cohort_number', 'age', 'race', 'sex', \n",
    "                  'time', 'timepoint', 'HOMA_IR', 'Insulin_endo', 'HDL_Total_Direct_lipid',\n",
    "                  'Glucose', 'LDL_Calculated', 'Triglyceride_lipid']\n",
    "\n",
    "# Drop columns only if they exist in the DataFrame (since some may not be present after merge)\n",
    "full = full.drop([col for col in columns_to_drop if col in full.columns], axis=1)\n",
    "\n",
    "# Check the final columns\n",
    "print(\"Final columns after drop:\", full.columns.to_list())\n",
    "\n",
    "# Clean up unnecessary variables\n",
    "print(\"---------- Clean up ----------\")\n",
    "#del train_meta, test_meta, test_t, train_t, test_long, train_long, full_long, tax_full_t"
   ]
  },
  {
   "cell_type": "code",
   "execution_count": 16,
   "id": "36455e74",
   "metadata": {},
   "outputs": [
    {
     "name": "stdout",
     "output_type": "stream",
     "text": [
      "---------- Remove NAs and filter by time ----------\n",
      "\n",
      "Rows with NaN in 't' column:\n",
      "Empty DataFrame\n",
      "Columns: [Unnamed: 0_tax, g__Parabacteroides_B_862066, g__Coprenecus, g__Butyricimonas, g__Odoribacter_865974, g__Alistipes_A_871404, g__Paramuribaculum, g__Alistipes_A_871400, g__Barnesiella, g__Coprobacter, g__Phocaeicola_A_858004, g__Bacteroides_H, g__Prevotella, g__Paraprevotella, g__Methanobrevibacter_A, g__DTU012, g__Escherichia_710834, g__Parasutterella, g__Sutterella, g__Haemophilus_D_735815, g__Enterobacter_B_713587, g__Akkermansia, g__Eubacterium_O_258270, g__Anaerofustis, g__Peptococcus, g__QAMH01, g__Senegalimassilia, g__Adlercreutzia_404257, g__Slackia_A, g__Eggerthella, g__CAG.1427, g__Gordonibacter, g__Collinsella, g__Holdemania, g__Longibaculum, g__Catenibacterium, g__Erysipelatoclostridium, g__Faecalibacillus, g___2, g__Holdemanella, g__Merdibacter, g__Clostridium_AQ, g__Amedibacillus, g__Longicatena, g__Dielma, g__Pauljensenia, g__Bifidobacterium_388775, g__Acidaminococcus, g__Phascolarctobacterium_A, g__Veillonella_A, g__Dialister, g__Streptococcus, g__Lactococcus_A_346120, g__Lacticaseibacillus, g__Turicibacter, g__Gemella, g__Limiplasma, g__SFMI01, g___3, g__Onthenecus, g__Copromorpha, g__BX12, g___4, g__Romboutsia_B, g__CCUG.7971, g__Intestinibacter, g__Terrisporobacter, g___5, g__PeH17, g__Clostridium_T, g__CAG.269, g___6, g__CAG.273, g__Merdicola, g__CAG.41, g__Monoglobus, g__ER4, g___7, g__Dysosmobacter, g__Vescimonas, g__CAG.83, g__Limivicinus, g__Faecousia, g__Agathobaculum, g__Lawsonibacter, g__Intestinimonas, g__Pseudobutyricicoccus, g__Evtepia, g__Onthomonas, g___8, g__RUG13077, g__Avispirillum, g__SFLA01, g__WQUU01, g__UMGS1071, g__Clostridium_A, g__Acutalibacter, g__UBA1417, g__Anaeromassilibacillus, g__Hydrogeniiclostridium, ...]\n",
      "Index: []\n",
      "\n",
      "[0 rows x 185 columns]\n",
      "\n",
      "Total rows with NaN in 't': 0\n",
      "test_tax_no_na shape =  (63, 182)\n",
      "train_tax_no_na shape =  (259, 182)\n",
      "---------- raw train and tax ----------\n",
      "full_train_tax shape =  (259, 186)\n",
      "full_test_tax shape =  (63, 186)\n",
      "---------- Create demo datasets filtered by time ----------\n",
      "demo_test shape =  (102, 185)\n"
     ]
    }
   ],
   "source": [
    "print(\"---------- Remove NAs and filter by time ----------\")\n",
    "full_no_na = full.dropna()\n",
    "\n",
    "# Get rows where t is NaN and display them\n",
    "nan_rows = full[full['t'].isna()]\n",
    "print(\"\\nRows with NaN in 't' column:\")\n",
    "print(nan_rows)\n",
    "print(f\"\\nTotal rows with NaN in 't': {len(nan_rows)}\")\n",
    "\n",
    "test_tax_no_na = test_tax.dropna()\n",
    "train_tax_no_na = train_tax.dropna()\n",
    "full_train_tax = full_train_tax.dropna()\n",
    "full_test_tax = full_test_tax.dropna()\n",
    "\n",
    "print(\"test_tax_no_na shape = \", test_tax_no_na.shape)\n",
    "print(\"train_tax_no_na shape = \", train_tax_no_na.shape)\n",
    "print(\"---------- raw train and tax ----------\")\n",
    "print(\"full_train_tax shape = \", full_train_tax.shape)\n",
    "print(\"full_test_tax shape = \", full_test_tax.shape)\n",
    "\n",
    "print(\"---------- Create demo datasets filtered by time ----------\")\n",
    "demo_train = full_no_na[full_no_na['t'].astype(int) < 12]\n",
    "demo_test = full_no_na[full_no_na['t'].astype(int) == 12]\n",
    "print(\"demo_test shape = \", demo_test.shape)\n"
   ]
  },
  {
   "cell_type": "markdown",
   "id": "93b22e2e",
   "metadata": {},
   "source": [
    "Make train set"
   ]
  },
  {
   "cell_type": "code",
   "execution_count": 17,
   "id": "8add04d8",
   "metadata": {},
   "outputs": [
    {
     "name": "stdout",
     "output_type": "stream",
     "text": [
      "---------- Select predictors for training set ----------\n"
     ]
    }
   ],
   "source": [
    "print(\"---------- Select predictors for training set ----------\")\n",
    "train_set = full_train_tax\n",
    "X = train_set.drop(['t', 'outcome_BMI_fnl', 'all_samples'], axis=1)\n",
    "X = X.drop(columns=['Unnamed: 0_tax', 'x_t'], errors='ignore')\n",
    "Y = train_set[['outcome_BMI_fnl']]\n",
    "Y = Y['outcome_BMI_fnl'].to_numpy() # Convert Y to numeric array\n",
    "clusters_train = train_set['all_samples'].to_numpy() # Get ID variables\n",
    "Z = np.ones((train_set.shape[0], 1)) # Create random effects matrix with ones\n",
    "time = train_set['t'].astype(float).to_numpy() # Get time values as numeric array "
   ]
  },
  {
   "cell_type": "markdown",
   "id": "875e29f7",
   "metadata": {},
   "source": [
    "Make test set"
   ]
  },
  {
   "cell_type": "code",
   "execution_count": 18,
   "id": "c5e1ae51",
   "metadata": {},
   "outputs": [
    {
     "name": "stdout",
     "output_type": "stream",
     "text": [
      "---------- Select predictors for test set ----------\n"
     ]
    }
   ],
   "source": [
    "print(\"---------- Select predictors for test set ----------\")\n",
    "test_set = full_test_tax\n",
    "X_new = test_set.drop(['t', 'outcome_BMI_fnl', 'all_samples'], axis=1)\n",
    "# Drop any unwanted columns and align test set features with training features\n",
    "X_new = test_set.drop(['t', 'outcome_BMI_fnl', 'all_samples'], axis=1)  # Drop non-predictor columns\n",
    "X_new = X_new[X.columns]  # Reorder and select columns to match training set\n",
    "X_new = X_new.astype(X.dtypes)  # Ensure data types match\n",
    "X_new = X_new.drop(columns=['Unnamed: 0_tax', 'x_t'], errors='ignore')\n",
    "X_new = X_new.drop(columns=['Unnamed: 0', 'character_id', 'timepoint'], errors='ignore')\n",
    "\n",
    "\n",
    "Y_new = test_set['outcome_BMI_fnl'].to_numpy()  # Convert Y to numeric array\n",
    "clusters_new = pd.Series(test_set['all_samples'])  # Convert to pandas Series\n",
    "# Create random effects matrix with ones\n",
    "Z_new = np.ones((len(X_new), 1))\n",
    "time_new = test_set['t'].astype(float).to_numpy()  # Convert time values to numeric array"
   ]
  },
  {
   "cell_type": "code",
   "execution_count": 19,
   "id": "05ca2120",
   "metadata": {},
   "outputs": [
    {
     "name": "stdout",
     "output_type": "stream",
     "text": [
      "---------- RUN MERF 🥰 ----------\n"
     ]
    },
    {
     "name": "stderr",
     "output_type": "stream",
     "text": [
      "INFO     [merf.py:307] Training GLL is 240.79834700087196 at iteration 1.\n",
      "INFO     [merf.py:307] Training GLL is 312.4931677555111 at iteration 2.\n",
      "INFO     [merf.py:307] Training GLL is 320.5619328148336 at iteration 3.\n",
      "INFO     [merf.py:307] Training GLL is 319.73880796369406 at iteration 4.\n",
      "INFO     [merf.py:307] Training GLL is 331.874541682312 at iteration 5.\n",
      "INFO     [merf.py:307] Training GLL is 330.5596500287716 at iteration 6.\n",
      "INFO     [merf.py:307] Training GLL is 335.0190064733472 at iteration 7.\n",
      "INFO     [merf.py:307] Training GLL is 340.35187827726884 at iteration 8.\n",
      "INFO     [merf.py:307] Training GLL is 337.74467005693396 at iteration 9.\n",
      "INFO     [merf.py:307] Training GLL is 352.39266950408717 at iteration 10.\n",
      "INFO     [merf.py:307] Training GLL is 353.750541433746 at iteration 11.\n",
      "INFO     [merf.py:307] Training GLL is 349.1389849892698 at iteration 12.\n",
      "INFO     [merf.py:307] Training GLL is 346.64044759725255 at iteration 13.\n",
      "INFO     [merf.py:307] Training GLL is 346.21493298406796 at iteration 14.\n",
      "INFO     [merf.py:307] Training GLL is 353.8165264833423 at iteration 15.\n",
      "INFO     [merf.py:307] Training GLL is 347.2044933567215 at iteration 16.\n",
      "INFO     [merf.py:307] Training GLL is 350.8343816357611 at iteration 17.\n",
      "INFO     [merf.py:307] Training GLL is 348.2156846112583 at iteration 18.\n",
      "INFO     [merf.py:307] Training GLL is 343.4151840761896 at iteration 19.\n",
      "INFO     [merf.py:307] Training GLL is 334.35230789073586 at iteration 20.\n"
     ]
    },
    {
     "data": {
      "text/plain": [
       "<merf.merf.MERF at 0x130e17e00>"
      ]
     },
     "execution_count": 19,
     "metadata": {},
     "output_type": "execute_result"
    }
   ],
   "source": [
    "print(\"---------- RUN MERF 🥰 ----------\")\n",
    "# Mixed Effects Random Forest Training\n",
    "mrf = MERF()\n",
    "mrf.fit(X.select_dtypes(include=[np.number]), Z, pd.Series(clusters_train), Y)\n",
    " # Mixed Effects Random Forest Training with participant RE"
   ]
  },
  {
   "cell_type": "code",
   "execution_count": 20,
   "id": "3765fb45",
   "metadata": {},
   "outputs": [
    {
     "name": "stdout",
     "output_type": "stream",
     "text": [
      "['D_hat_history', '__class__', '__delattr__', '__dict__', '__dir__', '__doc__', '__eq__', '__firstlineno__', '__format__', '__ge__', '__getattribute__', '__getstate__', '__gt__', '__hash__', '__init__', '__init_subclass__', '__le__', '__lt__', '__module__', '__ne__', '__new__', '__reduce__', '__reduce_ex__', '__repr__', '__setattr__', '__sizeof__', '__static_attributes__', '__str__', '__subclasshook__', '__weakref__', 'b_hat_history', 'cluster_counts', 'fe_model', 'fit', 'get_bhat_history_df', 'gll_early_stop_threshold', 'gll_history', 'max_iterations', 'predict', 'score', 'sigma2_hat_history', 'trained_b', 'trained_fe_model', 'val_loss_history']\n"
     ]
    }
   ],
   "source": [
    "print(dir(mrf))"
   ]
  },
  {
   "cell_type": "code",
   "execution_count": null,
   "id": "8ed1ff99",
   "metadata": {},
   "outputs": [],
   "source": [
    "plot_merf_training_stats(mrf, num_clusters_to_plot=100)"
   ]
  },
  {
   "cell_type": "markdown",
   "id": "f3e66aa0",
   "metadata": {},
   "source": [
    "Once fit, the model can be used to predict on new samples given X, Z, and id's. The predict code handles whether or not to apply the random effect correction based on if the id of the new sample was seen in training or not."
   ]
  },
  {
   "cell_type": "code",
   "execution_count": 21,
   "id": "6d8b17d8",
   "metadata": {},
   "outputs": [
    {
     "name": "stdout",
     "output_type": "stream",
     "text": [
      "Columns in training set: Index(['Unnamed: 0', 'g__Parabacteroides_B_862066', 'g__Coprenecus',\n",
      "       'g__Butyricimonas', 'g__Odoribacter_865974', 'g__Alistipes_A_871404',\n",
      "       'g__Paramuribaculum', 'g__Alistipes_A_871400', 'g__Barnesiella',\n",
      "       'g__Coprobacter',\n",
      "       ...\n",
      "       'g__Ventrisoma', 'g__Clostridium_Q_135853', 'g__Clostridium_Q_135822',\n",
      "       'g__Porcincola', 'g__Copromonas', 'g__Ventrimonas', 'g__Dorea_A',\n",
      "       'g__Massilistercora', 'character_id', 'timepoint'],\n",
      "      dtype='object', length=182)\n",
      "Columns in test set: Index(['g__Parabacteroides_B_862066', 'g__Coprenecus', 'g__Butyricimonas',\n",
      "       'g__Odoribacter_865974', 'g__Alistipes_A_871404', 'g__Paramuribaculum',\n",
      "       'g__Alistipes_A_871400', 'g__Barnesiella', 'g__Coprobacter',\n",
      "       'g__Phocaeicola_A_858004',\n",
      "       ...\n",
      "       'g__Lactonifactor', 'g__Enterocloster', 'g__Ventrisoma',\n",
      "       'g__Clostridium_Q_135853', 'g__Clostridium_Q_135822', 'g__Porcincola',\n",
      "       'g__Copromonas', 'g__Ventrimonas', 'g__Dorea_A', 'g__Massilistercora'],\n",
      "      dtype='object', length=179)\n",
      "---------- no diff ----------\n",
      "{'timepoint', 'Unnamed: 0', 'character_id'}\n",
      "set()\n",
      "---------- Train data types ----------\n",
      "Unnamed: 0                      object\n",
      "g__Parabacteroides_B_862066    float64\n",
      "g__Coprenecus                  float64\n",
      "g__Butyricimonas               float64\n",
      "g__Odoribacter_865974          float64\n",
      "                                ...   \n",
      "g__Ventrimonas                 float64\n",
      "g__Dorea_A                     float64\n",
      "g__Massilistercora             float64\n",
      "character_id                    object\n",
      "timepoint                       object\n",
      "Length: 182, dtype: object\n",
      "---------- Test data types ----------\n",
      "g__Parabacteroides_B_862066    float64\n",
      "g__Coprenecus                  float64\n",
      "g__Butyricimonas               float64\n",
      "g__Odoribacter_865974          float64\n",
      "g__Alistipes_A_871404          float64\n",
      "                                ...   \n",
      "g__Porcincola                  float64\n",
      "g__Copromonas                  float64\n",
      "g__Ventrimonas                 float64\n",
      "g__Dorea_A                     float64\n",
      "g__Massilistercora             float64\n",
      "Length: 179, dtype: object\n"
     ]
    }
   ],
   "source": [
    "# Make sure training and testing match up \n",
    "print(\"Columns in training set:\", X.columns)\n",
    "print(\"Columns in test set:\", X_new.columns)\n",
    "print(\"---------- no diff ----------\")\n",
    "print(set(X.columns) - set(X_new.columns))  # Columns in training but not test\n",
    "print(set(X_new.columns) - set(X.columns))  # Columns in test but not training\n",
    "print(\"---------- Train data types ----------\")\n",
    "print(X.dtypes)  # Data types of training set\n",
    "print(\"---------- Test data types ----------\")\n",
    "print(X_new.dtypes)"
   ]
  },
  {
   "cell_type": "code",
   "execution_count": 22,
   "id": "78426775",
   "metadata": {},
   "outputs": [
    {
     "name": "stdout",
     "output_type": "stream",
     "text": [
      "0      ACO-053.12m\n",
      "1       ACO-053.6m\n",
      "2       ACO-053.BL\n",
      "3       ADA-105.BL\n",
      "4      AGA-071.12m\n",
      "          ...     \n",
      "254     YOR-103.6m\n",
      "255     YOR-103.BL\n",
      "256    YSU-097.12m\n",
      "257     YSU-097.6m\n",
      "258     YSU-097.BL\n",
      "Name: Unnamed: 0, Length: 259, dtype: object\n",
      "X_new shape: (63, 179)\n",
      "Z_new shape: (63, 1)\n",
      "clusters_new shape: (63,)\n"
     ]
    }
   ],
   "source": [
    "print(X.iloc[:, 0])\n",
    "print(\"X_new shape:\", X_new.shape)\n",
    "print(\"Z_new shape:\", Z_new.shape) \n",
    "print(\"clusters_new shape:\", clusters_new.shape)\n"
   ]
  },
  {
   "cell_type": "code",
   "execution_count": 23,
   "id": "bbb7c8f7",
   "metadata": {},
   "outputs": [
    {
     "name": "stdout",
     "output_type": "stream",
     "text": [
      "[31.50598148 31.57570777 32.03119247 31.85680534 31.44589297 31.23700317\n",
      " 31.65929516 31.97890133 31.20753869 32.25689831 32.63070177 32.26621414\n",
      " 32.43027061 31.16979421 32.54876621 33.12989313 32.74501348 32.27184133\n",
      " 33.34735428 32.19229541 32.25837489 32.906694   32.85235152 32.49334301\n",
      " 32.37818438 31.61454898 32.62695119 31.48966072 31.96301241 32.2975165\n",
      " 31.95511618 31.95516708 32.36415419 33.15462343 31.62530583 32.23394136\n",
      " 32.20036146 32.1126885  32.85344607 32.53836288 33.46052323 32.73949988\n",
      " 31.97266149 31.25142097 31.82068592 32.13557324 32.22742794 32.27642141\n",
      " 32.4087797  31.93858143 33.65609115 32.78413829 33.06565443 33.8891173\n",
      " 31.59929174 31.26493294 30.91670051 31.76957978 31.31240959 31.56717785\n",
      " 33.41741306 32.47461304 31.9332199 ]\n"
     ]
    }
   ],
   "source": [
    "# Predict using the fitted model\n",
    "y_hat_new = mrf.predict(X_new, Z_new, clusters_new)\n",
    "print(y_hat_new)"
   ]
  },
  {
   "cell_type": "markdown",
   "id": "b142786b",
   "metadata": {},
   "source": [
    "Look up longitudinal R - squared values "
   ]
  },
  {
   "cell_type": "code",
   "execution_count": 24,
   "id": "307b1d35",
   "metadata": {},
   "outputs": [
    {
     "name": "stdout",
     "output_type": "stream",
     "text": [
      "Correlation between actual and predicted values: 0.2186\n",
      "Root Mean Squared Error: 5.0846\n",
      "R-squared Score: -0.0509\n"
     ]
    }
   ],
   "source": [
    "# Calculate and print RMSE and R-squared\n",
    "rmse = np.sqrt(np.mean((Y_new - y_hat_new)**2))\n",
    "correlation = np.corrcoef(Y_new, y_hat_new)[0,1]\n",
    "print(f\"Correlation between actual and predicted values: {correlation:.4f}\")\n",
    "r2 = 1 - (np.sum((Y_new - y_hat_new)**2) / np.sum((Y_new - np.mean(Y_new))**2))\n",
    "print(f\"Root Mean Squared Error: {rmse:.4f}\")\n",
    "print(f\"R-squared Score: {r2:.4f}\")"
   ]
  },
  {
   "cell_type": "code",
   "execution_count": 25,
   "id": "05c99347",
   "metadata": {},
   "outputs": [
    {
     "data": {
      "image/png": "[encoded data removed]",
      "text/plain": [
       "<Figure size 800x600 with 1 Axes>"
      ]
     },
     "metadata": {},
     "output_type": "display_data"
    }
   ],
   "source": [
    "# Create scatter plot of predicted vs actual values\n",
    "plt.figure(figsize=(8, 6))\n",
    "plt.scatter(Y_new, y_hat_new, alpha=0.5)\n",
    "plt.xlabel('Actual Values')\n",
    "plt.ylabel('Predicted Values')\n",
    "plt.title('Predicted vs Actual Values with Trend Line')\n",
    "\n",
    "# Add trend line\n",
    "z = np.polyfit(Y_new, y_hat_new, 1)\n",
    "p = np.poly1d(z)\n",
    "plt.plot(Y_new, p(Y_new), \"r--\", alpha=0.8)\n",
    "plt.grid(True, alpha=0.3)\n",
    "\n",
    "# Save plot as PNG and PDF\n",
    "plt.savefig(os.path.join(output_dir, 'predicted_vs_actual.png'), dpi=300, bbox_inches='tight')\n",
    "plt.show()"
   ]
  }
 ],
 "metadata": {
  "kernelspec": {
   "display_name": "Python 3 (ipykernel)",
   "language": "python",
   "name": "python3"
  },
  "language_info": {
   "codemirror_mode": {
    "name": "ipython",
    "version": 3
   },
   "file_extension": ".py",
   "mimetype": "text/x-python",
   "name": "python",
   "nbconvert_exporter": "python",
   "pygments_lexer": "ipython3",
   "version": "3.13.0"
  }
 },
 "nbformat": 4,
 "nbformat_minor": 5
}
