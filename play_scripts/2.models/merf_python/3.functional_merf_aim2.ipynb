{
 "cells": [
  {
   "cell_type": "code",
   "execution_count": 10,
   "metadata": {},
   "outputs": [],
   "source": [
    "import pandas as pd\n",
    "import os\n",
    "import re\n",
    "import numpy as np\n",
    "from merf import MERF\n",
    "import matplotlib.pyplot as plt\n",
    "import seaborn as sns\n",
    "import itertools \n",
    "sns.set_context(\"poster\")\n",
    "from sklearn.ensemble import RandomForestRegressor\n",
    "import matplotlib as mpl\n",
    "mpl.rcParams['figure.figsize'] = (11,8)\n",
    "from merf.merf import MERF\n",
    "from sklearn.model_selection import train_test_split, KFold\n",
    "from merf.viz import plot_merf_training_stats\n",
    "from em_utils import *\n",
    "# Create output directory if it doesn't exist\n",
    "output_dir = \"/Users/emily/projects/research/Stanislawski/comps/mutli-omic-predictions/play_scripts/2.models/merf_python/merf_plots/3.functional\"\n",
    "df_dir = \"/Users/emily/projects/research/Stanislawski/comps/mutli-omic-predictions/play_scripts/2.models/merf_python/merf_dfs/3.functional\"\n",
    "os.makedirs(output_dir, exist_ok=True)"
   ]
  },
  {
   "cell_type": "code",
   "execution_count": null,
   "metadata": {},
   "outputs": [],
   "source": [
    "print(\"---------- Read data ----------\")\n",
    "func_dir = \"/Users/emily/projects/research/Stanislawski/comps/mutli-omic-predictions/data/functional/aim2\"\n",
    "test = read_data(func_dir, \"all_clr_testing.csv\")\n",
    "train = read_data(func_dir, \"all_clr_training.csv\")\n",
    "\n",
    "print(\"---------- Read metadata ----------\")\n",
    "m1_dir = \"/Users/emily/projects/research/Stanislawski/comps/mutli-omic-predictions/data/clinical/transformed/aim2\"\n",
    "met_test = read_data(m1_dir, \"a2_test_samples_standard_clinical.csv\")\n",
    "met_train = read_data(m1_dir, \"a2_train_samples_standard_clinical.csv\")\n",
    "met_full = read_data(m1_dir, \"a2_meta_Transformed_standard_clinical.csv\")\n",
    "met_full_raw = read_data(m1_dir, \"a2_meta_not_Transformed_standard_clinical.csv\")\n",
    "\n",
    "print(\"---------- Columns in meta data ----------\")\n",
    "print(met_test.columns.to_list())\n",
    "print(met_train.columns.to_list())\n",
    "print(\"---------- Columns in meta unnamed ----------\")\n",
    "print(met_test['Unnamed: 0'])\n",
    "print(met_train['Unnamed: 0'])\n",
    "print(\"---------- meta subject_ids ----------\")\n",
    "print(met_test['subject_id'])\n",
    "print(met_train['subject_id'])\n",
    "print(\"---------- Meta record_id ----------\")\n",
    "print(met_test['record_id'])\n",
    "print(met_train['record_id'])\n",
    "\n",
    "print(\"---------- Columns in functional data ----------\")\n",
    "print(test.columns.to_list())\n",
    "print(train.columns.to_list())\n",
    "print(\"---------- Do test and train data have the same columns? ----------\")\n",
    "print(test.columns.to_list() == train.columns.to_list())\n",
    "print(train.columns.to_list() == test.columns.to_list())\n",
    "print(\"---------- WTF is the unnammed ----------\")\n",
    "print(train['Unnamed: 0'])\n",
    "print(test['Unnamed: 0'])\n",
    "print(\"---------- Sample _ IDs ----------\")\n",
    "print(train['SampleID'])\n",
    "print(test['SampleID'])\n",
    "print(\"---------- All Samples ----------\")\n",
    "print(train['all_samples'])\n",
    "print(test['all_samples'])\n"
   ]
  },
  {
   "cell_type": "code",
   "execution_count": null,
   "metadata": {},
   "outputs": [],
   "source": [
    "# Split X column into character_id and timepoint\n",
    "print(\"---------- Split SampleID column into character_id and timepoint ---------\")\n",
    "train[['character_id', 'timepoint']] = train['SampleID'].str.split('.', expand=True)\n",
    "test[['character_id', 'timepoint']] = test['SampleID'].str.split('.', expand=True)\n",
    "\n",
    "print(test.columns.to_list())\n",
    "print(train.columns.to_list())\n",
    "\n",
    "# Remove 3 and 18 months \n",
    "train = train[~train['timepoint'].isin(['3', '18'])]\n",
    "test = test[~test['timepoint'].isin(['3', '18'])]"
   ]
  }
 ],
 "metadata": {
  "kernelspec": {
   "display_name": "researchVenv",
   "language": "python",
   "name": "python3"
  },
  "language_info": {
   "codemirror_mode": {
    "name": "ipython",
    "version": 3
   },
   "file_extension": ".py",
   "mimetype": "text/x-python",
   "name": "python",
   "nbconvert_exporter": "python",
   "pygments_lexer": "ipython3",
   "version": "3.13.0"
  }
 },
 "nbformat": 4,
 "nbformat_minor": 2
}
