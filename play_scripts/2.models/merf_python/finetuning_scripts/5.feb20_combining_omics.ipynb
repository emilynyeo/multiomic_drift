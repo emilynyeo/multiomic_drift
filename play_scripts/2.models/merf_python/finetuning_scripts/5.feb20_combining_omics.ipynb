{
 "cells": [
  {
   "cell_type": "code",
   "execution_count": 1,
   "metadata": {},
   "outputs": [],
   "source": [
    "import pandas as pd\n",
    "import os\n",
    "import re\n",
    "import sys\n",
    "import numpy as np\n",
    "from merf import MERF\n",
    "import matplotlib.pyplot as plt\n",
    "import seaborn as sns\n",
    "import itertools \n",
    "sns.set_context(\"poster\")\n",
    "from sklearn.ensemble import RandomForestRegressor\n",
    "import matplotlib as mpl\n",
    "mpl.rcParams['figure.figsize'] = (11,8)\n",
    "from merf.merf import MERF\n",
    "from sklearn.model_selection import train_test_split, KFold\n",
    "from merf.viz import plot_merf_training_stats\n",
    "\n",
    "current_dir = os.getcwd() # Get the current working directory\n",
    "parent_dir = os.path.abspath(os.path.join(current_dir, '..'))\n",
    "sys.path.append(parent_dir)\n",
    "from em_utils import *\n",
    "\n",
    "# Create output directory if it doesn't exist\n",
    "output_dir = \"/Users/emily/projects/research/Stanislawski/comps/mutli-omic-predictions/play_scripts/2.models/merf_python/merf_plots/5.combined\"\n",
    "df_dir = \"/Users/emily/projects/research/Stanislawski/comps/mutli-omic-predictions/play_scripts/2.models/merf_python/merf_dfs/5.combined\"\n",
    "os.makedirs(output_dir, exist_ok=True)"
   ]
  },
  {
   "cell_type": "markdown",
   "metadata": {},
   "source": [
    "# Read in prior DFs"
   ]
  },
  {
   "cell_type": "code",
   "execution_count": 2,
   "metadata": {},
   "outputs": [
    {
     "name": "stdout",
     "output_type": "stream",
     "text": [
      "---------- Read metadata ----------\n"
     ]
    }
   ],
   "source": [
    "# Meta / clinical\n",
    "clin_dir = \"/Users/emily/projects/research/Stanislawski/comps/mutli-omic-predictions/data/clinical/transformed/aim2/merf_ready/\"\n",
    "test_long = pd.read_csv(os.path.join(clin_dir, 'test_clinical_no_na.csv'))  \n",
    "train_long = pd.read_csv(os.path.join(clin_dir, 'train_clinical_no_na.csv'))  \n",
    "full_long = pd.read_csv(os.path.join(clin_dir, 'full_train_clinical.csv'))  \n",
    "raw_train = pd.read_csv(os.path.join(clin_dir, 'raw__train_clinical.csv'))  \n",
    "raw_test = pd.read_csv(os.path.join(clin_dir, 'raw_test_clinical.csv'))\n",
    "\n",
    "print(\"---------- Read metadata ----------\")\n",
    "m1_dir = \"/Users/emily/projects/research/Stanislawski/comps/mutli-omic-predictions/data/clinical/transformed/aim2\"\n",
    "#met_test = read_data(m1_dir, \"long_a2_test_samples_standard_clinical_feb20.csv\")\n",
    "#met_train = read_data(m1_dir, \"long_a2_train_samples_standard_clinical_feb20.csv\")\n",
    "met_test = read_data(m1_dir, \"long_a2_test_samples_extra_clinical_feb20.csv\")\n",
    "met_train = read_data(m1_dir, \"long_a2_train_samples_extra_clinical_feb20.csv\")\n",
    "#met_full = read_data(m1_dir, \"a2_meta_Transformed_standard_clinical.csv\")\n",
    "#met_full_raw = read_data(m1_dir, \"a2_meta_not_Transformed_standard_clinical.csv\")\n",
    "\n",
    "# Genetic \n",
    "gen_dir = \"/Users/emily/projects/research/Stanislawski/comps/mutli-omic-predictions/data/genetic/\"\n",
    "gen_test = pd.read_csv(os.path.join(gen_dir, 'genetic_risk_testing.csv'))  \n",
    "gen_train = pd.read_csv(os.path.join(gen_dir, 'genetic_risk_training.csv')) \n",
    "\n",
    "# Taxa\n",
    "tax_dir = \"/Users/emily/projects/research/Stanislawski/comps/mutli-omic-predictions/data/taxa/aim2_transformed/genus/\"\n",
    "test_tax_no_na = pd.read_csv(os.path.join(tax_dir, 'aim2_clr_testing_feb20.csv'))\n",
    "train_tax_no_na = pd.read_csv(os.path.join(tax_dir, 'aim2_clr_training_feb20.csv'))\n",
    "#full_train_tax = pd.read_csv(os.path.join(tax_dir, 'full_train_tax.csv'))\n",
    "#full_test_tax = pd.read_csv(os.path.join(tax_dir, 'full_test_tax.csv'))\n",
    "\n",
    "# Functional\n",
    "func_dir = \"/Users/emily/projects/research/Stanislawski/comps/mutli-omic-predictions/data/functional/aim2/\"\n",
    "test_func_no_na = pd.read_csv(os.path.join(func_dir, 'all_clr_testing_feb20.csv'))  # Read test_tax_no_na\n",
    "train_func_no_na = pd.read_csv(os.path.join(func_dir, 'all_clr_training_feb20.csv'))  # Read train_tax_no_na\n",
    "#full_train_func = pd.read_csv(os.path.join(func_dir, 'full_train_functional.csv'))  # Read full_train_tax\n",
    "#full_test_func = pd.read_csv(os.path.join(func_dir, 'full_test_functional.csv'))\n",
    "\n",
    "# Micom fluxes\n",
    "micom_dir = \"/Users/emily/projects/research/Stanislawski/comps/mutli-omic-predictions/data/micom/aim2/\"\n",
    "test_micom_no_na = pd.read_csv(os.path.join(micom_dir, 'flux_all_testing_feb20.csv'))  # Read in test_micom_no_na\n",
    "train_micom_no_na = pd.read_csv(os.path.join(micom_dir, 'flux_all_training_feb20.csv'))  # Read in train_micom_no_na\n",
    "#full_train_micom = pd.read_csv(os.path.join(micom_dir, 'full_train_micom.csv'))  # Read in full_train_micom\n",
    "#full_test_micom = pd.read_csv(os.path.join(micom_dir, 'full_test_micom.csv')) "
   ]
  },
  {
   "cell_type": "code",
   "execution_count": 3,
   "metadata": {},
   "outputs": [
    {
     "name": "stdout",
     "output_type": "stream",
     "text": [
      "meta test =  (291, 20)\n",
      "Meta tst columns ['Unnamed: 0', 'record_id', 'subject_id', 'randomized_group', 'cohort_number', 'sex', 'race', 'age', 'outcome_BMI_fnl', 'Glucose', 'HOMA_IR', 'Insulin_endo', 'HDL_Total_Direct_lipid', 'LDL_Calculated', 'Triglyceride_lipid', 'Peptide_YY', 'Ghrelin', 'Leptin', 'Hemoglobin_A1C', 'time']\n",
      "meta train shape =  (72, 20)\n",
      "Meta train df columns ['Unnamed: 0', 'record_id', 'subject_id', 'randomized_group', 'cohort_number', 'sex', 'race', 'age', 'outcome_BMI_fnl', 'Glucose', 'HOMA_IR', 'Insulin_endo', 'HDL_Total_Direct_lipid', 'LDL_Calculated', 'Triglyceride_lipid', 'Peptide_YY', 'Ghrelin', 'Leptin', 'Hemoglobin_A1C', 'time']\n",
      "genetic df shape =  (120, 10)\n",
      "Genetic df columns ['Unnamed: 0', 'subject_id', 'bmi_prs', 'old_or_new', 'predicted_BL_BMI', 'differences_BL_BMI', 'diff_BMI_quartile', 'diff_BMI_std', 'methyl_bmi_rs', 'methyl_bmi_rs_standardized']\n",
      "Taxa df shape =  (461, 183)\n",
      "Taxa df columns ['Unnamed: 0', 'g__Parabacteroides_B_862066', 'g__Coprenecus', 'g__Butyricimonas', 'g__Odoribacter_865974', 'g__Alistipes_A_871404', 'g__Paramuribaculum', 'g__Alistipes_A_871400', 'g__Barnesiella', 'g__Coprobacter', 'g__Phocaeicola_A_858004', 'g__Bacteroides_H', 'g__Prevotella', 'g__Paraprevotella', 'g__Methanobrevibacter_A', 'g__DTU012', 'g__Escherichia_710834', 'g__Parasutterella', 'g__Sutterella', 'g__Haemophilus_D_735815', 'g__Enterobacter_B_713587', 'g__Akkermansia', 'g__Eubacterium_O_258270', 'g__Anaerofustis', 'g__Peptococcus', 'g__QAMH01', 'g__Senegalimassilia', 'g__Adlercreutzia_404257', 'g__Slackia_A', 'g__Eggerthella', 'g__CAG.1427', 'g__Gordonibacter', 'g__Collinsella', 'g__Holdemania', 'g__Longibaculum', 'g__Catenibacterium', 'g__Erysipelatoclostridium', 'g__Faecalibacillus', 'g___2', 'g__Holdemanella', 'g__Merdibacter', 'g__Clostridium_AQ', 'g__Amedibacillus', 'g__Longicatena', 'g__Dielma', 'g__Pauljensenia', 'g__Bifidobacterium_388775', 'g__Acidaminococcus', 'g__Phascolarctobacterium_A', 'g__Veillonella_A', 'g__Dialister', 'g__Streptococcus', 'g__Lactococcus_A_346120', 'g__Lacticaseibacillus', 'g__Turicibacter', 'g__Gemella', 'g__Limiplasma', 'g__SFMI01', 'g___3', 'g__Onthenecus', 'g__Copromorpha', 'g__BX12', 'g___4', 'g__Romboutsia_B', 'g__CCUG.7971', 'g__Intestinibacter', 'g__Terrisporobacter', 'g___5', 'g__PeH17', 'g__Clostridium_T', 'g__CAG.269', 'g___6', 'g__CAG.273', 'g__Merdicola', 'g__CAG.41', 'g__Monoglobus', 'g__ER4', 'g___7', 'g__Dysosmobacter', 'g__Vescimonas', 'g__CAG.83', 'g__Limivicinus', 'g__Faecousia', 'g__Agathobaculum', 'g__Lawsonibacter', 'g__Intestinimonas', 'g__Pseudobutyricicoccus', 'g__Evtepia', 'g__Onthomonas', 'g___8', 'g__RUG13077', 'g__Avispirillum', 'g__SFLA01', 'g__WQUU01', 'g__UMGS1071', 'g__Clostridium_A', 'g__Acutalibacter', 'g__UBA1417', 'g__Anaeromassilibacillus', 'g__Hydrogeniiclostridium', 'g__Ruminococcus_E', 'g__UBA5905', 'g__Bittarella', 'g__Fimenecus', 'g__Faecalibacterium', 'g__Gemmiger_A_73129', 'g__Ruthenibacterium', 'g__Ruminiclostridium_E', 'g___9', 'g__CAG.177', 'g__CAG.217', 'g__Angelakisella', 'g__Massilioclostridium', 'g__Phocea', 'g__Anaerotruncus', 'g__Negativibacillus', 'g__UBA1394', 'g__Ruminococcus_C_58660', 'g__Ruminococcus_D', 'g___10', 'g___11', 'g__Anaerotignum_189125', 'g__CAG.274', 'g__Anaerobutyricum', 'g__Eubacterium_I', 'g__Roseburia', 'g__Agathobacter_164117', 'g__Butyribacter', 'g__RUG115', 'g__CAG.45', 'g__Eubacterium_J', 'g__Eubacterium_G', 'g__Howardella', 'g___1', 'g__Anaerostipes', 'g__Coprococcus_A_121497', 'g__CAG.127', 'g__Lachnospira', 'g__Eubacterium_F', 'g__Coprococcus_A_187866', 'g__Catenibacillus', 'g__Frisingicoccus', 'g__Merdisoma', 'g__Marvinbryantia', 'g__Blautia_A_141780', 'g__Blautia_A_141781', 'g__UMGS1375', 'g__Limivivens', 'g__UBA9414', 'g__Oliverpabstia', 'g__Mediterraneibacter_A_155507', 'g__COE1', 'g__Acetatifactor', 'g__CAG.95', 'g__Hungatella_A_128155', 'g__Hungatella_A_127239', 'g__Sellimonas', 'g__Eisenbergiella', 'g__UBA3402', 'g__Scatomonas', 'g__Clostridium_Q_134516', 'g__Faecalimonas', 'g__Ruminococcus_B', 'g__Clostridium_AP', 'g__CAG.317_146760', 'g__Bariatricus', 'g__Muricomes_149725', 'g__Lachnoclostridium_B', 'g__Schaedlerella', 'g__Mediterraneibacter_A_155590', 'g__Lactonifactor', 'g__Enterocloster', 'g__Ventrisoma', 'g__Clostridium_Q_135853', 'g__Clostridium_Q_135822', 'g__Porcincola', 'g__Copromonas', 'g__Ventrimonas', 'g__Dorea_A', 'g__Massilistercora', 'SampleID', 'all_samples', 'time']\n",
      "Functional df shape =  (351, 270)\n",
      "Functional df columns ['Unnamed: 0', 'SampleID', 'N10.formyl.tetrahydrofolate_biosynthesis', 'homolactic_fermentation', 'glycolysis_III_.from_glucose.', 'superpathway_of_arginine_and_polyamine_biosynthesis', 'arginine._ornithine_and_proline_interconversion', 'L.arginine_biosynthesis_I_.via_L.ornithine.', 'L.arginine_biosynthesis_II_.acetyl_cycle.', 'chorismate_biosynthesis_I', 'superpathway_of_L.aspartate_and_L.asparagine_biosynthesis', 'biotin_biosynthesis_I', 'superpathway_of_branched_amino_acid_biosynthesis', 'Calvin.Benson.Bassham_cycle', 'pyruvate_fermentation_to_butanoate', 'coenzyme_A_biosynthesis_I', 'adenosylcobalamin_salvage_from_cobinamide_I', 'reductive_acetyl_coenzyme_A_pathway', 'colanic_acid_building_blocks_biosynthesis', 'superpathway_of_aromatic_amino_acid_biosynthesis', 'L.lysine_biosynthesis_I', 'superpathway_of_purine_nucleotides_de_novo_biosynthesis_II', 'dTDP.L.rhamnose_biosynthesis_I', 'fatty_acid_.beta..oxidation_I', 'fatty_acid_elongation_.._saturated', 'superpathway_of_fatty_acid_biosynthesis_initiation_.E._coli.', 'mixed_acid_fermentation', 'superpathway_of_tetrahydrofolate_biosynthesis_and_salvage', 'superpathway_of_fucose_and_rhamnose_degradation', 'fucose_degradation', 'superpathway_of_hexuronide_and_hexuronate_degradation', 'D.galactarate_degradation_I', 'D.galacturonate_degradation_I', 'superpathway_of_N.acetylglucosamine._N.acetylmannosamine_and_N.acetylneuraminate_degradation', 'D.glucarate_degradation_I', 'superpathway_of_D.glucarate_and_D.galactarate_degradation', 'gluconeogenesis_I', 'glucose_and_glucose.1.phosphate_degradation', 'superpathway_of_.beta..D.glucuronide_and_D.glucuronate_degradation', 'L.ornithine_biosynthesis', 'glycogen_degradation_I_.bacterial.', 'glycogen_biosynthesis_I_.from_ADP.D.Glucose.', 'superpathway_of_glycol_metabolism_and_degradation', 'glycolysis_I_.from_glucose_6.phosphate.', 'superpathway_of_glycolysis_and_Entner.Doudoroff', 'glyoxylate_cycle', 'superpathway_of_glycerol_degradation_to_1.3.propanediol', 'heme_biosynthesis_I_.aerobic.', 'heme_biosynthesis_II_.anaerobic.', 'superpathway_of_hexitol_degradation_.bacteria.', 'L.histidine_degradation_I', 'L.histidine_biosynthesis', 'L.methionine_biosynthesis_I', 'L.methionine_biosynthesis_III', 'L.isoleucine_biosynthesis_I_.from_threonine.', 'lactose_and_galactose_degradation_I', 'superpathway_of_S.adenosyl.L.methionine_biosynthesis', 'methanogenesis_from_acetate', 'NAD_salvage_pathway_II', 'lipid_IVA_biosynthesis', 'methylerythritol_phosphate_pathway_I', 'pentose_phosphate_pathway_.non.oxidative_branch.', 'O.antigen_building_blocks_biosynthesis_.E._coli.', 'pyruvate_fermentation_to_propanoate_I', 'heterolactic_fermentation', 'Bifidobacterium_shunt', 'superpathway_of_.R.R..butanediol_biosynthesis', 'acetylene_degradation', 'L.glutamate_degradation_V_.via_hydroxyglutarate.', 'L.lysine_fermentation_to_acetate_and_butanoate', 'purine_nucleobases_degradation_I_.anaerobic.', 'octane_oxidation', 'reductive_TCA_cycle_I', 'superpathway_of_L.lysine._L.threonine_and_L.methionine_biosynthesis_I', 'incomplete_reductive_TCA_cycle', 'superpathway_of_N.acetylneuraminate_degradation', 'hexitol_fermentation_to_lactate._formate._ethanol_and_acetate', 'myo.inositol_degradation_I', 'phosphopantothenate_biosynthesis_I', 'pantothenate_and_coenzyme_A_biosynthesis_I', 'pentose_phosphate_pathway', 'peptidoglycan_biosynthesis_I_.meso.diaminopimelate_containing.', 'superpathway_of_phospholipid_biosynthesis_I_.bacteria.', 'superpathway_of_polyamine_biosynthesis_II', 'superpathway_of_polyamine_biosynthesis_I', 'polyisoprenoid_biosynthesis_.E._coli.', 'superpathway_of_histidine._purine._and_pyrimidine_biosynthesis', 'CMP.3.deoxy.D.manno.octulosonate_biosynthesis_I', 'formaldehyde_assimilation_II_.RuMP_Cycle.', 'L.lysine_biosynthesis_II', 'L.lysine_biosynthesis_III', 'superpathway_of_L.isoleucine_biosynthesis_I', 'urea_cycle', 'biotin_biosynthesis_II', 'X4.aminobutanoate_degradation_V', 'L.lysine_biosynthesis_VI', 'pyruvate_fermentation_to_acetate_and_lactate_II', 'L.isoleucine_biosynthesis_II', 'L.isoleucine_biosynthesis_III', 'L.isoleucine_biosynthesis_IV', 'superpathway_of_geranylgeranyl_diphosphate_biosynthesis_II_.via_MEP.', 'L.arginine_biosynthesis_III_.via_N.acetyl.L.citrulline.', 'glutaryl.CoA_degradation', 'tetrapyrrole_biosynthesis_I_.from_glutamate.', 'tetrapyrrole_biosynthesis_II_.from_glycine.', 'peptidoglycan_biosynthesis_II_.staphylococci.', 'superpathway_of_sulfur_oxidation_.Acidianus_ambivalens.', 'superpathway_of_L.methionine_biosynthesis_.by_sulfhydrylation.', 'superpathway_of_L.methionine_biosynthesis_.transsulfuration.', 'sucrose_degradation_IV_.sucrose_phosphorylase.', 'glycolysis_II_.from_fructose_6.phosphate.', 'L.glutamate_and_L.glutamine_biosynthesis', 'adenosylcobalamin_biosynthesis_from_cobyrinate_a.c.diamide_I', 'GDP.mannose_biosynthesis', 'CDP.diacylglycerol_biosynthesis_I', 'acetyl.CoA_fermentation_to_butanoate_II', 'succinate_fermentation_to_butanoate', 'UMP_biosynthesis', 'urate_biosynthesis.inosine_5..phosphate_degradation', 'allantoin_degradation_to_glyoxylate_III', 'X1.4.dihydroxy.2.naphthoate_biosynthesis_I', 'superpathway_of_menaquinol.8_biosynthesis_I', 'superpathway_of_menaquinol.7_biosynthesis', 'superpathway_of_menaquinol.9_biosynthesis', 'superpathway_of_menaquinol.6_biosynthesis_I', 'ubiquinol.7_biosynthesis_.prokaryotic.', 'ubiquinol.9_biosynthesis_.prokaryotic.', 'ubiquinol.10_biosynthesis_.prokaryotic.', 'superpathway_of_demethylmenaquinol.6_biosynthesis_I', 'superpathway_of_demethylmenaquinol.8_biosynthesis', 'superpathway_of_demethylmenaquinol.9_biosynthesis', 'superpathway_of_phylloquinol_biosynthesis', 'superpathway_of_menaquinol.10_biosynthesis', 'superpathway_of_menaquinol.11_biosynthesis', 'superpathway_of_menaquinol.12_biosynthesis', 'superpathway_of_menaquinol.13_biosynthesis', 'superpathway_of_geranylgeranyldiphosphate_biosynthesis_I_.via_mevalonate.', 'TCA_cycle_VI_.obligate_autotrophs.', 'superpathay_of_heme_biosynthesis_from_glutamate', 'palmitate_biosynthesis_II_.bacteria_and_plants.', 'cis.vaccenate_biosynthesis', 'stearate_biosynthesis_II_.bacteria_and_plants.', 'X5.aminoimidazole_ribonucleotide_biosynthesis_I', 'X5.aminoimidazole_ribonucleotide_biosynthesis_II', 'inosine.5..phosphate_biosynthesis_I', 'superpathway_of_guanosine_nucleotides_de_novo_biosynthesis_II', 'superpathway_of_adenosine_nucleotides_de_novo_biosynthesis_II', 'X6.hydroxymethyl.dihydropterin_diphosphate_biosynthesis_I', 'S.adenosyl.L.methionine_cycle_I', 'chorismate_biosynthesis_from_3.dehydroquinate', 'sucrose_degradation_III_.sucrose_invertase.', 'superpathway_of_menaquinol.8_biosynthesis_II', 'adenosylcobalamin_salvage_from_cobinamide_II', 'superpathway_of_5.aminoimidazole_ribonucleotide_biosynthesis', 'palmitoleate_biosynthesis_I_.from_.5Z..dodec.5.enoate.', 'galactose_degradation_I_.Leloir_pathway.', 'purine_nucleotides_degradation_II_.aerobic.', 'peptidoglycan_biosynthesis_III_.mycobacteria.', 'UDP.N.acetylmuramoyl.pentapeptide_biosynthesis_II_.lysine.containing.', 'UDP.N.acetylmuramoyl.pentapeptide_biosynthesis_I_.meso.diaminopimelate_containing.', 'superpathway_of_2.3.butanediol_biosynthesis', 'Kdo_transfer_to_lipid_IVA_III_.Chlamydia.', 'peptidoglycan_biosynthesis_V_..beta..lactam_resistance.', 'peptidoglycan_biosynthesis_IV_.Enterococcus_faecium.', 'GDP.D.glycero..alpha..D.manno.heptose_biosynthesis', 'X4.deoxy.L.threo.hex.4.enopyranuronate_degradation', 'X8.amino.7.oxononanoate_biosynthesis_I', 'pyrimidine_deoxyribonucleotides_de_novo_biosynthesis_III', 'chondroitin_sulfate_degradation_I_.bacterial.', 'pyruvate_fermentation_to_acetone', 'superpathway_of_Clostridium_acetobutylicum_acidogenic_fermentation', 'guanosine_nucleotides_degradation_III', 'adenine_and_adenosine_salvage_III', 'superpathway_of_tetrahydrofolate_biosynthesis', 'superpathway_of_L.phenylalanine_biosynthesis', 'superpathway_of_L.tyrosine_biosynthesis', 'queuosine_biosynthesis', 'preQ0_biosynthesis', 'ubiquinol.8_biosynthesis_.prokaryotic.', 'starch_degradation_V', 'CMP.legionaminate_biosynthesis_I', 'isopropanol_biosynthesis', 'thiazole_biosynthesis_II_.Bacillus.', 'thiazole_biosynthesis_I_.E._coli.', 'superpathway_of_thiamin_diphosphate_biosynthesis_II', 'thiamin_salvage_II', 'superpathway_of_glucose_and_xylose_degradation', 'TCA_cycle_V_.2.oxoglutarate.ferredoxin_oxidoreductase.', 'glycerol_degradation_to_butanol', 'L.1.2.propanediol_degradation', 'UDP.2.3.diacetamido.2.3.dideoxy..alpha..D.mannuronate_biosynthesis', 'pyruvate_fermentation_to_isobutanol_.engineered.', 'pyrimidine_deoxyribonucleotides_de_novo_biosynthesis_I', 'pyrimidine_deoxyribonucleotides_de_novo_biosynthesis_II', 'superpathway_of_pyrimidine_ribonucleosides_salvage', 'pyrimidine_deoxyribonucleotide_phosphorylation', 'pyrimidine_deoxyribonucleotides_de_novo_biosynthesis_IV', 'pyrimidine_deoxyribonucleosides_salvage', 'superpathway_of_pyrimidine_deoxyribonucleoside_salvage', 'superpathway_of_pyrimidine_nucleobases_salvage', 'pyrimidine_deoxyribonucleotides_biosynthesis_from_CTP', 'superpathway_of_pyrimidine_deoxyribonucleotides_de_novo_biosynthesis', 'adenosine_ribonucleotides_de_novo_biosynthesis', 'adenosine_deoxyribonucleotides_de_novo_biosynthesis_II', 'guanosine_ribonucleotides_de_novo_biosynthesis', 'guanosine_deoxyribonucleotides_de_novo_biosynthesis_II', 'superpathway_of_guanosine_nucleotides_de_novo_biosynthesis_I', 'superpathway_of_adenosine_nucleotides_de_novo_biosynthesis_I', 'inosine.5..phosphate_biosynthesis_III', 'myo.._chiro._and_scillo.inositol_degradation', 'D.fructuronate_degradation', 'TCA_cycle_VII_.acetate.producers.', 'dTDP.N.acetylthomosamine_biosynthesis', 'superpathway_of_GDP.mannose.derived_O.antigen_building_blocks_biosynthesis', 'superpathway_of_UDP.glucose.derived_O.antigen_building_blocks_biosynthesis', 'superpathway_of_UDP.N.acetylglucosamine.derived_O.antigen_building_blocks_biosynthesis', 'X1.4.dihydroxy.6.naphthoate_biosynthesis_II', 'X1.4.dihydroxy.6.naphthoate_biosynthesis_I', 'cob.II.yrinate_a.c.diamide_biosynthesis_I_.early_cobalt_insertion.', 'taxadiene_biosynthesis_.engineered.', 'L.arginine_biosynthesis_IV_.archaebacteria.', 'mannan_degradation', 'X6.hydroxymethyl.dihydropterin_diphosphate_biosynthesis_III_.Chlamydia.', 'methylerythritol_phosphate_pathway_II', 'gondoate_biosynthesis_.anaerobic.', 'oleate_biosynthesis_IV_.anaerobic.', 'superpathway_of_purine_nucleotides_de_novo_biosynthesis_I', 'mevalonate_pathway_I', 'superpathway_of_L.alanine_biosynthesis', 'ADP.L.glycero..beta..D.manno.heptose_biosynthesis', 'anhydromuropeptides_recycling', 'purine_ribonucleosides_degradation', 'superpathway_of_purine_deoxyribonucleosides_degradation', 'superpathway_of_pyrimidine_deoxyribonucleosides_degradation', 'CDP.diacylglycerol_biosynthesis_II', 'superpathway_of_heme_biosynthesis_from_uroporphyrinogen.III', 'tRNA_processing', 'methylphosphonate_degradation_I', 'peptidoglycan_maturation_.meso.diaminopimelate_containing.', 'superpathway_of_pyrimidine_ribonucleotides_de_novo_biosynthesis', 'superpathway_of_pyrimidine_deoxyribonucleotides_de_novo_biosynthesis_.E._coli.', 'aspartate_superpathway', 'superpathway_of_pyridoxal_5..phosphate_biosynthesis_and_salvage', 'X.5Z..dodec.5.enoate_biosynthesis', 'nitrate_reduction_VI_.assimilatory.', 'phosphatidylglycerol_biosynthesis_I_.plastidic.', 'phosphatidylglycerol_biosynthesis_II_.non.plastidic.', 'mycolate_biosynthesis', 'NAD_salvage_pathway_I', 'NAD_biosynthesis_I_.from_aspartate.', 'pyridoxal_5..phosphate_biosynthesis_I', 'TCA_cycle_VIII_.helicobacter.', 'L.rhamnose_degradation_I', 'flavin_biosynthesis_I_.bacteria_and_plants.', 'formaldehyde_oxidation_I', 'adenosine_nucleotides_degradation_II', 'superpathway_of_L.serine_and_glycine_biosynthesis_I', 'sulfate_reduction_I_.assimilatory.', 'superpathway_of_sulfate_assimilation_and_cysteine_biosynthesis', 'TCA_cycle_I_.prokaryotic.', 'teichoic_acid_.poly.glycerol._biosynthesis', 'superpathway_of_thiamin_diphosphate_biosynthesis_I', 'superpathway_of_L.threonine_biosynthesis', 'tRNA_charging', 'L.tryptophan_biosynthesis', 'superpathway_of_ubiquinol.8_biosynthesis_.prokaryotic.', 'UDP.N.acetyl.D.glucosamine_biosynthesis_I', 'L.valine_biosynthesis', 'all_samples', 'time']\n",
      "Micom df shape =  (287, 95)\n",
      "Micom df columns ['Unnamed: 0', 'sample_id', 'proton', 'Diacetyl', 'Butyrate', 'Formate', 'acetone', 'X2.methylbutyrate', 'Valeric.Acid', 'Methane', 'X1.4.Dihydroxy.2.naphthoate', 'X2.Oxoglutarate', 'Pyruvate', 'D.lactate', 'L.lactate', 'laurate', 'Phenol', 'L.Carnitine', 'Isopropanol', 'p.Cresol', 'O2', 'X1.Propanol', 'butanol', 'Propanal', 'X4.hydroxyphenylacetate', 'X.S..propane.1.2.diol', 'Propane.1.3.diol', 'R_R__2_3_Butanediol', 'Oxaloacetate', 'sulfate', 'octadecenoate..n.C18.1.', 'o.Succinylbenzoate', 'Thymidine', 'Reduced.riboflavin', 'Riboflavin', 'X2.Hydroxyphenylacetate', 'Sulfite', 'thiosulfate.2..', 'X.3.4.dihydroxyphenyl.acetate', 'Diphosphate', 'trimethylamine', 'glycine.betaine', 'Choline', 'Trimethylamine.N.oxide', 'Isochorismate', 'Inosine', 'xanthosine', 'Hypoxanthine', 'Xanthine', 'uracil', 'Uridine', 'Methanethiol', 'keto.phenylpyruvate', 'D.Arabinose', 'D.Galactose', 'Nicotinate', 'chorismate', 'tetradecanoate..n.C14.0.', 'oxalate.2..', 'X.R..3.hydroxybutyrate', 'Hydrogen.peroxide', 'Hydrogen.sulfide', 'X4.hydroxybenzoate', 'Hexadecanoate..n.C16.0.', 'octadecanoate..n.C18.0.', 'D.Fructose', 'D.ribose', 'myo.inositol', 'D.Mannitol', 'Citrate', 'Menaquinone.8', 'Glycerol', 'D.Mannose', 'X2.Oxobutanoate', 'Fumarate', 'L.malate', 'X.R..Acetoin', 'formaldehyde', 'Ethanol', 'Acetoacetate', 'methanol', 'Acetaldehyde', 'X3.methyl.2.oxopentanoate', 'Isovalerate..3.Methylbutanoate', 'phenylacetate', 'Succinate', 'Isobutyrate..2.Methylpropanoate', 'Isocaproate', 'Water', 'Hydrogen', 'Propionate', 'Acetate', 'Carbon.dioxide', 'all_samples', 'time']\n"
     ]
    }
   ],
   "source": [
    "print(\"meta test = \", met_train.shape)\n",
    "print(\"Meta tst columns\", met_train.columns.to_list())\n",
    "\n",
    "print(\"meta train shape = \", met_test.shape)\n",
    "print(\"Meta train df columns\", met_test.columns.to_list())\n",
    "\n",
    "print(\"genetic df shape = \", gen_train.shape)\n",
    "print(\"Genetic df columns\", gen_train.columns.to_list())\n",
    "print(\"Taxa df shape = \", train_tax_no_na.shape)\n",
    "print(\"Taxa df columns\", train_tax_no_na.columns.to_list())\n",
    "print(\"Functional df shape = \", train_func_no_na.shape)\n",
    "print(\"Functional df columns\", train_func_no_na.columns.to_list())\n",
    "print(\"Micom df shape = \", train_micom_no_na.shape)\n",
    "print(\"Micom df columns\", train_micom_no_na.columns.to_list())"
   ]
  },
  {
   "cell_type": "code",
   "execution_count": 4,
   "metadata": {},
   "outputs": [
    {
     "name": "stdout",
     "output_type": "stream",
     "text": [
      "meta subject_id values: 0      LFI-003\n",
      "1      ROL-006\n",
      "2      AKE-009\n",
      "3      HGI-010\n",
      "4      AKI-011\n",
      "        ...   \n",
      "286    SKA-195\n",
      "287    KHU-196\n",
      "288    LPF-198\n",
      "289    KEL-199\n",
      "290    BIN-201\n",
      "Name: subject_id, Length: 291, dtype: object\n",
      "meta time values: 0       0\n",
      "1       0\n",
      "2       0\n",
      "3       0\n",
      "4       0\n",
      "       ..\n",
      "286    12\n",
      "287    12\n",
      "288    12\n",
      "289    12\n",
      "290    12\n",
      "Name: time, Length: 291, dtype: int64\n"
     ]
    }
   ],
   "source": [
    "print(\"meta subject_id values:\", met_train['subject_id'])\n",
    "print(\"meta time values:\", met_train['time'])"
   ]
  },
  {
   "cell_type": "code",
   "execution_count": 5,
   "metadata": {},
   "outputs": [
    {
     "name": "stdout",
     "output_type": "stream",
     "text": [
      "genetic subject_id values: 0      ABR-079\n",
      "1      ACO-053\n",
      "2      ADA-105\n",
      "3      AGA-071\n",
      "4      AHE-055\n",
      "        ...   \n",
      "115    TSH-146\n",
      "116    TSL-056\n",
      "117    VCA-041\n",
      "118    YOR-103\n",
      "119    YSU-097\n",
      "Name: subject_id, Length: 120, dtype: object\n",
      "unnamed column in the gennetic data:  0        1\n",
      "1        2\n",
      "2        3\n",
      "3        4\n",
      "4        5\n",
      "      ... \n",
      "115    116\n",
      "116    117\n",
      "117    118\n",
      "118    119\n",
      "119    120\n",
      "Name: Unnamed: 0, Length: 120, dtype: int64\n"
     ]
    }
   ],
   "source": [
    "print(\"genetic subject_id values:\", gen_train['subject_id'])\n",
    "print(\"unnamed column in the gennetic data: \", gen_train['Unnamed: 0'])"
   ]
  },
  {
   "cell_type": "code",
   "execution_count": 6,
   "metadata": {},
   "outputs": [
    {
     "name": "stdout",
     "output_type": "stream",
     "text": [
      "taxa all_samples values: 0       79\n",
      "1       79\n",
      "2       53\n",
      "3       53\n",
      "4       53\n",
      "      ... \n",
      "456    103\n",
      "457     97\n",
      "458     97\n",
      "459     97\n",
      "460     97\n",
      "Name: all_samples, Length: 461, dtype: int64\n"
     ]
    }
   ],
   "source": [
    "print(\"taxa all_samples values:\", train_tax_no_na['all_samples'])"
   ]
  },
  {
   "cell_type": "code",
   "execution_count": 7,
   "metadata": {},
   "outputs": [
    {
     "name": "stdout",
     "output_type": "stream",
     "text": [
      "functional all_samples values: 0      105\n",
      "1       71\n",
      "2       71\n",
      "3        9\n",
      "4        9\n",
      "      ... \n",
      "346     56\n",
      "347     41\n",
      "348     97\n",
      "349     72\n",
      "350     38\n",
      "Name: all_samples, Length: 351, dtype: int64\n",
      "functional time values: 0       0.0\n",
      "1      12.0\n",
      "2       6.0\n",
      "3      12.0\n",
      "4       6.0\n",
      "       ... \n",
      "346     6.0\n",
      "347     NaN\n",
      "348     0.0\n",
      "349     0.0\n",
      "350     0.0\n",
      "Name: time, Length: 351, dtype: float64\n",
      "functional SampleID values: 0       ADA-105.BL\n",
      "1      AGA-071.12m\n",
      "2       AGA-071.6m\n",
      "3      AKE-009.12m\n",
      "4       AKE-009.6m\n",
      "          ...     \n",
      "346     TSL-056.6m\n",
      "347    VCA-041.18m\n",
      "348     YSU-097.BL\n",
      "349     KRI-072.BL\n",
      "350     KVA-038.BL\n",
      "Name: SampleID, Length: 351, dtype: object\n"
     ]
    }
   ],
   "source": [
    "print(\"functional all_samples values:\", train_func_no_na['all_samples'])\n",
    "print(\"functional time values:\", train_func_no_na['time'])\n",
    "print(\"functional SampleID values:\", train_func_no_na['SampleID'])"
   ]
  },
  {
   "cell_type": "code",
   "execution_count": 8,
   "metadata": {},
   "outputs": [
    {
     "name": "stdout",
     "output_type": "stream",
     "text": [
      "Micom all_samples values: 0      130\n",
      "1      174\n",
      "2       86\n",
      "3       17\n",
      "4       41\n",
      "      ... \n",
      "282    166\n",
      "283     67\n",
      "284    113\n",
      "285     43\n",
      "286    149\n",
      "Name: all_samples, Length: 287, dtype: int64\n",
      "Micom time values: 0       0\n",
      "1       0\n",
      "2       0\n",
      "3       0\n",
      "4       0\n",
      "       ..\n",
      "282    12\n",
      "283    12\n",
      "284    12\n",
      "285    12\n",
      "286    12\n",
      "Name: time, Length: 287, dtype: int64\n",
      "Micom sample_id values: 0       EBE-130.BL\n",
      "1       BSA-174.BL\n",
      "2       TDU-086.BL\n",
      "3       LVA-017.BL\n",
      "4       VCA-041.BL\n",
      "          ...     \n",
      "282    QNG-166.12m\n",
      "283    NDI-067.12m\n",
      "284    TRO-113.12m\n",
      "285    SCA-043.12m\n",
      "286    NPO-149.12m\n",
      "Name: sample_id, Length: 287, dtype: object\n"
     ]
    }
   ],
   "source": [
    "print(\"Micom all_samples values:\", train_micom_no_na['all_samples'])\n",
    "print(\"Micom time values:\", train_micom_no_na['time'])\n",
    "print(\"Micom sample_id values:\", train_micom_no_na['sample_id'])"
   ]
  },
  {
   "cell_type": "markdown",
   "metadata": {},
   "source": [
    "### Merge Micom and Functional data\n",
    "\n",
    "Micom all_samples column matches Functional Sample.ID\n",
    "##### For training"
   ]
  },
  {
   "cell_type": "code",
   "execution_count": 9,
   "metadata": {},
   "outputs": [
    {
     "name": "stdout",
     "output_type": "stream",
     "text": [
      "Micom sample_id values: 0       EBE-130.BL\n",
      "1       BSA-174.BL\n",
      "2       TDU-086.BL\n",
      "3       LVA-017.BL\n",
      "4       VCA-041.BL\n",
      "          ...     \n",
      "282    QNG-166.12m\n",
      "283    NDI-067.12m\n",
      "284    TRO-113.12m\n",
      "285    SCA-043.12m\n",
      "286    NPO-149.12m\n",
      "Name: sample_id, Length: 287, dtype: object\n",
      "Functional SampleID values: 0       ADA-105.BL\n",
      "1      AGA-071.12m\n",
      "2       AGA-071.6m\n",
      "3      AKE-009.12m\n",
      "4       AKE-009.6m\n",
      "          ...     \n",
      "346     TSL-056.6m\n",
      "347    VCA-041.18m\n",
      "348     YSU-097.BL\n",
      "349     KRI-072.BL\n",
      "350     KVA-038.BL\n",
      "Name: SampleID, Length: 351, dtype: object\n",
      "Number of matching rows between Micom sample_id and Functional SampleID: 287\n"
     ]
    }
   ],
   "source": [
    "### Convert data types for merging\n",
    "train_micom_no_na['sample_id'] = train_micom_no_na['sample_id'].astype(str)  # Convert to string\n",
    "train_func_no_na['SampleID'] = train_func_no_na['SampleID'].astype(str)  # Ensure SampleID is string\n",
    "\n",
    "print(\"Micom sample_id values:\", train_micom_no_na['sample_id'])\n",
    "print(\"Functional SampleID values:\", train_func_no_na['SampleID']) \n",
    "\n",
    "# Count the number of matching rows between 'sample_id' and 'SampleID'\n",
    "matching_rows_count = train_micom_no_na['sample_id'].isin(train_func_no_na['SampleID']).sum()\n",
    "print(\"Number of matching rows between Micom sample_id and Functional SampleID:\", matching_rows_count)"
   ]
  },
  {
   "cell_type": "markdown",
   "metadata": {},
   "source": [
    "64 samples are in the pathway dataset that are not in the micom dataset "
   ]
  },
  {
   "cell_type": "code",
   "execution_count": 10,
   "metadata": {},
   "outputs": [
    {
     "name": "stdout",
     "output_type": "stream",
     "text": [
      "Merged micom_func shape:  (287, 365)\n",
      "Merged micom_func columns:  ['Unnamed: 0_x', 'sample_id', 'proton', 'Diacetyl', 'Butyrate', 'Formate', 'acetone', 'X2.methylbutyrate', 'Valeric.Acid', 'Methane', 'X1.4.Dihydroxy.2.naphthoate', 'X2.Oxoglutarate', 'Pyruvate', 'D.lactate', 'L.lactate', 'laurate', 'Phenol', 'L.Carnitine', 'Isopropanol', 'p.Cresol', 'O2', 'X1.Propanol', 'butanol', 'Propanal', 'X4.hydroxyphenylacetate', 'X.S..propane.1.2.diol', 'Propane.1.3.diol', 'R_R__2_3_Butanediol', 'Oxaloacetate', 'sulfate', 'octadecenoate..n.C18.1.', 'o.Succinylbenzoate', 'Thymidine', 'Reduced.riboflavin', 'Riboflavin', 'X2.Hydroxyphenylacetate', 'Sulfite', 'thiosulfate.2..', 'X.3.4.dihydroxyphenyl.acetate', 'Diphosphate', 'trimethylamine', 'glycine.betaine', 'Choline', 'Trimethylamine.N.oxide', 'Isochorismate', 'Inosine', 'xanthosine', 'Hypoxanthine', 'Xanthine', 'uracil', 'Uridine', 'Methanethiol', 'keto.phenylpyruvate', 'D.Arabinose', 'D.Galactose', 'Nicotinate', 'chorismate', 'tetradecanoate..n.C14.0.', 'oxalate.2..', 'X.R..3.hydroxybutyrate', 'Hydrogen.peroxide', 'Hydrogen.sulfide', 'X4.hydroxybenzoate', 'Hexadecanoate..n.C16.0.', 'octadecanoate..n.C18.0.', 'D.Fructose', 'D.ribose', 'myo.inositol', 'D.Mannitol', 'Citrate', 'Menaquinone.8', 'Glycerol', 'D.Mannose', 'X2.Oxobutanoate', 'Fumarate', 'L.malate', 'X.R..Acetoin', 'formaldehyde', 'Ethanol', 'Acetoacetate', 'methanol', 'Acetaldehyde', 'X3.methyl.2.oxopentanoate', 'Isovalerate..3.Methylbutanoate', 'phenylacetate', 'Succinate', 'Isobutyrate..2.Methylpropanoate', 'Isocaproate', 'Water', 'Hydrogen', 'Propionate', 'Acetate', 'Carbon.dioxide', 'all_samples_x', 'time_x', 'Unnamed: 0_y', 'SampleID', 'N10.formyl.tetrahydrofolate_biosynthesis', 'homolactic_fermentation', 'glycolysis_III_.from_glucose.', 'superpathway_of_arginine_and_polyamine_biosynthesis', 'arginine._ornithine_and_proline_interconversion', 'L.arginine_biosynthesis_I_.via_L.ornithine.', 'L.arginine_biosynthesis_II_.acetyl_cycle.', 'chorismate_biosynthesis_I', 'superpathway_of_L.aspartate_and_L.asparagine_biosynthesis', 'biotin_biosynthesis_I', 'superpathway_of_branched_amino_acid_biosynthesis', 'Calvin.Benson.Bassham_cycle', 'pyruvate_fermentation_to_butanoate', 'coenzyme_A_biosynthesis_I', 'adenosylcobalamin_salvage_from_cobinamide_I', 'reductive_acetyl_coenzyme_A_pathway', 'colanic_acid_building_blocks_biosynthesis', 'superpathway_of_aromatic_amino_acid_biosynthesis', 'L.lysine_biosynthesis_I', 'superpathway_of_purine_nucleotides_de_novo_biosynthesis_II', 'dTDP.L.rhamnose_biosynthesis_I', 'fatty_acid_.beta..oxidation_I', 'fatty_acid_elongation_.._saturated', 'superpathway_of_fatty_acid_biosynthesis_initiation_.E._coli.', 'mixed_acid_fermentation', 'superpathway_of_tetrahydrofolate_biosynthesis_and_salvage', 'superpathway_of_fucose_and_rhamnose_degradation', 'fucose_degradation', 'superpathway_of_hexuronide_and_hexuronate_degradation', 'D.galactarate_degradation_I', 'D.galacturonate_degradation_I', 'superpathway_of_N.acetylglucosamine._N.acetylmannosamine_and_N.acetylneuraminate_degradation', 'D.glucarate_degradation_I', 'superpathway_of_D.glucarate_and_D.galactarate_degradation', 'gluconeogenesis_I', 'glucose_and_glucose.1.phosphate_degradation', 'superpathway_of_.beta..D.glucuronide_and_D.glucuronate_degradation', 'L.ornithine_biosynthesis', 'glycogen_degradation_I_.bacterial.', 'glycogen_biosynthesis_I_.from_ADP.D.Glucose.', 'superpathway_of_glycol_metabolism_and_degradation', 'glycolysis_I_.from_glucose_6.phosphate.', 'superpathway_of_glycolysis_and_Entner.Doudoroff', 'glyoxylate_cycle', 'superpathway_of_glycerol_degradation_to_1.3.propanediol', 'heme_biosynthesis_I_.aerobic.', 'heme_biosynthesis_II_.anaerobic.', 'superpathway_of_hexitol_degradation_.bacteria.', 'L.histidine_degradation_I', 'L.histidine_biosynthesis', 'L.methionine_biosynthesis_I', 'L.methionine_biosynthesis_III', 'L.isoleucine_biosynthesis_I_.from_threonine.', 'lactose_and_galactose_degradation_I', 'superpathway_of_S.adenosyl.L.methionine_biosynthesis', 'methanogenesis_from_acetate', 'NAD_salvage_pathway_II', 'lipid_IVA_biosynthesis', 'methylerythritol_phosphate_pathway_I', 'pentose_phosphate_pathway_.non.oxidative_branch.', 'O.antigen_building_blocks_biosynthesis_.E._coli.', 'pyruvate_fermentation_to_propanoate_I', 'heterolactic_fermentation', 'Bifidobacterium_shunt', 'superpathway_of_.R.R..butanediol_biosynthesis', 'acetylene_degradation', 'L.glutamate_degradation_V_.via_hydroxyglutarate.', 'L.lysine_fermentation_to_acetate_and_butanoate', 'purine_nucleobases_degradation_I_.anaerobic.', 'octane_oxidation', 'reductive_TCA_cycle_I', 'superpathway_of_L.lysine._L.threonine_and_L.methionine_biosynthesis_I', 'incomplete_reductive_TCA_cycle', 'superpathway_of_N.acetylneuraminate_degradation', 'hexitol_fermentation_to_lactate._formate._ethanol_and_acetate', 'myo.inositol_degradation_I', 'phosphopantothenate_biosynthesis_I', 'pantothenate_and_coenzyme_A_biosynthesis_I', 'pentose_phosphate_pathway', 'peptidoglycan_biosynthesis_I_.meso.diaminopimelate_containing.', 'superpathway_of_phospholipid_biosynthesis_I_.bacteria.', 'superpathway_of_polyamine_biosynthesis_II', 'superpathway_of_polyamine_biosynthesis_I', 'polyisoprenoid_biosynthesis_.E._coli.', 'superpathway_of_histidine._purine._and_pyrimidine_biosynthesis', 'CMP.3.deoxy.D.manno.octulosonate_biosynthesis_I', 'formaldehyde_assimilation_II_.RuMP_Cycle.', 'L.lysine_biosynthesis_II', 'L.lysine_biosynthesis_III', 'superpathway_of_L.isoleucine_biosynthesis_I', 'urea_cycle', 'biotin_biosynthesis_II', 'X4.aminobutanoate_degradation_V', 'L.lysine_biosynthesis_VI', 'pyruvate_fermentation_to_acetate_and_lactate_II', 'L.isoleucine_biosynthesis_II', 'L.isoleucine_biosynthesis_III', 'L.isoleucine_biosynthesis_IV', 'superpathway_of_geranylgeranyl_diphosphate_biosynthesis_II_.via_MEP.', 'L.arginine_biosynthesis_III_.via_N.acetyl.L.citrulline.', 'glutaryl.CoA_degradation', 'tetrapyrrole_biosynthesis_I_.from_glutamate.', 'tetrapyrrole_biosynthesis_II_.from_glycine.', 'peptidoglycan_biosynthesis_II_.staphylococci.', 'superpathway_of_sulfur_oxidation_.Acidianus_ambivalens.', 'superpathway_of_L.methionine_biosynthesis_.by_sulfhydrylation.', 'superpathway_of_L.methionine_biosynthesis_.transsulfuration.', 'sucrose_degradation_IV_.sucrose_phosphorylase.', 'glycolysis_II_.from_fructose_6.phosphate.', 'L.glutamate_and_L.glutamine_biosynthesis', 'adenosylcobalamin_biosynthesis_from_cobyrinate_a.c.diamide_I', 'GDP.mannose_biosynthesis', 'CDP.diacylglycerol_biosynthesis_I', 'acetyl.CoA_fermentation_to_butanoate_II', 'succinate_fermentation_to_butanoate', 'UMP_biosynthesis', 'urate_biosynthesis.inosine_5..phosphate_degradation', 'allantoin_degradation_to_glyoxylate_III', 'X1.4.dihydroxy.2.naphthoate_biosynthesis_I', 'superpathway_of_menaquinol.8_biosynthesis_I', 'superpathway_of_menaquinol.7_biosynthesis', 'superpathway_of_menaquinol.9_biosynthesis', 'superpathway_of_menaquinol.6_biosynthesis_I', 'ubiquinol.7_biosynthesis_.prokaryotic.', 'ubiquinol.9_biosynthesis_.prokaryotic.', 'ubiquinol.10_biosynthesis_.prokaryotic.', 'superpathway_of_demethylmenaquinol.6_biosynthesis_I', 'superpathway_of_demethylmenaquinol.8_biosynthesis', 'superpathway_of_demethylmenaquinol.9_biosynthesis', 'superpathway_of_phylloquinol_biosynthesis', 'superpathway_of_menaquinol.10_biosynthesis', 'superpathway_of_menaquinol.11_biosynthesis', 'superpathway_of_menaquinol.12_biosynthesis', 'superpathway_of_menaquinol.13_biosynthesis', 'superpathway_of_geranylgeranyldiphosphate_biosynthesis_I_.via_mevalonate.', 'TCA_cycle_VI_.obligate_autotrophs.', 'superpathay_of_heme_biosynthesis_from_glutamate', 'palmitate_biosynthesis_II_.bacteria_and_plants.', 'cis.vaccenate_biosynthesis', 'stearate_biosynthesis_II_.bacteria_and_plants.', 'X5.aminoimidazole_ribonucleotide_biosynthesis_I', 'X5.aminoimidazole_ribonucleotide_biosynthesis_II', 'inosine.5..phosphate_biosynthesis_I', 'superpathway_of_guanosine_nucleotides_de_novo_biosynthesis_II', 'superpathway_of_adenosine_nucleotides_de_novo_biosynthesis_II', 'X6.hydroxymethyl.dihydropterin_diphosphate_biosynthesis_I', 'S.adenosyl.L.methionine_cycle_I', 'chorismate_biosynthesis_from_3.dehydroquinate', 'sucrose_degradation_III_.sucrose_invertase.', 'superpathway_of_menaquinol.8_biosynthesis_II', 'adenosylcobalamin_salvage_from_cobinamide_II', 'superpathway_of_5.aminoimidazole_ribonucleotide_biosynthesis', 'palmitoleate_biosynthesis_I_.from_.5Z..dodec.5.enoate.', 'galactose_degradation_I_.Leloir_pathway.', 'purine_nucleotides_degradation_II_.aerobic.', 'peptidoglycan_biosynthesis_III_.mycobacteria.', 'UDP.N.acetylmuramoyl.pentapeptide_biosynthesis_II_.lysine.containing.', 'UDP.N.acetylmuramoyl.pentapeptide_biosynthesis_I_.meso.diaminopimelate_containing.', 'superpathway_of_2.3.butanediol_biosynthesis', 'Kdo_transfer_to_lipid_IVA_III_.Chlamydia.', 'peptidoglycan_biosynthesis_V_..beta..lactam_resistance.', 'peptidoglycan_biosynthesis_IV_.Enterococcus_faecium.', 'GDP.D.glycero..alpha..D.manno.heptose_biosynthesis', 'X4.deoxy.L.threo.hex.4.enopyranuronate_degradation', 'X8.amino.7.oxononanoate_biosynthesis_I', 'pyrimidine_deoxyribonucleotides_de_novo_biosynthesis_III', 'chondroitin_sulfate_degradation_I_.bacterial.', 'pyruvate_fermentation_to_acetone', 'superpathway_of_Clostridium_acetobutylicum_acidogenic_fermentation', 'guanosine_nucleotides_degradation_III', 'adenine_and_adenosine_salvage_III', 'superpathway_of_tetrahydrofolate_biosynthesis', 'superpathway_of_L.phenylalanine_biosynthesis', 'superpathway_of_L.tyrosine_biosynthesis', 'queuosine_biosynthesis', 'preQ0_biosynthesis', 'ubiquinol.8_biosynthesis_.prokaryotic.', 'starch_degradation_V', 'CMP.legionaminate_biosynthesis_I', 'isopropanol_biosynthesis', 'thiazole_biosynthesis_II_.Bacillus.', 'thiazole_biosynthesis_I_.E._coli.', 'superpathway_of_thiamin_diphosphate_biosynthesis_II', 'thiamin_salvage_II', 'superpathway_of_glucose_and_xylose_degradation', 'TCA_cycle_V_.2.oxoglutarate.ferredoxin_oxidoreductase.', 'glycerol_degradation_to_butanol', 'L.1.2.propanediol_degradation', 'UDP.2.3.diacetamido.2.3.dideoxy..alpha..D.mannuronate_biosynthesis', 'pyruvate_fermentation_to_isobutanol_.engineered.', 'pyrimidine_deoxyribonucleotides_de_novo_biosynthesis_I', 'pyrimidine_deoxyribonucleotides_de_novo_biosynthesis_II', 'superpathway_of_pyrimidine_ribonucleosides_salvage', 'pyrimidine_deoxyribonucleotide_phosphorylation', 'pyrimidine_deoxyribonucleotides_de_novo_biosynthesis_IV', 'pyrimidine_deoxyribonucleosides_salvage', 'superpathway_of_pyrimidine_deoxyribonucleoside_salvage', 'superpathway_of_pyrimidine_nucleobases_salvage', 'pyrimidine_deoxyribonucleotides_biosynthesis_from_CTP', 'superpathway_of_pyrimidine_deoxyribonucleotides_de_novo_biosynthesis', 'adenosine_ribonucleotides_de_novo_biosynthesis', 'adenosine_deoxyribonucleotides_de_novo_biosynthesis_II', 'guanosine_ribonucleotides_de_novo_biosynthesis', 'guanosine_deoxyribonucleotides_de_novo_biosynthesis_II', 'superpathway_of_guanosine_nucleotides_de_novo_biosynthesis_I', 'superpathway_of_adenosine_nucleotides_de_novo_biosynthesis_I', 'inosine.5..phosphate_biosynthesis_III', 'myo.._chiro._and_scillo.inositol_degradation', 'D.fructuronate_degradation', 'TCA_cycle_VII_.acetate.producers.', 'dTDP.N.acetylthomosamine_biosynthesis', 'superpathway_of_GDP.mannose.derived_O.antigen_building_blocks_biosynthesis', 'superpathway_of_UDP.glucose.derived_O.antigen_building_blocks_biosynthesis', 'superpathway_of_UDP.N.acetylglucosamine.derived_O.antigen_building_blocks_biosynthesis', 'X1.4.dihydroxy.6.naphthoate_biosynthesis_II', 'X1.4.dihydroxy.6.naphthoate_biosynthesis_I', 'cob.II.yrinate_a.c.diamide_biosynthesis_I_.early_cobalt_insertion.', 'taxadiene_biosynthesis_.engineered.', 'L.arginine_biosynthesis_IV_.archaebacteria.', 'mannan_degradation', 'X6.hydroxymethyl.dihydropterin_diphosphate_biosynthesis_III_.Chlamydia.', 'methylerythritol_phosphate_pathway_II', 'gondoate_biosynthesis_.anaerobic.', 'oleate_biosynthesis_IV_.anaerobic.', 'superpathway_of_purine_nucleotides_de_novo_biosynthesis_I', 'mevalonate_pathway_I', 'superpathway_of_L.alanine_biosynthesis', 'ADP.L.glycero..beta..D.manno.heptose_biosynthesis', 'anhydromuropeptides_recycling', 'purine_ribonucleosides_degradation', 'superpathway_of_purine_deoxyribonucleosides_degradation', 'superpathway_of_pyrimidine_deoxyribonucleosides_degradation', 'CDP.diacylglycerol_biosynthesis_II', 'superpathway_of_heme_biosynthesis_from_uroporphyrinogen.III', 'tRNA_processing', 'methylphosphonate_degradation_I', 'peptidoglycan_maturation_.meso.diaminopimelate_containing.', 'superpathway_of_pyrimidine_ribonucleotides_de_novo_biosynthesis', 'superpathway_of_pyrimidine_deoxyribonucleotides_de_novo_biosynthesis_.E._coli.', 'aspartate_superpathway', 'superpathway_of_pyridoxal_5..phosphate_biosynthesis_and_salvage', 'X.5Z..dodec.5.enoate_biosynthesis', 'nitrate_reduction_VI_.assimilatory.', 'phosphatidylglycerol_biosynthesis_I_.plastidic.', 'phosphatidylglycerol_biosynthesis_II_.non.plastidic.', 'mycolate_biosynthesis', 'NAD_salvage_pathway_I', 'NAD_biosynthesis_I_.from_aspartate.', 'pyridoxal_5..phosphate_biosynthesis_I', 'TCA_cycle_VIII_.helicobacter.', 'L.rhamnose_degradation_I', 'flavin_biosynthesis_I_.bacteria_and_plants.', 'formaldehyde_oxidation_I', 'adenosine_nucleotides_degradation_II', 'superpathway_of_L.serine_and_glycine_biosynthesis_I', 'sulfate_reduction_I_.assimilatory.', 'superpathway_of_sulfate_assimilation_and_cysteine_biosynthesis', 'TCA_cycle_I_.prokaryotic.', 'teichoic_acid_.poly.glycerol._biosynthesis', 'superpathway_of_thiamin_diphosphate_biosynthesis_I', 'superpathway_of_L.threonine_biosynthesis', 'tRNA_charging', 'L.tryptophan_biosynthesis', 'superpathway_of_ubiquinol.8_biosynthesis_.prokaryotic.', 'UDP.N.acetyl.D.glucosamine_biosynthesis_I', 'L.valine_biosynthesis', 'all_samples_y', 'time_y']\n",
      "Merged micom_func id:  0       EBE-130.BL\n",
      "1       BSA-174.BL\n",
      "2       TDU-086.BL\n",
      "3       LVA-017.BL\n",
      "4       VCA-041.BL\n",
      "          ...     \n",
      "282    QNG-166.12m\n",
      "283    NDI-067.12m\n",
      "284    TRO-113.12m\n",
      "285    SCA-043.12m\n",
      "286    NPO-149.12m\n",
      "Name: sample_id, Length: 287, dtype: object\n",
      "Merged micom_func all_samples:  0      130\n",
      "1      174\n",
      "2       86\n",
      "3       17\n",
      "4       41\n",
      "      ... \n",
      "282    166\n",
      "283     67\n",
      "284    113\n",
      "285     43\n",
      "286    149\n",
      "Name: all_samples_y, Length: 287, dtype: int64\n"
     ]
    }
   ],
   "source": [
    "### Merge Micom and Functional data\n",
    "merged_micom_func = pd.merge(train_micom_no_na, train_func_no_na, \n",
    "                     left_on='sample_id', right_on='SampleID', \n",
    "                     how='inner')\n",
    "print(\"Merged micom_func shape: \", merged_micom_func.shape)\n",
    "print(\"Merged micom_func columns: \", merged_micom_func.columns.to_list())\n",
    "print(\"Merged micom_func id: \", merged_micom_func['sample_id'])\n",
    "print(\"Merged micom_func all_samples: \", merged_micom_func['all_samples_y'])"
   ]
  },
  {
   "cell_type": "markdown",
   "metadata": {},
   "source": [
    "##### For testing"
   ]
  },
  {
   "cell_type": "code",
   "execution_count": 11,
   "metadata": {},
   "outputs": [
    {
     "name": "stdout",
     "output_type": "stream",
     "text": [
      "Micom sample_id values: 0      JPO-022.BL\n",
      "1      BHO-014.BL\n",
      "2      JJO-093.BL\n",
      "3      COW-066.BL\n",
      "4      NMO-151.BL\n",
      "         ...     \n",
      "65    WPE-005.12m\n",
      "66    CWA-161.12m\n",
      "67    BHO-014.12m\n",
      "68    FWI-098.12m\n",
      "69    AAL-144.12m\n",
      "Name: sample_id, Length: 70, dtype: object\n",
      "Functional SampleID values: 0     AAL-144.12m\n",
      "1      AAL-144.6m\n",
      "2      AME-157.6m\n",
      "3     BHO-014.12m\n",
      "4      BHO-014.6m\n",
      "         ...     \n",
      "78     NKA-090.BL\n",
      "79     SKA-087.BL\n",
      "80    WPE-005.18m\n",
      "81     ZVU-096.BL\n",
      "82     JDI-140.BL\n",
      "Name: SampleID, Length: 83, dtype: object\n",
      "Number of matching rows between Micom sample_id and Functional SampleID: 70\n",
      "Merged micom_func shape:  (70, 365)\n"
     ]
    }
   ],
   "source": [
    "### Convert data types for merging\n",
    "test_micom_no_na['sample_id'] = test_micom_no_na['sample_id'].astype(str)  # Convert to string\n",
    "test_func_no_na['SampleID'] = test_func_no_na['SampleID'].astype(str)  # Ensure SampleID is string\n",
    "\n",
    "print(\"Micom sample_id values:\", test_micom_no_na['sample_id'])\n",
    "print(\"Functional SampleID values:\", test_func_no_na['SampleID']) \n",
    "\n",
    "# Count the number of matching rows between 'sample_id' and 'SampleID'\n",
    "matching_rows_count = test_micom_no_na['sample_id'].isin(test_func_no_na['SampleID']).sum()\n",
    "print(\"Number of matching rows between Micom sample_id and Functional SampleID:\", matching_rows_count)\n",
    "\n",
    "### Merge Micom and Functional data for testing\n",
    "test_merged_micom_func = pd.merge(test_micom_no_na, test_func_no_na, \n",
    "                     left_on='sample_id', right_on='SampleID', \n",
    "                     how='inner')\n",
    "print(\"Merged micom_func shape: \", test_merged_micom_func.shape)"
   ]
  },
  {
   "cell_type": "markdown",
   "metadata": {},
   "source": [
    "13 samples in functional id test set is not in micom test set "
   ]
  },
  {
   "cell_type": "markdown",
   "metadata": {},
   "source": [
    "### Merge Micom and Functional data with Taxa data \n",
    "\n",
    "Using all_samples and time somehow\n",
    "\n",
    "For training: "
   ]
  },
  {
   "cell_type": "code",
   "execution_count": 12,
   "metadata": {},
   "outputs": [
    {
     "name": "stdout",
     "output_type": "stream",
     "text": [
      "Final merged shape:  (299, 548)\n",
      "Micom, taxa and functional df sample_id:  0       EBE-130.BL\n",
      "1       BSA-174.BL\n",
      "2       TDU-086.BL\n",
      "3       LVA-017.BL\n",
      "4       VCA-041.BL\n",
      "          ...     \n",
      "294    QNG-166.12m\n",
      "295    NDI-067.12m\n",
      "296    TRO-113.12m\n",
      "297    SCA-043.12m\n",
      "298    NPO-149.12m\n",
      "Name: sample_id, Length: 299, dtype: object\n",
      "Micom, taxa and functional df all_sampls:  0      130\n",
      "1      174\n",
      "2       86\n",
      "3       17\n",
      "4       41\n",
      "      ... \n",
      "294    166\n",
      "295     67\n",
      "296    113\n",
      "297     43\n",
      "298    149\n",
      "Name: all_samples, Length: 299, dtype: int64\n"
     ]
    }
   ],
   "source": [
    "### Merge merged_micom_func with taxa_train\n",
    "\n",
    "micom_func_tax = pd.merge(merged_micom_func, train_tax_no_na, \n",
    "                         left_on=['all_samples_y', 'time_y'], \n",
    "                         right_on=['all_samples', 'time'], \n",
    "                         how='inner')\n",
    "\n",
    "print(\"Final merged shape: \", micom_func_tax.shape)\n",
    "print(\"Micom, taxa and functional df sample_id: \", micom_func_tax['sample_id'])\n",
    "print(\"Micom, taxa and functional df all_sampls: \", micom_func_tax['all_samples'])"
   ]
  },
  {
   "cell_type": "markdown",
   "metadata": {},
   "source": [
    "299 all sample variables (duplicates included)"
   ]
  },
  {
   "cell_type": "markdown",
   "metadata": {},
   "source": [
    "For testig: "
   ]
  },
  {
   "cell_type": "code",
   "execution_count": 13,
   "metadata": {},
   "outputs": [],
   "source": [
    "test_micom_func_tax = pd.merge(test_merged_micom_func, test_tax_no_na, \n",
    "                         left_on=['all_samples_y', 'time_y'], \n",
    "                         right_on=['all_samples', 'time'], \n",
    "                         how='inner')"
   ]
  },
  {
   "cell_type": "code",
   "execution_count": 14,
   "metadata": {},
   "outputs": [
    {
     "name": "stdout",
     "output_type": "stream",
     "text": [
      "Final merged columns:  ['Unnamed: 0_x', 'sample_id', 'proton', 'Diacetyl', 'Butyrate', 'Formate', 'acetone', 'X2.methylbutyrate', 'Valeric.Acid', 'Methane', 'X1.4.Dihydroxy.2.naphthoate', 'X2.Oxoglutarate', 'Pyruvate', 'D.lactate', 'L.lactate', 'laurate', 'Phenol', 'L.Carnitine', 'Isopropanol', 'p.Cresol', 'O2', 'X1.Propanol', 'butanol', 'Propanal', 'X4.hydroxyphenylacetate', 'X.S..propane.1.2.diol', 'Propane.1.3.diol', 'R_R__2_3_Butanediol', 'Oxaloacetate', 'sulfate', 'octadecenoate..n.C18.1.', 'o.Succinylbenzoate', 'Thymidine', 'Reduced.riboflavin', 'Riboflavin', 'X2.Hydroxyphenylacetate', 'Sulfite', 'thiosulfate.2..', 'X.3.4.dihydroxyphenyl.acetate', 'Diphosphate', 'trimethylamine', 'glycine.betaine', 'Choline', 'Trimethylamine.N.oxide', 'Isochorismate', 'Inosine', 'xanthosine', 'Hypoxanthine', 'Xanthine', 'uracil', 'Uridine', 'Methanethiol', 'keto.phenylpyruvate', 'D.Arabinose', 'D.Galactose', 'Nicotinate', 'chorismate', 'tetradecanoate..n.C14.0.', 'oxalate.2..', 'X.R..3.hydroxybutyrate', 'Hydrogen.peroxide', 'Hydrogen.sulfide', 'X4.hydroxybenzoate', 'Hexadecanoate..n.C16.0.', 'octadecanoate..n.C18.0.', 'D.Fructose', 'D.ribose', 'myo.inositol', 'D.Mannitol', 'Citrate', 'Menaquinone.8', 'Glycerol', 'D.Mannose', 'X2.Oxobutanoate', 'Fumarate', 'L.malate', 'X.R..Acetoin', 'formaldehyde', 'Ethanol', 'Acetoacetate', 'methanol', 'Acetaldehyde', 'X3.methyl.2.oxopentanoate', 'Isovalerate..3.Methylbutanoate', 'phenylacetate', 'Succinate', 'Isobutyrate..2.Methylpropanoate', 'Isocaproate', 'Water', 'Hydrogen', 'Propionate', 'Acetate', 'Carbon.dioxide', 'all_samples_x', 'time_x', 'Unnamed: 0_y', 'SampleID_x', 'N10.formyl.tetrahydrofolate_biosynthesis', 'homolactic_fermentation', 'glycolysis_III_.from_glucose.', 'superpathway_of_arginine_and_polyamine_biosynthesis', 'arginine._ornithine_and_proline_interconversion', 'L.arginine_biosynthesis_I_.via_L.ornithine.', 'L.arginine_biosynthesis_II_.acetyl_cycle.', 'chorismate_biosynthesis_I', 'superpathway_of_L.aspartate_and_L.asparagine_biosynthesis', 'biotin_biosynthesis_I', 'superpathway_of_branched_amino_acid_biosynthesis', 'Calvin.Benson.Bassham_cycle', 'pyruvate_fermentation_to_butanoate', 'coenzyme_A_biosynthesis_I', 'adenosylcobalamin_salvage_from_cobinamide_I', 'reductive_acetyl_coenzyme_A_pathway', 'colanic_acid_building_blocks_biosynthesis', 'superpathway_of_aromatic_amino_acid_biosynthesis', 'L.lysine_biosynthesis_I', 'superpathway_of_purine_nucleotides_de_novo_biosynthesis_II', 'dTDP.L.rhamnose_biosynthesis_I', 'fatty_acid_.beta..oxidation_I', 'fatty_acid_elongation_.._saturated', 'superpathway_of_fatty_acid_biosynthesis_initiation_.E._coli.', 'mixed_acid_fermentation', 'superpathway_of_tetrahydrofolate_biosynthesis_and_salvage', 'superpathway_of_fucose_and_rhamnose_degradation', 'fucose_degradation', 'superpathway_of_hexuronide_and_hexuronate_degradation', 'D.galactarate_degradation_I', 'D.galacturonate_degradation_I', 'superpathway_of_N.acetylglucosamine._N.acetylmannosamine_and_N.acetylneuraminate_degradation', 'D.glucarate_degradation_I', 'superpathway_of_D.glucarate_and_D.galactarate_degradation', 'gluconeogenesis_I', 'glucose_and_glucose.1.phosphate_degradation', 'superpathway_of_.beta..D.glucuronide_and_D.glucuronate_degradation', 'L.ornithine_biosynthesis', 'glycogen_degradation_I_.bacterial.', 'glycogen_biosynthesis_I_.from_ADP.D.Glucose.', 'superpathway_of_glycol_metabolism_and_degradation', 'glycolysis_I_.from_glucose_6.phosphate.', 'superpathway_of_glycolysis_and_Entner.Doudoroff', 'glyoxylate_cycle', 'superpathway_of_glycerol_degradation_to_1.3.propanediol', 'heme_biosynthesis_I_.aerobic.', 'heme_biosynthesis_II_.anaerobic.', 'superpathway_of_hexitol_degradation_.bacteria.', 'L.histidine_degradation_I', 'L.histidine_biosynthesis', 'L.methionine_biosynthesis_I', 'L.methionine_biosynthesis_III', 'L.isoleucine_biosynthesis_I_.from_threonine.', 'lactose_and_galactose_degradation_I', 'superpathway_of_S.adenosyl.L.methionine_biosynthesis', 'methanogenesis_from_acetate', 'NAD_salvage_pathway_II', 'lipid_IVA_biosynthesis', 'methylerythritol_phosphate_pathway_I', 'pentose_phosphate_pathway_.non.oxidative_branch.', 'O.antigen_building_blocks_biosynthesis_.E._coli.', 'pyruvate_fermentation_to_propanoate_I', 'heterolactic_fermentation', 'Bifidobacterium_shunt', 'superpathway_of_.R.R..butanediol_biosynthesis', 'acetylene_degradation', 'L.glutamate_degradation_V_.via_hydroxyglutarate.', 'L.lysine_fermentation_to_acetate_and_butanoate', 'purine_nucleobases_degradation_I_.anaerobic.', 'octane_oxidation', 'reductive_TCA_cycle_I', 'superpathway_of_L.lysine._L.threonine_and_L.methionine_biosynthesis_I', 'incomplete_reductive_TCA_cycle', 'superpathway_of_N.acetylneuraminate_degradation', 'hexitol_fermentation_to_lactate._formate._ethanol_and_acetate', 'myo.inositol_degradation_I', 'phosphopantothenate_biosynthesis_I', 'pantothenate_and_coenzyme_A_biosynthesis_I', 'pentose_phosphate_pathway', 'peptidoglycan_biosynthesis_I_.meso.diaminopimelate_containing.', 'superpathway_of_phospholipid_biosynthesis_I_.bacteria.', 'superpathway_of_polyamine_biosynthesis_II', 'superpathway_of_polyamine_biosynthesis_I', 'polyisoprenoid_biosynthesis_.E._coli.', 'superpathway_of_histidine._purine._and_pyrimidine_biosynthesis', 'CMP.3.deoxy.D.manno.octulosonate_biosynthesis_I', 'formaldehyde_assimilation_II_.RuMP_Cycle.', 'L.lysine_biosynthesis_II', 'L.lysine_biosynthesis_III', 'superpathway_of_L.isoleucine_biosynthesis_I', 'urea_cycle', 'biotin_biosynthesis_II', 'X4.aminobutanoate_degradation_V', 'L.lysine_biosynthesis_VI', 'pyruvate_fermentation_to_acetate_and_lactate_II', 'L.isoleucine_biosynthesis_II', 'L.isoleucine_biosynthesis_III', 'L.isoleucine_biosynthesis_IV', 'superpathway_of_geranylgeranyl_diphosphate_biosynthesis_II_.via_MEP.', 'L.arginine_biosynthesis_III_.via_N.acetyl.L.citrulline.', 'glutaryl.CoA_degradation', 'tetrapyrrole_biosynthesis_I_.from_glutamate.', 'tetrapyrrole_biosynthesis_II_.from_glycine.', 'peptidoglycan_biosynthesis_II_.staphylococci.', 'superpathway_of_sulfur_oxidation_.Acidianus_ambivalens.', 'superpathway_of_L.methionine_biosynthesis_.by_sulfhydrylation.', 'superpathway_of_L.methionine_biosynthesis_.transsulfuration.', 'sucrose_degradation_IV_.sucrose_phosphorylase.', 'glycolysis_II_.from_fructose_6.phosphate.', 'L.glutamate_and_L.glutamine_biosynthesis', 'adenosylcobalamin_biosynthesis_from_cobyrinate_a.c.diamide_I', 'GDP.mannose_biosynthesis', 'CDP.diacylglycerol_biosynthesis_I', 'acetyl.CoA_fermentation_to_butanoate_II', 'succinate_fermentation_to_butanoate', 'UMP_biosynthesis', 'urate_biosynthesis.inosine_5..phosphate_degradation', 'allantoin_degradation_to_glyoxylate_III', 'X1.4.dihydroxy.2.naphthoate_biosynthesis_I', 'superpathway_of_menaquinol.8_biosynthesis_I', 'superpathway_of_menaquinol.7_biosynthesis', 'superpathway_of_menaquinol.9_biosynthesis', 'superpathway_of_menaquinol.6_biosynthesis_I', 'ubiquinol.7_biosynthesis_.prokaryotic.', 'ubiquinol.9_biosynthesis_.prokaryotic.', 'ubiquinol.10_biosynthesis_.prokaryotic.', 'superpathway_of_demethylmenaquinol.6_biosynthesis_I', 'superpathway_of_demethylmenaquinol.8_biosynthesis', 'superpathway_of_demethylmenaquinol.9_biosynthesis', 'superpathway_of_phylloquinol_biosynthesis', 'superpathway_of_menaquinol.10_biosynthesis', 'superpathway_of_menaquinol.11_biosynthesis', 'superpathway_of_menaquinol.12_biosynthesis', 'superpathway_of_menaquinol.13_biosynthesis', 'superpathway_of_geranylgeranyldiphosphate_biosynthesis_I_.via_mevalonate.', 'TCA_cycle_VI_.obligate_autotrophs.', 'superpathay_of_heme_biosynthesis_from_glutamate', 'palmitate_biosynthesis_II_.bacteria_and_plants.', 'cis.vaccenate_biosynthesis', 'stearate_biosynthesis_II_.bacteria_and_plants.', 'X5.aminoimidazole_ribonucleotide_biosynthesis_I', 'X5.aminoimidazole_ribonucleotide_biosynthesis_II', 'inosine.5..phosphate_biosynthesis_I', 'superpathway_of_guanosine_nucleotides_de_novo_biosynthesis_II', 'superpathway_of_adenosine_nucleotides_de_novo_biosynthesis_II', 'X6.hydroxymethyl.dihydropterin_diphosphate_biosynthesis_I', 'S.adenosyl.L.methionine_cycle_I', 'chorismate_biosynthesis_from_3.dehydroquinate', 'sucrose_degradation_III_.sucrose_invertase.', 'superpathway_of_menaquinol.8_biosynthesis_II', 'adenosylcobalamin_salvage_from_cobinamide_II', 'superpathway_of_5.aminoimidazole_ribonucleotide_biosynthesis', 'palmitoleate_biosynthesis_I_.from_.5Z..dodec.5.enoate.', 'galactose_degradation_I_.Leloir_pathway.', 'purine_nucleotides_degradation_II_.aerobic.', 'peptidoglycan_biosynthesis_III_.mycobacteria.', 'UDP.N.acetylmuramoyl.pentapeptide_biosynthesis_II_.lysine.containing.', 'UDP.N.acetylmuramoyl.pentapeptide_biosynthesis_I_.meso.diaminopimelate_containing.', 'superpathway_of_2.3.butanediol_biosynthesis', 'Kdo_transfer_to_lipid_IVA_III_.Chlamydia.', 'peptidoglycan_biosynthesis_V_..beta..lactam_resistance.', 'peptidoglycan_biosynthesis_IV_.Enterococcus_faecium.', 'GDP.D.glycero..alpha..D.manno.heptose_biosynthesis', 'X4.deoxy.L.threo.hex.4.enopyranuronate_degradation', 'X8.amino.7.oxononanoate_biosynthesis_I', 'pyrimidine_deoxyribonucleotides_de_novo_biosynthesis_III', 'chondroitin_sulfate_degradation_I_.bacterial.', 'pyruvate_fermentation_to_acetone', 'superpathway_of_Clostridium_acetobutylicum_acidogenic_fermentation', 'guanosine_nucleotides_degradation_III', 'adenine_and_adenosine_salvage_III', 'superpathway_of_tetrahydrofolate_biosynthesis', 'superpathway_of_L.phenylalanine_biosynthesis', 'superpathway_of_L.tyrosine_biosynthesis', 'queuosine_biosynthesis', 'preQ0_biosynthesis', 'ubiquinol.8_biosynthesis_.prokaryotic.', 'starch_degradation_V', 'CMP.legionaminate_biosynthesis_I', 'isopropanol_biosynthesis', 'thiazole_biosynthesis_II_.Bacillus.', 'thiazole_biosynthesis_I_.E._coli.', 'superpathway_of_thiamin_diphosphate_biosynthesis_II', 'thiamin_salvage_II', 'superpathway_of_glucose_and_xylose_degradation', 'TCA_cycle_V_.2.oxoglutarate.ferredoxin_oxidoreductase.', 'glycerol_degradation_to_butanol', 'L.1.2.propanediol_degradation', 'UDP.2.3.diacetamido.2.3.dideoxy..alpha..D.mannuronate_biosynthesis', 'pyruvate_fermentation_to_isobutanol_.engineered.', 'pyrimidine_deoxyribonucleotides_de_novo_biosynthesis_I', 'pyrimidine_deoxyribonucleotides_de_novo_biosynthesis_II', 'superpathway_of_pyrimidine_ribonucleosides_salvage', 'pyrimidine_deoxyribonucleotide_phosphorylation', 'pyrimidine_deoxyribonucleotides_de_novo_biosynthesis_IV', 'pyrimidine_deoxyribonucleosides_salvage', 'superpathway_of_pyrimidine_deoxyribonucleoside_salvage', 'superpathway_of_pyrimidine_nucleobases_salvage', 'pyrimidine_deoxyribonucleotides_biosynthesis_from_CTP', 'superpathway_of_pyrimidine_deoxyribonucleotides_de_novo_biosynthesis', 'adenosine_ribonucleotides_de_novo_biosynthesis', 'adenosine_deoxyribonucleotides_de_novo_biosynthesis_II', 'guanosine_ribonucleotides_de_novo_biosynthesis', 'guanosine_deoxyribonucleotides_de_novo_biosynthesis_II', 'superpathway_of_guanosine_nucleotides_de_novo_biosynthesis_I', 'superpathway_of_adenosine_nucleotides_de_novo_biosynthesis_I', 'inosine.5..phosphate_biosynthesis_III', 'myo.._chiro._and_scillo.inositol_degradation', 'D.fructuronate_degradation', 'TCA_cycle_VII_.acetate.producers.', 'dTDP.N.acetylthomosamine_biosynthesis', 'superpathway_of_GDP.mannose.derived_O.antigen_building_blocks_biosynthesis', 'superpathway_of_UDP.glucose.derived_O.antigen_building_blocks_biosynthesis', 'superpathway_of_UDP.N.acetylglucosamine.derived_O.antigen_building_blocks_biosynthesis', 'X1.4.dihydroxy.6.naphthoate_biosynthesis_II', 'X1.4.dihydroxy.6.naphthoate_biosynthesis_I', 'cob.II.yrinate_a.c.diamide_biosynthesis_I_.early_cobalt_insertion.', 'taxadiene_biosynthesis_.engineered.', 'L.arginine_biosynthesis_IV_.archaebacteria.', 'mannan_degradation', 'X6.hydroxymethyl.dihydropterin_diphosphate_biosynthesis_III_.Chlamydia.', 'methylerythritol_phosphate_pathway_II', 'gondoate_biosynthesis_.anaerobic.', 'oleate_biosynthesis_IV_.anaerobic.', 'superpathway_of_purine_nucleotides_de_novo_biosynthesis_I', 'mevalonate_pathway_I', 'superpathway_of_L.alanine_biosynthesis', 'ADP.L.glycero..beta..D.manno.heptose_biosynthesis', 'anhydromuropeptides_recycling', 'purine_ribonucleosides_degradation', 'superpathway_of_purine_deoxyribonucleosides_degradation', 'superpathway_of_pyrimidine_deoxyribonucleosides_degradation', 'CDP.diacylglycerol_biosynthesis_II', 'superpathway_of_heme_biosynthesis_from_uroporphyrinogen.III', 'tRNA_processing', 'methylphosphonate_degradation_I', 'peptidoglycan_maturation_.meso.diaminopimelate_containing.', 'superpathway_of_pyrimidine_ribonucleotides_de_novo_biosynthesis', 'superpathway_of_pyrimidine_deoxyribonucleotides_de_novo_biosynthesis_.E._coli.', 'aspartate_superpathway', 'superpathway_of_pyridoxal_5..phosphate_biosynthesis_and_salvage', 'X.5Z..dodec.5.enoate_biosynthesis', 'nitrate_reduction_VI_.assimilatory.', 'phosphatidylglycerol_biosynthesis_I_.plastidic.', 'phosphatidylglycerol_biosynthesis_II_.non.plastidic.', 'mycolate_biosynthesis', 'NAD_salvage_pathway_I', 'NAD_biosynthesis_I_.from_aspartate.', 'pyridoxal_5..phosphate_biosynthesis_I', 'TCA_cycle_VIII_.helicobacter.', 'L.rhamnose_degradation_I', 'flavin_biosynthesis_I_.bacteria_and_plants.', 'formaldehyde_oxidation_I', 'adenosine_nucleotides_degradation_II', 'superpathway_of_L.serine_and_glycine_biosynthesis_I', 'sulfate_reduction_I_.assimilatory.', 'superpathway_of_sulfate_assimilation_and_cysteine_biosynthesis', 'TCA_cycle_I_.prokaryotic.', 'teichoic_acid_.poly.glycerol._biosynthesis', 'superpathway_of_thiamin_diphosphate_biosynthesis_I', 'superpathway_of_L.threonine_biosynthesis', 'tRNA_charging', 'L.tryptophan_biosynthesis', 'superpathway_of_ubiquinol.8_biosynthesis_.prokaryotic.', 'UDP.N.acetyl.D.glucosamine_biosynthesis_I', 'L.valine_biosynthesis', 'all_samples_y', 'time_y', 'Unnamed: 0', 'g__Parabacteroides_B_862066', 'g__Coprenecus', 'g__Butyricimonas', 'g__Odoribacter_865974', 'g__Alistipes_A_871404', 'g__Paramuribaculum', 'g__Alistipes_A_871400', 'g__Barnesiella', 'g__Coprobacter', 'g__Phocaeicola_A_858004', 'g__Bacteroides_H', 'g__Prevotella', 'g__Paraprevotella', 'g__Methanobrevibacter_A', 'g__DTU012', 'g__Escherichia_710834', 'g__Parasutterella', 'g__Sutterella', 'g__Haemophilus_D_735815', 'g__Enterobacter_B_713587', 'g__Akkermansia', 'g__Eubacterium_O_258270', 'g__Anaerofustis', 'g__Peptococcus', 'g__QAMH01', 'g__Senegalimassilia', 'g__Adlercreutzia_404257', 'g__Slackia_A', 'g__Eggerthella', 'g__CAG.1427', 'g__Gordonibacter', 'g__Collinsella', 'g__Holdemania', 'g__Longibaculum', 'g__Catenibacterium', 'g__Erysipelatoclostridium', 'g__Faecalibacillus', 'g___2', 'g__Holdemanella', 'g__Merdibacter', 'g__Clostridium_AQ', 'g__Amedibacillus', 'g__Longicatena', 'g__Dielma', 'g__Pauljensenia', 'g__Bifidobacterium_388775', 'g__Acidaminococcus', 'g__Phascolarctobacterium_A', 'g__Veillonella_A', 'g__Dialister', 'g__Streptococcus', 'g__Lactococcus_A_346120', 'g__Lacticaseibacillus', 'g__Turicibacter', 'g__Gemella', 'g__Limiplasma', 'g__SFMI01', 'g___3', 'g__Onthenecus', 'g__Copromorpha', 'g__BX12', 'g___4', 'g__Romboutsia_B', 'g__CCUG.7971', 'g__Intestinibacter', 'g__Terrisporobacter', 'g___5', 'g__PeH17', 'g__Clostridium_T', 'g__CAG.269', 'g___6', 'g__CAG.273', 'g__Merdicola', 'g__CAG.41', 'g__Monoglobus', 'g__ER4', 'g___7', 'g__Dysosmobacter', 'g__Vescimonas', 'g__CAG.83', 'g__Limivicinus', 'g__Faecousia', 'g__Agathobaculum', 'g__Lawsonibacter', 'g__Intestinimonas', 'g__Pseudobutyricicoccus', 'g__Evtepia', 'g__Onthomonas', 'g___8', 'g__RUG13077', 'g__Avispirillum', 'g__SFLA01', 'g__WQUU01', 'g__UMGS1071', 'g__Clostridium_A', 'g__Acutalibacter', 'g__UBA1417', 'g__Anaeromassilibacillus', 'g__Hydrogeniiclostridium', 'g__Ruminococcus_E', 'g__UBA5905', 'g__Bittarella', 'g__Fimenecus', 'g__Faecalibacterium', 'g__Gemmiger_A_73129', 'g__Ruthenibacterium', 'g__Ruminiclostridium_E', 'g___9', 'g__CAG.177', 'g__CAG.217', 'g__Angelakisella', 'g__Massilioclostridium', 'g__Phocea', 'g__Anaerotruncus', 'g__Negativibacillus', 'g__UBA1394', 'g__Ruminococcus_C_58660', 'g__Ruminococcus_D', 'g___10', 'g___11', 'g__Anaerotignum_189125', 'g__CAG.274', 'g__Anaerobutyricum', 'g__Eubacterium_I', 'g__Roseburia', 'g__Agathobacter_164117', 'g__Butyribacter', 'g__RUG115', 'g__CAG.45', 'g__Eubacterium_J', 'g__Eubacterium_G', 'g__Howardella', 'g___1', 'g__Anaerostipes', 'g__Coprococcus_A_121497', 'g__CAG.127', 'g__Lachnospira', 'g__Eubacterium_F', 'g__Coprococcus_A_187866', 'g__Catenibacillus', 'g__Frisingicoccus', 'g__Merdisoma', 'g__Marvinbryantia', 'g__Blautia_A_141780', 'g__Blautia_A_141781', 'g__UMGS1375', 'g__Limivivens', 'g__UBA9414', 'g__Oliverpabstia', 'g__Mediterraneibacter_A_155507', 'g__COE1', 'g__Acetatifactor', 'g__CAG.95', 'g__Hungatella_A_128155', 'g__Hungatella_A_127239', 'g__Sellimonas', 'g__Eisenbergiella', 'g__UBA3402', 'g__Scatomonas', 'g__Clostridium_Q_134516', 'g__Faecalimonas', 'g__Ruminococcus_B', 'g__Clostridium_AP', 'g__CAG.317_146760', 'g__Bariatricus', 'g__Muricomes_149725', 'g__Lachnoclostridium_B', 'g__Schaedlerella', 'g__Mediterraneibacter_A_155590', 'g__Lactonifactor', 'g__Enterocloster', 'g__Ventrisoma', 'g__Clostridium_Q_135853', 'g__Clostridium_Q_135822', 'g__Porcincola', 'g__Copromonas', 'g__Ventrimonas', 'g__Dorea_A', 'g__Massilistercora', 'SampleID_y', 'all_samples', 'time']\n"
     ]
    }
   ],
   "source": [
    "print(\"Final merged columns: \", test_micom_func_tax.columns.to_list())"
   ]
  },
  {
   "cell_type": "markdown",
   "metadata": {},
   "source": [
    "### Merge genetic data \n",
    "for training"
   ]
  },
  {
   "cell_type": "code",
   "execution_count": 15,
   "metadata": {},
   "outputs": [
    {
     "name": "stdout",
     "output_type": "stream",
     "text": [
      "Subject_id column to match that of genetic data:  0      EBE-130\n",
      "1      BSA-174\n",
      "2      TDU-086\n",
      "3      LVA-017\n",
      "4      VCA-041\n",
      "        ...   \n",
      "294    QNG-166\n",
      "295    NDI-067\n",
      "296    TRO-113\n",
      "297    SCA-043\n",
      "298    NPO-149\n",
      "Name: subject_id, Length: 299, dtype: object\n"
     ]
    }
   ],
   "source": [
    "# Create subject_id column by modifying sample_id\n",
    "micom_func_tax['subject_id'] = micom_func_tax['sample_id'].str.split('.').str[0]  # Remove '.' and following characters\n",
    "print(\"Subject_id column to match that of genetic data: \", micom_func_tax['subject_id'])"
   ]
  },
  {
   "cell_type": "code",
   "execution_count": 16,
   "metadata": {},
   "outputs": [
    {
     "name": "stdout",
     "output_type": "stream",
     "text": [
      "gen_train columns:  ['Unnamed: 0', 'subject_id', 'bmi_prs', 'old_or_new', 'predicted_BL_BMI', 'differences_BL_BMI', 'diff_BMI_quartile', 'diff_BMI_std', 'methyl_bmi_rs', 'methyl_bmi_rs_standardized']\n",
      "gen train subject_id:  0      ABR-079\n",
      "1      ACO-053\n",
      "2      ADA-105\n",
      "3      AGA-071\n",
      "4      AHE-055\n",
      "        ...   \n",
      "115    TSH-146\n",
      "116    TSL-056\n",
      "117    VCA-041\n",
      "118    YOR-103\n",
      "119    YSU-097\n",
      "Name: subject_id, Length: 120, dtype: object\n"
     ]
    }
   ],
   "source": [
    "print(\"gen_train columns: \", gen_train.columns.to_list())\n",
    "gen_train = gen_train[['subject_id', 'bmi_prs']]\n",
    "print(\"gen train subject_id: \", gen_train['subject_id'])"
   ]
  },
  {
   "cell_type": "code",
   "execution_count": 17,
   "metadata": {},
   "outputs": [
    {
     "name": "stdout",
     "output_type": "stream",
     "text": [
      "Merged data shape:  (308, 550)\n",
      "Merged data columns:  ['Unnamed: 0_x', 'sample_id', 'proton', 'Diacetyl', 'Butyrate', 'Formate', 'acetone', 'X2.methylbutyrate', 'Valeric.Acid', 'Methane', 'X1.4.Dihydroxy.2.naphthoate', 'X2.Oxoglutarate', 'Pyruvate', 'D.lactate', 'L.lactate', 'laurate', 'Phenol', 'L.Carnitine', 'Isopropanol', 'p.Cresol', 'O2', 'X1.Propanol', 'butanol', 'Propanal', 'X4.hydroxyphenylacetate', 'X.S..propane.1.2.diol', 'Propane.1.3.diol', 'R_R__2_3_Butanediol', 'Oxaloacetate', 'sulfate', 'octadecenoate..n.C18.1.', 'o.Succinylbenzoate', 'Thymidine', 'Reduced.riboflavin', 'Riboflavin', 'X2.Hydroxyphenylacetate', 'Sulfite', 'thiosulfate.2..', 'X.3.4.dihydroxyphenyl.acetate', 'Diphosphate', 'trimethylamine', 'glycine.betaine', 'Choline', 'Trimethylamine.N.oxide', 'Isochorismate', 'Inosine', 'xanthosine', 'Hypoxanthine', 'Xanthine', 'uracil', 'Uridine', 'Methanethiol', 'keto.phenylpyruvate', 'D.Arabinose', 'D.Galactose', 'Nicotinate', 'chorismate', 'tetradecanoate..n.C14.0.', 'oxalate.2..', 'X.R..3.hydroxybutyrate', 'Hydrogen.peroxide', 'Hydrogen.sulfide', 'X4.hydroxybenzoate', 'Hexadecanoate..n.C16.0.', 'octadecanoate..n.C18.0.', 'D.Fructose', 'D.ribose', 'myo.inositol', 'D.Mannitol', 'Citrate', 'Menaquinone.8', 'Glycerol', 'D.Mannose', 'X2.Oxobutanoate', 'Fumarate', 'L.malate', 'X.R..Acetoin', 'formaldehyde', 'Ethanol', 'Acetoacetate', 'methanol', 'Acetaldehyde', 'X3.methyl.2.oxopentanoate', 'Isovalerate..3.Methylbutanoate', 'phenylacetate', 'Succinate', 'Isobutyrate..2.Methylpropanoate', 'Isocaproate', 'Water', 'Hydrogen', 'Propionate', 'Acetate', 'Carbon.dioxide', 'all_samples_x', 'time_x', 'Unnamed: 0_y', 'SampleID_x', 'N10.formyl.tetrahydrofolate_biosynthesis', 'homolactic_fermentation', 'glycolysis_III_.from_glucose.', 'superpathway_of_arginine_and_polyamine_biosynthesis', 'arginine._ornithine_and_proline_interconversion', 'L.arginine_biosynthesis_I_.via_L.ornithine.', 'L.arginine_biosynthesis_II_.acetyl_cycle.', 'chorismate_biosynthesis_I', 'superpathway_of_L.aspartate_and_L.asparagine_biosynthesis', 'biotin_biosynthesis_I', 'superpathway_of_branched_amino_acid_biosynthesis', 'Calvin.Benson.Bassham_cycle', 'pyruvate_fermentation_to_butanoate', 'coenzyme_A_biosynthesis_I', 'adenosylcobalamin_salvage_from_cobinamide_I', 'reductive_acetyl_coenzyme_A_pathway', 'colanic_acid_building_blocks_biosynthesis', 'superpathway_of_aromatic_amino_acid_biosynthesis', 'L.lysine_biosynthesis_I', 'superpathway_of_purine_nucleotides_de_novo_biosynthesis_II', 'dTDP.L.rhamnose_biosynthesis_I', 'fatty_acid_.beta..oxidation_I', 'fatty_acid_elongation_.._saturated', 'superpathway_of_fatty_acid_biosynthesis_initiation_.E._coli.', 'mixed_acid_fermentation', 'superpathway_of_tetrahydrofolate_biosynthesis_and_salvage', 'superpathway_of_fucose_and_rhamnose_degradation', 'fucose_degradation', 'superpathway_of_hexuronide_and_hexuronate_degradation', 'D.galactarate_degradation_I', 'D.galacturonate_degradation_I', 'superpathway_of_N.acetylglucosamine._N.acetylmannosamine_and_N.acetylneuraminate_degradation', 'D.glucarate_degradation_I', 'superpathway_of_D.glucarate_and_D.galactarate_degradation', 'gluconeogenesis_I', 'glucose_and_glucose.1.phosphate_degradation', 'superpathway_of_.beta..D.glucuronide_and_D.glucuronate_degradation', 'L.ornithine_biosynthesis', 'glycogen_degradation_I_.bacterial.', 'glycogen_biosynthesis_I_.from_ADP.D.Glucose.', 'superpathway_of_glycol_metabolism_and_degradation', 'glycolysis_I_.from_glucose_6.phosphate.', 'superpathway_of_glycolysis_and_Entner.Doudoroff', 'glyoxylate_cycle', 'superpathway_of_glycerol_degradation_to_1.3.propanediol', 'heme_biosynthesis_I_.aerobic.', 'heme_biosynthesis_II_.anaerobic.', 'superpathway_of_hexitol_degradation_.bacteria.', 'L.histidine_degradation_I', 'L.histidine_biosynthesis', 'L.methionine_biosynthesis_I', 'L.methionine_biosynthesis_III', 'L.isoleucine_biosynthesis_I_.from_threonine.', 'lactose_and_galactose_degradation_I', 'superpathway_of_S.adenosyl.L.methionine_biosynthesis', 'methanogenesis_from_acetate', 'NAD_salvage_pathway_II', 'lipid_IVA_biosynthesis', 'methylerythritol_phosphate_pathway_I', 'pentose_phosphate_pathway_.non.oxidative_branch.', 'O.antigen_building_blocks_biosynthesis_.E._coli.', 'pyruvate_fermentation_to_propanoate_I', 'heterolactic_fermentation', 'Bifidobacterium_shunt', 'superpathway_of_.R.R..butanediol_biosynthesis', 'acetylene_degradation', 'L.glutamate_degradation_V_.via_hydroxyglutarate.', 'L.lysine_fermentation_to_acetate_and_butanoate', 'purine_nucleobases_degradation_I_.anaerobic.', 'octane_oxidation', 'reductive_TCA_cycle_I', 'superpathway_of_L.lysine._L.threonine_and_L.methionine_biosynthesis_I', 'incomplete_reductive_TCA_cycle', 'superpathway_of_N.acetylneuraminate_degradation', 'hexitol_fermentation_to_lactate._formate._ethanol_and_acetate', 'myo.inositol_degradation_I', 'phosphopantothenate_biosynthesis_I', 'pantothenate_and_coenzyme_A_biosynthesis_I', 'pentose_phosphate_pathway', 'peptidoglycan_biosynthesis_I_.meso.diaminopimelate_containing.', 'superpathway_of_phospholipid_biosynthesis_I_.bacteria.', 'superpathway_of_polyamine_biosynthesis_II', 'superpathway_of_polyamine_biosynthesis_I', 'polyisoprenoid_biosynthesis_.E._coli.', 'superpathway_of_histidine._purine._and_pyrimidine_biosynthesis', 'CMP.3.deoxy.D.manno.octulosonate_biosynthesis_I', 'formaldehyde_assimilation_II_.RuMP_Cycle.', 'L.lysine_biosynthesis_II', 'L.lysine_biosynthesis_III', 'superpathway_of_L.isoleucine_biosynthesis_I', 'urea_cycle', 'biotin_biosynthesis_II', 'X4.aminobutanoate_degradation_V', 'L.lysine_biosynthesis_VI', 'pyruvate_fermentation_to_acetate_and_lactate_II', 'L.isoleucine_biosynthesis_II', 'L.isoleucine_biosynthesis_III', 'L.isoleucine_biosynthesis_IV', 'superpathway_of_geranylgeranyl_diphosphate_biosynthesis_II_.via_MEP.', 'L.arginine_biosynthesis_III_.via_N.acetyl.L.citrulline.', 'glutaryl.CoA_degradation', 'tetrapyrrole_biosynthesis_I_.from_glutamate.', 'tetrapyrrole_biosynthesis_II_.from_glycine.', 'peptidoglycan_biosynthesis_II_.staphylococci.', 'superpathway_of_sulfur_oxidation_.Acidianus_ambivalens.', 'superpathway_of_L.methionine_biosynthesis_.by_sulfhydrylation.', 'superpathway_of_L.methionine_biosynthesis_.transsulfuration.', 'sucrose_degradation_IV_.sucrose_phosphorylase.', 'glycolysis_II_.from_fructose_6.phosphate.', 'L.glutamate_and_L.glutamine_biosynthesis', 'adenosylcobalamin_biosynthesis_from_cobyrinate_a.c.diamide_I', 'GDP.mannose_biosynthesis', 'CDP.diacylglycerol_biosynthesis_I', 'acetyl.CoA_fermentation_to_butanoate_II', 'succinate_fermentation_to_butanoate', 'UMP_biosynthesis', 'urate_biosynthesis.inosine_5..phosphate_degradation', 'allantoin_degradation_to_glyoxylate_III', 'X1.4.dihydroxy.2.naphthoate_biosynthesis_I', 'superpathway_of_menaquinol.8_biosynthesis_I', 'superpathway_of_menaquinol.7_biosynthesis', 'superpathway_of_menaquinol.9_biosynthesis', 'superpathway_of_menaquinol.6_biosynthesis_I', 'ubiquinol.7_biosynthesis_.prokaryotic.', 'ubiquinol.9_biosynthesis_.prokaryotic.', 'ubiquinol.10_biosynthesis_.prokaryotic.', 'superpathway_of_demethylmenaquinol.6_biosynthesis_I', 'superpathway_of_demethylmenaquinol.8_biosynthesis', 'superpathway_of_demethylmenaquinol.9_biosynthesis', 'superpathway_of_phylloquinol_biosynthesis', 'superpathway_of_menaquinol.10_biosynthesis', 'superpathway_of_menaquinol.11_biosynthesis', 'superpathway_of_menaquinol.12_biosynthesis', 'superpathway_of_menaquinol.13_biosynthesis', 'superpathway_of_geranylgeranyldiphosphate_biosynthesis_I_.via_mevalonate.', 'TCA_cycle_VI_.obligate_autotrophs.', 'superpathay_of_heme_biosynthesis_from_glutamate', 'palmitate_biosynthesis_II_.bacteria_and_plants.', 'cis.vaccenate_biosynthesis', 'stearate_biosynthesis_II_.bacteria_and_plants.', 'X5.aminoimidazole_ribonucleotide_biosynthesis_I', 'X5.aminoimidazole_ribonucleotide_biosynthesis_II', 'inosine.5..phosphate_biosynthesis_I', 'superpathway_of_guanosine_nucleotides_de_novo_biosynthesis_II', 'superpathway_of_adenosine_nucleotides_de_novo_biosynthesis_II', 'X6.hydroxymethyl.dihydropterin_diphosphate_biosynthesis_I', 'S.adenosyl.L.methionine_cycle_I', 'chorismate_biosynthesis_from_3.dehydroquinate', 'sucrose_degradation_III_.sucrose_invertase.', 'superpathway_of_menaquinol.8_biosynthesis_II', 'adenosylcobalamin_salvage_from_cobinamide_II', 'superpathway_of_5.aminoimidazole_ribonucleotide_biosynthesis', 'palmitoleate_biosynthesis_I_.from_.5Z..dodec.5.enoate.', 'galactose_degradation_I_.Leloir_pathway.', 'purine_nucleotides_degradation_II_.aerobic.', 'peptidoglycan_biosynthesis_III_.mycobacteria.', 'UDP.N.acetylmuramoyl.pentapeptide_biosynthesis_II_.lysine.containing.', 'UDP.N.acetylmuramoyl.pentapeptide_biosynthesis_I_.meso.diaminopimelate_containing.', 'superpathway_of_2.3.butanediol_biosynthesis', 'Kdo_transfer_to_lipid_IVA_III_.Chlamydia.', 'peptidoglycan_biosynthesis_V_..beta..lactam_resistance.', 'peptidoglycan_biosynthesis_IV_.Enterococcus_faecium.', 'GDP.D.glycero..alpha..D.manno.heptose_biosynthesis', 'X4.deoxy.L.threo.hex.4.enopyranuronate_degradation', 'X8.amino.7.oxononanoate_biosynthesis_I', 'pyrimidine_deoxyribonucleotides_de_novo_biosynthesis_III', 'chondroitin_sulfate_degradation_I_.bacterial.', 'pyruvate_fermentation_to_acetone', 'superpathway_of_Clostridium_acetobutylicum_acidogenic_fermentation', 'guanosine_nucleotides_degradation_III', 'adenine_and_adenosine_salvage_III', 'superpathway_of_tetrahydrofolate_biosynthesis', 'superpathway_of_L.phenylalanine_biosynthesis', 'superpathway_of_L.tyrosine_biosynthesis', 'queuosine_biosynthesis', 'preQ0_biosynthesis', 'ubiquinol.8_biosynthesis_.prokaryotic.', 'starch_degradation_V', 'CMP.legionaminate_biosynthesis_I', 'isopropanol_biosynthesis', 'thiazole_biosynthesis_II_.Bacillus.', 'thiazole_biosynthesis_I_.E._coli.', 'superpathway_of_thiamin_diphosphate_biosynthesis_II', 'thiamin_salvage_II', 'superpathway_of_glucose_and_xylose_degradation', 'TCA_cycle_V_.2.oxoglutarate.ferredoxin_oxidoreductase.', 'glycerol_degradation_to_butanol', 'L.1.2.propanediol_degradation', 'UDP.2.3.diacetamido.2.3.dideoxy..alpha..D.mannuronate_biosynthesis', 'pyruvate_fermentation_to_isobutanol_.engineered.', 'pyrimidine_deoxyribonucleotides_de_novo_biosynthesis_I', 'pyrimidine_deoxyribonucleotides_de_novo_biosynthesis_II', 'superpathway_of_pyrimidine_ribonucleosides_salvage', 'pyrimidine_deoxyribonucleotide_phosphorylation', 'pyrimidine_deoxyribonucleotides_de_novo_biosynthesis_IV', 'pyrimidine_deoxyribonucleosides_salvage', 'superpathway_of_pyrimidine_deoxyribonucleoside_salvage', 'superpathway_of_pyrimidine_nucleobases_salvage', 'pyrimidine_deoxyribonucleotides_biosynthesis_from_CTP', 'superpathway_of_pyrimidine_deoxyribonucleotides_de_novo_biosynthesis', 'adenosine_ribonucleotides_de_novo_biosynthesis', 'adenosine_deoxyribonucleotides_de_novo_biosynthesis_II', 'guanosine_ribonucleotides_de_novo_biosynthesis', 'guanosine_deoxyribonucleotides_de_novo_biosynthesis_II', 'superpathway_of_guanosine_nucleotides_de_novo_biosynthesis_I', 'superpathway_of_adenosine_nucleotides_de_novo_biosynthesis_I', 'inosine.5..phosphate_biosynthesis_III', 'myo.._chiro._and_scillo.inositol_degradation', 'D.fructuronate_degradation', 'TCA_cycle_VII_.acetate.producers.', 'dTDP.N.acetylthomosamine_biosynthesis', 'superpathway_of_GDP.mannose.derived_O.antigen_building_blocks_biosynthesis', 'superpathway_of_UDP.glucose.derived_O.antigen_building_blocks_biosynthesis', 'superpathway_of_UDP.N.acetylglucosamine.derived_O.antigen_building_blocks_biosynthesis', 'X1.4.dihydroxy.6.naphthoate_biosynthesis_II', 'X1.4.dihydroxy.6.naphthoate_biosynthesis_I', 'cob.II.yrinate_a.c.diamide_biosynthesis_I_.early_cobalt_insertion.', 'taxadiene_biosynthesis_.engineered.', 'L.arginine_biosynthesis_IV_.archaebacteria.', 'mannan_degradation', 'X6.hydroxymethyl.dihydropterin_diphosphate_biosynthesis_III_.Chlamydia.', 'methylerythritol_phosphate_pathway_II', 'gondoate_biosynthesis_.anaerobic.', 'oleate_biosynthesis_IV_.anaerobic.', 'superpathway_of_purine_nucleotides_de_novo_biosynthesis_I', 'mevalonate_pathway_I', 'superpathway_of_L.alanine_biosynthesis', 'ADP.L.glycero..beta..D.manno.heptose_biosynthesis', 'anhydromuropeptides_recycling', 'purine_ribonucleosides_degradation', 'superpathway_of_purine_deoxyribonucleosides_degradation', 'superpathway_of_pyrimidine_deoxyribonucleosides_degradation', 'CDP.diacylglycerol_biosynthesis_II', 'superpathway_of_heme_biosynthesis_from_uroporphyrinogen.III', 'tRNA_processing', 'methylphosphonate_degradation_I', 'peptidoglycan_maturation_.meso.diaminopimelate_containing.', 'superpathway_of_pyrimidine_ribonucleotides_de_novo_biosynthesis', 'superpathway_of_pyrimidine_deoxyribonucleotides_de_novo_biosynthesis_.E._coli.', 'aspartate_superpathway', 'superpathway_of_pyridoxal_5..phosphate_biosynthesis_and_salvage', 'X.5Z..dodec.5.enoate_biosynthesis', 'nitrate_reduction_VI_.assimilatory.', 'phosphatidylglycerol_biosynthesis_I_.plastidic.', 'phosphatidylglycerol_biosynthesis_II_.non.plastidic.', 'mycolate_biosynthesis', 'NAD_salvage_pathway_I', 'NAD_biosynthesis_I_.from_aspartate.', 'pyridoxal_5..phosphate_biosynthesis_I', 'TCA_cycle_VIII_.helicobacter.', 'L.rhamnose_degradation_I', 'flavin_biosynthesis_I_.bacteria_and_plants.', 'formaldehyde_oxidation_I', 'adenosine_nucleotides_degradation_II', 'superpathway_of_L.serine_and_glycine_biosynthesis_I', 'sulfate_reduction_I_.assimilatory.', 'superpathway_of_sulfate_assimilation_and_cysteine_biosynthesis', 'TCA_cycle_I_.prokaryotic.', 'teichoic_acid_.poly.glycerol._biosynthesis', 'superpathway_of_thiamin_diphosphate_biosynthesis_I', 'superpathway_of_L.threonine_biosynthesis', 'tRNA_charging', 'L.tryptophan_biosynthesis', 'superpathway_of_ubiquinol.8_biosynthesis_.prokaryotic.', 'UDP.N.acetyl.D.glucosamine_biosynthesis_I', 'L.valine_biosynthesis', 'all_samples_y', 'time_y', 'Unnamed: 0', 'g__Parabacteroides_B_862066', 'g__Coprenecus', 'g__Butyricimonas', 'g__Odoribacter_865974', 'g__Alistipes_A_871404', 'g__Paramuribaculum', 'g__Alistipes_A_871400', 'g__Barnesiella', 'g__Coprobacter', 'g__Phocaeicola_A_858004', 'g__Bacteroides_H', 'g__Prevotella', 'g__Paraprevotella', 'g__Methanobrevibacter_A', 'g__DTU012', 'g__Escherichia_710834', 'g__Parasutterella', 'g__Sutterella', 'g__Haemophilus_D_735815', 'g__Enterobacter_B_713587', 'g__Akkermansia', 'g__Eubacterium_O_258270', 'g__Anaerofustis', 'g__Peptococcus', 'g__QAMH01', 'g__Senegalimassilia', 'g__Adlercreutzia_404257', 'g__Slackia_A', 'g__Eggerthella', 'g__CAG.1427', 'g__Gordonibacter', 'g__Collinsella', 'g__Holdemania', 'g__Longibaculum', 'g__Catenibacterium', 'g__Erysipelatoclostridium', 'g__Faecalibacillus', 'g___2', 'g__Holdemanella', 'g__Merdibacter', 'g__Clostridium_AQ', 'g__Amedibacillus', 'g__Longicatena', 'g__Dielma', 'g__Pauljensenia', 'g__Bifidobacterium_388775', 'g__Acidaminococcus', 'g__Phascolarctobacterium_A', 'g__Veillonella_A', 'g__Dialister', 'g__Streptococcus', 'g__Lactococcus_A_346120', 'g__Lacticaseibacillus', 'g__Turicibacter', 'g__Gemella', 'g__Limiplasma', 'g__SFMI01', 'g___3', 'g__Onthenecus', 'g__Copromorpha', 'g__BX12', 'g___4', 'g__Romboutsia_B', 'g__CCUG.7971', 'g__Intestinibacter', 'g__Terrisporobacter', 'g___5', 'g__PeH17', 'g__Clostridium_T', 'g__CAG.269', 'g___6', 'g__CAG.273', 'g__Merdicola', 'g__CAG.41', 'g__Monoglobus', 'g__ER4', 'g___7', 'g__Dysosmobacter', 'g__Vescimonas', 'g__CAG.83', 'g__Limivicinus', 'g__Faecousia', 'g__Agathobaculum', 'g__Lawsonibacter', 'g__Intestinimonas', 'g__Pseudobutyricicoccus', 'g__Evtepia', 'g__Onthomonas', 'g___8', 'g__RUG13077', 'g__Avispirillum', 'g__SFLA01', 'g__WQUU01', 'g__UMGS1071', 'g__Clostridium_A', 'g__Acutalibacter', 'g__UBA1417', 'g__Anaeromassilibacillus', 'g__Hydrogeniiclostridium', 'g__Ruminococcus_E', 'g__UBA5905', 'g__Bittarella', 'g__Fimenecus', 'g__Faecalibacterium', 'g__Gemmiger_A_73129', 'g__Ruthenibacterium', 'g__Ruminiclostridium_E', 'g___9', 'g__CAG.177', 'g__CAG.217', 'g__Angelakisella', 'g__Massilioclostridium', 'g__Phocea', 'g__Anaerotruncus', 'g__Negativibacillus', 'g__UBA1394', 'g__Ruminococcus_C_58660', 'g__Ruminococcus_D', 'g___10', 'g___11', 'g__Anaerotignum_189125', 'g__CAG.274', 'g__Anaerobutyricum', 'g__Eubacterium_I', 'g__Roseburia', 'g__Agathobacter_164117', 'g__Butyribacter', 'g__RUG115', 'g__CAG.45', 'g__Eubacterium_J', 'g__Eubacterium_G', 'g__Howardella', 'g___1', 'g__Anaerostipes', 'g__Coprococcus_A_121497', 'g__CAG.127', 'g__Lachnospira', 'g__Eubacterium_F', 'g__Coprococcus_A_187866', 'g__Catenibacillus', 'g__Frisingicoccus', 'g__Merdisoma', 'g__Marvinbryantia', 'g__Blautia_A_141780', 'g__Blautia_A_141781', 'g__UMGS1375', 'g__Limivivens', 'g__UBA9414', 'g__Oliverpabstia', 'g__Mediterraneibacter_A_155507', 'g__COE1', 'g__Acetatifactor', 'g__CAG.95', 'g__Hungatella_A_128155', 'g__Hungatella_A_127239', 'g__Sellimonas', 'g__Eisenbergiella', 'g__UBA3402', 'g__Scatomonas', 'g__Clostridium_Q_134516', 'g__Faecalimonas', 'g__Ruminococcus_B', 'g__Clostridium_AP', 'g__CAG.317_146760', 'g__Bariatricus', 'g__Muricomes_149725', 'g__Lachnoclostridium_B', 'g__Schaedlerella', 'g__Mediterraneibacter_A_155590', 'g__Lactonifactor', 'g__Enterocloster', 'g__Ventrisoma', 'g__Clostridium_Q_135853', 'g__Clostridium_Q_135822', 'g__Porcincola', 'g__Copromonas', 'g__Ventrimonas', 'g__Dorea_A', 'g__Massilistercora', 'SampleID_y', 'all_samples', 'time', 'subject_id', 'bmi_prs']\n",
      "Number of unique subject_id values in merged:  117\n",
      "Number of unique subject_id values in merged:  120\n"
     ]
    }
   ],
   "source": [
    "merged_data = pd.merge(micom_func_tax, \n",
    "                       gen_train, \n",
    "                       on='subject_id', \n",
    "                       how='left')\n",
    "\n",
    "print(\"Merged data shape: \", merged_data.shape)\n",
    "print(\"Merged data columns: \", merged_data.columns.to_list())\n",
    "# Count unique subject_id values\n",
    "unique_subject_ids_gen = gen_train['subject_id'].nunique()\n",
    "print(\"Number of unique subject_id values in merged: \", unique_subject_ids_gen)\n",
    "\n",
    "unique_subject_ids_count = merged_data['subject_id'].nunique()\n",
    "print(\"Number of unique subject_id values in merged: \", unique_subject_ids_count)"
   ]
  },
  {
   "cell_type": "code",
   "execution_count": 18,
   "metadata": {},
   "outputs": [
    {
     "name": "stdout",
     "output_type": "stream",
     "text": [
      "Subject IDs in gen_train but not in micom_func_tax: set()\n",
      "Subject IDs in meta but not in micom_func_tax: {'MBA-176'}\n",
      "Subject IDs in gen_train but not in micom_func_tax: {'MBA-176'}\n",
      "Subject IDs in micom_func_tax but not in gen_train: {'NAR-099', 'NEL-094', 'ALI-121', 'CWA-183'}\n"
     ]
    }
   ],
   "source": [
    "# Get subject_ids from both DataFrames\n",
    "gen_train_subject_ids = set(gen_train['subject_id'])\n",
    "meta_train_subject_ids = set(train_long['subject_id'])\n",
    "micom_func_tax_subject_ids = set(micom_func_tax['subject_id'])\n",
    "\n",
    "# Find subject_ids in meta not in genetic data\n",
    "subject_ids_in_meta_not_in_gen = meta_train_subject_ids - gen_train_subject_ids\n",
    "print(\"Subject IDs in gen_train but not in micom_func_tax:\", subject_ids_in_meta_not_in_gen)\n",
    "\n",
    "subject_ids_in_meta_not_in_merged = meta_train_subject_ids - micom_func_tax_subject_ids\n",
    "print(\"Subject IDs in meta but not in micom_func_tax:\", subject_ids_in_meta_not_in_merged)\n",
    "\n",
    "# Find subject_ids in gen_train but not in micom_func_tax\n",
    "subject_ids_in_gen_not_in_micom = gen_train_subject_ids - micom_func_tax_subject_ids\n",
    "print(\"Subject IDs in gen_train but not in micom_func_tax:\", subject_ids_in_gen_not_in_micom)\n",
    "\n",
    "# Find subject_ids in micom_func_tax but not in gen_train\n",
    "subject_ids_in_micom_not_in_gen = micom_func_tax_subject_ids - gen_train_subject_ids\n",
    "print(\"Subject IDs in micom_func_tax but not in gen_train:\", subject_ids_in_micom_not_in_gen)"
   ]
  },
  {
   "cell_type": "markdown",
   "metadata": {},
   "source": [
    "#### For testing "
   ]
  },
  {
   "cell_type": "code",
   "execution_count": 19,
   "metadata": {},
   "outputs": [
    {
     "name": "stdout",
     "output_type": "stream",
     "text": [
      "gen_test columns:  ['Unnamed: 0', 'subject_id', 'bmi_prs', 'old_or_new', 'predicted_BL_BMI', 'differences_BL_BMI', 'diff_BMI_quartile', 'diff_BMI_std', 'methyl_bmi_rs', 'methyl_bmi_rs_standardized']\n",
      "gen train subject_id:  0     AAL-144\n",
      "1     AME-157\n",
      "2     AWI-167\n",
      "3     BHO-014\n",
      "4     BHO-014\n",
      "5     CAL-074\n",
      "6     CBO-004\n",
      "7     CEL-073\n",
      "8     CIS-077\n",
      "9     COW-066\n",
      "10    CWA-161\n",
      "11    DSC-024\n",
      "12    FWI-098\n",
      "13    HDE-154\n",
      "14    JDI-140\n",
      "15    JJO-093\n",
      "16    JPO-022\n",
      "17    JVE-126\n",
      "18    KPA-042\n",
      "19    LJA-101\n",
      "20    LZD-142\n",
      "21    MBA-187\n",
      "22    MCW-065\n",
      "23    MDI-107\n",
      "24    MJA-153\n",
      "25    MLU-106\n",
      "26    MWE-143\n",
      "27    NKA-090\n",
      "28    NMO-151\n",
      "29    SKA-087\n",
      "30    WPE-005\n",
      "31    ZVU-096\n",
      "Name: subject_id, dtype: object\n"
     ]
    }
   ],
   "source": [
    "print(\"gen_test columns: \", gen_test.columns.to_list())\n",
    "gen_test = gen_test[['subject_id', 'bmi_prs']]\n",
    "print(\"gen train subject_id: \", gen_test['subject_id'])"
   ]
  },
  {
   "cell_type": "code",
   "execution_count": 20,
   "metadata": {},
   "outputs": [
    {
     "name": "stdout",
     "output_type": "stream",
     "text": [
      "Subject_id column to match that of genetic data:  0     JPO-022\n",
      "1     BHO-014\n",
      "2     JJO-093\n",
      "3     COW-066\n",
      "4     NMO-151\n",
      "       ...   \n",
      "65    WPE-005\n",
      "66    CWA-161\n",
      "67    BHO-014\n",
      "68    FWI-098\n",
      "69    AAL-144\n",
      "Name: subject_id, Length: 70, dtype: object\n"
     ]
    }
   ],
   "source": [
    "# Create subject_id column by modifying sample_id\n",
    "test_micom_func_tax['subject_id'] = test_micom_func_tax['sample_id'].str.split('.').str[0]  # Remove '.' and following characters\n",
    "print(\"Subject_id column to match that of genetic data: \", test_micom_func_tax['subject_id'])"
   ]
  },
  {
   "cell_type": "code",
   "execution_count": 21,
   "metadata": {},
   "outputs": [
    {
     "name": "stdout",
     "output_type": "stream",
     "text": [
      "Merged data shape:  (73, 550)\n",
      "Merged data columns:  ['Unnamed: 0_x', 'sample_id', 'proton', 'Diacetyl', 'Butyrate', 'Formate', 'acetone', 'X2.methylbutyrate', 'Valeric.Acid', 'Methane', 'X1.4.Dihydroxy.2.naphthoate', 'X2.Oxoglutarate', 'Pyruvate', 'D.lactate', 'L.lactate', 'laurate', 'Phenol', 'L.Carnitine', 'Isopropanol', 'p.Cresol', 'O2', 'X1.Propanol', 'butanol', 'Propanal', 'X4.hydroxyphenylacetate', 'X.S..propane.1.2.diol', 'Propane.1.3.diol', 'R_R__2_3_Butanediol', 'Oxaloacetate', 'sulfate', 'octadecenoate..n.C18.1.', 'o.Succinylbenzoate', 'Thymidine', 'Reduced.riboflavin', 'Riboflavin', 'X2.Hydroxyphenylacetate', 'Sulfite', 'thiosulfate.2..', 'X.3.4.dihydroxyphenyl.acetate', 'Diphosphate', 'trimethylamine', 'glycine.betaine', 'Choline', 'Trimethylamine.N.oxide', 'Isochorismate', 'Inosine', 'xanthosine', 'Hypoxanthine', 'Xanthine', 'uracil', 'Uridine', 'Methanethiol', 'keto.phenylpyruvate', 'D.Arabinose', 'D.Galactose', 'Nicotinate', 'chorismate', 'tetradecanoate..n.C14.0.', 'oxalate.2..', 'X.R..3.hydroxybutyrate', 'Hydrogen.peroxide', 'Hydrogen.sulfide', 'X4.hydroxybenzoate', 'Hexadecanoate..n.C16.0.', 'octadecanoate..n.C18.0.', 'D.Fructose', 'D.ribose', 'myo.inositol', 'D.Mannitol', 'Citrate', 'Menaquinone.8', 'Glycerol', 'D.Mannose', 'X2.Oxobutanoate', 'Fumarate', 'L.malate', 'X.R..Acetoin', 'formaldehyde', 'Ethanol', 'Acetoacetate', 'methanol', 'Acetaldehyde', 'X3.methyl.2.oxopentanoate', 'Isovalerate..3.Methylbutanoate', 'phenylacetate', 'Succinate', 'Isobutyrate..2.Methylpropanoate', 'Isocaproate', 'Water', 'Hydrogen', 'Propionate', 'Acetate', 'Carbon.dioxide', 'all_samples_x', 'time_x', 'Unnamed: 0_y', 'SampleID_x', 'N10.formyl.tetrahydrofolate_biosynthesis', 'homolactic_fermentation', 'glycolysis_III_.from_glucose.', 'superpathway_of_arginine_and_polyamine_biosynthesis', 'arginine._ornithine_and_proline_interconversion', 'L.arginine_biosynthesis_I_.via_L.ornithine.', 'L.arginine_biosynthesis_II_.acetyl_cycle.', 'chorismate_biosynthesis_I', 'superpathway_of_L.aspartate_and_L.asparagine_biosynthesis', 'biotin_biosynthesis_I', 'superpathway_of_branched_amino_acid_biosynthesis', 'Calvin.Benson.Bassham_cycle', 'pyruvate_fermentation_to_butanoate', 'coenzyme_A_biosynthesis_I', 'adenosylcobalamin_salvage_from_cobinamide_I', 'reductive_acetyl_coenzyme_A_pathway', 'colanic_acid_building_blocks_biosynthesis', 'superpathway_of_aromatic_amino_acid_biosynthesis', 'L.lysine_biosynthesis_I', 'superpathway_of_purine_nucleotides_de_novo_biosynthesis_II', 'dTDP.L.rhamnose_biosynthesis_I', 'fatty_acid_.beta..oxidation_I', 'fatty_acid_elongation_.._saturated', 'superpathway_of_fatty_acid_biosynthesis_initiation_.E._coli.', 'mixed_acid_fermentation', 'superpathway_of_tetrahydrofolate_biosynthesis_and_salvage', 'superpathway_of_fucose_and_rhamnose_degradation', 'fucose_degradation', 'superpathway_of_hexuronide_and_hexuronate_degradation', 'D.galactarate_degradation_I', 'D.galacturonate_degradation_I', 'superpathway_of_N.acetylglucosamine._N.acetylmannosamine_and_N.acetylneuraminate_degradation', 'D.glucarate_degradation_I', 'superpathway_of_D.glucarate_and_D.galactarate_degradation', 'gluconeogenesis_I', 'glucose_and_glucose.1.phosphate_degradation', 'superpathway_of_.beta..D.glucuronide_and_D.glucuronate_degradation', 'L.ornithine_biosynthesis', 'glycogen_degradation_I_.bacterial.', 'glycogen_biosynthesis_I_.from_ADP.D.Glucose.', 'superpathway_of_glycol_metabolism_and_degradation', 'glycolysis_I_.from_glucose_6.phosphate.', 'superpathway_of_glycolysis_and_Entner.Doudoroff', 'glyoxylate_cycle', 'superpathway_of_glycerol_degradation_to_1.3.propanediol', 'heme_biosynthesis_I_.aerobic.', 'heme_biosynthesis_II_.anaerobic.', 'superpathway_of_hexitol_degradation_.bacteria.', 'L.histidine_degradation_I', 'L.histidine_biosynthesis', 'L.methionine_biosynthesis_I', 'L.methionine_biosynthesis_III', 'L.isoleucine_biosynthesis_I_.from_threonine.', 'lactose_and_galactose_degradation_I', 'superpathway_of_S.adenosyl.L.methionine_biosynthesis', 'methanogenesis_from_acetate', 'NAD_salvage_pathway_II', 'lipid_IVA_biosynthesis', 'methylerythritol_phosphate_pathway_I', 'pentose_phosphate_pathway_.non.oxidative_branch.', 'O.antigen_building_blocks_biosynthesis_.E._coli.', 'pyruvate_fermentation_to_propanoate_I', 'heterolactic_fermentation', 'Bifidobacterium_shunt', 'superpathway_of_.R.R..butanediol_biosynthesis', 'acetylene_degradation', 'L.glutamate_degradation_V_.via_hydroxyglutarate.', 'L.lysine_fermentation_to_acetate_and_butanoate', 'purine_nucleobases_degradation_I_.anaerobic.', 'octane_oxidation', 'reductive_TCA_cycle_I', 'superpathway_of_L.lysine._L.threonine_and_L.methionine_biosynthesis_I', 'incomplete_reductive_TCA_cycle', 'superpathway_of_N.acetylneuraminate_degradation', 'hexitol_fermentation_to_lactate._formate._ethanol_and_acetate', 'myo.inositol_degradation_I', 'phosphopantothenate_biosynthesis_I', 'pantothenate_and_coenzyme_A_biosynthesis_I', 'pentose_phosphate_pathway', 'peptidoglycan_biosynthesis_I_.meso.diaminopimelate_containing.', 'superpathway_of_phospholipid_biosynthesis_I_.bacteria.', 'superpathway_of_polyamine_biosynthesis_II', 'superpathway_of_polyamine_biosynthesis_I', 'polyisoprenoid_biosynthesis_.E._coli.', 'superpathway_of_histidine._purine._and_pyrimidine_biosynthesis', 'CMP.3.deoxy.D.manno.octulosonate_biosynthesis_I', 'formaldehyde_assimilation_II_.RuMP_Cycle.', 'L.lysine_biosynthesis_II', 'L.lysine_biosynthesis_III', 'superpathway_of_L.isoleucine_biosynthesis_I', 'urea_cycle', 'biotin_biosynthesis_II', 'X4.aminobutanoate_degradation_V', 'L.lysine_biosynthesis_VI', 'pyruvate_fermentation_to_acetate_and_lactate_II', 'L.isoleucine_biosynthesis_II', 'L.isoleucine_biosynthesis_III', 'L.isoleucine_biosynthesis_IV', 'superpathway_of_geranylgeranyl_diphosphate_biosynthesis_II_.via_MEP.', 'L.arginine_biosynthesis_III_.via_N.acetyl.L.citrulline.', 'glutaryl.CoA_degradation', 'tetrapyrrole_biosynthesis_I_.from_glutamate.', 'tetrapyrrole_biosynthesis_II_.from_glycine.', 'peptidoglycan_biosynthesis_II_.staphylococci.', 'superpathway_of_sulfur_oxidation_.Acidianus_ambivalens.', 'superpathway_of_L.methionine_biosynthesis_.by_sulfhydrylation.', 'superpathway_of_L.methionine_biosynthesis_.transsulfuration.', 'sucrose_degradation_IV_.sucrose_phosphorylase.', 'glycolysis_II_.from_fructose_6.phosphate.', 'L.glutamate_and_L.glutamine_biosynthesis', 'adenosylcobalamin_biosynthesis_from_cobyrinate_a.c.diamide_I', 'GDP.mannose_biosynthesis', 'CDP.diacylglycerol_biosynthesis_I', 'acetyl.CoA_fermentation_to_butanoate_II', 'succinate_fermentation_to_butanoate', 'UMP_biosynthesis', 'urate_biosynthesis.inosine_5..phosphate_degradation', 'allantoin_degradation_to_glyoxylate_III', 'X1.4.dihydroxy.2.naphthoate_biosynthesis_I', 'superpathway_of_menaquinol.8_biosynthesis_I', 'superpathway_of_menaquinol.7_biosynthesis', 'superpathway_of_menaquinol.9_biosynthesis', 'superpathway_of_menaquinol.6_biosynthesis_I', 'ubiquinol.7_biosynthesis_.prokaryotic.', 'ubiquinol.9_biosynthesis_.prokaryotic.', 'ubiquinol.10_biosynthesis_.prokaryotic.', 'superpathway_of_demethylmenaquinol.6_biosynthesis_I', 'superpathway_of_demethylmenaquinol.8_biosynthesis', 'superpathway_of_demethylmenaquinol.9_biosynthesis', 'superpathway_of_phylloquinol_biosynthesis', 'superpathway_of_menaquinol.10_biosynthesis', 'superpathway_of_menaquinol.11_biosynthesis', 'superpathway_of_menaquinol.12_biosynthesis', 'superpathway_of_menaquinol.13_biosynthesis', 'superpathway_of_geranylgeranyldiphosphate_biosynthesis_I_.via_mevalonate.', 'TCA_cycle_VI_.obligate_autotrophs.', 'superpathay_of_heme_biosynthesis_from_glutamate', 'palmitate_biosynthesis_II_.bacteria_and_plants.', 'cis.vaccenate_biosynthesis', 'stearate_biosynthesis_II_.bacteria_and_plants.', 'X5.aminoimidazole_ribonucleotide_biosynthesis_I', 'X5.aminoimidazole_ribonucleotide_biosynthesis_II', 'inosine.5..phosphate_biosynthesis_I', 'superpathway_of_guanosine_nucleotides_de_novo_biosynthesis_II', 'superpathway_of_adenosine_nucleotides_de_novo_biosynthesis_II', 'X6.hydroxymethyl.dihydropterin_diphosphate_biosynthesis_I', 'S.adenosyl.L.methionine_cycle_I', 'chorismate_biosynthesis_from_3.dehydroquinate', 'sucrose_degradation_III_.sucrose_invertase.', 'superpathway_of_menaquinol.8_biosynthesis_II', 'adenosylcobalamin_salvage_from_cobinamide_II', 'superpathway_of_5.aminoimidazole_ribonucleotide_biosynthesis', 'palmitoleate_biosynthesis_I_.from_.5Z..dodec.5.enoate.', 'galactose_degradation_I_.Leloir_pathway.', 'purine_nucleotides_degradation_II_.aerobic.', 'peptidoglycan_biosynthesis_III_.mycobacteria.', 'UDP.N.acetylmuramoyl.pentapeptide_biosynthesis_II_.lysine.containing.', 'UDP.N.acetylmuramoyl.pentapeptide_biosynthesis_I_.meso.diaminopimelate_containing.', 'superpathway_of_2.3.butanediol_biosynthesis', 'Kdo_transfer_to_lipid_IVA_III_.Chlamydia.', 'peptidoglycan_biosynthesis_V_..beta..lactam_resistance.', 'peptidoglycan_biosynthesis_IV_.Enterococcus_faecium.', 'GDP.D.glycero..alpha..D.manno.heptose_biosynthesis', 'X4.deoxy.L.threo.hex.4.enopyranuronate_degradation', 'X8.amino.7.oxononanoate_biosynthesis_I', 'pyrimidine_deoxyribonucleotides_de_novo_biosynthesis_III', 'chondroitin_sulfate_degradation_I_.bacterial.', 'pyruvate_fermentation_to_acetone', 'superpathway_of_Clostridium_acetobutylicum_acidogenic_fermentation', 'guanosine_nucleotides_degradation_III', 'adenine_and_adenosine_salvage_III', 'superpathway_of_tetrahydrofolate_biosynthesis', 'superpathway_of_L.phenylalanine_biosynthesis', 'superpathway_of_L.tyrosine_biosynthesis', 'queuosine_biosynthesis', 'preQ0_biosynthesis', 'ubiquinol.8_biosynthesis_.prokaryotic.', 'starch_degradation_V', 'CMP.legionaminate_biosynthesis_I', 'isopropanol_biosynthesis', 'thiazole_biosynthesis_II_.Bacillus.', 'thiazole_biosynthesis_I_.E._coli.', 'superpathway_of_thiamin_diphosphate_biosynthesis_II', 'thiamin_salvage_II', 'superpathway_of_glucose_and_xylose_degradation', 'TCA_cycle_V_.2.oxoglutarate.ferredoxin_oxidoreductase.', 'glycerol_degradation_to_butanol', 'L.1.2.propanediol_degradation', 'UDP.2.3.diacetamido.2.3.dideoxy..alpha..D.mannuronate_biosynthesis', 'pyruvate_fermentation_to_isobutanol_.engineered.', 'pyrimidine_deoxyribonucleotides_de_novo_biosynthesis_I', 'pyrimidine_deoxyribonucleotides_de_novo_biosynthesis_II', 'superpathway_of_pyrimidine_ribonucleosides_salvage', 'pyrimidine_deoxyribonucleotide_phosphorylation', 'pyrimidine_deoxyribonucleotides_de_novo_biosynthesis_IV', 'pyrimidine_deoxyribonucleosides_salvage', 'superpathway_of_pyrimidine_deoxyribonucleoside_salvage', 'superpathway_of_pyrimidine_nucleobases_salvage', 'pyrimidine_deoxyribonucleotides_biosynthesis_from_CTP', 'superpathway_of_pyrimidine_deoxyribonucleotides_de_novo_biosynthesis', 'adenosine_ribonucleotides_de_novo_biosynthesis', 'adenosine_deoxyribonucleotides_de_novo_biosynthesis_II', 'guanosine_ribonucleotides_de_novo_biosynthesis', 'guanosine_deoxyribonucleotides_de_novo_biosynthesis_II', 'superpathway_of_guanosine_nucleotides_de_novo_biosynthesis_I', 'superpathway_of_adenosine_nucleotides_de_novo_biosynthesis_I', 'inosine.5..phosphate_biosynthesis_III', 'myo.._chiro._and_scillo.inositol_degradation', 'D.fructuronate_degradation', 'TCA_cycle_VII_.acetate.producers.', 'dTDP.N.acetylthomosamine_biosynthesis', 'superpathway_of_GDP.mannose.derived_O.antigen_building_blocks_biosynthesis', 'superpathway_of_UDP.glucose.derived_O.antigen_building_blocks_biosynthesis', 'superpathway_of_UDP.N.acetylglucosamine.derived_O.antigen_building_blocks_biosynthesis', 'X1.4.dihydroxy.6.naphthoate_biosynthesis_II', 'X1.4.dihydroxy.6.naphthoate_biosynthesis_I', 'cob.II.yrinate_a.c.diamide_biosynthesis_I_.early_cobalt_insertion.', 'taxadiene_biosynthesis_.engineered.', 'L.arginine_biosynthesis_IV_.archaebacteria.', 'mannan_degradation', 'X6.hydroxymethyl.dihydropterin_diphosphate_biosynthesis_III_.Chlamydia.', 'methylerythritol_phosphate_pathway_II', 'gondoate_biosynthesis_.anaerobic.', 'oleate_biosynthesis_IV_.anaerobic.', 'superpathway_of_purine_nucleotides_de_novo_biosynthesis_I', 'mevalonate_pathway_I', 'superpathway_of_L.alanine_biosynthesis', 'ADP.L.glycero..beta..D.manno.heptose_biosynthesis', 'anhydromuropeptides_recycling', 'purine_ribonucleosides_degradation', 'superpathway_of_purine_deoxyribonucleosides_degradation', 'superpathway_of_pyrimidine_deoxyribonucleosides_degradation', 'CDP.diacylglycerol_biosynthesis_II', 'superpathway_of_heme_biosynthesis_from_uroporphyrinogen.III', 'tRNA_processing', 'methylphosphonate_degradation_I', 'peptidoglycan_maturation_.meso.diaminopimelate_containing.', 'superpathway_of_pyrimidine_ribonucleotides_de_novo_biosynthesis', 'superpathway_of_pyrimidine_deoxyribonucleotides_de_novo_biosynthesis_.E._coli.', 'aspartate_superpathway', 'superpathway_of_pyridoxal_5..phosphate_biosynthesis_and_salvage', 'X.5Z..dodec.5.enoate_biosynthesis', 'nitrate_reduction_VI_.assimilatory.', 'phosphatidylglycerol_biosynthesis_I_.plastidic.', 'phosphatidylglycerol_biosynthesis_II_.non.plastidic.', 'mycolate_biosynthesis', 'NAD_salvage_pathway_I', 'NAD_biosynthesis_I_.from_aspartate.', 'pyridoxal_5..phosphate_biosynthesis_I', 'TCA_cycle_VIII_.helicobacter.', 'L.rhamnose_degradation_I', 'flavin_biosynthesis_I_.bacteria_and_plants.', 'formaldehyde_oxidation_I', 'adenosine_nucleotides_degradation_II', 'superpathway_of_L.serine_and_glycine_biosynthesis_I', 'sulfate_reduction_I_.assimilatory.', 'superpathway_of_sulfate_assimilation_and_cysteine_biosynthesis', 'TCA_cycle_I_.prokaryotic.', 'teichoic_acid_.poly.glycerol._biosynthesis', 'superpathway_of_thiamin_diphosphate_biosynthesis_I', 'superpathway_of_L.threonine_biosynthesis', 'tRNA_charging', 'L.tryptophan_biosynthesis', 'superpathway_of_ubiquinol.8_biosynthesis_.prokaryotic.', 'UDP.N.acetyl.D.glucosamine_biosynthesis_I', 'L.valine_biosynthesis', 'all_samples_y', 'time_y', 'Unnamed: 0', 'g__Parabacteroides_B_862066', 'g__Coprenecus', 'g__Butyricimonas', 'g__Odoribacter_865974', 'g__Alistipes_A_871404', 'g__Paramuribaculum', 'g__Alistipes_A_871400', 'g__Barnesiella', 'g__Coprobacter', 'g__Phocaeicola_A_858004', 'g__Bacteroides_H', 'g__Prevotella', 'g__Paraprevotella', 'g__Methanobrevibacter_A', 'g__DTU012', 'g__Escherichia_710834', 'g__Parasutterella', 'g__Sutterella', 'g__Haemophilus_D_735815', 'g__Enterobacter_B_713587', 'g__Akkermansia', 'g__Eubacterium_O_258270', 'g__Anaerofustis', 'g__Peptococcus', 'g__QAMH01', 'g__Senegalimassilia', 'g__Adlercreutzia_404257', 'g__Slackia_A', 'g__Eggerthella', 'g__CAG.1427', 'g__Gordonibacter', 'g__Collinsella', 'g__Holdemania', 'g__Longibaculum', 'g__Catenibacterium', 'g__Erysipelatoclostridium', 'g__Faecalibacillus', 'g___2', 'g__Holdemanella', 'g__Merdibacter', 'g__Clostridium_AQ', 'g__Amedibacillus', 'g__Longicatena', 'g__Dielma', 'g__Pauljensenia', 'g__Bifidobacterium_388775', 'g__Acidaminococcus', 'g__Phascolarctobacterium_A', 'g__Veillonella_A', 'g__Dialister', 'g__Streptococcus', 'g__Lactococcus_A_346120', 'g__Lacticaseibacillus', 'g__Turicibacter', 'g__Gemella', 'g__Limiplasma', 'g__SFMI01', 'g___3', 'g__Onthenecus', 'g__Copromorpha', 'g__BX12', 'g___4', 'g__Romboutsia_B', 'g__CCUG.7971', 'g__Intestinibacter', 'g__Terrisporobacter', 'g___5', 'g__PeH17', 'g__Clostridium_T', 'g__CAG.269', 'g___6', 'g__CAG.273', 'g__Merdicola', 'g__CAG.41', 'g__Monoglobus', 'g__ER4', 'g___7', 'g__Dysosmobacter', 'g__Vescimonas', 'g__CAG.83', 'g__Limivicinus', 'g__Faecousia', 'g__Agathobaculum', 'g__Lawsonibacter', 'g__Intestinimonas', 'g__Pseudobutyricicoccus', 'g__Evtepia', 'g__Onthomonas', 'g___8', 'g__RUG13077', 'g__Avispirillum', 'g__SFLA01', 'g__WQUU01', 'g__UMGS1071', 'g__Clostridium_A', 'g__Acutalibacter', 'g__UBA1417', 'g__Anaeromassilibacillus', 'g__Hydrogeniiclostridium', 'g__Ruminococcus_E', 'g__UBA5905', 'g__Bittarella', 'g__Fimenecus', 'g__Faecalibacterium', 'g__Gemmiger_A_73129', 'g__Ruthenibacterium', 'g__Ruminiclostridium_E', 'g___9', 'g__CAG.177', 'g__CAG.217', 'g__Angelakisella', 'g__Massilioclostridium', 'g__Phocea', 'g__Anaerotruncus', 'g__Negativibacillus', 'g__UBA1394', 'g__Ruminococcus_C_58660', 'g__Ruminococcus_D', 'g___10', 'g___11', 'g__Anaerotignum_189125', 'g__CAG.274', 'g__Anaerobutyricum', 'g__Eubacterium_I', 'g__Roseburia', 'g__Agathobacter_164117', 'g__Butyribacter', 'g__RUG115', 'g__CAG.45', 'g__Eubacterium_J', 'g__Eubacterium_G', 'g__Howardella', 'g___1', 'g__Anaerostipes', 'g__Coprococcus_A_121497', 'g__CAG.127', 'g__Lachnospira', 'g__Eubacterium_F', 'g__Coprococcus_A_187866', 'g__Catenibacillus', 'g__Frisingicoccus', 'g__Merdisoma', 'g__Marvinbryantia', 'g__Blautia_A_141780', 'g__Blautia_A_141781', 'g__UMGS1375', 'g__Limivivens', 'g__UBA9414', 'g__Oliverpabstia', 'g__Mediterraneibacter_A_155507', 'g__COE1', 'g__Acetatifactor', 'g__CAG.95', 'g__Hungatella_A_128155', 'g__Hungatella_A_127239', 'g__Sellimonas', 'g__Eisenbergiella', 'g__UBA3402', 'g__Scatomonas', 'g__Clostridium_Q_134516', 'g__Faecalimonas', 'g__Ruminococcus_B', 'g__Clostridium_AP', 'g__CAG.317_146760', 'g__Bariatricus', 'g__Muricomes_149725', 'g__Lachnoclostridium_B', 'g__Schaedlerella', 'g__Mediterraneibacter_A_155590', 'g__Lactonifactor', 'g__Enterocloster', 'g__Ventrisoma', 'g__Clostridium_Q_135853', 'g__Clostridium_Q_135822', 'g__Porcincola', 'g__Copromonas', 'g__Ventrimonas', 'g__Dorea_A', 'g__Massilistercora', 'SampleID_y', 'all_samples', 'time', 'subject_id', 'bmi_prs']\n",
      "Number of unique subject_id values in merged:  31\n",
      "Number of unique subject_id values in merged:  30\n"
     ]
    }
   ],
   "source": [
    "test_merged_data = pd.merge(test_micom_func_tax, \n",
    "                       gen_test, \n",
    "                       on='subject_id', \n",
    "                       how='left')\n",
    "\n",
    "print(\"Merged data shape: \", test_merged_data.shape)\n",
    "print(\"Merged data columns: \", test_merged_data.columns.to_list())\n",
    "# Count unique subject_id values\n",
    "unique_subject_ids_gen = gen_test['subject_id'].nunique()\n",
    "print(\"Number of unique subject_id values in merged: \", unique_subject_ids_gen)\n",
    "\n",
    "unique_subject_ids_count = test_merged_data['subject_id'].nunique()\n",
    "print(\"Number of unique subject_id values in merged: \", unique_subject_ids_count)"
   ]
  },
  {
   "cell_type": "markdown",
   "metadata": {},
   "source": [
    "### merge meta data to other omics \n",
    "\n",
    "for training"
   ]
  },
  {
   "cell_type": "code",
   "execution_count": 22,
   "metadata": {},
   "outputs": [
    {
     "name": "stdout",
     "output_type": "stream",
     "text": [
      "Meta train columns:  ['Unnamed: 0', 'record_id', 'subject_id', 'randomized_group', 'cohort_number', 'sex', 'race', 'age', 'outcome_BMI_fnl', 'Glucose', 'HOMA_IR', 'Insulin_endo', 'HDL_Total_Direct_lipid', 'LDL_Calculated', 'Triglyceride_lipid', 'Peptide_YY', 'Ghrelin', 'Leptin', 'Hemoglobin_A1C', 'time']\n",
      "Meta train subject_id column:  0      LFI-003\n",
      "1      ROL-006\n",
      "2      AKE-009\n",
      "3      HGI-010\n",
      "4      AKI-011\n",
      "        ...   \n",
      "286    SKA-195\n",
      "287    KHU-196\n",
      "288    LPF-198\n",
      "289    KEL-199\n",
      "290    BIN-201\n",
      "Name: subject_id, Length: 291, dtype: object\n",
      "test_micom_func_tax subject_id column:  0      EBE-130\n",
      "1      BSA-174\n",
      "2      TDU-086\n",
      "3      LVA-017\n",
      "4      VCA-041\n",
      "        ...   \n",
      "303    NDI-067\n",
      "304    TRO-113\n",
      "305    SCA-043\n",
      "306    SCA-043\n",
      "307    NPO-149\n",
      "Name: subject_id, Length: 308, dtype: object\n",
      "test_micom_func_tax time column:  0       0\n",
      "1       0\n",
      "2       0\n",
      "3       0\n",
      "4       0\n",
      "       ..\n",
      "303    12\n",
      "304    12\n",
      "305    12\n",
      "306    12\n",
      "307    12\n",
      "Name: time, Length: 308, dtype: int64\n",
      "met_train time column:  0       0\n",
      "1       0\n",
      "2       0\n",
      "3       0\n",
      "4       0\n",
      "       ..\n",
      "286    12\n",
      "287    12\n",
      "288    12\n",
      "289    12\n",
      "290    12\n",
      "Name: time, Length: 291, dtype: int64\n",
      "Number of matching subject_id values: 280\n"
     ]
    }
   ],
   "source": [
    "print(\"Meta train columns: \", met_train.columns.to_list())\n",
    "print(\"Meta train subject_id column: \", met_train['subject_id'])\n",
    "print(\"test_micom_func_tax subject_id column: \", merged_data['subject_id'])\n",
    "\n",
    "merged_data[\"time\"] = merged_data[\"time\"].astype(int)\n",
    "met_train[\"time\"] = met_train[\"time\"].astype(int)\n",
    "print(\"test_micom_func_tax time column: \", merged_data['time'])\n",
    "print(\"met_train time column: \", met_train['time'])\n",
    "\n",
    "# Count matching subject_id values\n",
    "matching_subjects = merged_data['subject_id'].isin(met_train['subject_id']).sum()\n",
    "print(\"Number of matching subject_id values:\", matching_subjects)\n"
   ]
  },
  {
   "cell_type": "code",
   "execution_count": 23,
   "metadata": {},
   "outputs": [
    {
     "name": "stdout",
     "output_type": "stream",
     "text": [
      "Merged all shape:  (280, 568)\n",
      "Merged all columns:  ['Unnamed: 0_train_long', 'record_id', 'subject_id', 'randomized_group', 'cohort_number', 'sex', 'race', 'age', 'outcome_BMI_fnl', 'Glucose', 'HOMA_IR', 'Insulin_endo', 'HDL_Total_Direct_lipid', 'LDL_Calculated', 'Triglyceride_lipid', 'Peptide_YY', 'Ghrelin', 'Leptin', 'Hemoglobin_A1C', 'time', 'Unnamed: 0_x', 'sample_id', 'proton', 'Diacetyl', 'Butyrate', 'Formate', 'acetone', 'X2.methylbutyrate', 'Valeric.Acid', 'Methane', 'X1.4.Dihydroxy.2.naphthoate', 'X2.Oxoglutarate', 'Pyruvate', 'D.lactate', 'L.lactate', 'laurate', 'Phenol', 'L.Carnitine', 'Isopropanol', 'p.Cresol', 'O2', 'X1.Propanol', 'butanol', 'Propanal', 'X4.hydroxyphenylacetate', 'X.S..propane.1.2.diol', 'Propane.1.3.diol', 'R_R__2_3_Butanediol', 'Oxaloacetate', 'sulfate', 'octadecenoate..n.C18.1.', 'o.Succinylbenzoate', 'Thymidine', 'Reduced.riboflavin', 'Riboflavin', 'X2.Hydroxyphenylacetate', 'Sulfite', 'thiosulfate.2..', 'X.3.4.dihydroxyphenyl.acetate', 'Diphosphate', 'trimethylamine', 'glycine.betaine', 'Choline', 'Trimethylamine.N.oxide', 'Isochorismate', 'Inosine', 'xanthosine', 'Hypoxanthine', 'Xanthine', 'uracil', 'Uridine', 'Methanethiol', 'keto.phenylpyruvate', 'D.Arabinose', 'D.Galactose', 'Nicotinate', 'chorismate', 'tetradecanoate..n.C14.0.', 'oxalate.2..', 'X.R..3.hydroxybutyrate', 'Hydrogen.peroxide', 'Hydrogen.sulfide', 'X4.hydroxybenzoate', 'Hexadecanoate..n.C16.0.', 'octadecanoate..n.C18.0.', 'D.Fructose', 'D.ribose', 'myo.inositol', 'D.Mannitol', 'Citrate', 'Menaquinone.8', 'Glycerol', 'D.Mannose', 'X2.Oxobutanoate', 'Fumarate', 'L.malate', 'X.R..Acetoin', 'formaldehyde', 'Ethanol', 'Acetoacetate', 'methanol', 'Acetaldehyde', 'X3.methyl.2.oxopentanoate', 'Isovalerate..3.Methylbutanoate', 'phenylacetate', 'Succinate', 'Isobutyrate..2.Methylpropanoate', 'Isocaproate', 'Water', 'Hydrogen', 'Propionate', 'Acetate', 'Carbon.dioxide', 'all_samples_x', 'time_x', 'Unnamed: 0_y', 'SampleID_x', 'N10.formyl.tetrahydrofolate_biosynthesis', 'homolactic_fermentation', 'glycolysis_III_.from_glucose.', 'superpathway_of_arginine_and_polyamine_biosynthesis', 'arginine._ornithine_and_proline_interconversion', 'L.arginine_biosynthesis_I_.via_L.ornithine.', 'L.arginine_biosynthesis_II_.acetyl_cycle.', 'chorismate_biosynthesis_I', 'superpathway_of_L.aspartate_and_L.asparagine_biosynthesis', 'biotin_biosynthesis_I', 'superpathway_of_branched_amino_acid_biosynthesis', 'Calvin.Benson.Bassham_cycle', 'pyruvate_fermentation_to_butanoate', 'coenzyme_A_biosynthesis_I', 'adenosylcobalamin_salvage_from_cobinamide_I', 'reductive_acetyl_coenzyme_A_pathway', 'colanic_acid_building_blocks_biosynthesis', 'superpathway_of_aromatic_amino_acid_biosynthesis', 'L.lysine_biosynthesis_I', 'superpathway_of_purine_nucleotides_de_novo_biosynthesis_II', 'dTDP.L.rhamnose_biosynthesis_I', 'fatty_acid_.beta..oxidation_I', 'fatty_acid_elongation_.._saturated', 'superpathway_of_fatty_acid_biosynthesis_initiation_.E._coli.', 'mixed_acid_fermentation', 'superpathway_of_tetrahydrofolate_biosynthesis_and_salvage', 'superpathway_of_fucose_and_rhamnose_degradation', 'fucose_degradation', 'superpathway_of_hexuronide_and_hexuronate_degradation', 'D.galactarate_degradation_I', 'D.galacturonate_degradation_I', 'superpathway_of_N.acetylglucosamine._N.acetylmannosamine_and_N.acetylneuraminate_degradation', 'D.glucarate_degradation_I', 'superpathway_of_D.glucarate_and_D.galactarate_degradation', 'gluconeogenesis_I', 'glucose_and_glucose.1.phosphate_degradation', 'superpathway_of_.beta..D.glucuronide_and_D.glucuronate_degradation', 'L.ornithine_biosynthesis', 'glycogen_degradation_I_.bacterial.', 'glycogen_biosynthesis_I_.from_ADP.D.Glucose.', 'superpathway_of_glycol_metabolism_and_degradation', 'glycolysis_I_.from_glucose_6.phosphate.', 'superpathway_of_glycolysis_and_Entner.Doudoroff', 'glyoxylate_cycle', 'superpathway_of_glycerol_degradation_to_1.3.propanediol', 'heme_biosynthesis_I_.aerobic.', 'heme_biosynthesis_II_.anaerobic.', 'superpathway_of_hexitol_degradation_.bacteria.', 'L.histidine_degradation_I', 'L.histidine_biosynthesis', 'L.methionine_biosynthesis_I', 'L.methionine_biosynthesis_III', 'L.isoleucine_biosynthesis_I_.from_threonine.', 'lactose_and_galactose_degradation_I', 'superpathway_of_S.adenosyl.L.methionine_biosynthesis', 'methanogenesis_from_acetate', 'NAD_salvage_pathway_II', 'lipid_IVA_biosynthesis', 'methylerythritol_phosphate_pathway_I', 'pentose_phosphate_pathway_.non.oxidative_branch.', 'O.antigen_building_blocks_biosynthesis_.E._coli.', 'pyruvate_fermentation_to_propanoate_I', 'heterolactic_fermentation', 'Bifidobacterium_shunt', 'superpathway_of_.R.R..butanediol_biosynthesis', 'acetylene_degradation', 'L.glutamate_degradation_V_.via_hydroxyglutarate.', 'L.lysine_fermentation_to_acetate_and_butanoate', 'purine_nucleobases_degradation_I_.anaerobic.', 'octane_oxidation', 'reductive_TCA_cycle_I', 'superpathway_of_L.lysine._L.threonine_and_L.methionine_biosynthesis_I', 'incomplete_reductive_TCA_cycle', 'superpathway_of_N.acetylneuraminate_degradation', 'hexitol_fermentation_to_lactate._formate._ethanol_and_acetate', 'myo.inositol_degradation_I', 'phosphopantothenate_biosynthesis_I', 'pantothenate_and_coenzyme_A_biosynthesis_I', 'pentose_phosphate_pathway', 'peptidoglycan_biosynthesis_I_.meso.diaminopimelate_containing.', 'superpathway_of_phospholipid_biosynthesis_I_.bacteria.', 'superpathway_of_polyamine_biosynthesis_II', 'superpathway_of_polyamine_biosynthesis_I', 'polyisoprenoid_biosynthesis_.E._coli.', 'superpathway_of_histidine._purine._and_pyrimidine_biosynthesis', 'CMP.3.deoxy.D.manno.octulosonate_biosynthesis_I', 'formaldehyde_assimilation_II_.RuMP_Cycle.', 'L.lysine_biosynthesis_II', 'L.lysine_biosynthesis_III', 'superpathway_of_L.isoleucine_biosynthesis_I', 'urea_cycle', 'biotin_biosynthesis_II', 'X4.aminobutanoate_degradation_V', 'L.lysine_biosynthesis_VI', 'pyruvate_fermentation_to_acetate_and_lactate_II', 'L.isoleucine_biosynthesis_II', 'L.isoleucine_biosynthesis_III', 'L.isoleucine_biosynthesis_IV', 'superpathway_of_geranylgeranyl_diphosphate_biosynthesis_II_.via_MEP.', 'L.arginine_biosynthesis_III_.via_N.acetyl.L.citrulline.', 'glutaryl.CoA_degradation', 'tetrapyrrole_biosynthesis_I_.from_glutamate.', 'tetrapyrrole_biosynthesis_II_.from_glycine.', 'peptidoglycan_biosynthesis_II_.staphylococci.', 'superpathway_of_sulfur_oxidation_.Acidianus_ambivalens.', 'superpathway_of_L.methionine_biosynthesis_.by_sulfhydrylation.', 'superpathway_of_L.methionine_biosynthesis_.transsulfuration.', 'sucrose_degradation_IV_.sucrose_phosphorylase.', 'glycolysis_II_.from_fructose_6.phosphate.', 'L.glutamate_and_L.glutamine_biosynthesis', 'adenosylcobalamin_biosynthesis_from_cobyrinate_a.c.diamide_I', 'GDP.mannose_biosynthesis', 'CDP.diacylglycerol_biosynthesis_I', 'acetyl.CoA_fermentation_to_butanoate_II', 'succinate_fermentation_to_butanoate', 'UMP_biosynthesis', 'urate_biosynthesis.inosine_5..phosphate_degradation', 'allantoin_degradation_to_glyoxylate_III', 'X1.4.dihydroxy.2.naphthoate_biosynthesis_I', 'superpathway_of_menaquinol.8_biosynthesis_I', 'superpathway_of_menaquinol.7_biosynthesis', 'superpathway_of_menaquinol.9_biosynthesis', 'superpathway_of_menaquinol.6_biosynthesis_I', 'ubiquinol.7_biosynthesis_.prokaryotic.', 'ubiquinol.9_biosynthesis_.prokaryotic.', 'ubiquinol.10_biosynthesis_.prokaryotic.', 'superpathway_of_demethylmenaquinol.6_biosynthesis_I', 'superpathway_of_demethylmenaquinol.8_biosynthesis', 'superpathway_of_demethylmenaquinol.9_biosynthesis', 'superpathway_of_phylloquinol_biosynthesis', 'superpathway_of_menaquinol.10_biosynthesis', 'superpathway_of_menaquinol.11_biosynthesis', 'superpathway_of_menaquinol.12_biosynthesis', 'superpathway_of_menaquinol.13_biosynthesis', 'superpathway_of_geranylgeranyldiphosphate_biosynthesis_I_.via_mevalonate.', 'TCA_cycle_VI_.obligate_autotrophs.', 'superpathay_of_heme_biosynthesis_from_glutamate', 'palmitate_biosynthesis_II_.bacteria_and_plants.', 'cis.vaccenate_biosynthesis', 'stearate_biosynthesis_II_.bacteria_and_plants.', 'X5.aminoimidazole_ribonucleotide_biosynthesis_I', 'X5.aminoimidazole_ribonucleotide_biosynthesis_II', 'inosine.5..phosphate_biosynthesis_I', 'superpathway_of_guanosine_nucleotides_de_novo_biosynthesis_II', 'superpathway_of_adenosine_nucleotides_de_novo_biosynthesis_II', 'X6.hydroxymethyl.dihydropterin_diphosphate_biosynthesis_I', 'S.adenosyl.L.methionine_cycle_I', 'chorismate_biosynthesis_from_3.dehydroquinate', 'sucrose_degradation_III_.sucrose_invertase.', 'superpathway_of_menaquinol.8_biosynthesis_II', 'adenosylcobalamin_salvage_from_cobinamide_II', 'superpathway_of_5.aminoimidazole_ribonucleotide_biosynthesis', 'palmitoleate_biosynthesis_I_.from_.5Z..dodec.5.enoate.', 'galactose_degradation_I_.Leloir_pathway.', 'purine_nucleotides_degradation_II_.aerobic.', 'peptidoglycan_biosynthesis_III_.mycobacteria.', 'UDP.N.acetylmuramoyl.pentapeptide_biosynthesis_II_.lysine.containing.', 'UDP.N.acetylmuramoyl.pentapeptide_biosynthesis_I_.meso.diaminopimelate_containing.', 'superpathway_of_2.3.butanediol_biosynthesis', 'Kdo_transfer_to_lipid_IVA_III_.Chlamydia.', 'peptidoglycan_biosynthesis_V_..beta..lactam_resistance.', 'peptidoglycan_biosynthesis_IV_.Enterococcus_faecium.', 'GDP.D.glycero..alpha..D.manno.heptose_biosynthesis', 'X4.deoxy.L.threo.hex.4.enopyranuronate_degradation', 'X8.amino.7.oxononanoate_biosynthesis_I', 'pyrimidine_deoxyribonucleotides_de_novo_biosynthesis_III', 'chondroitin_sulfate_degradation_I_.bacterial.', 'pyruvate_fermentation_to_acetone', 'superpathway_of_Clostridium_acetobutylicum_acidogenic_fermentation', 'guanosine_nucleotides_degradation_III', 'adenine_and_adenosine_salvage_III', 'superpathway_of_tetrahydrofolate_biosynthesis', 'superpathway_of_L.phenylalanine_biosynthesis', 'superpathway_of_L.tyrosine_biosynthesis', 'queuosine_biosynthesis', 'preQ0_biosynthesis', 'ubiquinol.8_biosynthesis_.prokaryotic.', 'starch_degradation_V', 'CMP.legionaminate_biosynthesis_I', 'isopropanol_biosynthesis', 'thiazole_biosynthesis_II_.Bacillus.', 'thiazole_biosynthesis_I_.E._coli.', 'superpathway_of_thiamin_diphosphate_biosynthesis_II', 'thiamin_salvage_II', 'superpathway_of_glucose_and_xylose_degradation', 'TCA_cycle_V_.2.oxoglutarate.ferredoxin_oxidoreductase.', 'glycerol_degradation_to_butanol', 'L.1.2.propanediol_degradation', 'UDP.2.3.diacetamido.2.3.dideoxy..alpha..D.mannuronate_biosynthesis', 'pyruvate_fermentation_to_isobutanol_.engineered.', 'pyrimidine_deoxyribonucleotides_de_novo_biosynthesis_I', 'pyrimidine_deoxyribonucleotides_de_novo_biosynthesis_II', 'superpathway_of_pyrimidine_ribonucleosides_salvage', 'pyrimidine_deoxyribonucleotide_phosphorylation', 'pyrimidine_deoxyribonucleotides_de_novo_biosynthesis_IV', 'pyrimidine_deoxyribonucleosides_salvage', 'superpathway_of_pyrimidine_deoxyribonucleoside_salvage', 'superpathway_of_pyrimidine_nucleobases_salvage', 'pyrimidine_deoxyribonucleotides_biosynthesis_from_CTP', 'superpathway_of_pyrimidine_deoxyribonucleotides_de_novo_biosynthesis', 'adenosine_ribonucleotides_de_novo_biosynthesis', 'adenosine_deoxyribonucleotides_de_novo_biosynthesis_II', 'guanosine_ribonucleotides_de_novo_biosynthesis', 'guanosine_deoxyribonucleotides_de_novo_biosynthesis_II', 'superpathway_of_guanosine_nucleotides_de_novo_biosynthesis_I', 'superpathway_of_adenosine_nucleotides_de_novo_biosynthesis_I', 'inosine.5..phosphate_biosynthesis_III', 'myo.._chiro._and_scillo.inositol_degradation', 'D.fructuronate_degradation', 'TCA_cycle_VII_.acetate.producers.', 'dTDP.N.acetylthomosamine_biosynthesis', 'superpathway_of_GDP.mannose.derived_O.antigen_building_blocks_biosynthesis', 'superpathway_of_UDP.glucose.derived_O.antigen_building_blocks_biosynthesis', 'superpathway_of_UDP.N.acetylglucosamine.derived_O.antigen_building_blocks_biosynthesis', 'X1.4.dihydroxy.6.naphthoate_biosynthesis_II', 'X1.4.dihydroxy.6.naphthoate_biosynthesis_I', 'cob.II.yrinate_a.c.diamide_biosynthesis_I_.early_cobalt_insertion.', 'taxadiene_biosynthesis_.engineered.', 'L.arginine_biosynthesis_IV_.archaebacteria.', 'mannan_degradation', 'X6.hydroxymethyl.dihydropterin_diphosphate_biosynthesis_III_.Chlamydia.', 'methylerythritol_phosphate_pathway_II', 'gondoate_biosynthesis_.anaerobic.', 'oleate_biosynthesis_IV_.anaerobic.', 'superpathway_of_purine_nucleotides_de_novo_biosynthesis_I', 'mevalonate_pathway_I', 'superpathway_of_L.alanine_biosynthesis', 'ADP.L.glycero..beta..D.manno.heptose_biosynthesis', 'anhydromuropeptides_recycling', 'purine_ribonucleosides_degradation', 'superpathway_of_purine_deoxyribonucleosides_degradation', 'superpathway_of_pyrimidine_deoxyribonucleosides_degradation', 'CDP.diacylglycerol_biosynthesis_II', 'superpathway_of_heme_biosynthesis_from_uroporphyrinogen.III', 'tRNA_processing', 'methylphosphonate_degradation_I', 'peptidoglycan_maturation_.meso.diaminopimelate_containing.', 'superpathway_of_pyrimidine_ribonucleotides_de_novo_biosynthesis', 'superpathway_of_pyrimidine_deoxyribonucleotides_de_novo_biosynthesis_.E._coli.', 'aspartate_superpathway', 'superpathway_of_pyridoxal_5..phosphate_biosynthesis_and_salvage', 'X.5Z..dodec.5.enoate_biosynthesis', 'nitrate_reduction_VI_.assimilatory.', 'phosphatidylglycerol_biosynthesis_I_.plastidic.', 'phosphatidylglycerol_biosynthesis_II_.non.plastidic.', 'mycolate_biosynthesis', 'NAD_salvage_pathway_I', 'NAD_biosynthesis_I_.from_aspartate.', 'pyridoxal_5..phosphate_biosynthesis_I', 'TCA_cycle_VIII_.helicobacter.', 'L.rhamnose_degradation_I', 'flavin_biosynthesis_I_.bacteria_and_plants.', 'formaldehyde_oxidation_I', 'adenosine_nucleotides_degradation_II', 'superpathway_of_L.serine_and_glycine_biosynthesis_I', 'sulfate_reduction_I_.assimilatory.', 'superpathway_of_sulfate_assimilation_and_cysteine_biosynthesis', 'TCA_cycle_I_.prokaryotic.', 'teichoic_acid_.poly.glycerol._biosynthesis', 'superpathway_of_thiamin_diphosphate_biosynthesis_I', 'superpathway_of_L.threonine_biosynthesis', 'tRNA_charging', 'L.tryptophan_biosynthesis', 'superpathway_of_ubiquinol.8_biosynthesis_.prokaryotic.', 'UDP.N.acetyl.D.glucosamine_biosynthesis_I', 'L.valine_biosynthesis', 'all_samples_y', 'time_y', 'Unnamed: 0_merged_data', 'g__Parabacteroides_B_862066', 'g__Coprenecus', 'g__Butyricimonas', 'g__Odoribacter_865974', 'g__Alistipes_A_871404', 'g__Paramuribaculum', 'g__Alistipes_A_871400', 'g__Barnesiella', 'g__Coprobacter', 'g__Phocaeicola_A_858004', 'g__Bacteroides_H', 'g__Prevotella', 'g__Paraprevotella', 'g__Methanobrevibacter_A', 'g__DTU012', 'g__Escherichia_710834', 'g__Parasutterella', 'g__Sutterella', 'g__Haemophilus_D_735815', 'g__Enterobacter_B_713587', 'g__Akkermansia', 'g__Eubacterium_O_258270', 'g__Anaerofustis', 'g__Peptococcus', 'g__QAMH01', 'g__Senegalimassilia', 'g__Adlercreutzia_404257', 'g__Slackia_A', 'g__Eggerthella', 'g__CAG.1427', 'g__Gordonibacter', 'g__Collinsella', 'g__Holdemania', 'g__Longibaculum', 'g__Catenibacterium', 'g__Erysipelatoclostridium', 'g__Faecalibacillus', 'g___2', 'g__Holdemanella', 'g__Merdibacter', 'g__Clostridium_AQ', 'g__Amedibacillus', 'g__Longicatena', 'g__Dielma', 'g__Pauljensenia', 'g__Bifidobacterium_388775', 'g__Acidaminococcus', 'g__Phascolarctobacterium_A', 'g__Veillonella_A', 'g__Dialister', 'g__Streptococcus', 'g__Lactococcus_A_346120', 'g__Lacticaseibacillus', 'g__Turicibacter', 'g__Gemella', 'g__Limiplasma', 'g__SFMI01', 'g___3', 'g__Onthenecus', 'g__Copromorpha', 'g__BX12', 'g___4', 'g__Romboutsia_B', 'g__CCUG.7971', 'g__Intestinibacter', 'g__Terrisporobacter', 'g___5', 'g__PeH17', 'g__Clostridium_T', 'g__CAG.269', 'g___6', 'g__CAG.273', 'g__Merdicola', 'g__CAG.41', 'g__Monoglobus', 'g__ER4', 'g___7', 'g__Dysosmobacter', 'g__Vescimonas', 'g__CAG.83', 'g__Limivicinus', 'g__Faecousia', 'g__Agathobaculum', 'g__Lawsonibacter', 'g__Intestinimonas', 'g__Pseudobutyricicoccus', 'g__Evtepia', 'g__Onthomonas', 'g___8', 'g__RUG13077', 'g__Avispirillum', 'g__SFLA01', 'g__WQUU01', 'g__UMGS1071', 'g__Clostridium_A', 'g__Acutalibacter', 'g__UBA1417', 'g__Anaeromassilibacillus', 'g__Hydrogeniiclostridium', 'g__Ruminococcus_E', 'g__UBA5905', 'g__Bittarella', 'g__Fimenecus', 'g__Faecalibacterium', 'g__Gemmiger_A_73129', 'g__Ruthenibacterium', 'g__Ruminiclostridium_E', 'g___9', 'g__CAG.177', 'g__CAG.217', 'g__Angelakisella', 'g__Massilioclostridium', 'g__Phocea', 'g__Anaerotruncus', 'g__Negativibacillus', 'g__UBA1394', 'g__Ruminococcus_C_58660', 'g__Ruminococcus_D', 'g___10', 'g___11', 'g__Anaerotignum_189125', 'g__CAG.274', 'g__Anaerobutyricum', 'g__Eubacterium_I', 'g__Roseburia', 'g__Agathobacter_164117', 'g__Butyribacter', 'g__RUG115', 'g__CAG.45', 'g__Eubacterium_J', 'g__Eubacterium_G', 'g__Howardella', 'g___1', 'g__Anaerostipes', 'g__Coprococcus_A_121497', 'g__CAG.127', 'g__Lachnospira', 'g__Eubacterium_F', 'g__Coprococcus_A_187866', 'g__Catenibacillus', 'g__Frisingicoccus', 'g__Merdisoma', 'g__Marvinbryantia', 'g__Blautia_A_141780', 'g__Blautia_A_141781', 'g__UMGS1375', 'g__Limivivens', 'g__UBA9414', 'g__Oliverpabstia', 'g__Mediterraneibacter_A_155507', 'g__COE1', 'g__Acetatifactor', 'g__CAG.95', 'g__Hungatella_A_128155', 'g__Hungatella_A_127239', 'g__Sellimonas', 'g__Eisenbergiella', 'g__UBA3402', 'g__Scatomonas', 'g__Clostridium_Q_134516', 'g__Faecalimonas', 'g__Ruminococcus_B', 'g__Clostridium_AP', 'g__CAG.317_146760', 'g__Bariatricus', 'g__Muricomes_149725', 'g__Lachnoclostridium_B', 'g__Schaedlerella', 'g__Mediterraneibacter_A_155590', 'g__Lactonifactor', 'g__Enterocloster', 'g__Ventrisoma', 'g__Clostridium_Q_135853', 'g__Clostridium_Q_135822', 'g__Porcincola', 'g__Copromonas', 'g__Ventrimonas', 'g__Dorea_A', 'g__Massilistercora', 'SampleID_y', 'all_samples', 'bmi_prs']\n",
      "Number of unique subject_id values in merged_all:  96\n"
     ]
    }
   ],
   "source": [
    "merged_all = pd.merge(met_train, merged_data, \n",
    "                         left_on=['subject_id', 'time'], \n",
    "                         right_on=['subject_id', 'time'], \n",
    "                         how='inner',\n",
    "                         suffixes=('_train_long', '_merged_data'))\n",
    "\n",
    "print(\"Merged all shape: \", merged_all.shape)\n",
    "print(\"Merged all columns: \", merged_all.columns.to_list())\n",
    "# Count unique subject_id values\n",
    "unique_subject_ids_all = merged_all['subject_id'].nunique()\n",
    "print(\"Number of unique subject_id values in merged_all: \", unique_subject_ids_all)"
   ]
  },
  {
   "cell_type": "markdown",
   "metadata": {},
   "source": [
    "#### For testing "
   ]
  },
  {
   "cell_type": "code",
   "execution_count": 24,
   "metadata": {},
   "outputs": [
    {
     "name": "stdout",
     "output_type": "stream",
     "text": [
      "Merged all shape:  (66, 568)\n",
      "Merged all columns:  ['Unnamed: 0_test_long', 'record_id', 'subject_id', 'randomized_group', 'cohort_number', 'sex', 'race', 'age', 'outcome_BMI_fnl', 'Glucose', 'HOMA_IR', 'Insulin_endo', 'HDL_Total_Direct_lipid', 'LDL_Calculated', 'Triglyceride_lipid', 'Peptide_YY', 'Ghrelin', 'Leptin', 'Hemoglobin_A1C', 'time', 'Unnamed: 0_x', 'sample_id', 'proton', 'Diacetyl', 'Butyrate', 'Formate', 'acetone', 'X2.methylbutyrate', 'Valeric.Acid', 'Methane', 'X1.4.Dihydroxy.2.naphthoate', 'X2.Oxoglutarate', 'Pyruvate', 'D.lactate', 'L.lactate', 'laurate', 'Phenol', 'L.Carnitine', 'Isopropanol', 'p.Cresol', 'O2', 'X1.Propanol', 'butanol', 'Propanal', 'X4.hydroxyphenylacetate', 'X.S..propane.1.2.diol', 'Propane.1.3.diol', 'R_R__2_3_Butanediol', 'Oxaloacetate', 'sulfate', 'octadecenoate..n.C18.1.', 'o.Succinylbenzoate', 'Thymidine', 'Reduced.riboflavin', 'Riboflavin', 'X2.Hydroxyphenylacetate', 'Sulfite', 'thiosulfate.2..', 'X.3.4.dihydroxyphenyl.acetate', 'Diphosphate', 'trimethylamine', 'glycine.betaine', 'Choline', 'Trimethylamine.N.oxide', 'Isochorismate', 'Inosine', 'xanthosine', 'Hypoxanthine', 'Xanthine', 'uracil', 'Uridine', 'Methanethiol', 'keto.phenylpyruvate', 'D.Arabinose', 'D.Galactose', 'Nicotinate', 'chorismate', 'tetradecanoate..n.C14.0.', 'oxalate.2..', 'X.R..3.hydroxybutyrate', 'Hydrogen.peroxide', 'Hydrogen.sulfide', 'X4.hydroxybenzoate', 'Hexadecanoate..n.C16.0.', 'octadecanoate..n.C18.0.', 'D.Fructose', 'D.ribose', 'myo.inositol', 'D.Mannitol', 'Citrate', 'Menaquinone.8', 'Glycerol', 'D.Mannose', 'X2.Oxobutanoate', 'Fumarate', 'L.malate', 'X.R..Acetoin', 'formaldehyde', 'Ethanol', 'Acetoacetate', 'methanol', 'Acetaldehyde', 'X3.methyl.2.oxopentanoate', 'Isovalerate..3.Methylbutanoate', 'phenylacetate', 'Succinate', 'Isobutyrate..2.Methylpropanoate', 'Isocaproate', 'Water', 'Hydrogen', 'Propionate', 'Acetate', 'Carbon.dioxide', 'all_samples_x', 'time_x', 'Unnamed: 0_y', 'SampleID_x', 'N10.formyl.tetrahydrofolate_biosynthesis', 'homolactic_fermentation', 'glycolysis_III_.from_glucose.', 'superpathway_of_arginine_and_polyamine_biosynthesis', 'arginine._ornithine_and_proline_interconversion', 'L.arginine_biosynthesis_I_.via_L.ornithine.', 'L.arginine_biosynthesis_II_.acetyl_cycle.', 'chorismate_biosynthesis_I', 'superpathway_of_L.aspartate_and_L.asparagine_biosynthesis', 'biotin_biosynthesis_I', 'superpathway_of_branched_amino_acid_biosynthesis', 'Calvin.Benson.Bassham_cycle', 'pyruvate_fermentation_to_butanoate', 'coenzyme_A_biosynthesis_I', 'adenosylcobalamin_salvage_from_cobinamide_I', 'reductive_acetyl_coenzyme_A_pathway', 'colanic_acid_building_blocks_biosynthesis', 'superpathway_of_aromatic_amino_acid_biosynthesis', 'L.lysine_biosynthesis_I', 'superpathway_of_purine_nucleotides_de_novo_biosynthesis_II', 'dTDP.L.rhamnose_biosynthesis_I', 'fatty_acid_.beta..oxidation_I', 'fatty_acid_elongation_.._saturated', 'superpathway_of_fatty_acid_biosynthesis_initiation_.E._coli.', 'mixed_acid_fermentation', 'superpathway_of_tetrahydrofolate_biosynthesis_and_salvage', 'superpathway_of_fucose_and_rhamnose_degradation', 'fucose_degradation', 'superpathway_of_hexuronide_and_hexuronate_degradation', 'D.galactarate_degradation_I', 'D.galacturonate_degradation_I', 'superpathway_of_N.acetylglucosamine._N.acetylmannosamine_and_N.acetylneuraminate_degradation', 'D.glucarate_degradation_I', 'superpathway_of_D.glucarate_and_D.galactarate_degradation', 'gluconeogenesis_I', 'glucose_and_glucose.1.phosphate_degradation', 'superpathway_of_.beta..D.glucuronide_and_D.glucuronate_degradation', 'L.ornithine_biosynthesis', 'glycogen_degradation_I_.bacterial.', 'glycogen_biosynthesis_I_.from_ADP.D.Glucose.', 'superpathway_of_glycol_metabolism_and_degradation', 'glycolysis_I_.from_glucose_6.phosphate.', 'superpathway_of_glycolysis_and_Entner.Doudoroff', 'glyoxylate_cycle', 'superpathway_of_glycerol_degradation_to_1.3.propanediol', 'heme_biosynthesis_I_.aerobic.', 'heme_biosynthesis_II_.anaerobic.', 'superpathway_of_hexitol_degradation_.bacteria.', 'L.histidine_degradation_I', 'L.histidine_biosynthesis', 'L.methionine_biosynthesis_I', 'L.methionine_biosynthesis_III', 'L.isoleucine_biosynthesis_I_.from_threonine.', 'lactose_and_galactose_degradation_I', 'superpathway_of_S.adenosyl.L.methionine_biosynthesis', 'methanogenesis_from_acetate', 'NAD_salvage_pathway_II', 'lipid_IVA_biosynthesis', 'methylerythritol_phosphate_pathway_I', 'pentose_phosphate_pathway_.non.oxidative_branch.', 'O.antigen_building_blocks_biosynthesis_.E._coli.', 'pyruvate_fermentation_to_propanoate_I', 'heterolactic_fermentation', 'Bifidobacterium_shunt', 'superpathway_of_.R.R..butanediol_biosynthesis', 'acetylene_degradation', 'L.glutamate_degradation_V_.via_hydroxyglutarate.', 'L.lysine_fermentation_to_acetate_and_butanoate', 'purine_nucleobases_degradation_I_.anaerobic.', 'octane_oxidation', 'reductive_TCA_cycle_I', 'superpathway_of_L.lysine._L.threonine_and_L.methionine_biosynthesis_I', 'incomplete_reductive_TCA_cycle', 'superpathway_of_N.acetylneuraminate_degradation', 'hexitol_fermentation_to_lactate._formate._ethanol_and_acetate', 'myo.inositol_degradation_I', 'phosphopantothenate_biosynthesis_I', 'pantothenate_and_coenzyme_A_biosynthesis_I', 'pentose_phosphate_pathway', 'peptidoglycan_biosynthesis_I_.meso.diaminopimelate_containing.', 'superpathway_of_phospholipid_biosynthesis_I_.bacteria.', 'superpathway_of_polyamine_biosynthesis_II', 'superpathway_of_polyamine_biosynthesis_I', 'polyisoprenoid_biosynthesis_.E._coli.', 'superpathway_of_histidine._purine._and_pyrimidine_biosynthesis', 'CMP.3.deoxy.D.manno.octulosonate_biosynthesis_I', 'formaldehyde_assimilation_II_.RuMP_Cycle.', 'L.lysine_biosynthesis_II', 'L.lysine_biosynthesis_III', 'superpathway_of_L.isoleucine_biosynthesis_I', 'urea_cycle', 'biotin_biosynthesis_II', 'X4.aminobutanoate_degradation_V', 'L.lysine_biosynthesis_VI', 'pyruvate_fermentation_to_acetate_and_lactate_II', 'L.isoleucine_biosynthesis_II', 'L.isoleucine_biosynthesis_III', 'L.isoleucine_biosynthesis_IV', 'superpathway_of_geranylgeranyl_diphosphate_biosynthesis_II_.via_MEP.', 'L.arginine_biosynthesis_III_.via_N.acetyl.L.citrulline.', 'glutaryl.CoA_degradation', 'tetrapyrrole_biosynthesis_I_.from_glutamate.', 'tetrapyrrole_biosynthesis_II_.from_glycine.', 'peptidoglycan_biosynthesis_II_.staphylococci.', 'superpathway_of_sulfur_oxidation_.Acidianus_ambivalens.', 'superpathway_of_L.methionine_biosynthesis_.by_sulfhydrylation.', 'superpathway_of_L.methionine_biosynthesis_.transsulfuration.', 'sucrose_degradation_IV_.sucrose_phosphorylase.', 'glycolysis_II_.from_fructose_6.phosphate.', 'L.glutamate_and_L.glutamine_biosynthesis', 'adenosylcobalamin_biosynthesis_from_cobyrinate_a.c.diamide_I', 'GDP.mannose_biosynthesis', 'CDP.diacylglycerol_biosynthesis_I', 'acetyl.CoA_fermentation_to_butanoate_II', 'succinate_fermentation_to_butanoate', 'UMP_biosynthesis', 'urate_biosynthesis.inosine_5..phosphate_degradation', 'allantoin_degradation_to_glyoxylate_III', 'X1.4.dihydroxy.2.naphthoate_biosynthesis_I', 'superpathway_of_menaquinol.8_biosynthesis_I', 'superpathway_of_menaquinol.7_biosynthesis', 'superpathway_of_menaquinol.9_biosynthesis', 'superpathway_of_menaquinol.6_biosynthesis_I', 'ubiquinol.7_biosynthesis_.prokaryotic.', 'ubiquinol.9_biosynthesis_.prokaryotic.', 'ubiquinol.10_biosynthesis_.prokaryotic.', 'superpathway_of_demethylmenaquinol.6_biosynthesis_I', 'superpathway_of_demethylmenaquinol.8_biosynthesis', 'superpathway_of_demethylmenaquinol.9_biosynthesis', 'superpathway_of_phylloquinol_biosynthesis', 'superpathway_of_menaquinol.10_biosynthesis', 'superpathway_of_menaquinol.11_biosynthesis', 'superpathway_of_menaquinol.12_biosynthesis', 'superpathway_of_menaquinol.13_biosynthesis', 'superpathway_of_geranylgeranyldiphosphate_biosynthesis_I_.via_mevalonate.', 'TCA_cycle_VI_.obligate_autotrophs.', 'superpathay_of_heme_biosynthesis_from_glutamate', 'palmitate_biosynthesis_II_.bacteria_and_plants.', 'cis.vaccenate_biosynthesis', 'stearate_biosynthesis_II_.bacteria_and_plants.', 'X5.aminoimidazole_ribonucleotide_biosynthesis_I', 'X5.aminoimidazole_ribonucleotide_biosynthesis_II', 'inosine.5..phosphate_biosynthesis_I', 'superpathway_of_guanosine_nucleotides_de_novo_biosynthesis_II', 'superpathway_of_adenosine_nucleotides_de_novo_biosynthesis_II', 'X6.hydroxymethyl.dihydropterin_diphosphate_biosynthesis_I', 'S.adenosyl.L.methionine_cycle_I', 'chorismate_biosynthesis_from_3.dehydroquinate', 'sucrose_degradation_III_.sucrose_invertase.', 'superpathway_of_menaquinol.8_biosynthesis_II', 'adenosylcobalamin_salvage_from_cobinamide_II', 'superpathway_of_5.aminoimidazole_ribonucleotide_biosynthesis', 'palmitoleate_biosynthesis_I_.from_.5Z..dodec.5.enoate.', 'galactose_degradation_I_.Leloir_pathway.', 'purine_nucleotides_degradation_II_.aerobic.', 'peptidoglycan_biosynthesis_III_.mycobacteria.', 'UDP.N.acetylmuramoyl.pentapeptide_biosynthesis_II_.lysine.containing.', 'UDP.N.acetylmuramoyl.pentapeptide_biosynthesis_I_.meso.diaminopimelate_containing.', 'superpathway_of_2.3.butanediol_biosynthesis', 'Kdo_transfer_to_lipid_IVA_III_.Chlamydia.', 'peptidoglycan_biosynthesis_V_..beta..lactam_resistance.', 'peptidoglycan_biosynthesis_IV_.Enterococcus_faecium.', 'GDP.D.glycero..alpha..D.manno.heptose_biosynthesis', 'X4.deoxy.L.threo.hex.4.enopyranuronate_degradation', 'X8.amino.7.oxononanoate_biosynthesis_I', 'pyrimidine_deoxyribonucleotides_de_novo_biosynthesis_III', 'chondroitin_sulfate_degradation_I_.bacterial.', 'pyruvate_fermentation_to_acetone', 'superpathway_of_Clostridium_acetobutylicum_acidogenic_fermentation', 'guanosine_nucleotides_degradation_III', 'adenine_and_adenosine_salvage_III', 'superpathway_of_tetrahydrofolate_biosynthesis', 'superpathway_of_L.phenylalanine_biosynthesis', 'superpathway_of_L.tyrosine_biosynthesis', 'queuosine_biosynthesis', 'preQ0_biosynthesis', 'ubiquinol.8_biosynthesis_.prokaryotic.', 'starch_degradation_V', 'CMP.legionaminate_biosynthesis_I', 'isopropanol_biosynthesis', 'thiazole_biosynthesis_II_.Bacillus.', 'thiazole_biosynthesis_I_.E._coli.', 'superpathway_of_thiamin_diphosphate_biosynthesis_II', 'thiamin_salvage_II', 'superpathway_of_glucose_and_xylose_degradation', 'TCA_cycle_V_.2.oxoglutarate.ferredoxin_oxidoreductase.', 'glycerol_degradation_to_butanol', 'L.1.2.propanediol_degradation', 'UDP.2.3.diacetamido.2.3.dideoxy..alpha..D.mannuronate_biosynthesis', 'pyruvate_fermentation_to_isobutanol_.engineered.', 'pyrimidine_deoxyribonucleotides_de_novo_biosynthesis_I', 'pyrimidine_deoxyribonucleotides_de_novo_biosynthesis_II', 'superpathway_of_pyrimidine_ribonucleosides_salvage', 'pyrimidine_deoxyribonucleotide_phosphorylation', 'pyrimidine_deoxyribonucleotides_de_novo_biosynthesis_IV', 'pyrimidine_deoxyribonucleosides_salvage', 'superpathway_of_pyrimidine_deoxyribonucleoside_salvage', 'superpathway_of_pyrimidine_nucleobases_salvage', 'pyrimidine_deoxyribonucleotides_biosynthesis_from_CTP', 'superpathway_of_pyrimidine_deoxyribonucleotides_de_novo_biosynthesis', 'adenosine_ribonucleotides_de_novo_biosynthesis', 'adenosine_deoxyribonucleotides_de_novo_biosynthesis_II', 'guanosine_ribonucleotides_de_novo_biosynthesis', 'guanosine_deoxyribonucleotides_de_novo_biosynthesis_II', 'superpathway_of_guanosine_nucleotides_de_novo_biosynthesis_I', 'superpathway_of_adenosine_nucleotides_de_novo_biosynthesis_I', 'inosine.5..phosphate_biosynthesis_III', 'myo.._chiro._and_scillo.inositol_degradation', 'D.fructuronate_degradation', 'TCA_cycle_VII_.acetate.producers.', 'dTDP.N.acetylthomosamine_biosynthesis', 'superpathway_of_GDP.mannose.derived_O.antigen_building_blocks_biosynthesis', 'superpathway_of_UDP.glucose.derived_O.antigen_building_blocks_biosynthesis', 'superpathway_of_UDP.N.acetylglucosamine.derived_O.antigen_building_blocks_biosynthesis', 'X1.4.dihydroxy.6.naphthoate_biosynthesis_II', 'X1.4.dihydroxy.6.naphthoate_biosynthesis_I', 'cob.II.yrinate_a.c.diamide_biosynthesis_I_.early_cobalt_insertion.', 'taxadiene_biosynthesis_.engineered.', 'L.arginine_biosynthesis_IV_.archaebacteria.', 'mannan_degradation', 'X6.hydroxymethyl.dihydropterin_diphosphate_biosynthesis_III_.Chlamydia.', 'methylerythritol_phosphate_pathway_II', 'gondoate_biosynthesis_.anaerobic.', 'oleate_biosynthesis_IV_.anaerobic.', 'superpathway_of_purine_nucleotides_de_novo_biosynthesis_I', 'mevalonate_pathway_I', 'superpathway_of_L.alanine_biosynthesis', 'ADP.L.glycero..beta..D.manno.heptose_biosynthesis', 'anhydromuropeptides_recycling', 'purine_ribonucleosides_degradation', 'superpathway_of_purine_deoxyribonucleosides_degradation', 'superpathway_of_pyrimidine_deoxyribonucleosides_degradation', 'CDP.diacylglycerol_biosynthesis_II', 'superpathway_of_heme_biosynthesis_from_uroporphyrinogen.III', 'tRNA_processing', 'methylphosphonate_degradation_I', 'peptidoglycan_maturation_.meso.diaminopimelate_containing.', 'superpathway_of_pyrimidine_ribonucleotides_de_novo_biosynthesis', 'superpathway_of_pyrimidine_deoxyribonucleotides_de_novo_biosynthesis_.E._coli.', 'aspartate_superpathway', 'superpathway_of_pyridoxal_5..phosphate_biosynthesis_and_salvage', 'X.5Z..dodec.5.enoate_biosynthesis', 'nitrate_reduction_VI_.assimilatory.', 'phosphatidylglycerol_biosynthesis_I_.plastidic.', 'phosphatidylglycerol_biosynthesis_II_.non.plastidic.', 'mycolate_biosynthesis', 'NAD_salvage_pathway_I', 'NAD_biosynthesis_I_.from_aspartate.', 'pyridoxal_5..phosphate_biosynthesis_I', 'TCA_cycle_VIII_.helicobacter.', 'L.rhamnose_degradation_I', 'flavin_biosynthesis_I_.bacteria_and_plants.', 'formaldehyde_oxidation_I', 'adenosine_nucleotides_degradation_II', 'superpathway_of_L.serine_and_glycine_biosynthesis_I', 'sulfate_reduction_I_.assimilatory.', 'superpathway_of_sulfate_assimilation_and_cysteine_biosynthesis', 'TCA_cycle_I_.prokaryotic.', 'teichoic_acid_.poly.glycerol._biosynthesis', 'superpathway_of_thiamin_diphosphate_biosynthesis_I', 'superpathway_of_L.threonine_biosynthesis', 'tRNA_charging', 'L.tryptophan_biosynthesis', 'superpathway_of_ubiquinol.8_biosynthesis_.prokaryotic.', 'UDP.N.acetyl.D.glucosamine_biosynthesis_I', 'L.valine_biosynthesis', 'all_samples_y', 'time_y', 'Unnamed: 0_merged_data', 'g__Parabacteroides_B_862066', 'g__Coprenecus', 'g__Butyricimonas', 'g__Odoribacter_865974', 'g__Alistipes_A_871404', 'g__Paramuribaculum', 'g__Alistipes_A_871400', 'g__Barnesiella', 'g__Coprobacter', 'g__Phocaeicola_A_858004', 'g__Bacteroides_H', 'g__Prevotella', 'g__Paraprevotella', 'g__Methanobrevibacter_A', 'g__DTU012', 'g__Escherichia_710834', 'g__Parasutterella', 'g__Sutterella', 'g__Haemophilus_D_735815', 'g__Enterobacter_B_713587', 'g__Akkermansia', 'g__Eubacterium_O_258270', 'g__Anaerofustis', 'g__Peptococcus', 'g__QAMH01', 'g__Senegalimassilia', 'g__Adlercreutzia_404257', 'g__Slackia_A', 'g__Eggerthella', 'g__CAG.1427', 'g__Gordonibacter', 'g__Collinsella', 'g__Holdemania', 'g__Longibaculum', 'g__Catenibacterium', 'g__Erysipelatoclostridium', 'g__Faecalibacillus', 'g___2', 'g__Holdemanella', 'g__Merdibacter', 'g__Clostridium_AQ', 'g__Amedibacillus', 'g__Longicatena', 'g__Dielma', 'g__Pauljensenia', 'g__Bifidobacterium_388775', 'g__Acidaminococcus', 'g__Phascolarctobacterium_A', 'g__Veillonella_A', 'g__Dialister', 'g__Streptococcus', 'g__Lactococcus_A_346120', 'g__Lacticaseibacillus', 'g__Turicibacter', 'g__Gemella', 'g__Limiplasma', 'g__SFMI01', 'g___3', 'g__Onthenecus', 'g__Copromorpha', 'g__BX12', 'g___4', 'g__Romboutsia_B', 'g__CCUG.7971', 'g__Intestinibacter', 'g__Terrisporobacter', 'g___5', 'g__PeH17', 'g__Clostridium_T', 'g__CAG.269', 'g___6', 'g__CAG.273', 'g__Merdicola', 'g__CAG.41', 'g__Monoglobus', 'g__ER4', 'g___7', 'g__Dysosmobacter', 'g__Vescimonas', 'g__CAG.83', 'g__Limivicinus', 'g__Faecousia', 'g__Agathobaculum', 'g__Lawsonibacter', 'g__Intestinimonas', 'g__Pseudobutyricicoccus', 'g__Evtepia', 'g__Onthomonas', 'g___8', 'g__RUG13077', 'g__Avispirillum', 'g__SFLA01', 'g__WQUU01', 'g__UMGS1071', 'g__Clostridium_A', 'g__Acutalibacter', 'g__UBA1417', 'g__Anaeromassilibacillus', 'g__Hydrogeniiclostridium', 'g__Ruminococcus_E', 'g__UBA5905', 'g__Bittarella', 'g__Fimenecus', 'g__Faecalibacterium', 'g__Gemmiger_A_73129', 'g__Ruthenibacterium', 'g__Ruminiclostridium_E', 'g___9', 'g__CAG.177', 'g__CAG.217', 'g__Angelakisella', 'g__Massilioclostridium', 'g__Phocea', 'g__Anaerotruncus', 'g__Negativibacillus', 'g__UBA1394', 'g__Ruminococcus_C_58660', 'g__Ruminococcus_D', 'g___10', 'g___11', 'g__Anaerotignum_189125', 'g__CAG.274', 'g__Anaerobutyricum', 'g__Eubacterium_I', 'g__Roseburia', 'g__Agathobacter_164117', 'g__Butyribacter', 'g__RUG115', 'g__CAG.45', 'g__Eubacterium_J', 'g__Eubacterium_G', 'g__Howardella', 'g___1', 'g__Anaerostipes', 'g__Coprococcus_A_121497', 'g__CAG.127', 'g__Lachnospira', 'g__Eubacterium_F', 'g__Coprococcus_A_187866', 'g__Catenibacillus', 'g__Frisingicoccus', 'g__Merdisoma', 'g__Marvinbryantia', 'g__Blautia_A_141780', 'g__Blautia_A_141781', 'g__UMGS1375', 'g__Limivivens', 'g__UBA9414', 'g__Oliverpabstia', 'g__Mediterraneibacter_A_155507', 'g__COE1', 'g__Acetatifactor', 'g__CAG.95', 'g__Hungatella_A_128155', 'g__Hungatella_A_127239', 'g__Sellimonas', 'g__Eisenbergiella', 'g__UBA3402', 'g__Scatomonas', 'g__Clostridium_Q_134516', 'g__Faecalimonas', 'g__Ruminococcus_B', 'g__Clostridium_AP', 'g__CAG.317_146760', 'g__Bariatricus', 'g__Muricomes_149725', 'g__Lachnoclostridium_B', 'g__Schaedlerella', 'g__Mediterraneibacter_A_155590', 'g__Lactonifactor', 'g__Enterocloster', 'g__Ventrisoma', 'g__Clostridium_Q_135853', 'g__Clostridium_Q_135822', 'g__Porcincola', 'g__Copromonas', 'g__Ventrimonas', 'g__Dorea_A', 'g__Massilistercora', 'SampleID_y', 'all_samples', 'bmi_prs']\n",
      "Number of unique subject_id values in merged_all:  24\n"
     ]
    }
   ],
   "source": [
    "test_merged_all = pd.merge(met_test, \n",
    "                       test_merged_data, \n",
    "                        left_on=['subject_id', 'time'], \n",
    "                        right_on=['subject_id', 'time'],\n",
    "                        how='inner',\n",
    "                        suffixes=('_test_long', '_merged_data'))  # Specify suffixes for duplicate columns\n",
    "\n",
    "print(\"Merged all shape: \", test_merged_all.shape)\n",
    "print(\"Merged all columns: \", test_merged_all.columns.to_list())\n",
    "# Count unique subject_id values\n",
    "unique_subject_ids_all = test_merged_all['subject_id'].nunique()\n",
    "print(\"Number of unique subject_id values in merged_all: \", unique_subject_ids_all)"
   ]
  },
  {
   "cell_type": "code",
   "execution_count": 25,
   "metadata": {},
   "outputs": [],
   "source": [
    "# Remove specified columns from merged_all\n",
    "merged_all = merged_all.drop(columns=['Unnamed: 0_train_long', 'Unnamed: 0_x', 'all_samples_x', 'time_x', \n",
    "                                       'Unnamed: 0_y', 'SampleID_x', 'SampleID_y'])\n",
    "\n",
    "# Remove specified columns from test_merged_all\n",
    "test_merged_all = test_merged_all.drop(columns=['Unnamed: 0_test_long', 'Unnamed: 0_x', 'all_samples_x', 'time_x', \n",
    "                                               'Unnamed: 0_y', 'SampleID_x', 'SampleID_y'])"
   ]
  },
  {
   "cell_type": "markdown",
   "metadata": {},
   "source": [
    "# Save combined training and testing files "
   ]
  },
  {
   "cell_type": "code",
   "execution_count": 26,
   "metadata": {},
   "outputs": [],
   "source": [
    "#merged_all.to_csv(os.path.join(df_dir, 'feb20_training_merged_all_omics_raw_meta.csv'), index=False)  # Save merged_all to CSV\n",
    "#test_merged_all.to_csv(os.path.join(df_dir, 'feb20_test_merged_all_omics_raw_meta.csv'), index=False)  # Save test_merged_all to CSV\n",
    "\n",
    "merged_all.to_csv(os.path.join(df_dir, 'feb20_training_merged_all_omics_extra_meta.csv'), index=False)  # Save merged_all to CSV\n",
    "test_merged_all.to_csv(os.path.join(df_dir, 'feb20_test_merged_all_omics_extra_meta.csv'), index=False)"
   ]
  }
 ],
 "metadata": {
  "kernelspec": {
   "display_name": "researchVenv",
   "language": "python",
   "name": "python3"
  },
  "language_info": {
   "codemirror_mode": {
    "name": "ipython",
    "version": 3
   },
   "file_extension": ".py",
   "mimetype": "text/x-python",
   "name": "python",
   "nbconvert_exporter": "python",
   "pygments_lexer": "ipython3",
   "version": "3.13.0"
  }
 },
 "nbformat": 4,
 "nbformat_minor": 2
}
