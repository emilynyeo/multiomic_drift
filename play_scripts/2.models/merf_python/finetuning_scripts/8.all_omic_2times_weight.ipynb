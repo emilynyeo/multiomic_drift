{
 "cells": [
  {
   "cell_type": "code",
   "execution_count": 11,
   "metadata": {},
   "outputs": [],
   "source": [
    "import pandas as pd\n",
    "import os\n",
    "import re\n",
    "import sys\n",
    "import numpy as np\n",
    "from merf import MERF\n",
    "import matplotlib.pyplot as plt\n",
    "import seaborn as sns\n",
    "import itertools \n",
    "sns.set_context(\"poster\")\n",
    "from sklearn.ensemble import RandomForestRegressor\n",
    "import matplotlib as mpl\n",
    "mpl.rcParams['figure.figsize'] = (11,8)\n",
    "from merf.merf import MERF\n",
    "from sklearn.model_selection import train_test_split, KFold\n",
    "from merf.viz import plot_merf_training_stats\n",
    "\n",
    "current_dir = os.getcwd() # Get the current working directory\n",
    "parent_dir = os.path.abspath(os.path.join(current_dir, '..'))\n",
    "sys.path.append(parent_dir)\n",
    "from em_utils import * # import the utils"
   ]
  },
  {
   "cell_type": "code",
   "execution_count": 12,
   "metadata": {},
   "outputs": [
    {
     "name": "stdout",
     "output_type": "stream",
     "text": [
      "---------- Read metadata ----------\n",
      "True\n",
      "True\n",
      "Train columns : ['subject_id', 'randomized_group', 'age', 'sex', 'race', 'BMI', 'Weight', 'CRP', 'cholesterol', 'ghrelin', 'HDL', 'LDL', 'HbA1C', 'insulin', 'leptin', 'peptide_yy', 'tgcyd', 'homo_ir', 'DENOVOPURINE2-PWY', 'DHGLUCONATE-PYR-CAT-PWY', 'DTDPRHAMSYN-PWY', 'ECASYN-PWY', 'ENTBACSYN-PWY', 'FAO-PWY', 'FASYN-ELONG-PWY', 'FASYN-INITIAL-PWY', 'FERMENTATION-PWY', 'FOLSYN-PWY', 'FUC-RHAMCAT-PWY', 'FUCCAT-PWY', 'GALACT-GLUCUROCAT-PWY', 'GALACTARDEG-PWY', 'GALACTUROCAT-PWY', 'GALLATE-DEGRADATION-I-PWY', 'GALLATE-DEGRADATION-II-PWY', 'GLCMANNANAUT-PWY', 'GLUCARDEG-PWY', 'GLUCARGALACTSUPER-PWY', 'GLUCONEO-PWY', 'GLUCOSE1PMETAB-PWY', 'GLUCUROCAT-PWY', 'GLUTORN-PWY', 'GLYCOCAT-PWY', 'GLYCOGENSYNTH-PWY', 'GLYCOL-GLYOXDEG-PWY', 'GLYCOLYSIS', 'GLYCOLYSIS-E-D', 'GLYCOLYSIS-TCA-GLYOX-BYPASS', 'GLYOXYLATE-BYPASS', 'GOLPDLCAT-PWY', 'HCAMHPDEG-PWY', 'HEME-BIOSYNTHESIS-II', 'HEMESYN2-PWY', 'HEXITOLDEGSUPER-PWY', 'HISDEG-PWY', 'HISTSYN-PWY', 'HOMOSER-METSYN-PWY', 'HSERMETANA-PWY', 'ILEUSYN-PWY', 'KDO-NAGLIPASYN-PWY', 'KETOGLUCONMET-PWY', 'LACTOSECAT-PWY', 'LEU-DEG2-PWY', 'LPSSYN-PWY', 'MET-SAM-PWY', 'METH-ACETATE-PWY', 'METHANOGENESIS-PWY', 'METHGLYUT-PWY', 'METHYLGALLATE-DEGRADATION-PWY', 'NAD-BIOSYNTHESIS-II', 'NADSYN-PWY', 'NAGLIPASYN-PWY', 'NONMEVIPP-PWY', 'NONOXIPENT-PWY', 'OANTIGEN-PWY', 'ORNARGDEG-PWY', 'ORNDEG-PWY', 'P101-PWY', 'P105-PWY', 'P108-PWY', 'P122-PWY', 'P124-PWY', 'P125-PWY', 'P161-PWY', 'P162-PWY', 'P163-PWY', 'P164-PWY', 'P184-PWY', 'P221-PWY', 'P23-PWY', 'P241-PWY', 'P261-PWY', 'P281-PWY', 'P341-PWY', 'P381-PWY', 'P4-PWY', 'P42-PWY', 'P441-PWY', 'P461-PWY', 'P562-PWY', 'PANTO-PWY', 'PANTOSYN-PWY', 'PENTOSE-P-PWY', 'PEPTIDOGLYCANSYN-PWY', 'PHOSLIPSYN-PWY', 'POLYAMINSYN3-PWY', 'POLYAMSYN-PWY', 'POLYISOPRENSYN-PWY', 'PPGPPMET-PWY', 'PROTOCATECHUATE-ORTHO-CLEAVAGE-PWY', 'PRPP-PWY', 'PWY-1269', 'PWY-1541', 'PWY-1622', 'PWY-181', 'PWY-1861', 'PWY-2941', 'PWY-2942', 'PWY-3001', 'PWY-3661', 'PWY-3781', 'PWY-4361', 'PWY-4722', 'PWY-4984', 'PWY-5005', 'PWY-5022', 'PWY-5028', 'PWY-5088', 'PWY-5097', 'PWY-5100', 'PWY-5101', 'PWY-5103', 'PWY-5104', 'PWY-5121', 'PWY-5154', 'PWY-5177', 'PWY-5178', 'PWY-5180', 'PWY-5181', 'PWY-5182', 'PWY-5188', 'PWY-5189', 'PWY-5198', 'PWY-5265', 'PWY-5304', 'PWY-5345', 'PWY-5347', 'PWY-5384', 'PWY-5415', 'PWY-5417', 'PWY-5419', 'PWY-5420', 'PWY-5430', 'PWY-5431', 'PWY-5484', 'PWY-5505', 'PWY-5507', 'PWY-5509', 'PWY-5529', 'PWY-5531', 'PWY-5532', 'PWY-5647', 'PWY-5651', 'PWY-5654', 'PWY-5655', 'PWY-5659', 'PWY-5667', 'PWY-5676', 'PWY-5677', 'PWY-5686', 'PWY-5695', 'PWY-5705', 'PWY-5741', 'PWY-5747', 'PWY-5823', 'PWY-5837', 'PWY-5838', 'PWY-5840', 'PWY-5845', 'PWY-5850', 'PWY-5855', 'PWY-5856', 'PWY-5857', 'PWY-5860', 'PWY-5861', 'PWY-5862', 'PWY-5863', 'PWY-5896', 'PWY-5897', 'PWY-5898', 'PWY-5899', 'PWY-5910', 'PWY-5913', 'PWY-5918', 'PWY-5920', 'PWY-5971', 'PWY-5973', 'PWY-5989', 'PWY-6071', 'PWY-6121', 'PWY-6122', 'PWY-6123', 'PWY-6125', 'PWY-6126', 'PWY-6141', 'PWY-6147', 'PWY-6148', 'PWY-6151', 'PWY-6163', 'PWY-6165', 'PWY-6167', 'PWY-6174', 'PWY-6182', 'PWY-6185', 'PWY-621', 'PWY-6210', 'PWY-6263', 'PWY-6269', 'PWY-6277', 'PWY-6282', 'PWY-6317', 'PWY-6338', 'PWY-6339', 'PWY-6349', 'PWY-6350', 'PWY-6353', 'PWY-6383', 'PWY-6385', 'PWY-6386', 'PWY-6387', 'PWY-6396', 'PWY-6397', 'PWY-6467', 'PWY-6470', 'PWY-6471', 'PWY-6478', 'PWY-6505', 'PWY-6507', 'PWY-6519', 'PWY-6545', 'PWY-6562', 'PWY-6572', 'PWY-6588', 'PWY-6590', 'PWY-6608', 'PWY-6609', 'PWY-6612', 'PWY-6628', 'PWY-6629', 'PWY-6630', 'PWY-6641', 'PWY-6654', 'PWY-6690', 'PWY-6700', 'PWY-6703', 'PWY-6708', 'PWY-6728', 'PWY-6731', 'PWY-6737', 'PWY-6749', 'PWY-6876', 'PWY-6891', 'PWY-6892', 'PWY-6895', 'PWY-6897', 'PWY-6901', 'PWY-6906', 'PWY-6969', 'PWY-7003', 'PWY-7007', 'PWY-7013', 'PWY-7031', 'PWY-7090', 'PWY-7094', 'PWY-7097', 'PWY-7098', 'PWY-7111', 'PWY-7159', 'PWY-7184', 'PWY-7187', 'PWY-7196', 'PWY-7197', 'PWY-7198', 'PWY-7199', 'PWY-7200', 'PWY-7208', 'PWY-7210', 'PWY-7211', 'PWY-7219', 'PWY-7220', 'PWY-7221', 'PWY-7222', 'PWY-7228', 'PWY-7229', 'PWY-7234', 'PWY-7237', 'PWY-7242', 'PWY-7254', 'PWY-7255', 'PWY-7286', 'PWY-7295', 'PWY-7315', 'PWY-7316', 'PWY-7323', 'PWY-7328', 'PWY-7332', 'PWY-7371', 'PWY-7373', 'PWY-7374', 'PWY-7376', 'PWY-7377', 'PWY-7391', 'PWY-7392', 'PWY-7400', 'PWY-7431', 'PWY-7446', 'PWY-7456', 'PWY-7527', 'PWY-7539', 'PWY-7560', 'PWY-7616', 'PWY-7663', 'PWY-7664', 'PWY-841', 'PWY-922', 'PWY0-1061', 'PWY0-1241', 'PWY0-1261', 'PWY0-1277', 'PWY0-1296', 'PWY0-1297', 'PWY0-1298', 'PWY0-1319', 'PWY0-1338', 'PWY0-1415', 'PWY0-1479', 'PWY0-1533', 'PWY0-1586', 'PWY0-162', 'PWY0-166', 'PWY0-321', 'PWY0-41', 'PWY0-42', 'PWY0-781', 'PWY0-845', 'PWY0-862', 'PWY1G-0', 'PWY490-3', 'PWY4FS-7', 'PWY4FS-8', 'PWYG-321', 'PYRIDNUCSAL-PWY', 'PYRIDNUCSYN-PWY', 'PYRIDOXSYN-PWY', 'REDCITCYC', 'RHAMCAT-PWY', 'RIBOSYN2-PWY', 'RUMP-PWY', 'SALVADEHYPOX-PWY', 'SER-GLYSYN-PWY', 'SO4ASSIM-PWY', 'SULFATE-CYS-PWY', 'TCA', 'TCA-GLYOX-BYPASS', 'TEICHOICACID-PWY', 'THISYN-PWY', 'THREOCAT-PWY', 'THRESYN-PWY', 'TRNA-CHARGING-PWY', 'TRPSYN-PWY', 'TYRFUMCAT-PWY', 'UBISYN-PWY', 'UDPNAGSYN-PWY', 'VALDEG-PWY', 'VALSYN-PWY', 'g__Methanobrevibacter_A', 'g__Methanosphaera', 'g__UBA71', 'g__Actinomyces', 'g__Actinotignum', 'g__Pauljensenia', 'g__Peptidiphaga', 'g__Varibaculum', 'g__Winkia', 'g__Alloscardovia', 'g__Bifidobacterium_388775', 'g__Scardovia', 'g__Rothia', 'g__Specibacter', 'g__Corynebacterium', 'g__Lawsonella', 'g__Atopobium', 'g__Lancefieldella', 'g__Olegusella', 'g__Parolsenella', 'g__Thermophilibacter', 'g__UBA1367', 'g__Collinsella', 'g__Adlercreutzia_404199', 'g__Adlercreutzia_404218', 'g__Adlercreutzia_404257', 'g__CAG-1427', 'g__Cryptobacterium', 'g__Eggerthella', 'g__Ellagibacter', 'g__Gordonibacter', 'g__Paraeggerthella', 'g__Raoultibacter', 'g__Senegalimassilia', 'g__Slackia_A', 'g__QAMH01', 'g__Alloprevotella', 'g__Bacteroides_H', 'g__Paraprevotella', 'g__Phocaeicola_A_858004', 'g__Prevotella', 'g__Barnesiella', 'g__CABJAA01', 'g__Coprobacter', 'g__Dysgonomonas', 'g__Seramator', 'g__Butyricimonas', 'g__Gabonibacter', 'g__Odoribacter_865974', 'g__CAG-485', 'g__Limisoma', 'g__Muribaculum', 'g__Paramuribaculum', 'g__UBA3263', 'g__Porphyromonas_A_859424', 'g__Porphyromonas_A_859426', 'g__Alistipes_A_871400', 'g__Alistipes_A_871404', 'g__Tidjanibacter', 'g__Parabacteroides_B_862066', 'g__UBA11471', 'g__Coprenecus', 'g__Cryptobacteroides', 'g__Campylobacter_B', 'g__Helicobacter_D', 'g__SIO2C1', 'f__Gastranaerophilaceae', 'g__CAG-196', 'g__Limenecus', 'g__Stercorousia', 'g__UBA2813', 'g__UBA6984', 'g__Zag111', 'g__Desulfovibrio_R_446353', 'g__Mailhella', 'g__Nitratidesulfovibrio', 'g__UBA1436', 'c__Clostridia_258483', 'f__DSM-8532', 'o__Christensenellales', 'g__Borkfalkia', 'g__UBA1259', 'f__CAG-138', 'g__Aphodomorpha', 'g__CAG-1024', 'g__PeH17', 'g__CAG-314', 'f__CAG-552', 'f__CAG-74', 'g__Limiplasma', 'g__Onthenecus', 'g__SFMI01', 'g__CAG-349', 'g__CAG-475', 'f__Christensenellaceae', 'g__Christensenella', 'g__GCA-900066905', 'g__MARSEILLE-P3954', 'g__Clostridium_P', 'g__Clostridium_T', 'f__Anaerofustaceae', 'g__Anaerofustis', 'g__Eubacterium_O_258270', 'g__Ructibacterium', 'o__Lachnospirales', 'f__Anaerotignaceae', 'g__Anaerotignum_189125', 'g__Anaerotignum_189163', 'g__CAG-274', 'f__Cellulosilyticaceae', 'f__Lachnospiraceae', 'g__Acetatifactor', 'g__AF33-28', 'g__Agathobacter_164117', 'g__AM51-8', 'g__Anaerobutyricum', 'g__Anaerostipes', 'g__Bacteroides_F', 'g__Bariatricus', 'g__Blautia_A_141780', 'g__Blautia_A_141781', 'g__Butyribacter', 'g__Butyrivibrio_A_180067', 'g__CAG-127', 'g__CAG-194', 'g__CAG-317_146760', 'g__CAG-45', 'g__CAG-632', 'g__CAG-95', 'g__Catenibacillus', 'g__Choladousia', 'g__Clostridium_AP', 'g__Clostridium_N_143832', 'g__Clostridium_Q_134516', 'g__Clostridium_Q_135822', 'g__Clostridium_Q_135853', 'g__COE1', 'g__Coprococcus_A_121497', 'g__Coprococcus_A_187866', 'g__Copromonas', 'g__Cuneatibacter', 'g__Dorea_A', 'g__Eisenbergiella', 'g__Enterocloster', 'g__Eubacterium_F', 'g__Eubacterium_G', 'g__Eubacterium_I', 'g__Eubacterium_J', 'g__Extibacter', 'g__Faecalimonas', 'g__Fimimorpha', 'g__Frisingicoccus', 'g__Fusicatenibacter', 'g__G11', 'g__Howardella', 'g__Hungatella_A_127239', 'g__Hungatella_A_128155', 'g__Johnsonella', 'g__Kineothrix', 'g__Lachnoanaerobaculum', 'g__Lachnoclostridium_A_130679', 'g__Lachnoclostridium_B', 'g__Lachnospira', 'g__Lactonifactor', 'g__Limivivens', 'g__Marvinbryantia', 'g__Massilistercora', 'g__Mediterraneibacter_A_155507', 'g__Mediterraneibacter_A_155590', 'g__Merdimonas', 'g__Merdisoma', 'g__Muricomes_149725', 'g__Oliverpabstia', 'g__Oribacterium', 'g__Paralachnospira', 'g__Porcincola', 'g__Roseburia', 'g__RUG115', 'g__Ruminococcus_B', 'g__Ruminococcus_G', 'g__Scatomonas', 'g__Schaedlerella', 'g__Sellimonas', 'g__UBA3282', 'g__UBA3402', 'g__UBA9414', 'g__UMGS1375', 'g__Velocimicrobium', 'g__Ventrimonas', 'g__Ventrisoma', 'g__VUNI01', 'g__Monoglobus', 'o__Oscillospirales', 'f__Acutalibacteraceae', 'g__Acutalibacter', 'g__Anaeromassilibacillus', 'g__Caccousia', 'g__CAG-177', 'g__CAG-217', 'g__CAG-488', 'g__CAG-964', 'g__Caproicibacterium', 'g__Caproiciproducens', 'g__Clostridium_A', 'g__Clostridium_E', 'g__Eubacterium_R', 'g__Fimenecus', 'g__Hydrogeniiclostridium', 'g__Limousia', 'g__Pseudoruminococcus_A', 'g__RUG762', 'g__Ruminococcus_E', 'g__Solibaculum', 'g__UBA1417', 'g__UBA5905', 'g__UBA737', 'g__UMGS1071', 'f__Butyricicoccaceae', 'g__Agathobaculum', 'g__Butyricicoccus_A_77030', 'g__Butyricicoccus_A_77419', 'g__Pseudobutyricicoccus', 'g__Avispirillum', 'g__QALR01', 'g__RUG13077', 'g__SFLA01', 'f__Ethanoligenenaceae', 'f__Oscillospiraceae_88309', 'g__CAG-83', 'g__Dysosmobacter', 'g__Enterenecus', 'g__ER4', 'g__Evtepia', 'g__Faecousia', 'g__Intestinimonas', 'g__Lawsonibacter', 'g__Limivicinus', 'g__Marseille-P3106', 'g__Onthomonas', 'g__Pseudoflavonifractor_80958', 'g__UBA2658', 'g__Vescimonas', 'g__WQUU01', 'g__WRMH01', 'f__QAKW01', 'g__QAKW01', 'f__Ruminococcaceae', 'g__Acetanaerobacterium', 'g__Anaerofilum_74150', 'g__Anaerotruncus', 'g__Angelakisella', 'g__Bittarella', 'g__CAG-353', 'g__Faecalibacterium', 'g__Fimivivens', 'g__Gemmiger_A_73129', 'g__Harryflintia', 'g__Hydrogenoanaerobacterium', 'g__Marseille-P2935', 'g__Massiliimalia_59888', 'g__Massiliimalia_59910', 'g__Massilioclostridium', 'g__Negativibacillus', 'g__Neobittarella', 'g__Paludicola', 'g__Phocea', 'g__Pygmaiobacter', 'g__QAMM01', 'g__Ruminiclostridium_E', 'g__Ruminococcus_C_58660', 'g__Ruminococcus_C_59129', 'g__Ruminococcus_D', 'g__Ruthenibacterium', 'g__Soleaferrea', 'g__UBA1394', 'g__UBA644', 'g__WRAI01', 'o__Peptostreptococcales', 'f__Anaerovoracaceae', 'g__Alterileibacterium', 'g__BX12', 'g__Copromorpha', 'g__Emergencia', 'g__Eubacterium_M', 'g__Eubacterium_N', 'g__Hornefia', 'g__Mogibacterium', 'g__S5-A14a', 'g__VUNA01', 'f__Peptostreptococcaceae_256921', 'g__CCUG-7971', 'g__GCA-900066495', 'g__Intestinibacter', 'g__Paraclostridium', 'g__Peptacetobacter', 'g__Peptostreptococcus', 'g__Romboutsia_B', 'g__Romboutsia_D', 'g__Terrisporobacter', 'g__SFGY01', 'g__Fastidiosipila', 'f__CAG-508', 'g__CAG-269', 'g__CAG-273', 'g__CAG-793', 'g__Merdicola', 'g__Anaerococcus', 'g__Ezakiella', 'g__Fenollaria', 'g__Finegoldia', 'g__Murdochiella_225299', 'g__Parvimonas', 'g__Peptoniphilus_A', 'g__Peptoniphilus_B_226777', 'g__Peptoniphilus_C', 'g__Urinicoccus', 'g__CAG-41', 'f__Dehalobacteriaceae', 'g__BICA1-8', 'g__Peptococcus', 'g__Acidaminococcus', 'g__Phascolarctobacterium_A', 'g__Massilibacillus', 'g__Anaerovibrio', 'g__Mitsuokella', 'g__Allisonella', 'g__Dialister', 'g__UBA5809', 'g__Caecibacter', 'g__Megasphaera_A_38685', 'g__Negativicoccus', 'g__Veillonella_A', 'f__Anoxybacillaceae', 'g__Bacillus_P_294101', 'g__Bacillus_A', 'g__Sporolactobacillus', 'f__Coprobacillaceae', 'g__Beduini', 'g__Catenibacterium', 'g__Coprobacillus', 'g__Erysipelatoclostridium', 'g__Faecalibacillus', 'g__Fimiplasma', 'g__Longibaculum', 'g__Stoquefichus', 'g__Absicoccus', 'g__Allobaculum', 'g__Amedibacillus', 'g__Amedibacterium', 'g__Bulleidia', 'g__Clostridium_AQ', 'g__Dielma', 'g__Dubosiella', 'g__Faecalicoccus', 'g__Faecalitalea', 'g__Holdemanella', 'g__Holdemania', 'g__Longicatena', 'g__Massilicoli', 'g__Merdibacter', 'g__NSJ-61', 'g__Traorella', 'g__Turicibacter', 'g__Abiotrophia', 'g__Facklamia_A_322620', 'g__Facklamia_A_322655', 'g__Granulicatella', 'g__Enterococcus_A', 'g__Enterococcus_E', 'g__Enterococcus_H_360604', 'g__Companilactobacillus', 'g__Dellaglioa', 'g__Fructilactobacillus', 'g__Lacticaseibacillus', 'g__Lactiplantibacillus', 'g__Lactobacillus', 'g__Latilactobacillus', 'g__Leuconostoc_B', 'g__Ligilactobacillus', 'g__Limosilactobacillus', 'g__Pediococcus', 'g__Weissella_A_338544', 'g__Weissella_A_338546', 'g__Lactococcus_A_343473', 'g__Lactococcus_A_346120', 'g__Streptococcus', 'g__CAG-313', 'f__UBA660', 'g__CAG-302', 'g__CAG-417', 'g__Coprosoma', 'g__Onthocola_B', 'g__RUG13038', 'g__Scybalousia', 'g__UBA3789', 'g__UBA6985', 'g__UMGS1449', 'g__UMGS872', 'g__CAG-345', 'g__Scatoplasma', 'g__Gemella', 'g__Staphylococcus', 'g__DTU012', 'g__DTU014', 'g__Cetobacterium_A', 'g__Fusobacterium_A', 'g__Fusobacterium_B', 'g__Fusobacterium_C', 'g__GWA2-37-10', 'g__Nanogingivalis', 'g__Nanosynbacter', 'g__Saccharimonas', 'f__CAG-239', 'g__51-20', 'g__CAG-267', 'g__CAJLXD01', 'g__Scatocola', 'g__CAG-977', 'g__UBA2903', 'g__Methylobacterium', 'g__Blastomonas', 'g__Comamonas_F_589250', 'g__Oxalobacter_566322', 'g__Duodenibacillus', 'g__Mesosutterella', 'g__Parasutterella', 'g__Sutterella', 'g__Neisseria_563205', 'g__Citrobacter_A_692098', 'g__Enterobacter_B_713587', 'g__Escherichia_710834', 'g__Hafnia', 'g__Klebsiella_724518', 'g__Kluyvera_724999', 'g__Kosakonia_683478', 'g__Pantoea_A_680430', 'g__Providencia_A_732258', 'g__Yersinia', 'g__Haemophilus_D_735815', 'g__Mesocricetibacter', 'g__Rodentibacter_A_734545', 'g__Succinivibrio', 'g__Pseudomonas_E_647464', 'g__Pseudomonas_E_650326', 'g__Pseudomonas_F', 'g__Pseudoxanthomonas_A_615336', 'g__Cloacibacillus', 'g__UBA11452', 'g__UBA1732', 'g__Victivallis', 'g__Merdousia', 'g__QALA01', 'g__Akkermansia', 'proton', 'Diacetyl', 'Butyrate', 'Formate', 'acetone', 'X2.methylbutyrate', 'Valeric.Acid', 'Methane', 'X1.4.Dihydroxy.2.naphthoate', 'X2.Oxoglutarate', 'Pyruvate', 'D.lactate', 'L.lactate', 'laurate', 'Phenol', 'L.Carnitine', 'Isopropanol', 'p.Cresol', 'O2', 'X1.Propanol', 'butanol', 'Propanal', 'X4.hydroxyphenylacetate', 'X.S..propane.1.2.diol', 'Propane.1.3.diol', 'R_R__2_3_Butanediol', 'Oxaloacetate', 'sulfate', 'octadecenoate..n.C18.1.', 'o.Succinylbenzoate', 'Thymidine', 'Reduced.riboflavin', 'Riboflavin', 'X2.Hydroxyphenylacetate', 'Sulfite', 'thiosulfate.2..', 'X.3.4.dihydroxyphenyl.acetate', 'Diphosphate', 'trimethylamine', 'glycine.betaine', 'Choline', 'Trimethylamine.N.oxide', 'Isochorismate', 'Inosine', 'xanthosine', 'Hypoxanthine', 'Xanthine', 'uracil', 'Uridine', 'Methanethiol', 'keto.phenylpyruvate', 'D.Arabinose', 'D.Galactose', 'Nicotinate', 'chorismate', 'tetradecanoate..n.C14.0.', 'oxalate.2..', 'X.R..3.hydroxybutyrate', 'Hydrogen.peroxide', 'Hydrogen.sulfide', 'X4.hydroxybenzoate', 'Hexadecanoate..n.C16.0.', 'octadecanoate..n.C18.0.', 'D.Fructose', 'D.ribose', 'myo.inositol', 'D.Mannitol', 'Citrate', 'Menaquinone.8', 'Glycerol', 'D.Mannose', 'X2.Oxobutanoate', 'Fumarate', 'L.malate', 'X.R..Acetoin', 'formaldehyde', 'Ethanol', 'Acetoacetate', 'methanol', 'Acetaldehyde', 'X3.methyl.2.oxopentanoate', 'Isovalerate..3.Methylbutanoate', 'phenylacetate', 'Succinate', 'Isobutyrate..2.Methylpropanoate', 'Isocaproate', 'Water', 'Hydrogen', 'Propionate', 'Acetate', 'Carbon.dioxide', 'range']\n",
      "Test columns: ['subject_id', 'randomized_group', 'age', 'sex', 'race', 'BMI', 'Weight', 'CRP', 'cholesterol', 'ghrelin', 'HDL', 'LDL', 'HbA1C', 'insulin', 'leptin', 'peptide_yy', 'tgcyd', 'homo_ir', 'DENOVOPURINE2-PWY', 'DHGLUCONATE-PYR-CAT-PWY', 'DTDPRHAMSYN-PWY', 'ECASYN-PWY', 'ENTBACSYN-PWY', 'FAO-PWY', 'FASYN-ELONG-PWY', 'FASYN-INITIAL-PWY', 'FERMENTATION-PWY', 'FOLSYN-PWY', 'FUC-RHAMCAT-PWY', 'FUCCAT-PWY', 'GALACT-GLUCUROCAT-PWY', 'GALACTARDEG-PWY', 'GALACTUROCAT-PWY', 'GALLATE-DEGRADATION-I-PWY', 'GALLATE-DEGRADATION-II-PWY', 'GLCMANNANAUT-PWY', 'GLUCARDEG-PWY', 'GLUCARGALACTSUPER-PWY', 'GLUCONEO-PWY', 'GLUCOSE1PMETAB-PWY', 'GLUCUROCAT-PWY', 'GLUTORN-PWY', 'GLYCOCAT-PWY', 'GLYCOGENSYNTH-PWY', 'GLYCOL-GLYOXDEG-PWY', 'GLYCOLYSIS', 'GLYCOLYSIS-E-D', 'GLYCOLYSIS-TCA-GLYOX-BYPASS', 'GLYOXYLATE-BYPASS', 'GOLPDLCAT-PWY', 'HCAMHPDEG-PWY', 'HEME-BIOSYNTHESIS-II', 'HEMESYN2-PWY', 'HEXITOLDEGSUPER-PWY', 'HISDEG-PWY', 'HISTSYN-PWY', 'HOMOSER-METSYN-PWY', 'HSERMETANA-PWY', 'ILEUSYN-PWY', 'KDO-NAGLIPASYN-PWY', 'KETOGLUCONMET-PWY', 'LACTOSECAT-PWY', 'LEU-DEG2-PWY', 'LPSSYN-PWY', 'MET-SAM-PWY', 'METH-ACETATE-PWY', 'METHANOGENESIS-PWY', 'METHGLYUT-PWY', 'METHYLGALLATE-DEGRADATION-PWY', 'NAD-BIOSYNTHESIS-II', 'NADSYN-PWY', 'NAGLIPASYN-PWY', 'NONMEVIPP-PWY', 'NONOXIPENT-PWY', 'OANTIGEN-PWY', 'ORNARGDEG-PWY', 'ORNDEG-PWY', 'P101-PWY', 'P105-PWY', 'P108-PWY', 'P122-PWY', 'P124-PWY', 'P125-PWY', 'P161-PWY', 'P162-PWY', 'P163-PWY', 'P164-PWY', 'P184-PWY', 'P221-PWY', 'P23-PWY', 'P241-PWY', 'P261-PWY', 'P281-PWY', 'P341-PWY', 'P381-PWY', 'P4-PWY', 'P42-PWY', 'P441-PWY', 'P461-PWY', 'P562-PWY', 'PANTO-PWY', 'PANTOSYN-PWY', 'PENTOSE-P-PWY', 'PEPTIDOGLYCANSYN-PWY', 'PHOSLIPSYN-PWY', 'POLYAMINSYN3-PWY', 'POLYAMSYN-PWY', 'POLYISOPRENSYN-PWY', 'PPGPPMET-PWY', 'PROTOCATECHUATE-ORTHO-CLEAVAGE-PWY', 'PRPP-PWY', 'PWY-1269', 'PWY-1541', 'PWY-1622', 'PWY-181', 'PWY-1861', 'PWY-2941', 'PWY-2942', 'PWY-3001', 'PWY-3661', 'PWY-3781', 'PWY-4361', 'PWY-4722', 'PWY-4984', 'PWY-5005', 'PWY-5022', 'PWY-5028', 'PWY-5088', 'PWY-5097', 'PWY-5100', 'PWY-5101', 'PWY-5103', 'PWY-5104', 'PWY-5121', 'PWY-5154', 'PWY-5177', 'PWY-5178', 'PWY-5180', 'PWY-5181', 'PWY-5182', 'PWY-5188', 'PWY-5189', 'PWY-5198', 'PWY-5265', 'PWY-5304', 'PWY-5345', 'PWY-5347', 'PWY-5384', 'PWY-5415', 'PWY-5417', 'PWY-5419', 'PWY-5420', 'PWY-5430', 'PWY-5431', 'PWY-5484', 'PWY-5505', 'PWY-5507', 'PWY-5509', 'PWY-5529', 'PWY-5531', 'PWY-5532', 'PWY-5647', 'PWY-5651', 'PWY-5654', 'PWY-5655', 'PWY-5659', 'PWY-5667', 'PWY-5676', 'PWY-5677', 'PWY-5686', 'PWY-5695', 'PWY-5705', 'PWY-5741', 'PWY-5747', 'PWY-5823', 'PWY-5837', 'PWY-5838', 'PWY-5840', 'PWY-5845', 'PWY-5850', 'PWY-5855', 'PWY-5856', 'PWY-5857', 'PWY-5860', 'PWY-5861', 'PWY-5862', 'PWY-5863', 'PWY-5896', 'PWY-5897', 'PWY-5898', 'PWY-5899', 'PWY-5910', 'PWY-5913', 'PWY-5918', 'PWY-5920', 'PWY-5971', 'PWY-5973', 'PWY-5989', 'PWY-6071', 'PWY-6121', 'PWY-6122', 'PWY-6123', 'PWY-6125', 'PWY-6126', 'PWY-6141', 'PWY-6147', 'PWY-6148', 'PWY-6151', 'PWY-6163', 'PWY-6165', 'PWY-6167', 'PWY-6174', 'PWY-6182', 'PWY-6185', 'PWY-621', 'PWY-6210', 'PWY-6263', 'PWY-6269', 'PWY-6277', 'PWY-6282', 'PWY-6317', 'PWY-6338', 'PWY-6339', 'PWY-6349', 'PWY-6350', 'PWY-6353', 'PWY-6383', 'PWY-6385', 'PWY-6386', 'PWY-6387', 'PWY-6396', 'PWY-6397', 'PWY-6467', 'PWY-6470', 'PWY-6471', 'PWY-6478', 'PWY-6505', 'PWY-6507', 'PWY-6519', 'PWY-6545', 'PWY-6562', 'PWY-6572', 'PWY-6588', 'PWY-6590', 'PWY-6608', 'PWY-6609', 'PWY-6612', 'PWY-6628', 'PWY-6629', 'PWY-6630', 'PWY-6641', 'PWY-6654', 'PWY-6690', 'PWY-6700', 'PWY-6703', 'PWY-6708', 'PWY-6728', 'PWY-6731', 'PWY-6737', 'PWY-6749', 'PWY-6876', 'PWY-6891', 'PWY-6892', 'PWY-6895', 'PWY-6897', 'PWY-6901', 'PWY-6906', 'PWY-6969', 'PWY-7003', 'PWY-7007', 'PWY-7013', 'PWY-7031', 'PWY-7090', 'PWY-7094', 'PWY-7097', 'PWY-7098', 'PWY-7111', 'PWY-7159', 'PWY-7184', 'PWY-7187', 'PWY-7196', 'PWY-7197', 'PWY-7198', 'PWY-7199', 'PWY-7200', 'PWY-7208', 'PWY-7210', 'PWY-7211', 'PWY-7219', 'PWY-7220', 'PWY-7221', 'PWY-7222', 'PWY-7228', 'PWY-7229', 'PWY-7234', 'PWY-7237', 'PWY-7242', 'PWY-7254', 'PWY-7255', 'PWY-7286', 'PWY-7295', 'PWY-7315', 'PWY-7316', 'PWY-7323', 'PWY-7328', 'PWY-7332', 'PWY-7371', 'PWY-7373', 'PWY-7374', 'PWY-7376', 'PWY-7377', 'PWY-7391', 'PWY-7392', 'PWY-7400', 'PWY-7431', 'PWY-7446', 'PWY-7456', 'PWY-7527', 'PWY-7539', 'PWY-7560', 'PWY-7616', 'PWY-7663', 'PWY-7664', 'PWY-841', 'PWY-922', 'PWY0-1061', 'PWY0-1241', 'PWY0-1261', 'PWY0-1277', 'PWY0-1296', 'PWY0-1297', 'PWY0-1298', 'PWY0-1319', 'PWY0-1338', 'PWY0-1415', 'PWY0-1479', 'PWY0-1533', 'PWY0-1586', 'PWY0-162', 'PWY0-166', 'PWY0-321', 'PWY0-41', 'PWY0-42', 'PWY0-781', 'PWY0-845', 'PWY0-862', 'PWY1G-0', 'PWY490-3', 'PWY4FS-7', 'PWY4FS-8', 'PWYG-321', 'PYRIDNUCSAL-PWY', 'PYRIDNUCSYN-PWY', 'PYRIDOXSYN-PWY', 'REDCITCYC', 'RHAMCAT-PWY', 'RIBOSYN2-PWY', 'RUMP-PWY', 'SALVADEHYPOX-PWY', 'SER-GLYSYN-PWY', 'SO4ASSIM-PWY', 'SULFATE-CYS-PWY', 'TCA', 'TCA-GLYOX-BYPASS', 'TEICHOICACID-PWY', 'THISYN-PWY', 'THREOCAT-PWY', 'THRESYN-PWY', 'TRNA-CHARGING-PWY', 'TRPSYN-PWY', 'TYRFUMCAT-PWY', 'UBISYN-PWY', 'UDPNAGSYN-PWY', 'VALDEG-PWY', 'VALSYN-PWY', 'g__Methanobrevibacter_A', 'g__Methanosphaera', 'g__UBA71', 'g__Actinomyces', 'g__Actinotignum', 'g__Pauljensenia', 'g__Peptidiphaga', 'g__Varibaculum', 'g__Winkia', 'g__Alloscardovia', 'g__Bifidobacterium_388775', 'g__Scardovia', 'g__Rothia', 'g__Specibacter', 'g__Corynebacterium', 'g__Lawsonella', 'g__Atopobium', 'g__Lancefieldella', 'g__Olegusella', 'g__Parolsenella', 'g__Thermophilibacter', 'g__UBA1367', 'g__Collinsella', 'g__Adlercreutzia_404199', 'g__Adlercreutzia_404218', 'g__Adlercreutzia_404257', 'g__CAG-1427', 'g__Cryptobacterium', 'g__Eggerthella', 'g__Ellagibacter', 'g__Gordonibacter', 'g__Paraeggerthella', 'g__Raoultibacter', 'g__Senegalimassilia', 'g__Slackia_A', 'g__QAMH01', 'g__Alloprevotella', 'g__Bacteroides_H', 'g__Paraprevotella', 'g__Phocaeicola_A_858004', 'g__Prevotella', 'g__Barnesiella', 'g__CABJAA01', 'g__Coprobacter', 'g__Dysgonomonas', 'g__Seramator', 'g__Butyricimonas', 'g__Gabonibacter', 'g__Odoribacter_865974', 'g__CAG-485', 'g__Limisoma', 'g__Muribaculum', 'g__Paramuribaculum', 'g__UBA3263', 'g__Porphyromonas_A_859424', 'g__Porphyromonas_A_859426', 'g__Alistipes_A_871400', 'g__Alistipes_A_871404', 'g__Tidjanibacter', 'g__Parabacteroides_B_862066', 'g__UBA11471', 'g__Coprenecus', 'g__Cryptobacteroides', 'g__Campylobacter_B', 'g__Helicobacter_D', 'g__SIO2C1', 'f__Gastranaerophilaceae', 'g__CAG-196', 'g__Limenecus', 'g__Stercorousia', 'g__UBA2813', 'g__UBA6984', 'g__Zag111', 'g__Desulfovibrio_R_446353', 'g__Mailhella', 'g__Nitratidesulfovibrio', 'g__UBA1436', 'c__Clostridia_258483', 'f__DSM-8532', 'o__Christensenellales', 'g__Borkfalkia', 'g__UBA1259', 'f__CAG-138', 'g__Aphodomorpha', 'g__CAG-1024', 'g__PeH17', 'g__CAG-314', 'f__CAG-552', 'f__CAG-74', 'g__Limiplasma', 'g__Onthenecus', 'g__SFMI01', 'g__CAG-349', 'g__CAG-475', 'f__Christensenellaceae', 'g__Christensenella', 'g__GCA-900066905', 'g__MARSEILLE-P3954', 'g__Clostridium_P', 'g__Clostridium_T', 'f__Anaerofustaceae', 'g__Anaerofustis', 'g__Eubacterium_O_258270', 'g__Ructibacterium', 'o__Lachnospirales', 'f__Anaerotignaceae', 'g__Anaerotignum_189125', 'g__Anaerotignum_189163', 'g__CAG-274', 'f__Cellulosilyticaceae', 'f__Lachnospiraceae', 'g__Acetatifactor', 'g__AF33-28', 'g__Agathobacter_164117', 'g__AM51-8', 'g__Anaerobutyricum', 'g__Anaerostipes', 'g__Bacteroides_F', 'g__Bariatricus', 'g__Blautia_A_141780', 'g__Blautia_A_141781', 'g__Butyribacter', 'g__Butyrivibrio_A_180067', 'g__CAG-127', 'g__CAG-194', 'g__CAG-317_146760', 'g__CAG-45', 'g__CAG-632', 'g__CAG-95', 'g__Catenibacillus', 'g__Choladousia', 'g__Clostridium_AP', 'g__Clostridium_N_143832', 'g__Clostridium_Q_134516', 'g__Clostridium_Q_135822', 'g__Clostridium_Q_135853', 'g__COE1', 'g__Coprococcus_A_121497', 'g__Coprococcus_A_187866', 'g__Copromonas', 'g__Cuneatibacter', 'g__Dorea_A', 'g__Eisenbergiella', 'g__Enterocloster', 'g__Eubacterium_F', 'g__Eubacterium_G', 'g__Eubacterium_I', 'g__Eubacterium_J', 'g__Extibacter', 'g__Faecalimonas', 'g__Fimimorpha', 'g__Frisingicoccus', 'g__Fusicatenibacter', 'g__G11', 'g__Howardella', 'g__Hungatella_A_127239', 'g__Hungatella_A_128155', 'g__Johnsonella', 'g__Kineothrix', 'g__Lachnoanaerobaculum', 'g__Lachnoclostridium_A_130679', 'g__Lachnoclostridium_B', 'g__Lachnospira', 'g__Lactonifactor', 'g__Limivivens', 'g__Marvinbryantia', 'g__Massilistercora', 'g__Mediterraneibacter_A_155507', 'g__Mediterraneibacter_A_155590', 'g__Merdimonas', 'g__Merdisoma', 'g__Muricomes_149725', 'g__Oliverpabstia', 'g__Oribacterium', 'g__Paralachnospira', 'g__Porcincola', 'g__Roseburia', 'g__RUG115', 'g__Ruminococcus_B', 'g__Ruminococcus_G', 'g__Scatomonas', 'g__Schaedlerella', 'g__Sellimonas', 'g__UBA3282', 'g__UBA3402', 'g__UBA9414', 'g__UMGS1375', 'g__Velocimicrobium', 'g__Ventrimonas', 'g__Ventrisoma', 'g__VUNI01', 'g__Monoglobus', 'o__Oscillospirales', 'f__Acutalibacteraceae', 'g__Acutalibacter', 'g__Anaeromassilibacillus', 'g__Caccousia', 'g__CAG-177', 'g__CAG-217', 'g__CAG-488', 'g__CAG-964', 'g__Caproicibacterium', 'g__Caproiciproducens', 'g__Clostridium_A', 'g__Clostridium_E', 'g__Eubacterium_R', 'g__Fimenecus', 'g__Hydrogeniiclostridium', 'g__Limousia', 'g__Pseudoruminococcus_A', 'g__RUG762', 'g__Ruminococcus_E', 'g__Solibaculum', 'g__UBA1417', 'g__UBA5905', 'g__UBA737', 'g__UMGS1071', 'f__Butyricicoccaceae', 'g__Agathobaculum', 'g__Butyricicoccus_A_77030', 'g__Butyricicoccus_A_77419', 'g__Pseudobutyricicoccus', 'g__Avispirillum', 'g__QALR01', 'g__RUG13077', 'g__SFLA01', 'f__Ethanoligenenaceae', 'f__Oscillospiraceae_88309', 'g__CAG-83', 'g__Dysosmobacter', 'g__Enterenecus', 'g__ER4', 'g__Evtepia', 'g__Faecousia', 'g__Intestinimonas', 'g__Lawsonibacter', 'g__Limivicinus', 'g__Marseille-P3106', 'g__Onthomonas', 'g__Pseudoflavonifractor_80958', 'g__UBA2658', 'g__Vescimonas', 'g__WQUU01', 'g__WRMH01', 'f__QAKW01', 'g__QAKW01', 'f__Ruminococcaceae', 'g__Acetanaerobacterium', 'g__Anaerofilum_74150', 'g__Anaerotruncus', 'g__Angelakisella', 'g__Bittarella', 'g__CAG-353', 'g__Faecalibacterium', 'g__Fimivivens', 'g__Gemmiger_A_73129', 'g__Harryflintia', 'g__Hydrogenoanaerobacterium', 'g__Marseille-P2935', 'g__Massiliimalia_59888', 'g__Massiliimalia_59910', 'g__Massilioclostridium', 'g__Negativibacillus', 'g__Neobittarella', 'g__Paludicola', 'g__Phocea', 'g__Pygmaiobacter', 'g__QAMM01', 'g__Ruminiclostridium_E', 'g__Ruminococcus_C_58660', 'g__Ruminococcus_C_59129', 'g__Ruminococcus_D', 'g__Ruthenibacterium', 'g__Soleaferrea', 'g__UBA1394', 'g__UBA644', 'g__WRAI01', 'o__Peptostreptococcales', 'f__Anaerovoracaceae', 'g__Alterileibacterium', 'g__BX12', 'g__Copromorpha', 'g__Emergencia', 'g__Eubacterium_M', 'g__Eubacterium_N', 'g__Hornefia', 'g__Mogibacterium', 'g__S5-A14a', 'g__VUNA01', 'f__Peptostreptococcaceae_256921', 'g__CCUG-7971', 'g__GCA-900066495', 'g__Intestinibacter', 'g__Paraclostridium', 'g__Peptacetobacter', 'g__Peptostreptococcus', 'g__Romboutsia_B', 'g__Romboutsia_D', 'g__Terrisporobacter', 'g__SFGY01', 'g__Fastidiosipila', 'f__CAG-508', 'g__CAG-269', 'g__CAG-273', 'g__CAG-793', 'g__Merdicola', 'g__Anaerococcus', 'g__Ezakiella', 'g__Fenollaria', 'g__Finegoldia', 'g__Murdochiella_225299', 'g__Parvimonas', 'g__Peptoniphilus_A', 'g__Peptoniphilus_B_226777', 'g__Peptoniphilus_C', 'g__Urinicoccus', 'g__CAG-41', 'f__Dehalobacteriaceae', 'g__BICA1-8', 'g__Peptococcus', 'g__Acidaminococcus', 'g__Phascolarctobacterium_A', 'g__Massilibacillus', 'g__Anaerovibrio', 'g__Mitsuokella', 'g__Allisonella', 'g__Dialister', 'g__UBA5809', 'g__Caecibacter', 'g__Megasphaera_A_38685', 'g__Negativicoccus', 'g__Veillonella_A', 'f__Anoxybacillaceae', 'g__Bacillus_P_294101', 'g__Bacillus_A', 'g__Sporolactobacillus', 'f__Coprobacillaceae', 'g__Beduini', 'g__Catenibacterium', 'g__Coprobacillus', 'g__Erysipelatoclostridium', 'g__Faecalibacillus', 'g__Fimiplasma', 'g__Longibaculum', 'g__Stoquefichus', 'g__Absicoccus', 'g__Allobaculum', 'g__Amedibacillus', 'g__Amedibacterium', 'g__Bulleidia', 'g__Clostridium_AQ', 'g__Dielma', 'g__Dubosiella', 'g__Faecalicoccus', 'g__Faecalitalea', 'g__Holdemanella', 'g__Holdemania', 'g__Longicatena', 'g__Massilicoli', 'g__Merdibacter', 'g__NSJ-61', 'g__Traorella', 'g__Turicibacter', 'g__Abiotrophia', 'g__Facklamia_A_322620', 'g__Facklamia_A_322655', 'g__Granulicatella', 'g__Enterococcus_A', 'g__Enterococcus_E', 'g__Enterococcus_H_360604', 'g__Companilactobacillus', 'g__Dellaglioa', 'g__Fructilactobacillus', 'g__Lacticaseibacillus', 'g__Lactiplantibacillus', 'g__Lactobacillus', 'g__Latilactobacillus', 'g__Leuconostoc_B', 'g__Ligilactobacillus', 'g__Limosilactobacillus', 'g__Pediococcus', 'g__Weissella_A_338544', 'g__Weissella_A_338546', 'g__Lactococcus_A_343473', 'g__Lactococcus_A_346120', 'g__Streptococcus', 'g__CAG-313', 'f__UBA660', 'g__CAG-302', 'g__CAG-417', 'g__Coprosoma', 'g__Onthocola_B', 'g__RUG13038', 'g__Scybalousia', 'g__UBA3789', 'g__UBA6985', 'g__UMGS1449', 'g__UMGS872', 'g__CAG-345', 'g__Scatoplasma', 'g__Gemella', 'g__Staphylococcus', 'g__DTU012', 'g__DTU014', 'g__Cetobacterium_A', 'g__Fusobacterium_A', 'g__Fusobacterium_B', 'g__Fusobacterium_C', 'g__GWA2-37-10', 'g__Nanogingivalis', 'g__Nanosynbacter', 'g__Saccharimonas', 'f__CAG-239', 'g__51-20', 'g__CAG-267', 'g__CAJLXD01', 'g__Scatocola', 'g__CAG-977', 'g__UBA2903', 'g__Methylobacterium', 'g__Blastomonas', 'g__Comamonas_F_589250', 'g__Oxalobacter_566322', 'g__Duodenibacillus', 'g__Mesosutterella', 'g__Parasutterella', 'g__Sutterella', 'g__Neisseria_563205', 'g__Citrobacter_A_692098', 'g__Enterobacter_B_713587', 'g__Escherichia_710834', 'g__Hafnia', 'g__Klebsiella_724518', 'g__Kluyvera_724999', 'g__Kosakonia_683478', 'g__Pantoea_A_680430', 'g__Providencia_A_732258', 'g__Yersinia', 'g__Haemophilus_D_735815', 'g__Mesocricetibacter', 'g__Rodentibacter_A_734545', 'g__Succinivibrio', 'g__Pseudomonas_E_647464', 'g__Pseudomonas_E_650326', 'g__Pseudomonas_F', 'g__Pseudoxanthomonas_A_615336', 'g__Cloacibacillus', 'g__UBA11452', 'g__UBA1732', 'g__Victivallis', 'g__Merdousia', 'g__QALA01', 'g__Akkermansia', 'proton', 'Diacetyl', 'Butyrate', 'Formate', 'acetone', 'X2.methylbutyrate', 'Valeric.Acid', 'Methane', 'X1.4.Dihydroxy.2.naphthoate', 'X2.Oxoglutarate', 'Pyruvate', 'D.lactate', 'L.lactate', 'laurate', 'Phenol', 'L.Carnitine', 'Isopropanol', 'p.Cresol', 'O2', 'X1.Propanol', 'butanol', 'Propanal', 'X4.hydroxyphenylacetate', 'X.S..propane.1.2.diol', 'Propane.1.3.diol', 'R_R__2_3_Butanediol', 'Oxaloacetate', 'sulfate', 'octadecenoate..n.C18.1.', 'o.Succinylbenzoate', 'Thymidine', 'Reduced.riboflavin', 'Riboflavin', 'X2.Hydroxyphenylacetate', 'Sulfite', 'thiosulfate.2..', 'X.3.4.dihydroxyphenyl.acetate', 'Diphosphate', 'trimethylamine', 'glycine.betaine', 'Choline', 'Trimethylamine.N.oxide', 'Isochorismate', 'Inosine', 'xanthosine', 'Hypoxanthine', 'Xanthine', 'uracil', 'Uridine', 'Methanethiol', 'keto.phenylpyruvate', 'D.Arabinose', 'D.Galactose', 'Nicotinate', 'chorismate', 'tetradecanoate..n.C14.0.', 'oxalate.2..', 'X.R..3.hydroxybutyrate', 'Hydrogen.peroxide', 'Hydrogen.sulfide', 'X4.hydroxybenzoate', 'Hexadecanoate..n.C16.0.', 'octadecanoate..n.C18.0.', 'D.Fructose', 'D.ribose', 'myo.inositol', 'D.Mannitol', 'Citrate', 'Menaquinone.8', 'Glycerol', 'D.Mannose', 'X2.Oxobutanoate', 'Fumarate', 'L.malate', 'X.R..Acetoin', 'formaldehyde', 'Ethanol', 'Acetoacetate', 'methanol', 'Acetaldehyde', 'X3.methyl.2.oxopentanoate', 'Isovalerate..3.Methylbutanoate', 'phenylacetate', 'Succinate', 'Isobutyrate..2.Methylpropanoate', 'Isocaproate', 'Water', 'Hydrogen', 'Propionate', 'Acetate', 'Carbon.dioxide', 'range']\n"
     ]
    }
   ],
   "source": [
    "# Create output directory if it doesn't exist\n",
    "output_dir = \"/Users/emily/projects/research/Stanislawski/comps/mutli-omic-predictions/play_scripts/2.models/merf_python/merf_plots\"\n",
    "df_dir = \"/Users/emily/projects/research/Stanislawski/comps/mutli-omic-predictions/play_scripts/2.models/merf_python/merf_dfs/\"\n",
    "os.makedirs(output_dir, exist_ok=True)\n",
    "\n",
    "print(\"---------- Read metadata ----------\")\n",
    "m1_dir = \"/Users/emily/projects/research/Stanislawski/comps/mutli-omic-predictions/zachs_rerun/drift_fs/csv/all_omic_processed_data/deltas/\"\n",
    "train = read_data(m1_dir, \"jan30_all_delta_train_imp_varcheck.csv\")\n",
    "test = read_data(m1_dir, \"jan30_all_delta_test_imp_varcheck.csv\")\n",
    "\n",
    "print(test.columns.to_list() == test.columns.to_list())\n",
    "print(train.columns.to_list() == test.columns.to_list())\n",
    "\n",
    "print(\"Train columns :\", train.columns.to_list())\n",
    "print(\"Test columns:\", test.columns.to_list())"
   ]
  },
  {
   "cell_type": "code",
   "execution_count": 13,
   "metadata": {},
   "outputs": [],
   "source": [
    "# columns_to_drop = ['Weight', 'randomized_group', 'age', 'sex', 'race', 'BMI', 'CRP', 'cholesterol', 'ghrelin', 'HDL', 'LDL', 'HbA1C', 'insulin', 'leptin', 'peptide_yy', 'tgcyd', 'homo_ir']\n",
    "columns_to_drop = ['BMI', 'HbA1C', 'tgcyd', 'cholesterol', 'ghrelin', 'leptin', 'peptide_yy', 'CRP']\n",
    "train = train.drop([col for col in columns_to_drop if col in train.columns], axis=1)\n",
    "test = test.drop([col for col in columns_to_drop if col in test.columns], axis=1)"
   ]
  },
  {
   "cell_type": "code",
   "execution_count": 14,
   "metadata": {},
   "outputs": [
    {
     "name": "stdout",
     "output_type": "stream",
     "text": [
      "test shape =  (62, 910)\n",
      "train shape =  (234, 910)\n",
      "test shape =  (62, 910)\n",
      "train shape =  (234, 910)\n"
     ]
    }
   ],
   "source": [
    "print(\"test shape = \", test.shape)\n",
    "print(\"train shape = \", train.shape)\n",
    "\n",
    "test = test.dropna()\n",
    "train = train.dropna()\n",
    "\n",
    "print(\"test shape = \", test.shape)\n",
    "print(\"train shape = \", train.shape)"
   ]
  },
  {
   "cell_type": "code",
   "execution_count": 15,
   "metadata": {},
   "outputs": [
    {
     "name": "stdout",
     "output_type": "stream",
     "text": [
      "---------- Select predictors for Basic training set ----------\n",
      "Final columns after drop: ['randomized_group', 'age', 'sex', 'race', 'insulin', 'homo_ir', 'DENOVOPURINE2-PWY', 'DHGLUCONATE-PYR-CAT-PWY', 'DTDPRHAMSYN-PWY', 'ECASYN-PWY', 'ENTBACSYN-PWY', 'FAO-PWY', 'FASYN-ELONG-PWY', 'FASYN-INITIAL-PWY', 'FERMENTATION-PWY', 'FOLSYN-PWY', 'FUC-RHAMCAT-PWY', 'FUCCAT-PWY', 'GALACT-GLUCUROCAT-PWY', 'GALACTARDEG-PWY', 'GALACTUROCAT-PWY', 'GALLATE-DEGRADATION-I-PWY', 'GALLATE-DEGRADATION-II-PWY', 'GLCMANNANAUT-PWY', 'GLUCARDEG-PWY', 'GLUCARGALACTSUPER-PWY', 'GLUCONEO-PWY', 'GLUCOSE1PMETAB-PWY', 'GLUCUROCAT-PWY', 'GLUTORN-PWY', 'GLYCOCAT-PWY', 'GLYCOGENSYNTH-PWY', 'GLYCOL-GLYOXDEG-PWY', 'GLYCOLYSIS', 'GLYCOLYSIS-E-D', 'GLYCOLYSIS-TCA-GLYOX-BYPASS', 'GLYOXYLATE-BYPASS', 'GOLPDLCAT-PWY', 'HCAMHPDEG-PWY', 'HEME-BIOSYNTHESIS-II', 'HEMESYN2-PWY', 'HEXITOLDEGSUPER-PWY', 'HISDEG-PWY', 'HISTSYN-PWY', 'HOMOSER-METSYN-PWY', 'HSERMETANA-PWY', 'ILEUSYN-PWY', 'KDO-NAGLIPASYN-PWY', 'KETOGLUCONMET-PWY', 'LACTOSECAT-PWY', 'LEU-DEG2-PWY', 'LPSSYN-PWY', 'MET-SAM-PWY', 'METH-ACETATE-PWY', 'METHANOGENESIS-PWY', 'METHGLYUT-PWY', 'METHYLGALLATE-DEGRADATION-PWY', 'NAD-BIOSYNTHESIS-II', 'NADSYN-PWY', 'NAGLIPASYN-PWY', 'NONMEVIPP-PWY', 'NONOXIPENT-PWY', 'OANTIGEN-PWY', 'ORNARGDEG-PWY', 'ORNDEG-PWY', 'P101-PWY', 'P105-PWY', 'P108-PWY', 'P122-PWY', 'P124-PWY', 'P125-PWY', 'P161-PWY', 'P162-PWY', 'P163-PWY', 'P164-PWY', 'P184-PWY', 'P221-PWY', 'P23-PWY', 'P241-PWY', 'P261-PWY', 'P281-PWY', 'P341-PWY', 'P381-PWY', 'P4-PWY', 'P42-PWY', 'P441-PWY', 'P461-PWY', 'P562-PWY', 'PANTO-PWY', 'PANTOSYN-PWY', 'PENTOSE-P-PWY', 'PEPTIDOGLYCANSYN-PWY', 'PHOSLIPSYN-PWY', 'POLYAMINSYN3-PWY', 'POLYAMSYN-PWY', 'POLYISOPRENSYN-PWY', 'PPGPPMET-PWY', 'PROTOCATECHUATE-ORTHO-CLEAVAGE-PWY', 'PRPP-PWY', 'PWY-1269', 'PWY-1541', 'PWY-1622', 'PWY-181', 'PWY-1861', 'PWY-2941', 'PWY-2942', 'PWY-3001', 'PWY-3661', 'PWY-3781', 'PWY-4361', 'PWY-4722', 'PWY-4984', 'PWY-5005', 'PWY-5022', 'PWY-5028', 'PWY-5088', 'PWY-5097', 'PWY-5100', 'PWY-5101', 'PWY-5103', 'PWY-5104', 'PWY-5121', 'PWY-5154', 'PWY-5177', 'PWY-5178', 'PWY-5180', 'PWY-5181', 'PWY-5182', 'PWY-5188', 'PWY-5189', 'PWY-5198', 'PWY-5265', 'PWY-5304', 'PWY-5345', 'PWY-5347', 'PWY-5384', 'PWY-5415', 'PWY-5417', 'PWY-5419', 'PWY-5420', 'PWY-5430', 'PWY-5431', 'PWY-5484', 'PWY-5505', 'PWY-5507', 'PWY-5509', 'PWY-5529', 'PWY-5531', 'PWY-5532', 'PWY-5647', 'PWY-5651', 'PWY-5654', 'PWY-5655', 'PWY-5659', 'PWY-5667', 'PWY-5676', 'PWY-5677', 'PWY-5686', 'PWY-5695', 'PWY-5705', 'PWY-5741', 'PWY-5747', 'PWY-5823', 'PWY-5837', 'PWY-5838', 'PWY-5840', 'PWY-5845', 'PWY-5850', 'PWY-5855', 'PWY-5856', 'PWY-5857', 'PWY-5860', 'PWY-5861', 'PWY-5862', 'PWY-5863', 'PWY-5896', 'PWY-5897', 'PWY-5898', 'PWY-5899', 'PWY-5910', 'PWY-5913', 'PWY-5918', 'PWY-5920', 'PWY-5971', 'PWY-5973', 'PWY-5989', 'PWY-6071', 'PWY-6121', 'PWY-6122', 'PWY-6123', 'PWY-6125', 'PWY-6126', 'PWY-6141', 'PWY-6147', 'PWY-6148', 'PWY-6151', 'PWY-6163', 'PWY-6165', 'PWY-6167', 'PWY-6174', 'PWY-6182', 'PWY-6185', 'PWY-621', 'PWY-6210', 'PWY-6263', 'PWY-6269', 'PWY-6277', 'PWY-6282', 'PWY-6317', 'PWY-6338', 'PWY-6339', 'PWY-6349', 'PWY-6350', 'PWY-6353', 'PWY-6383', 'PWY-6385', 'PWY-6386', 'PWY-6387', 'PWY-6396', 'PWY-6397', 'PWY-6467', 'PWY-6470', 'PWY-6471', 'PWY-6478', 'PWY-6505', 'PWY-6507', 'PWY-6519', 'PWY-6545', 'PWY-6562', 'PWY-6572', 'PWY-6588', 'PWY-6590', 'PWY-6608', 'PWY-6609', 'PWY-6612', 'PWY-6628', 'PWY-6629', 'PWY-6630', 'PWY-6641', 'PWY-6654', 'PWY-6690', 'PWY-6700', 'PWY-6703', 'PWY-6708', 'PWY-6728', 'PWY-6731', 'PWY-6737', 'PWY-6749', 'PWY-6876', 'PWY-6891', 'PWY-6892', 'PWY-6895', 'PWY-6897', 'PWY-6901', 'PWY-6906', 'PWY-6969', 'PWY-7003', 'PWY-7007', 'PWY-7013', 'PWY-7031', 'PWY-7090', 'PWY-7094', 'PWY-7097', 'PWY-7098', 'PWY-7111', 'PWY-7159', 'PWY-7184', 'PWY-7187', 'PWY-7196', 'PWY-7197', 'PWY-7198', 'PWY-7199', 'PWY-7200', 'PWY-7208', 'PWY-7210', 'PWY-7211', 'PWY-7219', 'PWY-7220', 'PWY-7221', 'PWY-7222', 'PWY-7228', 'PWY-7229', 'PWY-7234', 'PWY-7237', 'PWY-7242', 'PWY-7254', 'PWY-7255', 'PWY-7286', 'PWY-7295', 'PWY-7315', 'PWY-7316', 'PWY-7323', 'PWY-7328', 'PWY-7332', 'PWY-7371', 'PWY-7373', 'PWY-7374', 'PWY-7376', 'PWY-7377', 'PWY-7391', 'PWY-7392', 'PWY-7400', 'PWY-7431', 'PWY-7446', 'PWY-7456', 'PWY-7527', 'PWY-7539', 'PWY-7560', 'PWY-7616', 'PWY-7663', 'PWY-7664', 'PWY-841', 'PWY-922', 'PWY0-1061', 'PWY0-1241', 'PWY0-1261', 'PWY0-1277', 'PWY0-1296', 'PWY0-1297', 'PWY0-1298', 'PWY0-1319', 'PWY0-1338', 'PWY0-1415', 'PWY0-1479', 'PWY0-1533', 'PWY0-1586', 'PWY0-162', 'PWY0-166', 'PWY0-321', 'PWY0-41', 'PWY0-42', 'PWY0-781', 'PWY0-845', 'PWY0-862', 'PWY1G-0', 'PWY490-3', 'PWY4FS-7', 'PWY4FS-8', 'PWYG-321', 'PYRIDNUCSAL-PWY', 'PYRIDNUCSYN-PWY', 'PYRIDOXSYN-PWY', 'REDCITCYC', 'RHAMCAT-PWY', 'RIBOSYN2-PWY', 'RUMP-PWY', 'SALVADEHYPOX-PWY', 'SER-GLYSYN-PWY', 'SO4ASSIM-PWY', 'SULFATE-CYS-PWY', 'TCA', 'TCA-GLYOX-BYPASS', 'TEICHOICACID-PWY', 'THISYN-PWY', 'THREOCAT-PWY', 'THRESYN-PWY', 'TRNA-CHARGING-PWY', 'TRPSYN-PWY', 'TYRFUMCAT-PWY', 'UBISYN-PWY', 'UDPNAGSYN-PWY', 'VALDEG-PWY', 'VALSYN-PWY', 'g__Methanobrevibacter_A', 'g__Methanosphaera', 'g__UBA71', 'g__Actinomyces', 'g__Actinotignum', 'g__Pauljensenia', 'g__Peptidiphaga', 'g__Varibaculum', 'g__Winkia', 'g__Alloscardovia', 'g__Bifidobacterium_388775', 'g__Scardovia', 'g__Rothia', 'g__Specibacter', 'g__Corynebacterium', 'g__Lawsonella', 'g__Atopobium', 'g__Lancefieldella', 'g__Olegusella', 'g__Parolsenella', 'g__Thermophilibacter', 'g__UBA1367', 'g__Collinsella', 'g__Adlercreutzia_404199', 'g__Adlercreutzia_404218', 'g__Adlercreutzia_404257', 'g__CAG-1427', 'g__Cryptobacterium', 'g__Eggerthella', 'g__Ellagibacter', 'g__Gordonibacter', 'g__Paraeggerthella', 'g__Raoultibacter', 'g__Senegalimassilia', 'g__Slackia_A', 'g__QAMH01', 'g__Alloprevotella', 'g__Bacteroides_H', 'g__Paraprevotella', 'g__Phocaeicola_A_858004', 'g__Prevotella', 'g__Barnesiella', 'g__CABJAA01', 'g__Coprobacter', 'g__Dysgonomonas', 'g__Seramator', 'g__Butyricimonas', 'g__Gabonibacter', 'g__Odoribacter_865974', 'g__CAG-485', 'g__Limisoma', 'g__Muribaculum', 'g__Paramuribaculum', 'g__UBA3263', 'g__Porphyromonas_A_859424', 'g__Porphyromonas_A_859426', 'g__Alistipes_A_871400', 'g__Alistipes_A_871404', 'g__Tidjanibacter', 'g__Parabacteroides_B_862066', 'g__UBA11471', 'g__Coprenecus', 'g__Cryptobacteroides', 'g__Campylobacter_B', 'g__Helicobacter_D', 'g__SIO2C1', 'f__Gastranaerophilaceae', 'g__CAG-196', 'g__Limenecus', 'g__Stercorousia', 'g__UBA2813', 'g__UBA6984', 'g__Zag111', 'g__Desulfovibrio_R_446353', 'g__Mailhella', 'g__Nitratidesulfovibrio', 'g__UBA1436', 'c__Clostridia_258483', 'f__DSM-8532', 'o__Christensenellales', 'g__Borkfalkia', 'g__UBA1259', 'f__CAG-138', 'g__Aphodomorpha', 'g__CAG-1024', 'g__PeH17', 'g__CAG-314', 'f__CAG-552', 'f__CAG-74', 'g__Limiplasma', 'g__Onthenecus', 'g__SFMI01', 'g__CAG-349', 'g__CAG-475', 'f__Christensenellaceae', 'g__Christensenella', 'g__GCA-900066905', 'g__MARSEILLE-P3954', 'g__Clostridium_P', 'g__Clostridium_T', 'f__Anaerofustaceae', 'g__Anaerofustis', 'g__Eubacterium_O_258270', 'g__Ructibacterium', 'o__Lachnospirales', 'f__Anaerotignaceae', 'g__Anaerotignum_189125', 'g__Anaerotignum_189163', 'g__CAG-274', 'f__Cellulosilyticaceae', 'f__Lachnospiraceae', 'g__Acetatifactor', 'g__AF33-28', 'g__Agathobacter_164117', 'g__AM51-8', 'g__Anaerobutyricum', 'g__Anaerostipes', 'g__Bacteroides_F', 'g__Bariatricus', 'g__Blautia_A_141780', 'g__Blautia_A_141781', 'g__Butyribacter', 'g__Butyrivibrio_A_180067', 'g__CAG-127', 'g__CAG-194', 'g__CAG-317_146760', 'g__CAG-45', 'g__CAG-632', 'g__CAG-95', 'g__Catenibacillus', 'g__Choladousia', 'g__Clostridium_AP', 'g__Clostridium_N_143832', 'g__Clostridium_Q_134516', 'g__Clostridium_Q_135822', 'g__Clostridium_Q_135853', 'g__COE1', 'g__Coprococcus_A_121497', 'g__Coprococcus_A_187866', 'g__Copromonas', 'g__Cuneatibacter', 'g__Dorea_A', 'g__Eisenbergiella', 'g__Enterocloster', 'g__Eubacterium_F', 'g__Eubacterium_G', 'g__Eubacterium_I', 'g__Eubacterium_J', 'g__Extibacter', 'g__Faecalimonas', 'g__Fimimorpha', 'g__Frisingicoccus', 'g__Fusicatenibacter', 'g__G11', 'g__Howardella', 'g__Hungatella_A_127239', 'g__Hungatella_A_128155', 'g__Johnsonella', 'g__Kineothrix', 'g__Lachnoanaerobaculum', 'g__Lachnoclostridium_A_130679', 'g__Lachnoclostridium_B', 'g__Lachnospira', 'g__Lactonifactor', 'g__Limivivens', 'g__Marvinbryantia', 'g__Massilistercora', 'g__Mediterraneibacter_A_155507', 'g__Mediterraneibacter_A_155590', 'g__Merdimonas', 'g__Merdisoma', 'g__Muricomes_149725', 'g__Oliverpabstia', 'g__Oribacterium', 'g__Paralachnospira', 'g__Porcincola', 'g__Roseburia', 'g__RUG115', 'g__Ruminococcus_B', 'g__Ruminococcus_G', 'g__Scatomonas', 'g__Schaedlerella', 'g__Sellimonas', 'g__UBA3282', 'g__UBA3402', 'g__UBA9414', 'g__UMGS1375', 'g__Velocimicrobium', 'g__Ventrimonas', 'g__Ventrisoma', 'g__VUNI01', 'g__Monoglobus', 'o__Oscillospirales', 'f__Acutalibacteraceae', 'g__Acutalibacter', 'g__Anaeromassilibacillus', 'g__Caccousia', 'g__CAG-177', 'g__CAG-217', 'g__CAG-488', 'g__CAG-964', 'g__Caproicibacterium', 'g__Caproiciproducens', 'g__Clostridium_A', 'g__Clostridium_E', 'g__Eubacterium_R', 'g__Fimenecus', 'g__Hydrogeniiclostridium', 'g__Limousia', 'g__Pseudoruminococcus_A', 'g__RUG762', 'g__Ruminococcus_E', 'g__Solibaculum', 'g__UBA1417', 'g__UBA5905', 'g__UBA737', 'g__UMGS1071', 'f__Butyricicoccaceae', 'g__Agathobaculum', 'g__Butyricicoccus_A_77030', 'g__Butyricicoccus_A_77419', 'g__Pseudobutyricicoccus', 'g__Avispirillum', 'g__QALR01', 'g__RUG13077', 'g__SFLA01', 'f__Ethanoligenenaceae', 'f__Oscillospiraceae_88309', 'g__CAG-83', 'g__Dysosmobacter', 'g__Enterenecus', 'g__ER4', 'g__Evtepia', 'g__Faecousia', 'g__Intestinimonas', 'g__Lawsonibacter', 'g__Limivicinus', 'g__Marseille-P3106', 'g__Onthomonas', 'g__Pseudoflavonifractor_80958', 'g__UBA2658', 'g__Vescimonas', 'g__WQUU01', 'g__WRMH01', 'f__QAKW01', 'g__QAKW01', 'f__Ruminococcaceae', 'g__Acetanaerobacterium', 'g__Anaerofilum_74150', 'g__Anaerotruncus', 'g__Angelakisella', 'g__Bittarella', 'g__CAG-353', 'g__Faecalibacterium', 'g__Fimivivens', 'g__Gemmiger_A_73129', 'g__Harryflintia', 'g__Hydrogenoanaerobacterium', 'g__Marseille-P2935', 'g__Massiliimalia_59888', 'g__Massiliimalia_59910', 'g__Massilioclostridium', 'g__Negativibacillus', 'g__Neobittarella', 'g__Paludicola', 'g__Phocea', 'g__Pygmaiobacter', 'g__QAMM01', 'g__Ruminiclostridium_E', 'g__Ruminococcus_C_58660', 'g__Ruminococcus_C_59129', 'g__Ruminococcus_D', 'g__Ruthenibacterium', 'g__Soleaferrea', 'g__UBA1394', 'g__UBA644', 'g__WRAI01', 'o__Peptostreptococcales', 'f__Anaerovoracaceae', 'g__Alterileibacterium', 'g__BX12', 'g__Copromorpha', 'g__Emergencia', 'g__Eubacterium_M', 'g__Eubacterium_N', 'g__Hornefia', 'g__Mogibacterium', 'g__S5-A14a', 'g__VUNA01', 'f__Peptostreptococcaceae_256921', 'g__CCUG-7971', 'g__GCA-900066495', 'g__Intestinibacter', 'g__Paraclostridium', 'g__Peptacetobacter', 'g__Peptostreptococcus', 'g__Romboutsia_B', 'g__Romboutsia_D', 'g__Terrisporobacter', 'g__SFGY01', 'g__Fastidiosipila', 'f__CAG-508', 'g__CAG-269', 'g__CAG-273', 'g__CAG-793', 'g__Merdicola', 'g__Anaerococcus', 'g__Ezakiella', 'g__Fenollaria', 'g__Finegoldia', 'g__Murdochiella_225299', 'g__Parvimonas', 'g__Peptoniphilus_A', 'g__Peptoniphilus_B_226777', 'g__Peptoniphilus_C', 'g__Urinicoccus', 'g__CAG-41', 'f__Dehalobacteriaceae', 'g__BICA1-8', 'g__Peptococcus', 'g__Acidaminococcus', 'g__Phascolarctobacterium_A', 'g__Massilibacillus', 'g__Anaerovibrio', 'g__Mitsuokella', 'g__Allisonella', 'g__Dialister', 'g__UBA5809', 'g__Caecibacter', 'g__Megasphaera_A_38685', 'g__Negativicoccus', 'g__Veillonella_A', 'f__Anoxybacillaceae', 'g__Bacillus_P_294101', 'g__Bacillus_A', 'g__Sporolactobacillus', 'f__Coprobacillaceae', 'g__Beduini', 'g__Catenibacterium', 'g__Coprobacillus', 'g__Erysipelatoclostridium', 'g__Faecalibacillus', 'g__Fimiplasma', 'g__Longibaculum', 'g__Stoquefichus', 'g__Absicoccus', 'g__Allobaculum', 'g__Amedibacillus', 'g__Amedibacterium', 'g__Bulleidia', 'g__Clostridium_AQ', 'g__Dielma', 'g__Dubosiella', 'g__Faecalicoccus', 'g__Faecalitalea', 'g__Holdemanella', 'g__Holdemania', 'g__Longicatena', 'g__Massilicoli', 'g__Merdibacter', 'g__NSJ-61', 'g__Traorella', 'g__Turicibacter', 'g__Abiotrophia', 'g__Facklamia_A_322620', 'g__Facklamia_A_322655', 'g__Granulicatella', 'g__Enterococcus_A', 'g__Enterococcus_E', 'g__Enterococcus_H_360604', 'g__Companilactobacillus', 'g__Dellaglioa', 'g__Fructilactobacillus', 'g__Lacticaseibacillus', 'g__Lactiplantibacillus', 'g__Lactobacillus', 'g__Latilactobacillus', 'g__Leuconostoc_B', 'g__Ligilactobacillus', 'g__Limosilactobacillus', 'g__Pediococcus', 'g__Weissella_A_338544', 'g__Weissella_A_338546', 'g__Lactococcus_A_343473', 'g__Lactococcus_A_346120', 'g__Streptococcus', 'g__CAG-313', 'f__UBA660', 'g__CAG-302', 'g__CAG-417', 'g__Coprosoma', 'g__Onthocola_B', 'g__RUG13038', 'g__Scybalousia', 'g__UBA3789', 'g__UBA6985', 'g__UMGS1449', 'g__UMGS872', 'g__CAG-345', 'g__Scatoplasma', 'g__Gemella', 'g__Staphylococcus', 'g__DTU012', 'g__DTU014', 'g__Cetobacterium_A', 'g__Fusobacterium_A', 'g__Fusobacterium_B', 'g__Fusobacterium_C', 'g__GWA2-37-10', 'g__Nanogingivalis', 'g__Nanosynbacter', 'g__Saccharimonas', 'f__CAG-239', 'g__51-20', 'g__CAG-267', 'g__CAJLXD01', 'g__Scatocola', 'g__CAG-977', 'g__UBA2903', 'g__Methylobacterium', 'g__Blastomonas', 'g__Comamonas_F_589250', 'g__Oxalobacter_566322', 'g__Duodenibacillus', 'g__Mesosutterella', 'g__Parasutterella', 'g__Sutterella', 'g__Neisseria_563205', 'g__Citrobacter_A_692098', 'g__Enterobacter_B_713587', 'g__Escherichia_710834', 'g__Hafnia', 'g__Klebsiella_724518', 'g__Kluyvera_724999', 'g__Kosakonia_683478', 'g__Pantoea_A_680430', 'g__Providencia_A_732258', 'g__Yersinia', 'g__Haemophilus_D_735815', 'g__Mesocricetibacter', 'g__Rodentibacter_A_734545', 'g__Succinivibrio', 'g__Pseudomonas_E_647464', 'g__Pseudomonas_E_650326', 'g__Pseudomonas_F', 'g__Pseudoxanthomonas_A_615336', 'g__Cloacibacillus', 'g__UBA11452', 'g__UBA1732', 'g__Victivallis', 'g__Merdousia', 'g__QALA01', 'g__Akkermansia', 'proton', 'Diacetyl', 'Butyrate', 'Formate', 'acetone', 'X2.methylbutyrate', 'Valeric.Acid', 'Methane', 'X1.4.Dihydroxy.2.naphthoate', 'X2.Oxoglutarate', 'Pyruvate', 'D.lactate', 'L.lactate', 'laurate', 'Phenol', 'L.Carnitine', 'Isopropanol', 'p.Cresol', 'O2', 'X1.Propanol', 'butanol', 'Propanal', 'X4.hydroxyphenylacetate', 'X.S..propane.1.2.diol', 'Propane.1.3.diol', 'R_R__2_3_Butanediol', 'Oxaloacetate', 'sulfate', 'octadecenoate..n.C18.1.', 'o.Succinylbenzoate', 'Thymidine', 'Reduced.riboflavin', 'Riboflavin', 'X2.Hydroxyphenylacetate', 'Sulfite', 'thiosulfate.2..', 'X.3.4.dihydroxyphenyl.acetate', 'Diphosphate', 'trimethylamine', 'glycine.betaine', 'Choline', 'Trimethylamine.N.oxide', 'Isochorismate', 'Inosine', 'xanthosine', 'Hypoxanthine', 'Xanthine', 'uracil', 'Uridine', 'Methanethiol', 'keto.phenylpyruvate', 'D.Arabinose', 'D.Galactose', 'Nicotinate', 'chorismate', 'tetradecanoate..n.C14.0.', 'oxalate.2..', 'X.R..3.hydroxybutyrate', 'Hydrogen.peroxide', 'Hydrogen.sulfide', 'X4.hydroxybenzoate', 'Hexadecanoate..n.C16.0.', 'octadecanoate..n.C18.0.', 'D.Fructose', 'D.ribose', 'myo.inositol', 'D.Mannitol', 'Citrate', 'Menaquinone.8', 'Glycerol', 'D.Mannose', 'X2.Oxobutanoate', 'Fumarate', 'L.malate', 'X.R..Acetoin', 'formaldehyde', 'Ethanol', 'Acetoacetate', 'methanol', 'Acetaldehyde', 'X3.methyl.2.oxopentanoate', 'Isovalerate..3.Methylbutanoate', 'phenylacetate', 'Succinate', 'Isobutyrate..2.Methylpropanoate', 'Isocaproate', 'Water', 'Hydrogen', 'Propionate', 'Acetate', 'Carbon.dioxide']\n",
      "X train values: 0     -4.399845\n",
      "1     -2.018486\n",
      "2     -6.350292\n",
      "3     -7.348196\n",
      "4     -5.715263\n",
      "         ...   \n",
      "229   -2.449399\n",
      "230   -1.270059\n",
      "231   -6.032779\n",
      "232    1.315417\n",
      "233   -2.449399\n",
      "Name: Weight, Length: 234, dtype: float64\n",
      "---------- Select predictors for Basic Raw test set ----------\n"
     ]
    }
   ],
   "source": [
    "print(\"---------- Select predictors for Basic training set ----------\")\n",
    "train_set = train\n",
    "X = train_set.drop(['Weight', 'subject_id', 'range'], axis=1)\n",
    "#X = X.drop(columns=['Unnamed: 0_tax', 'x_t'], errors='ignore')\n",
    "Y = train_set[['Weight']]\n",
    "Y = Y['Weight'].to_numpy() # Convert Y to numeric array\n",
    "clusters_train = train_set['subject_id'].to_numpy() # Get ID variables\n",
    "Z = np.ones((train_set.shape[0], 1)) # Create random effects matrix with ones\n",
    "time = train_set['range'].astype(float).to_numpy() # Get time values as numeric array \n",
    "\n",
    "# Check the final columns\n",
    "print(\"Final columns after drop:\", X.columns.to_list())\n",
    "print(\"X train values:\", train_set['Weight'])\n",
    "\n",
    "print(\"---------- Select predictors for Basic Raw test set ----------\")\n",
    "test_set = test\n",
    "X_new = test_set.drop(['Weight', 'subject_id', 'range'], axis=1)\n",
    "X_new = X_new[X.columns]  # Reorder and select columns to match training set\n",
    "X_new = X_new.astype(X.dtypes)  # Ensure data types match\n",
    "\n",
    "Y_new = test_set['Weight'].to_numpy()  # Convert Y to numeric array\n",
    "clusters_new = pd.Series(test_set['subject_id'])  # Convert to pandas Series\n",
    "# Create random effects matrix with ones\n",
    "Z_new = np.ones((len(X_new), 1))\n",
    "time_new = test_set['range'].astype(float).to_numpy()  # Convert time values to numeric array"
   ]
  },
  {
   "cell_type": "code",
   "execution_count": 16,
   "metadata": {},
   "outputs": [
    {
     "name": "stdout",
     "output_type": "stream",
     "text": [
      "---------- MERF with finetuning RE 🌱 ----------\n",
      "---------- Select predictors for Basic Raw training set ----------\n",
      "X dimensions: (234, 907)\n",
      "y dimensions: (234,)\n",
      "clusters dimensions: (234,)\n",
      "z dimensions: (234, 1)\n",
      "Combination: (100, None, 0.05, 2, 3)\n",
      "\n"
     ]
    },
    {
     "name": "stderr",
     "output_type": "stream",
     "text": [
      "INFO     [merf.py:307] Training GLL is 368.90084610940926 at iteration 1.\n",
      "INFO     [merf.py:307] Training GLL is 418.4309470958252 at iteration 2.\n"
     ]
    },
    {
     "name": "stdout",
     "output_type": "stream",
     "text": [
      "Combination, ptev: 0.0812, prev: 0.9188, OOB Score: 52.0000\n"
     ]
    },
    {
     "name": "stderr",
     "output_type": "stream",
     "text": [
      "INFO     [merf.py:307] Training GLL is 499.00929368978603 at iteration 1.\n",
      "INFO     [merf.py:307] Training GLL is 550.6130164374431 at iteration 2.\n"
     ]
    },
    {
     "name": "stdout",
     "output_type": "stream",
     "text": [
      "Combination, ptev: 0.1497, prev: 0.8503, OOB Score: 33.4000\n"
     ]
    },
    {
     "name": "stderr",
     "output_type": "stream",
     "text": [
      "INFO     [merf.py:307] Training GLL is 498.38965005368675 at iteration 1.\n",
      "INFO     [merf.py:307] Training GLL is 579.8603031617288 at iteration 2.\n"
     ]
    },
    {
     "name": "stdout",
     "output_type": "stream",
     "text": [
      "Combination, ptev: 0.0702, prev: 0.9298, OOB Score: 31.9000\n",
      "Combination: (100, None, 0.05, 2, 5)\n",
      "\n"
     ]
    },
    {
     "name": "stderr",
     "output_type": "stream",
     "text": [
      "INFO     [merf.py:307] Training GLL is 563.4815201479685 at iteration 1.\n",
      "INFO     [merf.py:307] Training GLL is 593.5963912322987 at iteration 2.\n"
     ]
    },
    {
     "name": "stdout",
     "output_type": "stream",
     "text": [
      "Combination, ptev: -0.0548, prev: 1.0548, OOB Score: 36.4000\n"
     ]
    },
    {
     "name": "stderr",
     "output_type": "stream",
     "text": [
      "INFO     [merf.py:307] Training GLL is 561.9077459884177 at iteration 1.\n",
      "INFO     [merf.py:307] Training GLL is 616.4655618082152 at iteration 2.\n"
     ]
    },
    {
     "name": "stdout",
     "output_type": "stream",
     "text": [
      "Combination, ptev: -0.0119, prev: 1.0119, OOB Score: 38.0000\n"
     ]
    },
    {
     "name": "stderr",
     "output_type": "stream",
     "text": [
      "INFO     [merf.py:307] Training GLL is 581.0133893498815 at iteration 1.\n",
      "INFO     [merf.py:307] Training GLL is 634.4000015251889 at iteration 2.\n"
     ]
    },
    {
     "name": "stdout",
     "output_type": "stream",
     "text": [
      "Combination, ptev: 0.0394, prev: 0.9606, OOB Score: 38.9000\n"
     ]
    },
    {
     "name": "stderr",
     "output_type": "stream",
     "text": [
      "INFO     [merf.py:307] Training GLL is 625.7589454489694 at iteration 1.\n",
      "INFO     [merf.py:307] Training GLL is 663.8057410463133 at iteration 2.\n"
     ]
    },
    {
     "name": "stdout",
     "output_type": "stream",
     "text": [
      "Combination, ptev: 0.1163, prev: 0.8837, OOB Score: 33.8000\n"
     ]
    },
    {
     "name": "stderr",
     "output_type": "stream",
     "text": [
      "INFO     [merf.py:307] Training GLL is 616.1878237122185 at iteration 1.\n",
      "INFO     [merf.py:307] Training GLL is 675.5048625076787 at iteration 2.\n"
     ]
    },
    {
     "name": "stdout",
     "output_type": "stream",
     "text": [
      "Combination, ptev: -0.1757, prev: 1.1757, OOB Score: 32.0000\n",
      "Combination: (100, None, 0.05, 2, 10)\n",
      "\n"
     ]
    },
    {
     "name": "stderr",
     "output_type": "stream",
     "text": [
      "INFO     [merf.py:307] Training GLL is 616.195569943369 at iteration 1.\n",
      "INFO     [merf.py:307] Training GLL is 662.5614043380208 at iteration 2.\n"
     ]
    },
    {
     "name": "stdout",
     "output_type": "stream",
     "text": [
      "Combination, ptev: 0.0421, prev: 0.9579, OOB Score: 38.8000\n"
     ]
    },
    {
     "name": "stderr",
     "output_type": "stream",
     "text": [
      "INFO     [merf.py:307] Training GLL is 678.418398756107 at iteration 1.\n",
      "INFO     [merf.py:307] Training GLL is 696.504201270236 at iteration 2.\n"
     ]
    },
    {
     "name": "stdout",
     "output_type": "stream",
     "text": [
      "Combination, ptev: -0.2042, prev: 1.2042, OOB Score: 33.1000\n"
     ]
    },
    {
     "name": "stderr",
     "output_type": "stream",
     "text": [
      "INFO     [merf.py:307] Training GLL is 638.5587262976649 at iteration 1.\n",
      "INFO     [merf.py:307] Training GLL is 678.1513231956667 at iteration 2.\n"
     ]
    },
    {
     "name": "stdout",
     "output_type": "stream",
     "text": [
      "Combination, ptev: -0.1287, prev: 1.1287, OOB Score: 39.0000\n"
     ]
    },
    {
     "name": "stderr",
     "output_type": "stream",
     "text": [
      "INFO     [merf.py:307] Training GLL is 678.0656099577695 at iteration 1.\n",
      "INFO     [merf.py:307] Training GLL is 720.531677348281 at iteration 2.\n"
     ]
    },
    {
     "name": "stdout",
     "output_type": "stream",
     "text": [
      "Combination, ptev: -0.1616, prev: 1.1616, OOB Score: 37.8000\n"
     ]
    },
    {
     "name": "stderr",
     "output_type": "stream",
     "text": [
      "INFO     [merf.py:307] Training GLL is 666.9178155013219 at iteration 1.\n",
      "INFO     [merf.py:307] Training GLL is 693.6588214596866 at iteration 2.\n"
     ]
    },
    {
     "name": "stdout",
     "output_type": "stream",
     "text": [
      "Combination, ptev: -0.1054, prev: 1.1054, OOB Score: 38.3000\n"
     ]
    },
    {
     "name": "stderr",
     "output_type": "stream",
     "text": [
      "INFO     [merf.py:307] Training GLL is 650.1191503426967 at iteration 1.\n",
      "INFO     [merf.py:307] Training GLL is 705.2972364566613 at iteration 2.\n"
     ]
    },
    {
     "name": "stdout",
     "output_type": "stream",
     "text": [
      "Combination, ptev: -0.0908, prev: 1.0908, OOB Score: 35.2000\n"
     ]
    },
    {
     "name": "stderr",
     "output_type": "stream",
     "text": [
      "INFO     [merf.py:307] Training GLL is 678.3083315315805 at iteration 1.\n",
      "INFO     [merf.py:307] Training GLL is 705.5951037976491 at iteration 2.\n"
     ]
    },
    {
     "name": "stdout",
     "output_type": "stream",
     "text": [
      "Combination, ptev: -0.0242, prev: 1.0242, OOB Score: 30.9000\n"
     ]
    },
    {
     "name": "stderr",
     "output_type": "stream",
     "text": [
      "INFO     [merf.py:307] Training GLL is 668.5253299006694 at iteration 1.\n",
      "INFO     [merf.py:307] Training GLL is 725.9979159335455 at iteration 2.\n"
     ]
    },
    {
     "name": "stdout",
     "output_type": "stream",
     "text": [
      "Combination, ptev: -0.2519, prev: 1.2519, OOB Score: 38.2000\n"
     ]
    },
    {
     "name": "stderr",
     "output_type": "stream",
     "text": [
      "INFO     [merf.py:307] Training GLL is 660.0834018851723 at iteration 1.\n",
      "INFO     [merf.py:307] Training GLL is 701.5349685600695 at iteration 2.\n"
     ]
    },
    {
     "name": "stdout",
     "output_type": "stream",
     "text": [
      "Combination, ptev: -0.5501, prev: 1.5501, OOB Score: 39.5000\n"
     ]
    },
    {
     "name": "stderr",
     "output_type": "stream",
     "text": [
      "INFO     [merf.py:307] Training GLL is 697.2708207212056 at iteration 1.\n",
      "INFO     [merf.py:307] Training GLL is 735.468844858749 at iteration 2.\n"
     ]
    },
    {
     "name": "stdout",
     "output_type": "stream",
     "text": [
      "Combination, ptev: -0.4647, prev: 1.4647, OOB Score: 32.3000\n",
      "Combination: (100, None, 0.05, 10, 3)\n",
      "\n"
     ]
    },
    {
     "name": "stderr",
     "output_type": "stream",
     "text": [
      "INFO     [merf.py:307] Training GLL is 385.7613725925233 at iteration 1.\n",
      "INFO     [merf.py:307] Training GLL is 425.01428111864453 at iteration 2.\n",
      "INFO     [merf.py:307] Training GLL is 405.3546555911456 at iteration 3.\n",
      "INFO     [merf.py:307] Training GLL is 419.86668029607404 at iteration 4.\n",
      "INFO     [merf.py:307] Training GLL is 400.5561473349135 at iteration 5.\n",
      "INFO     [merf.py:307] Training GLL is 409.6506038864081 at iteration 6.\n",
      "INFO     [merf.py:307] Training GLL is 417.38704402772674 at iteration 7.\n",
      "INFO     [merf.py:307] Training GLL is 404.7966845613644 at iteration 8.\n",
      "INFO     [merf.py:307] Training GLL is 402.4344171597739 at iteration 9.\n",
      "INFO     [merf.py:307] Training GLL is 383.20984486853763 at iteration 10.\n"
     ]
    },
    {
     "name": "stdout",
     "output_type": "stream",
     "text": [
      "Combination, ptev: 0.0651, prev: 0.9349, OOB Score: 52.2000\n"
     ]
    },
    {
     "name": "stderr",
     "output_type": "stream",
     "text": [
      "INFO     [merf.py:307] Training GLL is 478.16943065917206 at iteration 1.\n",
      "INFO     [merf.py:307] Training GLL is 547.8324722880096 at iteration 2.\n",
      "INFO     [merf.py:307] Training GLL is 564.4695167536667 at iteration 3.\n",
      "INFO     [merf.py:307] Training GLL is 546.4836547226447 at iteration 4.\n",
      "INFO     [merf.py:307] Training GLL is 535.8823610052194 at iteration 5.\n",
      "INFO     [merf.py:307] Training GLL is 547.0168969917972 at iteration 6.\n",
      "INFO     [merf.py:307] Training GLL is 550.8424552176131 at iteration 7.\n",
      "INFO     [merf.py:307] Training GLL is 556.6478929739194 at iteration 8.\n",
      "INFO     [merf.py:307] Training GLL is 560.3015787762791 at iteration 9.\n",
      "INFO     [merf.py:307] Training GLL is 549.2887505573493 at iteration 10.\n"
     ]
    },
    {
     "name": "stdout",
     "output_type": "stream",
     "text": [
      "Combination, ptev: 0.1679, prev: 0.8321, OOB Score: 28.0000\n"
     ]
    },
    {
     "name": "stderr",
     "output_type": "stream",
     "text": [
      "INFO     [merf.py:307] Training GLL is 499.8927121835631 at iteration 1.\n",
      "INFO     [merf.py:307] Training GLL is 563.4934207183239 at iteration 2.\n",
      "INFO     [merf.py:307] Training GLL is 584.6139471436691 at iteration 3.\n",
      "INFO     [merf.py:307] Training GLL is 596.044133583048 at iteration 4.\n",
      "INFO     [merf.py:307] Training GLL is 591.1893137899503 at iteration 5.\n",
      "INFO     [merf.py:307] Training GLL is 594.8428756403582 at iteration 6.\n",
      "INFO     [merf.py:307] Training GLL is 596.6443955000229 at iteration 7.\n",
      "INFO     [merf.py:307] Training GLL is 597.081448199201 at iteration 8.\n",
      "INFO     [merf.py:307] Training GLL is 598.4025153805331 at iteration 9.\n",
      "INFO     [merf.py:307] Training GLL is 607.805939210357 at iteration 10.\n"
     ]
    },
    {
     "name": "stdout",
     "output_type": "stream",
     "text": [
      "Combination, ptev: 0.0088, prev: 0.9912, OOB Score: 38.3000\n",
      "Combination: (100, None, 0.05, 10, 5)\n",
      "\n"
     ]
    },
    {
     "name": "stderr",
     "output_type": "stream",
     "text": [
      "INFO     [merf.py:307] Training GLL is 565.9478684339987 at iteration 1.\n",
      "INFO     [merf.py:307] Training GLL is 606.7832324594733 at iteration 2.\n",
      "INFO     [merf.py:307] Training GLL is 588.5935952923529 at iteration 3.\n",
      "INFO     [merf.py:307] Training GLL is 566.6536640174203 at iteration 4.\n",
      "INFO     [merf.py:307] Training GLL is 568.462423623067 at iteration 5.\n",
      "INFO     [merf.py:307] Training GLL is 572.9048715109465 at iteration 6.\n",
      "INFO     [merf.py:307] Training GLL is 555.7560658336115 at iteration 7.\n",
      "INFO     [merf.py:307] Training GLL is 559.0494115387253 at iteration 8.\n",
      "INFO     [merf.py:307] Training GLL is 556.0410825144276 at iteration 9.\n",
      "INFO     [merf.py:307] Training GLL is 545.4556287754147 at iteration 10.\n"
     ]
    },
    {
     "name": "stdout",
     "output_type": "stream",
     "text": [
      "Combination, ptev: 0.0717, prev: 0.9283, OOB Score: 31.9000\n"
     ]
    },
    {
     "name": "stderr",
     "output_type": "stream",
     "text": [
      "INFO     [merf.py:307] Training GLL is 576.9686007835437 at iteration 1.\n",
      "INFO     [merf.py:307] Training GLL is 635.4573365572778 at iteration 2.\n",
      "INFO     [merf.py:307] Training GLL is 615.405209852438 at iteration 3.\n",
      "INFO     [merf.py:307] Training GLL is 614.9815498511435 at iteration 4.\n",
      "INFO     [merf.py:307] Training GLL is 611.4603647972157 at iteration 5.\n",
      "INFO     [merf.py:307] Training GLL is 618.1058431172438 at iteration 6.\n",
      "INFO     [merf.py:307] Training GLL is 613.1055792427619 at iteration 7.\n",
      "INFO     [merf.py:307] Training GLL is 617.1000130178029 at iteration 8.\n",
      "INFO     [merf.py:307] Training GLL is 622.091945866198 at iteration 9.\n",
      "INFO     [merf.py:307] Training GLL is 622.3865679220124 at iteration 10.\n"
     ]
    },
    {
     "name": "stdout",
     "output_type": "stream",
     "text": [
      "Combination, ptev: 0.0396, prev: 0.9604, OOB Score: 37.9000\n"
     ]
    },
    {
     "name": "stderr",
     "output_type": "stream",
     "text": [
      "INFO     [merf.py:307] Training GLL is 577.9851450854844 at iteration 1.\n",
      "INFO     [merf.py:307] Training GLL is 624.5596347302037 at iteration 2.\n",
      "INFO     [merf.py:307] Training GLL is 635.0339326739185 at iteration 3.\n",
      "INFO     [merf.py:307] Training GLL is 620.5884838682301 at iteration 4.\n",
      "INFO     [merf.py:307] Training GLL is 630.9710238946934 at iteration 5.\n",
      "INFO     [merf.py:307] Training GLL is 618.2432310573462 at iteration 6.\n",
      "INFO     [merf.py:307] Training GLL is 611.7645623139812 at iteration 7.\n",
      "INFO     [merf.py:307] Training GLL is 624.7019327157205 at iteration 8.\n",
      "INFO     [merf.py:307] Training GLL is 622.498076755943 at iteration 9.\n",
      "INFO     [merf.py:307] Training GLL is 626.6912515395314 at iteration 10.\n"
     ]
    },
    {
     "name": "stdout",
     "output_type": "stream",
     "text": [
      "Combination, ptev: 0.0647, prev: 0.9353, OOB Score: 35.2000\n"
     ]
    },
    {
     "name": "stderr",
     "output_type": "stream",
     "text": [
      "INFO     [merf.py:307] Training GLL is 611.1216198450459 at iteration 1.\n",
      "INFO     [merf.py:307] Training GLL is 664.7609313249981 at iteration 2.\n",
      "INFO     [merf.py:307] Training GLL is 658.5027380166459 at iteration 3.\n",
      "INFO     [merf.py:307] Training GLL is 645.3028258370068 at iteration 4.\n",
      "INFO     [merf.py:307] Training GLL is 635.4519732628527 at iteration 5.\n",
      "INFO     [merf.py:307] Training GLL is 644.7622852569092 at iteration 6.\n",
      "INFO     [merf.py:307] Training GLL is 637.380630188984 at iteration 7.\n",
      "INFO     [merf.py:307] Training GLL is 627.2576249363791 at iteration 8.\n",
      "INFO     [merf.py:307] Training GLL is 632.3321347149122 at iteration 9.\n",
      "INFO     [merf.py:307] Training GLL is 634.1172978583727 at iteration 10.\n"
     ]
    },
    {
     "name": "stdout",
     "output_type": "stream",
     "text": [
      "Combination, ptev: 0.1287, prev: 0.8713, OOB Score: 31.7000\n"
     ]
    },
    {
     "name": "stderr",
     "output_type": "stream",
     "text": [
      "INFO     [merf.py:307] Training GLL is 631.2057882459155 at iteration 1.\n",
      "INFO     [merf.py:307] Training GLL is 670.8562824782538 at iteration 2.\n",
      "INFO     [merf.py:307] Training GLL is 678.4068970643038 at iteration 3.\n",
      "INFO     [merf.py:307] Training GLL is 676.2657595851515 at iteration 4.\n",
      "INFO     [merf.py:307] Training GLL is 667.3049311086548 at iteration 5.\n",
      "INFO     [merf.py:307] Training GLL is 651.2536971841594 at iteration 6.\n",
      "INFO     [merf.py:307] Training GLL is 655.163543465097 at iteration 7.\n",
      "INFO     [merf.py:307] Training GLL is 663.3421002492179 at iteration 8.\n",
      "INFO     [merf.py:307] Training GLL is 665.1162902320808 at iteration 9.\n",
      "INFO     [merf.py:307] Training GLL is 660.3878389026335 at iteration 10.\n"
     ]
    },
    {
     "name": "stdout",
     "output_type": "stream",
     "text": [
      "Combination, ptev: -0.1442, prev: 1.1442, OOB Score: 31.9000\n",
      "Combination: (100, None, 0.05, 10, 10)\n",
      "\n"
     ]
    },
    {
     "name": "stderr",
     "output_type": "stream",
     "text": [
      "INFO     [merf.py:307] Training GLL is 622.1422369487923 at iteration 1.\n",
      "INFO     [merf.py:307] Training GLL is 667.5821206127011 at iteration 2.\n",
      "INFO     [merf.py:307] Training GLL is 675.1200605214293 at iteration 3.\n",
      "INFO     [merf.py:307] Training GLL is 663.9025185340003 at iteration 4.\n",
      "INFO     [merf.py:307] Training GLL is 671.4950414388436 at iteration 5.\n",
      "INFO     [merf.py:307] Training GLL is 649.5524207093562 at iteration 6.\n",
      "INFO     [merf.py:307] Training GLL is 657.1089473780024 at iteration 7.\n",
      "INFO     [merf.py:307] Training GLL is 650.5417444084311 at iteration 8.\n",
      "INFO     [merf.py:307] Training GLL is 644.432674522772 at iteration 9.\n",
      "INFO     [merf.py:307] Training GLL is 650.6942385569788 at iteration 10.\n"
     ]
    },
    {
     "name": "stdout",
     "output_type": "stream",
     "text": [
      "Combination, ptev: 0.0926, prev: 0.9074, OOB Score: 35.8000\n"
     ]
    },
    {
     "name": "stderr",
     "output_type": "stream",
     "text": [
      "INFO     [merf.py:307] Training GLL is 659.6726340624903 at iteration 1.\n",
      "INFO     [merf.py:307] Training GLL is 692.5152837521429 at iteration 2.\n",
      "INFO     [merf.py:307] Training GLL is 699.427816482253 at iteration 3.\n",
      "INFO     [merf.py:307] Training GLL is 688.8806065102598 at iteration 4.\n",
      "INFO     [merf.py:307] Training GLL is 685.3203268431881 at iteration 5.\n",
      "INFO     [merf.py:307] Training GLL is 660.9715187998434 at iteration 6.\n",
      "INFO     [merf.py:307] Training GLL is 659.185776585289 at iteration 7.\n",
      "INFO     [merf.py:307] Training GLL is 639.9448860450165 at iteration 8.\n",
      "INFO     [merf.py:307] Training GLL is 656.0001352756975 at iteration 9.\n",
      "INFO     [merf.py:307] Training GLL is 644.095009016634 at iteration 10.\n"
     ]
    },
    {
     "name": "stdout",
     "output_type": "stream",
     "text": [
      "Combination, ptev: -0.0687, prev: 1.0687, OOB Score: 31.0000\n"
     ]
    },
    {
     "name": "stderr",
     "output_type": "stream",
     "text": [
      "INFO     [merf.py:307] Training GLL is 646.7812383710316 at iteration 1.\n",
      "INFO     [merf.py:307] Training GLL is 665.2935804533931 at iteration 2.\n",
      "INFO     [merf.py:307] Training GLL is 670.1780560303667 at iteration 3.\n",
      "INFO     [merf.py:307] Training GLL is 651.91617292564 at iteration 4.\n",
      "INFO     [merf.py:307] Training GLL is 651.1131306931973 at iteration 5.\n",
      "INFO     [merf.py:307] Training GLL is 633.4773250965045 at iteration 6.\n",
      "INFO     [merf.py:307] Training GLL is 635.3138302075155 at iteration 7.\n",
      "INFO     [merf.py:307] Training GLL is 626.5114181742947 at iteration 8.\n",
      "INFO     [merf.py:307] Training GLL is 629.9303355818429 at iteration 9.\n",
      "INFO     [merf.py:307] Training GLL is 617.7000629252329 at iteration 10.\n"
     ]
    },
    {
     "name": "stdout",
     "output_type": "stream",
     "text": [
      "Combination, ptev: -0.0551, prev: 1.0551, OOB Score: 35.7000\n"
     ]
    },
    {
     "name": "stderr",
     "output_type": "stream",
     "text": [
      "INFO     [merf.py:307] Training GLL is 688.3714782984902 at iteration 1.\n",
      "INFO     [merf.py:307] Training GLL is 716.3504997338744 at iteration 2.\n",
      "INFO     [merf.py:307] Training GLL is 721.36374063195 at iteration 3.\n",
      "INFO     [merf.py:307] Training GLL is 723.7192215377339 at iteration 4.\n",
      "INFO     [merf.py:307] Training GLL is 727.0490670372488 at iteration 5.\n",
      "INFO     [merf.py:307] Training GLL is 718.7493312541819 at iteration 6.\n",
      "INFO     [merf.py:307] Training GLL is 717.5889639420628 at iteration 7.\n",
      "INFO     [merf.py:307] Training GLL is 721.5516837906771 at iteration 8.\n",
      "INFO     [merf.py:307] Training GLL is 717.5744410087098 at iteration 9.\n",
      "INFO     [merf.py:307] Training GLL is 713.7371866205034 at iteration 10.\n"
     ]
    },
    {
     "name": "stdout",
     "output_type": "stream",
     "text": [
      "Combination, ptev: -0.1062, prev: 1.1062, OOB Score: 35.2000\n"
     ]
    },
    {
     "name": "stderr",
     "output_type": "stream",
     "text": [
      "INFO     [merf.py:307] Training GLL is 666.6331308014096 at iteration 1.\n",
      "INFO     [merf.py:307] Training GLL is 690.3486029571916 at iteration 2.\n",
      "INFO     [merf.py:307] Training GLL is 672.7386143516948 at iteration 3.\n",
      "INFO     [merf.py:307] Training GLL is 673.4290342220471 at iteration 4.\n",
      "INFO     [merf.py:307] Training GLL is 678.2052095161105 at iteration 5.\n",
      "INFO     [merf.py:307] Training GLL is 668.0120328304192 at iteration 6.\n",
      "INFO     [merf.py:307] Training GLL is 655.4310355573758 at iteration 7.\n",
      "INFO     [merf.py:307] Training GLL is 651.1397163086233 at iteration 8.\n",
      "INFO     [merf.py:307] Training GLL is 654.7375627571109 at iteration 9.\n",
      "INFO     [merf.py:307] Training GLL is 654.5714371366917 at iteration 10.\n"
     ]
    },
    {
     "name": "stdout",
     "output_type": "stream",
     "text": [
      "Combination, ptev: -0.0625, prev: 1.0625, OOB Score: 33.9000\n"
     ]
    },
    {
     "name": "stderr",
     "output_type": "stream",
     "text": [
      "INFO     [merf.py:307] Training GLL is 641.6324530526806 at iteration 1.\n",
      "INFO     [merf.py:307] Training GLL is 705.6990072073527 at iteration 2.\n",
      "INFO     [merf.py:307] Training GLL is 704.7430991446117 at iteration 3.\n",
      "INFO     [merf.py:307] Training GLL is 701.0807503087944 at iteration 4.\n",
      "INFO     [merf.py:307] Training GLL is 689.1839482573098 at iteration 5.\n",
      "INFO     [merf.py:307] Training GLL is 694.6387721292616 at iteration 6.\n",
      "INFO     [merf.py:307] Training GLL is 713.4768897937885 at iteration 7.\n",
      "INFO     [merf.py:307] Training GLL is 700.867594090574 at iteration 8.\n",
      "INFO     [merf.py:307] Training GLL is 699.1045124305643 at iteration 9.\n",
      "INFO     [merf.py:307] Training GLL is 692.002559743225 at iteration 10.\n"
     ]
    },
    {
     "name": "stdout",
     "output_type": "stream",
     "text": [
      "Combination, ptev: -0.0534, prev: 1.0534, OOB Score: 34.4000\n"
     ]
    },
    {
     "name": "stderr",
     "output_type": "stream",
     "text": [
      "INFO     [merf.py:307] Training GLL is 697.3338383894888 at iteration 1.\n",
      "INFO     [merf.py:307] Training GLL is 719.8694751756072 at iteration 2.\n",
      "INFO     [merf.py:307] Training GLL is 710.9636640597067 at iteration 3.\n",
      "INFO     [merf.py:307] Training GLL is 703.9194746534286 at iteration 4.\n",
      "INFO     [merf.py:307] Training GLL is 700.4913676563851 at iteration 5.\n",
      "INFO     [merf.py:307] Training GLL is 699.3211800588485 at iteration 6.\n",
      "INFO     [merf.py:307] Training GLL is 682.2067001412948 at iteration 7.\n",
      "INFO     [merf.py:307] Training GLL is 667.0000394878301 at iteration 8.\n",
      "INFO     [merf.py:307] Training GLL is 661.3406374317773 at iteration 9.\n",
      "INFO     [merf.py:307] Training GLL is 665.6042960713958 at iteration 10.\n"
     ]
    },
    {
     "name": "stdout",
     "output_type": "stream",
     "text": [
      "Combination, ptev: 0.0117, prev: 0.9883, OOB Score: 24.7000\n"
     ]
    },
    {
     "name": "stderr",
     "output_type": "stream",
     "text": [
      "INFO     [merf.py:307] Training GLL is 662.5331418707693 at iteration 1.\n",
      "INFO     [merf.py:307] Training GLL is 712.0919309805294 at iteration 2.\n",
      "INFO     [merf.py:307] Training GLL is 722.2445906044893 at iteration 3.\n",
      "INFO     [merf.py:307] Training GLL is 708.6856714956168 at iteration 4.\n",
      "INFO     [merf.py:307] Training GLL is 702.1291498470454 at iteration 5.\n",
      "INFO     [merf.py:307] Training GLL is 695.7203851078931 at iteration 6.\n",
      "INFO     [merf.py:307] Training GLL is 705.0431528784582 at iteration 7.\n",
      "INFO     [merf.py:307] Training GLL is 682.6919693297159 at iteration 8.\n",
      "INFO     [merf.py:307] Training GLL is 694.4950053359821 at iteration 9.\n",
      "INFO     [merf.py:307] Training GLL is 697.7673373427886 at iteration 10.\n"
     ]
    },
    {
     "name": "stdout",
     "output_type": "stream",
     "text": [
      "Combination, ptev: -0.2045, prev: 1.2045, OOB Score: 34.2000\n"
     ]
    },
    {
     "name": "stderr",
     "output_type": "stream",
     "text": [
      "INFO     [merf.py:307] Training GLL is 659.7924631539723 at iteration 1.\n",
      "INFO     [merf.py:307] Training GLL is 709.8125468572813 at iteration 2.\n",
      "INFO     [merf.py:307] Training GLL is 698.9802620486423 at iteration 3.\n",
      "INFO     [merf.py:307] Training GLL is 704.010882828354 at iteration 4.\n",
      "INFO     [merf.py:307] Training GLL is 719.4906424822099 at iteration 5.\n",
      "INFO     [merf.py:307] Training GLL is 714.3650291959119 at iteration 6.\n",
      "INFO     [merf.py:307] Training GLL is 714.8115360231495 at iteration 7.\n",
      "INFO     [merf.py:307] Training GLL is 710.7628950515092 at iteration 8.\n",
      "INFO     [merf.py:307] Training GLL is 722.1810675377905 at iteration 9.\n",
      "INFO     [merf.py:307] Training GLL is 717.6364734162336 at iteration 10.\n"
     ]
    },
    {
     "name": "stdout",
     "output_type": "stream",
     "text": [
      "Combination, ptev: -0.4793, prev: 1.4793, OOB Score: 35.8000\n"
     ]
    },
    {
     "name": "stderr",
     "output_type": "stream",
     "text": [
      "INFO     [merf.py:307] Training GLL is 687.8496479775969 at iteration 1.\n",
      "INFO     [merf.py:307] Training GLL is 731.487935461493 at iteration 2.\n",
      "INFO     [merf.py:307] Training GLL is 718.6805687338061 at iteration 3.\n",
      "INFO     [merf.py:307] Training GLL is 714.2759654625577 at iteration 4.\n",
      "INFO     [merf.py:307] Training GLL is 696.7976364779145 at iteration 5.\n",
      "INFO     [merf.py:307] Training GLL is 720.1709623702197 at iteration 6.\n",
      "INFO     [merf.py:307] Training GLL is 701.5969881441448 at iteration 7.\n",
      "INFO     [merf.py:307] Training GLL is 695.5443885585265 at iteration 8.\n",
      "INFO     [merf.py:307] Training GLL is 693.5560930200497 at iteration 9.\n",
      "INFO     [merf.py:307] Training GLL is 687.3170475482208 at iteration 10.\n"
     ]
    },
    {
     "name": "stdout",
     "output_type": "stream",
     "text": [
      "Combination, ptev: -0.3967, prev: 1.3967, OOB Score: 30.8000\n",
      "Combination: (100, None, 0.1, 2, 3)\n",
      "\n"
     ]
    },
    {
     "name": "stderr",
     "output_type": "stream",
     "text": [
      "INFO     [merf.py:307] Training GLL is 474.34155823316456 at iteration 1.\n",
      "INFO     [merf.py:307] Training GLL is 496.6583423225756 at iteration 2.\n"
     ]
    },
    {
     "name": "stdout",
     "output_type": "stream",
     "text": [
      "Combination, ptev: 0.0554, prev: 0.9446, OOB Score: 54.9000\n"
     ]
    },
    {
     "name": "stderr",
     "output_type": "stream",
     "text": [
      "INFO     [merf.py:307] Training GLL is 589.6120915701018 at iteration 1.\n",
      "INFO     [merf.py:307] Training GLL is 641.1503693474115 at iteration 2.\n"
     ]
    },
    {
     "name": "stdout",
     "output_type": "stream",
     "text": [
      "Combination, ptev: 0.1224, prev: 0.8776, OOB Score: 35.0000\n"
     ]
    },
    {
     "name": "stderr",
     "output_type": "stream",
     "text": [
      "INFO     [merf.py:307] Training GLL is 585.3096921793924 at iteration 1.\n",
      "INFO     [merf.py:307] Training GLL is 657.5842065576221 at iteration 2.\n"
     ]
    },
    {
     "name": "stdout",
     "output_type": "stream",
     "text": [
      "Combination, ptev: 0.0342, prev: 0.9658, OOB Score: 36.1000\n",
      "Combination: (100, None, 0.1, 2, 5)\n",
      "\n"
     ]
    },
    {
     "name": "stderr",
     "output_type": "stream",
     "text": [
      "INFO     [merf.py:307] Training GLL is 670.2289631702497 at iteration 1.\n",
      "INFO     [merf.py:307] Training GLL is 687.4890133448616 at iteration 2.\n"
     ]
    },
    {
     "name": "stdout",
     "output_type": "stream",
     "text": [
      "Combination, ptev: -0.0732, prev: 1.0732, OOB Score: 38.9000\n"
     ]
    },
    {
     "name": "stderr",
     "output_type": "stream",
     "text": [
      "INFO     [merf.py:307] Training GLL is 682.1830114397833 at iteration 1.\n",
      "INFO     [merf.py:307] Training GLL is 710.982179583286 at iteration 2.\n"
     ]
    },
    {
     "name": "stdout",
     "output_type": "stream",
     "text": [
      "Combination, ptev: -0.0716, prev: 1.0716, OOB Score: 43.1000\n"
     ]
    },
    {
     "name": "stderr",
     "output_type": "stream",
     "text": [
      "INFO     [merf.py:307] Training GLL is 691.8117029907215 at iteration 1.\n",
      "INFO     [merf.py:307] Training GLL is 735.9044859824112 at iteration 2.\n"
     ]
    },
    {
     "name": "stdout",
     "output_type": "stream",
     "text": [
      "Combination, ptev: -0.0257, prev: 1.0257, OOB Score: 40.1000\n"
     ]
    },
    {
     "name": "stderr",
     "output_type": "stream",
     "text": [
      "INFO     [merf.py:307] Training GLL is 709.7708585016924 at iteration 1.\n",
      "INFO     [merf.py:307] Training GLL is 740.1142404518756 at iteration 2.\n"
     ]
    },
    {
     "name": "stdout",
     "output_type": "stream",
     "text": [
      "Combination, ptev: 0.0396, prev: 0.9604, OOB Score: 35.1000\n"
     ]
    },
    {
     "name": "stderr",
     "output_type": "stream",
     "text": [
      "INFO     [merf.py:307] Training GLL is 715.9157106397923 at iteration 1.\n",
      "INFO     [merf.py:307] Training GLL is 765.3608922107512 at iteration 2.\n"
     ]
    },
    {
     "name": "stdout",
     "output_type": "stream",
     "text": [
      "Combination, ptev: -0.2244, prev: 1.2244, OOB Score: 38.8000\n",
      "Combination: (100, None, 0.1, 2, 10)\n",
      "\n"
     ]
    },
    {
     "name": "stderr",
     "output_type": "stream",
     "text": [
      "INFO     [merf.py:307] Training GLL is 749.554868084158 at iteration 1.\n",
      "INFO     [merf.py:307] Training GLL is 769.2093090241981 at iteration 2.\n"
     ]
    },
    {
     "name": "stdout",
     "output_type": "stream",
     "text": [
      "Combination, ptev: 0.1206, prev: 0.8794, OOB Score: 42.7000\n"
     ]
    },
    {
     "name": "stderr",
     "output_type": "stream",
     "text": [
      "INFO     [merf.py:307] Training GLL is 787.9073083089683 at iteration 1.\n",
      "INFO     [merf.py:307] Training GLL is 805.1164756401943 at iteration 2.\n"
     ]
    },
    {
     "name": "stdout",
     "output_type": "stream",
     "text": [
      "Combination, ptev: -0.0666, prev: 1.0666, OOB Score: 38.0000\n"
     ]
    },
    {
     "name": "stderr",
     "output_type": "stream",
     "text": [
      "INFO     [merf.py:307] Training GLL is 756.1027025106042 at iteration 1.\n",
      "INFO     [merf.py:307] Training GLL is 769.4392015656812 at iteration 2.\n"
     ]
    },
    {
     "name": "stdout",
     "output_type": "stream",
     "text": [
      "Combination, ptev: -0.0206, prev: 1.0206, OOB Score: 40.3000\n"
     ]
    },
    {
     "name": "stderr",
     "output_type": "stream",
     "text": [
      "INFO     [merf.py:307] Training GLL is 792.9551397360905 at iteration 1.\n",
      "INFO     [merf.py:307] Training GLL is 827.9593920027507 at iteration 2.\n"
     ]
    },
    {
     "name": "stdout",
     "output_type": "stream",
     "text": [
      "Combination, ptev: -0.1666, prev: 1.1666, OOB Score: 40.3000\n"
     ]
    },
    {
     "name": "stderr",
     "output_type": "stream",
     "text": [
      "INFO     [merf.py:307] Training GLL is 782.6942396956766 at iteration 1.\n",
      "INFO     [merf.py:307] Training GLL is 811.2484149857145 at iteration 2.\n"
     ]
    },
    {
     "name": "stdout",
     "output_type": "stream",
     "text": [
      "Combination, ptev: -0.1180, prev: 1.1180, OOB Score: 38.3000\n"
     ]
    },
    {
     "name": "stderr",
     "output_type": "stream",
     "text": [
      "INFO     [merf.py:307] Training GLL is 794.5538344222962 at iteration 1.\n",
      "INFO     [merf.py:307] Training GLL is 830.7203233120941 at iteration 2.\n"
     ]
    },
    {
     "name": "stdout",
     "output_type": "stream",
     "text": [
      "Combination, ptev: -0.0997, prev: 1.0997, OOB Score: 39.9000\n"
     ]
    },
    {
     "name": "stderr",
     "output_type": "stream",
     "text": [
      "INFO     [merf.py:307] Training GLL is 790.1835083177309 at iteration 1.\n",
      "INFO     [merf.py:307] Training GLL is 797.9531718827471 at iteration 2.\n"
     ]
    },
    {
     "name": "stdout",
     "output_type": "stream",
     "text": [
      "Combination, ptev: -0.0415, prev: 1.0415, OOB Score: 32.4000\n"
     ]
    },
    {
     "name": "stderr",
     "output_type": "stream",
     "text": [
      "INFO     [merf.py:307] Training GLL is 802.3978878199136 at iteration 1.\n",
      "INFO     [merf.py:307] Training GLL is 834.2165872080329 at iteration 2.\n"
     ]
    },
    {
     "name": "stdout",
     "output_type": "stream",
     "text": [
      "Combination, ptev: -0.2847, prev: 1.2847, OOB Score: 40.7000\n"
     ]
    },
    {
     "name": "stderr",
     "output_type": "stream",
     "text": [
      "INFO     [merf.py:307] Training GLL is 778.6575936080269 at iteration 1.\n",
      "INFO     [merf.py:307] Training GLL is 831.1989334757785 at iteration 2.\n"
     ]
    },
    {
     "name": "stdout",
     "output_type": "stream",
     "text": [
      "Combination, ptev: -0.5681, prev: 1.5681, OOB Score: 39.7000\n"
     ]
    },
    {
     "name": "stderr",
     "output_type": "stream",
     "text": [
      "INFO     [merf.py:307] Training GLL is 821.9445106360952 at iteration 1.\n",
      "INFO     [merf.py:307] Training GLL is 850.8970868268976 at iteration 2.\n"
     ]
    },
    {
     "name": "stdout",
     "output_type": "stream",
     "text": [
      "Combination, ptev: -0.4928, prev: 1.4928, OOB Score: 38.2000\n",
      "Combination: (100, None, 0.1, 10, 3)\n",
      "\n"
     ]
    },
    {
     "name": "stderr",
     "output_type": "stream",
     "text": [
      "INFO     [merf.py:307] Training GLL is 482.26292937055354 at iteration 1.\n",
      "INFO     [merf.py:307] Training GLL is 491.3643728115724 at iteration 2.\n",
      "INFO     [merf.py:307] Training GLL is 483.61210857038213 at iteration 3.\n",
      "INFO     [merf.py:307] Training GLL is 473.51622560871624 at iteration 4.\n",
      "INFO     [merf.py:307] Training GLL is 476.3952427770071 at iteration 5.\n",
      "INFO     [merf.py:307] Training GLL is 481.9557189279602 at iteration 6.\n",
      "INFO     [merf.py:307] Training GLL is 470.6358959246797 at iteration 7.\n",
      "INFO     [merf.py:307] Training GLL is 479.84508567853595 at iteration 8.\n",
      "INFO     [merf.py:307] Training GLL is 469.7265528166084 at iteration 9.\n",
      "INFO     [merf.py:307] Training GLL is 472.9073542265711 at iteration 10.\n"
     ]
    },
    {
     "name": "stdout",
     "output_type": "stream",
     "text": [
      "Combination, ptev: 0.0986, prev: 0.9014, OOB Score: 48.1000\n"
     ]
    },
    {
     "name": "stderr",
     "output_type": "stream",
     "text": [
      "INFO     [merf.py:307] Training GLL is 597.5470993578807 at iteration 1.\n",
      "INFO     [merf.py:307] Training GLL is 642.4826069768072 at iteration 2.\n",
      "INFO     [merf.py:307] Training GLL is 651.6870661573115 at iteration 3.\n",
      "INFO     [merf.py:307] Training GLL is 647.8147091869862 at iteration 4.\n",
      "INFO     [merf.py:307] Training GLL is 637.1864082952142 at iteration 5.\n",
      "INFO     [merf.py:307] Training GLL is 642.9738003295768 at iteration 6.\n",
      "INFO     [merf.py:307] Training GLL is 642.0268866551992 at iteration 7.\n",
      "INFO     [merf.py:307] Training GLL is 641.3573748065038 at iteration 8.\n",
      "INFO     [merf.py:307] Training GLL is 644.7283628210955 at iteration 9.\n",
      "INFO     [merf.py:307] Training GLL is 642.144562995259 at iteration 10.\n"
     ]
    },
    {
     "name": "stdout",
     "output_type": "stream",
     "text": [
      "Combination, ptev: 0.1730, prev: 0.8270, OOB Score: 29.5000\n"
     ]
    },
    {
     "name": "stderr",
     "output_type": "stream",
     "text": [
      "INFO     [merf.py:307] Training GLL is 593.8423357904747 at iteration 1.\n",
      "INFO     [merf.py:307] Training GLL is 660.6257550072922 at iteration 2.\n",
      "INFO     [merf.py:307] Training GLL is 671.3538899186415 at iteration 3.\n",
      "INFO     [merf.py:307] Training GLL is 678.1372344337221 at iteration 4.\n",
      "INFO     [merf.py:307] Training GLL is 676.3167745099921 at iteration 5.\n",
      "INFO     [merf.py:307] Training GLL is 673.4055377739691 at iteration 6.\n",
      "INFO     [merf.py:307] Training GLL is 675.3407482481266 at iteration 7.\n",
      "INFO     [merf.py:307] Training GLL is 677.0257179045333 at iteration 8.\n",
      "INFO     [merf.py:307] Training GLL is 681.6121171766763 at iteration 9.\n",
      "INFO     [merf.py:307] Training GLL is 689.3963893778117 at iteration 10.\n"
     ]
    },
    {
     "name": "stdout",
     "output_type": "stream",
     "text": [
      "Combination, ptev: 0.0509, prev: 0.9491, OOB Score: 37.2000\n",
      "Combination: (100, None, 0.1, 10, 5)\n",
      "\n"
     ]
    },
    {
     "name": "stderr",
     "output_type": "stream",
     "text": [
      "INFO     [merf.py:307] Training GLL is 672.2099875857558 at iteration 1.\n",
      "INFO     [merf.py:307] Training GLL is 684.8769210974306 at iteration 2.\n",
      "INFO     [merf.py:307] Training GLL is 687.013523643282 at iteration 3.\n",
      "INFO     [merf.py:307] Training GLL is 669.3283464597379 at iteration 4.\n",
      "INFO     [merf.py:307] Training GLL is 665.9180749732349 at iteration 5.\n",
      "INFO     [merf.py:307] Training GLL is 662.1764021205151 at iteration 6.\n",
      "INFO     [merf.py:307] Training GLL is 655.624573437815 at iteration 7.\n",
      "INFO     [merf.py:307] Training GLL is 646.9917780471978 at iteration 8.\n",
      "INFO     [merf.py:307] Training GLL is 642.0454424918497 at iteration 9.\n",
      "INFO     [merf.py:307] Training GLL is 642.179698505006 at iteration 10.\n"
     ]
    },
    {
     "name": "stdout",
     "output_type": "stream",
     "text": [
      "Combination, ptev: 0.0262, prev: 0.9738, OOB Score: 37.3000\n"
     ]
    },
    {
     "name": "stderr",
     "output_type": "stream",
     "text": [
      "INFO     [merf.py:307] Training GLL is 673.2907911114044 at iteration 1.\n",
      "INFO     [merf.py:307] Training GLL is 732.7092158064016 at iteration 2.\n",
      "INFO     [merf.py:307] Training GLL is 713.9205115387774 at iteration 3.\n",
      "INFO     [merf.py:307] Training GLL is 715.4179065342663 at iteration 4.\n",
      "INFO     [merf.py:307] Training GLL is 719.157788191998 at iteration 5.\n",
      "INFO     [merf.py:307] Training GLL is 712.8790376907883 at iteration 6.\n",
      "INFO     [merf.py:307] Training GLL is 711.5712832863228 at iteration 7.\n",
      "INFO     [merf.py:307] Training GLL is 715.5046050462499 at iteration 8.\n",
      "INFO     [merf.py:307] Training GLL is 711.0342592193713 at iteration 9.\n",
      "INFO     [merf.py:307] Training GLL is 713.861847437146 at iteration 10.\n"
     ]
    },
    {
     "name": "stdout",
     "output_type": "stream",
     "text": [
      "Combination, ptev: -0.0105, prev: 1.0105, OOB Score: 39.0000\n"
     ]
    },
    {
     "name": "stderr",
     "output_type": "stream",
     "text": [
      "INFO     [merf.py:307] Training GLL is 691.515037626875 at iteration 1.\n",
      "INFO     [merf.py:307] Training GLL is 743.307575630353 at iteration 2.\n",
      "INFO     [merf.py:307] Training GLL is 732.0974342093161 at iteration 3.\n",
      "INFO     [merf.py:307] Training GLL is 711.2378198234037 at iteration 4.\n",
      "INFO     [merf.py:307] Training GLL is 721.7360125591626 at iteration 5.\n",
      "INFO     [merf.py:307] Training GLL is 713.6900095553644 at iteration 6.\n",
      "INFO     [merf.py:307] Training GLL is 720.1203329775069 at iteration 7.\n",
      "INFO     [merf.py:307] Training GLL is 714.0884654082072 at iteration 8.\n",
      "INFO     [merf.py:307] Training GLL is 716.0375769134711 at iteration 9.\n",
      "INFO     [merf.py:307] Training GLL is 695.9672915292334 at iteration 10.\n"
     ]
    },
    {
     "name": "stdout",
     "output_type": "stream",
     "text": [
      "Combination, ptev: 0.0493, prev: 0.9507, OOB Score: 33.0000\n"
     ]
    },
    {
     "name": "stderr",
     "output_type": "stream",
     "text": [
      "INFO     [merf.py:307] Training GLL is 712.5485085741188 at iteration 1.\n",
      "INFO     [merf.py:307] Training GLL is 751.1614357731775 at iteration 2.\n",
      "INFO     [merf.py:307] Training GLL is 745.3290311579285 at iteration 3.\n",
      "INFO     [merf.py:307] Training GLL is 730.2242356421718 at iteration 4.\n",
      "INFO     [merf.py:307] Training GLL is 722.5572572017797 at iteration 5.\n",
      "INFO     [merf.py:307] Training GLL is 725.6380561527593 at iteration 6.\n",
      "INFO     [merf.py:307] Training GLL is 719.9320611352206 at iteration 7.\n",
      "INFO     [merf.py:307] Training GLL is 707.4499138882837 at iteration 8.\n",
      "INFO     [merf.py:307] Training GLL is 700.7088760184756 at iteration 9.\n",
      "INFO     [merf.py:307] Training GLL is 696.5639316628003 at iteration 10.\n"
     ]
    },
    {
     "name": "stdout",
     "output_type": "stream",
     "text": [
      "Combination, ptev: 0.1128, prev: 0.8872, OOB Score: 34.3000\n"
     ]
    },
    {
     "name": "stderr",
     "output_type": "stream",
     "text": [
      "INFO     [merf.py:307] Training GLL is 719.6662013361703 at iteration 1.\n",
      "INFO     [merf.py:307] Training GLL is 768.268276603425 at iteration 2.\n",
      "INFO     [merf.py:307] Training GLL is 772.5555532747737 at iteration 3.\n",
      "INFO     [merf.py:307] Training GLL is 770.4880999685054 at iteration 4.\n",
      "INFO     [merf.py:307] Training GLL is 764.9014085697992 at iteration 5.\n",
      "INFO     [merf.py:307] Training GLL is 770.2729274953377 at iteration 6.\n",
      "INFO     [merf.py:307] Training GLL is 770.6160650448065 at iteration 7.\n",
      "INFO     [merf.py:307] Training GLL is 774.6660274981504 at iteration 8.\n",
      "INFO     [merf.py:307] Training GLL is 776.6995110093386 at iteration 9.\n",
      "INFO     [merf.py:307] Training GLL is 770.8584955116902 at iteration 10.\n"
     ]
    },
    {
     "name": "stdout",
     "output_type": "stream",
     "text": [
      "Combination, ptev: -0.1572, prev: 1.1572, OOB Score: 37.8000\n",
      "Combination: (100, None, 0.1, 10, 10)\n",
      "\n"
     ]
    },
    {
     "name": "stderr",
     "output_type": "stream",
     "text": [
      "INFO     [merf.py:307] Training GLL is 742.1748708022205 at iteration 1.\n",
      "INFO     [merf.py:307] Training GLL is 780.1400265047257 at iteration 2.\n",
      "INFO     [merf.py:307] Training GLL is 782.0689984472843 at iteration 3.\n",
      "INFO     [merf.py:307] Training GLL is 766.7915232293525 at iteration 4.\n",
      "INFO     [merf.py:307] Training GLL is 760.8062143986607 at iteration 5.\n",
      "INFO     [merf.py:307] Training GLL is 759.2338604856217 at iteration 6.\n",
      "INFO     [merf.py:307] Training GLL is 750.6669521014488 at iteration 7.\n",
      "INFO     [merf.py:307] Training GLL is 745.9316504044717 at iteration 8.\n",
      "INFO     [merf.py:307] Training GLL is 738.4833698663713 at iteration 9.\n",
      "INFO     [merf.py:307] Training GLL is 731.69046658127 at iteration 10.\n"
     ]
    },
    {
     "name": "stdout",
     "output_type": "stream",
     "text": [
      "Combination, ptev: 0.0634, prev: 0.9366, OOB Score: 38.9000\n"
     ]
    },
    {
     "name": "stderr",
     "output_type": "stream",
     "text": [
      "INFO     [merf.py:307] Training GLL is 784.7780030917781 at iteration 1.\n",
      "INFO     [merf.py:307] Training GLL is 799.332129270455 at iteration 2.\n",
      "INFO     [merf.py:307] Training GLL is 798.6383232165143 at iteration 3.\n",
      "INFO     [merf.py:307] Training GLL is 780.5435777074613 at iteration 4.\n",
      "INFO     [merf.py:307] Training GLL is 767.9375407232332 at iteration 5.\n",
      "INFO     [merf.py:307] Training GLL is 769.0658160930922 at iteration 6.\n",
      "INFO     [merf.py:307] Training GLL is 765.3656425924073 at iteration 7.\n",
      "INFO     [merf.py:307] Training GLL is 751.304222824359 at iteration 8.\n",
      "INFO     [merf.py:307] Training GLL is 750.8805673555214 at iteration 9.\n",
      "INFO     [merf.py:307] Training GLL is 741.407071014432 at iteration 10.\n"
     ]
    },
    {
     "name": "stdout",
     "output_type": "stream",
     "text": [
      "Combination, ptev: -0.0987, prev: 1.0987, OOB Score: 33.1000\n"
     ]
    },
    {
     "name": "stderr",
     "output_type": "stream",
     "text": [
      "INFO     [merf.py:307] Training GLL is 749.4410954891057 at iteration 1.\n",
      "INFO     [merf.py:307] Training GLL is 767.6522759802182 at iteration 2.\n",
      "INFO     [merf.py:307] Training GLL is 764.2827441483907 at iteration 3.\n",
      "INFO     [merf.py:307] Training GLL is 748.7840852065259 at iteration 4.\n",
      "INFO     [merf.py:307] Training GLL is 752.9886556942746 at iteration 5.\n",
      "INFO     [merf.py:307] Training GLL is 733.8548789884164 at iteration 6.\n",
      "INFO     [merf.py:307] Training GLL is 732.562473744249 at iteration 7.\n",
      "INFO     [merf.py:307] Training GLL is 727.9285661354944 at iteration 8.\n",
      "INFO     [merf.py:307] Training GLL is 729.5172479162713 at iteration 9.\n",
      "INFO     [merf.py:307] Training GLL is 721.9279360193989 at iteration 10.\n"
     ]
    },
    {
     "name": "stdout",
     "output_type": "stream",
     "text": [
      "Combination, ptev: -0.0511, prev: 1.0511, OOB Score: 37.5000\n"
     ]
    },
    {
     "name": "stderr",
     "output_type": "stream",
     "text": [
      "INFO     [merf.py:307] Training GLL is 787.8574471209693 at iteration 1.\n",
      "INFO     [merf.py:307] Training GLL is 825.1373196506859 at iteration 2.\n",
      "INFO     [merf.py:307] Training GLL is 821.0873531875077 at iteration 3.\n",
      "INFO     [merf.py:307] Training GLL is 823.7896982675956 at iteration 4.\n",
      "INFO     [merf.py:307] Training GLL is 823.4955205837108 at iteration 5.\n",
      "INFO     [merf.py:307] Training GLL is 824.6347744329094 at iteration 6.\n",
      "INFO     [merf.py:307] Training GLL is 814.3898621707082 at iteration 7.\n",
      "INFO     [merf.py:307] Training GLL is 816.5211266481613 at iteration 8.\n",
      "INFO     [merf.py:307] Training GLL is 810.2911083445152 at iteration 9.\n",
      "INFO     [merf.py:307] Training GLL is 820.3449981794886 at iteration 10.\n"
     ]
    },
    {
     "name": "stdout",
     "output_type": "stream",
     "text": [
      "Combination, ptev: -0.1206, prev: 1.1206, OOB Score: 36.4000\n"
     ]
    },
    {
     "name": "stderr",
     "output_type": "stream",
     "text": [
      "INFO     [merf.py:307] Training GLL is 780.6450258861194 at iteration 1.\n",
      "INFO     [merf.py:307] Training GLL is 816.3750840197692 at iteration 2.\n",
      "INFO     [merf.py:307] Training GLL is 803.7196534923382 at iteration 3.\n",
      "INFO     [merf.py:307] Training GLL is 800.0462571480888 at iteration 4.\n",
      "INFO     [merf.py:307] Training GLL is 794.2618098636007 at iteration 5.\n",
      "INFO     [merf.py:307] Training GLL is 780.1159882135952 at iteration 6.\n",
      "INFO     [merf.py:307] Training GLL is 785.2066211110766 at iteration 7.\n",
      "INFO     [merf.py:307] Training GLL is 775.0531900190426 at iteration 8.\n",
      "INFO     [merf.py:307] Training GLL is 764.3770716581713 at iteration 9.\n",
      "INFO     [merf.py:307] Training GLL is 753.4065580128059 at iteration 10.\n"
     ]
    },
    {
     "name": "stdout",
     "output_type": "stream",
     "text": [
      "Combination, ptev: -0.0709, prev: 1.0709, OOB Score: 35.2000\n"
     ]
    },
    {
     "name": "stderr",
     "output_type": "stream",
     "text": [
      "INFO     [merf.py:307] Training GLL is 786.7183647616978 at iteration 1.\n",
      "INFO     [merf.py:307] Training GLL is 830.1650924051308 at iteration 2.\n",
      "INFO     [merf.py:307] Training GLL is 824.7474355913595 at iteration 3.\n",
      "INFO     [merf.py:307] Training GLL is 816.6421847615336 at iteration 4.\n",
      "INFO     [merf.py:307] Training GLL is 798.6659955051622 at iteration 5.\n",
      "INFO     [merf.py:307] Training GLL is 809.7294825794655 at iteration 6.\n",
      "INFO     [merf.py:307] Training GLL is 801.0537557670109 at iteration 7.\n",
      "INFO     [merf.py:307] Training GLL is 808.0456243653186 at iteration 8.\n",
      "INFO     [merf.py:307] Training GLL is 810.0644560991191 at iteration 9.\n",
      "INFO     [merf.py:307] Training GLL is 800.8197663580842 at iteration 10.\n"
     ]
    },
    {
     "name": "stdout",
     "output_type": "stream",
     "text": [
      "Combination, ptev: -0.0537, prev: 1.0537, OOB Score: 34.6000\n"
     ]
    },
    {
     "name": "stderr",
     "output_type": "stream",
     "text": [
      "INFO     [merf.py:307] Training GLL is 784.3910076817837 at iteration 1.\n",
      "INFO     [merf.py:307] Training GLL is 799.2813489907364 at iteration 2.\n",
      "INFO     [merf.py:307] Training GLL is 777.0592745133989 at iteration 3.\n",
      "INFO     [merf.py:307] Training GLL is 774.4343783620945 at iteration 4.\n",
      "INFO     [merf.py:307] Training GLL is 763.2776135592719 at iteration 5.\n",
      "INFO     [merf.py:307] Training GLL is 775.554087190106 at iteration 6.\n",
      "INFO     [merf.py:307] Training GLL is 756.5134408185498 at iteration 7.\n",
      "INFO     [merf.py:307] Training GLL is 754.3164673002814 at iteration 8.\n",
      "INFO     [merf.py:307] Training GLL is 749.924707615917 at iteration 9.\n",
      "INFO     [merf.py:307] Training GLL is 746.1368041249655 at iteration 10.\n"
     ]
    },
    {
     "name": "stdout",
     "output_type": "stream",
     "text": [
      "Combination, ptev: 0.0188, prev: 0.9812, OOB Score: 26.0000\n"
     ]
    },
    {
     "name": "stderr",
     "output_type": "stream",
     "text": [
      "INFO     [merf.py:307] Training GLL is 792.074884573083 at iteration 1.\n",
      "INFO     [merf.py:307] Training GLL is 825.4547564913173 at iteration 2.\n",
      "INFO     [merf.py:307] Training GLL is 832.1968815766722 at iteration 3.\n",
      "INFO     [merf.py:307] Training GLL is 832.3029908955409 at iteration 4.\n",
      "INFO     [merf.py:307] Training GLL is 826.6257288148007 at iteration 5.\n",
      "INFO     [merf.py:307] Training GLL is 822.2118882350335 at iteration 6.\n",
      "INFO     [merf.py:307] Training GLL is 815.2309070908432 at iteration 7.\n",
      "INFO     [merf.py:307] Training GLL is 796.5539515269314 at iteration 8.\n",
      "INFO     [merf.py:307] Training GLL is 799.7250351980765 at iteration 9.\n",
      "INFO     [merf.py:307] Training GLL is 802.7289806778681 at iteration 10.\n"
     ]
    },
    {
     "name": "stdout",
     "output_type": "stream",
     "text": [
      "Combination, ptev: -0.2032, prev: 1.2032, OOB Score: 37.6000\n"
     ]
    },
    {
     "name": "stderr",
     "output_type": "stream",
     "text": [
      "INFO     [merf.py:307] Training GLL is 778.5529214419925 at iteration 1.\n",
      "INFO     [merf.py:307] Training GLL is 839.3589487169348 at iteration 2.\n",
      "INFO     [merf.py:307] Training GLL is 839.4073946820922 at iteration 3.\n",
      "INFO     [merf.py:307] Training GLL is 835.668819248158 at iteration 4.\n",
      "INFO     [merf.py:307] Training GLL is 832.1908547278395 at iteration 5.\n",
      "INFO     [merf.py:307] Training GLL is 831.9050009706433 at iteration 6.\n",
      "INFO     [merf.py:307] Training GLL is 822.6640735445641 at iteration 7.\n",
      "INFO     [merf.py:307] Training GLL is 829.7572431037307 at iteration 8.\n",
      "INFO     [merf.py:307] Training GLL is 832.7742952489918 at iteration 9.\n",
      "INFO     [merf.py:307] Training GLL is 828.3222003212418 at iteration 10.\n"
     ]
    },
    {
     "name": "stdout",
     "output_type": "stream",
     "text": [
      "Combination, ptev: -0.4871, prev: 1.4871, OOB Score: 41.4000\n"
     ]
    },
    {
     "name": "stderr",
     "output_type": "stream",
     "text": [
      "INFO     [merf.py:307] Training GLL is 834.4162099369828 at iteration 1.\n",
      "INFO     [merf.py:307] Training GLL is 852.3164216070917 at iteration 2.\n",
      "INFO     [merf.py:307] Training GLL is 840.3516378577041 at iteration 3.\n",
      "INFO     [merf.py:307] Training GLL is 824.271320632069 at iteration 4.\n",
      "INFO     [merf.py:307] Training GLL is 818.624558077778 at iteration 5.\n",
      "INFO     [merf.py:307] Training GLL is 820.8444063519538 at iteration 6.\n",
      "INFO     [merf.py:307] Training GLL is 821.4579314806625 at iteration 7.\n",
      "INFO     [merf.py:307] Training GLL is 813.2693966699642 at iteration 8.\n",
      "INFO     [merf.py:307] Training GLL is 811.7706767208483 at iteration 9.\n",
      "INFO     [merf.py:307] Training GLL is 806.6862934398121 at iteration 10.\n"
     ]
    },
    {
     "name": "stdout",
     "output_type": "stream",
     "text": [
      "Combination, ptev: -0.4065, prev: 1.4065, OOB Score: 32.8000\n",
      "Combination: (100, None, 0.15, 2, 3)\n",
      "\n"
     ]
    },
    {
     "name": "stderr",
     "output_type": "stream",
     "text": [
      "INFO     [merf.py:307] Training GLL is 532.2033760263681 at iteration 1.\n",
      "INFO     [merf.py:307] Training GLL is 568.262752906147 at iteration 2.\n"
     ]
    },
    {
     "name": "stdout",
     "output_type": "stream",
     "text": [
      "Combination, ptev: -0.0476, prev: 1.0476, OOB Score: 51.9000\n"
     ]
    },
    {
     "name": "stderr",
     "output_type": "stream",
     "text": [
      "INFO     [merf.py:307] Training GLL is 660.8639309593368 at iteration 1.\n",
      "INFO     [merf.py:307] Training GLL is 711.0717218755093 at iteration 2.\n"
     ]
    },
    {
     "name": "stdout",
     "output_type": "stream",
     "text": [
      "Combination, ptev: 0.0630, prev: 0.9370, OOB Score: 35.5000\n"
     ]
    },
    {
     "name": "stderr",
     "output_type": "stream",
     "text": [
      "INFO     [merf.py:307] Training GLL is 642.172623981634 at iteration 1.\n",
      "INFO     [merf.py:307] Training GLL is 698.9945478144236 at iteration 2.\n"
     ]
    },
    {
     "name": "stdout",
     "output_type": "stream",
     "text": [
      "Combination, ptev: -0.0159, prev: 1.0159, OOB Score: 39.7000\n",
      "Combination: (100, None, 0.15, 2, 5)\n",
      "\n"
     ]
    },
    {
     "name": "stderr",
     "output_type": "stream",
     "text": [
      "INFO     [merf.py:307] Training GLL is 735.9597009894837 at iteration 1.\n",
      "INFO     [merf.py:307] Training GLL is 755.5827588620606 at iteration 2.\n"
     ]
    },
    {
     "name": "stdout",
     "output_type": "stream",
     "text": [
      "Combination, ptev: 0.0080, prev: 0.9920, OOB Score: 37.8000\n"
     ]
    },
    {
     "name": "stderr",
     "output_type": "stream",
     "text": [
      "INFO     [merf.py:307] Training GLL is 733.5746426015696 at iteration 1.\n",
      "INFO     [merf.py:307] Training GLL is 776.7517981431594 at iteration 2.\n"
     ]
    },
    {
     "name": "stdout",
     "output_type": "stream",
     "text": [
      "Combination, ptev: -0.0700, prev: 1.0700, OOB Score: 42.6000\n"
     ]
    },
    {
     "name": "stderr",
     "output_type": "stream",
     "text": [
      "INFO     [merf.py:307] Training GLL is 777.9529242694481 at iteration 1.\n",
      "INFO     [merf.py:307] Training GLL is 796.1180876979643 at iteration 2.\n"
     ]
    },
    {
     "name": "stdout",
     "output_type": "stream",
     "text": [
      "Combination, ptev: -0.0213, prev: 1.0213, OOB Score: 40.9000\n"
     ]
    },
    {
     "name": "stderr",
     "output_type": "stream",
     "text": [
      "INFO     [merf.py:307] Training GLL is 782.1343160068067 at iteration 1.\n",
      "INFO     [merf.py:307] Training GLL is 796.4690612603802 at iteration 2.\n"
     ]
    },
    {
     "name": "stdout",
     "output_type": "stream",
     "text": [
      "Combination, ptev: 0.0268, prev: 0.9732, OOB Score: 36.0000\n"
     ]
    },
    {
     "name": "stderr",
     "output_type": "stream",
     "text": [
      "INFO     [merf.py:307] Training GLL is 768.72450166344 at iteration 1.\n",
      "INFO     [merf.py:307] Training GLL is 809.2424926875183 at iteration 2.\n"
     ]
    },
    {
     "name": "stdout",
     "output_type": "stream",
     "text": [
      "Combination, ptev: -0.2430, prev: 1.2430, OOB Score: 39.8000\n",
      "Combination: (100, None, 0.15, 2, 10)\n",
      "\n"
     ]
    },
    {
     "name": "stderr",
     "output_type": "stream",
     "text": [
      "INFO     [merf.py:307] Training GLL is 825.7238440150186 at iteration 1.\n",
      "INFO     [merf.py:307] Training GLL is 833.9909475259647 at iteration 2.\n"
     ]
    },
    {
     "name": "stdout",
     "output_type": "stream",
     "text": [
      "Combination, ptev: 0.1607, prev: 0.8393, OOB Score: 41.0000\n"
     ]
    },
    {
     "name": "stderr",
     "output_type": "stream",
     "text": [
      "INFO     [merf.py:307] Training GLL is 852.1979139106234 at iteration 1.\n",
      "INFO     [merf.py:307] Training GLL is 861.3836488805779 at iteration 2.\n"
     ]
    },
    {
     "name": "stdout",
     "output_type": "stream",
     "text": [
      "Combination, ptev: -0.1232, prev: 1.1232, OOB Score: 36.2000\n"
     ]
    },
    {
     "name": "stderr",
     "output_type": "stream",
     "text": [
      "INFO     [merf.py:307] Training GLL is 837.1381151541788 at iteration 1.\n",
      "INFO     [merf.py:307] Training GLL is 834.7980640093261 at iteration 2.\n"
     ]
    },
    {
     "name": "stdout",
     "output_type": "stream",
     "text": [
      "Combination, ptev: -0.0598, prev: 1.0598, OOB Score: 42.8000\n"
     ]
    },
    {
     "name": "stderr",
     "output_type": "stream",
     "text": [
      "INFO     [merf.py:307] Training GLL is 871.0292213093448 at iteration 1.\n",
      "INFO     [merf.py:307] Training GLL is 898.2375408865269 at iteration 2.\n"
     ]
    },
    {
     "name": "stdout",
     "output_type": "stream",
     "text": [
      "Combination, ptev: -0.1935, prev: 1.1935, OOB Score: 41.7000\n"
     ]
    },
    {
     "name": "stderr",
     "output_type": "stream",
     "text": [
      "INFO     [merf.py:307] Training GLL is 868.7431602972641 at iteration 1.\n",
      "INFO     [merf.py:307] Training GLL is 875.4516587258269 at iteration 2.\n"
     ]
    },
    {
     "name": "stdout",
     "output_type": "stream",
     "text": [
      "Combination, ptev: -0.1380, prev: 1.1380, OOB Score: 38.1000\n"
     ]
    },
    {
     "name": "stderr",
     "output_type": "stream",
     "text": [
      "INFO     [merf.py:307] Training GLL is 845.9392873644355 at iteration 1.\n",
      "INFO     [merf.py:307] Training GLL is 876.5547049373743 at iteration 2.\n"
     ]
    },
    {
     "name": "stdout",
     "output_type": "stream",
     "text": [
      "Combination, ptev: -0.1066, prev: 1.1066, OOB Score: 38.6000\n"
     ]
    },
    {
     "name": "stderr",
     "output_type": "stream",
     "text": [
      "INFO     [merf.py:307] Training GLL is 884.6569144960106 at iteration 1.\n",
      "INFO     [merf.py:307] Training GLL is 882.4268157483411 at iteration 2.\n"
     ]
    },
    {
     "name": "stdout",
     "output_type": "stream",
     "text": [
      "Combination, ptev: -0.0406, prev: 1.0406, OOB Score: 33.2000\n"
     ]
    },
    {
     "name": "stderr",
     "output_type": "stream",
     "text": [
      "INFO     [merf.py:307] Training GLL is 856.9231347591574 at iteration 1.\n",
      "INFO     [merf.py:307] Training GLL is 882.9392235375576 at iteration 2.\n"
     ]
    },
    {
     "name": "stdout",
     "output_type": "stream",
     "text": [
      "Combination, ptev: -0.2199, prev: 1.2199, OOB Score: 41.3000\n"
     ]
    },
    {
     "name": "stderr",
     "output_type": "stream",
     "text": [
      "INFO     [merf.py:307] Training GLL is 822.8113499722426 at iteration 1.\n",
      "INFO     [merf.py:307] Training GLL is 865.2357849526402 at iteration 2.\n"
     ]
    },
    {
     "name": "stdout",
     "output_type": "stream",
     "text": [
      "Combination, ptev: -0.4869, prev: 1.4869, OOB Score: 41.8000\n"
     ]
    },
    {
     "name": "stderr",
     "output_type": "stream",
     "text": [
      "INFO     [merf.py:307] Training GLL is 880.4175763766466 at iteration 1.\n",
      "INFO     [merf.py:307] Training GLL is 895.3817149822227 at iteration 2.\n"
     ]
    },
    {
     "name": "stdout",
     "output_type": "stream",
     "text": [
      "Combination, ptev: -0.4442, prev: 1.4442, OOB Score: 36.3000\n",
      "Combination: (100, None, 0.15, 10, 3)\n",
      "\n"
     ]
    },
    {
     "name": "stderr",
     "output_type": "stream",
     "text": [
      "INFO     [merf.py:307] Training GLL is 539.005085796089 at iteration 1.\n",
      "INFO     [merf.py:307] Training GLL is 562.831446382677 at iteration 2.\n",
      "INFO     [merf.py:307] Training GLL is 557.4153122459879 at iteration 3.\n",
      "INFO     [merf.py:307] Training GLL is 547.4782179754876 at iteration 4.\n",
      "INFO     [merf.py:307] Training GLL is 539.6746693788145 at iteration 5.\n",
      "INFO     [merf.py:307] Training GLL is 537.9443245661176 at iteration 6.\n",
      "INFO     [merf.py:307] Training GLL is 540.6176825378395 at iteration 7.\n",
      "INFO     [merf.py:307] Training GLL is 535.9826874684082 at iteration 8.\n",
      "INFO     [merf.py:307] Training GLL is 530.614411363179 at iteration 9.\n",
      "INFO     [merf.py:307] Training GLL is 532.8101372899271 at iteration 10.\n"
     ]
    },
    {
     "name": "stdout",
     "output_type": "stream",
     "text": [
      "Combination, ptev: 0.0278, prev: 0.9722, OOB Score: 42.1000\n"
     ]
    },
    {
     "name": "stderr",
     "output_type": "stream",
     "text": [
      "INFO     [merf.py:307] Training GLL is 660.0584337936626 at iteration 1.\n",
      "INFO     [merf.py:307] Training GLL is 712.6693520482797 at iteration 2.\n",
      "INFO     [merf.py:307] Training GLL is 709.5506448971313 at iteration 3.\n",
      "INFO     [merf.py:307] Training GLL is 711.2568897388844 at iteration 4.\n",
      "INFO     [merf.py:307] Training GLL is 711.0996944207081 at iteration 5.\n",
      "INFO     [merf.py:307] Training GLL is 703.9970825777749 at iteration 6.\n",
      "INFO     [merf.py:307] Training GLL is 701.7582691455322 at iteration 7.\n",
      "INFO     [merf.py:307] Training GLL is 697.6366333490179 at iteration 8.\n",
      "INFO     [merf.py:307] Training GLL is 696.8935318928764 at iteration 9.\n",
      "INFO     [merf.py:307] Training GLL is 706.5628143624682 at iteration 10.\n"
     ]
    },
    {
     "name": "stdout",
     "output_type": "stream",
     "text": [
      "Combination, ptev: 0.1231, prev: 0.8769, OOB Score: 27.5000\n"
     ]
    },
    {
     "name": "stderr",
     "output_type": "stream",
     "text": [
      "INFO     [merf.py:307] Training GLL is 651.9404060348287 at iteration 1.\n",
      "INFO     [merf.py:307] Training GLL is 701.4156550569411 at iteration 2.\n",
      "INFO     [merf.py:307] Training GLL is 713.7691930104162 at iteration 3.\n",
      "INFO     [merf.py:307] Training GLL is 715.0953536337049 at iteration 4.\n",
      "INFO     [merf.py:307] Training GLL is 713.3881652834955 at iteration 5.\n",
      "INFO     [merf.py:307] Training GLL is 718.3042694052334 at iteration 6.\n",
      "INFO     [merf.py:307] Training GLL is 724.0709498064786 at iteration 7.\n",
      "INFO     [merf.py:307] Training GLL is 721.0605841343765 at iteration 8.\n",
      "INFO     [merf.py:307] Training GLL is 718.4970087271795 at iteration 9.\n",
      "INFO     [merf.py:307] Training GLL is 724.1493462758424 at iteration 10.\n"
     ]
    },
    {
     "name": "stdout",
     "output_type": "stream",
     "text": [
      "Combination, ptev: -0.0016, prev: 1.0016, OOB Score: 40.9000\n",
      "Combination: (100, None, 0.15, 10, 5)\n",
      "\n"
     ]
    },
    {
     "name": "stderr",
     "output_type": "stream",
     "text": [
      "INFO     [merf.py:307] Training GLL is 739.6490234560915 at iteration 1.\n",
      "INFO     [merf.py:307] Training GLL is 750.6517499099085 at iteration 2.\n",
      "INFO     [merf.py:307] Training GLL is 735.0444145586315 at iteration 3.\n",
      "INFO     [merf.py:307] Training GLL is 726.107863381049 at iteration 4.\n",
      "INFO     [merf.py:307] Training GLL is 711.8704033125782 at iteration 5.\n",
      "INFO     [merf.py:307] Training GLL is 709.8322056611836 at iteration 6.\n",
      "INFO     [merf.py:307] Training GLL is 703.1177448124114 at iteration 7.\n",
      "INFO     [merf.py:307] Training GLL is 695.5356206234173 at iteration 8.\n",
      "INFO     [merf.py:307] Training GLL is 692.0027214210872 at iteration 9.\n",
      "INFO     [merf.py:307] Training GLL is 685.5271958472856 at iteration 10.\n"
     ]
    },
    {
     "name": "stdout",
     "output_type": "stream",
     "text": [
      "Combination, ptev: -0.0099, prev: 1.0099, OOB Score: 33.8000\n"
     ]
    },
    {
     "name": "stderr",
     "output_type": "stream",
     "text": [
      "INFO     [merf.py:307] Training GLL is 737.7820336918326 at iteration 1.\n",
      "INFO     [merf.py:307] Training GLL is 774.7968521192471 at iteration 2.\n",
      "INFO     [merf.py:307] Training GLL is 783.5902084380318 at iteration 3.\n",
      "INFO     [merf.py:307] Training GLL is 781.66270371197 at iteration 4.\n",
      "INFO     [merf.py:307] Training GLL is 779.8028336160718 at iteration 5.\n",
      "INFO     [merf.py:307] Training GLL is 775.8337792247722 at iteration 6.\n",
      "INFO     [merf.py:307] Training GLL is 773.8592178409699 at iteration 7.\n",
      "INFO     [merf.py:307] Training GLL is 773.3890698714835 at iteration 8.\n",
      "INFO     [merf.py:307] Training GLL is 774.9585637365255 at iteration 9.\n",
      "INFO     [merf.py:307] Training GLL is 774.383565211693 at iteration 10.\n"
     ]
    },
    {
     "name": "stdout",
     "output_type": "stream",
     "text": [
      "Combination, ptev: -0.0574, prev: 1.0574, OOB Score: 35.9000\n"
     ]
    },
    {
     "name": "stderr",
     "output_type": "stream",
     "text": [
      "INFO     [merf.py:307] Training GLL is 766.4256871144895 at iteration 1.\n",
      "INFO     [merf.py:307] Training GLL is 805.7805895479329 at iteration 2.\n",
      "INFO     [merf.py:307] Training GLL is 792.8580384731565 at iteration 3.\n",
      "INFO     [merf.py:307] Training GLL is 786.0142849318332 at iteration 4.\n",
      "INFO     [merf.py:307] Training GLL is 792.806091913107 at iteration 5.\n",
      "INFO     [merf.py:307] Training GLL is 781.4856839840988 at iteration 6.\n",
      "INFO     [merf.py:307] Training GLL is 774.0352253376833 at iteration 7.\n",
      "INFO     [merf.py:307] Training GLL is 782.8436752543826 at iteration 8.\n",
      "INFO     [merf.py:307] Training GLL is 775.5240513687612 at iteration 9.\n",
      "INFO     [merf.py:307] Training GLL is 781.3832640484376 at iteration 10.\n"
     ]
    },
    {
     "name": "stdout",
     "output_type": "stream",
     "text": [
      "Combination, ptev: 0.0058, prev: 0.9942, OOB Score: 35.5000\n"
     ]
    },
    {
     "name": "stderr",
     "output_type": "stream",
     "text": [
      "INFO     [merf.py:307] Training GLL is 775.9576747327361 at iteration 1.\n",
      "INFO     [merf.py:307] Training GLL is 799.0870787062698 at iteration 2.\n",
      "INFO     [merf.py:307] Training GLL is 782.241088379692 at iteration 3.\n",
      "INFO     [merf.py:307] Training GLL is 773.7410674960684 at iteration 4.\n",
      "INFO     [merf.py:307] Training GLL is 765.8890973651393 at iteration 5.\n",
      "INFO     [merf.py:307] Training GLL is 762.8306588141049 at iteration 6.\n",
      "INFO     [merf.py:307] Training GLL is 761.6173387091893 at iteration 7.\n",
      "INFO     [merf.py:307] Training GLL is 754.6861825272757 at iteration 8.\n",
      "INFO     [merf.py:307] Training GLL is 747.1574503192558 at iteration 9.\n",
      "INFO     [merf.py:307] Training GLL is 741.9978257325445 at iteration 10.\n"
     ]
    },
    {
     "name": "stdout",
     "output_type": "stream",
     "text": [
      "Combination, ptev: 0.0565, prev: 0.9435, OOB Score: 30.2000\n"
     ]
    },
    {
     "name": "stderr",
     "output_type": "stream",
     "text": [
      "INFO     [merf.py:307] Training GLL is 772.1438055387097 at iteration 1.\n",
      "INFO     [merf.py:307] Training GLL is 814.2389938545955 at iteration 2.\n",
      "INFO     [merf.py:307] Training GLL is 807.6858219067961 at iteration 3.\n",
      "INFO     [merf.py:307] Training GLL is 802.0208849496444 at iteration 4.\n",
      "INFO     [merf.py:307] Training GLL is 807.4827796801737 at iteration 5.\n",
      "INFO     [merf.py:307] Training GLL is 811.3073119244794 at iteration 6.\n",
      "INFO     [merf.py:307] Training GLL is 808.0431101953785 at iteration 7.\n",
      "INFO     [merf.py:307] Training GLL is 796.320710296231 at iteration 8.\n",
      "INFO     [merf.py:307] Training GLL is 798.9152393198331 at iteration 9.\n",
      "INFO     [merf.py:307] Training GLL is 797.0831363311182 at iteration 10.\n"
     ]
    },
    {
     "name": "stdout",
     "output_type": "stream",
     "text": [
      "Combination, ptev: -0.1693, prev: 1.1693, OOB Score: 35.3000\n",
      "Combination: (100, None, 0.15, 10, 10)\n",
      "\n"
     ]
    },
    {
     "name": "stderr",
     "output_type": "stream",
     "text": [
      "INFO     [merf.py:307] Training GLL is 817.9334337950058 at iteration 1.\n",
      "INFO     [merf.py:307] Training GLL is 841.8855951073508 at iteration 2.\n",
      "INFO     [merf.py:307] Training GLL is 828.9666425465724 at iteration 3.\n",
      "INFO     [merf.py:307] Training GLL is 824.0284387753248 at iteration 4.\n",
      "INFO     [merf.py:307] Training GLL is 818.7121392915715 at iteration 5.\n",
      "INFO     [merf.py:307] Training GLL is 798.6141772765106 at iteration 6.\n",
      "INFO     [merf.py:307] Training GLL is 810.2640668442934 at iteration 7.\n",
      "INFO     [merf.py:307] Training GLL is 809.9401247221144 at iteration 8.\n",
      "INFO     [merf.py:307] Training GLL is 804.0541943804282 at iteration 9.\n",
      "INFO     [merf.py:307] Training GLL is 800.8220547191455 at iteration 10.\n"
     ]
    },
    {
     "name": "stdout",
     "output_type": "stream",
     "text": [
      "Combination, ptev: 0.1923, prev: 0.8077, OOB Score: 33.8000\n"
     ]
    },
    {
     "name": "stderr",
     "output_type": "stream",
     "text": [
      "INFO     [merf.py:307] Training GLL is 843.8729150433667 at iteration 1.\n",
      "INFO     [merf.py:307] Training GLL is 852.7156388562839 at iteration 2.\n",
      "INFO     [merf.py:307] Training GLL is 838.6455973545525 at iteration 3.\n",
      "INFO     [merf.py:307] Training GLL is 833.7247865045396 at iteration 4.\n",
      "INFO     [merf.py:307] Training GLL is 822.6558611698016 at iteration 5.\n",
      "INFO     [merf.py:307] Training GLL is 810.9161840853833 at iteration 6.\n",
      "INFO     [merf.py:307] Training GLL is 815.5749895266092 at iteration 7.\n",
      "INFO     [merf.py:307] Training GLL is 810.6811447096455 at iteration 8.\n",
      "INFO     [merf.py:307] Training GLL is 808.3179886138633 at iteration 9.\n",
      "INFO     [merf.py:307] Training GLL is 807.2159278978876 at iteration 10.\n"
     ]
    },
    {
     "name": "stdout",
     "output_type": "stream",
     "text": [
      "Combination, ptev: -0.0128, prev: 1.0128, OOB Score: 30.8000\n"
     ]
    },
    {
     "name": "stderr",
     "output_type": "stream",
     "text": [
      "INFO     [merf.py:307] Training GLL is 828.6143322054895 at iteration 1.\n",
      "INFO     [merf.py:307] Training GLL is 824.2492359842656 at iteration 2.\n",
      "INFO     [merf.py:307] Training GLL is 826.8591359045171 at iteration 3.\n",
      "INFO     [merf.py:307] Training GLL is 810.2637308117031 at iteration 4.\n",
      "INFO     [merf.py:307] Training GLL is 803.232770032678 at iteration 5.\n",
      "INFO     [merf.py:307] Training GLL is 804.4613107707969 at iteration 6.\n",
      "INFO     [merf.py:307] Training GLL is 806.3997802587791 at iteration 7.\n",
      "INFO     [merf.py:307] Training GLL is 804.6854970456144 at iteration 8.\n",
      "INFO     [merf.py:307] Training GLL is 795.555696359382 at iteration 9.\n",
      "INFO     [merf.py:307] Training GLL is 794.9220493339395 at iteration 10.\n"
     ]
    },
    {
     "name": "stdout",
     "output_type": "stream",
     "text": [
      "Combination, ptev: 0.0144, prev: 0.9856, OOB Score: 34.0000\n"
     ]
    },
    {
     "name": "stderr",
     "output_type": "stream",
     "text": [
      "INFO     [merf.py:307] Training GLL is 876.1603881144479 at iteration 1.\n",
      "INFO     [merf.py:307] Training GLL is 900.7476432006928 at iteration 2.\n",
      "INFO     [merf.py:307] Training GLL is 896.8524612671553 at iteration 3.\n",
      "INFO     [merf.py:307] Training GLL is 895.1349441513144 at iteration 4.\n",
      "INFO     [merf.py:307] Training GLL is 892.5125608779622 at iteration 5.\n",
      "INFO     [merf.py:307] Training GLL is 892.3239874905627 at iteration 6.\n",
      "INFO     [merf.py:307] Training GLL is 890.1039916981479 at iteration 7.\n",
      "INFO     [merf.py:307] Training GLL is 892.1901679080295 at iteration 8.\n",
      "INFO     [merf.py:307] Training GLL is 885.428730574243 at iteration 9.\n",
      "INFO     [merf.py:307] Training GLL is 884.9607702648113 at iteration 10.\n"
     ]
    },
    {
     "name": "stdout",
     "output_type": "stream",
     "text": [
      "Combination, ptev: -0.1191, prev: 1.1191, OOB Score: 35.7000\n"
     ]
    },
    {
     "name": "stderr",
     "output_type": "stream",
     "text": [
      "INFO     [merf.py:307] Training GLL is 858.3652857523184 at iteration 1.\n",
      "INFO     [merf.py:307] Training GLL is 885.2235695118743 at iteration 2.\n",
      "INFO     [merf.py:307] Training GLL is 872.847423308671 at iteration 3.\n",
      "INFO     [merf.py:307] Training GLL is 870.4087182023666 at iteration 4.\n",
      "INFO     [merf.py:307] Training GLL is 863.3431452076974 at iteration 5.\n",
      "INFO     [merf.py:307] Training GLL is 859.6333794492689 at iteration 6.\n",
      "INFO     [merf.py:307] Training GLL is 853.9213143988434 at iteration 7.\n",
      "INFO     [merf.py:307] Training GLL is 861.0446914634206 at iteration 8.\n",
      "INFO     [merf.py:307] Training GLL is 847.7618860609201 at iteration 9.\n",
      "INFO     [merf.py:307] Training GLL is 848.6141635805578 at iteration 10.\n"
     ]
    },
    {
     "name": "stdout",
     "output_type": "stream",
     "text": [
      "Combination, ptev: -0.0727, prev: 1.0727, OOB Score: 33.8000\n"
     ]
    },
    {
     "name": "stderr",
     "output_type": "stream",
     "text": [
      "INFO     [merf.py:307] Training GLL is 847.1684545615173 at iteration 1.\n",
      "INFO     [merf.py:307] Training GLL is 881.2737317098396 at iteration 2.\n",
      "INFO     [merf.py:307] Training GLL is 860.5069942571118 at iteration 3.\n",
      "INFO     [merf.py:307] Training GLL is 854.4036357710785 at iteration 4.\n",
      "INFO     [merf.py:307] Training GLL is 847.3024143172281 at iteration 5.\n",
      "INFO     [merf.py:307] Training GLL is 844.6207433021284 at iteration 6.\n",
      "INFO     [merf.py:307] Training GLL is 839.5803022509996 at iteration 7.\n",
      "INFO     [merf.py:307] Training GLL is 837.3504471078496 at iteration 8.\n",
      "INFO     [merf.py:307] Training GLL is 835.796456908016 at iteration 9.\n",
      "INFO     [merf.py:307] Training GLL is 830.2802688374577 at iteration 10.\n"
     ]
    },
    {
     "name": "stdout",
     "output_type": "stream",
     "text": [
      "Combination, ptev: -0.0531, prev: 1.0531, OOB Score: 31.4000\n"
     ]
    },
    {
     "name": "stderr",
     "output_type": "stream",
     "text": [
      "INFO     [merf.py:307] Training GLL is 889.7907969320993 at iteration 1.\n",
      "INFO     [merf.py:307] Training GLL is 879.7404139478934 at iteration 2.\n",
      "INFO     [merf.py:307] Training GLL is 860.9673551374877 at iteration 3.\n",
      "INFO     [merf.py:307] Training GLL is 858.6014352970116 at iteration 4.\n",
      "INFO     [merf.py:307] Training GLL is 846.0141126376187 at iteration 5.\n",
      "INFO     [merf.py:307] Training GLL is 843.84530849767 at iteration 6.\n",
      "INFO     [merf.py:307] Training GLL is 834.6023971608321 at iteration 7.\n",
      "INFO     [merf.py:307] Training GLL is 837.004912048158 at iteration 8.\n",
      "INFO     [merf.py:307] Training GLL is 826.8107022366054 at iteration 9.\n",
      "INFO     [merf.py:307] Training GLL is 835.5327893475011 at iteration 10.\n"
     ]
    },
    {
     "name": "stdout",
     "output_type": "stream",
     "text": [
      "Combination, ptev: -0.0051, prev: 1.0051, OOB Score: 27.2000\n"
     ]
    },
    {
     "name": "stderr",
     "output_type": "stream",
     "text": [
      "INFO     [merf.py:307] Training GLL is 862.4108538326758 at iteration 1.\n",
      "INFO     [merf.py:307] Training GLL is 882.4679262947822 at iteration 2.\n",
      "INFO     [merf.py:307] Training GLL is 879.2814131535641 at iteration 3.\n",
      "INFO     [merf.py:307] Training GLL is 873.3517175303751 at iteration 4.\n",
      "INFO     [merf.py:307] Training GLL is 860.8938619384008 at iteration 5.\n",
      "INFO     [merf.py:307] Training GLL is 854.0501642541619 at iteration 6.\n",
      "INFO     [merf.py:307] Training GLL is 848.6963271348751 at iteration 7.\n",
      "INFO     [merf.py:307] Training GLL is 835.0956044739775 at iteration 8.\n",
      "INFO     [merf.py:307] Training GLL is 836.8507192250644 at iteration 9.\n",
      "INFO     [merf.py:307] Training GLL is 832.7213980026416 at iteration 10.\n"
     ]
    },
    {
     "name": "stdout",
     "output_type": "stream",
     "text": [
      "Combination, ptev: -0.1520, prev: 1.1520, OOB Score: 36.2000\n"
     ]
    },
    {
     "name": "stderr",
     "output_type": "stream",
     "text": [
      "INFO     [merf.py:307] Training GLL is 836.3248296922706 at iteration 1.\n",
      "INFO     [merf.py:307] Training GLL is 867.5144565604182 at iteration 2.\n",
      "INFO     [merf.py:307] Training GLL is 864.056807197319 at iteration 3.\n",
      "INFO     [merf.py:307] Training GLL is 865.6565904812577 at iteration 4.\n",
      "INFO     [merf.py:307] Training GLL is 860.613038095688 at iteration 5.\n",
      "INFO     [merf.py:307] Training GLL is 854.0195218505087 at iteration 6.\n",
      "INFO     [merf.py:307] Training GLL is 854.7531679979633 at iteration 7.\n",
      "INFO     [merf.py:307] Training GLL is 841.174696451996 at iteration 8.\n",
      "INFO     [merf.py:307] Training GLL is 849.6579309184118 at iteration 9.\n",
      "INFO     [merf.py:307] Training GLL is 846.0459649506885 at iteration 10.\n"
     ]
    },
    {
     "name": "stdout",
     "output_type": "stream",
     "text": [
      "Combination, ptev: -0.3878, prev: 1.3878, OOB Score: 36.7000\n"
     ]
    },
    {
     "name": "stderr",
     "output_type": "stream",
     "text": [
      "INFO     [merf.py:307] Training GLL is 870.7099120838737 at iteration 1.\n",
      "INFO     [merf.py:307] Training GLL is 902.5679752497113 at iteration 2.\n",
      "INFO     [merf.py:307] Training GLL is 897.2609000001286 at iteration 3.\n",
      "INFO     [merf.py:307] Training GLL is 873.6826894880602 at iteration 4.\n",
      "INFO     [merf.py:307] Training GLL is 864.6722647694013 at iteration 5.\n",
      "INFO     [merf.py:307] Training GLL is 862.6410991146917 at iteration 6.\n",
      "INFO     [merf.py:307] Training GLL is 861.8025399858672 at iteration 7.\n",
      "INFO     [merf.py:307] Training GLL is 865.2960761594696 at iteration 8.\n",
      "INFO     [merf.py:307] Training GLL is 852.8997035332922 at iteration 9.\n",
      "INFO     [merf.py:307] Training GLL is 853.2890586496669 at iteration 10.\n"
     ]
    },
    {
     "name": "stdout",
     "output_type": "stream",
     "text": [
      "Combination, ptev: -0.3184, prev: 1.3184, OOB Score: 32.1000\n",
      "Combination: (500, None, 0.05, 2, 3)\n",
      "\n"
     ]
    },
    {
     "name": "stderr",
     "output_type": "stream",
     "text": [
      "INFO     [merf.py:307] Training GLL is 369.36534232152405 at iteration 1.\n",
      "INFO     [merf.py:307] Training GLL is 416.36655874458825 at iteration 2.\n"
     ]
    },
    {
     "name": "stdout",
     "output_type": "stream",
     "text": [
      "Combination, ptev: 0.0676, prev: 0.9324, OOB Score: 50.5000\n"
     ]
    },
    {
     "name": "stderr",
     "output_type": "stream",
     "text": [
      "INFO     [merf.py:307] Training GLL is 490.88461151248487 at iteration 1.\n",
      "INFO     [merf.py:307] Training GLL is 550.487466834517 at iteration 2.\n"
     ]
    },
    {
     "name": "stdout",
     "output_type": "stream",
     "text": [
      "Combination, ptev: 0.1459, prev: 0.8541, OOB Score: 33.9000\n"
     ]
    },
    {
     "name": "stderr",
     "output_type": "stream",
     "text": [
      "INFO     [merf.py:307] Training GLL is 497.87716799405695 at iteration 1.\n",
      "INFO     [merf.py:307] Training GLL is 569.5901377351195 at iteration 2.\n"
     ]
    },
    {
     "name": "stdout",
     "output_type": "stream",
     "text": [
      "Combination, ptev: 0.0595, prev: 0.9405, OOB Score: 33.9000\n",
      "Combination: (500, None, 0.05, 2, 5)\n",
      "\n"
     ]
    },
    {
     "name": "stderr",
     "output_type": "stream",
     "text": [
      "INFO     [merf.py:307] Training GLL is 554.8820702879447 at iteration 1.\n",
      "INFO     [merf.py:307] Training GLL is 596.3026590902314 at iteration 2.\n"
     ]
    },
    {
     "name": "stdout",
     "output_type": "stream",
     "text": [
      "Combination, ptev: -0.0434, prev: 1.0434, OOB Score: 36.9000\n"
     ]
    },
    {
     "name": "stderr",
     "output_type": "stream",
     "text": [
      "INFO     [merf.py:307] Training GLL is 571.5256775365822 at iteration 1.\n",
      "INFO     [merf.py:307] Training GLL is 621.0949724935972 at iteration 2.\n"
     ]
    },
    {
     "name": "stdout",
     "output_type": "stream",
     "text": [
      "Combination, ptev: -0.0179, prev: 1.0179, OOB Score: 39.1000\n"
     ]
    },
    {
     "name": "stderr",
     "output_type": "stream",
     "text": [
      "INFO     [merf.py:307] Training GLL is 567.899155017027 at iteration 1.\n",
      "INFO     [merf.py:307] Training GLL is 627.7247598019779 at iteration 2.\n"
     ]
    },
    {
     "name": "stdout",
     "output_type": "stream",
     "text": [
      "Combination, ptev: 0.0263, prev: 0.9737, OOB Score: 39.1000\n"
     ]
    },
    {
     "name": "stderr",
     "output_type": "stream",
     "text": [
      "INFO     [merf.py:307] Training GLL is 611.0119026410886 at iteration 1.\n",
      "INFO     [merf.py:307] Training GLL is 660.1609429130314 at iteration 2.\n"
     ]
    },
    {
     "name": "stdout",
     "output_type": "stream",
     "text": [
      "Combination, ptev: 0.0929, prev: 0.9071, OOB Score: 35.2000\n"
     ]
    },
    {
     "name": "stderr",
     "output_type": "stream",
     "text": [
      "INFO     [merf.py:307] Training GLL is 613.4556387829957 at iteration 1.\n",
      "INFO     [merf.py:307] Training GLL is 663.1224262401222 at iteration 2.\n"
     ]
    },
    {
     "name": "stdout",
     "output_type": "stream",
     "text": [
      "Combination, ptev: -0.1916, prev: 1.1916, OOB Score: 35.1000\n",
      "Combination: (500, None, 0.05, 2, 10)\n",
      "\n"
     ]
    },
    {
     "name": "stderr",
     "output_type": "stream",
     "text": [
      "INFO     [merf.py:307] Training GLL is 623.6539324313969 at iteration 1.\n",
      "INFO     [merf.py:307] Training GLL is 661.865350548457 at iteration 2.\n"
     ]
    },
    {
     "name": "stdout",
     "output_type": "stream",
     "text": [
      "Combination, ptev: 0.0549, prev: 0.9451, OOB Score: 40.5000\n"
     ]
    },
    {
     "name": "stderr",
     "output_type": "stream",
     "text": [
      "INFO     [merf.py:307] Training GLL is 660.9190337340823 at iteration 1.\n",
      "INFO     [merf.py:307] Training GLL is 694.1761372182921 at iteration 2.\n"
     ]
    },
    {
     "name": "stdout",
     "output_type": "stream",
     "text": [
      "Combination, ptev: -0.1346, prev: 1.1346, OOB Score: 34.4000\n"
     ]
    },
    {
     "name": "stderr",
     "output_type": "stream",
     "text": [
      "INFO     [merf.py:307] Training GLL is 635.3297863939874 at iteration 1.\n",
      "INFO     [merf.py:307] Training GLL is 659.5712150465251 at iteration 2.\n"
     ]
    },
    {
     "name": "stdout",
     "output_type": "stream",
     "text": [
      "Combination, ptev: -0.0799, prev: 1.0799, OOB Score: 41.5000\n"
     ]
    },
    {
     "name": "stderr",
     "output_type": "stream",
     "text": [
      "INFO     [merf.py:307] Training GLL is 669.0467247574779 at iteration 1.\n",
      "INFO     [merf.py:307] Training GLL is 711.9592629629792 at iteration 2.\n"
     ]
    },
    {
     "name": "stdout",
     "output_type": "stream",
     "text": [
      "Combination, ptev: -0.1464, prev: 1.1464, OOB Score: 40.0000\n"
     ]
    },
    {
     "name": "stderr",
     "output_type": "stream",
     "text": [
      "INFO     [merf.py:307] Training GLL is 655.1825526890141 at iteration 1.\n",
      "INFO     [merf.py:307] Training GLL is 685.8733749596614 at iteration 2.\n"
     ]
    },
    {
     "name": "stdout",
     "output_type": "stream",
     "text": [
      "Combination, ptev: -0.0991, prev: 1.0991, OOB Score: 37.3000\n"
     ]
    },
    {
     "name": "stderr",
     "output_type": "stream",
     "text": [
      "INFO     [merf.py:307] Training GLL is 647.0685831244851 at iteration 1.\n",
      "INFO     [merf.py:307] Training GLL is 707.5908806654643 at iteration 2.\n"
     ]
    },
    {
     "name": "stdout",
     "output_type": "stream",
     "text": [
      "Combination, ptev: -0.0898, prev: 1.0898, OOB Score: 37.5000\n"
     ]
    },
    {
     "name": "stderr",
     "output_type": "stream",
     "text": [
      "INFO     [merf.py:307] Training GLL is 684.3862091697215 at iteration 1.\n",
      "INFO     [merf.py:307] Training GLL is 714.4105715593275 at iteration 2.\n"
     ]
    },
    {
     "name": "stdout",
     "output_type": "stream",
     "text": [
      "Combination, ptev: -0.0105, prev: 1.0105, OOB Score: 31.6000\n"
     ]
    },
    {
     "name": "stderr",
     "output_type": "stream",
     "text": [
      "INFO     [merf.py:307] Training GLL is 662.0039120403145 at iteration 1.\n",
      "INFO     [merf.py:307] Training GLL is 708.7796639431356 at iteration 2.\n"
     ]
    },
    {
     "name": "stdout",
     "output_type": "stream",
     "text": [
      "Combination, ptev: -0.2332, prev: 1.2332, OOB Score: 39.7000\n"
     ]
    },
    {
     "name": "stderr",
     "output_type": "stream",
     "text": [
      "INFO     [merf.py:307] Training GLL is 654.0965677492256 at iteration 1.\n",
      "INFO     [merf.py:307] Training GLL is 706.0134416401219 at iteration 2.\n"
     ]
    },
    {
     "name": "stdout",
     "output_type": "stream",
     "text": [
      "Combination, ptev: -0.5245, prev: 1.5245, OOB Score: 38.7000\n"
     ]
    },
    {
     "name": "stderr",
     "output_type": "stream",
     "text": [
      "INFO     [merf.py:307] Training GLL is 682.6473146321557 at iteration 1.\n",
      "INFO     [merf.py:307] Training GLL is 720.5714306549842 at iteration 2.\n"
     ]
    },
    {
     "name": "stdout",
     "output_type": "stream",
     "text": [
      "Combination, ptev: -0.4447, prev: 1.4447, OOB Score: 35.1000\n",
      "Combination: (500, None, 0.05, 10, 3)\n",
      "\n"
     ]
    },
    {
     "name": "stderr",
     "output_type": "stream",
     "text": [
      "INFO     [merf.py:307] Training GLL is 370.86348434259156 at iteration 1.\n",
      "INFO     [merf.py:307] Training GLL is 416.15654584330883 at iteration 2.\n",
      "INFO     [merf.py:307] Training GLL is 413.7050830801814 at iteration 3.\n",
      "INFO     [merf.py:307] Training GLL is 411.7353358691998 at iteration 4.\n",
      "INFO     [merf.py:307] Training GLL is 405.5278610864057 at iteration 5.\n",
      "INFO     [merf.py:307] Training GLL is 402.0076211541484 at iteration 6.\n",
      "INFO     [merf.py:307] Training GLL is 402.64771693682707 at iteration 7.\n",
      "INFO     [merf.py:307] Training GLL is 399.6853833476894 at iteration 8.\n",
      "INFO     [merf.py:307] Training GLL is 397.1520470055567 at iteration 9.\n",
      "INFO     [merf.py:307] Training GLL is 395.2969253375379 at iteration 10.\n"
     ]
    },
    {
     "name": "stdout",
     "output_type": "stream",
     "text": [
      "Combination, ptev: 0.0727, prev: 0.9273, OOB Score: 49.0000\n"
     ]
    },
    {
     "name": "stderr",
     "output_type": "stream",
     "text": [
      "INFO     [merf.py:307] Training GLL is 489.9452484111196 at iteration 1.\n",
      "INFO     [merf.py:307] Training GLL is 557.4422989857608 at iteration 2.\n",
      "INFO     [merf.py:307] Training GLL is 560.7039773984238 at iteration 3.\n",
      "INFO     [merf.py:307] Training GLL is 558.4994541697737 at iteration 4.\n",
      "INFO     [merf.py:307] Training GLL is 554.8679959008874 at iteration 5.\n",
      "INFO     [merf.py:307] Training GLL is 554.4545883808352 at iteration 6.\n",
      "INFO     [merf.py:307] Training GLL is 555.8198600930368 at iteration 7.\n",
      "INFO     [merf.py:307] Training GLL is 560.080885809232 at iteration 8.\n",
      "INFO     [merf.py:307] Training GLL is 554.6218748025294 at iteration 9.\n",
      "INFO     [merf.py:307] Training GLL is 556.7399151632331 at iteration 10.\n"
     ]
    },
    {
     "name": "stdout",
     "output_type": "stream",
     "text": [
      "Combination, ptev: 0.1602, prev: 0.8398, OOB Score: 32.9000\n"
     ]
    },
    {
     "name": "stderr",
     "output_type": "stream",
     "text": [
      "INFO     [merf.py:307] Training GLL is 495.2766886512409 at iteration 1.\n",
      "INFO     [merf.py:307] Training GLL is 569.0647088777044 at iteration 2.\n",
      "INFO     [merf.py:307] Training GLL is 580.1554160311161 at iteration 3.\n",
      "INFO     [merf.py:307] Training GLL is 583.5384067815132 at iteration 4.\n",
      "INFO     [merf.py:307] Training GLL is 585.0570932862177 at iteration 5.\n",
      "INFO     [merf.py:307] Training GLL is 588.4233211811587 at iteration 6.\n",
      "INFO     [merf.py:307] Training GLL is 588.6041118897763 at iteration 7.\n",
      "INFO     [merf.py:307] Training GLL is 590.7536400025001 at iteration 8.\n",
      "INFO     [merf.py:307] Training GLL is 597.8255253354357 at iteration 9.\n",
      "INFO     [merf.py:307] Training GLL is 596.5022001149873 at iteration 10.\n"
     ]
    },
    {
     "name": "stdout",
     "output_type": "stream",
     "text": [
      "Combination, ptev: 0.0466, prev: 0.9534, OOB Score: 37.9000\n",
      "Combination: (500, None, 0.05, 10, 5)\n",
      "\n"
     ]
    },
    {
     "name": "stderr",
     "output_type": "stream",
     "text": [
      "INFO     [merf.py:307] Training GLL is 563.2382958305257 at iteration 1.\n",
      "INFO     [merf.py:307] Training GLL is 603.314238161241 at iteration 2.\n",
      "INFO     [merf.py:307] Training GLL is 593.1114319202682 at iteration 3.\n",
      "INFO     [merf.py:307] Training GLL is 585.2583281937875 at iteration 4.\n",
      "INFO     [merf.py:307] Training GLL is 574.3358998856356 at iteration 5.\n",
      "INFO     [merf.py:307] Training GLL is 573.7454880196753 at iteration 6.\n",
      "INFO     [merf.py:307] Training GLL is 566.9462707335157 at iteration 7.\n",
      "INFO     [merf.py:307] Training GLL is 558.8779246422587 at iteration 8.\n",
      "INFO     [merf.py:307] Training GLL is 557.8478759581714 at iteration 9.\n",
      "INFO     [merf.py:307] Training GLL is 548.209017275654 at iteration 10.\n"
     ]
    },
    {
     "name": "stdout",
     "output_type": "stream",
     "text": [
      "Combination, ptev: -0.0338, prev: 1.0338, OOB Score: 34.2000\n"
     ]
    },
    {
     "name": "stderr",
     "output_type": "stream",
     "text": [
      "INFO     [merf.py:307] Training GLL is 565.8088188322017 at iteration 1.\n",
      "INFO     [merf.py:307] Training GLL is 618.117374842659 at iteration 2.\n",
      "INFO     [merf.py:307] Training GLL is 616.258704575337 at iteration 3.\n",
      "INFO     [merf.py:307] Training GLL is 615.764302461495 at iteration 4.\n",
      "INFO     [merf.py:307] Training GLL is 622.7052689022264 at iteration 5.\n",
      "INFO     [merf.py:307] Training GLL is 623.0486680421673 at iteration 6.\n",
      "INFO     [merf.py:307] Training GLL is 623.2701609277492 at iteration 7.\n",
      "INFO     [merf.py:307] Training GLL is 624.5235455945398 at iteration 8.\n",
      "INFO     [merf.py:307] Training GLL is 619.7448299793307 at iteration 9.\n",
      "INFO     [merf.py:307] Training GLL is 623.289310318935 at iteration 10.\n"
     ]
    },
    {
     "name": "stdout",
     "output_type": "stream",
     "text": [
      "Combination, ptev: -0.0148, prev: 1.0148, OOB Score: 38.6000\n"
     ]
    },
    {
     "name": "stderr",
     "output_type": "stream",
     "text": [
      "INFO     [merf.py:307] Training GLL is 575.6129400542363 at iteration 1.\n",
      "INFO     [merf.py:307] Training GLL is 624.7986138380444 at iteration 2.\n",
      "INFO     [merf.py:307] Training GLL is 627.8240209848913 at iteration 3.\n",
      "INFO     [merf.py:307] Training GLL is 624.7927456618005 at iteration 4.\n",
      "INFO     [merf.py:307] Training GLL is 624.6234329895728 at iteration 5.\n",
      "INFO     [merf.py:307] Training GLL is 623.6693427770876 at iteration 6.\n",
      "INFO     [merf.py:307] Training GLL is 623.4878199406586 at iteration 7.\n",
      "INFO     [merf.py:307] Training GLL is 623.8760061769074 at iteration 8.\n",
      "INFO     [merf.py:307] Training GLL is 623.0664250017193 at iteration 9.\n",
      "INFO     [merf.py:307] Training GLL is 619.0521120397607 at iteration 10.\n"
     ]
    },
    {
     "name": "stdout",
     "output_type": "stream",
     "text": [
      "Combination, ptev: 0.0436, prev: 0.9564, OOB Score: 37.6000\n"
     ]
    },
    {
     "name": "stderr",
     "output_type": "stream",
     "text": [
      "INFO     [merf.py:307] Training GLL is 622.8906463783509 at iteration 1.\n",
      "INFO     [merf.py:307] Training GLL is 661.9212087233885 at iteration 2.\n",
      "INFO     [merf.py:307] Training GLL is 660.3908074779251 at iteration 3.\n",
      "INFO     [merf.py:307] Training GLL is 654.3409107724357 at iteration 4.\n",
      "INFO     [merf.py:307] Training GLL is 649.0891234285957 at iteration 5.\n",
      "INFO     [merf.py:307] Training GLL is 644.9113138957912 at iteration 6.\n",
      "INFO     [merf.py:307] Training GLL is 641.5003377824978 at iteration 7.\n",
      "INFO     [merf.py:307] Training GLL is 638.5149174808296 at iteration 8.\n",
      "INFO     [merf.py:307] Training GLL is 633.6034252685413 at iteration 9.\n",
      "INFO     [merf.py:307] Training GLL is 631.4682011697126 at iteration 10.\n"
     ]
    },
    {
     "name": "stdout",
     "output_type": "stream",
     "text": [
      "Combination, ptev: 0.0934, prev: 0.9066, OOB Score: 33.1000\n"
     ]
    },
    {
     "name": "stderr",
     "output_type": "stream",
     "text": [
      "INFO     [merf.py:307] Training GLL is 606.794251878481 at iteration 1.\n",
      "INFO     [merf.py:307] Training GLL is 668.5984316935323 at iteration 2.\n",
      "INFO     [merf.py:307] Training GLL is 665.0306325089499 at iteration 3.\n",
      "INFO     [merf.py:307] Training GLL is 663.7249861901373 at iteration 4.\n",
      "INFO     [merf.py:307] Training GLL is 665.0246411663442 at iteration 5.\n",
      "INFO     [merf.py:307] Training GLL is 666.0374646325145 at iteration 6.\n",
      "INFO     [merf.py:307] Training GLL is 670.2900011680091 at iteration 7.\n",
      "INFO     [merf.py:307] Training GLL is 669.5235630843008 at iteration 8.\n",
      "INFO     [merf.py:307] Training GLL is 664.4217412213333 at iteration 9.\n",
      "INFO     [merf.py:307] Training GLL is 666.2346340577578 at iteration 10.\n"
     ]
    },
    {
     "name": "stdout",
     "output_type": "stream",
     "text": [
      "Combination, ptev: -0.1850, prev: 1.1850, OOB Score: 33.9000\n",
      "Combination: (500, None, 0.05, 10, 10)\n",
      "\n"
     ]
    },
    {
     "name": "stderr",
     "output_type": "stream",
     "text": [
      "INFO     [merf.py:307] Training GLL is 620.2686894757355 at iteration 1.\n",
      "INFO     [merf.py:307] Training GLL is 667.8163557876338 at iteration 2.\n",
      "INFO     [merf.py:307] Training GLL is 665.9403624645188 at iteration 3.\n",
      "INFO     [merf.py:307] Training GLL is 654.2272561593736 at iteration 4.\n",
      "INFO     [merf.py:307] Training GLL is 652.334883833611 at iteration 5.\n",
      "INFO     [merf.py:307] Training GLL is 652.8423212561213 at iteration 6.\n",
      "INFO     [merf.py:307] Training GLL is 648.411104941753 at iteration 7.\n",
      "INFO     [merf.py:307] Training GLL is 649.6159709133817 at iteration 8.\n",
      "INFO     [merf.py:307] Training GLL is 646.6525731897725 at iteration 9.\n",
      "INFO     [merf.py:307] Training GLL is 641.6579360031184 at iteration 10.\n"
     ]
    },
    {
     "name": "stdout",
     "output_type": "stream",
     "text": [
      "Combination, ptev: 0.0702, prev: 0.9298, OOB Score: 37.0000\n"
     ]
    },
    {
     "name": "stderr",
     "output_type": "stream",
     "text": [
      "INFO     [merf.py:307] Training GLL is 667.3743899685724 at iteration 1.\n",
      "INFO     [merf.py:307] Training GLL is 699.7469773510245 at iteration 2.\n",
      "INFO     [merf.py:307] Training GLL is 683.6353095584789 at iteration 3.\n",
      "INFO     [merf.py:307] Training GLL is 675.6074229066502 at iteration 4.\n",
      "INFO     [merf.py:307] Training GLL is 671.1928927667474 at iteration 5.\n",
      "INFO     [merf.py:307] Training GLL is 664.7182234191056 at iteration 6.\n",
      "INFO     [merf.py:307] Training GLL is 662.8237866163748 at iteration 7.\n",
      "INFO     [merf.py:307] Training GLL is 654.3408382038835 at iteration 8.\n",
      "INFO     [merf.py:307] Training GLL is 647.7169128307406 at iteration 9.\n",
      "INFO     [merf.py:307] Training GLL is 645.8192190166694 at iteration 10.\n"
     ]
    },
    {
     "name": "stdout",
     "output_type": "stream",
     "text": [
      "Combination, ptev: -0.1362, prev: 1.1362, OOB Score: 29.2000\n"
     ]
    },
    {
     "name": "stderr",
     "output_type": "stream",
     "text": [
      "INFO     [merf.py:307] Training GLL is 637.5119494533416 at iteration 1.\n",
      "INFO     [merf.py:307] Training GLL is 667.7320746520003 at iteration 2.\n",
      "INFO     [merf.py:307] Training GLL is 655.5521230256439 at iteration 3.\n",
      "INFO     [merf.py:307] Training GLL is 651.241947954388 at iteration 4.\n",
      "INFO     [merf.py:307] Training GLL is 647.9378313229969 at iteration 5.\n",
      "INFO     [merf.py:307] Training GLL is 641.8102515968616 at iteration 6.\n",
      "INFO     [merf.py:307] Training GLL is 626.9765087307036 at iteration 7.\n",
      "INFO     [merf.py:307] Training GLL is 629.7429856583624 at iteration 8.\n",
      "INFO     [merf.py:307] Training GLL is 619.5916399589313 at iteration 9.\n",
      "INFO     [merf.py:307] Training GLL is 616.4745352927185 at iteration 10.\n"
     ]
    },
    {
     "name": "stdout",
     "output_type": "stream",
     "text": [
      "Combination, ptev: -0.0791, prev: 1.0791, OOB Score: 36.7000\n"
     ]
    },
    {
     "name": "stderr",
     "output_type": "stream",
     "text": [
      "INFO     [merf.py:307] Training GLL is 674.9103490138617 at iteration 1.\n",
      "INFO     [merf.py:307] Training GLL is 718.0241744400029 at iteration 2.\n",
      "INFO     [merf.py:307] Training GLL is 721.2109771006906 at iteration 3.\n",
      "INFO     [merf.py:307] Training GLL is 719.0601802861916 at iteration 4.\n",
      "INFO     [merf.py:307] Training GLL is 715.6878993108334 at iteration 5.\n",
      "INFO     [merf.py:307] Training GLL is 713.103367196939 at iteration 6.\n",
      "INFO     [merf.py:307] Training GLL is 714.5695013663768 at iteration 7.\n",
      "INFO     [merf.py:307] Training GLL is 714.0887446375533 at iteration 8.\n",
      "INFO     [merf.py:307] Training GLL is 716.5258614287972 at iteration 9.\n",
      "INFO     [merf.py:307] Training GLL is 709.2563786933376 at iteration 10.\n"
     ]
    },
    {
     "name": "stdout",
     "output_type": "stream",
     "text": [
      "Combination, ptev: -0.1199, prev: 1.1199, OOB Score: 36.3000\n"
     ]
    },
    {
     "name": "stderr",
     "output_type": "stream",
     "text": [
      "INFO     [merf.py:307] Training GLL is 648.5740520681999 at iteration 1.\n",
      "INFO     [merf.py:307] Training GLL is 686.2006421727334 at iteration 2.\n",
      "INFO     [merf.py:307] Training GLL is 684.0241623084212 at iteration 3.\n",
      "INFO     [merf.py:307] Training GLL is 671.5148189580913 at iteration 4.\n",
      "INFO     [merf.py:307] Training GLL is 662.8535744070502 at iteration 5.\n",
      "INFO     [merf.py:307] Training GLL is 660.1550238760789 at iteration 6.\n",
      "INFO     [merf.py:307] Training GLL is 659.7874143059857 at iteration 7.\n",
      "INFO     [merf.py:307] Training GLL is 650.1099018104893 at iteration 8.\n",
      "INFO     [merf.py:307] Training GLL is 647.7868542773663 at iteration 9.\n",
      "INFO     [merf.py:307] Training GLL is 645.6055182315845 at iteration 10.\n"
     ]
    },
    {
     "name": "stdout",
     "output_type": "stream",
     "text": [
      "Combination, ptev: -0.0764, prev: 1.0764, OOB Score: 33.4000\n"
     ]
    },
    {
     "name": "stderr",
     "output_type": "stream",
     "text": [
      "INFO     [merf.py:307] Training GLL is 652.2406557477749 at iteration 1.\n",
      "INFO     [merf.py:307] Training GLL is 703.3147829471618 at iteration 2.\n",
      "INFO     [merf.py:307] Training GLL is 699.8853864925629 at iteration 3.\n",
      "INFO     [merf.py:307] Training GLL is 699.4277349603168 at iteration 4.\n",
      "INFO     [merf.py:307] Training GLL is 698.596159047115 at iteration 5.\n",
      "INFO     [merf.py:307] Training GLL is 696.6764374621816 at iteration 6.\n",
      "INFO     [merf.py:307] Training GLL is 699.6631304006698 at iteration 7.\n",
      "INFO     [merf.py:307] Training GLL is 694.6637229232489 at iteration 8.\n",
      "INFO     [merf.py:307] Training GLL is 698.9707458797236 at iteration 9.\n",
      "INFO     [merf.py:307] Training GLL is 696.7534270384051 at iteration 10.\n"
     ]
    },
    {
     "name": "stdout",
     "output_type": "stream",
     "text": [
      "Combination, ptev: -0.0696, prev: 1.0696, OOB Score: 34.4000\n"
     ]
    },
    {
     "name": "stderr",
     "output_type": "stream",
     "text": [
      "INFO     [merf.py:307] Training GLL is 683.600324734191 at iteration 1.\n",
      "INFO     [merf.py:307] Training GLL is 715.6367859580226 at iteration 2.\n",
      "INFO     [merf.py:307] Training GLL is 709.2958603249633 at iteration 3.\n",
      "INFO     [merf.py:307] Training GLL is 696.7780263376098 at iteration 4.\n",
      "INFO     [merf.py:307] Training GLL is 685.0014822322229 at iteration 5.\n",
      "INFO     [merf.py:307] Training GLL is 680.8746488019445 at iteration 6.\n",
      "INFO     [merf.py:307] Training GLL is 674.2835110569116 at iteration 7.\n",
      "INFO     [merf.py:307] Training GLL is 670.9721130352642 at iteration 8.\n",
      "INFO     [merf.py:307] Training GLL is 672.5779729039963 at iteration 9.\n",
      "INFO     [merf.py:307] Training GLL is 662.8091112293491 at iteration 10.\n"
     ]
    },
    {
     "name": "stdout",
     "output_type": "stream",
     "text": [
      "Combination, ptev: 0.0071, prev: 0.9929, OOB Score: 29.3000\n"
     ]
    },
    {
     "name": "stderr",
     "output_type": "stream",
     "text": [
      "INFO     [merf.py:307] Training GLL is 659.3081559784422 at iteration 1.\n",
      "INFO     [merf.py:307] Training GLL is 714.2401074704105 at iteration 2.\n",
      "INFO     [merf.py:307] Training GLL is 709.1027179938928 at iteration 3.\n",
      "INFO     [merf.py:307] Training GLL is 702.9819605790381 at iteration 4.\n",
      "INFO     [merf.py:307] Training GLL is 700.0550220390886 at iteration 5.\n",
      "INFO     [merf.py:307] Training GLL is 695.0826091166344 at iteration 6.\n",
      "INFO     [merf.py:307] Training GLL is 695.2199440934716 at iteration 7.\n",
      "INFO     [merf.py:307] Training GLL is 696.666254417655 at iteration 8.\n",
      "INFO     [merf.py:307] Training GLL is 692.9544120906519 at iteration 9.\n",
      "INFO     [merf.py:307] Training GLL is 685.3573338547583 at iteration 10.\n"
     ]
    },
    {
     "name": "stdout",
     "output_type": "stream",
     "text": [
      "Combination, ptev: -0.2066, prev: 1.2066, OOB Score: 37.7000\n"
     ]
    },
    {
     "name": "stderr",
     "output_type": "stream",
     "text": [
      "INFO     [merf.py:307] Training GLL is 659.2051146023495 at iteration 1.\n",
      "INFO     [merf.py:307] Training GLL is 707.326639719972 at iteration 2.\n",
      "INFO     [merf.py:307] Training GLL is 710.5017225068841 at iteration 3.\n",
      "INFO     [merf.py:307] Training GLL is 706.5916835847487 at iteration 4.\n",
      "INFO     [merf.py:307] Training GLL is 704.9225349327971 at iteration 5.\n",
      "INFO     [merf.py:307] Training GLL is 704.9578589392453 at iteration 6.\n",
      "INFO     [merf.py:307] Training GLL is 707.915974395347 at iteration 7.\n",
      "INFO     [merf.py:307] Training GLL is 708.5163002882015 at iteration 8.\n",
      "INFO     [merf.py:307] Training GLL is 706.3366373783277 at iteration 9.\n",
      "INFO     [merf.py:307] Training GLL is 701.6534992304164 at iteration 10.\n"
     ]
    },
    {
     "name": "stdout",
     "output_type": "stream",
     "text": [
      "Combination, ptev: -0.5007, prev: 1.5007, OOB Score: 37.9000\n"
     ]
    },
    {
     "name": "stderr",
     "output_type": "stream",
     "text": [
      "INFO     [merf.py:307] Training GLL is 684.1643710876128 at iteration 1.\n",
      "INFO     [merf.py:307] Training GLL is 721.9503553826933 at iteration 2.\n",
      "INFO     [merf.py:307] Training GLL is 721.0963208921237 at iteration 3.\n",
      "INFO     [merf.py:307] Training GLL is 714.258618530107 at iteration 4.\n",
      "INFO     [merf.py:307] Training GLL is 714.0596960474537 at iteration 5.\n",
      "INFO     [merf.py:307] Training GLL is 711.7315706780946 at iteration 6.\n",
      "INFO     [merf.py:307] Training GLL is 705.1089307308551 at iteration 7.\n",
      "INFO     [merf.py:307] Training GLL is 699.0630989113943 at iteration 8.\n",
      "INFO     [merf.py:307] Training GLL is 695.6632100644614 at iteration 9.\n",
      "INFO     [merf.py:307] Training GLL is 693.7450364089256 at iteration 10.\n"
     ]
    },
    {
     "name": "stdout",
     "output_type": "stream",
     "text": [
      "Combination, ptev: -0.4115, prev: 1.4115, OOB Score: 31.8000\n",
      "Combination: (500, None, 0.1, 2, 3)\n",
      "\n"
     ]
    },
    {
     "name": "stderr",
     "output_type": "stream",
     "text": [
      "INFO     [merf.py:307] Training GLL is 473.25768022367816 at iteration 1.\n",
      "INFO     [merf.py:307] Training GLL is 492.96987903027446 at iteration 2.\n"
     ]
    },
    {
     "name": "stdout",
     "output_type": "stream",
     "text": [
      "Combination, ptev: 0.0862, prev: 0.9138, OOB Score: 55.5000\n"
     ]
    },
    {
     "name": "stderr",
     "output_type": "stream",
     "text": [
      "INFO     [merf.py:307] Training GLL is 592.3235896317552 at iteration 1.\n",
      "INFO     [merf.py:307] Training GLL is 643.2977860736137 at iteration 2.\n"
     ]
    },
    {
     "name": "stdout",
     "output_type": "stream",
     "text": [
      "Combination, ptev: 0.1457, prev: 0.8543, OOB Score: 36.3000\n"
     ]
    },
    {
     "name": "stderr",
     "output_type": "stream",
     "text": [
      "INFO     [merf.py:307] Training GLL is 596.5835019779679 at iteration 1.\n",
      "INFO     [merf.py:307] Training GLL is 658.2890717204793 at iteration 2.\n"
     ]
    },
    {
     "name": "stdout",
     "output_type": "stream",
     "text": [
      "Combination, ptev: 0.0425, prev: 0.9575, OOB Score: 39.7000\n",
      "Combination: (500, None, 0.1, 2, 5)\n",
      "\n"
     ]
    },
    {
     "name": "stderr",
     "output_type": "stream",
     "text": [
      "INFO     [merf.py:307] Training GLL is 665.1953960726194 at iteration 1.\n",
      "INFO     [merf.py:307] Training GLL is 691.970553785953 at iteration 2.\n"
     ]
    },
    {
     "name": "stdout",
     "output_type": "stream",
     "text": [
      "Combination, ptev: 0.0014, prev: 0.9986, OOB Score: 39.8000\n"
     ]
    },
    {
     "name": "stderr",
     "output_type": "stream",
     "text": [
      "INFO     [merf.py:307] Training GLL is 686.4783967869412 at iteration 1.\n",
      "INFO     [merf.py:307] Training GLL is 721.9822957185285 at iteration 2.\n"
     ]
    },
    {
     "name": "stdout",
     "output_type": "stream",
     "text": [
      "Combination, ptev: -0.0332, prev: 1.0332, OOB Score: 42.3000\n"
     ]
    },
    {
     "name": "stderr",
     "output_type": "stream",
     "text": [
      "INFO     [merf.py:307] Training GLL is 688.4687202078542 at iteration 1.\n",
      "INFO     [merf.py:307] Training GLL is 732.5518025070874 at iteration 2.\n"
     ]
    },
    {
     "name": "stdout",
     "output_type": "stream",
     "text": [
      "Combination, ptev: 0.0151, prev: 0.9849, OOB Score: 39.8000\n"
     ]
    },
    {
     "name": "stderr",
     "output_type": "stream",
     "text": [
      "INFO     [merf.py:307] Training GLL is 701.6834420513634 at iteration 1.\n",
      "INFO     [merf.py:307] Training GLL is 738.8184976953581 at iteration 2.\n"
     ]
    },
    {
     "name": "stdout",
     "output_type": "stream",
     "text": [
      "Combination, ptev: 0.0800, prev: 0.9200, OOB Score: 37.9000\n"
     ]
    },
    {
     "name": "stderr",
     "output_type": "stream",
     "text": [
      "INFO     [merf.py:307] Training GLL is 713.276133752177 at iteration 1.\n",
      "INFO     [merf.py:307] Training GLL is 766.3009823083445 at iteration 2.\n"
     ]
    },
    {
     "name": "stdout",
     "output_type": "stream",
     "text": [
      "Combination, ptev: -0.1884, prev: 1.1884, OOB Score: 39.4000\n",
      "Combination: (500, None, 0.1, 2, 10)\n",
      "\n"
     ]
    },
    {
     "name": "stderr",
     "output_type": "stream",
     "text": [
      "INFO     [merf.py:307] Training GLL is 744.2016725807167 at iteration 1.\n",
      "INFO     [merf.py:307] Training GLL is 777.9593614186371 at iteration 2.\n"
     ]
    },
    {
     "name": "stdout",
     "output_type": "stream",
     "text": [
      "Combination, ptev: 0.1092, prev: 0.8908, OOB Score: 41.1000\n"
     ]
    },
    {
     "name": "stderr",
     "output_type": "stream",
     "text": [
      "INFO     [merf.py:307] Training GLL is 776.771449849757 at iteration 1.\n",
      "INFO     [merf.py:307] Training GLL is 800.4622425024437 at iteration 2.\n"
     ]
    },
    {
     "name": "stdout",
     "output_type": "stream",
     "text": [
      "Combination, ptev: -0.0817, prev: 1.0817, OOB Score: 37.2000\n"
     ]
    },
    {
     "name": "stderr",
     "output_type": "stream",
     "text": [
      "INFO     [merf.py:307] Training GLL is 752.6727603136527 at iteration 1.\n",
      "INFO     [merf.py:307] Training GLL is 765.7419577431801 at iteration 2.\n"
     ]
    },
    {
     "name": "stdout",
     "output_type": "stream",
     "text": [
      "Combination, ptev: -0.0396, prev: 1.0396, OOB Score: 43.7000\n"
     ]
    },
    {
     "name": "stderr",
     "output_type": "stream",
     "text": [
      "INFO     [merf.py:307] Training GLL is 787.0237857866671 at iteration 1.\n",
      "INFO     [merf.py:307] Training GLL is 827.8929301099087 at iteration 2.\n"
     ]
    },
    {
     "name": "stdout",
     "output_type": "stream",
     "text": [
      "Combination, ptev: -0.1551, prev: 1.1551, OOB Score: 41.3000\n"
     ]
    },
    {
     "name": "stderr",
     "output_type": "stream",
     "text": [
      "INFO     [merf.py:307] Training GLL is 790.5017226918968 at iteration 1.\n",
      "INFO     [merf.py:307] Training GLL is 807.1160394181672 at iteration 2.\n"
     ]
    },
    {
     "name": "stdout",
     "output_type": "stream",
     "text": [
      "Combination, ptev: -0.1028, prev: 1.1028, OOB Score: 39.8000\n"
     ]
    },
    {
     "name": "stderr",
     "output_type": "stream",
     "text": [
      "INFO     [merf.py:307] Training GLL is 777.1353191716344 at iteration 1.\n",
      "INFO     [merf.py:307] Training GLL is 823.9751443112995 at iteration 2.\n"
     ]
    },
    {
     "name": "stdout",
     "output_type": "stream",
     "text": [
      "Combination, ptev: -0.0868, prev: 1.0868, OOB Score: 39.5000\n"
     ]
    },
    {
     "name": "stderr",
     "output_type": "stream",
     "text": [
      "INFO     [merf.py:307] Training GLL is 785.4241397728238 at iteration 1.\n",
      "INFO     [merf.py:307] Training GLL is 798.7421053479524 at iteration 2.\n"
     ]
    },
    {
     "name": "stdout",
     "output_type": "stream",
     "text": [
      "Combination, ptev: -0.0140, prev: 1.0140, OOB Score: 32.6000\n"
     ]
    },
    {
     "name": "stderr",
     "output_type": "stream",
     "text": [
      "INFO     [merf.py:307] Training GLL is 797.7547729033445 at iteration 1.\n",
      "INFO     [merf.py:307] Training GLL is 834.63228491876 at iteration 2.\n"
     ]
    },
    {
     "name": "stdout",
     "output_type": "stream",
     "text": [
      "Combination, ptev: -0.2352, prev: 1.2352, OOB Score: 42.8000\n"
     ]
    },
    {
     "name": "stderr",
     "output_type": "stream",
     "text": [
      "INFO     [merf.py:307] Training GLL is 784.7120718720835 at iteration 1.\n",
      "INFO     [merf.py:307] Training GLL is 832.0539495053926 at iteration 2.\n"
     ]
    },
    {
     "name": "stdout",
     "output_type": "stream",
     "text": [
      "Combination, ptev: -0.5308, prev: 1.5308, OOB Score: 42.2000\n"
     ]
    },
    {
     "name": "stderr",
     "output_type": "stream",
     "text": [
      "INFO     [merf.py:307] Training GLL is 811.0798906939249 at iteration 1.\n",
      "INFO     [merf.py:307] Training GLL is 845.6558878290206 at iteration 2.\n"
     ]
    },
    {
     "name": "stdout",
     "output_type": "stream",
     "text": [
      "Combination, ptev: -0.4626, prev: 1.4626, OOB Score: 36.9000\n",
      "Combination: (500, None, 0.1, 10, 3)\n",
      "\n"
     ]
    },
    {
     "name": "stderr",
     "output_type": "stream",
     "text": [
      "INFO     [merf.py:307] Training GLL is 472.7801712435889 at iteration 1.\n",
      "INFO     [merf.py:307] Training GLL is 492.71577687713176 at iteration 2.\n",
      "INFO     [merf.py:307] Training GLL is 483.4353894817431 at iteration 3.\n",
      "INFO     [merf.py:307] Training GLL is 479.56266226610876 at iteration 4.\n",
      "INFO     [merf.py:307] Training GLL is 479.1070845415265 at iteration 5.\n",
      "INFO     [merf.py:307] Training GLL is 475.513433774866 at iteration 6.\n",
      "INFO     [merf.py:307] Training GLL is 470.164266073082 at iteration 7.\n",
      "INFO     [merf.py:307] Training GLL is 464.04677447133497 at iteration 8.\n",
      "INFO     [merf.py:307] Training GLL is 459.73441082166863 at iteration 9.\n",
      "INFO     [merf.py:307] Training GLL is 460.1412397171847 at iteration 10.\n"
     ]
    },
    {
     "name": "stdout",
     "output_type": "stream",
     "text": [
      "Combination, ptev: 0.0890, prev: 0.9110, OOB Score: 49.5000\n"
     ]
    },
    {
     "name": "stderr",
     "output_type": "stream",
     "text": [
      "INFO     [merf.py:307] Training GLL is 598.0797377206059 at iteration 1.\n",
      "INFO     [merf.py:307] Training GLL is 640.0528835432327 at iteration 2.\n",
      "INFO     [merf.py:307] Training GLL is 646.2081031661068 at iteration 3.\n",
      "INFO     [merf.py:307] Training GLL is 643.4220201518555 at iteration 4.\n",
      "INFO     [merf.py:307] Training GLL is 637.6829015435425 at iteration 5.\n",
      "INFO     [merf.py:307] Training GLL is 637.8724512235599 at iteration 6.\n",
      "INFO     [merf.py:307] Training GLL is 637.9942234547863 at iteration 7.\n",
      "INFO     [merf.py:307] Training GLL is 641.0643287897792 at iteration 8.\n",
      "INFO     [merf.py:307] Training GLL is 634.4250387187468 at iteration 9.\n",
      "INFO     [merf.py:307] Training GLL is 633.5041741269538 at iteration 10.\n"
     ]
    },
    {
     "name": "stdout",
     "output_type": "stream",
     "text": [
      "Combination, ptev: 0.1666, prev: 0.8334, OOB Score: 34.8000\n"
     ]
    },
    {
     "name": "stderr",
     "output_type": "stream",
     "text": [
      "INFO     [merf.py:307] Training GLL is 596.4455237714589 at iteration 1.\n",
      "INFO     [merf.py:307] Training GLL is 657.5733511294598 at iteration 2.\n",
      "INFO     [merf.py:307] Training GLL is 671.7897685291275 at iteration 3.\n",
      "INFO     [merf.py:307] Training GLL is 675.9275840998624 at iteration 4.\n",
      "INFO     [merf.py:307] Training GLL is 676.399773496166 at iteration 5.\n",
      "INFO     [merf.py:307] Training GLL is 676.985654989505 at iteration 6.\n",
      "INFO     [merf.py:307] Training GLL is 677.054372160813 at iteration 7.\n",
      "INFO     [merf.py:307] Training GLL is 681.7869934119087 at iteration 8.\n",
      "INFO     [merf.py:307] Training GLL is 685.8723296295533 at iteration 9.\n",
      "INFO     [merf.py:307] Training GLL is 690.1391632323346 at iteration 10.\n"
     ]
    },
    {
     "name": "stdout",
     "output_type": "stream",
     "text": [
      "Combination, ptev: 0.0413, prev: 0.9587, OOB Score: 40.7000\n",
      "Combination: (500, None, 0.1, 10, 5)\n",
      "\n"
     ]
    },
    {
     "name": "stderr",
     "output_type": "stream",
     "text": [
      "INFO     [merf.py:307] Training GLL is 660.662467696644 at iteration 1.\n",
      "INFO     [merf.py:307] Training GLL is 690.300613852845 at iteration 2.\n",
      "INFO     [merf.py:307] Training GLL is 679.6072829787681 at iteration 3.\n",
      "INFO     [merf.py:307] Training GLL is 672.3638348492547 at iteration 4.\n",
      "INFO     [merf.py:307] Training GLL is 662.7930501914303 at iteration 5.\n",
      "INFO     [merf.py:307] Training GLL is 661.2895608063383 at iteration 6.\n",
      "INFO     [merf.py:307] Training GLL is 654.0961084282166 at iteration 7.\n",
      "INFO     [merf.py:307] Training GLL is 647.9995882541991 at iteration 8.\n",
      "INFO     [merf.py:307] Training GLL is 646.0252817728125 at iteration 9.\n",
      "INFO     [merf.py:307] Training GLL is 641.2364682922587 at iteration 10.\n"
     ]
    },
    {
     "name": "stdout",
     "output_type": "stream",
     "text": [
      "Combination, ptev: 0.0262, prev: 0.9738, OOB Score: 35.4000\n"
     ]
    },
    {
     "name": "stderr",
     "output_type": "stream",
     "text": [
      "INFO     [merf.py:307] Training GLL is 679.9323129729008 at iteration 1.\n",
      "INFO     [merf.py:307] Training GLL is 718.8391446436564 at iteration 2.\n",
      "INFO     [merf.py:307] Training GLL is 713.3411444911133 at iteration 3.\n",
      "INFO     [merf.py:307] Training GLL is 715.6424351768288 at iteration 4.\n",
      "INFO     [merf.py:307] Training GLL is 712.713057616601 at iteration 5.\n",
      "INFO     [merf.py:307] Training GLL is 715.7277354659045 at iteration 6.\n",
      "INFO     [merf.py:307] Training GLL is 710.7708752110348 at iteration 7.\n",
      "INFO     [merf.py:307] Training GLL is 710.7161430834358 at iteration 8.\n",
      "INFO     [merf.py:307] Training GLL is 706.625798807365 at iteration 9.\n",
      "INFO     [merf.py:307] Training GLL is 710.3574865029573 at iteration 10.\n"
     ]
    },
    {
     "name": "stdout",
     "output_type": "stream",
     "text": [
      "Combination, ptev: -0.0029, prev: 1.0029, OOB Score: 39.8000\n"
     ]
    },
    {
     "name": "stderr",
     "output_type": "stream",
     "text": [
      "INFO     [merf.py:307] Training GLL is 686.4280893800532 at iteration 1.\n",
      "INFO     [merf.py:307] Training GLL is 729.0157358038904 at iteration 2.\n",
      "INFO     [merf.py:307] Training GLL is 725.3700443311394 at iteration 3.\n",
      "INFO     [merf.py:307] Training GLL is 721.5847633216929 at iteration 4.\n",
      "INFO     [merf.py:307] Training GLL is 711.3490375786722 at iteration 5.\n",
      "INFO     [merf.py:307] Training GLL is 714.4232915023296 at iteration 6.\n",
      "INFO     [merf.py:307] Training GLL is 712.0507244109949 at iteration 7.\n",
      "INFO     [merf.py:307] Training GLL is 711.0117865909905 at iteration 8.\n",
      "INFO     [merf.py:307] Training GLL is 704.6820365100328 at iteration 9.\n",
      "INFO     [merf.py:307] Training GLL is 702.0498855561045 at iteration 10.\n"
     ]
    },
    {
     "name": "stdout",
     "output_type": "stream",
     "text": [
      "Combination, ptev: 0.0538, prev: 0.9462, OOB Score: 36.9000\n"
     ]
    },
    {
     "name": "stderr",
     "output_type": "stream",
     "text": [
      "INFO     [merf.py:307] Training GLL is 706.0286470885435 at iteration 1.\n",
      "INFO     [merf.py:307] Training GLL is 736.1381481262417 at iteration 2.\n",
      "INFO     [merf.py:307] Training GLL is 730.742979687326 at iteration 3.\n",
      "INFO     [merf.py:307] Training GLL is 721.2979685762226 at iteration 4.\n",
      "INFO     [merf.py:307] Training GLL is 718.6285605808351 at iteration 5.\n",
      "INFO     [merf.py:307] Training GLL is 706.5101934474674 at iteration 6.\n",
      "INFO     [merf.py:307] Training GLL is 704.3335971210377 at iteration 7.\n",
      "INFO     [merf.py:307] Training GLL is 701.6282373469609 at iteration 8.\n",
      "INFO     [merf.py:307] Training GLL is 698.1232966234119 at iteration 9.\n",
      "INFO     [merf.py:307] Training GLL is 694.1660672963415 at iteration 10.\n"
     ]
    },
    {
     "name": "stdout",
     "output_type": "stream",
     "text": [
      "Combination, ptev: 0.1058, prev: 0.8942, OOB Score: 33.9000\n"
     ]
    },
    {
     "name": "stderr",
     "output_type": "stream",
     "text": [
      "INFO     [merf.py:307] Training GLL is 712.8750881378453 at iteration 1.\n",
      "INFO     [merf.py:307] Training GLL is 763.3530426295782 at iteration 2.\n",
      "INFO     [merf.py:307] Training GLL is 772.2165520493091 at iteration 3.\n",
      "INFO     [merf.py:307] Training GLL is 769.5766154074066 at iteration 4.\n",
      "INFO     [merf.py:307] Training GLL is 768.5211958842555 at iteration 5.\n",
      "INFO     [merf.py:307] Training GLL is 770.5681319198934 at iteration 6.\n",
      "INFO     [merf.py:307] Training GLL is 772.3148331652343 at iteration 7.\n",
      "INFO     [merf.py:307] Training GLL is 770.6037840619813 at iteration 8.\n",
      "INFO     [merf.py:307] Training GLL is 766.036322480072 at iteration 9.\n",
      "INFO     [merf.py:307] Training GLL is 769.3026102810996 at iteration 10.\n"
     ]
    },
    {
     "name": "stdout",
     "output_type": "stream",
     "text": [
      "Combination, ptev: -0.1463, prev: 1.1463, OOB Score: 37.5000\n",
      "Combination: (500, None, 0.1, 10, 10)\n",
      "\n"
     ]
    },
    {
     "name": "stderr",
     "output_type": "stream",
     "text": [
      "INFO     [merf.py:307] Training GLL is 740.2697633000768 at iteration 1.\n",
      "INFO     [merf.py:307] Training GLL is 770.6128237425922 at iteration 2.\n",
      "INFO     [merf.py:307] Training GLL is 766.0300498203682 at iteration 3.\n",
      "INFO     [merf.py:307] Training GLL is 762.8845443725901 at iteration 4.\n",
      "INFO     [merf.py:307] Training GLL is 755.5630976676188 at iteration 5.\n",
      "INFO     [merf.py:307] Training GLL is 748.9950815460516 at iteration 6.\n",
      "INFO     [merf.py:307] Training GLL is 750.8713743225937 at iteration 7.\n",
      "INFO     [merf.py:307] Training GLL is 742.3239111077373 at iteration 8.\n",
      "INFO     [merf.py:307] Training GLL is 741.7458833953121 at iteration 9.\n",
      "INFO     [merf.py:307] Training GLL is 734.2309020269214 at iteration 10.\n"
     ]
    },
    {
     "name": "stdout",
     "output_type": "stream",
     "text": [
      "Combination, ptev: 0.1180, prev: 0.8820, OOB Score: 38.1000\n"
     ]
    },
    {
     "name": "stderr",
     "output_type": "stream",
     "text": [
      "INFO     [merf.py:307] Training GLL is 772.7208559976647 at iteration 1.\n",
      "INFO     [merf.py:307] Training GLL is 797.4123649751944 at iteration 2.\n",
      "INFO     [merf.py:307] Training GLL is 788.252166406061 at iteration 3.\n",
      "INFO     [merf.py:307] Training GLL is 774.2175738270702 at iteration 4.\n",
      "INFO     [merf.py:307] Training GLL is 772.934920921764 at iteration 5.\n",
      "INFO     [merf.py:307] Training GLL is 764.7419611615728 at iteration 6.\n",
      "INFO     [merf.py:307] Training GLL is 758.193461649304 at iteration 7.\n",
      "INFO     [merf.py:307] Training GLL is 759.9247025389357 at iteration 8.\n",
      "INFO     [merf.py:307] Training GLL is 749.614413271256 at iteration 9.\n",
      "INFO     [merf.py:307] Training GLL is 741.4093817702777 at iteration 10.\n"
     ]
    },
    {
     "name": "stdout",
     "output_type": "stream",
     "text": [
      "Combination, ptev: -0.0290, prev: 1.0290, OOB Score: 32.4000\n"
     ]
    },
    {
     "name": "stderr",
     "output_type": "stream",
     "text": [
      "INFO     [merf.py:307] Training GLL is 758.9893090320937 at iteration 1.\n",
      "INFO     [merf.py:307] Training GLL is 765.5299528253269 at iteration 2.\n",
      "INFO     [merf.py:307] Training GLL is 753.2502670262256 at iteration 3.\n",
      "INFO     [merf.py:307] Training GLL is 750.4626909295715 at iteration 4.\n",
      "INFO     [merf.py:307] Training GLL is 736.9570254441383 at iteration 5.\n",
      "INFO     [merf.py:307] Training GLL is 736.0070820512569 at iteration 6.\n",
      "INFO     [merf.py:307] Training GLL is 727.8569452277445 at iteration 7.\n",
      "INFO     [merf.py:307] Training GLL is 725.013973835268 at iteration 8.\n",
      "INFO     [merf.py:307] Training GLL is 720.2966234037225 at iteration 9.\n",
      "INFO     [merf.py:307] Training GLL is 713.4035667385707 at iteration 10.\n"
     ]
    },
    {
     "name": "stdout",
     "output_type": "stream",
     "text": [
      "Combination, ptev: -0.0069, prev: 1.0069, OOB Score: 39.3000\n"
     ]
    },
    {
     "name": "stderr",
     "output_type": "stream",
     "text": [
      "INFO     [merf.py:307] Training GLL is 790.2802119539609 at iteration 1.\n",
      "INFO     [merf.py:307] Training GLL is 827.5629054318763 at iteration 2.\n",
      "INFO     [merf.py:307] Training GLL is 827.4814232373635 at iteration 3.\n",
      "INFO     [merf.py:307] Training GLL is 819.6888422397816 at iteration 4.\n",
      "INFO     [merf.py:307] Training GLL is 817.7245227056069 at iteration 5.\n",
      "INFO     [merf.py:307] Training GLL is 812.3086138820439 at iteration 6.\n",
      "INFO     [merf.py:307] Training GLL is 817.2505132559589 at iteration 7.\n",
      "INFO     [merf.py:307] Training GLL is 811.1838397427977 at iteration 8.\n",
      "INFO     [merf.py:307] Training GLL is 811.1353060155011 at iteration 9.\n",
      "INFO     [merf.py:307] Training GLL is 810.3155282151645 at iteration 10.\n"
     ]
    },
    {
     "name": "stdout",
     "output_type": "stream",
     "text": [
      "Combination, ptev: -0.1037, prev: 1.1037, OOB Score: 37.3000\n"
     ]
    },
    {
     "name": "stderr",
     "output_type": "stream",
     "text": [
      "INFO     [merf.py:307] Training GLL is 793.5040504623252 at iteration 1.\n",
      "INFO     [merf.py:307] Training GLL is 813.989563503966 at iteration 2.\n",
      "INFO     [merf.py:307] Training GLL is 799.9830335771337 at iteration 3.\n",
      "INFO     [merf.py:307] Training GLL is 793.1767986553095 at iteration 4.\n",
      "INFO     [merf.py:307] Training GLL is 781.930671924832 at iteration 5.\n",
      "INFO     [merf.py:307] Training GLL is 776.8732428382241 at iteration 6.\n",
      "INFO     [merf.py:307] Training GLL is 772.3480858522809 at iteration 7.\n",
      "INFO     [merf.py:307] Training GLL is 765.1064942979156 at iteration 8.\n",
      "INFO     [merf.py:307] Training GLL is 765.2404957399633 at iteration 9.\n",
      "INFO     [merf.py:307] Training GLL is 758.3110910057909 at iteration 10.\n"
     ]
    },
    {
     "name": "stdout",
     "output_type": "stream",
     "text": [
      "Combination, ptev: -0.0638, prev: 1.0638, OOB Score: 34.8000\n"
     ]
    },
    {
     "name": "stderr",
     "output_type": "stream",
     "text": [
      "INFO     [merf.py:307] Training GLL is 777.6839510447935 at iteration 1.\n",
      "INFO     [merf.py:307] Training GLL is 819.2193030202505 at iteration 2.\n",
      "INFO     [merf.py:307] Training GLL is 819.7137821592926 at iteration 3.\n",
      "INFO     [merf.py:307] Training GLL is 810.9127772019211 at iteration 4.\n",
      "INFO     [merf.py:307] Training GLL is 807.1438755046096 at iteration 5.\n",
      "INFO     [merf.py:307] Training GLL is 800.2440091870162 at iteration 6.\n",
      "INFO     [merf.py:307] Training GLL is 793.8594556296241 at iteration 7.\n",
      "INFO     [merf.py:307] Training GLL is 790.8865091981025 at iteration 8.\n",
      "INFO     [merf.py:307] Training GLL is 795.2299932768805 at iteration 9.\n",
      "INFO     [merf.py:307] Training GLL is 789.3347982332127 at iteration 10.\n"
     ]
    },
    {
     "name": "stdout",
     "output_type": "stream",
     "text": [
      "Combination, ptev: -0.0474, prev: 1.0474, OOB Score: 36.4000\n"
     ]
    },
    {
     "name": "stderr",
     "output_type": "stream",
     "text": [
      "INFO     [merf.py:307] Training GLL is 795.5879117494079 at iteration 1.\n",
      "INFO     [merf.py:307] Training GLL is 801.2311412172933 at iteration 2.\n",
      "INFO     [merf.py:307] Training GLL is 787.2875787116866 at iteration 3.\n",
      "INFO     [merf.py:307] Training GLL is 772.8733867501636 at iteration 4.\n",
      "INFO     [merf.py:307] Training GLL is 768.1469359426424 at iteration 5.\n",
      "INFO     [merf.py:307] Training GLL is 759.0824190245789 at iteration 6.\n",
      "INFO     [merf.py:307] Training GLL is 755.4491705853376 at iteration 7.\n",
      "INFO     [merf.py:307] Training GLL is 751.0785183311724 at iteration 8.\n",
      "INFO     [merf.py:307] Training GLL is 741.0929752002615 at iteration 9.\n",
      "INFO     [merf.py:307] Training GLL is 741.6751973640306 at iteration 10.\n"
     ]
    },
    {
     "name": "stdout",
     "output_type": "stream",
     "text": [
      "Combination, ptev: 0.0097, prev: 0.9903, OOB Score: 28.9000\n"
     ]
    },
    {
     "name": "stderr",
     "output_type": "stream",
     "text": [
      "INFO     [merf.py:307] Training GLL is 799.7375961588826 at iteration 1.\n",
      "INFO     [merf.py:307] Training GLL is 839.4896951879748 at iteration 2.\n",
      "INFO     [merf.py:307] Training GLL is 830.0140213238079 at iteration 3.\n",
      "INFO     [merf.py:307] Training GLL is 822.0047708650329 at iteration 4.\n",
      "INFO     [merf.py:307] Training GLL is 814.8441438009298 at iteration 5.\n",
      "INFO     [merf.py:307] Training GLL is 812.414910862124 at iteration 6.\n",
      "INFO     [merf.py:307] Training GLL is 810.6807318180445 at iteration 7.\n",
      "INFO     [merf.py:307] Training GLL is 808.0144755811481 at iteration 8.\n",
      "INFO     [merf.py:307] Training GLL is 805.4724370486857 at iteration 9.\n",
      "INFO     [merf.py:307] Training GLL is 796.342376917347 at iteration 10.\n"
     ]
    },
    {
     "name": "stdout",
     "output_type": "stream",
     "text": [
      "Combination, ptev: -0.1968, prev: 1.1968, OOB Score: 38.3000\n"
     ]
    },
    {
     "name": "stderr",
     "output_type": "stream",
     "text": [
      "INFO     [merf.py:307] Training GLL is 775.8643281759672 at iteration 1.\n",
      "INFO     [merf.py:307] Training GLL is 826.2114645514469 at iteration 2.\n",
      "INFO     [merf.py:307] Training GLL is 825.3000348553336 at iteration 3.\n",
      "INFO     [merf.py:307] Training GLL is 825.3243826081767 at iteration 4.\n",
      "INFO     [merf.py:307] Training GLL is 827.676307469411 at iteration 5.\n",
      "INFO     [merf.py:307] Training GLL is 826.6854956695033 at iteration 6.\n",
      "INFO     [merf.py:307] Training GLL is 824.4072755646127 at iteration 7.\n",
      "INFO     [merf.py:307] Training GLL is 824.014351571287 at iteration 8.\n",
      "INFO     [merf.py:307] Training GLL is 826.4982751351539 at iteration 9.\n",
      "INFO     [merf.py:307] Training GLL is 825.7200032483696 at iteration 10.\n"
     ]
    },
    {
     "name": "stdout",
     "output_type": "stream",
     "text": [
      "Combination, ptev: -0.4746, prev: 1.4746, OOB Score: 40.9000\n"
     ]
    },
    {
     "name": "stderr",
     "output_type": "stream",
     "text": [
      "INFO     [merf.py:307] Training GLL is 808.3728196579486 at iteration 1.\n",
      "INFO     [merf.py:307] Training GLL is 844.1885096104572 at iteration 2.\n",
      "INFO     [merf.py:307] Training GLL is 837.8386121867965 at iteration 3.\n",
      "INFO     [merf.py:307] Training GLL is 829.1230761222081 at iteration 4.\n",
      "INFO     [merf.py:307] Training GLL is 817.2363339084603 at iteration 5.\n",
      "INFO     [merf.py:307] Training GLL is 817.7907879014225 at iteration 6.\n",
      "INFO     [merf.py:307] Training GLL is 815.3487307796041 at iteration 7.\n",
      "INFO     [merf.py:307] Training GLL is 808.6562837383108 at iteration 8.\n",
      "INFO     [merf.py:307] Training GLL is 804.3304123392797 at iteration 9.\n",
      "INFO     [merf.py:307] Training GLL is 802.0633250972169 at iteration 10.\n"
     ]
    },
    {
     "name": "stdout",
     "output_type": "stream",
     "text": [
      "Combination, ptev: -0.3869, prev: 1.3869, OOB Score: 32.8000\n",
      "Combination: (500, None, 0.15, 2, 3)\n",
      "\n"
     ]
    },
    {
     "name": "stderr",
     "output_type": "stream",
     "text": [
      "INFO     [merf.py:307] Training GLL is 547.4738461390164 at iteration 1.\n",
      "INFO     [merf.py:307] Training GLL is 562.2344362753703 at iteration 2.\n"
     ]
    },
    {
     "name": "stdout",
     "output_type": "stream",
     "text": [
      "Combination, ptev: 0.0151, prev: 0.9849, OOB Score: 52.7000\n"
     ]
    },
    {
     "name": "stderr",
     "output_type": "stream",
     "text": [
      "INFO     [merf.py:307] Training GLL is 667.1825656650185 at iteration 1.\n",
      "INFO     [merf.py:307] Training GLL is 709.8834811382736 at iteration 2.\n"
     ]
    },
    {
     "name": "stdout",
     "output_type": "stream",
     "text": [
      "Combination, ptev: 0.0938, prev: 0.9062, OOB Score: 35.4000\n"
     ]
    },
    {
     "name": "stderr",
     "output_type": "stream",
     "text": [
      "INFO     [merf.py:307] Training GLL is 649.0723374065338 at iteration 1.\n",
      "INFO     [merf.py:307] Training GLL is 702.7732154319045 at iteration 2.\n"
     ]
    },
    {
     "name": "stdout",
     "output_type": "stream",
     "text": [
      "Combination, ptev: -0.0002, prev: 1.0002, OOB Score: 39.8000\n",
      "Combination: (500, None, 0.15, 2, 5)\n",
      "\n"
     ]
    },
    {
     "name": "stderr",
     "output_type": "stream",
     "text": [
      "INFO     [merf.py:307] Training GLL is 734.6240477959716 at iteration 1.\n",
      "INFO     [merf.py:307] Training GLL is 746.356460064727 at iteration 2.\n"
     ]
    },
    {
     "name": "stdout",
     "output_type": "stream",
     "text": [
      "Combination, ptev: -0.0499, prev: 1.0499, OOB Score: 38.9000\n"
     ]
    },
    {
     "name": "stderr",
     "output_type": "stream",
     "text": [
      "INFO     [merf.py:307] Training GLL is 749.6572885224679 at iteration 1.\n",
      "INFO     [merf.py:307] Training GLL is 777.2933646271185 at iteration 2.\n"
     ]
    },
    {
     "name": "stdout",
     "output_type": "stream",
     "text": [
      "Combination, ptev: -0.1034, prev: 1.1034, OOB Score: 44.0000\n"
     ]
    },
    {
     "name": "stderr",
     "output_type": "stream",
     "text": [
      "INFO     [merf.py:307] Training GLL is 764.002263668148 at iteration 1.\n",
      "INFO     [merf.py:307] Training GLL is 796.129841445672 at iteration 2.\n"
     ]
    },
    {
     "name": "stdout",
     "output_type": "stream",
     "text": [
      "Combination, ptev: -0.0446, prev: 1.0446, OOB Score: 39.6000\n"
     ]
    },
    {
     "name": "stderr",
     "output_type": "stream",
     "text": [
      "INFO     [merf.py:307] Training GLL is 779.5849165180991 at iteration 1.\n",
      "INFO     [merf.py:307] Training GLL is 795.501315836616 at iteration 2.\n"
     ]
    },
    {
     "name": "stdout",
     "output_type": "stream",
     "text": [
      "Combination, ptev: 0.0108, prev: 0.9892, OOB Score: 37.2000\n"
     ]
    },
    {
     "name": "stderr",
     "output_type": "stream",
     "text": [
      "INFO     [merf.py:307] Training GLL is 765.7642737298041 at iteration 1.\n",
      "INFO     [merf.py:307] Training GLL is 810.3034846209446 at iteration 2.\n"
     ]
    },
    {
     "name": "stdout",
     "output_type": "stream",
     "text": [
      "Combination, ptev: -0.2508, prev: 1.2508, OOB Score: 40.3000\n",
      "Combination: (500, None, 0.15, 2, 10)\n",
      "\n"
     ]
    },
    {
     "name": "stderr",
     "output_type": "stream",
     "text": [
      "INFO     [merf.py:307] Training GLL is 825.8269633564126 at iteration 1.\n",
      "INFO     [merf.py:307] Training GLL is 837.4190260648339 at iteration 2.\n"
     ]
    },
    {
     "name": "stdout",
     "output_type": "stream",
     "text": [
      "Combination, ptev: 0.1535, prev: 0.8465, OOB Score: 39.7000\n"
     ]
    },
    {
     "name": "stderr",
     "output_type": "stream",
     "text": [
      "INFO     [merf.py:307] Training GLL is 854.0549813810233 at iteration 1.\n",
      "INFO     [merf.py:307] Training GLL is 861.1803067931849 at iteration 2.\n"
     ]
    },
    {
     "name": "stdout",
     "output_type": "stream",
     "text": [
      "Combination, ptev: -0.1398, prev: 1.1398, OOB Score: 36.9000\n"
     ]
    },
    {
     "name": "stderr",
     "output_type": "stream",
     "text": [
      "INFO     [merf.py:307] Training GLL is 834.3197513516332 at iteration 1.\n",
      "INFO     [merf.py:307] Training GLL is 835.2501008966778 at iteration 2.\n"
     ]
    },
    {
     "name": "stdout",
     "output_type": "stream",
     "text": [
      "Combination, ptev: -0.0728, prev: 1.0728, OOB Score: 42.4000\n"
     ]
    },
    {
     "name": "stderr",
     "output_type": "stream",
     "text": [
      "INFO     [merf.py:307] Training GLL is 869.8862068783883 at iteration 1.\n",
      "INFO     [merf.py:307] Training GLL is 899.8319944795925 at iteration 2.\n"
     ]
    },
    {
     "name": "stdout",
     "output_type": "stream",
     "text": [
      "Combination, ptev: -0.2247, prev: 1.2247, OOB Score: 41.6000\n"
     ]
    },
    {
     "name": "stderr",
     "output_type": "stream",
     "text": [
      "INFO     [merf.py:307] Training GLL is 872.2941851595416 at iteration 1.\n",
      "INFO     [merf.py:307] Training GLL is 885.3698504782876 at iteration 2.\n"
     ]
    },
    {
     "name": "stdout",
     "output_type": "stream",
     "text": [
      "Combination, ptev: -0.1642, prev: 1.1642, OOB Score: 37.8000\n"
     ]
    },
    {
     "name": "stderr",
     "output_type": "stream",
     "text": [
      "INFO     [merf.py:307] Training GLL is 843.6382732038064 at iteration 1.\n",
      "INFO     [merf.py:307] Training GLL is 872.3037346261757 at iteration 2.\n"
     ]
    },
    {
     "name": "stdout",
     "output_type": "stream",
     "text": [
      "Combination, ptev: -0.1359, prev: 1.1359, OOB Score: 38.8000\n"
     ]
    },
    {
     "name": "stderr",
     "output_type": "stream",
     "text": [
      "INFO     [merf.py:307] Training GLL is 872.9438087019787 at iteration 1.\n",
      "INFO     [merf.py:307] Training GLL is 876.0899691465523 at iteration 2.\n"
     ]
    },
    {
     "name": "stdout",
     "output_type": "stream",
     "text": [
      "Combination, ptev: -0.0756, prev: 1.0756, OOB Score: 32.6000\n"
     ]
    },
    {
     "name": "stderr",
     "output_type": "stream",
     "text": [
      "INFO     [merf.py:307] Training GLL is 856.0145448581204 at iteration 1.\n",
      "INFO     [merf.py:307] Training GLL is 887.6528234970035 at iteration 2.\n"
     ]
    },
    {
     "name": "stdout",
     "output_type": "stream",
     "text": [
      "Combination, ptev: -0.2704, prev: 1.2704, OOB Score: 41.8000\n"
     ]
    },
    {
     "name": "stderr",
     "output_type": "stream",
     "text": [
      "INFO     [merf.py:307] Training GLL is 835.2287749048359 at iteration 1.\n",
      "INFO     [merf.py:307] Training GLL is 866.252821754855 at iteration 2.\n"
     ]
    },
    {
     "name": "stdout",
     "output_type": "stream",
     "text": [
      "Combination, ptev: -0.5434, prev: 1.5434, OOB Score: 42.4000\n"
     ]
    },
    {
     "name": "stderr",
     "output_type": "stream",
     "text": [
      "INFO     [merf.py:307] Training GLL is 881.7433632546808 at iteration 1.\n",
      "INFO     [merf.py:307] Training GLL is 898.0770692551889 at iteration 2.\n"
     ]
    },
    {
     "name": "stdout",
     "output_type": "stream",
     "text": [
      "Combination, ptev: -0.4898, prev: 1.4898, OOB Score: 37.1000\n",
      "Combination: (500, None, 0.15, 10, 3)\n",
      "\n"
     ]
    },
    {
     "name": "stderr",
     "output_type": "stream",
     "text": [
      "INFO     [merf.py:307] Training GLL is 542.3984281503629 at iteration 1.\n",
      "INFO     [merf.py:307] Training GLL is 561.7698498928684 at iteration 2.\n",
      "INFO     [merf.py:307] Training GLL is 555.2821099645366 at iteration 3.\n",
      "INFO     [merf.py:307] Training GLL is 549.3312031506188 at iteration 4.\n",
      "INFO     [merf.py:307] Training GLL is 546.4130637481867 at iteration 5.\n",
      "INFO     [merf.py:307] Training GLL is 544.2901788111691 at iteration 6.\n",
      "INFO     [merf.py:307] Training GLL is 541.418004815276 at iteration 7.\n",
      "INFO     [merf.py:307] Training GLL is 533.5956926734623 at iteration 8.\n",
      "INFO     [merf.py:307] Training GLL is 531.5887230450827 at iteration 9.\n",
      "INFO     [merf.py:307] Training GLL is 524.4887558718107 at iteration 10.\n"
     ]
    },
    {
     "name": "stdout",
     "output_type": "stream",
     "text": [
      "Combination, ptev: 0.0383, prev: 0.9617, OOB Score: 44.9000\n"
     ]
    },
    {
     "name": "stderr",
     "output_type": "stream",
     "text": [
      "INFO     [merf.py:307] Training GLL is 664.770088349858 at iteration 1.\n",
      "INFO     [merf.py:307] Training GLL is 708.766843317323 at iteration 2.\n",
      "INFO     [merf.py:307] Training GLL is 712.370838756356 at iteration 3.\n",
      "INFO     [merf.py:307] Training GLL is 705.757845316363 at iteration 4.\n",
      "INFO     [merf.py:307] Training GLL is 706.1870433557137 at iteration 5.\n",
      "INFO     [merf.py:307] Training GLL is 704.3141169311331 at iteration 6.\n",
      "INFO     [merf.py:307] Training GLL is 701.8138906906604 at iteration 7.\n",
      "INFO     [merf.py:307] Training GLL is 700.8740993552101 at iteration 8.\n",
      "INFO     [merf.py:307] Training GLL is 698.3939942904653 at iteration 9.\n",
      "INFO     [merf.py:307] Training GLL is 694.1334289809206 at iteration 10.\n"
     ]
    },
    {
     "name": "stdout",
     "output_type": "stream",
     "text": [
      "Combination, ptev: 0.1411, prev: 0.8589, OOB Score: 31.6000\n"
     ]
    },
    {
     "name": "stderr",
     "output_type": "stream",
     "text": [
      "INFO     [merf.py:307] Training GLL is 645.4996608647617 at iteration 1.\n",
      "INFO     [merf.py:307] Training GLL is 701.3388067407183 at iteration 2.\n",
      "INFO     [merf.py:307] Training GLL is 714.2001495627732 at iteration 3.\n",
      "INFO     [merf.py:307] Training GLL is 717.9198102879701 at iteration 4.\n",
      "INFO     [merf.py:307] Training GLL is 719.122365161637 at iteration 5.\n",
      "INFO     [merf.py:307] Training GLL is 720.1324583952802 at iteration 6.\n",
      "INFO     [merf.py:307] Training GLL is 721.9446453080691 at iteration 7.\n",
      "INFO     [merf.py:307] Training GLL is 719.3598505687938 at iteration 8.\n",
      "INFO     [merf.py:307] Training GLL is 721.2537373001572 at iteration 9.\n",
      "INFO     [merf.py:307] Training GLL is 723.8587557854023 at iteration 10.\n"
     ]
    },
    {
     "name": "stdout",
     "output_type": "stream",
     "text": [
      "Combination, ptev: 0.0231, prev: 0.9769, OOB Score: 41.9000\n",
      "Combination: (500, None, 0.15, 10, 5)\n",
      "\n"
     ]
    },
    {
     "name": "stderr",
     "output_type": "stream",
     "text": [
      "INFO     [merf.py:307] Training GLL is 734.2364437902598 at iteration 1.\n",
      "INFO     [merf.py:307] Training GLL is 748.3214674993579 at iteration 2.\n",
      "INFO     [merf.py:307] Training GLL is 735.4805872643286 at iteration 3.\n",
      "INFO     [merf.py:307] Training GLL is 724.7612806944818 at iteration 4.\n",
      "INFO     [merf.py:307] Training GLL is 716.3602246742702 at iteration 5.\n",
      "INFO     [merf.py:307] Training GLL is 707.7532530466613 at iteration 6.\n",
      "INFO     [merf.py:307] Training GLL is 704.3393031363541 at iteration 7.\n",
      "INFO     [merf.py:307] Training GLL is 695.5672159576317 at iteration 8.\n",
      "INFO     [merf.py:307] Training GLL is 695.3448535155975 at iteration 9.\n",
      "INFO     [merf.py:307] Training GLL is 690.4097340736155 at iteration 10.\n"
     ]
    },
    {
     "name": "stdout",
     "output_type": "stream",
     "text": [
      "Combination, ptev: -0.0216, prev: 1.0216, OOB Score: 33.9000\n"
     ]
    },
    {
     "name": "stderr",
     "output_type": "stream",
     "text": [
      "INFO     [merf.py:307] Training GLL is 749.5519020837263 at iteration 1.\n",
      "INFO     [merf.py:307] Training GLL is 782.2878181105433 at iteration 2.\n",
      "INFO     [merf.py:307] Training GLL is 780.1810374737544 at iteration 3.\n",
      "INFO     [merf.py:307] Training GLL is 776.5404557523566 at iteration 4.\n",
      "INFO     [merf.py:307] Training GLL is 775.9575554739636 at iteration 5.\n",
      "INFO     [merf.py:307] Training GLL is 775.9213334042557 at iteration 6.\n",
      "INFO     [merf.py:307] Training GLL is 774.813542395423 at iteration 7.\n",
      "INFO     [merf.py:307] Training GLL is 774.9749185465976 at iteration 8.\n",
      "INFO     [merf.py:307] Training GLL is 776.8464147665691 at iteration 9.\n",
      "INFO     [merf.py:307] Training GLL is 778.2147760569288 at iteration 10.\n"
     ]
    },
    {
     "name": "stdout",
     "output_type": "stream",
     "text": [
      "Combination, ptev: -0.0583, prev: 1.0583, OOB Score: 38.1000\n"
     ]
    },
    {
     "name": "stderr",
     "output_type": "stream",
     "text": [
      "INFO     [merf.py:307] Training GLL is 771.0399615910345 at iteration 1.\n",
      "INFO     [merf.py:307] Training GLL is 796.7509028975907 at iteration 2.\n",
      "INFO     [merf.py:307] Training GLL is 791.6663532111803 at iteration 3.\n",
      "INFO     [merf.py:307] Training GLL is 788.6741473052952 at iteration 4.\n",
      "INFO     [merf.py:307] Training GLL is 781.4365339961016 at iteration 5.\n",
      "INFO     [merf.py:307] Training GLL is 777.9418266327721 at iteration 6.\n",
      "INFO     [merf.py:307] Training GLL is 776.955475404322 at iteration 7.\n",
      "INFO     [merf.py:307] Training GLL is 778.2258099458344 at iteration 8.\n",
      "INFO     [merf.py:307] Training GLL is 778.1936033580158 at iteration 9.\n",
      "INFO     [merf.py:307] Training GLL is 780.1269068502 at iteration 10.\n"
     ]
    },
    {
     "name": "stdout",
     "output_type": "stream",
     "text": [
      "Combination, ptev: -0.0013, prev: 1.0013, OOB Score: 36.6000\n"
     ]
    },
    {
     "name": "stderr",
     "output_type": "stream",
     "text": [
      "INFO     [merf.py:307] Training GLL is 776.6907823441917 at iteration 1.\n",
      "INFO     [merf.py:307] Training GLL is 795.1208845733713 at iteration 2.\n",
      "INFO     [merf.py:307] Training GLL is 786.2189076546316 at iteration 3.\n",
      "INFO     [merf.py:307] Training GLL is 772.6959004201773 at iteration 4.\n",
      "INFO     [merf.py:307] Training GLL is 767.6302998996326 at iteration 5.\n",
      "INFO     [merf.py:307] Training GLL is 758.9205645300015 at iteration 6.\n",
      "INFO     [merf.py:307] Training GLL is 756.2683174249521 at iteration 7.\n",
      "INFO     [merf.py:307] Training GLL is 753.1393815633627 at iteration 8.\n",
      "INFO     [merf.py:307] Training GLL is 751.2335824657151 at iteration 9.\n",
      "INFO     [merf.py:307] Training GLL is 748.3856033533216 at iteration 10.\n"
     ]
    },
    {
     "name": "stdout",
     "output_type": "stream",
     "text": [
      "Combination, ptev: 0.0538, prev: 0.9462, OOB Score: 31.4000\n"
     ]
    },
    {
     "name": "stderr",
     "output_type": "stream",
     "text": [
      "INFO     [merf.py:307] Training GLL is 763.5281253674626 at iteration 1.\n",
      "INFO     [merf.py:307] Training GLL is 810.1992031780428 at iteration 2.\n",
      "INFO     [merf.py:307] Training GLL is 808.4957556165922 at iteration 3.\n",
      "INFO     [merf.py:307] Training GLL is 805.4890286759003 at iteration 4.\n",
      "INFO     [merf.py:307] Training GLL is 804.0326073490937 at iteration 5.\n",
      "INFO     [merf.py:307] Training GLL is 806.3843629782925 at iteration 6.\n",
      "INFO     [merf.py:307] Training GLL is 803.3476521139341 at iteration 7.\n",
      "INFO     [merf.py:307] Training GLL is 801.6101949999617 at iteration 8.\n",
      "INFO     [merf.py:307] Training GLL is 798.4049634319487 at iteration 9.\n",
      "INFO     [merf.py:307] Training GLL is 796.8728569797088 at iteration 10.\n"
     ]
    },
    {
     "name": "stdout",
     "output_type": "stream",
     "text": [
      "Combination, ptev: -0.1663, prev: 1.1663, OOB Score: 37.8000\n",
      "Combination: (500, None, 0.15, 10, 10)\n",
      "\n"
     ]
    },
    {
     "name": "stderr",
     "output_type": "stream",
     "text": [
      "INFO     [merf.py:307] Training GLL is 830.0880528960641 at iteration 1.\n",
      "INFO     [merf.py:307] Training GLL is 837.6129266766222 at iteration 2.\n",
      "INFO     [merf.py:307] Training GLL is 827.2878721564812 at iteration 3.\n",
      "INFO     [merf.py:307] Training GLL is 821.3073953373806 at iteration 4.\n",
      "INFO     [merf.py:307] Training GLL is 814.5957256958105 at iteration 5.\n",
      "INFO     [merf.py:307] Training GLL is 808.5608654861151 at iteration 6.\n",
      "INFO     [merf.py:307] Training GLL is 804.7442252410299 at iteration 7.\n",
      "INFO     [merf.py:307] Training GLL is 799.7885641429132 at iteration 8.\n",
      "INFO     [merf.py:307] Training GLL is 798.8420964320615 at iteration 9.\n",
      "INFO     [merf.py:307] Training GLL is 794.7527359925986 at iteration 10.\n"
     ]
    },
    {
     "name": "stdout",
     "output_type": "stream",
     "text": [
      "Combination, ptev: 0.1674, prev: 0.8326, OOB Score: 34.8000\n"
     ]
    },
    {
     "name": "stderr",
     "output_type": "stream",
     "text": [
      "INFO     [merf.py:307] Training GLL is 854.0876650374872 at iteration 1.\n",
      "INFO     [merf.py:307] Training GLL is 860.5725387976673 at iteration 2.\n",
      "INFO     [merf.py:307] Training GLL is 843.8618464769232 at iteration 3.\n",
      "INFO     [merf.py:307] Training GLL is 837.4261020269518 at iteration 4.\n",
      "INFO     [merf.py:307] Training GLL is 824.8970286614799 at iteration 5.\n",
      "INFO     [merf.py:307] Training GLL is 818.8649528321865 at iteration 6.\n",
      "INFO     [merf.py:307] Training GLL is 813.8766310156084 at iteration 7.\n",
      "INFO     [merf.py:307] Training GLL is 806.3493903214145 at iteration 8.\n",
      "INFO     [merf.py:307] Training GLL is 802.6134685445829 at iteration 9.\n",
      "INFO     [merf.py:307] Training GLL is 796.6986614905442 at iteration 10.\n"
     ]
    },
    {
     "name": "stdout",
     "output_type": "stream",
     "text": [
      "Combination, ptev: -0.0195, prev: 1.0195, OOB Score: 31.7000\n"
     ]
    },
    {
     "name": "stderr",
     "output_type": "stream",
     "text": [
      "INFO     [merf.py:307] Training GLL is 826.0655522557032 at iteration 1.\n",
      "INFO     [merf.py:307] Training GLL is 835.0176511957313 at iteration 2.\n",
      "INFO     [merf.py:307] Training GLL is 819.3302911006152 at iteration 3.\n",
      "INFO     [merf.py:307] Training GLL is 814.3413419713676 at iteration 4.\n",
      "INFO     [merf.py:307] Training GLL is 807.1014749282901 at iteration 5.\n",
      "INFO     [merf.py:307] Training GLL is 807.9403211262204 at iteration 6.\n",
      "INFO     [merf.py:307] Training GLL is 799.4500393992639 at iteration 7.\n",
      "INFO     [merf.py:307] Training GLL is 797.5310441514682 at iteration 8.\n",
      "INFO     [merf.py:307] Training GLL is 792.6692679354568 at iteration 9.\n",
      "INFO     [merf.py:307] Training GLL is 792.1191141534686 at iteration 10.\n"
     ]
    },
    {
     "name": "stdout",
     "output_type": "stream",
     "text": [
      "Combination, ptev: -0.0005, prev: 1.0005, OOB Score: 35.0000\n"
     ]
    },
    {
     "name": "stderr",
     "output_type": "stream",
     "text": [
      "INFO     [merf.py:307] Training GLL is 873.8102261164643 at iteration 1.\n",
      "INFO     [merf.py:307] Training GLL is 902.9289209489247 at iteration 2.\n",
      "INFO     [merf.py:307] Training GLL is 898.6285673085717 at iteration 3.\n",
      "INFO     [merf.py:307] Training GLL is 896.1928583195792 at iteration 4.\n",
      "INFO     [merf.py:307] Training GLL is 893.0993263523143 at iteration 5.\n",
      "INFO     [merf.py:307] Training GLL is 888.7882066896116 at iteration 6.\n",
      "INFO     [merf.py:307] Training GLL is 890.4769134472516 at iteration 7.\n",
      "INFO     [merf.py:307] Training GLL is 885.8241034136132 at iteration 8.\n",
      "INFO     [merf.py:307] Training GLL is 888.26307113425 at iteration 9.\n",
      "INFO     [merf.py:307] Training GLL is 887.4835580148421 at iteration 10.\n"
     ]
    },
    {
     "name": "stdout",
     "output_type": "stream",
     "text": [
      "Combination, ptev: -0.1148, prev: 1.1148, OOB Score: 36.3000\n"
     ]
    },
    {
     "name": "stderr",
     "output_type": "stream",
     "text": [
      "INFO     [merf.py:307] Training GLL is 871.7676197905727 at iteration 1.\n",
      "INFO     [merf.py:307] Training GLL is 881.2690119111263 at iteration 2.\n",
      "INFO     [merf.py:307] Training GLL is 873.5273768916232 at iteration 3.\n",
      "INFO     [merf.py:307] Training GLL is 859.9721705147191 at iteration 4.\n",
      "INFO     [merf.py:307] Training GLL is 858.8000278144912 at iteration 5.\n",
      "INFO     [merf.py:307] Training GLL is 858.8205022199609 at iteration 6.\n",
      "INFO     [merf.py:307] Training GLL is 860.6393663289131 at iteration 7.\n",
      "INFO     [merf.py:307] Training GLL is 848.7990232357473 at iteration 8.\n",
      "INFO     [merf.py:307] Training GLL is 846.9282239672825 at iteration 9.\n",
      "INFO     [merf.py:307] Training GLL is 842.5547340695845 at iteration 10.\n"
     ]
    },
    {
     "name": "stdout",
     "output_type": "stream",
     "text": [
      "Combination, ptev: -0.0691, prev: 1.0691, OOB Score: 33.7000\n"
     ]
    },
    {
     "name": "stderr",
     "output_type": "stream",
     "text": [
      "INFO     [merf.py:307] Training GLL is 838.9603808260707 at iteration 1.\n",
      "INFO     [merf.py:307] Training GLL is 872.3954067074841 at iteration 2.\n",
      "INFO     [merf.py:307] Training GLL is 861.629494450859 at iteration 3.\n",
      "INFO     [merf.py:307] Training GLL is 851.7197941318416 at iteration 4.\n",
      "INFO     [merf.py:307] Training GLL is 844.4959213665971 at iteration 5.\n",
      "INFO     [merf.py:307] Training GLL is 833.5676740988054 at iteration 6.\n",
      "INFO     [merf.py:307] Training GLL is 829.8128918696362 at iteration 7.\n",
      "INFO     [merf.py:307] Training GLL is 825.4912212504169 at iteration 8.\n",
      "INFO     [merf.py:307] Training GLL is 827.8748718891155 at iteration 9.\n",
      "INFO     [merf.py:307] Training GLL is 824.5596320500308 at iteration 10.\n"
     ]
    },
    {
     "name": "stdout",
     "output_type": "stream",
     "text": [
      "Combination, ptev: -0.0569, prev: 1.0569, OOB Score: 35.2000\n"
     ]
    },
    {
     "name": "stderr",
     "output_type": "stream",
     "text": [
      "INFO     [merf.py:307] Training GLL is 872.6869923816123 at iteration 1.\n",
      "INFO     [merf.py:307] Training GLL is 869.9299700454842 at iteration 2.\n",
      "INFO     [merf.py:307] Training GLL is 858.356902707455 at iteration 3.\n",
      "INFO     [merf.py:307] Training GLL is 851.0593751007619 at iteration 4.\n",
      "INFO     [merf.py:307] Training GLL is 842.7866510047701 at iteration 5.\n",
      "INFO     [merf.py:307] Training GLL is 841.3820490499817 at iteration 6.\n",
      "INFO     [merf.py:307] Training GLL is 836.6662716110715 at iteration 7.\n",
      "INFO     [merf.py:307] Training GLL is 829.165188315968 at iteration 8.\n",
      "INFO     [merf.py:307] Training GLL is 824.3145959056072 at iteration 9.\n",
      "INFO     [merf.py:307] Training GLL is 823.4226966921246 at iteration 10.\n"
     ]
    },
    {
     "name": "stdout",
     "output_type": "stream",
     "text": [
      "Combination, ptev: -0.0001, prev: 1.0001, OOB Score: 28.7000\n"
     ]
    },
    {
     "name": "stderr",
     "output_type": "stream",
     "text": [
      "INFO     [merf.py:307] Training GLL is 859.6535976643988 at iteration 1.\n",
      "INFO     [merf.py:307] Training GLL is 890.3009914154351 at iteration 2.\n",
      "INFO     [merf.py:307] Training GLL is 877.4407559203931 at iteration 3.\n",
      "INFO     [merf.py:307] Training GLL is 866.2135042292327 at iteration 4.\n",
      "INFO     [merf.py:307] Training GLL is 860.9034585176828 at iteration 5.\n",
      "INFO     [merf.py:307] Training GLL is 856.9437906351714 at iteration 6.\n",
      "INFO     [merf.py:307] Training GLL is 851.8608601760575 at iteration 7.\n",
      "INFO     [merf.py:307] Training GLL is 845.3525724586899 at iteration 8.\n",
      "INFO     [merf.py:307] Training GLL is 844.0821554244463 at iteration 9.\n",
      "INFO     [merf.py:307] Training GLL is 836.1058334597845 at iteration 10.\n"
     ]
    },
    {
     "name": "stdout",
     "output_type": "stream",
     "text": [
      "Combination, ptev: -0.1764, prev: 1.1764, OOB Score: 36.9000\n"
     ]
    },
    {
     "name": "stderr",
     "output_type": "stream",
     "text": [
      "INFO     [merf.py:307] Training GLL is 836.9073512882029 at iteration 1.\n",
      "INFO     [merf.py:307] Training GLL is 868.7563838755315 at iteration 2.\n",
      "INFO     [merf.py:307] Training GLL is 867.419856774978 at iteration 3.\n",
      "INFO     [merf.py:307] Training GLL is 860.6219283840179 at iteration 4.\n",
      "INFO     [merf.py:307] Training GLL is 856.6026323341885 at iteration 5.\n",
      "INFO     [merf.py:307] Training GLL is 851.8034807812847 at iteration 6.\n",
      "INFO     [merf.py:307] Training GLL is 852.5208788708633 at iteration 7.\n",
      "INFO     [merf.py:307] Training GLL is 847.6656955787863 at iteration 8.\n",
      "INFO     [merf.py:307] Training GLL is 846.0248397923773 at iteration 9.\n",
      "INFO     [merf.py:307] Training GLL is 846.5006836089281 at iteration 10.\n"
     ]
    },
    {
     "name": "stdout",
     "output_type": "stream",
     "text": [
      "Combination, ptev: -0.3990, prev: 1.3990, OOB Score: 38.1000\n"
     ]
    },
    {
     "name": "stderr",
     "output_type": "stream",
     "text": [
      "INFO     [merf.py:307] Training GLL is 873.8026978127299 at iteration 1.\n",
      "INFO     [merf.py:307] Training GLL is 892.2417954144685 at iteration 2.\n",
      "INFO     [merf.py:307] Training GLL is 886.3270026267797 at iteration 3.\n",
      "INFO     [merf.py:307] Training GLL is 876.8081599925438 at iteration 4.\n",
      "INFO     [merf.py:307] Training GLL is 869.6564436385124 at iteration 5.\n",
      "INFO     [merf.py:307] Training GLL is 857.7137784969531 at iteration 6.\n",
      "INFO     [merf.py:307] Training GLL is 858.6783618356917 at iteration 7.\n",
      "INFO     [merf.py:307] Training GLL is 850.6938650692013 at iteration 8.\n",
      "INFO     [merf.py:307] Training GLL is 845.8760806719304 at iteration 9.\n",
      "INFO     [merf.py:307] Training GLL is 844.1708204583698 at iteration 10.\n"
     ]
    },
    {
     "name": "stdout",
     "output_type": "stream",
     "text": [
      "Combination, ptev: -0.3351, prev: 1.3351, OOB Score: 32.3000\n",
      "Combination: (1000, None, 0.05, 2, 3)\n",
      "\n"
     ]
    },
    {
     "name": "stderr",
     "output_type": "stream",
     "text": [
      "INFO     [merf.py:307] Training GLL is 366.5435065977082 at iteration 1.\n",
      "INFO     [merf.py:307] Training GLL is 415.27194581974965 at iteration 2.\n"
     ]
    },
    {
     "name": "stdout",
     "output_type": "stream",
     "text": [
      "Combination, ptev: 0.0725, prev: 0.9275, OOB Score: 51.5000\n"
     ]
    },
    {
     "name": "stderr",
     "output_type": "stream",
     "text": [
      "INFO     [merf.py:307] Training GLL is 491.17841796252367 at iteration 1.\n",
      "INFO     [merf.py:307] Training GLL is 551.1673822407892 at iteration 2.\n"
     ]
    },
    {
     "name": "stdout",
     "output_type": "stream",
     "text": [
      "Combination, ptev: 0.1507, prev: 0.8493, OOB Score: 34.3000\n"
     ]
    },
    {
     "name": "stderr",
     "output_type": "stream",
     "text": [
      "INFO     [merf.py:307] Training GLL is 499.20879217927705 at iteration 1.\n",
      "INFO     [merf.py:307] Training GLL is 570.6201566294403 at iteration 2.\n"
     ]
    },
    {
     "name": "stdout",
     "output_type": "stream",
     "text": [
      "Combination, ptev: 0.0529, prev: 0.9471, OOB Score: 33.8000\n",
      "Combination: (1000, None, 0.05, 2, 5)\n",
      "\n"
     ]
    },
    {
     "name": "stderr",
     "output_type": "stream",
     "text": [
      "INFO     [merf.py:307] Training GLL is 556.0953340328879 at iteration 1.\n",
      "INFO     [merf.py:307] Training GLL is 596.3170944116088 at iteration 2.\n"
     ]
    },
    {
     "name": "stdout",
     "output_type": "stream",
     "text": [
      "Combination, ptev: -0.0516, prev: 1.0516, OOB Score: 36.7000\n"
     ]
    },
    {
     "name": "stderr",
     "output_type": "stream",
     "text": [
      "INFO     [merf.py:307] Training GLL is 571.4424482246178 at iteration 1.\n",
      "INFO     [merf.py:307] Training GLL is 617.3401203707778 at iteration 2.\n"
     ]
    },
    {
     "name": "stdout",
     "output_type": "stream",
     "text": [
      "Combination, ptev: -0.0279, prev: 1.0279, OOB Score: 40.4000\n"
     ]
    },
    {
     "name": "stderr",
     "output_type": "stream",
     "text": [
      "INFO     [merf.py:307] Training GLL is 571.0050119419994 at iteration 1.\n",
      "INFO     [merf.py:307] Training GLL is 624.8159040882985 at iteration 2.\n"
     ]
    },
    {
     "name": "stdout",
     "output_type": "stream",
     "text": [
      "Combination, ptev: 0.0237, prev: 0.9763, OOB Score: 38.9000\n"
     ]
    },
    {
     "name": "stderr",
     "output_type": "stream",
     "text": [
      "INFO     [merf.py:307] Training GLL is 618.4000445474265 at iteration 1.\n",
      "INFO     [merf.py:307] Training GLL is 662.1447180865562 at iteration 2.\n"
     ]
    },
    {
     "name": "stdout",
     "output_type": "stream",
     "text": [
      "Combination, ptev: 0.0859, prev: 0.9141, OOB Score: 35.7000\n"
     ]
    },
    {
     "name": "stderr",
     "output_type": "stream",
     "text": [
      "INFO     [merf.py:307] Training GLL is 605.3398095689548 at iteration 1.\n",
      "INFO     [merf.py:307] Training GLL is 662.2371316842203 at iteration 2.\n"
     ]
    },
    {
     "name": "stdout",
     "output_type": "stream",
     "text": [
      "Combination, ptev: -0.1839, prev: 1.1839, OOB Score: 36.0000\n",
      "Combination: (1000, None, 0.05, 2, 10)\n",
      "\n"
     ]
    },
    {
     "name": "stderr",
     "output_type": "stream",
     "text": [
      "INFO     [merf.py:307] Training GLL is 621.6046926175194 at iteration 1.\n",
      "INFO     [merf.py:307] Training GLL is 665.0416996758963 at iteration 2.\n"
     ]
    },
    {
     "name": "stdout",
     "output_type": "stream",
     "text": [
      "Combination, ptev: 0.0390, prev: 0.9610, OOB Score: 39.2000\n"
     ]
    },
    {
     "name": "stderr",
     "output_type": "stream",
     "text": [
      "INFO     [merf.py:307] Training GLL is 663.2553651666522 at iteration 1.\n",
      "INFO     [merf.py:307] Training GLL is 700.0865064327063 at iteration 2.\n"
     ]
    },
    {
     "name": "stdout",
     "output_type": "stream",
     "text": [
      "Combination, ptev: -0.1591, prev: 1.1591, OOB Score: 34.8000\n"
     ]
    },
    {
     "name": "stderr",
     "output_type": "stream",
     "text": [
      "INFO     [merf.py:307] Training GLL is 635.3346212289555 at iteration 1.\n",
      "INFO     [merf.py:307] Training GLL is 664.4709499348118 at iteration 2.\n"
     ]
    },
    {
     "name": "stdout",
     "output_type": "stream",
     "text": [
      "Combination, ptev: -0.0873, prev: 1.0873, OOB Score: 41.1000\n"
     ]
    },
    {
     "name": "stderr",
     "output_type": "stream",
     "text": [
      "INFO     [merf.py:307] Training GLL is 661.897404596976 at iteration 1.\n",
      "INFO     [merf.py:307] Training GLL is 717.4729967677307 at iteration 2.\n"
     ]
    },
    {
     "name": "stdout",
     "output_type": "stream",
     "text": [
      "Combination, ptev: -0.1465, prev: 1.1465, OOB Score: 38.0000\n"
     ]
    },
    {
     "name": "stderr",
     "output_type": "stream",
     "text": [
      "INFO     [merf.py:307] Training GLL is 648.8154589680827 at iteration 1.\n",
      "INFO     [merf.py:307] Training GLL is 686.3357222357176 at iteration 2.\n"
     ]
    },
    {
     "name": "stdout",
     "output_type": "stream",
     "text": [
      "Combination, ptev: -0.0987, prev: 1.0987, OOB Score: 37.1000\n"
     ]
    },
    {
     "name": "stderr",
     "output_type": "stream",
     "text": [
      "INFO     [merf.py:307] Training GLL is 653.2359624521467 at iteration 1.\n",
      "INFO     [merf.py:307] Training GLL is 705.6636898800801 at iteration 2.\n"
     ]
    },
    {
     "name": "stdout",
     "output_type": "stream",
     "text": [
      "Combination, ptev: -0.0905, prev: 1.0905, OOB Score: 37.8000\n"
     ]
    },
    {
     "name": "stderr",
     "output_type": "stream",
     "text": [
      "INFO     [merf.py:307] Training GLL is 685.4024678423532 at iteration 1.\n",
      "INFO     [merf.py:307] Training GLL is 715.8290743094025 at iteration 2.\n"
     ]
    },
    {
     "name": "stdout",
     "output_type": "stream",
     "text": [
      "Combination, ptev: -0.0123, prev: 1.0123, OOB Score: 30.9000\n"
     ]
    },
    {
     "name": "stderr",
     "output_type": "stream",
     "text": [
      "INFO     [merf.py:307] Training GLL is 663.5836240952118 at iteration 1.\n",
      "INFO     [merf.py:307] Training GLL is 710.2013207721436 at iteration 2.\n"
     ]
    },
    {
     "name": "stdout",
     "output_type": "stream",
     "text": [
      "Combination, ptev: -0.2426, prev: 1.2426, OOB Score: 40.1000\n"
     ]
    },
    {
     "name": "stderr",
     "output_type": "stream",
     "text": [
      "INFO     [merf.py:307] Training GLL is 653.9205273738097 at iteration 1.\n",
      "INFO     [merf.py:307] Training GLL is 701.5271515832211 at iteration 2.\n"
     ]
    },
    {
     "name": "stdout",
     "output_type": "stream",
     "text": [
      "Combination, ptev: -0.5522, prev: 1.5522, OOB Score: 40.6000\n"
     ]
    },
    {
     "name": "stderr",
     "output_type": "stream",
     "text": [
      "INFO     [merf.py:307] Training GLL is 685.5405274549602 at iteration 1.\n",
      "INFO     [merf.py:307] Training GLL is 723.9489270588471 at iteration 2.\n"
     ]
    },
    {
     "name": "stdout",
     "output_type": "stream",
     "text": [
      "Combination, ptev: -0.4670, prev: 1.4670, OOB Score: 35.2000\n",
      "Combination: (1000, None, 0.05, 10, 3)\n",
      "\n"
     ]
    },
    {
     "name": "stderr",
     "output_type": "stream",
     "text": [
      "INFO     [merf.py:307] Training GLL is 362.17422738113373 at iteration 1.\n",
      "INFO     [merf.py:307] Training GLL is 417.3116918193746 at iteration 2.\n",
      "INFO     [merf.py:307] Training GLL is 414.824801810422 at iteration 3.\n",
      "INFO     [merf.py:307] Training GLL is 405.51812348671587 at iteration 4.\n",
      "INFO     [merf.py:307] Training GLL is 405.62273964049564 at iteration 5.\n",
      "INFO     [merf.py:307] Training GLL is 404.9833666714135 at iteration 6.\n",
      "INFO     [merf.py:307] Training GLL is 397.9635459822389 at iteration 7.\n",
      "INFO     [merf.py:307] Training GLL is 399.8680932665366 at iteration 8.\n",
      "INFO     [merf.py:307] Training GLL is 395.73310736592174 at iteration 9.\n",
      "INFO     [merf.py:307] Training GLL is 391.0611312901346 at iteration 10.\n"
     ]
    },
    {
     "name": "stdout",
     "output_type": "stream",
     "text": [
      "Combination, ptev: 0.0565, prev: 0.9435, OOB Score: 49.6000\n"
     ]
    },
    {
     "name": "stderr",
     "output_type": "stream",
     "text": [
      "INFO     [merf.py:307] Training GLL is 489.33333821475014 at iteration 1.\n",
      "INFO     [merf.py:307] Training GLL is 549.6274885365201 at iteration 2.\n",
      "INFO     [merf.py:307] Training GLL is 551.5634703211643 at iteration 3.\n",
      "INFO     [merf.py:307] Training GLL is 550.2688042513214 at iteration 4.\n",
      "INFO     [merf.py:307] Training GLL is 548.8292385051536 at iteration 5.\n",
      "INFO     [merf.py:307] Training GLL is 548.4379084653998 at iteration 6.\n",
      "INFO     [merf.py:307] Training GLL is 555.0534173131266 at iteration 7.\n",
      "INFO     [merf.py:307] Training GLL is 551.2568693611133 at iteration 8.\n",
      "INFO     [merf.py:307] Training GLL is 550.5075719992755 at iteration 9.\n",
      "INFO     [merf.py:307] Training GLL is 551.1227531941263 at iteration 10.\n"
     ]
    },
    {
     "name": "stdout",
     "output_type": "stream",
     "text": [
      "Combination, ptev: 0.1625, prev: 0.8375, OOB Score: 32.8000\n"
     ]
    },
    {
     "name": "stderr",
     "output_type": "stream",
     "text": [
      "INFO     [merf.py:307] Training GLL is 498.7142991945323 at iteration 1.\n",
      "INFO     [merf.py:307] Training GLL is 569.4523576728398 at iteration 2.\n",
      "INFO     [merf.py:307] Training GLL is 583.5058196141439 at iteration 3.\n",
      "INFO     [merf.py:307] Training GLL is 586.4100297126328 at iteration 4.\n",
      "INFO     [merf.py:307] Training GLL is 588.6876795673791 at iteration 5.\n",
      "INFO     [merf.py:307] Training GLL is 591.1875145347726 at iteration 6.\n",
      "INFO     [merf.py:307] Training GLL is 590.5437536614353 at iteration 7.\n",
      "INFO     [merf.py:307] Training GLL is 594.7567281846906 at iteration 8.\n",
      "INFO     [merf.py:307] Training GLL is 598.235525154525 at iteration 9.\n",
      "INFO     [merf.py:307] Training GLL is 599.4866050072883 at iteration 10.\n"
     ]
    },
    {
     "name": "stdout",
     "output_type": "stream",
     "text": [
      "Combination, ptev: 0.0371, prev: 0.9629, OOB Score: 38.0000\n",
      "Combination: (1000, None, 0.05, 10, 5)\n",
      "\n"
     ]
    },
    {
     "name": "stderr",
     "output_type": "stream",
     "text": [
      "INFO     [merf.py:307] Training GLL is 557.358289503947 at iteration 1.\n",
      "INFO     [merf.py:307] Training GLL is 596.562328767608 at iteration 2.\n",
      "INFO     [merf.py:307] Training GLL is 586.8638093424319 at iteration 3.\n",
      "INFO     [merf.py:307] Training GLL is 577.219701182698 at iteration 4.\n",
      "INFO     [merf.py:307] Training GLL is 571.3665007232112 at iteration 5.\n",
      "INFO     [merf.py:307] Training GLL is 564.9523015720456 at iteration 6.\n",
      "INFO     [merf.py:307] Training GLL is 556.582771844111 at iteration 7.\n",
      "INFO     [merf.py:307] Training GLL is 556.4815959341686 at iteration 8.\n",
      "INFO     [merf.py:307] Training GLL is 551.9522586824322 at iteration 9.\n",
      "INFO     [merf.py:307] Training GLL is 547.3798031585081 at iteration 10.\n"
     ]
    },
    {
     "name": "stdout",
     "output_type": "stream",
     "text": [
      "Combination, ptev: -0.0243, prev: 1.0243, OOB Score: 33.0000\n"
     ]
    },
    {
     "name": "stderr",
     "output_type": "stream",
     "text": [
      "INFO     [merf.py:307] Training GLL is 569.4848530646499 at iteration 1.\n",
      "INFO     [merf.py:307] Training GLL is 621.0732988042901 at iteration 2.\n",
      "INFO     [merf.py:307] Training GLL is 621.5356932356163 at iteration 3.\n",
      "INFO     [merf.py:307] Training GLL is 619.8890558949147 at iteration 4.\n",
      "INFO     [merf.py:307] Training GLL is 618.420202832272 at iteration 5.\n",
      "INFO     [merf.py:307] Training GLL is 619.2954608999335 at iteration 6.\n",
      "INFO     [merf.py:307] Training GLL is 620.3366273031834 at iteration 7.\n",
      "INFO     [merf.py:307] Training GLL is 621.3853774062513 at iteration 8.\n",
      "INFO     [merf.py:307] Training GLL is 618.7810836492393 at iteration 9.\n",
      "INFO     [merf.py:307] Training GLL is 617.7159694982907 at iteration 10.\n"
     ]
    },
    {
     "name": "stdout",
     "output_type": "stream",
     "text": [
      "Combination, ptev: -0.0069, prev: 1.0069, OOB Score: 39.3000\n"
     ]
    },
    {
     "name": "stderr",
     "output_type": "stream",
     "text": [
      "INFO     [merf.py:307] Training GLL is 566.5760082856755 at iteration 1.\n",
      "INFO     [merf.py:307] Training GLL is 621.5842834336429 at iteration 2.\n",
      "INFO     [merf.py:307] Training GLL is 628.0782073781293 at iteration 3.\n",
      "INFO     [merf.py:307] Training GLL is 621.6209028400845 at iteration 4.\n",
      "INFO     [merf.py:307] Training GLL is 620.9747619940348 at iteration 5.\n",
      "INFO     [merf.py:307] Training GLL is 618.8805001086454 at iteration 6.\n",
      "INFO     [merf.py:307] Training GLL is 616.6965641547054 at iteration 7.\n",
      "INFO     [merf.py:307] Training GLL is 615.2876058438289 at iteration 8.\n",
      "INFO     [merf.py:307] Training GLL is 618.3042108813771 at iteration 9.\n",
      "INFO     [merf.py:307] Training GLL is 615.7949558336248 at iteration 10.\n"
     ]
    },
    {
     "name": "stdout",
     "output_type": "stream",
     "text": [
      "Combination, ptev: 0.0444, prev: 0.9556, OOB Score: 36.2000\n"
     ]
    },
    {
     "name": "stderr",
     "output_type": "stream",
     "text": [
      "INFO     [merf.py:307] Training GLL is 623.2798146703936 at iteration 1.\n",
      "INFO     [merf.py:307] Training GLL is 664.1492387623049 at iteration 2.\n",
      "INFO     [merf.py:307] Training GLL is 660.9783774713538 at iteration 3.\n",
      "INFO     [merf.py:307] Training GLL is 651.6529453012546 at iteration 4.\n",
      "INFO     [merf.py:307] Training GLL is 649.2132318399242 at iteration 5.\n",
      "INFO     [merf.py:307] Training GLL is 639.9755775086306 at iteration 6.\n",
      "INFO     [merf.py:307] Training GLL is 635.7754385127264 at iteration 7.\n",
      "INFO     [merf.py:307] Training GLL is 634.8695512524355 at iteration 8.\n",
      "INFO     [merf.py:307] Training GLL is 635.808590169064 at iteration 9.\n",
      "INFO     [merf.py:307] Training GLL is 632.0891745749806 at iteration 10.\n"
     ]
    },
    {
     "name": "stdout",
     "output_type": "stream",
     "text": [
      "Combination, ptev: 0.1117, prev: 0.8883, OOB Score: 32.9000\n"
     ]
    },
    {
     "name": "stderr",
     "output_type": "stream",
     "text": [
      "INFO     [merf.py:307] Training GLL is 604.5655336162476 at iteration 1.\n",
      "INFO     [merf.py:307] Training GLL is 662.7275874658326 at iteration 2.\n",
      "INFO     [merf.py:307] Training GLL is 668.1853947674564 at iteration 3.\n",
      "INFO     [merf.py:307] Training GLL is 664.2554696204014 at iteration 4.\n",
      "INFO     [merf.py:307] Training GLL is 666.710825207654 at iteration 5.\n",
      "INFO     [merf.py:307] Training GLL is 666.8884249086545 at iteration 6.\n",
      "INFO     [merf.py:307] Training GLL is 664.6223685487025 at iteration 7.\n",
      "INFO     [merf.py:307] Training GLL is 663.3729906578079 at iteration 8.\n",
      "INFO     [merf.py:307] Training GLL is 664.3987789657122 at iteration 9.\n",
      "INFO     [merf.py:307] Training GLL is 667.531753549678 at iteration 10.\n"
     ]
    },
    {
     "name": "stdout",
     "output_type": "stream",
     "text": [
      "Combination, ptev: -0.1516, prev: 1.1516, OOB Score: 33.7000\n",
      "Combination: (1000, None, 0.05, 10, 10)\n",
      "\n"
     ]
    },
    {
     "name": "stderr",
     "output_type": "stream",
     "text": [
      "INFO     [merf.py:307] Training GLL is 626.9846929074002 at iteration 1.\n",
      "INFO     [merf.py:307] Training GLL is 663.9873602317981 at iteration 2.\n",
      "INFO     [merf.py:307] Training GLL is 660.1687951358805 at iteration 3.\n",
      "INFO     [merf.py:307] Training GLL is 656.7612109847703 at iteration 4.\n",
      "INFO     [merf.py:307] Training GLL is 652.217934794138 at iteration 5.\n",
      "INFO     [merf.py:307] Training GLL is 651.8991005374268 at iteration 6.\n",
      "INFO     [merf.py:307] Training GLL is 647.1450837043722 at iteration 7.\n",
      "INFO     [merf.py:307] Training GLL is 645.2491514434392 at iteration 8.\n",
      "INFO     [merf.py:307] Training GLL is 644.6611083608834 at iteration 9.\n",
      "INFO     [merf.py:307] Training GLL is 644.4022806663022 at iteration 10.\n"
     ]
    },
    {
     "name": "stdout",
     "output_type": "stream",
     "text": [
      "Combination, ptev: 0.0667, prev: 0.9333, OOB Score: 36.0000\n"
     ]
    },
    {
     "name": "stderr",
     "output_type": "stream",
     "text": [
      "INFO     [merf.py:307] Training GLL is 661.6849075171609 at iteration 1.\n",
      "INFO     [merf.py:307] Training GLL is 697.9131525072731 at iteration 2.\n",
      "INFO     [merf.py:307] Training GLL is 689.5684402781346 at iteration 3.\n",
      "INFO     [merf.py:307] Training GLL is 683.0608874319989 at iteration 4.\n",
      "INFO     [merf.py:307] Training GLL is 671.039672959516 at iteration 5.\n",
      "INFO     [merf.py:307] Training GLL is 660.5489285368938 at iteration 6.\n",
      "INFO     [merf.py:307] Training GLL is 657.8515043405619 at iteration 7.\n",
      "INFO     [merf.py:307] Training GLL is 652.7224050006062 at iteration 8.\n",
      "INFO     [merf.py:307] Training GLL is 646.0709949558086 at iteration 9.\n",
      "INFO     [merf.py:307] Training GLL is 644.5138185873509 at iteration 10.\n"
     ]
    },
    {
     "name": "stdout",
     "output_type": "stream",
     "text": [
      "Combination, ptev: -0.1325, prev: 1.1325, OOB Score: 30.7000\n"
     ]
    },
    {
     "name": "stderr",
     "output_type": "stream",
     "text": [
      "INFO     [merf.py:307] Training GLL is 633.9906473893174 at iteration 1.\n",
      "INFO     [merf.py:307] Training GLL is 664.3157776539482 at iteration 2.\n",
      "INFO     [merf.py:307] Training GLL is 656.5005825233962 at iteration 3.\n",
      "INFO     [merf.py:307] Training GLL is 652.8837831754269 at iteration 4.\n",
      "INFO     [merf.py:307] Training GLL is 642.0718856328346 at iteration 5.\n",
      "INFO     [merf.py:307] Training GLL is 634.4582763709593 at iteration 6.\n",
      "INFO     [merf.py:307] Training GLL is 632.240892048967 at iteration 7.\n",
      "INFO     [merf.py:307] Training GLL is 627.3783936291095 at iteration 8.\n",
      "INFO     [merf.py:307] Training GLL is 620.5512507216347 at iteration 9.\n",
      "INFO     [merf.py:307] Training GLL is 618.8382921698109 at iteration 10.\n"
     ]
    },
    {
     "name": "stdout",
     "output_type": "stream",
     "text": [
      "Combination, ptev: -0.0713, prev: 1.0713, OOB Score: 36.0000\n"
     ]
    },
    {
     "name": "stderr",
     "output_type": "stream",
     "text": [
      "INFO     [merf.py:307] Training GLL is 672.9078129317488 at iteration 1.\n",
      "INFO     [merf.py:307] Training GLL is 717.8137079275879 at iteration 2.\n",
      "INFO     [merf.py:307] Training GLL is 717.9119999858239 at iteration 3.\n",
      "INFO     [merf.py:307] Training GLL is 721.5380565149874 at iteration 4.\n",
      "INFO     [merf.py:307] Training GLL is 717.9454801064079 at iteration 5.\n",
      "INFO     [merf.py:307] Training GLL is 714.3425343453483 at iteration 6.\n",
      "INFO     [merf.py:307] Training GLL is 715.2110474834973 at iteration 7.\n",
      "INFO     [merf.py:307] Training GLL is 713.8915235841325 at iteration 8.\n",
      "INFO     [merf.py:307] Training GLL is 712.396304878726 at iteration 9.\n",
      "INFO     [merf.py:307] Training GLL is 715.5087364734826 at iteration 10.\n"
     ]
    },
    {
     "name": "stdout",
     "output_type": "stream",
     "text": [
      "Combination, ptev: -0.1205, prev: 1.1205, OOB Score: 36.1000\n"
     ]
    },
    {
     "name": "stderr",
     "output_type": "stream",
     "text": [
      "INFO     [merf.py:307] Training GLL is 656.0130534934066 at iteration 1.\n",
      "INFO     [merf.py:307] Training GLL is 686.1888725823957 at iteration 2.\n",
      "INFO     [merf.py:307] Training GLL is 678.3721472372489 at iteration 3.\n",
      "INFO     [merf.py:307] Training GLL is 671.35301050421 at iteration 4.\n",
      "INFO     [merf.py:307] Training GLL is 663.0966291280965 at iteration 5.\n",
      "INFO     [merf.py:307] Training GLL is 654.2696032162459 at iteration 6.\n",
      "INFO     [merf.py:307] Training GLL is 654.3847345119174 at iteration 7.\n",
      "INFO     [merf.py:307] Training GLL is 653.4260625204332 at iteration 8.\n",
      "INFO     [merf.py:307] Training GLL is 645.887140462369 at iteration 9.\n",
      "INFO     [merf.py:307] Training GLL is 645.078658845428 at iteration 10.\n"
     ]
    },
    {
     "name": "stdout",
     "output_type": "stream",
     "text": [
      "Combination, ptev: -0.0732, prev: 1.0732, OOB Score: 34.0000\n"
     ]
    },
    {
     "name": "stderr",
     "output_type": "stream",
     "text": [
      "INFO     [merf.py:307] Training GLL is 648.9562352662899 at iteration 1.\n",
      "INFO     [merf.py:307] Training GLL is 706.425805855412 at iteration 2.\n",
      "INFO     [merf.py:307] Training GLL is 708.853204811228 at iteration 3.\n",
      "INFO     [merf.py:307] Training GLL is 702.6560309863343 at iteration 4.\n",
      "INFO     [merf.py:307] Training GLL is 702.275117808091 at iteration 5.\n",
      "INFO     [merf.py:307] Training GLL is 698.6421713615204 at iteration 6.\n",
      "INFO     [merf.py:307] Training GLL is 700.5087707421209 at iteration 7.\n",
      "INFO     [merf.py:307] Training GLL is 698.6260479535359 at iteration 8.\n",
      "INFO     [merf.py:307] Training GLL is 695.3297973367895 at iteration 9.\n",
      "INFO     [merf.py:307] Training GLL is 689.2439743552734 at iteration 10.\n"
     ]
    },
    {
     "name": "stdout",
     "output_type": "stream",
     "text": [
      "Combination, ptev: -0.0646, prev: 1.0646, OOB Score: 35.5000\n"
     ]
    },
    {
     "name": "stderr",
     "output_type": "stream",
     "text": [
      "INFO     [merf.py:307] Training GLL is 684.196609820317 at iteration 1.\n",
      "INFO     [merf.py:307] Training GLL is 711.711057571486 at iteration 2.\n",
      "INFO     [merf.py:307] Training GLL is 704.7040020522695 at iteration 3.\n",
      "INFO     [merf.py:307] Training GLL is 695.7460631010182 at iteration 4.\n",
      "INFO     [merf.py:307] Training GLL is 686.7654277707037 at iteration 5.\n",
      "INFO     [merf.py:307] Training GLL is 681.7844189624086 at iteration 6.\n",
      "INFO     [merf.py:307] Training GLL is 675.5199115224121 at iteration 7.\n",
      "INFO     [merf.py:307] Training GLL is 674.561938440446 at iteration 8.\n",
      "INFO     [merf.py:307] Training GLL is 668.3977044040411 at iteration 9.\n",
      "INFO     [merf.py:307] Training GLL is 665.3178617935591 at iteration 10.\n"
     ]
    },
    {
     "name": "stdout",
     "output_type": "stream",
     "text": [
      "Combination, ptev: 0.0049, prev: 0.9951, OOB Score: 28.0000\n"
     ]
    },
    {
     "name": "stderr",
     "output_type": "stream",
     "text": [
      "INFO     [merf.py:307] Training GLL is 669.7444110082216 at iteration 1.\n",
      "INFO     [merf.py:307] Training GLL is 715.766093963185 at iteration 2.\n",
      "INFO     [merf.py:307] Training GLL is 711.6304753525164 at iteration 3.\n",
      "INFO     [merf.py:307] Training GLL is 706.3361300224374 at iteration 4.\n",
      "INFO     [merf.py:307] Training GLL is 699.0191130537721 at iteration 5.\n",
      "INFO     [merf.py:307] Training GLL is 697.3897950927472 at iteration 6.\n",
      "INFO     [merf.py:307] Training GLL is 698.0256248734851 at iteration 7.\n",
      "INFO     [merf.py:307] Training GLL is 697.0287486178821 at iteration 8.\n",
      "INFO     [merf.py:307] Training GLL is 694.5908424792635 at iteration 9.\n",
      "INFO     [merf.py:307] Training GLL is 688.4422125199399 at iteration 10.\n"
     ]
    },
    {
     "name": "stdout",
     "output_type": "stream",
     "text": [
      "Combination, ptev: -0.2109, prev: 1.2109, OOB Score: 37.4000\n"
     ]
    },
    {
     "name": "stderr",
     "output_type": "stream",
     "text": [
      "INFO     [merf.py:307] Training GLL is 655.0850934357157 at iteration 1.\n",
      "INFO     [merf.py:307] Training GLL is 707.4072891793497 at iteration 2.\n",
      "INFO     [merf.py:307] Training GLL is 710.8464801118722 at iteration 3.\n",
      "INFO     [merf.py:307] Training GLL is 707.761356945811 at iteration 4.\n",
      "INFO     [merf.py:307] Training GLL is 709.1967833528616 at iteration 5.\n",
      "INFO     [merf.py:307] Training GLL is 707.3046710216698 at iteration 6.\n",
      "INFO     [merf.py:307] Training GLL is 707.4132144031403 at iteration 7.\n",
      "INFO     [merf.py:307] Training GLL is 707.0710428144018 at iteration 8.\n",
      "INFO     [merf.py:307] Training GLL is 707.3781947852441 at iteration 9.\n",
      "INFO     [merf.py:307] Training GLL is 707.1544984242502 at iteration 10.\n"
     ]
    },
    {
     "name": "stdout",
     "output_type": "stream",
     "text": [
      "Combination, ptev: -0.5104, prev: 1.5104, OOB Score: 37.0000\n"
     ]
    },
    {
     "name": "stderr",
     "output_type": "stream",
     "text": [
      "INFO     [merf.py:307] Training GLL is 680.2131681762049 at iteration 1.\n",
      "INFO     [merf.py:307] Training GLL is 726.2390943578941 at iteration 2.\n",
      "INFO     [merf.py:307] Training GLL is 720.4574261872914 at iteration 3.\n",
      "INFO     [merf.py:307] Training GLL is 716.8552409692844 at iteration 4.\n",
      "INFO     [merf.py:307] Training GLL is 712.2149139332788 at iteration 5.\n",
      "INFO     [merf.py:307] Training GLL is 707.5829213879001 at iteration 6.\n",
      "INFO     [merf.py:307] Training GLL is 708.2369904701004 at iteration 7.\n",
      "INFO     [merf.py:307] Training GLL is 701.5700644627723 at iteration 8.\n",
      "INFO     [merf.py:307] Training GLL is 699.3779491037751 at iteration 9.\n",
      "INFO     [merf.py:307] Training GLL is 696.9636186813033 at iteration 10.\n"
     ]
    },
    {
     "name": "stdout",
     "output_type": "stream",
     "text": [
      "Combination, ptev: -0.4208, prev: 1.4208, OOB Score: 32.0000\n",
      "Combination: (1000, None, 0.1, 2, 3)\n",
      "\n"
     ]
    },
    {
     "name": "stderr",
     "output_type": "stream",
     "text": [
      "INFO     [merf.py:307] Training GLL is 473.7180603345553 at iteration 1.\n",
      "INFO     [merf.py:307] Training GLL is 493.0030979064546 at iteration 2.\n"
     ]
    },
    {
     "name": "stdout",
     "output_type": "stream",
     "text": [
      "Combination, ptev: 0.0793, prev: 0.9207, OOB Score: 54.5000\n"
     ]
    },
    {
     "name": "stderr",
     "output_type": "stream",
     "text": [
      "INFO     [merf.py:307] Training GLL is 595.1572070476767 at iteration 1.\n",
      "INFO     [merf.py:307] Training GLL is 644.2084746637713 at iteration 2.\n"
     ]
    },
    {
     "name": "stdout",
     "output_type": "stream",
     "text": [
      "Combination, ptev: 0.1388, prev: 0.8612, OOB Score: 36.9000\n"
     ]
    },
    {
     "name": "stderr",
     "output_type": "stream",
     "text": [
      "INFO     [merf.py:307] Training GLL is 595.4263131334645 at iteration 1.\n",
      "INFO     [merf.py:307] Training GLL is 658.7124065526773 at iteration 2.\n"
     ]
    },
    {
     "name": "stdout",
     "output_type": "stream",
     "text": [
      "Combination, ptev: 0.0407, prev: 0.9593, OOB Score: 38.7000\n",
      "Combination: (1000, None, 0.1, 2, 5)\n",
      "\n"
     ]
    },
    {
     "name": "stderr",
     "output_type": "stream",
     "text": [
      "INFO     [merf.py:307] Training GLL is 665.3131704256683 at iteration 1.\n",
      "INFO     [merf.py:307] Training GLL is 689.3027950696378 at iteration 2.\n"
     ]
    },
    {
     "name": "stdout",
     "output_type": "stream",
     "text": [
      "Combination, ptev: 0.0221, prev: 0.9779, OOB Score: 40.0000\n"
     ]
    },
    {
     "name": "stderr",
     "output_type": "stream",
     "text": [
      "INFO     [merf.py:307] Training GLL is 681.1862300305258 at iteration 1.\n",
      "INFO     [merf.py:307] Training GLL is 716.8880975744873 at iteration 2.\n"
     ]
    },
    {
     "name": "stdout",
     "output_type": "stream",
     "text": [
      "Combination, ptev: -0.0241, prev: 1.0241, OOB Score: 43.8000\n"
     ]
    },
    {
     "name": "stderr",
     "output_type": "stream",
     "text": [
      "INFO     [merf.py:307] Training GLL is 686.9928071051863 at iteration 1.\n",
      "INFO     [merf.py:307] Training GLL is 732.663391582226 at iteration 2.\n"
     ]
    },
    {
     "name": "stdout",
     "output_type": "stream",
     "text": [
      "Combination, ptev: 0.0223, prev: 0.9777, OOB Score: 40.6000\n"
     ]
    },
    {
     "name": "stderr",
     "output_type": "stream",
     "text": [
      "INFO     [merf.py:307] Training GLL is 707.513170848226 at iteration 1.\n",
      "INFO     [merf.py:307] Training GLL is 739.7650467818253 at iteration 2.\n"
     ]
    },
    {
     "name": "stdout",
     "output_type": "stream",
     "text": [
      "Combination, ptev: 0.0859, prev: 0.9141, OOB Score: 37.8000\n"
     ]
    },
    {
     "name": "stderr",
     "output_type": "stream",
     "text": [
      "INFO     [merf.py:307] Training GLL is 711.1870025164369 at iteration 1.\n",
      "INFO     [merf.py:307] Training GLL is 765.0965469386554 at iteration 2.\n"
     ]
    },
    {
     "name": "stdout",
     "output_type": "stream",
     "text": [
      "Combination, ptev: -0.1785, prev: 1.1785, OOB Score: 39.1000\n",
      "Combination: (1000, None, 0.1, 2, 10)\n",
      "\n"
     ]
    },
    {
     "name": "stderr",
     "output_type": "stream",
     "text": [
      "INFO     [merf.py:307] Training GLL is 738.3888174134497 at iteration 1.\n",
      "INFO     [merf.py:307] Training GLL is 775.3005713464873 at iteration 2.\n"
     ]
    },
    {
     "name": "stdout",
     "output_type": "stream",
     "text": [
      "Combination, ptev: 0.1302, prev: 0.8698, OOB Score: 40.8000\n"
     ]
    },
    {
     "name": "stderr",
     "output_type": "stream",
     "text": [
      "INFO     [merf.py:307] Training GLL is 775.1509727387585 at iteration 1.\n",
      "INFO     [merf.py:307] Training GLL is 799.5267300107381 at iteration 2.\n"
     ]
    },
    {
     "name": "stdout",
     "output_type": "stream",
     "text": [
      "Combination, ptev: -0.0606, prev: 1.0606, OOB Score: 38.2000\n"
     ]
    },
    {
     "name": "stderr",
     "output_type": "stream",
     "text": [
      "INFO     [merf.py:307] Training GLL is 754.8191340505891 at iteration 1.\n",
      "INFO     [merf.py:307] Training GLL is 769.4275876893977 at iteration 2.\n"
     ]
    },
    {
     "name": "stdout",
     "output_type": "stream",
     "text": [
      "Combination, ptev: -0.0260, prev: 1.0260, OOB Score: 42.9000\n"
     ]
    },
    {
     "name": "stderr",
     "output_type": "stream",
     "text": [
      "INFO     [merf.py:307] Training GLL is 786.9701156118746 at iteration 1.\n",
      "INFO     [merf.py:307] Training GLL is 827.3487061271725 at iteration 2.\n"
     ]
    },
    {
     "name": "stdout",
     "output_type": "stream",
     "text": [
      "Combination, ptev: -0.1483, prev: 1.1483, OOB Score: 40.5000\n"
     ]
    },
    {
     "name": "stderr",
     "output_type": "stream",
     "text": [
      "INFO     [merf.py:307] Training GLL is 787.4449712568523 at iteration 1.\n",
      "INFO     [merf.py:307] Training GLL is 811.2212174739751 at iteration 2.\n"
     ]
    },
    {
     "name": "stdout",
     "output_type": "stream",
     "text": [
      "Combination, ptev: -0.0955, prev: 1.0955, OOB Score: 39.3000\n"
     ]
    },
    {
     "name": "stderr",
     "output_type": "stream",
     "text": [
      "INFO     [merf.py:307] Training GLL is 781.0753017177601 at iteration 1.\n",
      "INFO     [merf.py:307] Training GLL is 819.9106423106532 at iteration 2.\n"
     ]
    },
    {
     "name": "stdout",
     "output_type": "stream",
     "text": [
      "Combination, ptev: -0.0764, prev: 1.0764, OOB Score: 39.3000\n"
     ]
    },
    {
     "name": "stderr",
     "output_type": "stream",
     "text": [
      "INFO     [merf.py:307] Training GLL is 790.0736118305825 at iteration 1.\n",
      "INFO     [merf.py:307] Training GLL is 799.653553190243 at iteration 2.\n"
     ]
    },
    {
     "name": "stdout",
     "output_type": "stream",
     "text": [
      "Combination, ptev: -0.0066, prev: 1.0066, OOB Score: 34.0000\n"
     ]
    },
    {
     "name": "stderr",
     "output_type": "stream",
     "text": [
      "INFO     [merf.py:307] Training GLL is 796.09771126628 at iteration 1.\n",
      "INFO     [merf.py:307] Training GLL is 837.8747039805049 at iteration 2.\n"
     ]
    },
    {
     "name": "stdout",
     "output_type": "stream",
     "text": [
      "Combination, ptev: -0.2292, prev: 1.2292, OOB Score: 42.2000\n"
     ]
    },
    {
     "name": "stderr",
     "output_type": "stream",
     "text": [
      "INFO     [merf.py:307] Training GLL is 776.4196922424386 at iteration 1.\n",
      "INFO     [merf.py:307] Training GLL is 824.3474516432126 at iteration 2.\n"
     ]
    },
    {
     "name": "stdout",
     "output_type": "stream",
     "text": [
      "Combination, ptev: -0.5171, prev: 1.5171, OOB Score: 42.2000\n"
     ]
    },
    {
     "name": "stderr",
     "output_type": "stream",
     "text": [
      "INFO     [merf.py:307] Training GLL is 811.4993442466083 at iteration 1.\n",
      "INFO     [merf.py:307] Training GLL is 845.2452429455564 at iteration 2.\n"
     ]
    },
    {
     "name": "stdout",
     "output_type": "stream",
     "text": [
      "Combination, ptev: -0.4492, prev: 1.4492, OOB Score: 37.8000\n",
      "Combination: (1000, None, 0.1, 10, 3)\n",
      "\n"
     ]
    },
    {
     "name": "stderr",
     "output_type": "stream",
     "text": [
      "INFO     [merf.py:307] Training GLL is 477.6197881969739 at iteration 1.\n",
      "INFO     [merf.py:307] Training GLL is 492.5273420572662 at iteration 2.\n",
      "INFO     [merf.py:307] Training GLL is 484.7150898604074 at iteration 3.\n",
      "INFO     [merf.py:307] Training GLL is 480.79632194137645 at iteration 4.\n",
      "INFO     [merf.py:307] Training GLL is 479.15058818613113 at iteration 5.\n",
      "INFO     [merf.py:307] Training GLL is 472.73377976868596 at iteration 6.\n",
      "INFO     [merf.py:307] Training GLL is 467.4784186003615 at iteration 7.\n",
      "INFO     [merf.py:307] Training GLL is 467.5577306882548 at iteration 8.\n",
      "INFO     [merf.py:307] Training GLL is 464.4887629193166 at iteration 9.\n",
      "INFO     [merf.py:307] Training GLL is 463.6224239754068 at iteration 10.\n"
     ]
    },
    {
     "name": "stdout",
     "output_type": "stream",
     "text": [
      "Combination, ptev: 0.0890, prev: 0.9110, OOB Score: 49.5000\n"
     ]
    },
    {
     "name": "stderr",
     "output_type": "stream",
     "text": [
      "INFO     [merf.py:307] Training GLL is 593.1588358246422 at iteration 1.\n",
      "INFO     [merf.py:307] Training GLL is 641.5128649067044 at iteration 2.\n",
      "INFO     [merf.py:307] Training GLL is 643.9638504813084 at iteration 3.\n",
      "INFO     [merf.py:307] Training GLL is 641.4298536645722 at iteration 4.\n",
      "INFO     [merf.py:307] Training GLL is 638.3271481991068 at iteration 5.\n",
      "INFO     [merf.py:307] Training GLL is 639.3051643035361 at iteration 6.\n",
      "INFO     [merf.py:307] Training GLL is 639.15139997794 at iteration 7.\n",
      "INFO     [merf.py:307] Training GLL is 635.5314842142186 at iteration 8.\n",
      "INFO     [merf.py:307] Training GLL is 635.9050835931747 at iteration 9.\n",
      "INFO     [merf.py:307] Training GLL is 630.4225002831931 at iteration 10.\n"
     ]
    },
    {
     "name": "stdout",
     "output_type": "stream",
     "text": [
      "Combination, ptev: 0.1649, prev: 0.8351, OOB Score: 33.6000\n"
     ]
    },
    {
     "name": "stderr",
     "output_type": "stream",
     "text": [
      "INFO     [merf.py:307] Training GLL is 593.8475411527653 at iteration 1.\n",
      "INFO     [merf.py:307] Training GLL is 661.6536720313205 at iteration 2.\n",
      "INFO     [merf.py:307] Training GLL is 669.2667576660579 at iteration 3.\n",
      "INFO     [merf.py:307] Training GLL is 672.5045527818569 at iteration 4.\n",
      "INFO     [merf.py:307] Training GLL is 673.6971894095531 at iteration 5.\n",
      "INFO     [merf.py:307] Training GLL is 675.3606424071612 at iteration 6.\n",
      "INFO     [merf.py:307] Training GLL is 677.7900925444096 at iteration 7.\n",
      "INFO     [merf.py:307] Training GLL is 682.3539161342536 at iteration 8.\n",
      "INFO     [merf.py:307] Training GLL is 680.9369022148971 at iteration 9.\n",
      "INFO     [merf.py:307] Training GLL is 683.366269353891 at iteration 10.\n"
     ]
    },
    {
     "name": "stdout",
     "output_type": "stream",
     "text": [
      "Combination, ptev: 0.0404, prev: 0.9596, OOB Score: 41.9000\n",
      "Combination: (1000, None, 0.1, 10, 5)\n",
      "\n"
     ]
    },
    {
     "name": "stderr",
     "output_type": "stream",
     "text": [
      "INFO     [merf.py:307] Training GLL is 665.1771149481798 at iteration 1.\n",
      "INFO     [merf.py:307] Training GLL is 692.6454400401975 at iteration 2.\n",
      "INFO     [merf.py:307] Training GLL is 679.4660392959987 at iteration 3.\n",
      "INFO     [merf.py:307] Training GLL is 671.7561300778423 at iteration 4.\n",
      "INFO     [merf.py:307] Training GLL is 664.2459162011845 at iteration 5.\n",
      "INFO     [merf.py:307] Training GLL is 659.3914178019654 at iteration 6.\n",
      "INFO     [merf.py:307] Training GLL is 652.5258096497165 at iteration 7.\n",
      "INFO     [merf.py:307] Training GLL is 648.6490651762721 at iteration 8.\n",
      "INFO     [merf.py:307] Training GLL is 646.1144569321643 at iteration 9.\n",
      "INFO     [merf.py:307] Training GLL is 641.1986969066461 at iteration 10.\n"
     ]
    },
    {
     "name": "stdout",
     "output_type": "stream",
     "text": [
      "Combination, ptev: 0.0275, prev: 0.9725, OOB Score: 35.7000\n"
     ]
    },
    {
     "name": "stderr",
     "output_type": "stream",
     "text": [
      "INFO     [merf.py:307] Training GLL is 676.8569906244662 at iteration 1.\n",
      "INFO     [merf.py:307] Training GLL is 718.6113772377144 at iteration 2.\n",
      "INFO     [merf.py:307] Training GLL is 720.0383565278473 at iteration 3.\n",
      "INFO     [merf.py:307] Training GLL is 712.8600279589862 at iteration 4.\n",
      "INFO     [merf.py:307] Training GLL is 713.9702312722137 at iteration 5.\n",
      "INFO     [merf.py:307] Training GLL is 711.2443672247367 at iteration 6.\n",
      "INFO     [merf.py:307] Training GLL is 711.8449625775606 at iteration 7.\n",
      "INFO     [merf.py:307] Training GLL is 711.6070137883444 at iteration 8.\n",
      "INFO     [merf.py:307] Training GLL is 713.7639867023673 at iteration 9.\n",
      "INFO     [merf.py:307] Training GLL is 709.2580537833012 at iteration 10.\n"
     ]
    },
    {
     "name": "stdout",
     "output_type": "stream",
     "text": [
      "Combination, ptev: -0.0024, prev: 1.0024, OOB Score: 40.3000\n"
     ]
    },
    {
     "name": "stderr",
     "output_type": "stream",
     "text": [
      "INFO     [merf.py:307] Training GLL is 685.8452836044339 at iteration 1.\n",
      "INFO     [merf.py:307] Training GLL is 730.9405611883743 at iteration 2.\n",
      "INFO     [merf.py:307] Training GLL is 728.28725870708 at iteration 3.\n",
      "INFO     [merf.py:307] Training GLL is 722.8412280649209 at iteration 4.\n",
      "INFO     [merf.py:307] Training GLL is 719.5895131950506 at iteration 5.\n",
      "INFO     [merf.py:307] Training GLL is 713.7400176117816 at iteration 6.\n",
      "INFO     [merf.py:307] Training GLL is 713.0860765911046 at iteration 7.\n",
      "INFO     [merf.py:307] Training GLL is 709.0264156856614 at iteration 8.\n",
      "INFO     [merf.py:307] Training GLL is 706.2286124939383 at iteration 9.\n",
      "INFO     [merf.py:307] Training GLL is 702.679612218866 at iteration 10.\n"
     ]
    },
    {
     "name": "stdout",
     "output_type": "stream",
     "text": [
      "Combination, ptev: 0.0553, prev: 0.9447, OOB Score: 36.8000\n"
     ]
    },
    {
     "name": "stderr",
     "output_type": "stream",
     "text": [
      "INFO     [merf.py:307] Training GLL is 710.1001288779293 at iteration 1.\n",
      "INFO     [merf.py:307] Training GLL is 740.5377656103592 at iteration 2.\n",
      "INFO     [merf.py:307] Training GLL is 731.079435698111 at iteration 3.\n",
      "INFO     [merf.py:307] Training GLL is 724.6867891833648 at iteration 4.\n",
      "INFO     [merf.py:307] Training GLL is 716.5209551489093 at iteration 5.\n",
      "INFO     [merf.py:307] Training GLL is 713.2700327886371 at iteration 6.\n",
      "INFO     [merf.py:307] Training GLL is 707.8860948213106 at iteration 7.\n",
      "INFO     [merf.py:307] Training GLL is 702.8335526076278 at iteration 8.\n",
      "INFO     [merf.py:307] Training GLL is 698.467900585603 at iteration 9.\n",
      "INFO     [merf.py:307] Training GLL is 693.3641778377754 at iteration 10.\n"
     ]
    },
    {
     "name": "stdout",
     "output_type": "stream",
     "text": [
      "Combination, ptev: 0.1056, prev: 0.8944, OOB Score: 33.4000\n"
     ]
    },
    {
     "name": "stderr",
     "output_type": "stream",
     "text": [
      "INFO     [merf.py:307] Training GLL is 709.4127790579523 at iteration 1.\n",
      "INFO     [merf.py:307] Training GLL is 763.5885365013182 at iteration 2.\n",
      "INFO     [merf.py:307] Training GLL is 770.5463861947217 at iteration 3.\n",
      "INFO     [merf.py:307] Training GLL is 771.3457574533392 at iteration 4.\n",
      "INFO     [merf.py:307] Training GLL is 770.6679800357924 at iteration 5.\n",
      "INFO     [merf.py:307] Training GLL is 771.3831554199696 at iteration 6.\n",
      "INFO     [merf.py:307] Training GLL is 769.0709181056079 at iteration 7.\n",
      "INFO     [merf.py:307] Training GLL is 770.7666484830123 at iteration 8.\n",
      "INFO     [merf.py:307] Training GLL is 770.6628445779444 at iteration 9.\n",
      "INFO     [merf.py:307] Training GLL is 770.9743038016554 at iteration 10.\n"
     ]
    },
    {
     "name": "stdout",
     "output_type": "stream",
     "text": [
      "Combination, ptev: -0.1540, prev: 1.1540, OOB Score: 38.3000\n",
      "Combination: (1000, None, 0.1, 10, 10)\n",
      "\n"
     ]
    },
    {
     "name": "stderr",
     "output_type": "stream",
     "text": [
      "INFO     [merf.py:307] Training GLL is 743.2365859462471 at iteration 1.\n",
      "INFO     [merf.py:307] Training GLL is 772.5832987110119 at iteration 2.\n",
      "INFO     [merf.py:307] Training GLL is 766.3064977948634 at iteration 3.\n",
      "INFO     [merf.py:307] Training GLL is 762.2454590797508 at iteration 4.\n",
      "INFO     [merf.py:307] Training GLL is 755.3636654268564 at iteration 5.\n",
      "INFO     [merf.py:307] Training GLL is 748.1260557027847 at iteration 6.\n",
      "INFO     [merf.py:307] Training GLL is 745.4798399408004 at iteration 7.\n",
      "INFO     [merf.py:307] Training GLL is 738.8182320348878 at iteration 8.\n",
      "INFO     [merf.py:307] Training GLL is 741.7683682709318 at iteration 9.\n",
      "INFO     [merf.py:307] Training GLL is 737.7372064650732 at iteration 10.\n"
     ]
    },
    {
     "name": "stdout",
     "output_type": "stream",
     "text": [
      "Combination, ptev: 0.1160, prev: 0.8840, OOB Score: 37.2000\n"
     ]
    },
    {
     "name": "stderr",
     "output_type": "stream",
     "text": [
      "INFO     [merf.py:307] Training GLL is 775.0495657198719 at iteration 1.\n",
      "INFO     [merf.py:307] Training GLL is 795.8927826587168 at iteration 2.\n",
      "INFO     [merf.py:307] Training GLL is 788.9588365688173 at iteration 3.\n",
      "INFO     [merf.py:307] Training GLL is 778.4394417882575 at iteration 4.\n",
      "INFO     [merf.py:307] Training GLL is 768.741541601367 at iteration 5.\n",
      "INFO     [merf.py:307] Training GLL is 764.5658670440487 at iteration 6.\n",
      "INFO     [merf.py:307] Training GLL is 760.6613340095323 at iteration 7.\n",
      "INFO     [merf.py:307] Training GLL is 750.9716422227056 at iteration 8.\n",
      "INFO     [merf.py:307] Training GLL is 750.1393174204115 at iteration 9.\n",
      "INFO     [merf.py:307] Training GLL is 744.5659946467115 at iteration 10.\n"
     ]
    },
    {
     "name": "stdout",
     "output_type": "stream",
     "text": [
      "Combination, ptev: -0.0324, prev: 1.0324, OOB Score: 32.0000\n"
     ]
    },
    {
     "name": "stderr",
     "output_type": "stream",
     "text": [
      "INFO     [merf.py:307] Training GLL is 756.0774290671786 at iteration 1.\n",
      "INFO     [merf.py:307] Training GLL is 768.2516617757558 at iteration 2.\n",
      "INFO     [merf.py:307] Training GLL is 760.3197560905072 at iteration 3.\n",
      "INFO     [merf.py:307] Training GLL is 746.4128028806924 at iteration 4.\n",
      "INFO     [merf.py:307] Training GLL is 745.5768100434705 at iteration 5.\n",
      "INFO     [merf.py:307] Training GLL is 735.390826248027 at iteration 6.\n",
      "INFO     [merf.py:307] Training GLL is 732.8473901085472 at iteration 7.\n",
      "INFO     [merf.py:307] Training GLL is 727.9865702625406 at iteration 8.\n",
      "INFO     [merf.py:307] Training GLL is 724.2614860616379 at iteration 9.\n",
      "INFO     [merf.py:307] Training GLL is 715.796269938401 at iteration 10.\n"
     ]
    },
    {
     "name": "stdout",
     "output_type": "stream",
     "text": [
      "Combination, ptev: -0.0073, prev: 1.0073, OOB Score: 38.7000\n"
     ]
    },
    {
     "name": "stderr",
     "output_type": "stream",
     "text": [
      "INFO     [merf.py:307] Training GLL is 783.0523999451087 at iteration 1.\n",
      "INFO     [merf.py:307] Training GLL is 827.4860900577391 at iteration 2.\n",
      "INFO     [merf.py:307] Training GLL is 823.8307751384576 at iteration 3.\n",
      "INFO     [merf.py:307] Training GLL is 823.5054249048685 at iteration 4.\n",
      "INFO     [merf.py:307] Training GLL is 820.1152985797637 at iteration 5.\n",
      "INFO     [merf.py:307] Training GLL is 819.2704847642648 at iteration 6.\n",
      "INFO     [merf.py:307] Training GLL is 814.8534099912921 at iteration 7.\n",
      "INFO     [merf.py:307] Training GLL is 812.5385400638432 at iteration 8.\n",
      "INFO     [merf.py:307] Training GLL is 809.9832604162584 at iteration 9.\n",
      "INFO     [merf.py:307] Training GLL is 808.2996236772195 at iteration 10.\n"
     ]
    },
    {
     "name": "stdout",
     "output_type": "stream",
     "text": [
      "Combination, ptev: -0.1056, prev: 1.1056, OOB Score: 37.8000\n"
     ]
    },
    {
     "name": "stderr",
     "output_type": "stream",
     "text": [
      "INFO     [merf.py:307] Training GLL is 787.516101248486 at iteration 1.\n",
      "INFO     [merf.py:307] Training GLL is 812.488182984495 at iteration 2.\n",
      "INFO     [merf.py:307] Training GLL is 798.9568669683026 at iteration 3.\n",
      "INFO     [merf.py:307] Training GLL is 785.0074060235602 at iteration 4.\n",
      "INFO     [merf.py:307] Training GLL is 780.7101069065549 at iteration 5.\n",
      "INFO     [merf.py:307] Training GLL is 771.5039920099144 at iteration 6.\n",
      "INFO     [merf.py:307] Training GLL is 772.2232647894247 at iteration 7.\n",
      "INFO     [merf.py:307] Training GLL is 767.6586656363761 at iteration 8.\n",
      "INFO     [merf.py:307] Training GLL is 767.3854087548365 at iteration 9.\n",
      "INFO     [merf.py:307] Training GLL is 755.897291928512 at iteration 10.\n"
     ]
    },
    {
     "name": "stdout",
     "output_type": "stream",
     "text": [
      "Combination, ptev: -0.0611, prev: 1.0611, OOB Score: 34.3000\n"
     ]
    },
    {
     "name": "stderr",
     "output_type": "stream",
     "text": [
      "INFO     [merf.py:307] Training GLL is 781.0462681087351 at iteration 1.\n",
      "INFO     [merf.py:307] Training GLL is 823.6854931502238 at iteration 2.\n",
      "INFO     [merf.py:307] Training GLL is 821.5435342829342 at iteration 3.\n",
      "INFO     [merf.py:307] Training GLL is 813.9030595777831 at iteration 4.\n",
      "INFO     [merf.py:307] Training GLL is 807.7545152269884 at iteration 5.\n",
      "INFO     [merf.py:307] Training GLL is 802.4828385372576 at iteration 6.\n",
      "INFO     [merf.py:307] Training GLL is 798.3537048761199 at iteration 7.\n",
      "INFO     [merf.py:307] Training GLL is 799.8460495220945 at iteration 8.\n",
      "INFO     [merf.py:307] Training GLL is 791.3437926455315 at iteration 9.\n",
      "INFO     [merf.py:307] Training GLL is 790.2955150134864 at iteration 10.\n"
     ]
    },
    {
     "name": "stdout",
     "output_type": "stream",
     "text": [
      "Combination, ptev: -0.0475, prev: 1.0475, OOB Score: 36.2000\n"
     ]
    },
    {
     "name": "stderr",
     "output_type": "stream",
     "text": [
      "INFO     [merf.py:307] Training GLL is 788.1719543497159 at iteration 1.\n",
      "INFO     [merf.py:307] Training GLL is 802.9052109329224 at iteration 2.\n",
      "INFO     [merf.py:307] Training GLL is 788.1175961142128 at iteration 3.\n",
      "INFO     [merf.py:307] Training GLL is 776.7238917848921 at iteration 4.\n",
      "INFO     [merf.py:307] Training GLL is 768.7266341483933 at iteration 5.\n",
      "INFO     [merf.py:307] Training GLL is 761.6064340826416 at iteration 6.\n",
      "INFO     [merf.py:307] Training GLL is 757.6434159145881 at iteration 7.\n",
      "INFO     [merf.py:307] Training GLL is 751.4937061682006 at iteration 8.\n",
      "INFO     [merf.py:307] Training GLL is 748.4058479972382 at iteration 9.\n",
      "INFO     [merf.py:307] Training GLL is 740.4210270172798 at iteration 10.\n"
     ]
    },
    {
     "name": "stdout",
     "output_type": "stream",
     "text": [
      "Combination, ptev: 0.0121, prev: 0.9879, OOB Score: 29.9000\n"
     ]
    },
    {
     "name": "stderr",
     "output_type": "stream",
     "text": [
      "INFO     [merf.py:307] Training GLL is 797.1330904762377 at iteration 1.\n",
      "INFO     [merf.py:307] Training GLL is 834.8447114782533 at iteration 2.\n",
      "INFO     [merf.py:307] Training GLL is 832.2464532054677 at iteration 3.\n",
      "INFO     [merf.py:307] Training GLL is 827.0937516000636 at iteration 4.\n",
      "INFO     [merf.py:307] Training GLL is 818.7243216430321 at iteration 5.\n",
      "INFO     [merf.py:307] Training GLL is 812.2806143526177 at iteration 6.\n",
      "INFO     [merf.py:307] Training GLL is 807.09531542832 at iteration 7.\n",
      "INFO     [merf.py:307] Training GLL is 804.9554345750126 at iteration 8.\n",
      "INFO     [merf.py:307] Training GLL is 803.1451184616899 at iteration 9.\n",
      "INFO     [merf.py:307] Training GLL is 797.085251636626 at iteration 10.\n"
     ]
    },
    {
     "name": "stdout",
     "output_type": "stream",
     "text": [
      "Combination, ptev: -0.1855, prev: 1.1855, OOB Score: 38.3000\n"
     ]
    },
    {
     "name": "stderr",
     "output_type": "stream",
     "text": [
      "INFO     [merf.py:307] Training GLL is 776.1631902330657 at iteration 1.\n",
      "INFO     [merf.py:307] Training GLL is 827.5449136130323 at iteration 2.\n",
      "INFO     [merf.py:307] Training GLL is 830.3640753566384 at iteration 3.\n",
      "INFO     [merf.py:307] Training GLL is 829.4710849570399 at iteration 4.\n",
      "INFO     [merf.py:307] Training GLL is 829.7398315571204 at iteration 5.\n",
      "INFO     [merf.py:307] Training GLL is 822.7039354718959 at iteration 6.\n",
      "INFO     [merf.py:307] Training GLL is 822.4263986288667 at iteration 7.\n",
      "INFO     [merf.py:307] Training GLL is 826.1073510011923 at iteration 8.\n",
      "INFO     [merf.py:307] Training GLL is 824.7179649818562 at iteration 9.\n",
      "INFO     [merf.py:307] Training GLL is 822.9114401171498 at iteration 10.\n"
     ]
    },
    {
     "name": "stdout",
     "output_type": "stream",
     "text": [
      "Combination, ptev: -0.4560, prev: 1.4560, OOB Score: 40.7000\n"
     ]
    },
    {
     "name": "stderr",
     "output_type": "stream",
     "text": [
      "INFO     [merf.py:307] Training GLL is 812.0235666890726 at iteration 1.\n",
      "INFO     [merf.py:307] Training GLL is 848.168822618696 at iteration 2.\n",
      "INFO     [merf.py:307] Training GLL is 835.5603382726305 at iteration 3.\n",
      "INFO     [merf.py:307] Training GLL is 829.358417338393 at iteration 4.\n",
      "INFO     [merf.py:307] Training GLL is 820.1657254626524 at iteration 5.\n",
      "INFO     [merf.py:307] Training GLL is 816.5013121047851 at iteration 6.\n",
      "INFO     [merf.py:307] Training GLL is 812.7594476606469 at iteration 7.\n",
      "INFO     [merf.py:307] Training GLL is 805.3038241724685 at iteration 8.\n",
      "INFO     [merf.py:307] Training GLL is 802.9441802816649 at iteration 9.\n",
      "INFO     [merf.py:307] Training GLL is 799.450328100312 at iteration 10.\n"
     ]
    },
    {
     "name": "stdout",
     "output_type": "stream",
     "text": [
      "Combination, ptev: -0.3722, prev: 1.3722, OOB Score: 33.3000\n",
      "Combination: (1000, None, 0.15, 2, 3)\n",
      "\n"
     ]
    },
    {
     "name": "stderr",
     "output_type": "stream",
     "text": [
      "INFO     [merf.py:307] Training GLL is 542.6097710077767 at iteration 1.\n",
      "INFO     [merf.py:307] Training GLL is 562.8247800365247 at iteration 2.\n"
     ]
    },
    {
     "name": "stdout",
     "output_type": "stream",
     "text": [
      "Combination, ptev: 0.0271, prev: 0.9729, OOB Score: 51.4000\n"
     ]
    },
    {
     "name": "stderr",
     "output_type": "stream",
     "text": [
      "INFO     [merf.py:307] Training GLL is 667.8137273634327 at iteration 1.\n",
      "INFO     [merf.py:307] Training GLL is 709.095457284712 at iteration 2.\n"
     ]
    },
    {
     "name": "stdout",
     "output_type": "stream",
     "text": [
      "Combination, ptev: 0.1020, prev: 0.8980, OOB Score: 37.1000\n"
     ]
    },
    {
     "name": "stderr",
     "output_type": "stream",
     "text": [
      "INFO     [merf.py:307] Training GLL is 643.9621645540798 at iteration 1.\n",
      "INFO     [merf.py:307] Training GLL is 704.1778558432517 at iteration 2.\n"
     ]
    },
    {
     "name": "stdout",
     "output_type": "stream",
     "text": [
      "Combination, ptev: 0.0072, prev: 0.9928, OOB Score: 39.9000\n",
      "Combination: (1000, None, 0.15, 2, 5)\n",
      "\n"
     ]
    },
    {
     "name": "stderr",
     "output_type": "stream",
     "text": [
      "INFO     [merf.py:307] Training GLL is 735.6365873165296 at iteration 1.\n",
      "INFO     [merf.py:307] Training GLL is 746.7759616898319 at iteration 2.\n"
     ]
    },
    {
     "name": "stdout",
     "output_type": "stream",
     "text": [
      "Combination, ptev: -0.0128, prev: 1.0128, OOB Score: 39.8000\n"
     ]
    },
    {
     "name": "stderr",
     "output_type": "stream",
     "text": [
      "INFO     [merf.py:307] Training GLL is 746.0958157769338 at iteration 1.\n",
      "INFO     [merf.py:307] Training GLL is 779.0001787784205 at iteration 2.\n"
     ]
    },
    {
     "name": "stdout",
     "output_type": "stream",
     "text": [
      "Combination, ptev: -0.0841, prev: 1.0841, OOB Score: 43.5000\n"
     ]
    },
    {
     "name": "stderr",
     "output_type": "stream",
     "text": [
      "INFO     [merf.py:307] Training GLL is 764.1590376809953 at iteration 1.\n",
      "INFO     [merf.py:307] Training GLL is 796.2667977002566 at iteration 2.\n"
     ]
    },
    {
     "name": "stdout",
     "output_type": "stream",
     "text": [
      "Combination, ptev: -0.0311, prev: 1.0311, OOB Score: 39.6000\n"
     ]
    },
    {
     "name": "stderr",
     "output_type": "stream",
     "text": [
      "INFO     [merf.py:307] Training GLL is 775.5971187714425 at iteration 1.\n",
      "INFO     [merf.py:307] Training GLL is 796.5447923264509 at iteration 2.\n"
     ]
    },
    {
     "name": "stdout",
     "output_type": "stream",
     "text": [
      "Combination, ptev: 0.0173, prev: 0.9827, OOB Score: 37.1000\n"
     ]
    },
    {
     "name": "stderr",
     "output_type": "stream",
     "text": [
      "INFO     [merf.py:307] Training GLL is 764.9306022118963 at iteration 1.\n",
      "INFO     [merf.py:307] Training GLL is 808.238314679883 at iteration 2.\n"
     ]
    },
    {
     "name": "stdout",
     "output_type": "stream",
     "text": [
      "Combination, ptev: -0.2484, prev: 1.2484, OOB Score: 40.3000\n",
      "Combination: (1000, None, 0.15, 2, 10)\n",
      "\n"
     ]
    },
    {
     "name": "stderr",
     "output_type": "stream",
     "text": [
      "INFO     [merf.py:307] Training GLL is 825.8048121050414 at iteration 1.\n",
      "INFO     [merf.py:307] Training GLL is 839.6343522925769 at iteration 2.\n"
     ]
    },
    {
     "name": "stdout",
     "output_type": "stream",
     "text": [
      "Combination, ptev: 0.1762, prev: 0.8238, OOB Score: 41.4000\n"
     ]
    },
    {
     "name": "stderr",
     "output_type": "stream",
     "text": [
      "INFO     [merf.py:307] Training GLL is 851.8937273108241 at iteration 1.\n",
      "INFO     [merf.py:307] Training GLL is 857.3425040139862 at iteration 2.\n"
     ]
    },
    {
     "name": "stdout",
     "output_type": "stream",
     "text": [
      "Combination, ptev: -0.0977, prev: 1.0977, OOB Score: 37.5000\n"
     ]
    },
    {
     "name": "stderr",
     "output_type": "stream",
     "text": [
      "INFO     [merf.py:307] Training GLL is 834.7213935982228 at iteration 1.\n",
      "INFO     [merf.py:307] Training GLL is 835.2555614891659 at iteration 2.\n"
     ]
    },
    {
     "name": "stdout",
     "output_type": "stream",
     "text": [
      "Combination, ptev: -0.0496, prev: 1.0496, OOB Score: 42.1000\n"
     ]
    },
    {
     "name": "stderr",
     "output_type": "stream",
     "text": [
      "INFO     [merf.py:307] Training GLL is 871.0425673472919 at iteration 1.\n",
      "INFO     [merf.py:307] Training GLL is 899.7215195039273 at iteration 2.\n"
     ]
    },
    {
     "name": "stdout",
     "output_type": "stream",
     "text": [
      "Combination, ptev: -0.2098, prev: 1.2098, OOB Score: 40.8000\n"
     ]
    },
    {
     "name": "stderr",
     "output_type": "stream",
     "text": [
      "INFO     [merf.py:307] Training GLL is 871.4034226401449 at iteration 1.\n",
      "INFO     [merf.py:307] Training GLL is 880.146052845709 at iteration 2.\n"
     ]
    },
    {
     "name": "stdout",
     "output_type": "stream",
     "text": [
      "Combination, ptev: -0.1527, prev: 1.1527, OOB Score: 38.4000\n"
     ]
    },
    {
     "name": "stderr",
     "output_type": "stream",
     "text": [
      "INFO     [merf.py:307] Training GLL is 841.1771521976233 at iteration 1.\n",
      "INFO     [merf.py:307] Training GLL is 872.4443546435566 at iteration 2.\n"
     ]
    },
    {
     "name": "stdout",
     "output_type": "stream",
     "text": [
      "Combination, ptev: -0.1265, prev: 1.1265, OOB Score: 38.1000\n"
     ]
    },
    {
     "name": "stderr",
     "output_type": "stream",
     "text": [
      "INFO     [merf.py:307] Training GLL is 873.0543039681085 at iteration 1.\n",
      "INFO     [merf.py:307] Training GLL is 873.4442045175795 at iteration 2.\n"
     ]
    },
    {
     "name": "stdout",
     "output_type": "stream",
     "text": [
      "Combination, ptev: -0.0652, prev: 1.0652, OOB Score: 33.3000\n"
     ]
    },
    {
     "name": "stderr",
     "output_type": "stream",
     "text": [
      "INFO     [merf.py:307] Training GLL is 858.1908516264141 at iteration 1.\n",
      "INFO     [merf.py:307] Training GLL is 887.4497564910919 at iteration 2.\n"
     ]
    },
    {
     "name": "stdout",
     "output_type": "stream",
     "text": [
      "Combination, ptev: -0.2544, prev: 1.2544, OOB Score: 42.2000\n"
     ]
    },
    {
     "name": "stderr",
     "output_type": "stream",
     "text": [
      "INFO     [merf.py:307] Training GLL is 829.6211787024783 at iteration 1.\n",
      "INFO     [merf.py:307] Training GLL is 865.2808865136623 at iteration 2.\n"
     ]
    },
    {
     "name": "stdout",
     "output_type": "stream",
     "text": [
      "Combination, ptev: -0.5310, prev: 1.5310, OOB Score: 42.5000\n"
     ]
    },
    {
     "name": "stderr",
     "output_type": "stream",
     "text": [
      "INFO     [merf.py:307] Training GLL is 876.8801949152755 at iteration 1.\n",
      "INFO     [merf.py:307] Training GLL is 898.5773306605785 at iteration 2.\n"
     ]
    },
    {
     "name": "stdout",
     "output_type": "stream",
     "text": [
      "Combination, ptev: -0.4798, prev: 1.4798, OOB Score: 38.1000\n",
      "Combination: (1000, None, 0.15, 10, 3)\n",
      "\n"
     ]
    },
    {
     "name": "stderr",
     "output_type": "stream",
     "text": [
      "INFO     [merf.py:307] Training GLL is 540.1501925546879 at iteration 1.\n",
      "INFO     [merf.py:307] Training GLL is 560.285111079774 at iteration 2.\n",
      "INFO     [merf.py:307] Training GLL is 558.8450090025353 at iteration 3.\n",
      "INFO     [merf.py:307] Training GLL is 551.5832423082951 at iteration 4.\n",
      "INFO     [merf.py:307] Training GLL is 547.9378794769264 at iteration 5.\n",
      "INFO     [merf.py:307] Training GLL is 543.0242171780408 at iteration 6.\n",
      "INFO     [merf.py:307] Training GLL is 541.3157346410236 at iteration 7.\n",
      "INFO     [merf.py:307] Training GLL is 535.3282367413578 at iteration 8.\n",
      "INFO     [merf.py:307] Training GLL is 530.9888984635598 at iteration 9.\n",
      "INFO     [merf.py:307] Training GLL is 529.2989981629775 at iteration 10.\n"
     ]
    },
    {
     "name": "stdout",
     "output_type": "stream",
     "text": [
      "Combination, ptev: 0.0488, prev: 0.9512, OOB Score: 44.7000\n"
     ]
    },
    {
     "name": "stderr",
     "output_type": "stream",
     "text": [
      "INFO     [merf.py:307] Training GLL is 661.7261171144551 at iteration 1.\n",
      "INFO     [merf.py:307] Training GLL is 707.1666575317125 at iteration 2.\n",
      "INFO     [merf.py:307] Training GLL is 711.8113526658595 at iteration 3.\n",
      "INFO     [merf.py:307] Training GLL is 707.1512262995506 at iteration 4.\n",
      "INFO     [merf.py:307] Training GLL is 702.0528845453803 at iteration 5.\n",
      "INFO     [merf.py:307] Training GLL is 703.6175888257956 at iteration 6.\n",
      "INFO     [merf.py:307] Training GLL is 701.0762554999828 at iteration 7.\n",
      "INFO     [merf.py:307] Training GLL is 698.3678594012364 at iteration 8.\n",
      "INFO     [merf.py:307] Training GLL is 696.7264946791388 at iteration 9.\n",
      "INFO     [merf.py:307] Training GLL is 694.089141444687 at iteration 10.\n"
     ]
    },
    {
     "name": "stdout",
     "output_type": "stream",
     "text": [
      "Combination, ptev: 0.1434, prev: 0.8566, OOB Score: 31.5000\n"
     ]
    },
    {
     "name": "stderr",
     "output_type": "stream",
     "text": [
      "INFO     [merf.py:307] Training GLL is 644.7601023352828 at iteration 1.\n",
      "INFO     [merf.py:307] Training GLL is 702.7905503460842 at iteration 2.\n",
      "INFO     [merf.py:307] Training GLL is 714.3740543992734 at iteration 3.\n",
      "INFO     [merf.py:307] Training GLL is 716.9825242828988 at iteration 4.\n",
      "INFO     [merf.py:307] Training GLL is 718.4797675277674 at iteration 5.\n",
      "INFO     [merf.py:307] Training GLL is 719.5878706109175 at iteration 6.\n",
      "INFO     [merf.py:307] Training GLL is 721.1472359511237 at iteration 7.\n",
      "INFO     [merf.py:307] Training GLL is 721.4823690381561 at iteration 8.\n",
      "INFO     [merf.py:307] Training GLL is 722.2420988619187 at iteration 9.\n",
      "INFO     [merf.py:307] Training GLL is 723.1061927553693 at iteration 10.\n"
     ]
    },
    {
     "name": "stdout",
     "output_type": "stream",
     "text": [
      "Combination, ptev: 0.0212, prev: 0.9788, OOB Score: 42.0000\n",
      "Combination: (1000, None, 0.15, 10, 5)\n",
      "\n"
     ]
    },
    {
     "name": "stderr",
     "output_type": "stream",
     "text": [
      "INFO     [merf.py:307] Training GLL is 737.3328321441768 at iteration 1.\n",
      "INFO     [merf.py:307] Training GLL is 746.158423078652 at iteration 2.\n",
      "INFO     [merf.py:307] Training GLL is 733.3007643423745 at iteration 3.\n",
      "INFO     [merf.py:307] Training GLL is 722.738238901386 at iteration 4.\n",
      "INFO     [merf.py:307] Training GLL is 715.908353256945 at iteration 5.\n",
      "INFO     [merf.py:307] Training GLL is 710.8676983982001 at iteration 6.\n",
      "INFO     [merf.py:307] Training GLL is 702.1026095713879 at iteration 7.\n",
      "INFO     [merf.py:307] Training GLL is 700.7315987299569 at iteration 8.\n",
      "INFO     [merf.py:307] Training GLL is 694.4873528660986 at iteration 9.\n",
      "INFO     [merf.py:307] Training GLL is 688.9531091238855 at iteration 10.\n"
     ]
    },
    {
     "name": "stdout",
     "output_type": "stream",
     "text": [
      "Combination, ptev: -0.0195, prev: 1.0195, OOB Score: 33.1000\n"
     ]
    },
    {
     "name": "stderr",
     "output_type": "stream",
     "text": [
      "INFO     [merf.py:307] Training GLL is 750.3510463850247 at iteration 1.\n",
      "INFO     [merf.py:307] Training GLL is 780.4325879474363 at iteration 2.\n",
      "INFO     [merf.py:307] Training GLL is 779.6878115164467 at iteration 3.\n",
      "INFO     [merf.py:307] Training GLL is 777.3922254441435 at iteration 4.\n",
      "INFO     [merf.py:307] Training GLL is 775.2171178536107 at iteration 5.\n",
      "INFO     [merf.py:307] Training GLL is 774.2266166296922 at iteration 6.\n",
      "INFO     [merf.py:307] Training GLL is 774.2005738499755 at iteration 7.\n",
      "INFO     [merf.py:307] Training GLL is 776.4789304044517 at iteration 8.\n",
      "INFO     [merf.py:307] Training GLL is 772.8719898400329 at iteration 9.\n",
      "INFO     [merf.py:307] Training GLL is 771.9057077158136 at iteration 10.\n"
     ]
    },
    {
     "name": "stdout",
     "output_type": "stream",
     "text": [
      "Combination, ptev: -0.0507, prev: 1.0507, OOB Score: 39.3000\n"
     ]
    },
    {
     "name": "stderr",
     "output_type": "stream",
     "text": [
      "INFO     [merf.py:307] Training GLL is 764.9468057133411 at iteration 1.\n",
      "INFO     [merf.py:307] Training GLL is 795.239175705133 at iteration 2.\n",
      "INFO     [merf.py:307] Training GLL is 790.4983969276179 at iteration 3.\n",
      "INFO     [merf.py:307] Training GLL is 785.821764135206 at iteration 4.\n",
      "INFO     [merf.py:307] Training GLL is 785.5940134142849 at iteration 5.\n",
      "INFO     [merf.py:307] Training GLL is 780.8357782580722 at iteration 6.\n",
      "INFO     [merf.py:307] Training GLL is 779.9456139869238 at iteration 7.\n",
      "INFO     [merf.py:307] Training GLL is 776.4703229161119 at iteration 8.\n",
      "INFO     [merf.py:307] Training GLL is 779.7611152360658 at iteration 9.\n",
      "INFO     [merf.py:307] Training GLL is 776.003336592598 at iteration 10.\n"
     ]
    },
    {
     "name": "stdout",
     "output_type": "stream",
     "text": [
      "Combination, ptev: 0.0035, prev: 0.9965, OOB Score: 36.4000\n"
     ]
    },
    {
     "name": "stderr",
     "output_type": "stream",
     "text": [
      "INFO     [merf.py:307] Training GLL is 777.9159104115082 at iteration 1.\n",
      "INFO     [merf.py:307] Training GLL is 792.9408444768627 at iteration 2.\n",
      "INFO     [merf.py:307] Training GLL is 780.4917607022564 at iteration 3.\n",
      "INFO     [merf.py:307] Training GLL is 771.3602082381822 at iteration 4.\n",
      "INFO     [merf.py:307] Training GLL is 765.4056260450617 at iteration 5.\n",
      "INFO     [merf.py:307] Training GLL is 762.2131831025032 at iteration 6.\n",
      "INFO     [merf.py:307] Training GLL is 758.5316498826426 at iteration 7.\n",
      "INFO     [merf.py:307] Training GLL is 752.2370950950599 at iteration 8.\n",
      "INFO     [merf.py:307] Training GLL is 746.0389626025018 at iteration 9.\n",
      "INFO     [merf.py:307] Training GLL is 741.6236574515221 at iteration 10.\n"
     ]
    },
    {
     "name": "stdout",
     "output_type": "stream",
     "text": [
      "Combination, ptev: 0.0518, prev: 0.9482, OOB Score: 32.6000\n"
     ]
    },
    {
     "name": "stderr",
     "output_type": "stream",
     "text": [
      "INFO     [merf.py:307] Training GLL is 765.3751500480879 at iteration 1.\n",
      "INFO     [merf.py:307] Training GLL is 807.3969589228067 at iteration 2.\n",
      "INFO     [merf.py:307] Training GLL is 811.0936847439905 at iteration 3.\n",
      "INFO     [merf.py:307] Training GLL is 808.3938866116475 at iteration 4.\n",
      "INFO     [merf.py:307] Training GLL is 804.6448215183598 at iteration 5.\n",
      "INFO     [merf.py:307] Training GLL is 802.9837218779059 at iteration 6.\n",
      "INFO     [merf.py:307] Training GLL is 801.9567556777514 at iteration 7.\n",
      "INFO     [merf.py:307] Training GLL is 800.8684223176697 at iteration 8.\n",
      "INFO     [merf.py:307] Training GLL is 799.5409435664587 at iteration 9.\n",
      "INFO     [merf.py:307] Training GLL is 796.9937331875976 at iteration 10.\n"
     ]
    },
    {
     "name": "stdout",
     "output_type": "stream",
     "text": [
      "Combination, ptev: -0.1715, prev: 1.1715, OOB Score: 37.6000\n",
      "Combination: (1000, None, 0.15, 10, 10)\n",
      "\n"
     ]
    },
    {
     "name": "stderr",
     "output_type": "stream",
     "text": [
      "INFO     [merf.py:307] Training GLL is 827.6286754051417 at iteration 1.\n",
      "INFO     [merf.py:307] Training GLL is 840.5610147272095 at iteration 2.\n",
      "INFO     [merf.py:307] Training GLL is 825.3310795511289 at iteration 3.\n",
      "INFO     [merf.py:307] Training GLL is 818.3737866263918 at iteration 4.\n",
      "INFO     [merf.py:307] Training GLL is 811.2403526828754 at iteration 5.\n",
      "INFO     [merf.py:307] Training GLL is 806.1972802765102 at iteration 6.\n",
      "INFO     [merf.py:307] Training GLL is 802.6976454974056 at iteration 7.\n",
      "INFO     [merf.py:307] Training GLL is 799.9448068834122 at iteration 8.\n",
      "INFO     [merf.py:307] Training GLL is 800.8069174186649 at iteration 9.\n",
      "INFO     [merf.py:307] Training GLL is 795.0432323148535 at iteration 10.\n"
     ]
    },
    {
     "name": "stdout",
     "output_type": "stream",
     "text": [
      "Combination, ptev: 0.1682, prev: 0.8318, OOB Score: 35.3000\n"
     ]
    },
    {
     "name": "stderr",
     "output_type": "stream",
     "text": [
      "INFO     [merf.py:307] Training GLL is 849.812900746409 at iteration 1.\n",
      "INFO     [merf.py:307] Training GLL is 857.7970170588272 at iteration 2.\n",
      "INFO     [merf.py:307] Training GLL is 845.8236784536774 at iteration 3.\n",
      "INFO     [merf.py:307] Training GLL is 835.3213285419686 at iteration 4.\n",
      "INFO     [merf.py:307] Training GLL is 825.7189109565633 at iteration 5.\n",
      "INFO     [merf.py:307] Training GLL is 818.9612919791691 at iteration 6.\n",
      "INFO     [merf.py:307] Training GLL is 810.7476433783122 at iteration 7.\n",
      "INFO     [merf.py:307] Training GLL is 807.8969330699429 at iteration 8.\n",
      "INFO     [merf.py:307] Training GLL is 803.5534924995133 at iteration 9.\n",
      "INFO     [merf.py:307] Training GLL is 797.7579100019049 at iteration 10.\n"
     ]
    },
    {
     "name": "stdout",
     "output_type": "stream",
     "text": [
      "Combination, ptev: -0.0501, prev: 1.0501, OOB Score: 31.5000\n"
     ]
    },
    {
     "name": "stderr",
     "output_type": "stream",
     "text": [
      "INFO     [merf.py:307] Training GLL is 830.893614164988 at iteration 1.\n",
      "INFO     [merf.py:307] Training GLL is 832.1522977737766 at iteration 2.\n",
      "INFO     [merf.py:307] Training GLL is 821.6384258906988 at iteration 3.\n",
      "INFO     [merf.py:307] Training GLL is 817.536788565066 at iteration 4.\n",
      "INFO     [merf.py:307] Training GLL is 810.9614929010054 at iteration 5.\n",
      "INFO     [merf.py:307] Training GLL is 803.1039270921403 at iteration 6.\n",
      "INFO     [merf.py:307] Training GLL is 800.613026396788 at iteration 7.\n",
      "INFO     [merf.py:307] Training GLL is 795.4213023087007 at iteration 8.\n",
      "INFO     [merf.py:307] Training GLL is 796.0083670981576 at iteration 9.\n",
      "INFO     [merf.py:307] Training GLL is 795.0025812093006 at iteration 10.\n"
     ]
    },
    {
     "name": "stdout",
     "output_type": "stream",
     "text": [
      "Combination, ptev: -0.0169, prev: 1.0169, OOB Score: 35.9000\n"
     ]
    },
    {
     "name": "stderr",
     "output_type": "stream",
     "text": [
      "INFO     [merf.py:307] Training GLL is 869.5252015693477 at iteration 1.\n",
      "INFO     [merf.py:307] Training GLL is 897.1713594570457 at iteration 2.\n",
      "INFO     [merf.py:307] Training GLL is 895.5777519569098 at iteration 3.\n",
      "INFO     [merf.py:307] Training GLL is 894.5809621769694 at iteration 4.\n",
      "INFO     [merf.py:307] Training GLL is 892.9179863453613 at iteration 5.\n",
      "INFO     [merf.py:307] Training GLL is 890.3142605625654 at iteration 6.\n",
      "INFO     [merf.py:307] Training GLL is 892.7212072517817 at iteration 7.\n",
      "INFO     [merf.py:307] Training GLL is 890.5875930416292 at iteration 8.\n",
      "INFO     [merf.py:307] Training GLL is 885.8776667304568 at iteration 9.\n",
      "INFO     [merf.py:307] Training GLL is 884.5924038845309 at iteration 10.\n"
     ]
    },
    {
     "name": "stdout",
     "output_type": "stream",
     "text": [
      "Combination, ptev: -0.1210, prev: 1.1210, OOB Score: 37.0000\n"
     ]
    },
    {
     "name": "stderr",
     "output_type": "stream",
     "text": [
      "INFO     [merf.py:307] Training GLL is 873.484876479551 at iteration 1.\n",
      "INFO     [merf.py:307] Training GLL is 879.4348251419384 at iteration 2.\n",
      "INFO     [merf.py:307] Training GLL is 871.7967087407533 at iteration 3.\n",
      "INFO     [merf.py:307] Training GLL is 867.4698900316997 at iteration 4.\n",
      "INFO     [merf.py:307] Training GLL is 864.2855439899568 at iteration 5.\n",
      "INFO     [merf.py:307] Training GLL is 856.82861093441 at iteration 6.\n",
      "INFO     [merf.py:307] Training GLL is 855.0121733938776 at iteration 7.\n",
      "INFO     [merf.py:307] Training GLL is 850.46038911305 at iteration 8.\n",
      "INFO     [merf.py:307] Training GLL is 848.0118838350061 at iteration 9.\n",
      "INFO     [merf.py:307] Training GLL is 848.3862125877413 at iteration 10.\n"
     ]
    },
    {
     "name": "stdout",
     "output_type": "stream",
     "text": [
      "Combination, ptev: -0.0712, prev: 1.0712, OOB Score: 33.3000\n"
     ]
    },
    {
     "name": "stderr",
     "output_type": "stream",
     "text": [
      "INFO     [merf.py:307] Training GLL is 841.8419245950171 at iteration 1.\n",
      "INFO     [merf.py:307] Training GLL is 869.8783588904762 at iteration 2.\n",
      "INFO     [merf.py:307] Training GLL is 862.4146363031581 at iteration 3.\n",
      "INFO     [merf.py:307] Training GLL is 850.3379221478835 at iteration 4.\n",
      "INFO     [merf.py:307] Training GLL is 843.8102304700842 at iteration 5.\n",
      "INFO     [merf.py:307] Training GLL is 837.8772996424835 at iteration 6.\n",
      "INFO     [merf.py:307] Training GLL is 834.2765659192121 at iteration 7.\n",
      "INFO     [merf.py:307] Training GLL is 829.7832966863793 at iteration 8.\n",
      "INFO     [merf.py:307] Training GLL is 823.4404453480266 at iteration 9.\n",
      "INFO     [merf.py:307] Training GLL is 820.7864856839699 at iteration 10.\n"
     ]
    },
    {
     "name": "stdout",
     "output_type": "stream",
     "text": [
      "Combination, ptev: -0.0559, prev: 1.0559, OOB Score: 34.3000\n"
     ]
    },
    {
     "name": "stderr",
     "output_type": "stream",
     "text": [
      "INFO     [merf.py:307] Training GLL is 873.9183180703948 at iteration 1.\n",
      "INFO     [merf.py:307] Training GLL is 873.4001577197902 at iteration 2.\n",
      "INFO     [merf.py:307] Training GLL is 861.3391044632986 at iteration 3.\n",
      "INFO     [merf.py:307] Training GLL is 853.8421812731782 at iteration 4.\n",
      "INFO     [merf.py:307] Training GLL is 848.3816167148103 at iteration 5.\n",
      "INFO     [merf.py:307] Training GLL is 844.9629048168117 at iteration 6.\n",
      "INFO     [merf.py:307] Training GLL is 836.868656526655 at iteration 7.\n",
      "INFO     [merf.py:307] Training GLL is 832.2403427570084 at iteration 8.\n",
      "INFO     [merf.py:307] Training GLL is 829.8026220304624 at iteration 9.\n",
      "INFO     [merf.py:307] Training GLL is 824.8294193922927 at iteration 10.\n"
     ]
    },
    {
     "name": "stdout",
     "output_type": "stream",
     "text": [
      "Combination, ptev: -0.0046, prev: 1.0046, OOB Score: 29.2000\n"
     ]
    },
    {
     "name": "stderr",
     "output_type": "stream",
     "text": [
      "INFO     [merf.py:307] Training GLL is 857.418816434915 at iteration 1.\n",
      "INFO     [merf.py:307] Training GLL is 885.8784177777607 at iteration 2.\n",
      "INFO     [merf.py:307] Training GLL is 878.9754695347963 at iteration 3.\n",
      "INFO     [merf.py:307] Training GLL is 867.0033303282358 at iteration 4.\n",
      "INFO     [merf.py:307] Training GLL is 861.9278262510857 at iteration 5.\n",
      "INFO     [merf.py:307] Training GLL is 855.3832528118057 at iteration 6.\n",
      "INFO     [merf.py:307] Training GLL is 851.4280512322114 at iteration 7.\n",
      "INFO     [merf.py:307] Training GLL is 846.7223650427788 at iteration 8.\n",
      "INFO     [merf.py:307] Training GLL is 840.9606224752274 at iteration 9.\n",
      "INFO     [merf.py:307] Training GLL is 837.5838882307075 at iteration 10.\n"
     ]
    },
    {
     "name": "stdout",
     "output_type": "stream",
     "text": [
      "Combination, ptev: -0.1912, prev: 1.1912, OOB Score: 37.2000\n"
     ]
    },
    {
     "name": "stderr",
     "output_type": "stream",
     "text": [
      "INFO     [merf.py:307] Training GLL is 833.9309260843281 at iteration 1.\n",
      "INFO     [merf.py:307] Training GLL is 869.8251822726584 at iteration 2.\n",
      "INFO     [merf.py:307] Training GLL is 865.6459891233609 at iteration 3.\n",
      "INFO     [merf.py:307] Training GLL is 859.6382872342782 at iteration 4.\n",
      "INFO     [merf.py:307] Training GLL is 855.925620898677 at iteration 5.\n",
      "INFO     [merf.py:307] Training GLL is 854.3288061880853 at iteration 6.\n",
      "INFO     [merf.py:307] Training GLL is 853.1740290962291 at iteration 7.\n",
      "INFO     [merf.py:307] Training GLL is 849.4865690001376 at iteration 8.\n",
      "INFO     [merf.py:307] Training GLL is 845.1124644203342 at iteration 9.\n",
      "INFO     [merf.py:307] Training GLL is 841.7978835439864 at iteration 10.\n"
     ]
    },
    {
     "name": "stdout",
     "output_type": "stream",
     "text": [
      "Combination, ptev: -0.4172, prev: 1.4172, OOB Score: 38.4000\n"
     ]
    },
    {
     "name": "stderr",
     "output_type": "stream",
     "text": [
      "INFO     [merf.py:307] Training GLL is 877.2464100189552 at iteration 1.\n",
      "INFO     [merf.py:307] Training GLL is 896.1545223025889 at iteration 2.\n",
      "INFO     [merf.py:307] Training GLL is 883.4538330380944 at iteration 3.\n",
      "INFO     [merf.py:307] Training GLL is 872.1948749100474 at iteration 4.\n",
      "INFO     [merf.py:307] Training GLL is 864.2411191483163 at iteration 5.\n",
      "INFO     [merf.py:307] Training GLL is 859.1011026823436 at iteration 6.\n",
      "INFO     [merf.py:307] Training GLL is 858.5735247657466 at iteration 7.\n",
      "INFO     [merf.py:307] Training GLL is 856.5680582802868 at iteration 8.\n",
      "INFO     [merf.py:307] Training GLL is 851.1076068926511 at iteration 9.\n",
      "INFO     [merf.py:307] Training GLL is 847.8135893523665 at iteration 10.\n"
     ]
    },
    {
     "name": "stdout",
     "output_type": "stream",
     "text": [
      "Combination, ptev: -0.3477, prev: 1.3477, OOB Score: 31.7000\n",
      "Best parameters: (500, None, 0.15, 10, 10)\n",
      "Best score: 36.02374002391879\n"
     ]
    }
   ],
   "source": [
    "print(\"---------- MERF with finetuning RE 🌱 ----------\")\n",
    "import itertools \n",
    "import pandas as pd\n",
    "\n",
    "print(\"---------- Select predictors for Basic Raw training set ----------\")\n",
    "train_set = train\n",
    "X = train_set.drop(['Weight', 'subject_id', 'range'], axis=1)\n",
    "print(f\"X dimensions: {X.shape}\")\n",
    "y = train_set[['Weight']]\n",
    "y = y['Weight'].to_numpy() # Convert Y to numeric array\n",
    "print(f\"y dimensions: {y.shape}\")\n",
    "clusters = train_set['subject_id'].to_numpy() # Get ID variables\n",
    "print(f\"clusters dimensions: {clusters.shape}\")\n",
    "z = np.ones((train_set.shape[0], 1)) # Create random effects matrix with ones\n",
    "print(f\"z dimensions: {z.shape}\")\n",
    "\n",
    "# Hyperparameters to tune\n",
    "param_grid = {\n",
    "    'n_estimators': [100, 500, 1000],\n",
    "    'max_depth': [None],\n",
    "    'min_samples_split': [0.05, 0.1, 0.15],\n",
    "    'max_iter': [2, 10],\n",
    "    'n_splits': [3, 5, 10]  # Added n_splits for cross-validation\n",
    "}\n",
    "\n",
    "best_score = float('inf')\n",
    "best_params = {}\n",
    "\n",
    "# Initialize a list to store the results of each iteration\n",
    "results = []\n",
    "\n",
    "# Loop through all possible combinations of parameters\n",
    "for params in itertools.product(*param_grid.values()):\n",
    "        n_estimators, max_depth, min_samples_split, max_iter, n_splits = params\n",
    "        print(f\"Combination: {params}\\n\")\n",
    "        scores = []\n",
    "        prev = []\n",
    "        ptev = []\n",
    "        oob_scores = []  # Initialize a list to store OOB scores\n",
    "\n",
    "        # K-fold cross-validation with variable n_splits\n",
    "        kf = KFold(n_splits=n_splits)\n",
    "        for train_index, test_index in kf.split(X):\n",
    "            X_train, X_test = X.iloc[train_index], X.iloc[test_index]  # Use .iloc for row selection\n",
    "            y_train, y_test = y[train_index], y[test_index]\n",
    "            clusters_train, clusters_test = clusters[train_index], pd.Series(clusters[test_index])\n",
    "            z_train, z_test = z[train_index], z[test_index]\n",
    "            model = MERF(\n",
    "                # Specify the fixed effects model as a Random Forest Regressor\n",
    "                fixed_effects_model=RandomForestRegressor(\n",
    "                    n_estimators=n_estimators,  # Number of trees in the forest\n",
    "                    max_depth=max_depth,  # Maximum depth of each tree\n",
    "                    min_samples_split=min_samples_split,  # Minimum samples required to split an internal node\n",
    "                    n_jobs=1,  # Number of jobs to run in parallel\n",
    "                    oob_score=True  # Whether to use out-of-bag samples to estimate the R^2 on unseen data\n",
    "                ),\n",
    "                # Generalized Linear Model (GLM) early stopping threshold\n",
    "                gll_early_stop_threshold=None,  # No early stopping threshold set\n",
    "                # Maximum number of iterations for the MERF algorithm\n",
    "                max_iterations=max_iter  # Maximum number of iterations to run the MERF algorithm\n",
    "            )\n",
    "            model.fit(X_train.select_dtypes(include=[np.number]), z_train, pd.Series(clusters_train), y_train)\n",
    "            y_pred = model.predict(X_test, z_test, clusters_test)\n",
    "            scores.append(np.mean((y_pred - y_test) ** 2)) # MSE\n",
    "            \n",
    "            # Calculate ptev and prev\n",
    "            total_variance = np.var(y_test) #calculates the total variance of the predicted values\n",
    "            random_effect_variance = np.var(y_test - y_pred)  # Variance of residuals\n",
    "            fixed_effect_variance = total_variance - random_effect_variance\n",
    "\n",
    "            ptev.append(np.mean(fixed_effect_variance / total_variance if total_variance > 0 else 0))\n",
    "            prev.append(np.mean(random_effect_variance / total_variance if total_variance > 0 else 0))\n",
    "\n",
    "            # Calculate OOB score\n",
    "            forest = model.trained_fe_model\n",
    "            oob_score = round(forest.oob_score_*100, 1)  # percent variation\n",
    "            oob_scores.append(oob_score)  # Append OOB score to the list\n",
    "\n",
    "            # Print ptev, prev, and OOB score for the current iteration\n",
    "            print(f\"Combination, ptev: {np.mean(ptev):.4f}, prev: {np.mean(prev):.4f}, OOB Score: {oob_score:.4f}\")\n",
    "\n",
    "        # Calculate the mean of the scores for the current combination of parameters\n",
    "        mean_score = np.mean(scores)\n",
    "        mean_prev = np.mean(prev)\n",
    "        mean_ptev = np.mean(ptev)\n",
    "        mean_oob_score = np.mean(oob_scores)  # Calculate the mean of OOB scores\n",
    "        if mean_score < best_score:\n",
    "            best_score = mean_score\n",
    "            best_params = params\n",
    "\n",
    "        # Append the results of the current iteration to the results list\n",
    "        # Create a result dictionary with individual scores and mean scores\n",
    "        result_dict = {\n",
    "            'n_estimators': n_estimators,\n",
    "            'max_depth': max_depth,\n",
    "            'min_samples_split': min_samples_split,\n",
    "            'max_iter': max_iter,\n",
    "            'n_splits': n_splits,  # Added n_splits to the result dictionary\n",
    "            'mse_score_1': scores[0] if len(scores) > 0 else None,\n",
    "            'mse_score_2': scores[1] if len(scores) > 1 else None,\n",
    "            'mse_score_3': scores[2] if len(scores) > 2 else None,\n",
    "            'mse_score_4': scores[3] if len(scores) > 3 else None,\n",
    "            'mse_score_5': scores[4] if len(scores) > 4 else None,\n",
    "            'mse_score_6': scores[5] if len(scores) > 5 else None,\n",
    "            'mse_score_7': scores[6] if len(scores) > 6 else None,\n",
    "            'mse_score_8': scores[7] if len(scores) > 7 else None,\n",
    "            'mse_score_9': scores[8] if len(scores) > 8 else None,\n",
    "            'mse_score_10': scores[9] if len(scores) > 9 else None,\n",
    "            'mean_mse_score': mean_score,\n",
    "            'prev_1': prev[0] if len(prev) > 0 else None,\n",
    "            'prev_2': prev[1] if len(prev) > 1 else None,\n",
    "            'prev_3': prev[2] if len(prev) > 2 else None,\n",
    "            'prev_4': prev[3] if len(prev) > 3 else None,\n",
    "            'prev_5': prev[4] if len(prev) > 4 else None,\n",
    "            'prev_6': prev[5] if len(prev) > 5 else None,\n",
    "            'prev_7': prev[6] if len(prev) > 6 else None,\n",
    "            'prev_8': prev[7] if len(prev) > 7 else None,\n",
    "            'prev_9': prev[8] if len(prev) > 8 else None,\n",
    "            'prev_10': prev[9] if len(prev) > 9 else None,\n",
    "            'mean_prev': mean_prev,\n",
    "            'ptev_1': ptev[0] if len(ptev) > 0 else None,\n",
    "            'ptev_2': ptev[1] if len(ptev) > 1 else None,\n",
    "            'ptev_3': ptev[2] if len(ptev) > 2 else None,\n",
    "            'ptev_4': ptev[3] if len(ptev) > 3 else None,\n",
    "            'ptev_5': ptev[4] if len(ptev) > 4 else None,\n",
    "            'ptev_6': ptev[5] if len(ptev) > 5 else None,\n",
    "            'ptev_7': ptev[6] if len(ptev) > 6 else None,\n",
    "            'ptev_8': ptev[7] if len(ptev) > 7 else None,\n",
    "            'ptev_9': ptev[8] if len(ptev) > 8 else None,\n",
    "            'ptev_10': ptev[9] if len(ptev) > 9 else None,\n",
    "            'mean_ptev': mean_ptev,\n",
    "            'oob_1': oob_scores[0] if len(oob_scores) > 0 else None,\n",
    "            'oob_2': oob_scores[1] if len(oob_scores) > 1 else None,\n",
    "            'oob_3': oob_scores[2] if len(oob_scores) > 2 else None,\n",
    "            'oob_4': oob_scores[3] if len(oob_scores) > 3 else None,\n",
    "            'oob_5': oob_scores[4] if len(oob_scores) > 4 else None,\n",
    "            'oob_6': oob_scores[5] if len(oob_scores) > 5 else None,\n",
    "            'oob_7': oob_scores[6] if len(oob_scores) > 6 else None,\n",
    "            'oob_8': oob_scores[7] if len(oob_scores) > 7 else None,\n",
    "            'oob_9': oob_scores[8] if len(oob_scores) > 8 else None,\n",
    "            'oob_10': oob_scores[9] if len(oob_scores) > 9 else None,\n",
    "            'oob_score': mean_oob_score\n",
    "        }\n",
    "        # Append the result dictionary to the results list\n",
    "        results.append(result_dict)\n",
    "\n",
    "print(\"Best parameters:\", best_params)\n",
    "print(\"Best score:\", best_score)\n",
    "\n",
    "# Convert the results list to a DataFrame and save it to a CSV file\n",
    "df_dir = \"/Users/emily/projects/research/Stanislawski/comps/mutli-omic-predictions/play_scripts/2.models/merf_python/merf_dfs/6.two_timepoints_deltas\"\n",
    "results_df = pd.DataFrame(results)\n",
    "results_df.to_csv(f'{df_dir}/Feb2_2times_omic_deltas_weight_remove_time_var_imputed_swapped.csv', index=False)"
   ]
  }
 ],
 "metadata": {
  "kernelspec": {
   "display_name": "researchVenv",
   "language": "python",
   "name": "python3"
  },
  "language_info": {
   "codemirror_mode": {
    "name": "ipython",
    "version": 3
   },
   "file_extension": ".py",
   "mimetype": "text/x-python",
   "name": "python",
   "nbconvert_exporter": "python",
   "pygments_lexer": "ipython3",
   "version": "3.13.0"
  }
 },
 "nbformat": 4,
 "nbformat_minor": 2
}
